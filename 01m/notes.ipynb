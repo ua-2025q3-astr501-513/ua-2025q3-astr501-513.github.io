{
 "cells": [
  {
   "cell_type": "markdown",
   "id": "07bf1028-c793-4cff-860b-0c3933939751",
   "metadata": {},
   "source": [
    "# Overview\n",
    "\n",
    "> All models are wrong, but some are useful.\n",
    "> <div style=\"text-align: right\">- George Box</div>"
   ]
  }
 ],
 "metadata": {
  "kernelspec": {
   "display_name": "Python 3 (ipykernel)",
   "language": "python",
   "name": "python3"
  },
  "language_info": {
   "codemirror_mode": {
    "name": "ipython",
    "version": 3
   },
   "file_extension": ".py",
   "mimetype": "text/x-python",
   "name": "python",
   "nbconvert_exporter": "python",
   "pygments_lexer": "ipython3",
   "version": "3.13.7"
  }
 },
 "nbformat": 4,
 "nbformat_minor": 5
}
