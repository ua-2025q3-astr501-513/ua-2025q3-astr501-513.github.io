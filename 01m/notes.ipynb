{
 "cells": [
  {
   "cell_type": "markdown",
   "id": "0",
   "metadata": {},
   "source": [
    "# Overview [![Open In Colab](https://colab.research.google.com/assets/colab-badge.svg)](https://colab.research.google.com/github/ua-2025q3-astr501-513/ua-2025q3-astr501-513.github.io/blob/main/01m/notes.ipynb)\n",
    "\n",
    "> All models are wrong, but some are useful.\n",
    "> <div style=\"text-align: right\">- George Box</div>"
   ]
  },
  {
   "cell_type": "markdown",
   "id": "1",
   "metadata": {},
   "source": [
    "Welcome to ASTR 513!\n",
    "\n",
    "This course provides an introduction to statistical and computational\n",
    "methods in astronomy and astrophysics for incoming graduate students.\n",
    "It covers the basics of programming in Python and C/C++, including\n",
    "fundamental concepts of computer hardware, commonly used statistical\n",
    "and numerical methods, software libraries for astronomical research,\n",
    "and selected topics in computer science and software engineering."
   ]
  },
  {
   "cell_type": "markdown",
   "id": "2",
   "metadata": {},
   "source": [
    "This course is recommended in conjunction with\n",
    "[ASTR 501 Introduction to Computing](https://catalog.arizona.edu/courses/0413111)."
   ]
  }
 ],
 "metadata": {
  "kernelspec": {
   "display_name": "Python 3 (ipykernel)",
   "language": "python",
   "name": "python3"
  },
  "language_info": {
   "codemirror_mode": {
    "name": "ipython",
    "version": 3
   },
   "file_extension": ".py",
   "mimetype": "text/x-python",
   "name": "python",
   "nbconvert_exporter": "python",
   "pygments_lexer": "ipython3",
   "version": "3.13.7"
  }
 },
 "nbformat": 4,
 "nbformat_minor": 5
}
