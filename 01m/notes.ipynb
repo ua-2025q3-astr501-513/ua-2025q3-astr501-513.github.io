{
 "cells": [
  {
   "cell_type": "markdown",
   "id": "0",
   "metadata": {},
   "source": [
    "# Overview [![Open In Colab](https://colab.research.google.com/assets/colab-badge.svg)](https://colab.research.google.com/github/ua-2025q3-astr501-513/ua-2025q3-astr501-513.github.io/blob/main/01m/notes.ipynb)\n",
    "\n",
    "> All models are wrong, but some are useful.\n",
    "> <div style=\"text-align: right\">- George Box</div>"
   ]
  },
  {
   "cell_type": "markdown",
   "id": "1",
   "metadata": {},
   "source": [
    "Welcome to ASTR 513!\n",
    "\n",
    "This course introduce basic computational methods for solving problems\n",
    "numerically in astrophysics and the foundations of modern statistical\n",
    "methods that are used in current research problems, with emphasis on\n",
    "big-data science.\n",
    "The topics will include basic scientific algorithms to solve integrals\n",
    "and simple differential equations frequently encountered in\n",
    "astrophysics, frequentist and Bayesian inference methods, non-linear\n",
    "regressions methods, modeling of data, Monte Carlo techniques, error\n",
    "estimation, and model selection."
   ]
  },
  {
   "cell_type": "markdown",
   "id": "2",
   "metadata": {},
   "source": [
    "The course website is: https://ua-2025q3-astr501-513.github.io.\n",
    "All lecture notes and links to homework will be posted here."
   ]
  },
  {
   "cell_type": "markdown",
   "id": "3",
   "metadata": {},
   "source": [
    "This course is recommended in conjunction with\n",
    "[ASTR 501 Introduction to Computing](https://catalog.arizona.edu/courses/0413111), which is every Tuesday 2-3:35pm.\n",
    "Feel free to sit-in if you just want to get more hands-on experience with scientific computing.\n",
    "\n",
    "Also, every Thursday 2-3:30pm, we will have the weekly [TAP](https://tap.arizona.edu/) [Computation & Data Initiative](https://tap.arizona.edu/initiatives/computation-data-initiative).\n",
    "Please feel free to stop by as well."
   ]
  },
  {
   "cell_type": "markdown",
   "id": "4",
   "metadata": {},
   "source": [
    "### Instructor and Contact Information\n",
    "\n",
    "**Instructor:** Chi-kwan Chan  \n",
    "**Email:** [chanc@arizona.edu](mailto:chanc@arizona.edu?subject=ASTR%20513) (please include \"ASTR 513\" in subjects of emails)  \n",
    "**Office:** Steward Observatory N332  \n",
    "**Office Hours:** TBD\n",
    "\n",
    "**Instructor:** Shuo Kong  \n",
    "**Email:** [shuokong@arizona.edu](mailto:shuokong@arizona.edu?subject=ASTR%20513) (please include \"ASTR 513\" in subjects of emails)  \n",
    "**Office:** Steward Observatory N328  \n",
    "**Office Hours:** TBD"
   ]
  },
  {
   "cell_type": "markdown",
   "id": "5",
   "metadata": {},
   "source": [
    "## Science Paradigms\n",
    "\n",
    "1. Empirical evidence\n",
    "2. Scientific theory\n",
    "3. [Computational science](https://www.nitrd.gov/pubs/pitac/pitac_report_computational-science_2005.pdf)\n",
    "4. [Data science](https://www.microsoft.com/en-us/research/publication/fourth-paradigm-data-intensive-scientific-discovery/)\n",
    "\n",
    "Modern science is complex.\n",
    "The last two require computing."
   ]
  },
  {
   "cell_type": "markdown",
   "id": "6",
   "metadata": {},
   "source": [
    "### Computational Science\n",
    "\n",
    "Physical Models $\\rightarrow$ Data and Results\n",
    "* Nonlinear and many degrees of free (DoF) systems:\n",
    "  * Kelvin-Helmholtz instability: https://youtu.be/Bqg31OwAqEQ\n",
    "  * Kolmogorov forced turbulence: https://youtu.be/Q2HFwsThk0U\n",
    "  * Binary black hole mergers: https://youtu.be/1agm33iEAuo\n",
    "* Multi-physics problems:\n",
    "  * Black hole accretion flow: https://youtu.be/-GQ1aUHwx-k\n",
    "  * Multi-wavelength black hole images: https://youtu.be/G6sSwRf_9ME\n",
    "* Large scale simulation libraries:\n",
    "  * Illustris: https://www.illustris-project.org\n",
    "  * TNG Project: https://www.tng-project.org"
   ]
  },
  {
   "cell_type": "markdown",
   "id": "7",
   "metadata": {},
   "source": [
    "### Data Science\n",
    "\n",
    "Data and ML $\\rightarrow$ Result\n",
    "* Experiments with very large data sets:\n",
    "  * Event Horizon Telescope: https://eventhorizontelescope.org/science\n",
    "  * Vera C. Rubin Observatory (LSST): https://www.lsst.org/\n",
    "* Let computer learn algorithms from data:\n",
    "  * Computer vision: http://www.image-net.org\n",
    "  * Self-driving cars: https://en.wikipedia.org/wiki/Self-driving_car\n",
    "* Knowledge discovery from data:\n",
    "  * UA Data Science Institute: https://datascience.arizona.edu/\n",
    "  * Machine Learning (ML): https://scikit-learn.org/\n",
    "* Artificial Intelligence (AI):\n",
    "  * AlphaGo: https://deepmind.com/research/case-studies/alphago-the-story-so-far\n",
    "  * AlphaFold: https://deepmind.com/blog/article/AlphaFold-Using-AI-for-scientific-discovery\n",
    "  * AlphaGeometry: https://deepmind.google/discover/blog/alphageometry-an-olympiad-level-ai-system-for-geometry"
   ]
  },
  {
   "cell_type": "markdown",
   "id": "8",
   "metadata": {},
   "source": [
    "## Expected Learning Outcomes\n",
    "\n",
    "A recent core class homogenization effort suggested covering the\n",
    "following topics:\n",
    "* Computational Methods:\n",
    "  * Unix, C, and Python\n",
    "  * Introduction to numerical analysis; errors, accuracy, stable and unstable computations\n",
    "  * Root Finding: Bisection and Newton-Raphson\n",
    "  * Numerical Integration\n",
    "  * Ordinary Differential Equations (e.g., Runge-Kutta method)\n",
    "* Statistical Methods:\n",
    "  * Intro and Definitions: The Normal Distribution, Detection of Signal, Correlation, Data\n",
    "  * Modeling, Sample Comparison\n",
    "  * Random Numbers\n",
    "  * Distribution Functions I; Exponential & Gaussian Distributions\n",
    "  * Distribution Functions II; Bivariate Gaussians; Binomial; Poisson\n",
    "  * Markov Chain Monte Carlo\n",
    "  * Error Propagation - Transformation of Random Variables\n",
    "  * Frequentist Statistics - Confidence Intervals\n",
    "  * Frequentist and Bayesian Statistics\n",
    "  * Frequentist Parameter Estimation; Pearson's chi2 test\n",
    "  * Bayesian parameter estimation for linear models\n",
    "  * Inferring Distributions\n",
    "  * Fast Fourier Transforms"
   ]
  },
  {
   "cell_type": "markdown",
   "id": "9",
   "metadata": {},
   "source": [
    "## Scheduled Topics/Activities\n",
    "\n",
    "| #  | Week | Monday | Wednesday\n",
    "--- | --- | --- | ---\n",
    "1  | Aug 24-Aug 30 | Overview (Proj brainstorm)                               | Data Representation and Round-Off Errors (HW1 assigned)\n",
    "2  | Aug 31-Sep  6 | No class (Labor Day)                                     | Numerical Linear Algebra (HW1 Q&A)\n",
    "3  | Sep  7-Sep 13 | Fourier Transform and Spectral Analyses (Proj selection) | Interpolation and Extrapolation (HW1 due, HW2 assigned)\n",
    "4  | Sep 14-Sep 20 | Numerical and Automatic Derivatives                      | Numerical Integration of Functions (HW2 Q&A)\n",
    "5  | Sep 21-Sep 27 | Root Finding and Optimization Methods (Proj feedback)    | ODE Integrators I: Explicit Methods (HW2 due, HW3 assigned)\n",
    "6  | Sep 28-Oct  4 | ODE integrators II: implicit and symplectic methods      | Numerical PDE I: Finite Difference (HW3 Q&A)\n",
    "7  | Oct  5-Oct 11 | Numerical PDE II: Spectral Methods                       | Numerical PDE III: Finite Volume Methods (HW3 due, HW4 assigned)\n",
    "8  | Oct 12-Oct 18 | Project Presentations                                    | Projects Presentations (HW4 Q&A)\n",
    "9  | Oct 19-Oct 25 | Probability                                              | Random Variable (HW4 due)\n",
    "10 | Oct 26-Nov  1 | Statistics                                               | Sampling Distribution\n",
    "11 | Nov  2-Nov  8 | Classical inference (point estimation)                   | Classical inference (interval estimation)\n",
    "12 | Nov  9-Nov 15 | Classical inference (hypothesis test)                    | Structure analysis\n",
    "13 | Nov 16-Nov 22 | Principle components                                     | Regression\n",
    "14 | Nov 23-Nov 29 | Bayesian inference                                       | Machine-learning\n",
    "15 | Nov 30-Dec  6 | MCMC                                                     | Hierarchical Bayesian\n",
    "16 | Dec  7-Dec 13 | Review (Q&A)                                             | Final exams"
   ]
  },
  {
   "cell_type": "markdown",
   "id": "10",
   "metadata": {},
   "source": [
    "## Grading Scale and Policies\n",
    "\n",
    "The course includes 10 homework assignments, 1 project, and 1 final\n",
    "exam.\n",
    "Each homework is worth 5 points, the project is worth 20 points, and\n",
    "the final exam is worth 30 points.\n",
    "The total is 100 points.\n",
    "\n",
    "This course provides regular letter grades (A-E), which are based on a\n",
    "simple point system:\n",
    "* A: 90-100  points\n",
    "* B: 80-89.9 points\n",
    "* C: 70-79.9 points\n",
    "* D: 60-69.9 points\n",
    "* E:  0-59.9 points\n",
    "\n",
    "No scaling will be applied.\n",
    "However, there are multiple opportunities to obtain extra credits."
   ]
  },
  {
   "cell_type": "markdown",
   "id": "11",
   "metadata": {},
   "source": [
    "## Project Brainstorming\n",
    "\n",
    "Based on your introduction, please start filling your research interest in\n",
    "the `ua-2025q3-astr501-513` Google Sheet that we sent out in D2L.\n",
    "Please start forming groups (3 to 6 members) and brainstorm on project ideas.\n",
    "Previous projects including solving\n",
    "the many-pendulum problem,\n",
    "time-dependent Schrodingers equation,\n",
    "Zambie model,\n",
    "gravitational lensing,\n",
    "fluid dynamics,\n",
    "etc."
   ]
  },
  {
   "cell_type": "markdown",
   "id": "12",
   "metadata": {},
   "source": [
    "## Usage of Generative AI\n",
    "\n",
    "Homework, projects, and exams in this course are designed to help\n",
    "students apply class concepts, test their understanding, and develop\n",
    "skills in software development and scientific communication.\n",
    "Generative AI tools such as ChatGPT, Google Gemini, and GitHub Copilot\n",
    "can be valuable for brainstorming, exploring alternative approaches,\n",
    "clarifying confusing concepts, and debugging code.\n",
    "Students may also use these tools to clarify difficult concepts and to\n",
    "generate examples that aid their learning.\n",
    "\n",
    "However, students must write their own code, take full responsibility\n",
    "for their work, and demonstrate a clear understanding of the\n",
    "underlying concepts.\n",
    "While AI tools can support learning, they may produce inaccurate,\n",
    "incomplete, or biased results.\n",
    "Students are responsible for verifying facts, testing code, and\n",
    "critically assessing all submitted material.\n",
    "\n",
    "Any use of generative AI must be acknowledged or cited (see guidelines\n",
    "from UA library).\n",
    "Failure to disclose such use, or submitting work that is not original,\n",
    "will be considered a violation of academic integrity.\n",
    "\n",
    "For questions, contact your instructor."
   ]
  }
 ],
 "metadata": {
  "kernelspec": {
   "display_name": "Python 3 (ipykernel)",
   "language": "python",
   "name": "python3"
  },
  "language_info": {
   "codemirror_mode": {
    "name": "ipython",
    "version": 3
   },
   "file_extension": ".py",
   "mimetype": "text/x-python",
   "name": "python",
   "nbconvert_exporter": "python",
   "pygments_lexer": "ipython3",
   "version": "3.13.7"
  }
 },
 "nbformat": 4,
 "nbformat_minor": 5
}
