{
 "cells": [
  {
   "cell_type": "markdown",
   "id": "0",
   "metadata": {},
   "source": [
    "# Numerical Linear Algebra"
   ]
  },
  {
   "cell_type": "markdown",
   "id": "1",
   "metadata": {},
   "source": [
    "Linear algebra is a fundamental part of modern mathematics.\n",
    "It supports fields from calculus and statistics to geometry, control\n",
    "theory, and functional analysis.\n",
    "Most linear systems are well understood.\n",
    "Even nonlinear problems are often studied through linear\n",
    "approximations.\n",
    "\n",
    "Numerical linear algebra extends these ideas to computation, enabling\n",
    "solutions of PDEs, optimization tasks, eigenvalue problems, and\n",
    "more.\n",
    "By linking theory with computation, it plays a central role in\n",
    "addressing some of the hardest problems in physics and engineering."
   ]
  },
  {
   "cell_type": "markdown",
   "id": "2",
   "metadata": {},
   "source": [
    "### Motivations from Physics\n",
    "\n",
    "* Normal Modes:\n",
    "  Vibrations near equilibrium reduce to generalized eigenvalue\n",
    "  problems.\n",
    "  Linear algebra therefore reveals resonance in materials, acoustics,\n",
    "  and plasma waves.\n",
    "\n",
    "* Quantum Mechanics:\n",
    "  Described by the Schrödinger equation, quantum systems are\n",
    "  inherently linear.\n",
    "\n",
    "* Discretized PDEs:\n",
    "  Discretizing PDEs yields large sparse linear systems.\n",
    "  They can solved numerically by methods such as conjugate gradient.\n",
    "\n",
    "* Nonlinear Problems:\n",
    "  Nonlinear physics problems including turbulence are sometimes\n",
    "  untrackable.\n",
    "  Linearizing them with perturbation theory reduces them to sequences\n",
    "  of linear systems."
   ]
  },
  {
   "cell_type": "markdown",
   "id": "3",
   "metadata": {},
   "source": [
    "### Motivations from Computation\n",
    "\n",
    "* Large-Scale Data:\n",
    "  Modern sensors and simulations produce massive datasets.\n",
    "  Matrix decompositions (e.g., SVD, PCA) provide compression, noise\n",
    "  reduction, and feature extraction.\n",
    "\n",
    "* Neural Networks:\n",
    "  Core operations in training, i.e., backpropagation, is dominated by\n",
    "  large matrix multiplications.\n",
    "  Efficient linear algebra routines are therefore critical for scaling\n",
    "  deep learning.\n",
    "\n",
    "* Hardware Accelerators:\n",
    "  GPUs and TPUs are optimized for matrix operations, making vectorized\n",
    "  linear algebra essential for both neural networks and scientific\n",
    "  computing."
   ]
  },
  {
   "cell_type": "markdown",
   "id": "4",
   "metadata": {},
   "source": [
    "`````{note}\n",
    "```{epigraph}\n",
    "If everything were linear, we wouldn't need computers.\n",
    "```\n",
    "\n",
    "The above quote suggests that in a purely linear world, everything\n",
    "would be easy to solve analytically.\n",
    "However, this is an oversimplification.\n",
    "\n",
    "Even perfectly linear problems can pose significant computational\n",
    "challenges due to two key factors.\n",
    "* First, high dimensionality makes solving linear systems\n",
    "  computationally intensive.\n",
    "  For example, systems with millions of unknowns are common in\n",
    "  numerical PDEs or massive machine learning models.\n",
    "  Processing such large-scale data requires significant computational\n",
    "  power, regardless of linearity.\n",
    "\n",
    "* Second, real-world computations face constraints from finite\n",
    "  precision.\n",
    "  Hardware limitations, such as floating-point arithmetic, introduce\n",
    "  numerical stability and conditioning challenges, even in linear\n",
    "  systems.\n",
    "  Addressing these issues requires robust algorithms to ensure\n",
    "  accurate and efficient solutions.\n",
    "`````"
   ]
  }
 ],
 "metadata": {
  "kernelspec": {
   "display_name": "Python 3 (ipykernel)",
   "language": "python",
   "name": "python3"
  },
  "language_info": {
   "codemirror_mode": {
    "name": "ipython",
    "version": 3
   },
   "file_extension": ".py",
   "mimetype": "text/x-python",
   "name": "python",
   "nbconvert_exporter": "python",
   "pygments_lexer": "ipython3",
   "version": "3.13.7"
  }
 },
 "nbformat": 4,
 "nbformat_minor": 5
}
