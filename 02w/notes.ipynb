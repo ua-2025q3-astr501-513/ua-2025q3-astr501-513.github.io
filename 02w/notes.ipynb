{
 "cells": [
  {
   "cell_type": "markdown",
   "id": "0",
   "metadata": {},
   "source": [
    "# Numerical Linear Algebra"
   ]
  },
  {
   "cell_type": "markdown",
   "id": "1",
   "metadata": {},
   "source": [
    "Linear algebra is a fundamental part of modern mathematics.\n",
    "It supports fields from calculus and statistics to geometry, control\n",
    "theory, and functional analysis.\n",
    "Most linear systems are well understood.\n",
    "Even nonlinear problems are often studied through linear\n",
    "approximations.\n",
    "\n",
    "Numerical linear algebra extends these ideas to computation, enabling\n",
    "solutions of PDEs, optimization tasks, eigenvalue problems, and\n",
    "more.\n",
    "By linking theory with computation, it plays a central role in\n",
    "addressing some of the hardest problems in physics and engineering."
   ]
  }
 ],
 "metadata": {
  "kernelspec": {
   "display_name": "Python 3 (ipykernel)",
   "language": "python",
   "name": "python3"
  },
  "language_info": {
   "codemirror_mode": {
    "name": "ipython",
    "version": 3
   },
   "file_extension": ".py",
   "mimetype": "text/x-python",
   "name": "python",
   "nbconvert_exporter": "python",
   "pygments_lexer": "ipython3",
   "version": "3.13.7"
  }
 },
 "nbformat": 4,
 "nbformat_minor": 5
}
