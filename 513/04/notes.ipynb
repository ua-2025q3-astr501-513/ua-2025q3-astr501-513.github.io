{
 "cells": [
  {
   "cell_type": "markdown",
   "id": "0",
   "metadata": {},
   "source": [
    "# Interpolation and Extrapolation"
   ]
  },
  {
   "cell_type": "markdown",
   "id": "1",
   "metadata": {},
   "source": [
    "```{note}\n",
    "This lecture follows closely\n",
    "[Numerical Recipes](https://numerical.recipes/) 2nd Edition in C and\n",
    "3rd Edition in C++, Chapter 3 \"Interpolation and Extrapolation\".\n",
    "```"
   ]
  },
  {
   "cell_type": "markdown",
   "id": "2",
   "metadata": {},
   "source": [
    "In scientific computing and machine learning, interpolation and\n",
    "extrapolation are essential methods for estimating unknown values from\n",
    "known data."
   ]
  },
  {
   "cell_type": "markdown",
   "id": "3",
   "metadata": {},
   "source": [
    "Interpolation deals with predicting values within the range of\n",
    "available data.\n",
    "This is the foundation of most supervised learning tasks in machine\n",
    "learning, where models predict outputs in the same region where they\n",
    "were trained.\n",
    "Standard interpolation methods include:\n",
    "* Polynomial interpolation is flexible but can suffer from\n",
    "  oscillations at the edges of the interval (Runge's phenomenon).\n",
    "* Rational interpolation can help stabilize the behavior, especially\n",
    "  near asymptotes or when functions have strong curvature.\n",
    "* Spline interpolation, particularly cubic splines, provides smooth\n",
    "  fits with continuity up to the second derivative.\n",
    "  This is especially useful when a smooth curve is required, such as\n",
    "  in modeling or visualization."
   ]
  },
  {
   "cell_type": "markdown",
   "id": "4",
   "metadata": {},
   "source": [
    "Extrapolation extends predictions beyond the available data.\n",
    "It is inherently unreliable: without additional information, we cannot\n",
    "know how a function continues beyond the known region.\n",
    "A promising modern approach is physics-informed machine learning\n",
    "(PIML), where physical laws such as ODEs are built into the model.\n",
    "By respecting known constraints, such methods can make extrapolations\n",
    "that remain consistent with physics."
   ]
  }
 ],
 "metadata": {
  "kernelspec": {
   "display_name": "Python 3 (ipykernel)",
   "language": "python",
   "name": "python3"
  },
  "language_info": {
   "codemirror_mode": {
    "name": "ipython",
    "version": 3
   },
   "file_extension": ".py",
   "mimetype": "text/x-python",
   "name": "python",
   "nbconvert_exporter": "python",
   "pygments_lexer": "ipython3",
   "version": "3.13.7"
  }
 },
 "nbformat": 4,
 "nbformat_minor": 5
}
