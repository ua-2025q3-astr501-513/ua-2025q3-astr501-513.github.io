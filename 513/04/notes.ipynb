{
 "cells": [
  {
   "cell_type": "markdown",
   "id": "0",
   "metadata": {},
   "source": [
    "# Interpolation and Extrapolation [![Open In Colab](https://colab.research.google.com/assets/colab-badge.svg)](https://colab.research.google.com/github/ua-2025q3-astr501-513/ua-2025q3-astr501-513.github.io/blob/main/513/04/notes.ipynb)"
   ]
  },
  {
   "cell_type": "markdown",
   "id": "1",
   "metadata": {},
   "source": [
    "```{note}\n",
    "This lecture follows closely\n",
    "[Numerical Recipes](https://numerical.recipes/) 2nd Edition in C and\n",
    "3rd Edition in C++, Chapter 3 \"Interpolation and Extrapolation\".\n",
    "```"
   ]
  },
  {
   "cell_type": "markdown",
   "id": "2",
   "metadata": {},
   "source": [
    "In scientific computing and machine learning, interpolation and\n",
    "extrapolation are essential methods for estimating unknown values from\n",
    "known data."
   ]
  },
  {
   "cell_type": "markdown",
   "id": "3",
   "metadata": {},
   "source": [
    "Interpolation deals with predicting values within the range of\n",
    "available data.\n",
    "This is the foundation of most supervised learning tasks in machine\n",
    "learning, where models predict outputs in the same region where they\n",
    "were trained.\n",
    "Standard interpolation methods include:\n",
    "* Polynomial interpolation is flexible but can suffer from\n",
    "  oscillations at the edges of the interval (Runge's phenomenon).\n",
    "* Rational interpolation can help stabilize the behavior, especially\n",
    "  near asymptotes or when functions have strong curvature.\n",
    "* Spline interpolation, particularly cubic splines, provides smooth\n",
    "  fits with continuity up to the second derivative.\n",
    "  This is especially useful when a smooth curve is required, such as\n",
    "  in modeling or visualization."
   ]
  },
  {
   "cell_type": "markdown",
   "id": "4",
   "metadata": {},
   "source": [
    "Extrapolation extends predictions beyond the available data.\n",
    "It is inherently unreliable: without additional information, we cannot\n",
    "know how a function continues beyond the known region.\n",
    "A promising modern approach is physics-informed machine learning\n",
    "(PIML), where physical laws such as ODEs are built into the model.\n",
    "By respecting known constraints, such methods can make extrapolations\n",
    "that remain consistent with physics."
   ]
  },
  {
   "cell_type": "markdown",
   "id": "5",
   "metadata": {},
   "source": [
    "Interpolation and function approximation are related but slightly\n",
    "different.\n",
    "It is useful to distinguish between them:\n",
    "* Interpolation uses existing data to estimate specific missing\n",
    "  values.\n",
    "* Function approximation constructs a simplified function that\n",
    "  captures the overall behavior of a more complex one.\n",
    "  It is often for efficiency or analytic convenience.\n",
    "  (See [Numerical Recipes](https://numerical.recipes/), Chapter 5.)"
   ]
  },
  {
   "cell_type": "markdown",
   "id": "6",
   "metadata": {},
   "source": [
    "## Limitations of Interpolation\n",
    "\n",
    "Even the best interpolation schemes can fail when the function itself\n",
    "is ill-behaved.\n",
    "For example:\n",
    "\\begin{align}\n",
    "  f(x) = 3x^2 + \\frac{1}{\\pi^4}\\ln\\left[(\\pi - x)^2\\right] + 1\n",
    "\\end{align}\n",
    "This function looks smooth but has a subtle singularity at $x = \\pi$.\n",
    "Interpolating only near the singularity produces misleading results,\n",
    "as we see in these python plots."
   ]
  },
  {
   "cell_type": "code",
   "execution_count": null,
   "id": "7",
   "metadata": {},
   "outputs": [],
   "source": [
    "import numpy as np\n",
    "\n",
    "def f(x):\n",
    "    return 3 * x**2 + np.log((np.pi - x)**2) / np.pi**4 + 1\n",
    "\n",
    "x1 = np.linspace(3.13, 3.16, 3+1)     # very sparse\n",
    "x2 = np.linspace(3.13, 3.16, 30+1)    # coarse\n",
    "x3 = np.linspace(3.13, 3.16, 300+1)   # medium\n",
    "x4 = np.linspace(3.13, 3.16, 3000+1)  # dense"
   ]
  },
  {
   "cell_type": "code",
   "execution_count": null,
   "id": "8",
   "metadata": {},
   "outputs": [],
   "source": [
    "from matplotlib import pyplot as plt\n",
    "\n",
    "plt.plot(x4, f(x4),       label='3001 points')\n",
    "plt.plot(x3, f(x3), '--', label='301 points')\n",
    "plt.plot(x2, f(x2), 'o:', label='31 points')\n",
    "plt.plot(x1, f(x1), 'o-', label='4 points')\n",
    "plt.legend()"
   ]
  },
  {
   "cell_type": "markdown",
   "id": "9",
   "metadata": {},
   "source": [
    "This example shows why interpolation methods should always be paired\n",
    "with error estimates and awareness of the underlying physics or\n",
    "mathematics."
   ]
  },
  {
   "cell_type": "markdown",
   "id": "10",
   "metadata": {},
   "source": [
    "## Preliminaries: Searching an Ordered Table\n",
    "\n",
    "Before we can interpolate, we need to know where in the dataset our\n",
    "target value lies.\n",
    "This step is called searching.\n",
    "* If data are sampled on a regular grid, finding neighbors is trivial:\n",
    "  just use the array index.\n",
    "* If data are irregularly spaced, we must locate the two points that\n",
    "  bracket the target value.\n",
    "* This search step can be just as costly as the interpolation itself,\n",
    "  so efficient methods are critical in practice.\n",
    "  In fact, in multi-dimension, it may require non-trivial algorithm\n",
    "  and advanced data structure.\n",
    "\n",
    "[Numerical Recipes](https://numerical.recipes/) describes two main\n",
    "approaches: bisection and hunting, each suited to different scenarios.\n"
   ]
  },
  {
   "cell_type": "markdown",
   "id": "11",
   "metadata": {},
   "source": [
    "### Linear Search\n",
    "\n",
    "As a baseline, let's consider a simple linear search.\n",
    "It scans through the array until the first value larger than the\n",
    "target is found."
   ]
  },
  {
   "cell_type": "code",
   "execution_count": null,
   "id": "12",
   "metadata": {},
   "outputs": [],
   "source": [
    "def linear(X, v):\n",
    "    for i in range(len(X)):  # use a Python loop for clarity\n",
    "        if X[i] >= v:\n",
    "            return i - 1"
   ]
  },
  {
   "cell_type": "code",
   "execution_count": null,
   "id": "13",
   "metadata": {},
   "outputs": [],
   "source": [
    "import numpy as np\n",
    "\n",
    "for _ in range(5):\n",
    "    X = np.sort(np.random.uniform(0, 100, 10))\n",
    "    v = np.random.uniform(min(X), max(X))\n",
    "    i = linear(X, v)\n",
    "    assert X[i] <= v and v < X[i+1]\n",
    "    print(f'{X[i]} <= {v} < {X[i+1]}')"
   ]
  },
  {
   "cell_type": "markdown",
   "id": "14",
   "metadata": {},
   "source": [
    "This works, but it requires $\\mathcal{O}(N)$ steps.\n",
    "For large datasets, this is inefficient."
   ]
  },
  {
   "cell_type": "markdown",
   "id": "15",
   "metadata": {},
   "source": [
    "### Bisection Search\n",
    "\n",
    "The bisection method is much faster.\n",
    "It repeatedly halves the search interval until the target is bracketed.\n",
    "For $N$ data points, it requires only about $\\log_2(N)$ steps."
   ]
  },
  {
   "cell_type": "code",
   "execution_count": null,
   "id": "16",
   "metadata": {},
   "outputs": [],
   "source": [
    "def bisection(X, v):\n",
    "    l, h = 0, len(X) - 1\n",
    "    while h - l > 1:\n",
    "        m = (l + h) // 2\n",
    "        if v >= X[m]:\n",
    "            l = m\n",
    "        else:\n",
    "            h = m\n",
    "    return l  # index of the closest value less than the target"
   ]
  },
  {
   "cell_type": "code",
   "execution_count": null,
   "id": "17",
   "metadata": {},
   "outputs": [],
   "source": [
    "for _ in range(5):\n",
    "    X = np.sort(np.random.uniform(0, 100, 10))\n",
    "    v = np.random.uniform(min(X), max(X))\n",
    "    i = bisection(X, v)\n",
    "    assert X[i] <= v and v < X[i+1]\n",
    "    print(f'{X[i]} <= {v} < {X[i+1]}')"
   ]
  },
  {
   "cell_type": "markdown",
   "id": "18",
   "metadata": {},
   "source": [
    "This method is robust and efficient for uncorrelated queries, where\n",
    "each target value is unrelated to the previous one."
   ]
  },
  {
   "cell_type": "markdown",
   "id": "19",
   "metadata": {},
   "source": [
    "### Hunting Method\n",
    "\n",
    "If target values are requested in sequence and tend to be close to one\n",
    "another, we can do even better.\n",
    "The hunting method exploits this correlation:\n",
    "1. Start near the last found index.\n",
    "2. Step outward (doubling the step size each time) until the target is\n",
    "   bracketed.\n",
    "3. Refine the result using bisection in the narrowed interval.\n",
    "This approach is often faster than starting from scratch with\n",
    "bisection every time."
   ]
  },
  {
   "cell_type": "code",
   "execution_count": null,
   "id": "20",
   "metadata": {},
   "outputs": [],
   "source": [
    "def hunt(X, v, i_last):\n",
    "    n = len(X)\n",
    "    assert 0 <= i_last < n - 1\n",
    "\n",
    "    if v >= X[i_last]:\n",
    "        l, h, step = i_last, min(n-1, i_last+1), 1\n",
    "        while h < n - 1 and v > X[h]:\n",
    "            l, h = h, min(n-1, h + step)\n",
    "            step *= 2\n",
    "    else:\n",
    "        l, h, step = max(0, i_last-1), i_last, 1\n",
    "        while l > 0 and v < X[l]:\n",
    "            l, h = max(0, l - step), l\n",
    "            step *= 2\n",
    "\n",
    "    return bisection(X[l:h+1], v) + l"
   ]
  },
  {
   "cell_type": "code",
   "execution_count": null,
   "id": "21",
   "metadata": {},
   "outputs": [],
   "source": [
    "for _ in range(5):\n",
    "    X = np.sort(np.random.uniform(0, 100, 10))\n",
    "    v = np.random.uniform(min(X), max(X))\n",
    "    i = bisection(X, v)\n",
    "    assert X[i] <= v and v < X[i+1]\n",
    "    print(f'{X[i]} <= {v} < {X[i+1]}')"
   ]
  },
  {
   "cell_type": "markdown",
   "id": "22",
   "metadata": {},
   "source": [
    "## Linear Interpolation with Searching\n",
    "\n",
    "With a search routine in place, interpolation becomes straightforward.\n",
    "Below is a simple interpolator that supports hunt, bisection, or\n",
    "linear searching."
   ]
  },
  {
   "cell_type": "code",
   "execution_count": null,
   "id": "23",
   "metadata": {},
   "outputs": [],
   "source": [
    "class Interpolator:\n",
    "    \n",
    "    def __init__(self, X, Y):\n",
    "        assert len(X) == len(Y)\n",
    "        self.X, self.Y = X, Y\n",
    "        self.i_last = len(X) // 2\n",
    "\n",
    "    def __call__(self, v, method='hunt'):\n",
    "        if method == 'hunt':\n",
    "            i = hunt(self.X, v, self.i_last)\n",
    "        elif method == 'bisection':\n",
    "            i = bisection(self.X, v)\n",
    "        else:\n",
    "            i = linear(self.X, v)\n",
    "\n",
    "        self.i_last = i  # store last index for hunting\n",
    "\n",
    "        x0, x1 = self.X[i], self.X[i+1]\n",
    "        y0, y1 = self.Y[i], self.Y[i+1]\n",
    "        m      = (y1 - y0) / (x1 - x0)\n",
    "        return y0 + m * (v - x0)"
   ]
  },
  {
   "cell_type": "code",
   "execution_count": null,
   "id": "24",
   "metadata": {},
   "outputs": [],
   "source": [
    "import matplotlib.pyplot as plt\n",
    "\n",
    "def f(x):\n",
    "    return np.exp(-0.5 * x**2)\n",
    "\n",
    "Xs = np.sort(np.random.uniform(-5, 5, 20))\n",
    "Ys = f(Xs)\n",
    "\n",
    "fi = Interpolator(Xs, Ys)\n",
    "\n",
    "Xi = np.linspace(min(Xs), max(Xs), 100)\n",
    "Yi = np.array([fi(x) for x in Xi])\n",
    "\n",
    "plt.plot(Xs, Ys, 'o-', label='Sampled data')\n",
    "plt.plot(Xi, Yi, '.',  label='Interpolation')\n",
    "plt.legend()\n",
    "plt.show()"
   ]
  },
  {
   "cell_type": "markdown",
   "id": "25",
   "metadata": {},
   "source": [
    "Finally, let's test our claim: hunting should be faster than bisection\n",
    "when queries are sequential and correlated."
   ]
  },
  {
   "cell_type": "code",
   "execution_count": null,
   "id": "26",
   "metadata": {},
   "outputs": [],
   "source": [
    "from timeit import timeit\n",
    "\n",
    "Xs = np.sort(np.random.uniform(-5, 5, 1000))\n",
    "Ys = f(Xs)\n",
    "fi = Interpolator(Xs, Ys)\n",
    "Xi = np.linspace(min(Xs), max(Xs), 10_000)\n",
    "\n",
    "def job(method):\n",
    "    Yi = [fi(x, method) for x in Xi]\n",
    "\n",
    "dt_linear    = timeit(\"job('linear')\",    globals=globals(), number=1)\n",
    "dt_bisection = timeit(\"job('bisection')\", globals=globals(), number=1)\n",
    "dt_hunt      = timeit(\"job('hunt')\",      globals=globals(), number=1)"
   ]
  },
  {
   "cell_type": "code",
   "execution_count": null,
   "id": "27",
   "metadata": {},
   "outputs": [],
   "source": [
    "print('Linear   :', dt_linear)\n",
    "print('Bisection:', dt_bisection)\n",
    "print('Hunt     :', dt_hunt)"
   ]
  },
  {
   "cell_type": "code",
   "execution_count": null,
   "id": "28",
   "metadata": {},
   "outputs": [],
   "source": [
    "# HANDSON: change the number of sampled points and interpolation\n",
    "#          points and measure the performance of all three methods.\n",
    "#          What are the performance characteristics when\n",
    "#          N_sample >> N_interpolation and\n",
    "#          N_sample << N_interpolation?\n"
   ]
  },
  {
   "cell_type": "markdown",
   "id": "29",
   "metadata": {},
   "source": [
    "```{note} Main Take Away\n",
    "\n",
    "It may seem surprising that interpolation, which sounds like purely\n",
    "numerical, actually spends much of its effort on searching.\n",
    "The interpolation formula itself is simple, but locating the right\n",
    "interval in the data dominates the work.\n",
    "\n",
    "This may be less surprising if we start asking ourselves what are\n",
    "computers good at?\n",
    "Certainly at arithmetic, but equally at bookkeeping (and communication\n",
    "now when we have internet).\n",
    "In fact, much of computer science is devoted to studying how to\n",
    "organize and retrieve data efficiently.\n",
    "This is what \"data structures and algorithms\" are about.\n",
    "Searching in interpolation is a great example of this.\n",
    "Efficient bookkeeping can matter as much as the numerical formula.\n",
    "\n",
    "Our codes here were one-dimensional and simple.\n",
    "But in practice, many scientific applications require multidimensional\n",
    "interpolation.\n",
    "In higher dimensions, the search problem quickly becomes far more\n",
    "complicated.\n",
    "Efficient methods often rely on tree structures (e.g., kd-trees or\n",
    "octrees) to organize points and make search practical.\n",
    "This is the same kind of complexity that appears in $n$-body\n",
    "simulations and particle-mesh algorithms, where bookkeeping and\n",
    "efficient search dominate performance.\n",
    "\n",
    "Thus, linear interpolation serves as a small but important lesson:\n",
    "computational science (i.e., numerical analysis) and computer science\n",
    "are deeply connected.\n",
    "To do science at scale, one must care not only about the equations,\n",
    "but also about how data are organized and searched.\n",
    "```"
   ]
  },
  {
   "cell_type": "markdown",
   "id": "30",
   "metadata": {},
   "source": [
    "## Polynomial Interpolation and Extrapolation"
   ]
  },
  {
   "cell_type": "markdown",
   "id": "31",
   "metadata": {},
   "source": [
    "Given $M$ data points $(x_0, y_0), (x_1, y_1), \\dots, (x_{M-1},\n",
    "y_{M_1})$, there exists a unique polynomial of degree $M-1$ that\n",
    "passes through all of them exactly."
   ]
  },
  {
   "cell_type": "markdown",
   "id": "32",
   "metadata": {},
   "source": [
    "### Lagrange's Formula\n",
    "\n",
    "The classical formula due to Lagrange writes this polynomial as\n",
    "\\begin{align}\n",
    "  P_{M-1}(x)\n",
    "  &= \\frac{(x-x_1)(x-x_2)\\dots(x-x_{M-1})}{(x_0-x_1)(x_0-x_2)\\dots(x_0-x_{M-1})} y_0 \\\\\n",
    "  &+ \\frac{(x-x_0)(x-x_2)\\dots(x-x_{M-1})}{(x_1-x_0)(x_1-x_2)\\dots(x_1-x_{M-1})} y_1 + \\dots \\\\\n",
    "  &+ \\frac{(x-x_0)(x-x_2)\\dots(x-x_{M-2})}{(x_{M-1}-x_0)(x_{M-1}-x_1)\\dots(x_{M-1}-x_{M-2})} y_{M-1}.\n",
    "\\end{align}"
   ]
  },
  {
   "cell_type": "markdown",
   "id": "33",
   "metadata": {},
   "source": [
    "Using summation and product notation, we can write this more compactly as\n",
    "\\begin{align}\n",
    "  P_{M-1}(x)\n",
    "  = \\sum_{m=0}^{M-1} \\frac{\\prod_{n=0,n\\ne m}^{M-1}(x-x_n)}{\\prod_{n=0,n\\ne m}^{M-1}(x_m-x_n)} y_m.\n",
    "\\end{align}"
   ]
  },
  {
   "cell_type": "markdown",
   "id": "34",
   "metadata": {},
   "source": [
    "It is straightforward to check that substituting $x = x_{m'}$ gives\n",
    "\\begin{align}\n",
    "  P_{M-1}(x_{m'})\n",
    "  = \\sum_{m=0}^{M-1} \\delta_{mm'} y_m\n",
    "\\end{align}\n",
    "so the polynomial indeed passes through all the data points."
   ]
  },
  {
   "cell_type": "markdown",
   "id": "35",
   "metadata": {},
   "source": [
    "### Neville's Algorithm\n",
    "\n",
    "While Lagrange's formula is mathematically elegant, it is not the most\n",
    "practical for computation:\n",
    "* It does not directly provide an error estimate.\n",
    "* It requires recomputation for each new interpolation point.\n",
    "A better approach is Neville's Algorithm, which recursively builds the\n",
    "interpolating polynomial and naturally provides error estimates.\n",
    "This makes it especially useful for small to moderate datasets."
   ]
  },
  {
   "cell_type": "markdown",
   "id": "36",
   "metadata": {},
   "source": [
    "### Step 1: Zero-Degree Polynomials\n",
    "\n",
    "A polynomial of degree 0 is just a constant.\n",
    "For each data point $(x_m, y_m)$, define\n",
    "\\begin{align}\n",
    "  P_m(x) = y_m\n",
    "\\end{align}\n",
    "These form the base case for the recursion."
   ]
  },
  {
   "cell_type": "code",
   "execution_count": null,
   "id": "37",
   "metadata": {},
   "outputs": [],
   "source": [
    "Xs = np.sort(np.random.uniform(-5, 5, 100))\n",
    "Ys = f(Xs)\n",
    "\n",
    "plt.scatter(Xs, Ys, marker='_', color='C0', label=r'$P_m$: polynomials with 0 degree')\n",
    "plt.xlim(-0.5, 0.5)\n",
    "plt.ylim( 0.9, 1.05)\n",
    "plt.legend()"
   ]
  },
  {
   "cell_type": "markdown",
   "id": "38",
   "metadata": {},
   "source": [
    "#### Step 2: First-Degree Polynomials\n",
    "\n",
    "We now interpolate between two neighboring points $(x_{m'}, y_{m'})$\n",
    "and $(x_{m'+1}, y_{m'+1})$.\n",
    "This gives a linear polynomial, denoted $P_{m',m'+1}(x)$:\n",
    "\\begin{align}\n",
    "  \\frac{P_{m',m'+1} - P_{m'}}{x - x_{m'}} &= \\frac{P_{m'+1} - P_{m'}}{x_{m'+1} - x_{m'}} \\\\\n",
    "  P_{m',m'+1} - P_{m'} &= \\frac{x - x_{m'}}{x_{m'+1} - x_{m'}}(P_{m'+1} - P_{m'}) \\\\\n",
    "  P_{m',m'+1} &= P_{m'} + \\frac{x - x_{m'}}{x_{m'+1} - x_{m'}}(P_{m'+1} - P_{m'}) \\\\\n",
    "  P_{m',m'+1} &= \\frac{x_{m'+1} - x_{m'}}{x_{m'+1} - x_{m'}}P_{m'} + \\frac{x - x_{m'}}{x_{m'+1} - x_{m'}}(P_{m'+1} - P_{m'}) \\\\\n",
    "  P_{m',m'+1} &= \\left(\\frac{x_{m'+1} - x_{m'}}{x_{m'+1} - x_{m'}} - \\frac{x - x_{m'}}{x_{m'+1} - x_{m'}}\\right)P_{m'} + \\frac{x - x_{m'}}{x_{m'+1} - x_{m'}}P_{m'+1} \\\\\n",
    "  P_{m',m'+1} &= \\frac{x_{m'+1} - x}{x_{m'+1} - x_{m'}}P_{m'} + \\frac{x - x_{m'}}{x_{m'+1} - x_{m'}}P_{m'+1} \\\\\n",
    "  P_{m',m'+1} &= \\frac{(x - x_{m'+1})P_{m'} + (x_{m'} - x)P_{m'+1} }{x_{m'} - x_{m'+1}}\n",
    "\\end{align}\n",
    "This is simply the two-point form of a line."
   ]
  },
  {
   "cell_type": "code",
   "execution_count": null,
   "id": "39",
   "metadata": {},
   "outputs": [],
   "source": [
    "Pmm1s = []\n",
    "for m in range(len(Xs)-1):\n",
    "    Pmm1s.append(lambda x: ((x - Xs[m+1]) * Ys[m] + (Xs[m] - x) * Ys[m+1]) / (Xs[m] - Xs[m+1]))"
   ]
  },
  {
   "cell_type": "code",
   "execution_count": null,
   "id": "40",
   "metadata": {},
   "outputs": [],
   "source": [
    "plt.scatter(Xs, Ys, marker='_', color='C0', label=r'$P_m$: polynomials with 0 degree')\n",
    "\n",
    "label = r'$P_{m,m+1}$: polynomials with 1 degree'\n",
    "for m, Pmm1 in enumerate(Pmm1s):\n",
    "    xs = np.linspace(Xs[m], Xs[m+1], 100)\n",
    "    ys = Pmm1(xs)\n",
    "    plt.plot(xs, ys, color='C1', label=label)\n",
    "    label = None\n",
    "\n",
    "plt.xlim(-0.5, 0.5)\n",
    "plt.ylim( 0.9, 1.05)\n",
    "plt.legend()"
   ]
  },
  {
   "cell_type": "markdown",
   "id": "41",
   "metadata": {},
   "source": [
    "#### Step 3: Second-Degree Polynomials\n",
    "\n",
    "By interpolating two neighboring first-degree polynomials, we obtain a\n",
    "second-degree polynomial:\n",
    "\\begin{align}\n",
    "  P_{m'',m''+1,m''+2}\n",
    "  &= \\frac{(x - x_{m''+2})P_{m'',m''+1} + (x_{m''} - x)P_{m''+1,m''+2} }{x_{m'} - x_{m'+2}}.\n",
    "\\end{align}"
   ]
  },
  {
   "cell_type": "code",
   "execution_count": null,
   "id": "42",
   "metadata": {},
   "outputs": [],
   "source": [
    "Pmm1m2s = []\n",
    "for m in range(len(Xs)-2):\n",
    "    Pmm1  = lambda x: ((x - Xs[m+1]) * Ys[m  ] + (Xs[m  ] - x) * Ys[m+1]) / (Xs[m  ] - Xs[m+1])\n",
    "    Pm1m2 = lambda x: ((x - Xs[m+2]) * Ys[m+1] + (Xs[m+1] - x) * Ys[m+2]) / (Xs[m+1] - Xs[m+2])\n",
    "    Pmm1m2s.append(\n",
    "        lambda x: ((x - Xs[m+2]) * Pmm1(x) + (Xs[m] - x) * Pm1m2(x)) / (Xs[m] - Xs[m+2])\n",
    "    )"
   ]
  },
  {
   "cell_type": "code",
   "execution_count": null,
   "id": "43",
   "metadata": {},
   "outputs": [],
   "source": [
    "plt.scatter(Xs, Ys, marker='o', color='C0', label=r'$P_m$: polynomials with 0 degree')\n",
    "\n",
    "label = r'$P_{m,m+1}$: polynomials with 1 degree'\n",
    "for m, Pmm1 in enumerate(Pmm1s[:-1]):\n",
    "    xs = np.linspace(Xs[m], Xs[m+1], 100)\n",
    "    ys = Pmm1(xs)\n",
    "    plt.plot(xs, ys, color='C1', label=label)\n",
    "    label = None\n",
    "\n",
    "label = r'$P_{m,m+1,m+2}$: polynomials with 2 degree'\n",
    "for m, Pmm1m2 in enumerate(Pmm1m2s):\n",
    "    xs = np.linspace(Xs[m], Xs[m+1], 100)\n",
    "    ys = Pmm1m2(xs)\n",
    "    plt.plot(xs, ys, ':', color='C2', label=label)\n",
    "    label = None\n",
    "\n",
    "plt.xlim(-0.5, 0.5)\n",
    "plt.ylim( 0.9, 1.05)\n",
    "plt.legend()"
   ]
  },
  {
   "cell_type": "markdown",
   "id": "44",
   "metadata": {},
   "source": [
    "#### Step 4: Recursive Formula\n",
    "\n",
    "By continuing this process, we arrive at the general recursive formula\n",
    "for Neville's algorithm (Numerical Recipes Eq. 3.2.3):\n",
    "\\begin{align}\n",
    "   P_{m,m+1,\\dots,m+n}\n",
    "   &= \\frac{(x - x_{m+n})P_{m,m+1,\\dots,m+n-1} + (x_{m} - x)P_{m+1,m+2,\\dots,m+n} }{x_{m} - x_{m+n}}.\n",
    "\\end{align}\n",
    "This provides a systematic way to build higher-order interpolating polynomials."
   ]
  },
  {
   "cell_type": "markdown",
   "id": "45",
   "metadata": {},
   "source": [
    "#### Step 5: Avoiding Catastrophic Cancellation\n",
    "\n",
    "Direct implementation of the above formulations may suffer from\n",
    "catastrophic cancellation, especially when points are close together.\n",
    "Numerical Recipes reformulates the recursion in terms of small\n",
    "corrections $C_{n,m}$ and $D_{n,m}$:\n",
    "\\begin{align}\n",
    "  C_{n,m} &\\equiv P_{m,m+1,\\dots,m+n} - P_{m,m+1,\\dots,m+n-1} \\\\\n",
    "  D_{n,m} &\\equiv P_{m,m+1,\\dots,m+n} - P_{m+1,m+2,\\dots,m+n}\n",
    "\\end{align}\n",
    "These track the incremental updates that improve accuracy.\n",
    "\n",
    "Neville's algorithm can now be rewritten as\n",
    "\\begin{align}\n",
    "  D_{n+1,m} &= \\frac{x_{m+n+1}-x}{x_m - x_{m+n+1}}(C_{n,m+1} - D_{n,m}) \\\\\n",
    "  C_{n+1,m} &= \\frac{x_{n}-x}{x_m - x_{m+n+1}}(C_{n,m+1} - D_{n,m})\n",
    "\\end{align}\n",
    "From this expression, it is now clear that the $C$'s and $D$'s are the\n",
    "corrections that make the interpolation one order higher."
   ]
  },
  {
   "cell_type": "markdown",
   "id": "46",
   "metadata": {},
   "source": [
    "#### Step 6. Implementation\n",
    "\n",
    "The final polynomial $P_{0,1,\\dots,M-1}$ is equal to the sum of any\n",
    "$y_i$ plus a set of $C$'s and/or $D$'s that form a path through the\n",
    "family tree of $P_{m,m+1,\\dots,m+n}$."
   ]
  },
  {
   "cell_type": "code",
   "execution_count": null,
   "id": "47",
   "metadata": {},
   "outputs": [],
   "source": [
    "class PolynomialInterpolator:\n",
    "    \n",
    "    def __init__(self, Xs, Ys, n=None):\n",
    "        if n is None:\n",
    "            n = len(Xs)\n",
    "\n",
    "        assert len(Xs) == len(Ys)\n",
    "        assert len(Xs) >= n\n",
    "\n",
    "        self.Xs, self.Ys, self.n = Xs, Ys, n\n",
    "\n",
    "    def __call__(self, target, search_method='hunt'):\n",
    "\n",
    "        C = np.copy(self.Ys)\n",
    "        D = np.copy(self.Ys)\n",
    "\n",
    "        i = np.argmin(abs(self.Xs - target))\n",
    "        y = self.Ys[i]\n",
    "        i-= 1\n",
    "\n",
    "        for n in range(1,self.n):\n",
    "            ho  = self.Xs[:-n] - target\n",
    "            hp  = self.Xs[+n:] - target\n",
    "            w   = C[1:self.n-n+1] - D[:-n]\n",
    "            den = ho - hp\n",
    "            if any(den == 0):\n",
    "                raise Exception(\"two input Xs are (to within roundoﬀ) identical.\")\n",
    "            else:\n",
    "                f = w / den\n",
    "            D[:-n] = hp * f\n",
    "            C[:-n] = ho * f\n",
    "\n",
    "            if 2*(i+1) < (self.n-n):\n",
    "                self.dy = C[i+1]\n",
    "            else:\n",
    "                self.dy = D[i]\n",
    "                i -= 1\n",
    "\n",
    "            y += self.dy\n",
    "\n",
    "        return y"
   ]
  },
  {
   "cell_type": "code",
   "execution_count": null,
   "id": "48",
   "metadata": {},
   "outputs": [],
   "source": [
    "Xs = np.linspace(-1,1,21)\n",
    "Ys = f(Xs)\n",
    "\n",
    "P  = PolynomialInterpolator(Xs, Ys)\n",
    "\n",
    "Xi = np.linspace(min(Xs),max(Xs),201)\n",
    "Yi = []\n",
    "Ei = []\n",
    "for x in Xi:\n",
    "    Yi.append(P(x))\n",
    "    Ei.append(P.dy)\n",
    "Yi = np.array(Yi)\n",
    "Ei = np.array(Ei)\n",
    "\n",
    "fig, axes = plt.subplots(2,1,figsize=(8,6))\n",
    "axes[0].scatter(Xs, Ys)\n",
    "axes[0].plot(Xi, Yi, '-', color='r')\n",
    "axes[1].semilogy(Xi, abs(Ei))"
   ]
  },
  {
   "cell_type": "code",
   "execution_count": null,
   "id": "49",
   "metadata": {},
   "outputs": [],
   "source": [
    "# HANDSON: Change the sampling points to, e.g.,\n",
    "#\n",
    "#              Xs = np.linspace(-5,5,21)\n",
    "#              Xs = -5 * np.cos(np.linspace(0, np.pi, 21))\n",
    "#\n",
    "#          How does the error converge if we increase (or decrease)\n",
    "#          the number of sampling points?\n",
    "#          What will happen if we increase the size of the domain?\n",
    "#          (This is called Runge phenomenon.)\n",
    "#          What will happen if we try to extrapolate?\n"
   ]
  },
  {
   "cell_type": "code",
   "execution_count": null,
   "id": "50",
   "metadata": {},
   "outputs": [],
   "source": [
    "# HANDSON: Our interpolator can take different order of\n",
    "#          approximations.\n",
    "#          Create convergence plots and study the error as function of\n",
    "#          the order.\n",
    "#          What happen when we have different domain size?\n",
    "#          What happen when we have different sampling points?\n"
   ]
  },
  {
   "cell_type": "markdown",
   "id": "51",
   "metadata": {},
   "source": [
    "## More Interpolation Algorithms\n",
    "\n",
    "For further study, here are several powerful alternatives and\n",
    "extensions to polynomial interpolation:\n",
    "* Cubic Splines:\n",
    "  Ensure smoothness across intervals by matching derivatives at knots,\n",
    "  avoiding the oscillations of high-degree polynomials.\n",
    "* Rational Function Interpolation:\n",
    "  Use ratios of polynomials to capture asymptotic behavior and improve\n",
    "  stability.\n",
    "* Direct Polynomial Coefficients:\n",
    "  Compute coefficients efficiently (e.g., via Newton's form) when\n",
    "  polynomials are truly required.\n",
    "* Multidimensional Interpolation:\n",
    "  Extend interpolation to higher dimensions, important for\n",
    "  applications such as spatial data analysis and numerical\n",
    "  simulations.\n",
    "* Laplace Interpolation:\n",
    "  A specialized technique for harmonic functions, using properties of\n",
    "  Laplace's equation.\n",
    "\n",
    "Interpolation is not one-size-fits-all.\n",
    "Polynomial methods are elegant and instructive, but understanding\n",
    "their strengths and weaknesses is important.\n",
    "By combining them with more advanced techniques, we can handle a much\n",
    "wider range of problems in scientific computing.\n",
    "\n",
    "Instead of re-deriving or implementing all of these algorithms from\n",
    "scratch, we will try out a few of them using built-in functions from\n",
    "`numpy` and `scipy`.\n",
    "This will give us hands-on experience with practical tools while\n",
    "reinforcing the ideas we have discussed."
   ]
  },
  {
   "cell_type": "markdown",
   "id": "52",
   "metadata": {},
   "source": [
    "### Cubic Splines\n",
    "\n",
    "The classical choice for smooth interpolation is the cubic spline.\n",
    "It guarantees continuity of the function, its first derivative, and\n",
    "its second derivative across intervals."
   ]
  },
  {
   "cell_type": "code",
   "execution_count": null,
   "id": "53",
   "metadata": {},
   "outputs": [],
   "source": [
    "from scipy.interpolate import CubicSpline, PchipInterpolator\n",
    "\n",
    "Xs = np.sort(np.random.uniform(-3, 3, 100))\n",
    "Ys = f(Xs)\n",
    "\n",
    "CS    = CubicSpline(Xs, Ys)        # classical cubic spline\n",
    "Pchip = PchipInterpolator(Xs, Ys)  # monotone, shape-preserving\n",
    "\n",
    "Xi = np.linspace(-3, 3, 1000)\n",
    "\n",
    "plt.plot(Xi, f(Xi),     'k',  label='true f(x)')\n",
    "plt.plot(Xs, Ys,        'o',  label='data')\n",
    "plt.plot(Xi, CS(Xi),    '--', label='CubicSpline')\n",
    "plt.plot(Xi, Pchip(Xi), ':',  label='PCHIP')\n",
    "plt.legend()\n",
    "\n",
    "plt.xlim(-0.5, 0.5)\n",
    "plt.ylim( 0.9, 1.05)"
   ]
  },
  {
   "cell_type": "code",
   "execution_count": null,
   "id": "54",
   "metadata": {},
   "outputs": [],
   "source": [
    "# HANDSON: add some noise to the data and compare `CubicSpline`\n",
    "#          vs. `PchipInterpolator`.\n",
    "#          Which one is more robust against oscillations?\n"
   ]
  },
  {
   "cell_type": "markdown",
   "id": "55",
   "metadata": {},
   "source": [
    "### Multidimensional Interpolation\n",
    "\n",
    "Interpolation often appears in 2D or 3D. SciPy provides two useful\n",
    "tools:\n",
    "* `griddata`: works with scattered data.\n",
    "* `RegularGridInterpolator`: efficient for regular grids."
   ]
  },
  {
   "cell_type": "code",
   "execution_count": null,
   "id": "56",
   "metadata": {},
   "outputs": [],
   "source": [
    "from scipy.interpolate import griddata\n",
    "\n",
    "Xs = np.random.uniform(-3, 3, 100)\n",
    "Ys = np.random.uniform(-3, 3, 100)\n",
    "Zs = f(np.sqrt(Xs * Xs + Ys * Ys))\n",
    "\n",
    "# Interpolate on a grid\n",
    "Xg, Yg = np.meshgrid(\n",
    "    np.linspace(-3, 3, 301),\n",
    "    np.linspace(-3, 3, 301),\n",
    "    indexing='xy')\n",
    "Zg = griddata((Xs, Ys), Zs, (Xg, Yg), method='cubic')\n",
    "\n",
    "plt.imshow(Zg, extent=[-3,3,-3,3], origin='lower')\n",
    "plt.colorbar(label='Interpolated value')"
   ]
  },
  {
   "cell_type": "code",
   "execution_count": null,
   "id": "57",
   "metadata": {},
   "outputs": [],
   "source": [
    "# HANDSON: \n",
    "#\n",
    "# 1. Why is the outer shape of the plot irregular?\n",
    "#\n",
    "# 2. Adjust the number of sampling points and interpolation points.\n",
    "#    How does the resulting plots look like?\n",
    "#\n",
    "# 3. Try methods 'linear', 'nearest', and 'cubic'.\n",
    "#    Compare smoothness vs. accuracy.\n"
   ]
  },
  {
   "cell_type": "code",
   "execution_count": null,
   "id": "58",
   "metadata": {},
   "outputs": [],
   "source": [
    "# HANDSON: try to use `RegularGridInterpolator` to interpolate on a\n",
    "#          regular grid.\n"
   ]
  }
 ],
 "metadata": {
  "kernelspec": {
   "display_name": "Python 3 (ipykernel)",
   "language": "python",
   "name": "python3"
  },
  "language_info": {
   "codemirror_mode": {
    "name": "ipython",
    "version": 3
   },
   "file_extension": ".py",
   "mimetype": "text/x-python",
   "name": "python",
   "nbconvert_exporter": "python",
   "pygments_lexer": "ipython3",
   "version": "3.13.7"
  }
 },
 "nbformat": 4,
 "nbformat_minor": 5
}
