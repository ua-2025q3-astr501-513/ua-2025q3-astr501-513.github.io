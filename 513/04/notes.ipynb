{
 "cells": [
  {
   "cell_type": "markdown",
   "id": "0",
   "metadata": {},
   "source": [
    "# Interpolation and Extrapolation"
   ]
  },
  {
   "cell_type": "markdown",
   "id": "1",
   "metadata": {},
   "source": [
    "```{note}\n",
    "This lecture follows closely\n",
    "[Numerical Recipes](https://numerical.recipes/) 2nd Edition in C and\n",
    "3rd Edition in C++, Chapter 3 \"Interpolation and Extrapolation\".\n",
    "```"
   ]
  },
  {
   "cell_type": "markdown",
   "id": "2",
   "metadata": {},
   "source": [
    "In scientific computing and machine learning, interpolation and\n",
    "extrapolation are essential methods for estimating unknown values from\n",
    "known data."
   ]
  },
  {
   "cell_type": "markdown",
   "id": "3",
   "metadata": {},
   "source": [
    "Interpolation deals with predicting values within the range of\n",
    "available data.\n",
    "This is the foundation of most supervised learning tasks in machine\n",
    "learning, where models predict outputs in the same region where they\n",
    "were trained.\n",
    "Standard interpolation methods include:\n",
    "* Polynomial interpolation is flexible but can suffer from\n",
    "  oscillations at the edges of the interval (Runge's phenomenon).\n",
    "* Rational interpolation can help stabilize the behavior, especially\n",
    "  near asymptotes or when functions have strong curvature.\n",
    "* Spline interpolation, particularly cubic splines, provides smooth\n",
    "  fits with continuity up to the second derivative.\n",
    "  This is especially useful when a smooth curve is required, such as\n",
    "  in modeling or visualization."
   ]
  },
  {
   "cell_type": "markdown",
   "id": "4",
   "metadata": {},
   "source": [
    "Extrapolation extends predictions beyond the available data.\n",
    "It is inherently unreliable: without additional information, we cannot\n",
    "know how a function continues beyond the known region.\n",
    "A promising modern approach is physics-informed machine learning\n",
    "(PIML), where physical laws such as ODEs are built into the model.\n",
    "By respecting known constraints, such methods can make extrapolations\n",
    "that remain consistent with physics."
   ]
  },
  {
   "cell_type": "markdown",
   "id": "5",
   "metadata": {},
   "source": [
    "Interpolation and function approximation are related but slightly\n",
    "different.\n",
    "It is useful to distinguish between them:\n",
    "* Interpolation uses existing data to estimate specific missing\n",
    "  values.\n",
    "* Function approximation constructs a simplified function that\n",
    "  captures the overall behavior of a more complex one.\n",
    "  It is often for efficiency or analytic convenience.\n",
    "  (See [Numerical Recipes](https://numerical.recipes/), Chapter 5.)"
   ]
  },
  {
   "cell_type": "markdown",
   "id": "6",
   "metadata": {},
   "source": [
    "## Limitations of Interpolation\n",
    "\n",
    "Even the best interpolation schemes can fail when the function itself\n",
    "is ill-behaved.\n",
    "For example:\n",
    "\\begin{align}\n",
    "  f(x) = 3x^2 + \\frac{1}{\\pi^4}\\ln\\left[(\\pi - x)^2\\right] + 1\n",
    "\\end{align}\n",
    "This function looks smooth but has a subtle singularity at $x = \\pi$.\n",
    "Interpolating only near the singularity produces misleading results,\n",
    "as we see in these python plots."
   ]
  },
  {
   "cell_type": "code",
   "execution_count": null,
   "id": "7",
   "metadata": {},
   "outputs": [],
   "source": [
    "import numpy as np\n",
    "\n",
    "def f(x):\n",
    "    return 3 * x**2 + np.log((np.pi - x)**2) / np.pi**4 + 1\n",
    "\n",
    "x1 = np.linspace(3.13, 3.16, 3+1)     # very sparse\n",
    "x2 = np.linspace(3.13, 3.16, 30+1)    # coarse\n",
    "x3 = np.linspace(3.13, 3.16, 300+1)   # medium\n",
    "x4 = np.linspace(3.13, 3.16, 3000+1)  # dense"
   ]
  },
  {
   "cell_type": "code",
   "execution_count": null,
   "id": "8",
   "metadata": {},
   "outputs": [],
   "source": [
    "from matplotlib import pyplot as plt\n",
    "\n",
    "plt.plot(x4, f(x4),       label='3001 points')\n",
    "plt.plot(x3, f(x3), '--', label='301 points')\n",
    "plt.plot(x2, f(x2), 'o:', label='31 points')\n",
    "plt.plot(x1, f(x1), 'o-', label='4 points')\n",
    "plt.legend()"
   ]
  },
  {
   "cell_type": "markdown",
   "id": "9",
   "metadata": {},
   "source": [
    "This example shows why interpolation methods should always be paired\n",
    "with error estimates and awareness of the underlying physics or\n",
    "mathematics."
   ]
  },
  {
   "cell_type": "markdown",
   "id": "10",
   "metadata": {},
   "source": [
    "## Preliminaries: Searching an Ordered Table\n",
    "\n",
    "Before we can interpolate, we need to know where in the dataset our\n",
    "target value lies.\n",
    "This step is called searching.\n",
    "* If data are sampled on a regular grid, finding neighbors is trivial:\n",
    "  just use the array index.\n",
    "* If data are irregularly spaced, we must locate the two points that\n",
    "  bracket the target value.\n",
    "* This search step can be just as costly as the interpolation itself,\n",
    "  so efficient methods are critical in practice.\n",
    "  In fact, in multi-dimension, it may require non-trivial algorithm\n",
    "  and advanced data structure.\n",
    "\n",
    "[Numerical Recipes](https://numerical.recipes/) describes two main\n",
    "approaches: bisection and hunting, each suited to different scenarios.\n"
   ]
  },
  {
   "cell_type": "markdown",
   "id": "11",
   "metadata": {},
   "source": [
    "### Linear Search\n",
    "\n",
    "As a baseline, let's consider a simple linear search.\n",
    "It scans through the array until the first value larger than the\n",
    "target is found."
   ]
  },
  {
   "cell_type": "code",
   "execution_count": null,
   "id": "12",
   "metadata": {},
   "outputs": [],
   "source": [
    "def linear(X, v):\n",
    "    for i in range(len(X)):  # use a Python loop for clarity\n",
    "        if X[i] >= v:\n",
    "            return i - 1"
   ]
  },
  {
   "cell_type": "code",
   "execution_count": null,
   "id": "13",
   "metadata": {},
   "outputs": [],
   "source": [
    "import numpy as np\n",
    "\n",
    "for _ in range(5):\n",
    "    X = sorted(np.random.uniform(0, 100, 10))\n",
    "    v = np.random.uniform(min(X), max(X))\n",
    "    i = linear(X, v)\n",
    "    assert X[i] <= v and v < X[i+1]\n",
    "    print(f'{X[i]} <= {v} < {X[i+1]}')"
   ]
  },
  {
   "cell_type": "markdown",
   "id": "14",
   "metadata": {},
   "source": [
    "This works, but it requires $\\mathcal{O}(N)$ steps.\n",
    "For large datasets, this is inefficient."
   ]
  },
  {
   "cell_type": "markdown",
   "id": "15",
   "metadata": {},
   "source": [
    "### Bisection Search\n",
    "\n",
    "The bisection method is much faster.\n",
    "It repeatedly halves the search interval until the target is bracketed.\n",
    "For $N$ data points, it requires only about $\\log_2(N)$ steps."
   ]
  },
  {
   "cell_type": "code",
   "execution_count": null,
   "id": "16",
   "metadata": {},
   "outputs": [],
   "source": [
    "def bisection(X, v):\n",
    "    l, h = 0, len(X) - 1\n",
    "    while h - l > 1:\n",
    "        m = (l + h) // 2\n",
    "        if v >= X[m]:\n",
    "            l = m\n",
    "        else:\n",
    "            h = m\n",
    "    return l  # index of the closest value less than the target"
   ]
  },
  {
   "cell_type": "code",
   "execution_count": null,
   "id": "17",
   "metadata": {},
   "outputs": [],
   "source": [
    "for _ in range(5):\n",
    "    X = sorted(np.random.uniform(0, 100, 10))\n",
    "    v = np.random.uniform(min(X), max(X))\n",
    "    i = bisection(X, v)\n",
    "    assert X[i] <= v and v < X[i+1]\n",
    "    print(f'{X[i]} <= {v} < {X[i+1]}')"
   ]
  },
  {
   "cell_type": "markdown",
   "id": "18",
   "metadata": {},
   "source": [
    "This method is robust and efficient for uncorrelated queries, where\n",
    "each target value is unrelated to the previous one."
   ]
  },
  {
   "cell_type": "markdown",
   "id": "19",
   "metadata": {},
   "source": [
    "### Hunting Method\n",
    "\n",
    "If target values are requested in sequence and tend to be close to one\n",
    "another, we can do even better.\n",
    "The hunting method exploits this correlation:\n",
    "1. Start near the last found index.\n",
    "2. Step outward (doubling the step size each time) until the target is\n",
    "   bracketed.\n",
    "3. Refine the result using bisection in the narrowed interval.\n",
    "This approach is often faster than starting from scratch with\n",
    "bisection every time."
   ]
  },
  {
   "cell_type": "code",
   "execution_count": null,
   "id": "20",
   "metadata": {},
   "outputs": [],
   "source": [
    "def hunt(X, v, i_last):\n",
    "    n = len(X)\n",
    "    assert 0 <= i_last < n - 1\n",
    "\n",
    "    if v >= X[i_last]:\n",
    "        l, h, step = i_last, min(n-1, i_last+1), 1\n",
    "        while h < n - 1 and v > X[h]:\n",
    "            l, h = h, min(n-1, h + step)\n",
    "            step *= 2\n",
    "    else:\n",
    "        l, h, step = max(0, i_last-1), i_last, 1\n",
    "        while l > 0 and v < X[l]:\n",
    "            l, h = max(0, l - step), l\n",
    "            step *= 2\n",
    "\n",
    "    return bisection(X[l:h+1], v) + l"
   ]
  },
  {
   "cell_type": "code",
   "execution_count": null,
   "id": "21",
   "metadata": {},
   "outputs": [],
   "source": [
    "for _ in range(5):\n",
    "    X = sorted(np.random.uniform(0, 100, 10))\n",
    "    v = np.random.uniform(min(X), max(X))\n",
    "    i = bisection(X, v)\n",
    "    assert X[i] <= v and v < X[i+1]\n",
    "    print(f'{X[i]} <= {v} < {X[i+1]}')"
   ]
  },
  {
   "cell_type": "markdown",
   "id": "22",
   "metadata": {},
   "source": [
    "### Linear Interpolation with Searching\n",
    "\n",
    "With a search routine in place, interpolation becomes straightforward.\n",
    "Below is a simple interpolator that supports hunt, bisection, or\n",
    "linear searching."
   ]
  },
  {
   "cell_type": "code",
   "execution_count": null,
   "id": "23",
   "metadata": {},
   "outputs": [],
   "source": [
    "class Interpolator:\n",
    "    \n",
    "    def __init__(self, X, Y):\n",
    "        assert len(X) == len(Y)\n",
    "        self.X, self.Y = X, Y\n",
    "        self.i_last = len(X) // 2\n",
    "\n",
    "    def __call__(self, v, method='hunt'):\n",
    "        if method == 'hunt':\n",
    "            i = hunt(self.X, v, self.i_last)\n",
    "        elif method == 'bisection':\n",
    "            i = bisection(self.X, v)\n",
    "        else:\n",
    "            i = linear(self.X, v)\n",
    "\n",
    "        self.i_last = i  # store last index for hunting\n",
    "\n",
    "        x0, x1 = self.X[i], self.X[i+1]\n",
    "        y0, y1 = self.Y[i], self.Y[i+1]\n",
    "        m      = (y1 - y0) / (x1 - x0)\n",
    "        return y0 + m * (v - x0)"
   ]
  },
  {
   "cell_type": "code",
   "execution_count": null,
   "id": "24",
   "metadata": {},
   "outputs": [],
   "source": [
    "import matplotlib.pyplot as plt\n",
    "\n",
    "def f(x):\n",
    "    return np.exp(-0.5 * x**2)\n",
    "\n",
    "Xs = np.sort(np.random.uniform(-5, 5, 20))\n",
    "Ys = f(Xs)\n",
    "\n",
    "fi = Interpolator(Xs, Ys)\n",
    "\n",
    "Xi = np.linspace(min(Xs), max(Xs), 100)\n",
    "Yi = np.array([fi(x) for x in Xi])\n",
    "\n",
    "plt.plot(Xs, Ys, 'o-', label='Sampled data')\n",
    "plt.plot(Xi, Yi, '.',  label='Interpolation')\n",
    "plt.legend()\n",
    "plt.show()"
   ]
  },
  {
   "cell_type": "markdown",
   "id": "25",
   "metadata": {},
   "source": [
    "Finally, let's test our claim: hunting should be faster than bisection\n",
    "when queries are sequential and correlated."
   ]
  },
  {
   "cell_type": "code",
   "execution_count": null,
   "id": "26",
   "metadata": {},
   "outputs": [],
   "source": [
    "from timeit import timeit\n",
    "\n",
    "Xs = np.sort(np.random.uniform(-5, 5, 1000))\n",
    "Ys = f(Xs)\n",
    "fi = Interpolator(Xs, Ys)\n",
    "Xi = np.linspace(min(Xs), max(Xs), 10_000)\n",
    "\n",
    "def job(method):\n",
    "    Yi = [fi(x, method) for x in Xi]\n",
    "\n",
    "dt_linear    = timeit(\"job('linear')\",    globals=globals(), number=1)\n",
    "dt_bisection = timeit(\"job('bisection')\", globals=globals(), number=1)\n",
    "dt_hunt      = timeit(\"job('hunt')\",      globals=globals(), number=1)"
   ]
  },
  {
   "cell_type": "code",
   "execution_count": null,
   "id": "27",
   "metadata": {},
   "outputs": [],
   "source": [
    "print('Linear   :', dt_linear)\n",
    "print('Bisection:', dt_bisection)\n",
    "print('Hunt     :', dt_hunt)"
   ]
  },
  {
   "cell_type": "code",
   "execution_count": null,
   "id": "28",
   "metadata": {},
   "outputs": [],
   "source": [
    "# HANDSON: change the number of sampled points and interpolation\n",
    "#          points and measure the performance of all three methods.\n",
    "#          What are the performance characteristics when\n",
    "#          N_sample >> N_interpolation and\n",
    "#          N_sample << N_interpolation?\n"
   ]
  },
  {
   "cell_type": "markdown",
   "id": "29",
   "metadata": {},
   "source": [
    "```{note} Main Take Away\n",
    "\n",
    "It may seem surprising that interpolation, which sounds like purely\n",
    "numerical, actually spends much of its effort on searching.\n",
    "The interpolation formula itself is simple, but locating the right\n",
    "interval in the data dominates the work.\n",
    "\n",
    "This may be less surprising if we start asking ourselves what are\n",
    "computers good at?\n",
    "Certainly at arithmetic, but equally at bookkeeping (and communication\n",
    "now when we have internet).\n",
    "In fact, much of computer science is devoted to studying how to\n",
    "organize and retrieve data efficiently.\n",
    "This is what \"data structures and algorithms\" are about.\n",
    "Searching in interpolation is a great example of this.\n",
    "Efficient bookkeeping can matter as much as the numerical formula.\n",
    "\n",
    "Our codes here were one-dimensional and simple.\n",
    "But in practice, many scientific applications require multidimensional\n",
    "interpolation.\n",
    "In higher dimensions, the search problem quickly becomes far more\n",
    "complicated.\n",
    "Efficient methods often rely on tree structures (e.g., kd-trees or\n",
    "octrees) to organize points and make search practical.\n",
    "This is the same kind of complexity that appears in $n$-body\n",
    "simulations and particle-mesh algorithms, where bookkeeping and\n",
    "efficient search dominate performance.\n",
    "\n",
    "Thus, linear interpolation serves as a small but important lesson:\n",
    "computational science (i.e., numerical analysis) and computer science\n",
    "are deeply connected.\n",
    "To do science at scale, one must care not only about the equations,\n",
    "but also about how data are organized and searched.\n",
    "```"
   ]
  }
 ],
 "metadata": {
  "kernelspec": {
   "display_name": "Python 3 (ipykernel)",
   "language": "python",
   "name": "python3"
  },
  "language_info": {
   "codemirror_mode": {
    "name": "ipython",
    "version": 3
   },
   "file_extension": ".py",
   "mimetype": "text/x-python",
   "name": "python",
   "nbconvert_exporter": "python",
   "pygments_lexer": "ipython3",
   "version": "3.13.7"
  }
 },
 "nbformat": 4,
 "nbformat_minor": 5
}
