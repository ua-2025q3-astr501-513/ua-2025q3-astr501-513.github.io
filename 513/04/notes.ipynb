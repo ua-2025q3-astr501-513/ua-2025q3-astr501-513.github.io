{
 "cells": [
  {
   "cell_type": "markdown",
   "id": "0",
   "metadata": {},
   "source": [
    "# Interpolation and Extrapolation"
   ]
  },
  {
   "cell_type": "markdown",
   "id": "1",
   "metadata": {},
   "source": [
    "```{note}\n",
    "This lecture follows closely\n",
    "[Numerical Recipes](https://numerical.recipes/) 2nd Edition in C and\n",
    "3rd Edition in C++, Chapter 3 \"Interpolation and Extrapolation\".\n",
    "```"
   ]
  },
  {
   "cell_type": "markdown",
   "id": "2",
   "metadata": {},
   "source": [
    "In scientific computing and machine learning, interpolation and\n",
    "extrapolation are essential methods for estimating unknown values from\n",
    "known data."
   ]
  },
  {
   "cell_type": "markdown",
   "id": "3",
   "metadata": {},
   "source": [
    "Interpolation deals with predicting values within the range of\n",
    "available data.\n",
    "This is the foundation of most supervised learning tasks in machine\n",
    "learning, where models predict outputs in the same region where they\n",
    "were trained.\n",
    "Standard interpolation methods include:\n",
    "* Polynomial interpolation is flexible but can suffer from\n",
    "  oscillations at the edges of the interval (Runge's phenomenon).\n",
    "* Rational interpolation can help stabilize the behavior, especially\n",
    "  near asymptotes or when functions have strong curvature.\n",
    "* Spline interpolation, particularly cubic splines, provides smooth\n",
    "  fits with continuity up to the second derivative.\n",
    "  This is especially useful when a smooth curve is required, such as\n",
    "  in modeling or visualization."
   ]
  },
  {
   "cell_type": "markdown",
   "id": "4",
   "metadata": {},
   "source": [
    "Extrapolation extends predictions beyond the available data.\n",
    "It is inherently unreliable: without additional information, we cannot\n",
    "know how a function continues beyond the known region.\n",
    "A promising modern approach is physics-informed machine learning\n",
    "(PIML), where physical laws such as ODEs are built into the model.\n",
    "By respecting known constraints, such methods can make extrapolations\n",
    "that remain consistent with physics."
   ]
  },
  {
   "cell_type": "markdown",
   "id": "5",
   "metadata": {},
   "source": [
    "Interpolation and function approximation are related but slightly\n",
    "different.\n",
    "It is useful to distinguish between them:\n",
    "* Interpolation uses existing data to estimate specific missing\n",
    "  values.\n",
    "* Function approximation constructs a simplified function that\n",
    "  captures the overall behavior of a more complex one.\n",
    "  It is often for efficiency or analytic convenience.\n",
    "  (See [Numerical Recipes](https://numerical.recipes/), Chapter 5.)"
   ]
  },
  {
   "cell_type": "markdown",
   "id": "6",
   "metadata": {},
   "source": [
    "## Limitations of Interpolation\n",
    "\n",
    "Even the best interpolation schemes can fail when the function itself\n",
    "is ill-behaved.\n",
    "For example:\n",
    "\\begin{align}\n",
    "  f(x) = 3x^2 + \\frac{1}{\\pi^4}\\ln\\left[(\\pi - x)^2\\right] + 1\n",
    "\\end{align}\n",
    "This function looks smooth but has a subtle singularity at $x = \\pi$.\n",
    "Interpolating only near the singularity produces misleading results,\n",
    "as we see in these python plots."
   ]
  },
  {
   "cell_type": "code",
   "execution_count": null,
   "id": "7",
   "metadata": {},
   "outputs": [],
   "source": [
    "import numpy as np\n",
    "from matplotlib import pyplot as plt\n",
    "\n",
    "def f(x):\n",
    "    return 3 * x**2 + np.log((np.pi - x)**2) / np.pi**4 + 1\n",
    "\n",
    "x1 = np.linspace(3.13, 3.16, 4)     # very sparse\n",
    "x2 = np.linspace(3.13, 3.16, 31)    # coarse\n",
    "x3 = np.linspace(3.13, 3.16, 301)   # medium\n",
    "x4 = np.linspace(3.13, 3.16, 3001)  # dense\n",
    "\n",
    "plt.plot(x4, f(x4),       label='3001 points')\n",
    "plt.plot(x3, f(x3), '--', label='301 points')\n",
    "plt.plot(x2, f(x2), 'o:', label='31 points')\n",
    "plt.plot(x1, f(x1), 'o-', label='4 points')\n",
    "plt.legend()"
   ]
  },
  {
   "cell_type": "markdown",
   "id": "8",
   "metadata": {},
   "source": [
    "This example shows why interpolation methods should always be paired\n",
    "with error estimates and awareness of the underlying physics or\n",
    "mathematics."
   ]
  }
 ],
 "metadata": {
  "kernelspec": {
   "display_name": "Python 3 (ipykernel)",
   "language": "python",
   "name": "python3"
  },
  "language_info": {
   "codemirror_mode": {
    "name": "ipython",
    "version": 3
   },
   "file_extension": ".py",
   "mimetype": "text/x-python",
   "name": "python",
   "nbconvert_exporter": "python",
   "pygments_lexer": "ipython3",
   "version": "3.13.7"
  }
 },
 "nbformat": 4,
 "nbformat_minor": 5
}
