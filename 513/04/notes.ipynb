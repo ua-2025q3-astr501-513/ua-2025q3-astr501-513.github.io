{
 "cells": [
  {
   "cell_type": "markdown",
   "id": "0",
   "metadata": {},
   "source": [
    "# Interpolation and Extrapolation"
   ]
  },
  {
   "cell_type": "markdown",
   "id": "1",
   "metadata": {},
   "source": [
    "```{note}\n",
    "This lecture follows closely\n",
    "[Numerical Recipes](https://numerical.recipes/) 2nd Edition in C and\n",
    "3rd Edition in C++, Chapter 3 \"Interpolation and Extrapolation\".\n",
    "```"
   ]
  },
  {
   "cell_type": "markdown",
   "id": "2",
   "metadata": {},
   "source": [
    "In scientific computing and machine learning, interpolation and\n",
    "extrapolation are essential methods for estimating unknown values from\n",
    "known data."
   ]
  },
  {
   "cell_type": "markdown",
   "id": "3",
   "metadata": {},
   "source": [
    "Interpolation deals with predicting values within the range of\n",
    "available data.\n",
    "This is the foundation of most supervised learning tasks in machine\n",
    "learning, where models predict outputs in the same region where they\n",
    "were trained.\n",
    "Standard interpolation methods include:\n",
    "* Polynomial interpolation is flexible but can suffer from\n",
    "  oscillations at the edges of the interval (Runge's phenomenon).\n",
    "* Rational interpolation can help stabilize the behavior, especially\n",
    "  near asymptotes or when functions have strong curvature.\n",
    "* Spline interpolation, particularly cubic splines, provides smooth\n",
    "  fits with continuity up to the second derivative.\n",
    "  This is especially useful when a smooth curve is required, such as\n",
    "  in modeling or visualization."
   ]
  },
  {
   "cell_type": "markdown",
   "id": "4",
   "metadata": {},
   "source": [
    "Extrapolation extends predictions beyond the available data.\n",
    "It is inherently unreliable: without additional information, we cannot\n",
    "know how a function continues beyond the known region.\n",
    "A promising modern approach is physics-informed machine learning\n",
    "(PIML), where physical laws such as ODEs are built into the model.\n",
    "By respecting known constraints, such methods can make extrapolations\n",
    "that remain consistent with physics."
   ]
  },
  {
   "cell_type": "markdown",
   "id": "5",
   "metadata": {},
   "source": [
    "Interpolation and function approximation are related but slightly\n",
    "different.\n",
    "It is useful to distinguish between them:\n",
    "* Interpolation uses existing data to estimate specific missing\n",
    "  values.\n",
    "* Function approximation constructs a simplified function that\n",
    "  captures the overall behavior of a more complex one.\n",
    "  It is often for efficiency or analytic convenience.\n",
    "  (See [Numerical Recipes](https://numerical.recipes/), Chapter 5.)"
   ]
  },
  {
   "cell_type": "markdown",
   "id": "6",
   "metadata": {},
   "source": [
    "## Limitations of Interpolation\n",
    "\n",
    "Even the best interpolation schemes can fail when the function itself\n",
    "is ill-behaved.\n",
    "For example:\n",
    "\\begin{align}\n",
    "  f(x) = 3x^2 + \\frac{1}{\\pi^4}\\ln\\left[(\\pi - x)^2\\right] + 1\n",
    "\\end{align}\n",
    "This function looks smooth but has a subtle singularity at $x = \\pi$.\n",
    "Interpolating only near the singularity produces misleading results,\n",
    "as we see in these python plots."
   ]
  },
  {
   "cell_type": "code",
   "execution_count": null,
   "id": "7",
   "metadata": {},
   "outputs": [],
   "source": [
    "import numpy as np\n",
    "\n",
    "def f(x):\n",
    "    return 3 * x**2 + np.log((np.pi - x)**2) / np.pi**4 + 1\n",
    "\n",
    "x1 = np.linspace(3.13, 3.16, 3+1)     # very sparse\n",
    "x2 = np.linspace(3.13, 3.16, 30+1)    # coarse\n",
    "x3 = np.linspace(3.13, 3.16, 300+1)   # medium\n",
    "x4 = np.linspace(3.13, 3.16, 3000+1)  # dense"
   ]
  },
  {
   "cell_type": "code",
   "execution_count": null,
   "id": "8",
   "metadata": {},
   "outputs": [],
   "source": [
    "from matplotlib import pyplot as plt\n",
    "\n",
    "plt.plot(x4, f(x4),       label='3001 points')\n",
    "plt.plot(x3, f(x3), '--', label='301 points')\n",
    "plt.plot(x2, f(x2), 'o:', label='31 points')\n",
    "plt.plot(x1, f(x1), 'o-', label='4 points')\n",
    "plt.legend()"
   ]
  },
  {
   "cell_type": "markdown",
   "id": "9",
   "metadata": {},
   "source": [
    "This example shows why interpolation methods should always be paired\n",
    "with error estimates and awareness of the underlying physics or\n",
    "mathematics."
   ]
  },
  {
   "cell_type": "markdown",
   "id": "10",
   "metadata": {},
   "source": [
    "## Preliminaries: Searching an Ordered Table\n",
    "\n",
    "Before we can interpolate, we need to know where in the dataset our\n",
    "target value lies.\n",
    "This step is called searching.\n",
    "* If data are sampled on a regular grid, finding neighbors is trivial:\n",
    "  just use the array index.\n",
    "* If data are irregularly spaced, we must locate the two points that\n",
    "  bracket the target value.\n",
    "* This search step can be just as costly as the interpolation itself,\n",
    "  so efficient methods are critical in practice.\n",
    "  In fact, in multi-dimension, it may require non-trivial algorithm\n",
    "  and advanced data structure.\n",
    "\n",
    "[Numerical Recipes](https://numerical.recipes/) describes two main\n",
    "approaches: bisection and hunting, each suited to different scenarios.\n"
   ]
  },
  {
   "cell_type": "markdown",
   "id": "11",
   "metadata": {},
   "source": [
    "### Linear Search\n",
    "\n",
    "As a baseline, let's consider a simple linear search.\n",
    "It scans through the array until the first value larger than the\n",
    "target is found."
   ]
  },
  {
   "cell_type": "code",
   "execution_count": null,
   "id": "12",
   "metadata": {},
   "outputs": [],
   "source": [
    "def linear(X, v):\n",
    "    for i in range(len(X)):  # use a Python loop for clarity\n",
    "        if X[i] >= v:\n",
    "            return i - 1"
   ]
  },
  {
   "cell_type": "code",
   "execution_count": null,
   "id": "13",
   "metadata": {},
   "outputs": [],
   "source": [
    "import numpy as np\n",
    "\n",
    "for _ in range(5):\n",
    "    X = sorted(np.random.uniform(0, 100, 10))\n",
    "    v = np.random.uniform(min(X), max(X))\n",
    "    i = linear(X, v)\n",
    "    assert X[i] <= v and v < X[i+1]\n",
    "    print(f'{X[i]} <= {v} < {X[i+1]}')"
   ]
  },
  {
   "cell_type": "markdown",
   "id": "14",
   "metadata": {},
   "source": [
    "This works, but it requires $\\mathcal{O}(N)$ steps.\n",
    "For large datasets, this is inefficient."
   ]
  },
  {
   "cell_type": "markdown",
   "id": "15",
   "metadata": {},
   "source": [
    "### Bisection Search\n",
    "\n",
    "The bisection method is much faster.\n",
    "It repeatedly halves the search interval until the target is bracketed.\n",
    "For $N$ data points, it requires only about $\\log_2(N)$ steps."
   ]
  },
  {
   "cell_type": "code",
   "execution_count": null,
   "id": "16",
   "metadata": {},
   "outputs": [],
   "source": [
    "def bisection(X, v):\n",
    "    l, h = 0, len(X) - 1\n",
    "    while h - l > 1:\n",
    "        m = (l + h) // 2\n",
    "        if v >= X[m]:\n",
    "            l = m\n",
    "        else:\n",
    "            h = m\n",
    "    return l  # index of the closest value less than the target"
   ]
  },
  {
   "cell_type": "code",
   "execution_count": null,
   "id": "17",
   "metadata": {},
   "outputs": [],
   "source": [
    "for _ in range(5):\n",
    "    X = sorted(np.random.uniform(0, 100, 10))\n",
    "    v = np.random.uniform(min(X), max(X))\n",
    "    i = bisection(X, v)\n",
    "    assert X[i] <= v and v < X[i+1]\n",
    "    print(f'{X[i]} <= {v} < {X[i+1]}')"
   ]
  },
  {
   "cell_type": "markdown",
   "id": "18",
   "metadata": {},
   "source": [
    "This method is robust and efficient for uncorrelated queries, where\n",
    "each target value is unrelated to the previous one."
   ]
  }
 ],
 "metadata": {
  "kernelspec": {
   "display_name": "Python 3 (ipykernel)",
   "language": "python",
   "name": "python3"
  },
  "language_info": {
   "codemirror_mode": {
    "name": "ipython",
    "version": 3
   },
   "file_extension": ".py",
   "mimetype": "text/x-python",
   "name": "python",
   "nbconvert_exporter": "python",
   "pygments_lexer": "ipython3",
   "version": "3.13.7"
  }
 },
 "nbformat": 4,
 "nbformat_minor": 5
}
