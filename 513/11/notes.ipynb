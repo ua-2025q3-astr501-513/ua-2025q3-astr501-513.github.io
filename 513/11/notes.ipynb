{
 "cells": [
  {
   "cell_type": "markdown",
   "id": "0",
   "metadata": {},
   "source": [
    "# Numerical PDE II: Spectral Methods"
   ]
  },
  {
   "cell_type": "markdown",
   "id": "1",
   "metadata": {},
   "source": [
    "## Burgers' Equation\n",
    "\n",
    "In the previous lecture, we analyzed finite difference methods for the\n",
    "linear advection equation,\n",
    "\\begin{align}\n",
    "  \\frac{\\partial u}{\\partial t} + c \\frac{\\partial u}{\\partial x} = 0,\n",
    "\\end{align}\n",
    "and studied their stability and accuracy using von Neumann analysis\n",
    "and modified equations.\n",
    "\n",
    "Now, we turn to a nonlinear extension: the Burgers' equation.\n",
    "By replacing the constant wave speed $c$ with the solution variable\n",
    "itself, the equation becomes\n",
    "\\begin{align}\n",
    "  \\frac{\\partial u}{\\partial t} + u \\frac{\\partial u}{\\partial x} = 0.\n",
    "\\end{align}\n",
    "This is the inviscid Burgers' equation, a canonical model for\n",
    "nonlinear advection."
   ]
  },
  {
   "cell_type": "code",
   "execution_count": null,
   "id": "2",
   "metadata": {},
   "outputs": [],
   "source": [
    "# Parameters\n",
    "\n",
    "l  = 1.0   # domain size\n",
    "dt = 0.01  # time step\n",
    "\n",
    "nx = 100   # number of spatial points\n",
    "nt = 20    # number of time steps"
   ]
  },
  {
   "cell_type": "code",
   "execution_count": null,
   "id": "3",
   "metadata": {},
   "outputs": [],
   "source": [
    "import numpy as np\n",
    "\n",
    "X, dx = np.linspace(0, l, nx, endpoint=False, retstep=True)  # spatial grid\n",
    "U0    = np.sin(2*np.pi * X)  # initial condition"
   ]
  },
  {
   "cell_type": "code",
   "execution_count": null,
   "id": "4",
   "metadata": {},
   "outputs": [],
   "source": [
    "# Forward Time Centered Space (FTCS) scheme\n",
    "\n",
    "def FTCS(U0, dx, dt, n):\n",
    "    U = [U0]\n",
    "    for _ in range(n):\n",
    "        U0    = U[-1]\n",
    "        sigma = U0 * dt / dx\n",
    "        U1    = U0 - sigma * (np.roll(U0,-1) - np.roll(U0,1)) / 2\n",
    "        U.append(U1)\n",
    "    return np.array(U)"
   ]
  },
  {
   "cell_type": "code",
   "execution_count": null,
   "id": "5",
   "metadata": {},
   "outputs": [],
   "source": [
    "UFTCS = FTCS(U0, dx, dt, nt) # numerical solution"
   ]
  },
  {
   "cell_type": "code",
   "execution_count": null,
   "id": "6",
   "metadata": {},
   "outputs": [],
   "source": [
    "from matplotlib import pyplot as plt\n",
    "\n",
    "plt.plot(X, U0,              label=\"Initial Condition\")\n",
    "plt.plot(X, UFTCS[10], '.-', label=f'$t$={10*dt}')\n",
    "plt.plot(X, UFTCS[14], '.-', label=f'$t$={14*dt}')\n",
    "plt.plot(X, UFTCS[18], '.-', label=f'$t$={18*dt}')\n",
    "plt.xlabel('x')\n",
    "plt.ylabel('u')\n",
    "plt.legend()"
   ]
  },
  {
   "cell_type": "code",
   "execution_count": null,
   "id": "7",
   "metadata": {},
   "outputs": [],
   "source": [
    "from matplotlib.animation import ArtistAnimation\n",
    "from IPython.display import HTML\n",
    "from tqdm import tqdm\n",
    "\n",
    "def animate(X, U):\n",
    "    fig, ax = plt.subplots(1,1)\n",
    "    ax.set_xlabel('x')\n",
    "    ax.set_ylabel('y')\n",
    "\n",
    "    frames = []\n",
    "    for n in tqdm(range(len(U))):\n",
    "        f = ax.plot(X, U[n], 'C0.-', animated=True)\n",
    "        frames.append(f)\n",
    "        plt.close()\n",
    "    \n",
    "    return ArtistAnimation(fig, frames, interval=40)"
   ]
  },
  {
   "cell_type": "code",
   "execution_count": null,
   "id": "8",
   "metadata": {},
   "outputs": [],
   "source": [
    "anim = animate(X, UFTCS)\n",
    "\n",
    "HTML(anim.to_html5_video())  # display animation\n",
    "# anim.save('FTCS.mp4')        # save animation"
   ]
  },
  {
   "cell_type": "code",
   "execution_count": null,
   "id": "9",
   "metadata": {},
   "outputs": [],
   "source": [
    "# HANDSON: Plot other snapshots and study the oscillations.\n"
   ]
  },
  {
   "cell_type": "code",
   "execution_count": null,
   "id": "10",
   "metadata": {},
   "outputs": [],
   "source": [
    "# HANDSON: Change the parameters and initial conditions.\n"
   ]
  },
  {
   "cell_type": "markdown",
   "id": "11",
   "metadata": {},
   "source": [
    "The Burgers' equation is important because:\n",
    "* It demonstrates wave steepening: smooth initial profiles evolve into\n",
    "  discontinuous shocks.\n",
    "* It highlights the limitations of finite difference schemes:\n",
    "  dispersion and oscillations arise near shocks."
   ]
  },
  {
   "cell_type": "markdown",
   "id": "12",
   "metadata": {},
   "source": [
    "As with the linear advection equation, the FTCS scheme is\n",
    "unconditionally for Burgers' equation.\n",
    "Even with very small time steps, oscillations grow and the solution\n",
    "eventually blows up.\n",
    "\n",
    "The numerical solution initially appears to evolve correctly.\n",
    "However, once the shock starts to form, the numerical solution quickly\n",
    "develops high-frequency oscillations near the shock.\n",
    "These oscillations grow exponentially in time, destroying the\n",
    "solution.\n",
    "\n",
    "There is no convergence---the method is unstable."
   ]
  },
  {
   "cell_type": "code",
   "execution_count": null,
   "id": "13",
   "metadata": {},
   "outputs": [],
   "source": [
    "# HANDSON: modify the upwind scheme from lecture 9 to solve the\n",
    "#          Burgers' equation\n",
    "\n",
    "def upwind(U0, dx, dt, n):\n",
    "    ..."
   ]
  },
  {
   "cell_type": "code",
   "execution_count": null,
   "id": "14",
   "metadata": {},
   "outputs": [],
   "source": [
    "dt = 0.01  # time step\n",
    "nt = 100   # number of time steps\n",
    "\n",
    "Uupwind = upwind(U0, dx, dt, nt) # numerical solution"
   ]
  },
  {
   "cell_type": "code",
   "execution_count": null,
   "id": "15",
   "metadata": {},
   "outputs": [],
   "source": [
    "plt.plot(X, U0,                label=\"Initial Condition\")\n",
    "plt.plot(X, UFTCS[18],   '.-', label=\"FTCS\")\n",
    "plt.plot(X, Uupwind[18], '.-', label=\"Upwind\")\n",
    "plt.xlabel('x')\n",
    "plt.ylabel('u')\n",
    "plt.legend()"
   ]
  },
  {
   "cell_type": "code",
   "execution_count": null,
   "id": "16",
   "metadata": {},
   "outputs": [],
   "source": [
    "anim = animate(X, Uupwind)\n",
    "\n",
    "HTML(anim.to_html5_video())  # display animation\n",
    "# anim.save('upwind.mp4')      # save animation"
   ]
  },
  {
   "cell_type": "code",
   "execution_count": null,
   "id": "17",
   "metadata": {},
   "outputs": [],
   "source": [
    "# HANDSON: Plot other snapshots and study the oscillations.\n"
   ]
  },
  {
   "cell_type": "code",
   "execution_count": null,
   "id": "18",
   "metadata": {},
   "outputs": [],
   "source": [
    "# HANDSON: Change the parameters and initial conditions.\n",
    "#          Specifically, try out dt > 0.01.\n"
   ]
  },
  {
   "cell_type": "markdown",
   "id": "19",
   "metadata": {},
   "source": [
    "For the upwind method, the maximum `dt` that support stable solution\n",
    "is limited by the Courant-Friedrichs-Lewy condition, i.e., at each\n",
    "grid point, we require the Courant number $\\sigma = u \\Delta t/\\Delta\n",
    "x \\leq 1$.\n",
    "\n",
    "The scheme captures shocks robustly and monotonically.\n",
    "The numerical viscosity (implicit by the numerical method) spreads\n",
    "shocks over several grid cells.\n",
    "However, the smooth regions damp out over time due to numerical\n",
    "diffusion.\n",
    "\n",
    "The convergence rate is first-order everywhere."
   ]
  },
  {
   "cell_type": "markdown",
   "id": "20",
   "metadata": {},
   "source": [
    "Next, let's explore the Lax-Wendroff Scheme."
   ]
  },
  {
   "cell_type": "code",
   "execution_count": null,
   "id": "21",
   "metadata": {},
   "outputs": [],
   "source": [
    "# Lax-Wendroff scheme\n",
    "\n",
    "def LW(U0, dx, dt, n):\n",
    "    ..."
   ]
  },
  {
   "cell_type": "code",
   "execution_count": null,
   "id": "22",
   "metadata": {},
   "outputs": [],
   "source": [
    "dt = 0.01  # time step\n",
    "nt = 100   # number of time steps\n",
    "\n",
    "ULW = LW(U0, dx, dt, nt) # numerical solution"
   ]
  },
  {
   "cell_type": "code",
   "execution_count": null,
   "id": "23",
   "metadata": {},
   "outputs": [],
   "source": [
    "plt.plot(X, U0,                label=\"Initial Condition\")\n",
    "plt.plot(X, UFTCS[18],   '.-', label=\"FTCS\")\n",
    "plt.plot(X, Uupwind[18], '.-', label=\"Upwind\")\n",
    "plt.plot(X, ULW[18],     '.-', label=\"Lax-Wendroff\")\n",
    "plt.xlabel('x')\n",
    "plt.ylabel('u')\n",
    "plt.legend()"
   ]
  },
  {
   "cell_type": "code",
   "execution_count": null,
   "id": "24",
   "metadata": {},
   "outputs": [],
   "source": [
    "anim = animate(X, ULW)\n",
    "\n",
    "HTML(anim.to_html5_video())  # display animation\n",
    "# anim.save('LW.mp4')      # save animation"
   ]
  },
  {
   "cell_type": "markdown",
   "id": "25",
   "metadata": {},
   "source": [
    "The Lax-Wendroff scheme, similar to upwind scheme, is stable under CFL\n",
    "condition.\n",
    "\n",
    "The solution has excellent accuracy for smooth solutions.\n",
    "However, it has Gibbs-like oscillations appear at shocks.\n",
    "It is non-monotone but conservative.\n",
    "\n",
    "The convergence rate is second-order for smooth flows, first-order for\n",
    "discontinuous ones."
   ]
  },
  {
   "cell_type": "markdown",
   "id": "26",
   "metadata": {},
   "source": [
    "## Weak Solutions\n",
    "\n",
    "Inviscid Burgers' equation develops discontinuities (shocks) in finite\n",
    "time, even from smooth initial conditions.\n",
    "For example, an initial sine wave we saw earlier steepens until the\n",
    "slope blows up.\n",
    "\n",
    "This leads to a breakdown of classical solutions.\n",
    "Namely, the PDE cannot be satisfied pointwise after a discontinuity\n",
    "forms.\n",
    "To make sense of solutions beyond shock formation, we introduce the\n",
    "concept of a weak solution."
   ]
  },
  {
   "cell_type": "markdown",
   "id": "27",
   "metadata": {},
   "source": [
    "Multiply a PDE by a smooth test function $\\phi(x,t)$, integrate over\n",
    "space and time, and integrate by parts:\n",
    "\\begin{align}\n",
    "  \\int_0^\\infty \\int_{0}^\\ell\n",
    "  \\left(u\\frac{\\partial\\phi}{\\partial t}\n",
    "        + \\frac{1}{2}u^2\\frac{\\partial\\phi}{\\partial x}\\right)\n",
    "  dx dt = 0.\n",
    "\\end{align}\n",
    "\n",
    "The solution satisfying the above equation is called a weak solution.\n",
    "Note that this definition still makes sense if $u$ is discontinuous.\n",
    "Thus, weak solutions allow shocks."
   ]
  },
  {
   "cell_type": "markdown",
   "id": "28",
   "metadata": {},
   "source": [
    "Not all weak solutions are physically relevant.\n",
    "The entropy condition rules out unphysical \"expansion shocks\".\n",
    "For Burgers, this requires that characteristics enter the shock (no\n",
    "information leaves it).\n",
    "\n",
    "Physical solutions must be dissipative: they do not create new\n",
    "information.\n",
    "Mathematically, this is enforced by requiring that solutions satisfy\n",
    "an entropy inequality in addition to the PDE.\n",
    "\n",
    "For Burgers' equation:\n",
    "* Define an entropy function $\\eta(u) = u^2/2$.\n",
    "* Associated entropy flux: $q(u) = u^3/3$.\n",
    "\n",
    "The entropy condition requires\n",
    "\\begin{align}\n",
    "  \\eta(u)_t + q(u)_x \\le 0,\n",
    "\\end{align}\n",
    "in the weak sense.\n",
    "\n",
    "This inequality expresses that entropy should not decrease (no\n",
    "creation of spurious \"order\").\n",
    "For the Burgers' equation (and many fluid dynamic equations), it rules\n",
    "out expansion shocks, where characteristics diverge from the shock.\n",
    "Instead, it selects compressive shocks, where characteristics converge\n",
    "into the shock."
   ]
  }
 ],
 "metadata": {
  "kernelspec": {
   "display_name": "Python 3 (ipykernel)",
   "language": "python",
   "name": "python3"
  },
  "language_info": {
   "codemirror_mode": {
    "name": "ipython",
    "version": 3
   },
   "file_extension": ".py",
   "mimetype": "text/x-python",
   "name": "python",
   "nbconvert_exporter": "python",
   "pygments_lexer": "ipython3",
   "version": "3.13.7"
  }
 },
 "nbformat": 4,
 "nbformat_minor": 5
}
