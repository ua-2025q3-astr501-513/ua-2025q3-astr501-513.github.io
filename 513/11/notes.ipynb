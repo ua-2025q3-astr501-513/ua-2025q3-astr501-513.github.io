{
 "cells": [
  {
   "cell_type": "markdown",
   "id": "0",
   "metadata": {},
   "source": [
    "# Numerical PDE II: Spectral Methods"
   ]
  },
  {
   "cell_type": "markdown",
   "id": "1",
   "metadata": {},
   "source": [
    "## Burgers' Equation\n",
    "\n",
    "In the previous lecture, we analyzed finite difference methods for the\n",
    "linear advection equation,\n",
    "\\begin{align}\n",
    "  \\frac{\\partial u}{\\partial t} + c \\frac{\\partial u}{\\partial x} = 0,\n",
    "\\end{align}\n",
    "and studied their stability and accuracy using von Neumann analysis\n",
    "and modified equations.\n",
    "\n",
    "Now, we turn to a nonlinear extension: the Burgers' equation.\n",
    "By replacing the constant wave speed $c$ with the solution variable\n",
    "itself, the equation becomes\n",
    "\\begin{align}\n",
    "  \\frac{\\partial u}{\\partial t} + u \\frac{\\partial u}{\\partial x} = 0.\n",
    "\\end{align}\n",
    "This is the inviscid Burgers' equation, a canonical model for\n",
    "nonlinear advection."
   ]
  },
  {
   "cell_type": "code",
   "execution_count": null,
   "id": "2",
   "metadata": {},
   "outputs": [],
   "source": [
    "# Parameters\n",
    "\n",
    "l  = 1.0   # domain size\n",
    "dt = 0.01  # time step\n",
    "\n",
    "nx = 100   # number of spatial points\n",
    "nt = 20    # number of time steps"
   ]
  },
  {
   "cell_type": "code",
   "execution_count": null,
   "id": "3",
   "metadata": {},
   "outputs": [],
   "source": [
    "import numpy as np\n",
    "\n",
    "X, dx = np.linspace(0, l, nx, endpoint=False, retstep=True)  # spatial grid\n",
    "U0    = np.sin(2*np.pi * X)  # initial condition"
   ]
  },
  {
   "cell_type": "code",
   "execution_count": null,
   "id": "4",
   "metadata": {},
   "outputs": [],
   "source": [
    "# Forward Time Centered Space (FTCS) scheme\n",
    "\n",
    "def FTCS(U0, dx, dt, n):\n",
    "    U = [U0]\n",
    "    for _ in range(n):\n",
    "        U0    = U[-1]\n",
    "        sigma = U0 * dt / dx\n",
    "        U1    = U0 - sigma * (np.roll(U0,-1) - np.roll(U0,1)) / 2\n",
    "        U.append(U1)\n",
    "    return np.array(U)"
   ]
  },
  {
   "cell_type": "code",
   "execution_count": null,
   "id": "5",
   "metadata": {},
   "outputs": [],
   "source": [
    "UFTCS = FTCS(U0, dx, dt, nt) # numerical solution"
   ]
  },
  {
   "cell_type": "code",
   "execution_count": null,
   "id": "6",
   "metadata": {},
   "outputs": [],
   "source": [
    "from matplotlib import pyplot as plt\n",
    "\n",
    "plt.plot(X, U0,              label=\"Initial Condition\")\n",
    "plt.plot(X, UFTCS[10], '.-', label=f'$t$={10*dt}')\n",
    "plt.plot(X, UFTCS[14], '.-', label=f'$t$={14*dt}')\n",
    "plt.plot(X, UFTCS[18], '.-', label=f'$t$={18*dt}')\n",
    "plt.xlabel('x')\n",
    "plt.ylabel('u')\n",
    "plt.legend()"
   ]
  },
  {
   "cell_type": "code",
   "execution_count": null,
   "id": "7",
   "metadata": {},
   "outputs": [],
   "source": [
    "from matplotlib.animation import ArtistAnimation\n",
    "from IPython.display import HTML\n",
    "from tqdm import tqdm\n",
    "\n",
    "def animate(X, U):\n",
    "    fig, ax = plt.subplots(1,1)\n",
    "    ax.set_xlabel('x')\n",
    "    ax.set_ylabel('y')\n",
    "\n",
    "    frames = []\n",
    "    for n in tqdm(range(len(U))):\n",
    "        f = ax.plot(X, U[n], 'C0.-', animated=True)\n",
    "        frames.append(f)\n",
    "        plt.close()\n",
    "    \n",
    "    return ArtistAnimation(fig, frames, interval=40)"
   ]
  },
  {
   "cell_type": "code",
   "execution_count": null,
   "id": "8",
   "metadata": {},
   "outputs": [],
   "source": [
    "anim = animate(X, UFTCS)\n",
    "\n",
    "HTML(anim.to_html5_video())  # display animation\n",
    "# anim.save('FTCS.mp4')        # save animation"
   ]
  },
  {
   "cell_type": "code",
   "execution_count": null,
   "id": "9",
   "metadata": {},
   "outputs": [],
   "source": [
    "# HANDSON: Plot other snapshots and study the oscillations.\n"
   ]
  },
  {
   "cell_type": "code",
   "execution_count": null,
   "id": "10",
   "metadata": {},
   "outputs": [],
   "source": [
    "# HANDSON: Change the parameters and initial conditions.\n"
   ]
  },
  {
   "cell_type": "markdown",
   "id": "11",
   "metadata": {},
   "source": [
    "The Burgers' equation is important because:\n",
    "* It demonstrates wave steepening: smooth initial profiles evolve into\n",
    "  discontinuous shocks.\n",
    "* It highlights the limitations of finite difference schemes:\n",
    "  dispersion and oscillations arise near shocks."
   ]
  },
  {
   "cell_type": "markdown",
   "id": "12",
   "metadata": {},
   "source": [
    "As with the linear advection equation, the FTCS scheme is\n",
    "unconditionally for Burgers' equation.\n",
    "Even with very small time steps, oscillations grow and the solution\n",
    "eventually blows up.\n",
    "\n",
    "The numerical solution initially appears to evolve correctly.\n",
    "However, once the shock starts to form, the numerical solution quickly\n",
    "develops high-frequency oscillations near the shock.\n",
    "These oscillations grow exponentially in time, destroying the\n",
    "solution.\n",
    "\n",
    "There is no convergence---the method is unstable."
   ]
  },
  {
   "cell_type": "code",
   "execution_count": null,
   "id": "13",
   "metadata": {},
   "outputs": [],
   "source": [
    "# HANDSON: modify the upwind scheme from lecture 9 to solve the\n",
    "#          Burgers' equation\n",
    "\n",
    "def upwind(U0, dx, dt, n):\n",
    "    ..."
   ]
  },
  {
   "cell_type": "code",
   "execution_count": null,
   "id": "14",
   "metadata": {},
   "outputs": [],
   "source": [
    "dt = 0.01  # time step\n",
    "nt = 100   # number of time steps\n",
    "\n",
    "Uupwind = upwind(U0, dx, dt, nt) # numerical solution"
   ]
  },
  {
   "cell_type": "code",
   "execution_count": null,
   "id": "15",
   "metadata": {},
   "outputs": [],
   "source": [
    "plt.plot(X, U0,                label=\"Initial Condition\")\n",
    "plt.plot(X, UFTCS[18],   '.-', label=\"FTCS\")\n",
    "plt.plot(X, Uupwind[18], '.-', label=\"Upwind\")\n",
    "plt.xlabel('x')\n",
    "plt.ylabel('u')\n",
    "plt.legend()"
   ]
  },
  {
   "cell_type": "code",
   "execution_count": null,
   "id": "16",
   "metadata": {},
   "outputs": [],
   "source": [
    "anim = animate(X, Uupwind)\n",
    "\n",
    "HTML(anim.to_html5_video())  # display animation\n",
    "# anim.save('upwind.mp4')      # save animation"
   ]
  },
  {
   "cell_type": "code",
   "execution_count": null,
   "id": "17",
   "metadata": {},
   "outputs": [],
   "source": [
    "# HANDSON: Plot other snapshots and study the oscillations.\n"
   ]
  },
  {
   "cell_type": "code",
   "execution_count": null,
   "id": "18",
   "metadata": {},
   "outputs": [],
   "source": [
    "# HANDSON: Change the parameters and initial conditions.\n",
    "#          Specifically, try out dt > 0.01.\n"
   ]
  },
  {
   "cell_type": "markdown",
   "id": "19",
   "metadata": {},
   "source": [
    "For the upwind method, the maximum `dt` that support stable solution\n",
    "is limited by the Courant-Friedrichs-Lewy condition, i.e., at each\n",
    "grid point, we require the Courant number $\\sigma = u \\Delta t/\\Delta\n",
    "x \\leq 1$.\n",
    "\n",
    "The scheme captures shocks robustly and monotonically.\n",
    "The numerical viscosity (implicit by the numerical method) spreads\n",
    "shocks over several grid cells.\n",
    "However, the smooth regions damp out over time due to numerical\n",
    "diffusion.\n",
    "\n",
    "The convergence rate is first-order everywhere."
   ]
  },
  {
   "cell_type": "markdown",
   "id": "20",
   "metadata": {},
   "source": [
    "Next, let's explore the Lax-Wendroff Scheme."
   ]
  },
  {
   "cell_type": "code",
   "execution_count": null,
   "id": "21",
   "metadata": {},
   "outputs": [],
   "source": [
    "# Lax-Wendroff scheme\n",
    "\n",
    "def LW(U0, dx, dt, n):\n",
    "    ..."
   ]
  },
  {
   "cell_type": "code",
   "execution_count": null,
   "id": "22",
   "metadata": {},
   "outputs": [],
   "source": [
    "dt = 0.01  # time step\n",
    "nt = 100   # number of time steps\n",
    "\n",
    "ULW = LW(U0, dx, dt, nt) # numerical solution"
   ]
  },
  {
   "cell_type": "code",
   "execution_count": null,
   "id": "23",
   "metadata": {},
   "outputs": [],
   "source": [
    "plt.plot(X, U0,                label=\"Initial Condition\")\n",
    "plt.plot(X, UFTCS[18],   '.-', label=\"FTCS\")\n",
    "plt.plot(X, Uupwind[18], '.-', label=\"Upwind\")\n",
    "plt.plot(X, ULW[18],     '.-', label=\"Lax-Wendroff\")\n",
    "plt.xlabel('x')\n",
    "plt.ylabel('u')\n",
    "plt.legend()"
   ]
  },
  {
   "cell_type": "code",
   "execution_count": null,
   "id": "24",
   "metadata": {},
   "outputs": [],
   "source": [
    "anim = animate(X, ULW)\n",
    "\n",
    "HTML(anim.to_html5_video())  # display animation\n",
    "# anim.save('LW.mp4')      # save animation"
   ]
  },
  {
   "cell_type": "markdown",
   "id": "25",
   "metadata": {},
   "source": [
    "The Lax-Wendroff scheme, similar to upwind scheme, is stable under CFL\n",
    "condition.\n",
    "\n",
    "The solution has excellent accuracy for smooth solutions.\n",
    "However, it has Gibbs-like oscillations appear at shocks.\n",
    "It is non-monotone but conservative.\n",
    "\n",
    "The convergence rate is second-order for smooth flows, first-order for\n",
    "discontinuous ones."
   ]
  },
  {
   "cell_type": "markdown",
   "id": "26",
   "metadata": {},
   "source": [
    "## Weak Solutions\n",
    "\n",
    "Inviscid Burgers' equation develops discontinuities (shocks) in finite\n",
    "time, even from smooth initial conditions.\n",
    "For example, an initial sine wave we saw earlier steepens until the\n",
    "slope blows up.\n",
    "\n",
    "This leads to a breakdown of classical solutions.\n",
    "Namely, the PDE cannot be satisfied pointwise after a discontinuity\n",
    "forms.\n",
    "To make sense of solutions beyond shock formation, we introduce the\n",
    "concept of a weak solution."
   ]
  },
  {
   "cell_type": "markdown",
   "id": "27",
   "metadata": {},
   "source": [
    "Multiply a PDE by a smooth test function $\\phi(x,t)$, integrate over\n",
    "space and time, and integrate by parts:\n",
    "\\begin{align}\n",
    "  \\int_0^\\infty \\int_{0}^\\ell\n",
    "  \\left(u\\frac{\\partial\\phi}{\\partial t}\n",
    "        + \\frac{1}{2}u^2\\frac{\\partial\\phi}{\\partial x}\\right)\n",
    "  dx dt = 0.\n",
    "\\end{align}\n",
    "\n",
    "The solution satisfying the above equation is called a weak solution.\n",
    "Note that this definition still makes sense if $u$ is discontinuous.\n",
    "Thus, weak solutions allow shocks."
   ]
  },
  {
   "cell_type": "markdown",
   "id": "28",
   "metadata": {},
   "source": [
    "Not all weak solutions are physically relevant.\n",
    "The entropy condition rules out unphysical \"expansion shocks\".\n",
    "For Burgers, this requires that characteristics enter the shock (no\n",
    "information leaves it).\n",
    "\n",
    "Physical solutions must be dissipative: they do not create new\n",
    "information.\n",
    "Mathematically, this is enforced by requiring that solutions satisfy\n",
    "an entropy inequality in addition to the PDE.\n",
    "\n",
    "For Burgers' equation:\n",
    "* Define an entropy function $\\eta(u) = u^2/2$.\n",
    "* Associated entropy flux: $q(u) = u^3/3$.\n",
    "\n",
    "The entropy condition requires\n",
    "\\begin{align}\n",
    "  \\eta(u)_t + q(u)_x \\le 0,\n",
    "\\end{align}\n",
    "in the weak sense.\n",
    "\n",
    "This inequality expresses that entropy should not decrease (no\n",
    "creation of spurious \"order\").\n",
    "For the Burgers' equation (and many fluid dynamic equations), it rules\n",
    "out expansion shocks, where characteristics diverge from the shock.\n",
    "Instead, it selects compressive shocks, where characteristics converge\n",
    "into the shock."
   ]
  },
  {
   "cell_type": "markdown",
   "id": "29",
   "metadata": {},
   "source": [
    "## Spectral Methods\n",
    "\n",
    "In the previous section, we introduced the concept of weak solutions\n",
    "to handle shocks in Burgers' equation.\n",
    "The weak formulation required us to test the PDE against smooth\n",
    "functions and integrate by parts, which naturally shifted the focus\n",
    "from pointwise derivatives to integral relations over function spaces.\n",
    "\n",
    "This perspective leads directly to spectral methods.\n",
    "\n",
    "In spectral methods, both the solution $u$ and the test functions $v$\n",
    "are represented as expansions in orthogonal basis functions (such as\n",
    "Fourier modes or orthogonal polynomials).\n",
    "By projecting the PDE onto these basis functions, we obtain a system\n",
    "of algebraic equations for the expansion coefficients."
   ]
  },
  {
   "cell_type": "markdown",
   "id": "30",
   "metadata": {},
   "source": [
    "Spectral methods are a powerful class of numerical techniques for\n",
    "solving PDEs by representing the solution as a global expansion in\n",
    "orthogonal basis functions.\n",
    "Unlike finite difference or finite volume methods (next lecture),\n",
    "which approximate derivatives locally on stencils, spectral methods\n",
    "approximate the entire function globally.\n",
    "\n",
    "For smooth solutions, this approach achieves spectral accuracy.\n",
    "The error decreases faster than any power of the grid spacing, often\n",
    "exponentially, as the number of modes increases."
   ]
  },
  {
   "cell_type": "markdown",
   "id": "31",
   "metadata": {},
   "source": [
    "The advantages of using spectral methods include:\n",
    "1. High Accuracy (Spectral Convergence):\n",
    "   * For smooth problems, spectral methods can achieve exponential\n",
    "     convergence.\n",
    "   * A small number of modes can resolve very fine details compared to\n",
    "     high-resolution finite difference methods.\n",
    "2. Efficient Computation:\n",
    "   * Differentiation and integration become algebraic operations in\n",
    "     spectral space.\n",
    "   * With Fast Fourier Transforms (FFT), these operations are\n",
    "     $\\mathcal{O}(N \\log N)$, making them practical for large\n",
    "     problems.\n",
    "3. Conservation Properties:\n",
    "   * With Galerkin truncation, spectral methods naturally conserve\n",
    "     invariants such as energy and enstrophy.\n",
    "   * This is especially important in fluid dynamics and turbulence modeling.\n",
    "4. Applications in Science and Engineering:\n",
    "   * Astrophysical fluid dynamics.\n",
    "   * Weather and ocean modeling.\n",
    "   * Turbulence simulations.\n",
    "   * Quantum mechanics and wave propagation."
   ]
  },
  {
   "cell_type": "markdown",
   "id": "32",
   "metadata": {},
   "source": [
    "### Core Ideas\n",
    "\n",
    "We approximate a function $u(x)$ by a truncated series of orthogonal\n",
    "basis functions.\n",
    "For example, in the Fourier spectral method on a periodic domain:\n",
    "\\begin{align}\n",
    "  u(x) \\approx \\sum_{k=-N/2}^{N/2} \\hat{u}_k e^{ikx},\n",
    "\\end{align}\n",
    "where $\\hat{u}_k$ are Fourier coefficients.\n",
    "\n",
    "Differentiation is exact in spectral space:\n",
    "\\begin{align}\n",
    "  \\frac{\\partial u}{\\partial x} = \\sum_{k=-N/2}^{N/2} ik\\hat{u}_k e^{ikx}.\n",
    "\\end{align}\n",
    "\n",
    "Thus, spectral methods can be seen as a natural extension of\n",
    "high-order finite differences:\n",
    "instead of improving accuracy with wider local stencils, we represent\n",
    "the entire solution in a global basis where differentiation is exact."
   ]
  },
  {
   "cell_type": "markdown",
   "id": "33",
   "metadata": {},
   "source": [
    "### Periodic vs. Non-Periodic Domains\n",
    "\n",
    "* Periodic problems:\n",
    "  Fourier modes $e^{ikx}$ form the natural orthogonal basis.\n",
    "* Non-periodic problems:\n",
    "  Chebyshev or Legendre polynomials are often used, maintaining\n",
    "  spectral accuracy while accommodating boundary conditions."
   ]
  },
  {
   "cell_type": "markdown",
   "id": "34",
   "metadata": {},
   "source": [
    "### Strengths and Limitations\n",
    "\n",
    "* Strengths:\n",
    "  * Exponential convergence for smooth problems.\n",
    "  * Captures global solution features with fewer degrees of freedom.\n",
    "  * Efficient with FFT-based implementations.\n",
    "\n",
    "* Limitations:\n",
    "  * Require smoothness:\n",
    "    discontinuities produce oscillations (Gibbs phenomenon).\n",
    "  * More complex for non-periodic geometries.\n",
    "  * Global coupling:\n",
    "    each mode influences the entire domain, which can make very large\n",
    "    systems computationally heavy."
   ]
  },
  {
   "cell_type": "markdown",
   "id": "35",
   "metadata": {},
   "source": [
    "### Spectral Galerkin vs. Pseudo-Spectral Methods\n",
    "\n",
    "Spectral methods come in two closely related formulations.\n",
    "Both begin by expanding the solution in a truncated set of orthogonal\n",
    "basis functions."
   ]
  },
  {
   "cell_type": "markdown",
   "id": "36",
   "metadata": {},
   "source": [
    "The **Spectral Galerkin Method** start with the weak form of the PDE.\n",
    "The governing equations are multiplied by a test function (from the\n",
    "same basis set) and integrate over the domain.\n",
    "The residual is then required to vanish in this weak sense:\n",
    "\\begin{align}\n",
    "  \\int \\frac{\\partial u}{\\partial t} v dx + \\int \\frac{\\partial f(u)}{\\partial x} v dx = 0.\n",
    "\\end{align}\n",
    "With the Fourier basis on a periodic domain, this reduces to an exact\n",
    "algebraic system for the modal coefficients $\\hat{u}_k$.\n",
    "This approach is mathematically elegant and highlights the connection\n",
    "to variational formulations."
   ]
  },
  {
   "cell_type": "markdown",
   "id": "37",
   "metadata": {},
   "source": [
    "The **Pseudo-Spectral Method**, on the other hand, compute all\n",
    "derivatives in Fourier space, but evaluate nonlinear terms directly in\n",
    "physical space.\n",
    "\n",
    "The algorithm is very straightforward:\n",
    "1. Transform function to Fourier space using FFT.\n",
    "2. Compute derivatives in Fourier space.\n",
    "3. Inverse transform the derivatives back to physical space.\n",
    "4. Compute all nonlinear terms, e.g., $u\\partial u/\\partial x$ in\n",
    "   physical space.\n",
    "5. Advance grid points in time.\n",
    "\n",
    "This avoids expensive convolutions in Fourier space, since nonlinear\n",
    "products are simple in real space.\n",
    "The computation complexity is $\\mathcal{O}(N \\log N)$ with FFT."
   ]
  },
  {
   "cell_type": "markdown",
   "id": "38",
   "metadata": {},
   "source": [
    "In this lecture, we will adopt the pseudo-spectral method to solve the\n",
    "Burgers' equation."
   ]
  },
  {
   "cell_type": "markdown",
   "id": "39",
   "metadata": {},
   "source": [
    "### Pseudo-Spectral Method for Burgers' Equation (Method of Lines)\n",
    "\n",
    "We now apply the pseudo-spectral method to the inviscous Burgers'\n",
    "equation:\n",
    "\\begin{align}\n",
    "  \\frac{\\partial u}{\\partial t} + u \\frac{\\partial u}{\\partial x} = 0,\n",
    "  \\qquad x \\in [0, 2\\pi],\n",
    "  \\quad u(x,0) = u_0(x).\n",
    "\\end{align}\n",
    "\n",
    "Represent the solution as a truncated Fourier series:\n",
    "\\begin{align}\n",
    "  u(x,t) \\approx \\sum_{k=-N/2}^{N/2-1} \\hat{u}_k(t) e^{ikx},\n",
    "\\end{align}\n",
    "where $k$ are integer wavenumbers and $\\hat{u}_k(t)$ are the\n",
    "time-dependent Fourier coefficients."
   ]
  },
  {
   "cell_type": "markdown",
   "id": "40",
   "metadata": {},
   "source": [
    "Differentiation is exact in Fourier space:\n",
    "\\begin{align}\n",
    "  \\frac{\\partial u}{\\partial x} \\longleftrightarrow ik\\hat{u}_k.\n",
    "\\end{align}"
   ]
  },
  {
   "cell_type": "markdown",
   "id": "41",
   "metadata": {},
   "source": [
    "Once the derivatives are obtain, each grid point simply follow a\n",
    "system of ODEs.\n",
    "We integrate this ODE system with a high-order time-stepping scheme\n",
    "such as Runge-Kutta 4 (RK4)."
   ]
  },
  {
   "cell_type": "code",
   "execution_count": null,
   "id": "42",
   "metadata": {},
   "outputs": [],
   "source": [
    "# Parameters\n",
    "\n",
    "l  = 1.0   # domain size\n",
    "dt = 0.01  # time step\n",
    "\n",
    "nx = 100   # number of spatial points\n",
    "nt = 31    # number of time steps"
   ]
  },
  {
   "cell_type": "code",
   "execution_count": null,
   "id": "43",
   "metadata": {},
   "outputs": [],
   "source": [
    "# Setup the grid in both spatial and spectral domains\n",
    "\n",
    "from numpy.fft import fftfreq\n",
    "\n",
    "X, dx = np.linspace(0, l, nx, endpoint=False, retstep=True)  # spatial grid\n",
    "K     = 2*np.pi * fftfreq(nx, d=l/nx)  # spectral \"wavenumber\" grid \n",
    "\n",
    "U0    = np.sin(2*np.pi * X)  # initial condition"
   ]
  },
  {
   "cell_type": "code",
   "execution_count": null,
   "id": "44",
   "metadata": {},
   "outputs": [],
   "source": [
    "# Implement spectral derivative\n",
    "\n",
    "from numpy.fft import fft, ifft\n",
    "\n",
    "def ddx(u):\n",
    "    U    = fft(u)\n",
    "    ikU  = 1j * K * U\n",
    "    dudx = ifft(ikU)\n",
    "    return dudx.real"
   ]
  },
  {
   "cell_type": "code",
   "execution_count": null,
   "id": "45",
   "metadata": {},
   "outputs": [],
   "source": [
    "# Test the spectral derivative\n",
    "\n",
    "dU0dxref = 2*np.pi * np.cos(2*np.pi*X)\n",
    "dU0dx    = ddx(U0)\n",
    "\n",
    "plt.plot(X, dU0dxref)\n",
    "plt.plot(X, dU0dx, '--')\n",
    "\n",
    "print(np.max(abs(dU0dx-dU0dxref)))"
   ]
  },
  {
   "cell_type": "code",
   "execution_count": null,
   "id": "46",
   "metadata": {},
   "outputs": [],
   "source": [
    "# Copy our previous RK4 implement\n",
    "\n",
    "def RK4(f, u0, t0, dt, n):\n",
    "    U = [np.array(u0)]\n",
    "    T = [np.array(t0)]\n",
    "    for _ in range(n):\n",
    "        k1 = f(U[-1]                )\n",
    "        k2 = f(U[-1] + 0.5 * dt * k1)\n",
    "        k3 = f(U[-1] + 0.5 * dt * k2)\n",
    "        k4 = f(U[-1] +       dt * k3)\n",
    "        U.append(U[-1] + dt * (k1/6 + k2/3 + k3/3 + k4/6))\n",
    "        T.append(T[-1] + dt)\n",
    "    return np.array(U), np.array(T)"
   ]
  },
  {
   "cell_type": "code",
   "execution_count": null,
   "id": "47",
   "metadata": {},
   "outputs": [],
   "source": [
    "# The right hand side of the Burgers' equation\n",
    "\n",
    "def rhs(u):\n",
    "    return - u * ddx(u)"
   ]
  },
  {
   "cell_type": "code",
   "execution_count": null,
   "id": "48",
   "metadata": {},
   "outputs": [],
   "source": [
    "# That's it!\n",
    "# Here is a pseudo-spectral implementation of the Burgers' equation\n",
    "\n",
    "Uspec, Tspec = RK4(rhs, U0, 0, dt, nt)"
   ]
  },
  {
   "cell_type": "code",
   "execution_count": null,
   "id": "49",
   "metadata": {},
   "outputs": [],
   "source": [
    "# Plot the result\n",
    "\n",
    "plt.plot(Uspec[::4].T)\n",
    "plt.xlabel(r\"$x$\")\n",
    "plt.ylabel(r\"$u$\")"
   ]
  },
  {
   "cell_type": "code",
   "execution_count": null,
   "id": "50",
   "metadata": {},
   "outputs": [],
   "source": [
    "# Animate the result\n",
    "\n",
    "anim = animate(X, Uspec)\n",
    "\n",
    "HTML(anim.to_html5_video())  # display animation\n",
    "# anim.save('LW.mp4')      # save animation"
   ]
  },
  {
   "cell_type": "code",
   "execution_count": null,
   "id": "51",
   "metadata": {},
   "outputs": [],
   "source": [
    "# HANDSON: Plot other snapshots and study the oscillations.\n"
   ]
  },
  {
   "cell_type": "code",
   "execution_count": null,
   "id": "52",
   "metadata": {},
   "outputs": [],
   "source": [
    "# HANDSON: Change the parameters and initial conditions.\n",
    "#          Specifically, try out dt > 0.01.\n"
   ]
  },
  {
   "cell_type": "code",
   "execution_count": null,
   "id": "53",
   "metadata": {},
   "outputs": [],
   "source": [
    "# HANDSON: Let's also inspect the energy as function of time.\n"
   ]
  },
  {
   "cell_type": "markdown",
   "id": "54",
   "metadata": {},
   "source": [
    "We have previously learn about the CFL condition.\n",
    "When $u \\delta t/\\delta x > 1$, finite difference scheme becomes\n",
    "unstable.\n",
    "The same hold for spectral method.\n",
    "One speculation is that when the Gibbs phenomena start to kick in,\n",
    "some $|u_i^n|$ becomes larger than 1.\n",
    "And $\\Delta t = 0.01$ is no longer small enough to keep the\n",
    "pseudo-spectral method stable.\n",
    "\n",
    "Let's update our `RK4()` method to include adaptive time stepping."
   ]
  },
  {
   "cell_type": "code",
   "execution_count": null,
   "id": "55",
   "metadata": {},
   "outputs": [],
   "source": [
    "# HANDSON: Adaptive RK4 implement\n",
    "\n",
    "def RK4adap(f, u0, t0, CFL, t1):\n",
    "    ..."
   ]
  },
  {
   "cell_type": "code",
   "execution_count": null,
   "id": "56",
   "metadata": {},
   "outputs": [],
   "source": [
    "Uadap, Tadap = RK4adap(rhs, U0, 0, 0.5, 0.3)"
   ]
  },
  {
   "cell_type": "code",
   "execution_count": null,
   "id": "57",
   "metadata": {},
   "outputs": [],
   "source": [
    "plt.plot(Uadaptive[::8].T)\n",
    "plt.xlabel(r\"$x$\")\n",
    "plt.ylabel(r\"$u$\")"
   ]
  },
  {
   "cell_type": "code",
   "execution_count": null,
   "id": "58",
   "metadata": {},
   "outputs": [],
   "source": [
    "anim = animate(X, Uspec)\n",
    "\n",
    "HTML(anim.to_html5_video())  # display animation\n",
    "# anim.save('LW.mp4')      # save animation"
   ]
  },
  {
   "cell_type": "code",
   "execution_count": null,
   "id": "59",
   "metadata": {},
   "outputs": [],
   "source": [
    "# HANDSON: Let's inspect the energy as function of time.\n"
   ]
  }
 ],
 "metadata": {
  "kernelspec": {
   "display_name": "Python 3 (ipykernel)",
   "language": "python",
   "name": "python3"
  },
  "language_info": {
   "codemirror_mode": {
    "name": "ipython",
    "version": 3
   },
   "file_extension": ".py",
   "mimetype": "text/x-python",
   "name": "python",
   "nbconvert_exporter": "python",
   "pygments_lexer": "ipython3",
   "version": "3.13.7"
  }
 },
 "nbformat": 4,
 "nbformat_minor": 5
}
