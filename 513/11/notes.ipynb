{
 "cells": [
  {
   "cell_type": "markdown",
   "id": "0",
   "metadata": {},
   "source": [
    "# Numerical PDE II: Spectral Methods"
   ]
  },
  {
   "cell_type": "markdown",
   "id": "1",
   "metadata": {},
   "source": [
    "## Burgers' Equation\n",
    "\n",
    "In the previous lecture, we analyzed finite difference methods for the\n",
    "linear advection equation,\n",
    "\\begin{align}\n",
    "  \\frac{\\partial u}{\\partial t} + c \\frac{\\partial u}{\\partial x} = 0,\n",
    "\\end{align}\n",
    "and studied their stability and accuracy using von Neumann analysis\n",
    "and modified equations.\n",
    "\n",
    "Now, we turn to a nonlinear extension: the Burgers' equation.\n",
    "By replacing the constant wave speed $c$ with the solution variable\n",
    "itself, the equation becomes\n",
    "\\begin{align}\n",
    "  \\frac{\\partial u}{\\partial t} + u \\frac{\\partial u}{\\partial x} = 0.\n",
    "\\end{align}\n",
    "This is the inviscid Burgers' equation, a canonical model for\n",
    "nonlinear advection."
   ]
  },
  {
   "cell_type": "code",
   "execution_count": null,
   "id": "2",
   "metadata": {},
   "outputs": [],
   "source": [
    "# Parameters\n",
    "\n",
    "l  = 1.0   # domain size\n",
    "dt = 0.01  # time step\n",
    "\n",
    "nx = 100   # number of spatial points\n",
    "nt = 20    # number of time steps"
   ]
  },
  {
   "cell_type": "code",
   "execution_count": null,
   "id": "3",
   "metadata": {},
   "outputs": [],
   "source": [
    "import numpy as np\n",
    "\n",
    "X, dx = np.linspace(0, l, nx, endpoint=False, retstep=True)  # spatial grid\n",
    "U0    = np.sin(2*np.pi * X)  # initial condition"
   ]
  },
  {
   "cell_type": "code",
   "execution_count": null,
   "id": "4",
   "metadata": {},
   "outputs": [],
   "source": [
    "# Forward Time Centered Space (FTCS) scheme\n",
    "\n",
    "def FTCS(U0, dx, dt, n):\n",
    "    U = [U0]\n",
    "    for _ in range(n):\n",
    "        U0    = U[-1]\n",
    "        sigma = U0 * dt / dx\n",
    "        U1    = U0 - sigma * (np.roll(U0,-1) - np.roll(U0,1)) / 2\n",
    "        U.append(U1)\n",
    "    return np.array(U)"
   ]
  },
  {
   "cell_type": "code",
   "execution_count": null,
   "id": "5",
   "metadata": {},
   "outputs": [],
   "source": [
    "UFTCS = FTCS(U0, dx, dt, nt) # numerical solution"
   ]
  },
  {
   "cell_type": "code",
   "execution_count": null,
   "id": "6",
   "metadata": {},
   "outputs": [],
   "source": [
    "from matplotlib import pyplot as plt\n",
    "\n",
    "plt.plot(X, U0,              label='Initial Condition')\n",
    "plt.plot(X, UFTCS[10], '.-', label=f'$t$={10*dt}')\n",
    "plt.plot(X, UFTCS[14], '.-', label=f'$t$={14*dt}')\n",
    "plt.plot(X, UFTCS[18], '.-', label=f'$t$={18*dt}')\n",
    "plt.xlabel('x')\n",
    "plt.ylabel('u')\n",
    "plt.legend()"
   ]
  },
  {
   "cell_type": "markdown",
   "id": "7",
   "metadata": {},
   "source": [
    "The Burgers' equation is important because:\n",
    "* It demonstrates wave steepening: smooth initial profiles evolve into\n",
    "  discontinuous shocks.\n",
    "* It highlights the limitations of finite difference schemes:\n",
    "  dispersion and oscillations arise near shocks."
   ]
  }
 ],
 "metadata": {
  "kernelspec": {
   "display_name": "Python 3 (ipykernel)",
   "language": "python",
   "name": "python3"
  },
  "language_info": {
   "codemirror_mode": {
    "name": "ipython",
    "version": 3
   },
   "file_extension": ".py",
   "mimetype": "text/x-python",
   "name": "python",
   "nbconvert_exporter": "python",
   "pygments_lexer": "ipython3",
   "version": "3.13.7"
  }
 },
 "nbformat": 4,
 "nbformat_minor": 5
}
