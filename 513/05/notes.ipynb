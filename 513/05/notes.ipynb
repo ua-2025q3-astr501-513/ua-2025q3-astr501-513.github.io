{
 "cells": [
  {
   "cell_type": "markdown",
   "id": "0",
   "metadata": {},
   "source": [
    "# Numerical and Automatic Derivatives"
   ]
  },
  {
   "cell_type": "markdown",
   "id": "1",
   "metadata": {},
   "source": [
    "Derivatives are fundamental in mathematical modeling because they\n",
    "quantify rates of change.\n",
    "They provide insight into how physical systems evolve, how signals\n",
    "vary, and how models respond to inputs.\n",
    "\n",
    "In computational physics, engineering, and machine learning, the\n",
    "efficient and accurate computation of derivatives is essential.\n",
    "We rely on derivatives for simulations, optimization, and sensitivity\n",
    "analysis.\n",
    "\n",
    "For simple functions, derivatives can often be computed analytically.\n",
    "But in real applications, functions are frequently nonlinear,\n",
    "high-dimensional, or too complex for manual differentiation.\n",
    "In these cases, alternative computational techniques become\n",
    "indispensable."
   ]
  },
  {
   "cell_type": "markdown",
   "id": "2",
   "metadata": {},
   "source": [
    "### Definition of the Derivative\n",
    "\n",
    "The derivative of a real-valued function $f(x)$ at a point $x=a$ is\n",
    "defined as the limit\n",
    "\\begin{align}\n",
    "  f'(a) \\equiv \\lim_{h\\rightarrow 0}\n",
    "  \\frac{f(a+h) - f(a)}{h}\n",
    "\\end{align}\n",
    "\n",
    "If this limit exists, it represents the slope of the tangent line to\n",
    "the curve $y=f(x)$ at $x=a$.\n",
    "More generally, the derivative function $f'(x)$ describes the local\n",
    "rate of change of $f(x)$."
   ]
  },
  {
   "cell_type": "markdown",
   "id": "3",
   "metadata": {},
   "source": [
    "### Chain Rule\n",
    "\n",
    "One of the most important rules in calculus is the chain rule.\n",
    "For a composite function $f(x) = g(h(x))$,\n",
    "\\begin{align}\n",
    "  f'(x) = g'(h(x)) h'(x).\n",
    "\\end{align}\n",
    "The chain rule is not just a basic calculus identity.\n",
    "It is the central principle behind modern computational approaches to\n",
    "derivatives.\n",
    "As we will see, both numerical differentiation schemes and automatic\n",
    "differentiation rely heavily on repeated applications of this rule.\n"
   ]
  },
  {
   "cell_type": "markdown",
   "id": "4",
   "metadata": {},
   "source": [
    "### Approaches to Computing Derivatives\n",
    "\n",
    "There are three main approaches to computing derivatives in practice:\n",
    "1. Symbolic differentiation\n",
    "   Applies algebraic rules directly to mathematical expressions,\n",
    "   producing exact formulas.\n",
    "   (This is what you do in calculus class.)\n",
    "2. Numerical differentiation\n",
    "   Uses finite differences to approximate derivatives from discrete\n",
    "   function values.\n",
    "   These methods are easy to implement but introduce truncation and\n",
    "   round-off errors.\n",
    "3. Automatic differentiation (AD)\n",
    "   Systematically applies the chain rule at the level of elementary\n",
    "   operations.\n",
    "   AD computes derivatives to machine precision without symbolic\n",
    "   algebra, making it efficient for complex functions and large-scale\n",
    "   systems.\n"
   ]
  },
  {
   "cell_type": "markdown",
   "id": "5",
   "metadata": {},
   "source": [
    "## Symbolic Differentiation\n",
    "\n",
    "Symbolic differentiation computes derivatives by applying calculus\n",
    "rules directly to symbolic expressions.\n",
    "Unlike numerical methods that we will see later, which only\n",
    "approximate derivatives at specific points, symbolic methods yield\n",
    "exact analytical expressions.\n",
    "This makes them valuable for theoretical analysis, closed-form\n",
    "solutions, and precise computation.\n",
    "\n",
    "The basic algorithm for symbolic differentiation can be described in\n",
    "three steps:\n",
    "1. Parse the expression:\n",
    "   Represent the function as a tree (nodes are operations like `+`,\n",
    "   `*`, `sin`, etc.).\n",
    "2. Apply differentiation rules:\n",
    "   Recursively apply rules (e.g., product rule, chain rule) to each\n",
    "   node.\n",
    "3. Simplify:\n",
    "   Reduce the resulting expression into a cleaner, more efficient\n",
    "   form.\n"
   ]
  },
  {
   "cell_type": "markdown",
   "id": "6",
   "metadata": {},
   "source": [
    "Consider the function $f(x) = x^2 \\sin(x) + e^{2x}$.\n",
    "To compute $f'(x)$, a symbolic differentiation system would:\n",
    "1. Differentiate $x^2 \\sin(x)$ using the product rule:\n",
    "   \\begin{align}\n",
    "   \\frac{d}{dx}[x^2 \\sin(x)] = x^2 \\cos(x) + 2 x \\sin(x)\n",
    "   \\end{align}\n",
    "2. Differentiate $e^{2x}$ using the chain rule:\n",
    "   \\begin{align}\n",
    "   \\frac{d}{dx}[e^{2x}] = 2 e^{2x}\n",
    "   \\end{align}\n",
    "3. Combine the results:\n",
    "   \\begin{align}\n",
    "   f'(x) = x^2 \\cos(x) + 2 x \\sin(x) + 2 e^{2x}\n",
    "   \\end{align}"
   ]
  },
  {
   "cell_type": "markdown",
   "id": "7",
   "metadata": {},
   "source": [
    "### Symbolic Differentiation with SymPy\n",
    "\n",
    "We can use [SymPy](https://www.sympy.org), a Python library for\n",
    "symbolic mathematics, to automate this process."
   ]
  },
  {
   "cell_type": "code",
   "execution_count": null,
   "id": "8",
   "metadata": {},
   "outputs": [],
   "source": [
    "!pip install sympy"
   ]
  },
  {
   "cell_type": "code",
   "execution_count": null,
   "id": "9",
   "metadata": {},
   "outputs": [],
   "source": [
    "import sympy as sp\n",
    "\n",
    "# Define symbolic variable and function\n",
    "x = sp.symbols('x')\n",
    "f = x**2 * sp.sin(x) + sp.exp(2*x)\n",
    "\n",
    "# Differentiate\n",
    "fp = sp.diff(f, x)\n",
    "\n",
    "# Simplify result\n",
    "fp_simplified = sp.simplify(fp)\n",
    "\n",
    "# Display the result with equation support\n",
    "display(f)\n",
    "display(fp_simplified)"
   ]
  },
  {
   "cell_type": "markdown",
   "id": "10",
   "metadata": {},
   "source": [
    "SymPy can compute higher-order derivatives just as easily:"
   ]
  },
  {
   "cell_type": "code",
   "execution_count": null,
   "id": "11",
   "metadata": {},
   "outputs": [],
   "source": [
    "fpp  = sp.diff(f, x, 2)  # second derivative\n",
    "fppp = sp.diff(f, x, 3)  # third derivative\n",
    "\n",
    "fpp_simplified  = sp.simplify(fpp)\n",
    "fppp_simplified = sp.simplify(fppp)\n",
    "\n",
    "display(fpp_simplified)\n",
    "display(fppp_simplified)"
   ]
  },
  {
   "cell_type": "markdown",
   "id": "12",
   "metadata": {},
   "source": [
    "We can visualize the function and its derivatives:"
   ]
  },
  {
   "cell_type": "code",
   "execution_count": null,
   "id": "13",
   "metadata": {},
   "outputs": [],
   "source": [
    "import numpy as np\n",
    "\n",
    "# Convert sympy expression into numpy-callable functions\n",
    "f_num    = sp.lambdify(x, f,               \"numpy\")\n",
    "fp_num   = sp.lambdify(x, fp_simplified,   \"numpy\")\n",
    "fpp_num  = sp.lambdify(x, fpp_simplified,  \"numpy\")\n",
    "fppp_num = sp.lambdify(x, fppp_simplified, \"numpy\")"
   ]
  },
  {
   "cell_type": "code",
   "execution_count": null,
   "id": "14",
   "metadata": {},
   "outputs": [],
   "source": [
    "import matplotlib.pyplot as plt\n",
    "\n",
    "X = np.linspace(-1, 1, 101)\n",
    "plt.plot(X, f_num(X),    label=r'$f(x)$')\n",
    "plt.plot(X, fp_num(X),   label=r\"$f'(x)$\")\n",
    "plt.plot(X, fpp_num(X),  label=r\"$f''(x)$\")\n",
    "plt.plot(X, fppp_num(X), label=r\"$f'''(x)$\")\n",
    "\n",
    "plt.legend()"
   ]
  },
  {
   "cell_type": "markdown",
   "id": "15",
   "metadata": {},
   "source": [
    "### Pros and Cons\n",
    "\n",
    "Symbolic differentiation is useful because it provides:\n",
    "* Exact results:\n",
    "  no approximation or rounding errors (until it is evaluated with\n",
    "  floating point numbers).\n",
    "* Validity across the domain:\n",
    "  derivative formulas apply everywhere the function is defined.\n",
    "* Analytical insight:\n",
    "  exact expressions make it easier to solve ODEs, optimize functions,\n",
    "  and manipulate formulas algebraically.\n",
    "\n",
    "Symbolic differentiation also has important drawbacks:\n",
    "* Expression growth:\n",
    "  formulas can quickly become large and messy for complex functions.\n",
    "* Computational cost:\n",
    "  evaluating or simplifying derivatives can be expensive for\n",
    "  high-dimensional systems.\n",
    "* Limited applicability:\n",
    "  not suitable when functions are given only by data, simulations, or\n",
    "  black-box algorithms.\n",
    "\n",
    "In such cases, numerical or automatic differentiation is usually the\n",
    "better choice."
   ]
  },
  {
   "cell_type": "markdown",
   "id": "16",
   "metadata": {},
   "source": [
    "### Software Tools\n",
    "\n",
    "Symbolic differentiation is supported in many systems:\n",
    "* [`SymPy`](https://www.sympy.org/):\n",
    "  An open-source Python library that provides capabilities for\n",
    "  symbolic differentiation, integration, and equation solving within\n",
    "  the Python ecosystem.\n",
    "* [`Mathematica`](https://www.wolfram.com/mathematica/):\n",
    "  A computational software developed by Wolfram Research, offering\n",
    "  extensive symbolic computation features used widely in academia and\n",
    "  industry.\n",
    "* [`Maple`](https://www.maplesoft.com/):\n",
    "  A software package designed for symbolic and numeric computing,\n",
    "  providing powerful tools for mathematical analysis.\n",
    "* [`Maxima`](https://maxima.sourceforge.io/):\n",
    "  An open-source computer algebra system specializing in symbolic\n",
    "  manipulation, accessible for users seeking free alternatives."
   ]
  },
  {
   "cell_type": "code",
   "execution_count": null,
   "id": "17",
   "metadata": {},
   "outputs": [],
   "source": [
    "# HANDSON: Differentiate and Simplify\n",
    "#\n",
    "# Define f(x) = ln(x^2 + 1) exp(x).\n",
    "# Use SymPy to compute f'(x), simplify it, and plot both\n",
    "# f(x) and f'(x).\n"
   ]
  },
  {
   "cell_type": "code",
   "execution_count": null,
   "id": "18",
   "metadata": {},
   "outputs": [],
   "source": [
    "# HANDSON: Product of Many Functions\n",
    "#\n",
    "# Define f(x) = sin(x) cos(x) tan(x).\n",
    "# Compute derivatives up to order 3.\n",
    "# What happens to expression complexity?\n"
   ]
  }
 ],
 "metadata": {
  "kernelspec": {
   "display_name": "Python 3 (ipykernel)",
   "language": "python",
   "name": "python3"
  },
  "language_info": {
   "codemirror_mode": {
    "name": "ipython",
    "version": 3
   },
   "file_extension": ".py",
   "mimetype": "text/x-python",
   "name": "python",
   "nbconvert_exporter": "python",
   "pygments_lexer": "ipython3",
   "version": "3.13.7"
  }
 },
 "nbformat": 4,
 "nbformat_minor": 5
}
