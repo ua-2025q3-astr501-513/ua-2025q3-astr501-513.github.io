{
 "cells": [
  {
   "cell_type": "markdown",
   "id": "0",
   "metadata": {},
   "source": [
    "# Numerical and Automatic Derivatives"
   ]
  },
  {
   "cell_type": "markdown",
   "id": "1",
   "metadata": {},
   "source": [
    "Derivatives are fundamental in mathematical modeling because they\n",
    "quantify rates of change.\n",
    "They provide insight into how physical systems evolve, how signals\n",
    "vary, and how models respond to inputs.\n",
    "\n",
    "In computational physics, engineering, and machine learning, the\n",
    "efficient and accurate computation of derivatives is essential.\n",
    "We rely on derivatives for simulations, optimization, and sensitivity\n",
    "analysis.\n",
    "\n",
    "For simple functions, derivatives can often be computed analytically.\n",
    "But in real applications, functions are frequently nonlinear,\n",
    "high-dimensional, or too complex for manual differentiation.\n",
    "In these cases, alternative computational techniques become\n",
    "indispensable."
   ]
  },
  {
   "cell_type": "markdown",
   "id": "2",
   "metadata": {},
   "source": [
    "### Definition of the Derivative\n",
    "\n",
    "The derivative of a real-valued function $f(x)$ at a point $x=a$ is\n",
    "defined as the limit\n",
    "\\begin{align}\n",
    "  f'(a) \\equiv \\lim_{h\\rightarrow 0}\n",
    "  \\frac{f(a+h) - f(a)}{h}\n",
    "\\end{align}\n",
    "\n",
    "If this limit exists, it represents the slope of the tangent line to\n",
    "the curve $y=f(x)$ at $x=a$.\n",
    "More generally, the derivative function $f'(x)$ describes the local\n",
    "rate of change of $f(x)$."
   ]
  },
  {
   "cell_type": "markdown",
   "id": "3",
   "metadata": {},
   "source": [
    "### Chain Rule\n",
    "\n",
    "One of the most important rules in calculus is the chain rule.\n",
    "For a composite function $f(x) = g(h(x))$,\n",
    "\\begin{align}\n",
    "  f'(x) = g'(h(x)) h'(x).\n",
    "\\end{align}\n",
    "The chain rule is not just a basic calculus identity.\n",
    "It is the central principle behind modern computational approaches to\n",
    "derivatives.\n",
    "As we will see, both numerical differentiation schemes and automatic\n",
    "differentiation rely heavily on repeated applications of this rule.\n"
   ]
  },
  {
   "cell_type": "markdown",
   "id": "4",
   "metadata": {},
   "source": [
    "### Approaches to Computing Derivatives\n",
    "\n",
    "There are three main approaches to computing derivatives in practice:\n",
    "1. Symbolic differentiation\n",
    "   Applies algebraic rules directly to mathematical expressions,\n",
    "   producing exact formulas.\n",
    "   (This is what you do in calculus class.)\n",
    "2. Numerical differentiation\n",
    "   Uses finite differences to approximate derivatives from discrete\n",
    "   function values.\n",
    "   These methods are easy to implement but introduce truncation and\n",
    "   round-off errors.\n",
    "3. Automatic differentiation (AD)\n",
    "   Systematically applies the chain rule at the level of elementary\n",
    "   operations.\n",
    "   AD computes derivatives to machine precision without symbolic\n",
    "   algebra, making it efficient for complex functions and large-scale\n",
    "   systems.\n"
   ]
  },
  {
   "cell_type": "markdown",
   "id": "5",
   "metadata": {},
   "source": [
    "## Symbolic Differentiation\n",
    "\n",
    "Symbolic differentiation computes derivatives by applying calculus\n",
    "rules directly to symbolic expressions.\n",
    "Unlike numerical methods that we will see later, which only\n",
    "approximate derivatives at specific points, symbolic methods yield\n",
    "exact analytical expressions.\n",
    "This makes them valuable for theoretical analysis, closed-form\n",
    "solutions, and precise computation.\n",
    "\n",
    "The basic algorithm for symbolic differentiation can be described in\n",
    "three steps:\n",
    "1. Parse the expression:\n",
    "   Represent the function as a tree (nodes are operations like `+`,\n",
    "   `*`, `sin`, etc.).\n",
    "2. Apply differentiation rules:\n",
    "   Recursively apply rules (e.g., product rule, chain rule) to each\n",
    "   node.\n",
    "3. Simplify:\n",
    "   Reduce the resulting expression into a cleaner, more efficient\n",
    "   form.\n"
   ]
  }
 ],
 "metadata": {
  "kernelspec": {
   "display_name": "Python 3 (ipykernel)",
   "language": "python",
   "name": "python3"
  },
  "language_info": {
   "codemirror_mode": {
    "name": "ipython",
    "version": 3
   },
   "file_extension": ".py",
   "mimetype": "text/x-python",
   "name": "python",
   "nbconvert_exporter": "python",
   "pygments_lexer": "ipython3",
   "version": "3.13.7"
  }
 },
 "nbformat": 4,
 "nbformat_minor": 5
}
