{
 "cells": [
  {
   "cell_type": "markdown",
   "id": "0",
   "metadata": {},
   "source": [
    "# Root Finding and Optimization Methods"
   ]
  },
  {
   "cell_type": "markdown",
   "id": "1",
   "metadata": {},
   "source": [
    "In computational physics and astrophysics, many problems reduce to two\n",
    "fundamental kinds:\n",
    "1. Root finding:\n",
    "   Where does a function vanish?\n",
    "   I.e., solve $f(x) = 0$.\n",
    "2. Optimization:\n",
    "   Where does a function reach an extremum (minimum or maximum)?\n",
    "   I.e., solve $\\nabla f(x) = 0$.\n",
    "\n",
    "These two kind of problems are deeply connected.\n",
    "Optimization often boils down to root finding on the derivative.\n",
    "And root finding sometimes requires optimization-like strategies\n",
    "to accelerate convergence."
   ]
  },
  {
   "cell_type": "markdown",
   "id": "2",
   "metadata": {},
   "source": [
    "Some classic examples of root finding include:\n",
    "* Solving Kepler's equation $M = E - e \\sin E$ to predict planetary\n",
    "  orbits.\n",
    "* Finding eigenfrequencies of stellar oscillations by locating roots\n",
    "  of characteristic equations.\n",
    "\n",
    "as well as optimization:\n",
    "* Determining the launch angle of a projectile for maximum range.\n",
    "* Fitting astrophysical models to observational data by minimizing a\n",
    "  chi-square error function.\n",
    "* Training machine learning models for data analysis in astronomy.\n",
    "\n",
    "In simple cases, closed-form solutions exist (e.g. projectile motion\n",
    "without air drag).\n",
    "However, in realistic systems, equations are often nonlinear,\n",
    "high-dimensional, and analytically unsolvable.\n",
    "Numerical root finding and optimization methods are the only way to\n",
    "solve these systems."
   ]
  },
  {
   "cell_type": "code",
   "execution_count": null,
   "id": "3",
   "metadata": {},
   "outputs": [],
   "source": []
  }
 ],
 "metadata": {
  "kernelspec": {
   "display_name": "Python 3 (ipykernel)",
   "language": "python",
   "name": "python3"
  },
  "language_info": {
   "codemirror_mode": {
    "name": "ipython",
    "version": 3
   },
   "file_extension": ".py",
   "mimetype": "text/x-python",
   "name": "python",
   "nbconvert_exporter": "python",
   "pygments_lexer": "ipython3",
   "version": "3.13.7"
  }
 },
 "nbformat": 4,
 "nbformat_minor": 5
}
