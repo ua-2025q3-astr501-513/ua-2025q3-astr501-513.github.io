{
 "cells": [
  {
   "cell_type": "markdown",
   "id": "0",
   "metadata": {},
   "source": [
    "# ODE Integrators II: Implicit and Symplectic Methods"
   ]
  },
  {
   "cell_type": "markdown",
   "id": "1",
   "metadata": {},
   "source": [
    "## Convergence of Integrators\n",
    "\n",
    "When solving ordinary differential equations (ODEs) numerically,\n",
    "errors inevitably enter through truncation (e.g., approximating\n",
    "derivatives with finite differences) and round-off (finite precision\n",
    "arithmetic).\n",
    "If these errors grow uncontrollably, the computed solution may diverge\n",
    "from the true behavior, even if the method is very accurate for short\n",
    "times."
   ]
  },
  {
   "cell_type": "markdown",
   "id": "2",
   "metadata": {},
   "source": [
    "It is useful to distinguish between several related ideas:\n",
    "* Accuracy:\n",
    "  How close the numerical solution is to the exact solution at a given\n",
    "  time step.\n",
    "* Consistency:\n",
    "  The numerical method reproduces the original ODE as\n",
    "  $\\Delta t \\to 0$.\n",
    "  Formally, the local truncation error (the error made in a single\n",
    "  step assuming exact input) should vanish as $\\Delta t \\to 0$.\n",
    "* Stability:\n",
    "  Errors introduced during computation do not grow uncontrollably as\n",
    "  steps are repeated.\n",
    "* Convergence:\n",
    "  The global numerical solution approaches the exact solution as\n",
    "  $\\Delta t \\to 0$."
   ]
  },
  {
   "cell_type": "markdown",
   "id": "3",
   "metadata": {},
   "source": [
    "These concepts are related by a central result of numerical analysis:\n",
    "\\begin{align}\n",
    "  \\text{Consistency + Stability } \\implies \\text{ Convergence.}\n",
    "\\end{align}\n",
    "\n",
    "This is known as the\n",
    "[Lax Equivalence Theorem](https://en.wikipedia.org/wiki/Lax_equivalence_theorem).\n",
    "The theorem is really for linear finite difference methods for partial\n",
    "different equation, but it is still useful to discuss it in ODE\n",
    "integrator.\n",
    "It gives us a practical recipe:\n",
    "* First check that the method is consistent (usually straightforward).\n",
    "* Then analyze stability, we usually use the linear test equation:\n",
    "  \\begin{align}\n",
    "    \\frac{dx}{dt} = \\lambda x, \\quad \\lambda \\in \\mathbb{C}.\n",
    "  \\end{align}\n",
    "  Its exact solution is $x(t) = x_0 e^{\\lambda t}$.\n",
    "  Applying a numerical method produces an update:\n",
    "  \\begin{align}\n",
    "    x_{n+1} = R(z) x_n, \\quad z = \\lambda \\Delta t,\n",
    "  \\end{align}\n",
    "  where $R(z)$ is the amplification factor.\n",
    "  A method is stable if\n",
    "  \\begin{align}\n",
    "    |R(z)| \\leq 1,\n",
    "  \\end{align}\n",
    "  so that errors do not amplify step by step.\n",
    "  The set of $z$ satisfying this condition defines the stability region.\n",
    "* Convergence then follows automatically."
   ]
  },
  {
   "cell_type": "markdown",
   "id": "4",
   "metadata": {},
   "source": [
    "## Explicit Methods"
   ]
  },
  {
   "cell_type": "markdown",
   "id": "5",
   "metadata": {},
   "source": [
    "### Forward Euler Stability and Consistency\n",
    "\n",
    "The Forward Euler method for $dx/dt = f(x)$ is\n",
    "\\begin{align}\n",
    "  x_{n+1} = x_n + \\Delta t f(x_n).\n",
    "\\end{align}\n",
    "Expanding the true solution with a Taylor series:\n",
    "\\begin{align}\n",
    "  x(t_{n+1}) = x(t_n + \\Delta t) = x(t_n) + \\Delta t f(x_n) + \\frac{1}{2} \\Delta t^2 f'(x_n) + \\mathcal{O}(\\Delta t^3)\n",
    "\\end{align}\n",
    "\n",
    "The difference between the true solution and the Forward Euler step is\n",
    "$\\mathcal{O}(\\Delta t^2)$.\n",
    "Thus, the local truncation error is $\\mathcal{O}(\\Delta t^2)$, meaning\n",
    "the method is first-order consistent."
   ]
  },
  {
   "cell_type": "markdown",
   "id": "6",
   "metadata": {},
   "source": [
    "Applying the test equation to forward Euler method gives:\n",
    "\\begin{align}\n",
    "  x_{n+1} = (1 + \\lambda \\Delta t) x_n,\n",
    "\\end{align}\n",
    "so the amplification factor is\n",
    "\\begin{align}\n",
    "  R(z) = 1 + z, \\quad z = \\lambda \\Delta t.\n",
    "\\end{align}\n",
    "\n",
    "The stability condition requires\n",
    "\\begin{align}\n",
    "  |1 + z| \\leq 1,\n",
    "\\end{align}\n",
    "which is the interior of the circle centered at $(-1,0)$ with radius 1\n",
    "in the complex plane."
   ]
  },
  {
   "cell_type": "code",
   "execution_count": null,
   "id": "7",
   "metadata": {},
   "outputs": [],
   "source": [
    "import numpy as np\n",
    "\n",
    "# Define grid in complex plane\n",
    "Re = np.linspace(-3, 3, 601)\n",
    "Im = np.linspace(-3, 3, 601)\n",
    "\n",
    "Re, Im = np.meshgrid(Re, Im)\n",
    "Z = Re + 1j * Im"
   ]
  },
  {
   "cell_type": "code",
   "execution_count": null,
   "id": "8",
   "metadata": {},
   "outputs": [],
   "source": [
    "# Forward Euler amplification factor\n",
    "\n",
    "RfE = lambda z: abs(1 + z)"
   ]
  },
  {
   "cell_type": "code",
   "execution_count": null,
   "id": "9",
   "metadata": {},
   "outputs": [],
   "source": [
    "import matplotlib.pyplot as plt\n",
    "import matplotlib.patches as mpatches\n",
    "\n",
    "plt.contour (Re, Im, RfE(Z), levels=[1],   colors=['C0'])\n",
    "plt.contourf(Re, Im, RfE(Z), levels=[0,1], colors=['C0'], alpha=0.1)\n",
    "\n",
    "plt.legend(handles=[\n",
    "    mpatches.Patch(color='C0', label=\"Forward Euler Stable Region\"),\n",
    "])\n",
    "\n",
    "plt.xlabel(r\"Re($z$) = Re($\\lambda\\Delta t$)\")\n",
    "plt.ylabel(r\"Im($z$) = Im($\\lambda\\Delta t$)\")\n",
    "plt.gca().set_aspect('equal')"
   ]
  },
  {
   "cell_type": "markdown",
   "id": "10",
   "metadata": {},
   "source": [
    "Combined with stability, forward Euler is first-order convergent,\n",
    "i.e., the global error scales as $\\mathcal{O}(\\Delta t)$, within its\n",
    "stable region.\n",
    "Outside the stable region, the method diverges."
   ]
  },
  {
   "cell_type": "markdown",
   "id": "11",
   "metadata": {},
   "source": [
    "#### Exponential Decay\n",
    "\n",
    "To illustrate stability and convergence, let's recall the forward\n",
    "Euler scheme we implemented last time, except we allow explicit\n",
    "time dependency in the right hand side of the function."
   ]
  },
  {
   "cell_type": "code",
   "execution_count": null,
   "id": "12",
   "metadata": {},
   "outputs": [],
   "source": [
    "def forwardEuler(f, x, t, dt, n):\n",
    "    X = [np.array(x)]\n",
    "    T = [np.array(t)]\n",
    "    for _ in range(n):\n",
    "        X.append(X[-1] + dt * f(X[-1], T[-1]))\n",
    "        T.append(T[-1] + dt)\n",
    "    return np.array(X), np.array(T)"
   ]
  },
  {
   "cell_type": "markdown",
   "id": "13",
   "metadata": {},
   "source": [
    "We apply it to solve the equation $dx/dt = -x$, which has $\\lambda =\n",
    "-1$ and solution $\\exp(-t)$."
   ]
  },
  {
   "cell_type": "code",
   "execution_count": null,
   "id": "14",
   "metadata": {},
   "outputs": [],
   "source": [
    "f = lambda x, t: -x\n",
    "t = 16\n",
    "T = np.linspace(0, t, t*100+1)\n",
    "X = np.exp(-T)\n",
    "\n",
    "n = 32; X11, T11 = forwardEuler(f, x=1, t=0, dt=t/n, n=n)\n",
    "n = 16; X12, T12 = forwardEuler(f, x=1, t=0, dt=t/n, n=n)\n",
    "n = 8;  X13, T13 = forwardEuler(f, x=1, t=0, dt=t/n, n=n)\n",
    "n = 4;  X14, T14 = forwardEuler(f, x=1, t=0, dt=t/n, n=n)\n",
    "\n",
    "plt.plot(T,   X,   'k',    label=r\"$\\exp(t)$\")\n",
    "plt.plot(T11, X11, \"C0o-\", label=f\"Forward Euler with dt={t/32}\")\n",
    "plt.plot(T12, X12, \"C1o-\", label=f\"Forward Euler with dt={t/16}\")\n",
    "plt.plot(T13, X13, \"C2o-\", label=f\"Forward Euler with dt={t/8} (critical stability)\")\n",
    "plt.plot(T14, X14, \"C3o-\", label=f\"Forward Euler with dt={t/4}\")\n",
    "plt.xlabel(r\"$t$\")\n",
    "plt.ylabel(r\"$x(t)$\")\n",
    "plt.ylim(-10, 10)\n",
    "plt.legend()"
   ]
  },
  {
   "cell_type": "markdown",
   "id": "15",
   "metadata": {},
   "source": [
    "The error for $\\Delta t = 4$ grows unbounded.\n",
    "Even at the critical stability step size $\\Delta t = 2$, the\n",
    "oscillating behavior is fundamentally wrong.\n",
    "Nevertheless, as $\\Delta t \\rightarrow 0$, especially when\n",
    "$\\Delta t < -2/\\lambda$ the solution does convergence.\n",
    "\n",
    "However, if $\\lambda$ is positive, there is no positive $\\Delta t$\n",
    "that can make forward Euler stable.\n",
    "And we call forward Euler unconditionally unstable."
   ]
  },
  {
   "cell_type": "markdown",
   "id": "16",
   "metadata": {},
   "source": [
    "This suggests that,\n",
    "* Consistency:\n",
    "  Forward Euler has local error $\\mathcal{O}(\\Delta t^2)$.\n",
    "* Stability:\n",
    "  Stable only inside the unit disk centered at $(-1,0)$.\n",
    "* Convergence:\n",
    "  By Lax's theorem, Forward Euler converges with global error\n",
    "  $\\mathcal{O}(\\Delta t)$.\n",
    "\n",
    "Implications:\n",
    "* For $\\lambda < 0$ (decaying solutions), stability requires\n",
    "  $\\Delta t \\leq -2/\\lambda$.\n",
    "* For $\\lambda > 0$ (growing solutions), Forward Euler is\n",
    "  unconditionally unstable: no choice of $\\Delta t$ can control error\n",
    "  growth.\n",
    "* For stiff systems, where $|\\lambda|$ is very large, the step size\n",
    "  restriction is too severe to be practical.\n",
    "\n",
    "This motivates the need for implicit integrators (Backward Euler,\n",
    "trapezoidal rule) and later symplectic integrators for Hamiltonian\n",
    "systems."
   ]
  },
  {
   "cell_type": "markdown",
   "id": "17",
   "metadata": {},
   "source": [
    "#### Simple Harmonic Oscillator\n",
    "\n",
    "The exponential test equation matches the linear test equation and is\n",
    "a good illustrative example, but many physical systems of interest are\n",
    "naturally written as systems of coupled ODEs.\n",
    "\n",
    "Recalling again from last lecture, an important example is the simple\n",
    "harmonic oscillator:\n",
    "\\begin{align}\n",
    "  \\frac{d}{dt}\n",
    "  \\begin{bmatrix}\n",
    "    \\theta(t) \\\\\n",
    "    \\Omega(t)\n",
    "  \\end{bmatrix}\n",
    "  =\n",
    "  \\begin{bmatrix}\n",
    "    0    & 1 \\\\\n",
    "    -g/l & 0\n",
    "  \\end{bmatrix}\n",
    "  \\begin{bmatrix}\n",
    "    \\theta(t) \\\\\n",
    "    \\Omega(t)\n",
    "  \\end{bmatrix}.\n",
    "\\end{align}\n",
    "Here $\\theta(t)$ is the angular displacement, $\\Omega(t)$ the angular\n",
    "velocity, and $g/l$ sets the natural frequency $\\omega^2 = g/l$.\n"
   ]
  },
  {
   "cell_type": "markdown",
   "id": "18",
   "metadata": {},
   "source": [
    "Applying the Forward Euler method gives:\n",
    "\\begin{align}\n",
    "  \\begin{bmatrix}\n",
    "    \\theta_{n+1} \\\\\n",
    "    \\Omega_{n+1}\n",
    "  \\end{bmatrix}\n",
    "  =\n",
    "  \\begin{bmatrix}\n",
    "    \\theta_{n} \\\\\n",
    "    \\Omega_{n}\n",
    "  \\end{bmatrix}\n",
    "  +\n",
    "  \\Delta t\n",
    "  \\begin{bmatrix}\n",
    "    0 & 1 \\\\\n",
    "    -g/l & 0\n",
    "  \\end{bmatrix}\n",
    "  \\begin{bmatrix}\n",
    "    \\theta_{n} \\\\\n",
    "    \\Omega_{n}\n",
    "  \\end{bmatrix}.\n",
    "\\end{align}"
   ]
  },
  {
   "cell_type": "markdown",
   "id": "19",
   "metadata": {},
   "source": [
    "This can be written compactly as:\n",
    "\\begin{align}\n",
    "  \\mathbf{x}_{n+1} = A \\mathbf{x}_n, \\quad\n",
    "  A =\n",
    "  \\begin{bmatrix}\n",
    "    1              & \\Delta t \\\\\n",
    "    -(g/l)\\Delta t & 1\n",
    "  \\end{bmatrix}.\n",
    "\\end{align}\n",
    "\n",
    "Here $A$ is the amplification matrix, the multi-dimensional analogue\n",
    "of the scalar amplification factor $R(z)$.\n",
    "Stability requires that the eigenvalues of $A$ satisfy\n",
    "$|\\lambda| \\leq 1$."
   ]
  },
  {
   "cell_type": "markdown",
   "id": "20",
   "metadata": {},
   "source": [
    "Let's compute them.\n",
    "The characteristic polynomial of $A$ is:\n",
    "\\begin{align}\n",
    "  \\det(A - \\lambda I) =\n",
    "  \\begin{vmatrix}\n",
    "  1 - \\lambda    & \\Delta t \\\\\n",
    "  -(g/l)\\Delta t & 1 - \\lambda\n",
    "  \\end{vmatrix}\n",
    "  = (1-\\lambda)^2 + \\frac{g}{l} \\Delta t^2.\n",
    "\\end{align}"
   ]
  },
  {
   "cell_type": "markdown",
   "id": "21",
   "metadata": {},
   "source": [
    "Setting this to zero,  $(1 - \\lambda)^2 = -(g/l)\\Delta t^2$.\n",
    "Thus the eigenvalues are:\n",
    "\\begin{align}\n",
    "  \\lambda_{\\pm} = 1 \\pm i \\sqrt{\\frac{g}{l}} \\Delta t.\n",
    "\\end{align}"
   ]
  },
  {
   "cell_type": "markdown",
   "id": "22",
   "metadata": {},
   "source": [
    "The magnitude of each eigenvalue is:\n",
    "\\begin{align}\n",
    "  |\\lambda_{\\pm}| = \\sqrt{1 + \\frac{g}{l} \\Delta t^2}.\n",
    "\\end{align}\n",
    "This is always larger than 1 for any nonzero time step.\n",
    "Therefore, Forward Euler applied to the harmonic oscillator is\n",
    "unconditionally unstable."
   ]
  },
  {
   "cell_type": "code",
   "execution_count": null,
   "id": "23",
   "metadata": {},
   "outputs": [],
   "source": [
    "# Parameters\n",
    "g, l = 9.8, 1\n",
    "t, n = 100, 10000\n",
    "\n",
    "def Sho(x, t):\n",
    "    theta, omega = x\n",
    "    return np.array([omega, -(g/l) * theta])\n",
    "\n",
    "def sho_solution(t):\n",
    "    return np.cos(np.sqrt(g/l)*t)\n",
    "\n",
    "T     = np.linspace(0, t, t*100+1)\n",
    "Theta = sho_solution(T)\n",
    "\n",
    "X1, T1 = forwardEuler(Sho, x=[1.0, 0.0], t=0, dt=t/n, n=n)\n",
    "Theta1, Omega1 = X1[:,0], X1[:,1]\n",
    "\n",
    "plt.plot(T,  Theta, 'k', label=r\"Exact $\\theta(t)$\")\n",
    "plt.plot(T1, Theta1,     label=r\"Euler $\\theta(t)$\")\n",
    "plt.xlabel(r\"$t$\")\n",
    "plt.ylabel(r\"$\\theta(t)$\")\n",
    "plt.ylim(-10, 10)\n",
    "plt.legend()"
   ]
  },
  {
   "cell_type": "code",
   "execution_count": null,
   "id": "24",
   "metadata": {},
   "outputs": [],
   "source": [
    "# HANDSON: try increase the number of time step per period.\n",
    "#          Does this stop the oscillator from blowing up?\n"
   ]
  },
  {
   "cell_type": "markdown",
   "id": "25",
   "metadata": {},
   "source": [
    "The true solution of the harmonic oscillator is bounded and\n",
    "oscillatory.\n",
    "However, the forward Euler discretization produces eigenvalues with\n",
    "modulus larger than 1.\n",
    "This means that the numerical solution grows exponentially in\n",
    "amplitude while also oscillating.\n",
    "This \"blow up\" happens even for very small $\\Delta t$."
   ]
  },
  {
   "cell_type": "code",
   "execution_count": null,
   "id": "26",
   "metadata": {},
   "outputs": [],
   "source": [
    "# HANDSON: try plotting the energy of the oscillator.\n"
   ]
  },
  {
   "cell_type": "markdown",
   "id": "27",
   "metadata": {},
   "source": [
    "For the harmonic oscillator, Forward Euler is inconsistent with the\n",
    "bounded, energy-conserving nature of the physics.\n",
    "In fact,\n",
    "* Explicit (forward)  Euler introduces artificial growth  of energy.\n",
    "* Implicit (backward) Euler introduces artificial damping of energy.\n",
    "* Symplectic integrators (e.g., Leapfrog, see below) preserve the\n",
    "  energy structure and produce qualitatively correct long-term\n",
    "  behavior.\n",
    "\n",
    "This example connects stability analysis directly to physics:\n",
    "the choice of integrator is not just about error size, but about\n",
    "preserving the qualitative features of the dynamics."
   ]
  },
  {
   "cell_type": "markdown",
   "id": "28",
   "metadata": {},
   "source": [
    "### Stability Regions for RK2 and RK4\n",
    "\n",
    "So far we have analyzed the forward Euler method, which is simple but\n",
    "has a very restrictive stability region.\n",
    "In practice, physicists often use higher-order explicit Runge-Kutta\n",
    "(RK) methods, such as RK2 and RK4.\n",
    "These methods improve accuracy while also enlarging the stability\n",
    "region, allowing for larger time steps in many problems."
   ]
  },
  {
   "cell_type": "markdown",
   "id": "29",
   "metadata": {},
   "source": [
    "To analyze stability, we again apply the methods to the linear test equation:\n",
    "\\begin{align}\n",
    "  \\frac{dx}{dt} = \\lambda x, \\quad z = \\lambda \\Delta t.\n",
    "\\end{align}\n",
    "Each Runge-Kutta scheme can be written in the form:\n",
    "\\begin{align}\n",
    "  x_{n+1} = R(z) x_n,\n",
    "\\end{align}\n",
    "where $R(z)$ is the stability function of the method.\n",
    "Stability requires $|R(z)| \\leq 1$.\n",
    "* Forward Euler (for comparison):\n",
    "  \\begin{align}\n",
    "    R_{\\text{fE}}(z) = 1 + z\n",
    "  \\end{align}\n",
    "* RK2 (Heun's method):\n",
    "  \\begin{align}\n",
    "    R_{\\text{RK2}}(z) = 1 + z + \\tfrac{1}{2} z^2\n",
    "  \\end{align}\n",
    "* RK4 (classical Runge–Kutta):\n",
    "  \\begin{align}\n",
    "    R_{\\text{RK4}}(z) = 1 + z + \\tfrac{1}{2} z^2 + \\tfrac{1}{6} z^3 + \\tfrac{1}{24} z^4\n",
    "  \\end{align}\n",
    "\n",
    "Notice:\n",
    "$R_{\\text{RK4}}(z)$ is simply the first four terms of the Taylor\n",
    "expansion of $e^z$, which explains why RK4 is accurate to fourth\n",
    "order."
   ]
  },
  {
   "cell_type": "code",
   "execution_count": null,
   "id": "30",
   "metadata": {},
   "outputs": [],
   "source": [
    "# Stability functions\n",
    "RfE  = lambda z: abs(1 + z)  # the same as before, for comparison only\n",
    "RRK2 = lambda z: abs(1 + z + 0.5 * z**2)\n",
    "RRK4 = lambda z: abs(1 + z + 0.5 * z**2 + (1/6) * z**3 + (1/24) * z**4)\n",
    "\n",
    "# Plot regions\n",
    "methods = {\n",
    "    'Forward Euler': (RfE,  'C0'),\n",
    "    'RK2':           (RRK2, 'C1'),\n",
    "    'RK4':           (RRK4, 'C2'),\n",
    "}"
   ]
  },
  {
   "cell_type": "code",
   "execution_count": null,
   "id": "31",
   "metadata": {},
   "outputs": [],
   "source": [
    "def stable_regions(methods):\n",
    "    for name, (R, color) in methods.items():\n",
    "        plt.contour (Re, Im, R(Z), levels=[1],   colors=[color])\n",
    "        plt.contourf(Re, Im, R(Z), levels=[0,1], colors=[color], alpha=0.1)\n",
    "\n",
    "    plt.legend(handles=[\n",
    "        mpatches.Patch(color=color, label=name) for name, (_,color) in methods.items()\n",
    "    ])\n",
    "\n",
    "    plt.xlabel(r\"Re($z$) = Re($\\lambda\\Delta t$)\")\n",
    "    plt.ylabel(r\"Im($z$) = Im($\\lambda\\Delta t$)\")\n",
    "    plt.gca().set_aspect('equal')"
   ]
  },
  {
   "cell_type": "code",
   "execution_count": null,
   "id": "32",
   "metadata": {},
   "outputs": [],
   "source": [
    "stable_regions(methods)"
   ]
  },
  {
   "cell_type": "markdown",
   "id": "33",
   "metadata": {},
   "source": [
    "Some observations from the above plot:\n",
    "* Forward Euler:\n",
    "  * Stability region:\n",
    "    disk of radius 1 centered at $(-1,0)$.\n",
    "  * Very restrictive:\n",
    "    only stable for very small $\\Delta t$ when $\\lambda$ has a\n",
    "    negative real part.\n",
    "* RK2\n",
    "  * Stability region:\n",
    "    significantly larger, extending farther left into the negative\n",
    "    real axis.\n",
    "  * Stable for $\\text{Re}(z) \\gtrsim -2$.\n",
    "  * This allows larger time steps for decaying problems, while still\n",
    "    being conditionally stable.\n",
    "* RK4\n",
    "  * Stability region:\n",
    "    even larger, extending roughly to $\\text{Re}(z) \\approx -2.8$ on\n",
    "    the real axis.\n",
    "  * Includes a more extensive area in the complex plane, meaning\n",
    "    oscillatory systems can tolerate larger $\\Delta t$ before\n",
    "    instability.\n",
    "  * Most widely used in physics and engineering because of its balance\n",
    "    between accuracy and stability."
   ]
  },
  {
   "cell_type": "code",
   "execution_count": null,
   "id": "34",
   "metadata": {},
   "outputs": [],
   "source": [
    "def RK2(f, x, t, dt, n):\n",
    "    X = [np.array(x)]\n",
    "    T = [np.array(t)]\n",
    "    for _ in range(n):\n",
    "        k1 = f(X[-1],             T[-1]         )\n",
    "        k2 = f(X[-1] + 0.5*dt*k1, T[-1] + 0.5*dt)\n",
    "        X.append(X[-1] + dt * k2)\n",
    "        T.append(T[-1] + dt     )\n",
    "    return np.array(X), np.array(T)"
   ]
  },
  {
   "cell_type": "code",
   "execution_count": null,
   "id": "35",
   "metadata": {},
   "outputs": [],
   "source": [
    "def RK4(f, x, t, dt, n):\n",
    "    X = [np.array(x)]\n",
    "    T = [np.array(t)]\n",
    "    for _ in range(n):\n",
    "        k1 = f(X[-1]            , T[-1]         )\n",
    "        k2 = f(X[-1] + 0.5*dt*k1, T[-1] + 0.5*dt)\n",
    "        k3 = f(X[-1] + 0.5*dt*k2, T[-1] + 0.5*dt)\n",
    "        k4 = f(X[-1] +     dt*k3, T[-1] +     dt)\n",
    "        X.append(X[-1] + dt * (k1/6 + k2/3 + k3/3 + k4/6))\n",
    "        T.append(T[-1] + dt)\n",
    "    return np.array(X), np.array(T)"
   ]
  },
  {
   "cell_type": "code",
   "execution_count": null,
   "id": "36",
   "metadata": {},
   "outputs": [],
   "source": [
    "t = 16\n",
    "T = np.linspace(0, t, t*100+1)\n",
    "X = np.exp(-T)\n",
    "\n",
    "n = 9\n",
    "X11, T11 = forwardEuler(f, x=1, t=0, dt=t/n, n=n)\n",
    "X21, T21 = RK2         (f, x=1, t=0, dt=t/n, n=n)\n",
    "X41, T41 = RK4         (f, x=1, t=0, dt=t/n, n=n)\n",
    "\n",
    "n = 8\n",
    "X12, T12 = forwardEuler(f, x=1, t=0, dt=t/n, n=n)\n",
    "X22, T22 = RK2         (f, x=1, t=0, dt=t/n, n=n)\n",
    "X42, T42 = RK4         (f, x=1, t=0, dt=t/n, n=n)\n",
    "\n",
    "n = 6\n",
    "X13, T13 = forwardEuler(f, x=1, t=0, dt=t/n, n=n)\n",
    "X23, T23 = RK2         (f, x=1, t=0, dt=t/n, n=n)\n",
    "X43, T43 = RK4         (f, x=1, t=0, dt=t/n, n=n)\n",
    "\n",
    "n = 5\n",
    "X14, T14 = forwardEuler(f, x=1, t=0, dt=t/n, n=n)\n",
    "X24, T24 = RK2         (f, x=1, t=0, dt=t/n, n=n)\n",
    "X44, T44 = RK4         (f, x=1, t=0, dt=t/n, n=n)"
   ]
  },
  {
   "cell_type": "code",
   "execution_count": null,
   "id": "37",
   "metadata": {},
   "outputs": [],
   "source": [
    "plt.plot(T,   X,   'k',    label=r\"$\\exp(t)$\")\n",
    "\n",
    "#plt.plot(T11, X11, \"C0o-\", label=f\"Forward Euler with dt={t/9:.3f} (stable)\")\n",
    "plt.plot(T12, X12, \"C1o-\", label=f\"Forward Euler with dt={t/8:.3f} (critical stability)\")\n",
    "#plt.plot(T13, X13, \"C2o-\", label=f\"Forward Euler with dt={t/6:.3f} (unstable)\")\n",
    "#plt.plot(T14, X14, \"C3o-\", label=f\"Forward Euler with dt={t/5:.3f} (unstable)\")\n",
    "\n",
    "#plt.plot(T21, X21, \"C0^--\", label=f\"RK2 with dt={t/9:.3f} (stable)\")\n",
    "plt.plot(T22, X22, \"C1^--\", label=f\"RK2 with dt={t/8:.3f} (critical stability)\")\n",
    "#plt.plot(T23, X23, \"C2^--\", label=f\"RK2 with dt={t/6:.3f} (unstable)\")\n",
    "#plt.plot(T24, X24, \"C3^--\", label=f\"RK2 with dt={t/5:.3f} (unstable)\")\n",
    "\n",
    "#plt.plot(T41, X41, \"C0s:\", label=f\"RK4 with dt={t/9:.3f} (stable)\")\n",
    "plt.plot(T42, X42, \"C1s:\", label=f\"RK4 with dt={t/8:.3f} (stable)\")\n",
    "#plt.plot(T43, X43, \"C2s:\", label=f\"RK4 with dt={t/6:.3f} (stable)\")\n",
    "#plt.plot(T44, X44, \"C3s:\", label=f\"RK4 with dt={t/5:.3f} (unstable)\")\n",
    "\n",
    "plt.xlabel(r\"$t$\")\n",
    "plt.ylabel(r\"$x(t)$\")\n",
    "plt.ylim(-10, 10)\n",
    "plt.legend()"
   ]
  },
  {
   "cell_type": "code",
   "execution_count": null,
   "id": "38",
   "metadata": {},
   "outputs": [],
   "source": [
    "# HANDSON: comment and uncomment different curves to study them.\n"
   ]
  },
  {
   "cell_type": "markdown",
   "id": "39",
   "metadata": {},
   "source": [
    "In general,\n",
    "* Order vs. Stability:\n",
    "  Higher-order RK methods expand the stability region, allowing larger\n",
    "  $\\Delta t$ while maintaining stability.\n",
    "* Still Conditionally Stable:\n",
    "  Neither RK2 nor RK4 are\n",
    "  [A-stable](https://en.wikipedia.org/wiki/Stiff_equation#A-stability).\n",
    "  They cannot remain stable for arbitrarily stiff problems (where\n",
    "  $\\lambda$ is very negative).\n",
    "* Physics Implication:\n",
    "  * For non-stiff problems (e.g. orbital dynamics, wave propagation),\n",
    "    RK4 is an excellent choice.\n",
    "  * For stiff problems (e.g. radiative cooling, chemical networks),\n",
    "    even RK4 will fail unless $\\Delta t$ is extremely small.\n",
    "    These problems require implicit methods."
   ]
  },
  {
   "cell_type": "markdown",
   "id": "40",
   "metadata": {},
   "source": [
    "## Implicit Methods\n",
    "\n",
    "So far we have focused on explicit methods such as forward Euler, RK2,\n",
    "and RK4.\n",
    "They are simple, intuitive, and accurate for many problems.\n",
    "However, we also discovered:\n",
    "* Forward Euler fails on oscillatory systems like the harmonic\n",
    "  oscillator (unconditionally unstable).\n",
    "* Explicit RK methods extend the stability region, but they are still\n",
    "  conditionally stable.\n",
    "  They cannot handle arbitrarily stiff problems.\n",
    "\n",
    "This raises a natural question:\n",
    "\n",
    "> Can we design methods that remain stable even when\n",
    "  $\\lambda \\Delta t$\n",
    "  is very large and negative?\n",
    "\n",
    "This leads us to implicit methods.\n"
   ]
  },
  {
   "cell_type": "markdown",
   "id": "41",
   "metadata": {},
   "source": [
    "In explicit methods, the new state is computed directly from known\n",
    "information,\n",
    "\\begin{align}\n",
    "  x_{n+1} = \\Phi(x_n, t_n, \\Delta t).\n",
    "\\end{align}\n",
    "Example includes forward Euler $x_{n+1} = x_n + \\Delta t f(x_n, t_n)$.\n",
    "This makes them cheap and easy per step, but with limited stability.\n",
    "\n",
    "In implicit methods, the new state appears on both sides of the\n",
    "equation\n",
    "\\begin{align}\n",
    "  x_{n+1} = \\Psi(x_n, x_{n+1}, t_n, \\Delta t)\n",
    "\\end{align}\n",
    "Hence, root finders are required at each step.\n",
    "Example includes backward Euler $x_{n+1} = x_n + \\Delta t f(x_{n+1},\n",
    "t_{n+1})$.\n",
    "This makes them expensive per step but has much larger stability\n",
    "regions.\n",
    "They are ideal for stiff systems."
   ]
  },
  {
   "cell_type": "markdown",
   "id": "42",
   "metadata": {},
   "source": [
    "### Backward Euler Method\n",
    "\n",
    "The simplest implicit scheme is backward Euler, the implicit\n",
    "counterpart to Forward Euler.\n",
    "\\begin{align}\n",
    "  x_{n+1} = x_n + \\Delta t \\, f(x_{n+1}, t_{n+1}).\n",
    "\\end{align}\n",
    "\n",
    "This requires solving an equation for $x_{n+1}$ at every step."
   ]
  },
  {
   "cell_type": "markdown",
   "id": "43",
   "metadata": {},
   "source": [
    "For its stability analysis with the linear test equation, we apply\n",
    "backward Euler to $dx/dt = \\lambda x$ and define $z = \\lambda \\Delta\n",
    "t$.\n",
    "Given the update rule,\n",
    "\\begin{align}\n",
    "  x_{n+1} = x_n + \\Delta t \\lambda x_{n+1}.\n",
    "\\end{align}\n",
    "\n",
    "Rearrange:\n",
    "\\begin{align}\n",
    "  x_{n+1} = \\frac{1}{1 - z} x_n,\n",
    "\\end{align}\n",
    "the amplification factor is:\n",
    "\\begin{align}\n",
    "  R(z) = \\frac{1}{1 - z}.\n",
    "\\end{align}"
   ]
  },
  {
   "cell_type": "markdown",
   "id": "44",
   "metadata": {},
   "source": [
    "The stability condition requires\n",
    "\\begin{align}\n",
    "  |R(z)| = \\left|\\frac{1}{1-z}\\right| \\leq 1.\n",
    "\\end{align}\n",
    "\n",
    "* If $\\text{Re}(z) \\leq 0$ (stable in the continuous system), this\n",
    "  inequality always holds.\n",
    "* Therefore, backward Euler is\n",
    "  [A-stable](https://en.wikipedia.org/wiki/Stiff_equation#A-stability):\n",
    "  stable for the entire left half-plane.\n",
    "\n",
    "This is in stark contrast with forward Euler and explicit RK methods."
   ]
  },
  {
   "cell_type": "code",
   "execution_count": null,
   "id": "45",
   "metadata": {},
   "outputs": [],
   "source": [
    "# Stability functions\n",
    "RbE = lambda z: abs(1 / (abs(1-z) + 1e-308))  # trick to avoid divide by zero\n",
    "\n",
    "# Add plot regions\n",
    "methods['Backward Euler'] = (RbE, 'C3')"
   ]
  },
  {
   "cell_type": "code",
   "execution_count": null,
   "id": "46",
   "metadata": {},
   "outputs": [],
   "source": [
    "stable_regions(methods)"
   ]
  },
  {
   "cell_type": "markdown",
   "id": "47",
   "metadata": {},
   "source": [
    "Implementing the backward Euler method involves solving an implicit\n",
    "equation at each time step.\n",
    "The approach depends on whether the ODE is linear or nonlinear.\n",
    "\n",
    "* Linear ODEs:\n",
    "  If $f(x, t)$ is linear in $x$, the implicit equation can be solved\n",
    "  directly without iterative methods.\n",
    "  For example, for $dx/dt = \\lambda x$:\n",
    "  \\begin{align}\n",
    "    x_{n+1} = (1 - \\lambda \\Delta t)^{-1} x_n.\n",
    "  \\end{align}\n",
    "  Using matrix inverse, the above formulation even works for system of\n",
    "  linear ODEs.\n",
    "\n",
    "* Nonlinear ODEs:\n",
    "  If $f(x, t)$ is nonlinear, solving for $x_{n+1}$ typically requires\n",
    "  iterative methods such as the Newton-Raphson method.\n",
    "  Python's `fsolve()` from the `scipy.optimize` library can also be\n",
    "  used for this purpose."
   ]
  },
  {
   "cell_type": "markdown",
   "id": "48",
   "metadata": {},
   "source": [
    "### Stiff ODEs\n",
    "\n",
    "Let's implement the backward Euler method for a simple linear ODE and\n",
    "compare it with the forward Euler method.\n",
    "\n",
    "Consider:\n",
    "\\begin{align}\n",
    "  \\frac{dx}{dt} = -1000x - 2000e^{-t} + 3000, \\quad x(0) = 0\n",
    "\\end{align}\n",
    "The exact solution is:\n",
    "\\begin{align}\n",
    "  x(t) = 3 - 0.998 e^{-1000t} - 2.002 e^{-t}\n",
    "\\end{align}\n",
    "This ODE is stiff because it contains terms with vastly different\n",
    "decay rates ($e^{-1000t}$ vs. $e^{-t}$).\n"
   ]
  },
  {
   "cell_type": "code",
   "execution_count": null,
   "id": "49",
   "metadata": {},
   "outputs": [],
   "source": [
    "# Define the stiff ODE\n",
    "\n",
    "def stiff(x, t):\n",
    "    return -1000 * x - 2000 * np.exp(-t) + 3000"
   ]
  },
  {
   "cell_type": "code",
   "execution_count": null,
   "id": "50",
   "metadata": {},
   "outputs": [],
   "source": [
    "# Define the exact solution for comparison\n",
    "\n",
    "def stiff_solution(t):\n",
    "    return 3 - (3-2000/999) * np.exp(-1000 * t) - (2000/999) * np.exp(-t)"
   ]
  },
  {
   "cell_type": "code",
   "execution_count": null,
   "id": "51",
   "metadata": {},
   "outputs": [],
   "source": [
    "from scipy.optimize import fsolve\n",
    "\n",
    "def backwardEuler(f, x, t, dt, n):\n",
    "    X = [np.array(x)]\n",
    "    T = [np.array(t)]\n",
    "    for _ in range(n):\n",
    "        # Initial guess: Forward Euler estimate\n",
    "        x0 = X[-1] + dt * f(X[-1], T[-1] + dt)\n",
    "        \n",
    "        # Define the implicit equation: x = x_last + dt * f(x, t)\n",
    "        fim = lambda x: x - X[-1] - dt * f(x, T[-1] + dt)\n",
    "        \n",
    "        # Solve for x_next using Newton-Raphson (fsolve)\n",
    "        x = fsolve(fim, x0)[0]\n",
    "        \n",
    "        X.append(x)\n",
    "        T.append(T[-1] + dt)\n",
    "    return np.array(X), np.array(T)"
   ]
  },
  {
   "cell_type": "code",
   "execution_count": null,
   "id": "52",
   "metadata": {},
   "outputs": [],
   "source": [
    "# Parameters\n",
    "x0 = 0\n",
    "t0 = 0\n",
    "tf = 0.01  # short time to observe stiffness effects\n",
    "dt = 0.0025\n",
    "\n",
    "T = np.linspace(t0, tf, 1000)\n",
    "X = stiff_solution(T)\n",
    "\n",
    "XfE, TfE = forwardEuler (stiff, x0, t0, dt, int((tf-t0)//dt))\n",
    "XbE, TbE = backwardEuler(stiff, x0, t0, dt, int((tf-t0)//dt))"
   ]
  },
  {
   "cell_type": "code",
   "execution_count": null,
   "id": "53",
   "metadata": {},
   "outputs": [],
   "source": [
    "# Plotting\n",
    "plt.plot(T,   X,   \"k-\",   label=\"Exact Solution\")\n",
    "plt.plot(TfE, XfE, \"C0o-\", label=\"Forward Euler\")\n",
    "plt.plot(TbE, XbE, \"C1o-\", label=\"Backward Euler\")\n",
    "plt.xlabel(r\"Time $t$\")\n",
    "plt.ylabel(r\"$x(t)$\")\n",
    "plt.legend()"
   ]
  },
  {
   "cell_type": "code",
   "execution_count": null,
   "id": "54",
   "metadata": {},
   "outputs": [],
   "source": [
    "# HANDSON: adjust dt and tf to observe the behaviors of forward and\n",
    "#          backward Euler methods.\n",
    "#          Specifically, try dt = 0.2, < 0.2, and > 0.2.\n"
   ]
  },
  {
   "cell_type": "code",
   "execution_count": null,
   "id": "55",
   "metadata": {},
   "outputs": [],
   "source": [
    "# HANDSON: apply backward Euler method to the simple harmonic\n",
    "#          oscillator problem.\n",
    "#          Plot evolution of energy as function of time.\n"
   ]
  },
  {
   "cell_type": "code",
   "execution_count": null,
   "id": "56",
   "metadata": {},
   "outputs": [],
   "source": [
    "# HANDONS: create convergence plots to show the order of forward and\n",
    "#          backward Euler method for both the stiff problem and\n",
    "#          harmonic oscillator problem.\n"
   ]
  },
  {
   "cell_type": "markdown",
   "id": "57",
   "metadata": {},
   "source": [
    "The comparison between forward Euler and backward Euler highlights\n",
    "their complementary strengths and weaknesses:\n",
    "\n",
    "* Forward Euler is simple and inexpensive per step, but it fails badly\n",
    "  on stiff problems.\n",
    "  Even with small time steps, it can oscillate and diverge when\n",
    "  fast-decaying modes are present.\n",
    "\n",
    "* Backward Euler, in contrast, remains stable regardless of the step\n",
    "  size for problems with $\\text{Re}(\\lambda) \\leq 0$.\n",
    "  This A-stability makes it ideally suited for stiff systems, where\n",
    "  explicit schemes would require prohibitively small $\\Delta t$.\n",
    "  The price we pay is higher computational cost per step (solving\n",
    "  implicit equations) as mentioned above, and potentially reduced\n",
    "  accuracy.\n",
    "\n",
    "In practice, implicit schemes are the method of choice whenever\n",
    "stability is the dominant concern.\n",
    "For example, in problems with a wide separation of timescales such as\n",
    "chemical kinetics, radiative cooling, or diffusion processes.\n",
    "They allow us to take much larger time steps while still capturing the\n",
    "slow dynamics faithfully.\n",
    "\n",
    "However, backward Euler introduces artificial damping in oscillatory\n",
    "systems, suppressing dynamics that should remain bounded.\n",
    "This motivates the search for implicit methods that retain the\n",
    "stability benefits of backward Euler but reduce the damping error.\n",
    "One elegant solution is the implicit midpoint method (also known as\n",
    "Crank–Nicolson), which we will study next."
   ]
  },
  {
   "cell_type": "markdown",
   "id": "58",
   "metadata": {},
   "source": [
    "### Implicit Midpoint Method\n",
    "\n",
    "The implicit midpoint method is another implicit integrator.\n",
    "It offers second-order accuracy and is symplectic (see below).\n",
    "This makes it especially valuable for problems with an underlying\n",
    "Hamiltonian structure, such as oscillators and orbital dynamics, where\n",
    "energy conservation is critical over long simulations.\n",
    "It can be viewed as the midpoint analogue of backward Euler: instead\n",
    "of evaluating the derivative at the end of the interval, it evaluates\n",
    "it at the midpoint between $x_n$ and $x_{n+1}$."
   ]
  },
  {
   "cell_type": "markdown",
   "id": "59",
   "metadata": {},
   "source": [
    "For the ODE\n",
    "\\begin{align}\n",
    "  \\frac{dx}{dt} = f(x,t), \\quad x(t_0) = x_0,\n",
    "\\end{align}\n",
    "the implicit midpoint update is\n",
    "\\begin{align}\n",
    "  x_{n+1} = x_n + \\Delta t f \\left(\\frac{x_n + x_{n+1}}{2}, t_n + \\frac{\\Delta t}{2}\\right).\n",
    "\\end{align}\n",
    "The derivative is evaluated at the midpoint of the interval\n",
    "$[t_n, t_{n+1}]$.\n",
    "This improves accuracy to second order, compared with the first-order\n",
    "backward Euler scheme."
   ]
  },
  {
   "cell_type": "markdown",
   "id": "60",
   "metadata": {},
   "source": [
    "Apply to the linear test equation $dx/dt = \\lambda x$:\n",
    "\\begin{align}\n",
    "  x_{n+1} = x_n + \\Delta t \\lambda \\left(\\frac{x_n + x_{n+1}}{2}\\right).\n",
    "\\end{align}\n",
    "\n",
    "Rearranging:\n",
    "\\begin{align}\n",
    "  \\left(1 - \\frac{z}{2}\\right)x_{n+1} = \\left(1 + \\frac{z}{2}\\right)x_n, \\quad z = \\lambda \\Delta t.\n",
    "\\end{align}\n",
    "\n",
    "Thus,\n",
    "\\begin{align}\n",
    "  x_{n+1} = \\frac{1 + z/2}{1 - z/2} \\, x_n,\n",
    "\\end{align}\n",
    "with amplification factor\n",
    "\\begin{align}\n",
    "  R(z) = \\frac{1 + z/2}{1 - z/2}.\n",
    "\\end{align}\n"
   ]
  },
  {
   "cell_type": "markdown",
   "id": "61",
   "metadata": {},
   "source": [
    "* If $\\text{Re}(z) \\leq 0$, then $|R(z)| \\leq 1$.\n",
    "* Therefore, the Implicit Midpoint method is A-stable, like\n",
    "  backward Euler.\n",
    "* But unlike backward Euler, it does not introduce artificial\n",
    "  damping in oscillatory systems.\n",
    "  Instead, it preserves oscillatory behavior.\n",
    "\n",
    "This makes it both stable for stiff problems and faithful to\n",
    "Hamiltonian dynamics over long time integrations."
   ]
  },
  {
   "cell_type": "code",
   "execution_count": null,
   "id": "62",
   "metadata": {},
   "outputs": [],
   "source": [
    "# Stability functions\n",
    "Rim = lambda z: abs(1 + 0.5*z) / (abs(1 - 0.5*z) + 2e-308)  # trick to avoid divide by zero\n",
    "\n",
    "# Add plot regions\n",
    "methods['Implicit Midpoint'] = (Rim,  'C4')"
   ]
  },
  {
   "cell_type": "code",
   "execution_count": null,
   "id": "63",
   "metadata": {},
   "outputs": [],
   "source": [
    "stable_regions(methods)"
   ]
  },
  {
   "cell_type": "markdown",
   "id": "64",
   "metadata": {},
   "source": [
    "Let's apply the implicit midpoint method to the same stiff ODE as\n",
    "before:"
   ]
  },
  {
   "cell_type": "code",
   "execution_count": null,
   "id": "65",
   "metadata": {},
   "outputs": [],
   "source": [
    "def implicit_midpoint(f, x, t, dt, n):\n",
    "    X = [np.array(x)]\n",
    "    T = [np.array(t)]\n",
    "    for _ in range(n):\n",
    "        t = T[-1] + dt\n",
    "        \n",
    "        # Initial guess: Forward Euler estimate\n",
    "        x0 = X[-1] + dt * f(X[-1], T[-1])\n",
    "\n",
    "        # Define the implicit equation: x = x_last + dt * f(x_mid, t_mid)\n",
    "        fim = lambda x: x - X[-1] - dt * f((X[-1]+x)/2, (T[-1]+t)/2)\n",
    "                \n",
    "        # Solve for x_next using Newton-Raphson (fsolve)\n",
    "        x = fsolve(fim, x0)[0]\n",
    "        \n",
    "        X.append(x)\n",
    "        T.append(t)\n",
    "    return np.array(X), np.array(T)"
   ]
  },
  {
   "cell_type": "code",
   "execution_count": null,
   "id": "66",
   "metadata": {},
   "outputs": [],
   "source": [
    "# Parameters\n",
    "x0 = 0\n",
    "t0 = 0\n",
    "tf = 0.01  # short time to observe stiffness effects\n",
    "dt = 0.0025\n",
    "\n",
    "T = np.linspace(t0, tf, 1000)\n",
    "X = stiff_solution(T)\n",
    "\n",
    "XfE, TfE = forwardEuler (stiff, x0, t0, dt, int((tf-t0)//dt))\n",
    "XbE, TbE = backwardEuler(stiff, x0, t0, dt, int((tf-t0)//dt))\n",
    "Xim, Tim = implicit_midpoint(stiff, x0, t0, dt, int((tf-t0)//dt))"
   ]
  },
  {
   "cell_type": "code",
   "execution_count": null,
   "id": "67",
   "metadata": {},
   "outputs": [],
   "source": [
    "# Plotting\n",
    "plt.plot(T,   X,   \"k-\",   label=\"Exact Solution\")\n",
    "plt.plot(TfE, XfE, \"C0o-\", label=\"Forward Euler\")\n",
    "plt.plot(TbE, XbE, \"C1o-\", label=\"Backward Euler\")\n",
    "plt.plot(Tim, Xim, \"C2o:\", label=\"Implicit Midpoint\")\n",
    "plt.xlabel(r\"Time $t$\")\n",
    "plt.ylabel(r\"$x(t)$\")\n",
    "plt.legend()"
   ]
  },
  {
   "cell_type": "code",
   "execution_count": null,
   "id": "68",
   "metadata": {},
   "outputs": [],
   "source": [
    "# HANDSON: adjust dt and tf to observe the behaviors of forward and\n",
    "#          backward Euler methods.\n",
    "#          Specifically, try dt = 0.2, < 0.2, and > 0.2.\n"
   ]
  },
  {
   "cell_type": "code",
   "execution_count": null,
   "id": "69",
   "metadata": {},
   "outputs": [],
   "source": [
    "# HANDSON: apply implicit midpoint method to the simple harmonic\n",
    "#          oscillator problem.\n",
    "#          Plot evolution of energy as function of time.\n"
   ]
  },
  {
   "cell_type": "code",
   "execution_count": null,
   "id": "70",
   "metadata": {},
   "outputs": [],
   "source": [
    "# HANDONS: create convergence plots to show the order of Euler and\n",
    "#          implicit midpoint method for both the stiff problem and\n",
    "#          harmonic oscillator problem.\n"
   ]
  },
  {
   "cell_type": "markdown",
   "id": "71",
   "metadata": {},
   "source": [
    "From the above plots,\n",
    "* Forward Euler:  unstable unless $\\Delta t$ is tiny.\n",
    "* Backward Euler: stable but introduces extra damping.\n",
    "* Implicit midpoint: stable and preserves oscillatory features.\n",
    "\n",
    "This balance of stability and geometric fidelity makes the implicit\n",
    "midpoint method (also known as Crank-Nicolson) a popular scheme for\n",
    "both stiff problems and Hamiltonian systems.\n",
    "\n",
    "However, the implicit nature makes it less ideal for non-stiff\n",
    "Hamiltonian systems.\n",
    "There there methods that take advantage of Hamiltonian?"
   ]
  },
  {
   "cell_type": "markdown",
   "id": "72",
   "metadata": {},
   "source": [
    "## Symplectic Algorithms\n",
    "\n",
    "When simulating physical systems, especially those derived from\n",
    "Hamiltonian mechanics, it is not enough for a numerical method to be\n",
    "accurate and stable in the short term.\n",
    "We also want to preserve the geometric structure of the system to\n",
    "ensure that invariants such as energy and momentum remain bounded and\n",
    "that phase-space volume is preserved.\n",
    "\n",
    "Symplectic integrators are designed precisely for this purpose.\n",
    "They preserve the symplectic structure of Hamiltonian flows, which\n",
    "guarantees long-term qualitative fidelity, i.e.,\n",
    "bounded oscillations,\n",
    "stable orbits, and\n",
    "correct statistical properties."
   ]
  },
  {
   "cell_type": "markdown",
   "id": "73",
   "metadata": {},
   "source": [
    "### Hamiltonian Systems\n",
    "\n",
    "For a Hamiltonian\n",
    "\\begin{align}\n",
    "  H(q,p) = T(p) + V(q)\n",
    "\\end{align}\n",
    "with\n",
    "* $q$: generalized coordinates (e.g. position).\n",
    "* $p$: conjugate momenta.\n",
    "* $T(p)$: kinetic energy.\n",
    "* $V(q)$: potential energy.\n",
    "\n",
    "The system's dynamics are governed by Hamilton's equations:\n",
    "\\begin{align}\n",
    "  \\frac{dq}{dt} = \\frac{\\partial H}{\\partial p}, \\quad\n",
    "  \\frac{dp}{dt} = -\\frac{\\partial H}{\\partial q}.\n",
    "\\end{align}\n",
    "\n",
    "Examples of Hamiltonian system include:\n",
    "* Simple harmonic oscillator:\n",
    "  \\begin{align}\n",
    "  H(q,p) = \\frac{p^2}{2m} + \\frac{1}{2}k q^2\n",
    "  \\end{align}\n",
    "* Kepler problem (planetary motion):\n",
    "  \\begin{align}\n",
    "  H(q,p) = \\frac{p^2}{2m} - \\frac{GMm}{|q|}\n",
    "  \\end{align}"
   ]
  },
  {
   "cell_type": "markdown",
   "id": "74",
   "metadata": {},
   "source": [
    "### Conservation Laws\n",
    "\n",
    "Hamiltonian systems obey key invariants:\n",
    "* Energy conservation:\n",
    "  if $H$ is not explicitly time-dependent, $dH/dt = 0$.\n",
    "* Momentum conservation:\n",
    "  if $H$ does not depend on a coordinate $q_i$, the corresponding\n",
    "  $p_i$ is conserved\n",
    "  ([Noether's theorem](https://en.wikipedia.org/wiki/Noether%27s_theorem)).\n",
    "* Phase-space volume preservation:\n",
    "  Liouville's theorem states that Hamiltonian flows preserve volume in\n",
    "  $(q,p)$ space."
   ]
  },
  {
   "cell_type": "markdown",
   "id": "75",
   "metadata": {},
   "source": [
    "### Why Symplectic Integrators?\n",
    "\n",
    "* Standard methods (e.g. Forward Euler, RK4) often cause systematic\n",
    "  drift in energy over long runs.\n",
    "  In some sense, unstable schemes artificially inject energy to the\n",
    "  system, while stable schemes (including RK4) artificially remove\n",
    "  energy from the system.\n",
    "* Symplectic integrators keep the energy error bounded and\n",
    "  oscillatory, never drifting away permanently.\n",
    "* This makes them especially valuable in:\n",
    "  * Molecular dynamics (bounded energy in large ensembles).\n",
    "  * Celestial mechanics (stable planetary orbits).\n",
    "  * Long-term oscillator simulations."
   ]
  },
  {
   "cell_type": "markdown",
   "id": "76",
   "metadata": {},
   "source": [
    "### Symplectic Euler Method\n",
    "\n",
    "The symplectic Euler method updates the coordinates and momenta in a\n",
    "staggered fashion.\n",
    "There are two variants of the Symplectic Euler method:\n",
    "1. Implicit Symplectic Euler:\n",
    "   \\begin{align}\n",
    "     p_{n+1} &= p_n - \\Delta t \\cdot \\frac{\\partial V}{\\partial q}(q_{n+1}) \\\\\n",
    "     q_{n+1} &= q_n + \\Delta t \\cdot \\frac{p_{n+1}}{m}\n",
    "   \\end{align}\n",
    "2. Explicit Symplectic Euler:\n",
    "   \\begin{align}\n",
    "     q_{n+1} &= q_n + \\Delta t \\cdot \\frac{p_n}{m} \\\\\n",
    "     p_{n+1} &= p_n - \\Delta t \\cdot \\frac{\\partial V}{\\partial q}(q_{n+1})\n",
    "   \\end{align}\n",
    "\n",
    "As the formulation suggests, they are both first-order accurate in\n",
    "time.\n",
    "Nevertheless, compared to forward or even backward Euler methods, they\n",
    "preserve the symplectic structure and ensure bounded energy errors.\n",
    "They also offers better stability compared to non-symplectic explicit\n",
    "methods."
   ]
  },
  {
   "cell_type": "code",
   "execution_count": null,
   "id": "77",
   "metadata": {},
   "outputs": [],
   "source": [
    "# Symplectic Euler Method (Explicit Variant)\n",
    "\n",
    "def symplecticEuler(F, x, t, dt, n):\n",
    "    X = [np.array(x)]\n",
    "    T = [np.array(t)]\n",
    "    \n",
    "    for _ in range(n):\n",
    "        q0, p0 = X[-1]\n",
    "        t0     = T[-1]\n",
    "        \n",
    "        Hp, _  = F(X[-1], t0)\n",
    "        q      = q0 + dt * Hp\n",
    "        t      = t0 + dt\n",
    "        \n",
    "        _, mHq = F([q, p0], t)\n",
    "        p      = p0 + dt * mHq\n",
    "        \n",
    "        X.append([q, p])\n",
    "        T.append(t)\n",
    "    return np.array(X), np.array(T)"
   ]
  },
  {
   "cell_type": "code",
   "execution_count": null,
   "id": "78",
   "metadata": {},
   "outputs": [],
   "source": [
    "# Parameters\n",
    "g, l = 9.8, 1\n",
    "t, n = 100, 10000\n",
    "\n",
    "T     = np.linspace(0, t, t*100+1)\n",
    "Theta = sho_solution(T)\n",
    "\n",
    "X1, T1 = forwardEuler(Sho, x=[1.0, 0.0], t=0, dt=t/n, n=n)\n",
    "Theta1, Omega1 = X1[:,0], X1[:,1]\n",
    "\n",
    "X2, T2 = symplecticEuler(Sho, x=[1.0, 0.0], t=0, dt=t/n, n=n)\n",
    "Theta2, Omega2 = X2[:,0], X2[:,1]\n",
    "\n",
    "plt.plot(T,  Theta,  'k',  label=r\"Exact $\\theta(t)$\")\n",
    "plt.plot(T1, Theta1,       label=r\"Euler $\\theta(t)$\")\n",
    "plt.plot(T2, Theta2, '--', label=r\"Symplectic Euler $\\theta(t)$\")\n",
    "plt.xlabel(r\"$t$\")\n",
    "plt.ylabel(r\"$\\theta(t)$\")\n",
    "plt.ylim(-10, 10)\n",
    "plt.legend()"
   ]
  },
  {
   "cell_type": "code",
   "execution_count": null,
   "id": "79",
   "metadata": {},
   "outputs": [],
   "source": [
    "# HANDSON: Adjust the above parameters to observe the behavior of\n",
    "#          symplectic Euler.\n"
   ]
  },
  {
   "cell_type": "code",
   "execution_count": null,
   "id": "80",
   "metadata": {},
   "outputs": [],
   "source": [
    "# HANDONS: create convergence plots to show the order of symplectic\n",
    "#          Euler method for the harmonic oscillator problem.\n"
   ]
  },
  {
   "cell_type": "markdown",
   "id": "81",
   "metadata": {},
   "source": [
    "From the above plot, we observe:\n",
    "* Forward Euler Method:\n",
    "  * Behavior:\n",
    "    Deviates significantly from the exact solution over time,\n",
    "    exhibiting growing oscillations.\n",
    "  * Reason:\n",
    "    Non-symplectic nature causes energy to accumulate or dissipate\n",
    "    artificially.\n",
    "* Symplectic Euler Method:\n",
    "  * Behavior:\n",
    "    Maintains bounded energy errors, resulting in stable, oscillatory\n",
    "    trajectories that closely follow the exact solution.\n",
    "  * Reason:\n",
    "    Preservation of the symplectic structure ensures that energy\n",
    "    errors do not systematically drift.\n"
   ]
  },
  {
   "cell_type": "markdown",
   "id": "82",
   "metadata": {},
   "source": [
    "### Leapfrog (Verlet) Integrator\n",
    "\n",
    "The Leapfrog (or Verlet) method is one of the most widely used\n",
    "symplectic integrators.\n",
    "It improves upon symplectic Euler by achieving second-order accuracy\n",
    "while still being explicit, symplectic, and time-reversible.\n",
    "\n",
    "The key idea: positions $q$ and momenta $p$ are evaluated at staggered\n",
    "time points, so that they \"leapfrog\" over each other.\n",
    "This staggering ensures stability and bounded energy error, even over\n",
    "very long simulations.\n",
    "\n",
    "Leapfrog is especially important in molecular dynamics, celestial\n",
    "mechanics, and $n$-body simulations, where millions of steps are\n",
    "required to track conservative systems."
   ]
  },
  {
   "cell_type": "markdown",
   "id": "83",
   "metadata": {},
   "source": [
    "Start with Hamilton's equations:\n",
    "\\begin{align}\n",
    "  \\dot q = \\frac{p}{m}, \\qquad \\dot p = f(q) = -\\frac{\\partial V}{\\partial q}(q).\n",
    "\\end{align}\n",
    "\n",
    "Momenta are updated on half steps:\n",
    "\\begin{align}\n",
    "  p_{n+1/2} = p_{n-1/2} + f(q_n)\\,\\Delta t,\n",
    "\\end{align}\n",
    "then positions are updated on integer steps:\n",
    "\\begin{align}\n",
    "  q_{n+1} = q_n + \\frac{1}{m} p_{n+1/2}\\,\\Delta t.\n",
    "\\end{align}\n",
    "\n",
    "Thus $p$ \"leapfrogs\" over $q$, each using the other's most up-to-date\n",
    "value."
   ]
  },
  {
   "cell_type": "markdown",
   "id": "84",
   "metadata": {},
   "source": [
    "#### Synchronized (velocity-Verlet) Form\n",
    "\n",
    "To avoid half-step bookkeeping, we can write Leapfrog in a\n",
    "synchronized form:\n",
    "\\begin{align}\n",
    "  q_{n+1} &= q_n + \\frac{1}{m}p_n \\,\\Delta t + \\tfrac{1}{2m} f(q_n) \\Delta t^2, \\\\\n",
    "  p_{n+1} &= p_n + \\tfrac{1}{2}\\big(f(q_n) + f(q_{n+1})\\big)\\,\\Delta t.\n",
    "\\end{align}\n",
    "\n",
    "This form is known as velocity-Verlet, and is the most widely used in\n",
    "practice."
   ]
  },
  {
   "cell_type": "markdown",
   "id": "85",
   "metadata": {},
   "source": [
    "#### Kick-Drift-Kick Form\n",
    "\n",
    "Another equivalent rearrangement is the **kick-drift-kick** scheme:\n",
    "\\begin{align}\n",
    "  p_{n+1/2} &= p_n + \\tfrac{1}{2} f(q_n)\\,\\Delta t, \\\\\n",
    "  q_{n+1}   &= q_n + \\frac{1}{m}p_{n+1/2}\\,\\Delta t, \\\\\n",
    "  p_{n+1}   &= p_{n+1/2} + \\tfrac{1}{2} f(q_{n+1})\\,\\Delta t.\n",
    "\\end{align}\n",
    "This is especially convenient if time steps are adaptive, because only\n",
    "one new force evaluation is needed per step."
   ]
  },
  {
   "cell_type": "code",
   "execution_count": null,
   "id": "86",
   "metadata": {},
   "outputs": [],
   "source": [
    "# Symplectic Euler Method (Explicit Variant)\n",
    "\n",
    "def leapfrog(F, x, t, dt, n):\n",
    "    X = [np.array(x)]\n",
    "    T = [np.array(t)]\n",
    "    \n",
    "    for _ in range(n):\n",
    "        q0, p0 = X[-1]\n",
    "        t0     = T[-1]\n",
    "\n",
    "        _, mHq = F(X[-1], t0)\n",
    "        ph     = p0 + 0.5*dt * mHq\n",
    "        th     = p0 + 0.5*dt\n",
    "        \n",
    "        Hp, _  = F([q0, ph], th)\n",
    "        q      = q0 + dt * Hp\n",
    "        t      = t0 + dt\n",
    "        \n",
    "        _, mHq = F([q, ph], t)\n",
    "        p      = ph + 0.5*dt * mHq\n",
    "        \n",
    "        X.append([q, p])\n",
    "        T.append(t)\n",
    "    return np.array(X), np.array(T)"
   ]
  },
  {
   "cell_type": "code",
   "execution_count": null,
   "id": "87",
   "metadata": {},
   "outputs": [],
   "source": [
    "# Parameters\n",
    "t, n = 100, 10000\n",
    "\n",
    "T     = np.linspace(0, t, t*100+1)\n",
    "Theta = sho_solution(T)\n",
    "\n",
    "X1, T1 = forwardEuler(Sho, x=[1.0, 0.0], t=0, dt=t/n, n=n)\n",
    "Theta1, Omega1 = X1[:,0], X1[:,1]\n",
    "\n",
    "X2, T2 = symplecticEuler(Sho, x=[1.0, 0.0], t=0, dt=t/n, n=n)\n",
    "Theta2, Omega2 = X2[:,0], X2[:,1]\n",
    "\n",
    "X3, T3 = leapfrog(Sho, x=[1.0, 0.0], t=0, dt=t/n, n=n)\n",
    "Theta3, Omega3 = X3[:,0], X3[:,1]\n",
    "\n",
    "plt.plot(T,  Theta,  'k',  label=r\"Exact $\\theta(t)$\")\n",
    "plt.plot(T1, Theta1,       label=r\"Euler $\\theta(t)$\")\n",
    "plt.plot(T2, Theta2, '--', label=r\"Symplectic Euler $\\theta(t)$\")\n",
    "plt.plot(T3, Theta3, ':',  label=r\"leapfrog $\\theta(t)$\")\n",
    "plt.xlabel(r\"$t$\")\n",
    "plt.ylabel(r\"$\\theta(t)$\")\n",
    "plt.ylim(-10, 10)\n",
    "plt.legend()"
   ]
  },
  {
   "cell_type": "code",
   "execution_count": null,
   "id": "88",
   "metadata": {},
   "outputs": [],
   "source": [
    "# HANDSON: Adjust the above parameters to observe the behavior of\n",
    "#          leapfrog.\n"
   ]
  },
  {
   "cell_type": "code",
   "execution_count": null,
   "id": "89",
   "metadata": {},
   "outputs": [],
   "source": [
    "# HANDONS: create convergence plots to show the order of symplectic\n",
    "#          Euler and leapfrog method for the harmonic oscillator\n",
    "#          problem.\n"
   ]
  },
  {
   "cell_type": "code",
   "execution_count": null,
   "id": "90",
   "metadata": {},
   "outputs": [],
   "source": [
    "# HANDONS: use autodiff (e.g., JAX) to compute $\\partial H/\\partial q$\n",
    "#          and $\\partial H/\\partial p$.\n"
   ]
  },
  {
   "cell_type": "markdown",
   "id": "91",
   "metadata": {},
   "source": [
    "The Leapfrog integrator is:\n",
    "* Accuracy:\n",
    "  Second-order in $\\Delta t$ (vs. first-order for Symplectic Euler).\n",
    "* Symplectic:\n",
    "  Preserves the Hamiltonian structure, ensuring bounded energy error.\n",
    "* Time-reversible:\n",
    "  Running with $+\\Delta t$ then $-\\Delta t$ recovers the initial state\n",
    "  exactly.\n",
    "* Stability:\n",
    "  Stable for oscillatory motion provided $\\Delta t < 2/\\omega$\n",
    "  (where $\\omega$ is the oscillator frequency)."
   ]
  },
  {
   "cell_type": "markdown",
   "id": "92",
   "metadata": {},
   "source": [
    "### Derivation and Preservation of Symplectic Structure\n",
    "\n",
    "So far, we have observed that symplectic integrators behave\n",
    "differently:\n",
    "they keep energy bounded,\n",
    "preserve phase-space volume, and\n",
    "remain stable over long times.\n",
    "But *why* does this happen?\n",
    "\n",
    "The answer lies in their ability to preserve the symplectic structure\n",
    "of Hamiltonian systems.\n",
    "This structure encodes both the conservation laws (via Noether's\n",
    "theorem) and Liouville's theorem (phase-space volume preservation).\n",
    "Understanding how an algorithm preserves this structure explains why\n",
    "symplectic methods are uniquely powerful."
   ]
  },
  {
   "cell_type": "markdown",
   "id": "93",
   "metadata": {},
   "source": [
    "For a separable Hamiltonian\n",
    "\\begin{align}\n",
    "  H(q,p) = \\frac{p^2}{2m} + V(q),\n",
    "\\end{align}\n",
    "Hamilton's equations are\n",
    "\\begin{align}\n",
    "  \\dot q = \\frac{\\partial H}{\\partial p} = \\frac{p}{m},\n",
    "  \\qquad\n",
    "  \\dot p = -\\frac{\\partial H}{\\partial q} = -V'(q).\n",
    "\\end{align}\n",
    "\n",
    "A one-step method can be written as a map\n",
    "\\begin{align}\n",
    "  (q_n, p_n) \\mapsto (q_{n+1}, p_{n+1}).\n",
    "\\end{align}\n",
    "\n",
    "For symplectic Euler:\n",
    "\\begin{align}\n",
    "  q_{n+1} &= q_n + \\tfrac{\\Delta t}{m} p_n, \\\\\n",
    "  p_{n+1} &= p_n - \\Delta t \\, V'(q_{n+1}).\n",
    "\\end{align}"
   ]
  },
  {
   "cell_type": "markdown",
   "id": "94",
   "metadata": {},
   "source": [
    "The Jacobian of this transformation is\n",
    "\\begin{align}\n",
    "  J =\n",
    "  \\begin{pmatrix}\n",
    "  \\frac{\\partial q_{n+1}}{\\partial q_n} & \\frac{\\partial q_{n+1}}{\\partial p_n} \\\\\n",
    "  \\frac{\\partial p_{n+1}}{\\partial q_n} & \\frac{\\partial p_{n+1}}{\\partial p_n}\n",
    "  \\end{pmatrix}\n",
    "  =\n",
    "  \\begin{pmatrix}\n",
    "  1 & \\tfrac{\\Delta t}{m} \\\\\n",
    "  - \\Delta t \\, V''(q_{n+1}) & 1 - \\tfrac{\\Delta t^2}{m} V''(q_{n+1})\n",
    "  \\end{pmatrix}.\n",
    "\\end{align}"
   ]
  },
  {
   "cell_type": "markdown",
   "id": "95",
   "metadata": {},
   "source": [
    "A method is symplectic if this Jacobian preserves the canonical\n",
    "2-form:\n",
    "\\begin{align}\n",
    "  J^T \\Omega J = \\Omega,\n",
    "  \\quad \\text{where}\n",
    "  \\quad \\Omega =\n",
    "  \\begin{pmatrix}\n",
    "     0 & 1 \\\\\n",
    "    -1 & 0\n",
    "  \\end{pmatrix}.\n",
    "\\end{align}\n",
    "Carrying out the matrix multiplication confirms that the symplectic\n",
    "condition holds.\n",
    "Thus symplectic Euler is indeed symplectic.\n"
   ]
  },
  {
   "cell_type": "markdown",
   "id": "96",
   "metadata": {},
   "source": [
    "The geometric interpretations here are:\n",
    "* Symplecticity means the numerical flow preserves the geometry of\n",
    "  Hamiltonian mechanics.\n",
    "  Phase-space volume is preserved exactly, and invariants such as\n",
    "  energy remain bounded.\n",
    "* Contrast with non-symplectic methods:\n",
    "  Forward Euler and RK4 distort the phase-space geometry, leading to\n",
    "  secular energy drift.\n",
    "* Discrete Hamiltonian Flow:\n",
    "  Symplectic integrators can be interpreted as approximating a nearby\n",
    "  Hamiltonian system rather than the exact one.\n",
    "  This explains why energy error oscillates but does not drift."
   ]
  },
  {
   "cell_type": "markdown",
   "id": "97",
   "metadata": {},
   "source": [
    "Some practical considerations for using symplectic intergrators\n",
    "include:\n",
    "* Choosing $\\Delta t$:\n",
    "  Symplectic integrators allow larger steps than non-symplectic ones,\n",
    "  but accuracy still requires $\\Delta t$ small enough to resolve the\n",
    "  dynamics.\n",
    "* Nonlinear forces:\n",
    "  For nonlinear $V(q)$, implicit symplectic schemes (e.g. implicit\n",
    "  midpoint) may require solving nonlinear equations each step.\n",
    "* Adaptive time-stepping:\n",
    "  Standard symplectic schemes assume constant $\\Delta t$.\n",
    "  Adaptive step sizes break symplecticity, though specialized adaptive\n",
    "  symplectic schemes exist."
   ]
  },
  {
   "cell_type": "markdown",
   "id": "98",
   "metadata": {},
   "source": [
    "## Summary\n",
    "\n",
    "* Symplectic integrators preserve the symplectic two-form, ensuring\n",
    "  phase-space volume conservation and bounded energy error.\n",
    "* This explains their excellent long-term stability, especially for\n",
    "  Hamiltonian systems like oscillators and planetary motion.\n",
    "* Examples:\n",
    "  * Symplectic Euler:\n",
    "    first-order, simple, symplectic but not time-symmetric.\n",
    "  * Leapfrog/Verlet:\n",
    "    second-order, symplectic *and* time-symmetric, widely used in\n",
    "    practice.\n",
    "* Unlike standard explicit methods, symplectic schemes are not just\n",
    "  about minimizing local error.\n",
    "  They preserve the very geometry of Hamiltonian dynamics.\n",
    "  Interesting connection to\n",
    "  [discrete differential geometry](https://en.wikipedia.org/wiki/Discrete_differential_geometry)."
   ]
  }
 ],
 "metadata": {
  "kernelspec": {
   "display_name": "Python 3 (ipykernel)",
   "language": "python",
   "name": "python3"
  },
  "language_info": {
   "codemirror_mode": {
    "name": "ipython",
    "version": 3
   },
   "file_extension": ".py",
   "mimetype": "text/x-python",
   "name": "python",
   "nbconvert_exporter": "python",
   "pygments_lexer": "ipython3",
   "version": "3.13.7"
  }
 },
 "nbformat": 4,
 "nbformat_minor": 5
}
