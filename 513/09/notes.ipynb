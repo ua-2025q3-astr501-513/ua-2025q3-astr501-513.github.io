{
 "cells": [
  {
   "cell_type": "markdown",
   "id": "0",
   "metadata": {},
   "source": [
    "# ODE Integrators II: Implicit and Symplectic Methods"
   ]
  },
  {
   "cell_type": "markdown",
   "id": "1",
   "metadata": {},
   "source": [
    "## Convergence of Integrators\n",
    "\n",
    "When solving ordinary differential equations (ODEs) numerically,\n",
    "errors inevitably enter through truncation (e.g., approximating\n",
    "derivatives with finite differences) and round-off (finite precision\n",
    "arithmetic).\n",
    "If these errors grow uncontrollably, the computed solution may diverge\n",
    "from the true behavior, even if the method is very accurate for short\n",
    "times."
   ]
  },
  {
   "cell_type": "markdown",
   "id": "2",
   "metadata": {},
   "source": [
    "It is useful to distinguish between several related ideas:\n",
    "* Accuracy:\n",
    "  How close the numerical solution is to the exact solution at a given\n",
    "  time step.\n",
    "* Consistency:\n",
    "  The numerical method reproduces the original ODE as\n",
    "  $\\Delta t \\to 0$.\n",
    "  Formally, the local truncation error (the error made in a single\n",
    "  step assuming exact input) should vanish as $\\Delta t \\to 0$.\n",
    "* Stability:\n",
    "  Errors introduced during computation do not grow uncontrollably as\n",
    "  steps are repeated.\n",
    "* Convergence:\n",
    "  The global numerical solution approaches the exact solution as\n",
    "  $\\Delta t \\to 0$."
   ]
  },
  {
   "cell_type": "markdown",
   "id": "3",
   "metadata": {},
   "source": [
    "These concepts are related by a central result of numerical analysis:\n",
    "\\begin{align}\n",
    "  \\text{Consistency + Stability } \\implies \\text{ Convergence.}\n",
    "\\end{align}\n",
    "\n",
    "This is known as the\n",
    "[Lax Equivalence Theorem](https://en.wikipedia.org/wiki/Lax_equivalence_theorem).\n",
    "The theorem is really for linear finite difference methods for partial\n",
    "different equation, but it is still useful to discuss it in ODE\n",
    "integrator.\n",
    "It gives us a practical recipe:\n",
    "* First check that the method is consistent (usually straightforward).\n",
    "* Then analyze stability (more subtle, depends on $\\Delta t$ and the\n",
    "  system).\n",
    "* Convergence then follows automatically."
   ]
  }
 ],
 "metadata": {
  "kernelspec": {
   "display_name": "Python 3 (ipykernel)",
   "language": "python",
   "name": "python3"
  },
  "language_info": {
   "codemirror_mode": {
    "name": "ipython",
    "version": 3
   },
   "file_extension": ".py",
   "mimetype": "text/x-python",
   "name": "python",
   "nbconvert_exporter": "python",
   "pygments_lexer": "ipython3",
   "version": "3.13.7"
  }
 },
 "nbformat": 4,
 "nbformat_minor": 5
}
