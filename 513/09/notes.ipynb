{
 "cells": [
  {
   "cell_type": "markdown",
   "id": "0",
   "metadata": {},
   "source": [
    "# ODE Integrators II: Implicit and Symplectic Methods"
   ]
  },
  {
   "cell_type": "markdown",
   "id": "1",
   "metadata": {},
   "source": [
    "## Convergence of Integrators\n",
    "\n",
    "When solving ordinary differential equations (ODEs) numerically,\n",
    "errors inevitably enter through truncation (e.g., approximating\n",
    "derivatives with finite differences) and round-off (finite precision\n",
    "arithmetic).\n",
    "If these errors grow uncontrollably, the computed solution may diverge\n",
    "from the true behavior, even if the method is very accurate for short\n",
    "times."
   ]
  },
  {
   "cell_type": "markdown",
   "id": "2",
   "metadata": {},
   "source": [
    "It is useful to distinguish between several related ideas:\n",
    "* Accuracy:\n",
    "  How close the numerical solution is to the exact solution at a given\n",
    "  time step.\n",
    "* Consistency:\n",
    "  The numerical method reproduces the original ODE as\n",
    "  $\\Delta t \\to 0$.\n",
    "  Formally, the local truncation error (the error made in a single\n",
    "  step assuming exact input) should vanish as $\\Delta t \\to 0$.\n",
    "* Stability:\n",
    "  Errors introduced during computation do not grow uncontrollably as\n",
    "  steps are repeated.\n",
    "* Convergence:\n",
    "  The global numerical solution approaches the exact solution as\n",
    "  $\\Delta t \\to 0$."
   ]
  },
  {
   "cell_type": "markdown",
   "id": "3",
   "metadata": {},
   "source": [
    "These concepts are related by a central result of numerical analysis:\n",
    "\\begin{align}\n",
    "  \\text{Consistency + Stability } \\implies \\text{ Convergence.}\n",
    "\\end{align}\n",
    "\n",
    "This is known as the\n",
    "[Lax Equivalence Theorem](https://en.wikipedia.org/wiki/Lax_equivalence_theorem).\n",
    "The theorem is really for linear finite difference methods for partial\n",
    "different equation, but it is still useful to discuss it in ODE\n",
    "integrator.\n",
    "It gives us a practical recipe:\n",
    "* First check that the method is consistent (usually straightforward).\n",
    "* Then analyze stability (more subtle, depends on $\\Delta t$ and the\n",
    "  system).\n",
    "* Convergence then follows automatically."
   ]
  },
  {
   "cell_type": "markdown",
   "id": "4",
   "metadata": {},
   "source": [
    "### Example: Forward Euler Consistency\n",
    "\n",
    "The Forward Euler method for $dx/dt = f(x)$ is\n",
    "\\begin{align}\n",
    "  x_{n+1} = x_n + \\Delta t f(x_n).\n",
    "\\end{align}\n",
    "Expanding the true solution with a Taylor series:\n",
    "\\begin{align}\n",
    "  x(t_{n+1}) = x(t_n + \\Delta t) = x(t_n) + \\Delta t f(x_n) + \\frac{1}{2} \\Delta t^2 f'(x_n) + \\mathcal{O}(\\Delta t^3)\n",
    "\\end{align}\n",
    "\n",
    "The difference between the true solution and the Forward Euler step is\n",
    "$\\mathcal{O}(\\Delta t^2)$.\n",
    "Thus, the local truncation error is $\\mathcal{O}(\\Delta t^2)$, meaning\n",
    "the method is first-order consistent."
   ]
  },
  {
   "cell_type": "markdown",
   "id": "5",
   "metadata": {},
   "source": [
    "To analyze stability, we use the linear test equation:\n",
    "\\begin{align}\n",
    "  \\frac{dx}{dt} = \\lambda x, \\quad \\lambda \\in \\mathbb{C}.\n",
    "\\end{align}\n",
    "Its exact solution is $x(t) = x_0 e^{\\lambda t}$.\n",
    "Applying a numerical method produces an update:\n",
    "\\begin{align}\n",
    "  x_{n+1} = R(z) x_n, \\quad z = \\lambda \\Delta t,\n",
    "\\end{align}\n",
    "where $R(z)$ is the amplification factor.\n",
    "A method is stable if\n",
    "\\begin{align}\n",
    "  |R(z)| \\leq 1,\n",
    "\\end{align}\n",
    "so that errors do not amplify step by step.\n",
    "The set of $z$ satisfying this condition defines the stability region."
   ]
  },
  {
   "cell_type": "markdown",
   "id": "6",
   "metadata": {},
   "source": [
    "Applying the test equation to forward Euler method gives:\n",
    "\\begin{align}\n",
    "  x_{n+1} = (1 + \\lambda \\Delta t) x_n,\n",
    "\\end{align}\n",
    "so the amplification factor is\n",
    "\\begin{align}\n",
    "  R(z) = 1 + z, \\quad z = \\lambda \\Delta t.\n",
    "\\end{align}\n",
    "\n",
    "The stability condition requires\n",
    "\\begin{align}\n",
    "  |1 + z| \\leq 1,\n",
    "\\end{align}\n",
    "which is the interior of the circle centered at $(-1,0)$ with radius 1\n",
    "in the complex plane."
   ]
  },
  {
   "cell_type": "code",
   "execution_count": null,
   "id": "7",
   "metadata": {},
   "outputs": [],
   "source": [
    "import numpy as np\n",
    "\n",
    "# Define grid in complex plane\n",
    "Re = np.linspace(-3, 3, 601)\n",
    "Im = np.linspace(-3, 3, 601)\n",
    "\n",
    "Re, Im = np.meshgrid(Re, Im)\n",
    "Z = Re + 1j * Im"
   ]
  },
  {
   "cell_type": "code",
   "execution_count": null,
   "id": "8",
   "metadata": {},
   "outputs": [],
   "source": [
    "# Forward Euler amplification factor\n",
    "\n",
    "R = abs(1 + Z)"
   ]
  },
  {
   "cell_type": "code",
   "execution_count": null,
   "id": "9",
   "metadata": {},
   "outputs": [],
   "source": [
    "import matplotlib.pyplot as plt\n",
    "import matplotlib.patches as mpatches\n",
    "\n",
    "plt.contour (Re, Im, R, levels=[1],   colors=['C0'], linewidths=2)\n",
    "plt.contourf(Re, Im, R, levels=[0,1], colors=['C0'], alpha=0.1)\n",
    "\n",
    "plt.legend(handles=[\n",
    "    mpatches.Patch(color='C0', label=\"Forward Euler Stable Region\"),\n",
    "])\n",
    "\n",
    "plt.title('Stability Region: Forward Euler')\n",
    "plt.xlabel(r'Re($z$) = Re($\\lambda\\Delta t$)')\n",
    "plt.ylabel(r'Re($z$) = Im($\\lambda\\Delta t$)')\n",
    "plt.gca().set_aspect('equal')"
   ]
  },
  {
   "cell_type": "markdown",
   "id": "10",
   "metadata": {},
   "source": [
    "Combined with stability (see below), Forward Euler is first-order\n",
    "convergent, the global error scales as $\\mathcal{O}(\\Delta t)$, within\n",
    "its stable region."
   ]
  }
 ],
 "metadata": {
  "kernelspec": {
   "display_name": "Python 3 (ipykernel)",
   "language": "python",
   "name": "python3"
  },
  "language_info": {
   "codemirror_mode": {
    "name": "ipython",
    "version": 3
   },
   "file_extension": ".py",
   "mimetype": "text/x-python",
   "name": "python",
   "nbconvert_exporter": "python",
   "pygments_lexer": "ipython3",
   "version": "3.13.7"
  }
 },
 "nbformat": 4,
 "nbformat_minor": 5
}
