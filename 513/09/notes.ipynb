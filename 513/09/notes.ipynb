{
 "cells": [
  {
   "cell_type": "markdown",
   "id": "0",
   "metadata": {},
   "source": [
    "# ODE Integrators II: Implicit and Symplectic Methods"
   ]
  },
  {
   "cell_type": "markdown",
   "id": "1",
   "metadata": {},
   "source": [
    "## Numerical Stability of Integrators\n",
    "\n",
    "When solving ordinary differential equations (ODEs) numerically,\n",
    "errors inevitably enter through truncation (approximating derivatives\n",
    "with finite differences) and round-off (finite precision arithmetic).\n",
    "If these errors grow uncontrollably, the computed solution may diverge\n",
    "from the true behavior, even if the method is very accurate for short\n",
    "times.\n",
    "\n",
    "Numerical stability is the property of a method that ensures errors\n",
    "remain bounded during long integrations.\n",
    "Stability is especially critical in physics simulations where we want\n",
    "to capture realistic long-term behavior, e.g., planetary orbits that\n",
    "remain bound, oscillators that don't \"blow up\", or wave equations that\n",
    "don't generate spurious growth.\n"
   ]
  }
 ],
 "metadata": {
  "kernelspec": {
   "display_name": "Python 3 (ipykernel)",
   "language": "python",
   "name": "python3"
  },
  "language_info": {
   "codemirror_mode": {
    "name": "ipython",
    "version": 3
   },
   "file_extension": ".py",
   "mimetype": "text/x-python",
   "name": "python",
   "nbconvert_exporter": "python",
   "pygments_lexer": "ipython3",
   "version": "3.13.7"
  }
 },
 "nbformat": 4,
 "nbformat_minor": 5
}
