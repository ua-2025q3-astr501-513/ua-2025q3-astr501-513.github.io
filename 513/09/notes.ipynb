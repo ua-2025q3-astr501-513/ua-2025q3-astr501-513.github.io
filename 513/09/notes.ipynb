{
 "cells": [
  {
   "cell_type": "markdown",
   "id": "0",
   "metadata": {},
   "source": [
    "# ODE Integrators II: Implicit and Symplectic Methods"
   ]
  },
  {
   "cell_type": "markdown",
   "id": "1",
   "metadata": {},
   "source": [
    "## Convergence of Integrators\n",
    "\n",
    "When solving ordinary differential equations (ODEs) numerically,\n",
    "errors inevitably enter through truncation (e.g., approximating\n",
    "derivatives with finite differences) and round-off (finite precision\n",
    "arithmetic).\n",
    "If these errors grow uncontrollably, the computed solution may diverge\n",
    "from the true behavior, even if the method is very accurate for short\n",
    "times."
   ]
  },
  {
   "cell_type": "markdown",
   "id": "2",
   "metadata": {},
   "source": [
    "It is useful to distinguish between several related ideas:\n",
    "* Accuracy:\n",
    "  How close the numerical solution is to the exact solution at a given\n",
    "  time step.\n",
    "* Consistency:\n",
    "  The numerical method reproduces the original ODE as\n",
    "  $\\Delta t \\to 0$.\n",
    "  Formally, the local truncation error (the error made in a single\n",
    "  step assuming exact input) should vanish as $\\Delta t \\to 0$.\n",
    "* Stability:\n",
    "  Errors introduced during computation do not grow uncontrollably as\n",
    "  steps are repeated.\n",
    "* Convergence:\n",
    "  The global numerical solution approaches the exact solution as\n",
    "  $\\Delta t \\to 0$."
   ]
  },
  {
   "cell_type": "markdown",
   "id": "3",
   "metadata": {},
   "source": [
    "These concepts are related by a central result of numerical analysis:\n",
    "\\begin{align}\n",
    "  \\text{Consistency + Stability } \\implies \\text{ Convergence.}\n",
    "\\end{align}\n",
    "\n",
    "This is known as the\n",
    "[Lax Equivalence Theorem](https://en.wikipedia.org/wiki/Lax_equivalence_theorem).\n",
    "The theorem is really for linear finite difference methods for partial\n",
    "different equation, but it is still useful to discuss it in ODE\n",
    "integrator.\n",
    "It gives us a practical recipe:\n",
    "* First check that the method is consistent (usually straightforward).\n",
    "* Then analyze stability, we usually use the linear test equation:\n",
    "  \\begin{align}\n",
    "    \\frac{dx}{dt} = \\lambda x, \\quad \\lambda \\in \\mathbb{C}.\n",
    "  \\end{align}\n",
    "  Its exact solution is $x(t) = x_0 e^{\\lambda t}$.\n",
    "  Applying a numerical method produces an update:\n",
    "  \\begin{align}\n",
    "    x_{n+1} = R(z) x_n, \\quad z = \\lambda \\Delta t,\n",
    "  \\end{align}\n",
    "  where $R(z)$ is the amplification factor.\n",
    "  A method is stable if\n",
    "  \\begin{align}\n",
    "    |R(z)| \\leq 1,\n",
    "  \\end{align}\n",
    "  so that errors do not amplify step by step.\n",
    "  The set of $z$ satisfying this condition defines the stability region.\n",
    "* Convergence then follows automatically."
   ]
  },
  {
   "cell_type": "markdown",
   "id": "4",
   "metadata": {},
   "source": [
    "## Explicit Methods"
   ]
  },
  {
   "cell_type": "markdown",
   "id": "5",
   "metadata": {},
   "source": [
    "### Forward Euler Stability and Consistency\n",
    "\n",
    "The Forward Euler method for $dx/dt = f(x)$ is\n",
    "\\begin{align}\n",
    "  x_{n+1} = x_n + \\Delta t f(x_n).\n",
    "\\end{align}\n",
    "Expanding the true solution with a Taylor series:\n",
    "\\begin{align}\n",
    "  x(t_{n+1}) = x(t_n + \\Delta t) = x(t_n) + \\Delta t f(x_n) + \\frac{1}{2} \\Delta t^2 f'(x_n) + \\mathcal{O}(\\Delta t^3)\n",
    "\\end{align}\n",
    "\n",
    "The difference between the true solution and the Forward Euler step is\n",
    "$\\mathcal{O}(\\Delta t^2)$.\n",
    "Thus, the local truncation error is $\\mathcal{O}(\\Delta t^2)$, meaning\n",
    "the method is first-order consistent."
   ]
  },
  {
   "cell_type": "markdown",
   "id": "6",
   "metadata": {},
   "source": [
    "Applying the test equation to forward Euler method gives:\n",
    "\\begin{align}\n",
    "  x_{n+1} = (1 + \\lambda \\Delta t) x_n,\n",
    "\\end{align}\n",
    "so the amplification factor is\n",
    "\\begin{align}\n",
    "  R(z) = 1 + z, \\quad z = \\lambda \\Delta t.\n",
    "\\end{align}\n",
    "\n",
    "The stability condition requires\n",
    "\\begin{align}\n",
    "  |1 + z| \\leq 1,\n",
    "\\end{align}\n",
    "which is the interior of the circle centered at $(-1,0)$ with radius 1\n",
    "in the complex plane."
   ]
  },
  {
   "cell_type": "code",
   "execution_count": null,
   "id": "7",
   "metadata": {},
   "outputs": [],
   "source": [
    "import numpy as np\n",
    "\n",
    "# Define grid in complex plane\n",
    "Re = np.linspace(-3, 3, 601)\n",
    "Im = np.linspace(-3, 3, 601)\n",
    "\n",
    "Re, Im = np.meshgrid(Re, Im)\n",
    "Z = Re + 1j * Im"
   ]
  },
  {
   "cell_type": "code",
   "execution_count": null,
   "id": "8",
   "metadata": {},
   "outputs": [],
   "source": [
    "# Forward Euler amplification factor\n",
    "\n",
    "R_fE = lambda z: abs(1 + z)"
   ]
  },
  {
   "cell_type": "code",
   "execution_count": null,
   "id": "9",
   "metadata": {},
   "outputs": [],
   "source": [
    "import matplotlib.pyplot as plt\n",
    "import matplotlib.patches as mpatches\n",
    "\n",
    "plt.contour (Re, Im, R_fE(Z), levels=[1],   colors=['C0'])\n",
    "plt.contourf(Re, Im, R_fE(Z), levels=[0,1], colors=['C0'], alpha=0.1)\n",
    "\n",
    "plt.legend(handles=[\n",
    "    mpatches.Patch(color='C0', label=\"Forward Euler Stable Region\"),\n",
    "])\n",
    "\n",
    "plt.xlabel(r\"Re($z$) = Re($\\lambda\\Delta t$)\")\n",
    "plt.ylabel(r\"Im($z$) = Im($\\lambda\\Delta t$)\")\n",
    "plt.gca().set_aspect('equal')"
   ]
  },
  {
   "cell_type": "markdown",
   "id": "10",
   "metadata": {},
   "source": [
    "Combined with stability, forward Euler is first-order convergent,\n",
    "i.e., the global error scales as $\\mathcal{O}(\\Delta t)$, within its\n",
    "stable region.\n",
    "Outside the stable region, the method diverges."
   ]
  },
  {
   "cell_type": "markdown",
   "id": "11",
   "metadata": {},
   "source": [
    "#### Exponential Decay\n",
    "\n",
    "To illustrate stability and convergence, let's recall the forward\n",
    "\n",
    "Euler scheme we implemented last time,"
   ]
  },
  {
   "cell_type": "code",
   "execution_count": null,
   "id": "12",
   "metadata": {},
   "outputs": [],
   "source": [
    "def Euler(f, x, t, dt, n):\n",
    "    X = [np.array(x)]\n",
    "    T = [np.array(t)]\n",
    "    for _ in range(n):\n",
    "        X.append(X[-1] + dt * f(X[-1]))\n",
    "        T.append(T[-1] + dt)\n",
    "    return np.array(X), np.array(T)"
   ]
  },
  {
   "cell_type": "markdown",
   "id": "13",
   "metadata": {},
   "source": [
    "We apply it to solve the equation $dx/dt = -x$, which has $\\lambda =\n",
    "-1$ and solution $\\exp(-t)$."
   ]
  },
  {
   "cell_type": "code",
   "execution_count": null,
   "id": "14",
   "metadata": {},
   "outputs": [],
   "source": [
    "f = lambda x: -x\n",
    "t = 16\n",
    "T = np.linspace(0, t, t*100+1)\n",
    "X = np.exp(-T)\n",
    "\n",
    "n = 32; X11, T11 = Euler(f, x=1, t=0, dt=t/n, n=n)\n",
    "n = 16; X12, T12 = Euler(f, x=1, t=0, dt=t/n, n=n)\n",
    "n = 8;  X13, T13 = Euler(f, x=1, t=0, dt=t/n, n=n)\n",
    "n = 4;  X14, T14 = Euler(f, x=1, t=0, dt=t/n, n=n)\n",
    "\n",
    "plt.plot(T,   X,   'k',    label=r\"$\\exp(t)$\")\n",
    "plt.plot(T11, X11, \"C0o-\", label=f\"Forward Euler with dt={t/32}\")\n",
    "plt.plot(T12, X12, \"C1o-\", label=f\"Forward Euler with dt={t/16}\")\n",
    "plt.plot(T13, X13, \"C2o-\", label=f\"Forward Euler with dt={t/8} (critical stability)\")\n",
    "plt.plot(T14, X14, \"C3o-\", label=f\"Forward Euler with dt={t/4}\")\n",
    "plt.xlabel(r\"$t$\")\n",
    "plt.ylabel(r\"$x(t)$\")\n",
    "plt.ylim(-10, 10)\n",
    "plt.legend()"
   ]
  },
  {
   "cell_type": "markdown",
   "id": "15",
   "metadata": {},
   "source": [
    "The error for $\\Delta t = 4$ grows unbounded.\n",
    "Even at the critical stability step size $\\Delta t = 2$, the\n",
    "oscillating behavior is fundamentally wrong.\n",
    "Nevertheless, as $\\Delta t \\rightarrow 0$, especially when\n",
    "$\\Delta t < -2/\\lambda$ the solution does convergence.\n",
    "\n",
    "However, if $\\lambda$ is positive, there is no positive $\\Delta t$\n",
    "that can make forward Euler stable.\n",
    "And we call forward Euler unconditionally unstable."
   ]
  },
  {
   "cell_type": "markdown",
   "id": "16",
   "metadata": {},
   "source": [
    "This suggests that,\n",
    "* Consistency:\n",
    "  Forward Euler has local error $\\mathcal{O}(\\Delta t^2)$.\n",
    "* Stability:\n",
    "  Stable only inside the unit disk centered at $(-1,0)$.\n",
    "* Convergence:\n",
    "  By Lax's theorem, Forward Euler converges with global error\n",
    "  $\\mathcal{O}(\\Delta t)$.\n",
    "\n",
    "Implications:\n",
    "* For $\\lambda < 0$ (decaying solutions), stability requires\n",
    "  $\\Delta t \\leq -2/\\lambda$.\n",
    "* For $\\lambda > 0$ (growing solutions), Forward Euler is\n",
    "  unconditionally unstable: no choice of $\\Delta t$ can control error\n",
    "  growth.\n",
    "* For stiff systems, where $|\\lambda|$ is very large, the step size\n",
    "  restriction is too severe to be practical.\n",
    "\n",
    "This motivates the need for implicit integrators (Backward Euler,\n",
    "trapezoidal rule) and later symplectic integrators for Hamiltonian\n",
    "systems."
   ]
  },
  {
   "cell_type": "markdown",
   "id": "17",
   "metadata": {},
   "source": [
    "#### Simple Harmonic Oscillator\n",
    "\n",
    "The exponential test equation matches the linear test equation and is\n",
    "a good illustrative example, but many physical systems of interest are\n",
    "naturally written as systems of coupled ODEs.\n",
    "\n",
    "Recalling again from last lecture, an important example is the simple\n",
    "harmonic oscillator:\n",
    "\\begin{align}\n",
    "  \\frac{d}{dt}\n",
    "  \\begin{bmatrix}\n",
    "    \\theta(t) \\\\\n",
    "    \\Omega(t)\n",
    "  \\end{bmatrix}\n",
    "  =\n",
    "  \\begin{bmatrix}\n",
    "    0    & 1 \\\\\n",
    "    -g/l & 0\n",
    "  \\end{bmatrix}\n",
    "  \\begin{bmatrix}\n",
    "    \\theta(t) \\\\\n",
    "    \\Omega(t)\n",
    "  \\end{bmatrix}.\n",
    "\\end{align}\n",
    "Here $\\theta(t)$ is the angular displacement, $\\Omega(t)$ the angular\n",
    "velocity, and $g/l$ sets the natural frequency $\\omega^2 = g/l$.\n"
   ]
  },
  {
   "cell_type": "markdown",
   "id": "18",
   "metadata": {},
   "source": [
    "Applying the Forward Euler method gives:\n",
    "\\begin{align}\n",
    "  \\begin{bmatrix}\n",
    "    \\theta_{n+1} \\\\\n",
    "    \\Omega_{n+1}\n",
    "  \\end{bmatrix}\n",
    "  =\n",
    "  \\begin{bmatrix}\n",
    "    \\theta_{n} \\\\\n",
    "    \\Omega_{n}\n",
    "  \\end{bmatrix}\n",
    "  +\n",
    "  \\Delta t\n",
    "  \\begin{bmatrix}\n",
    "    0 & 1 \\\\\n",
    "    -g/l & 0\n",
    "  \\end{bmatrix}\n",
    "  \\begin{bmatrix}\n",
    "    \\theta_{n} \\\\\n",
    "    \\Omega_{n}\n",
    "  \\end{bmatrix}.\n",
    "\\end{align}"
   ]
  },
  {
   "cell_type": "markdown",
   "id": "19",
   "metadata": {},
   "source": [
    "This can be written compactly as:\n",
    "\\begin{align}\n",
    "  \\mathbf{x}_{n+1} = A \\mathbf{x}_n, \\quad\n",
    "  A =\n",
    "  \\begin{bmatrix}\n",
    "    1              & \\Delta t \\\\\n",
    "    -(g/l)\\Delta t & 1\n",
    "  \\end{bmatrix}.\n",
    "\\end{align}\n",
    "\n",
    "Here $A$ is the amplification matrix, the multi-dimensional analogue\n",
    "of the scalar amplification factor $R(z)$.\n",
    "Stability requires that the eigenvalues of $A$ satisfy\n",
    "$|\\lambda| \\leq 1$."
   ]
  },
  {
   "cell_type": "markdown",
   "id": "20",
   "metadata": {},
   "source": [
    "Let's compute them.\n",
    "The characteristic polynomial of $A$ is:\n",
    "\\begin{align}\n",
    "  \\det(A - \\lambda I) =\n",
    "  \\begin{vmatrix}\n",
    "  1 - \\lambda    & \\Delta t \\\\\n",
    "  -(g/l)\\Delta t & 1 - \\lambda\n",
    "  \\end{vmatrix}\n",
    "  = (1-\\lambda)^2 + \\frac{g}{l} \\Delta t^2.\n",
    "\\end{align}"
   ]
  },
  {
   "cell_type": "markdown",
   "id": "21",
   "metadata": {},
   "source": [
    "Setting this to zero,  $(1 - \\lambda)^2 = -(g/l)\\Delta t^2$.\n",
    "Thus the eigenvalues are:\n",
    "\\begin{align}\n",
    "  \\lambda_{\\pm} = 1 \\pm i \\sqrt{\\frac{g}{l}} \\Delta t.\n",
    "\\end{align}"
   ]
  },
  {
   "cell_type": "markdown",
   "id": "22",
   "metadata": {},
   "source": [
    "The magnitude of each eigenvalue is:\n",
    "\\begin{align}\n",
    "  |\\lambda_{\\pm}| = \\sqrt{1 + \\frac{g}{l} \\Delta t^2}.\n",
    "\\end{align}\n",
    "This is always larger than 1 for any nonzero time step.\n",
    "Therefore, Forward Euler applied to the harmonic oscillator is\n",
    "unconditionally unstable."
   ]
  },
  {
   "cell_type": "code",
   "execution_count": null,
   "id": "23",
   "metadata": {},
   "outputs": [],
   "source": [
    "# Parameters\n",
    "g, l = 9.8, 1\n",
    "t, n = 100, 10000\n",
    "\n",
    "def F(x):\n",
    "    theta, omega = x\n",
    "    return np.array([omega, -(g/l) * theta])\n",
    "\n",
    "T     = np.linspace(0, t, t*100+1)\n",
    "Theta = np.cos(np.sqrt(g/l)*T)\n",
    "\n",
    "X1, T1 = Euler(F, x=[1.0, 0.0], t=0, dt=t/n, n=n)\n",
    "Theta1, Omega1 = X1[:,0], X1[:,1]\n",
    "\n",
    "plt.plot(T,  Theta, '--', label=r\"Exact $\\theta(t)$\")\n",
    "plt.plot(T1, Theta1,      label=r\"Euler $\\theta(t)$\")\n",
    "plt.xlabel(r\"$t$\")\n",
    "plt.ylabel(r\"$\\theta(t)$\")\n",
    "plt.ylim(-10, 10)\n",
    "plt.legend()"
   ]
  },
  {
   "cell_type": "code",
   "execution_count": null,
   "id": "24",
   "metadata": {},
   "outputs": [],
   "source": [
    "# HANDSON: try increase the number of time step per period.\n",
    "#          Does this stop the oscillator from blowing up?\n"
   ]
  },
  {
   "cell_type": "markdown",
   "id": "25",
   "metadata": {},
   "source": [
    "The true solution of the harmonic oscillator is bounded and\n",
    "oscillatory.\n",
    "However, the forward Euler discretization produces eigenvalues with\n",
    "modulus larger than 1.\n",
    "This means that the numerical solution grows exponentially in\n",
    "amplitude while also oscillating.\n",
    "This \"blow up\" happens even for very small $\\Delta t$."
   ]
  },
  {
   "cell_type": "code",
   "execution_count": null,
   "id": "26",
   "metadata": {},
   "outputs": [],
   "source": [
    "# HANDSON: try plotting the energy of the oscillator.\n"
   ]
  },
  {
   "cell_type": "markdown",
   "id": "27",
   "metadata": {},
   "source": [
    "For the harmonic oscillator, Forward Euler is inconsistent with the\n",
    "bounded, energy-conserving nature of the physics.\n",
    "In fact,\n",
    "* Explicit (forward)  Euler introduces artificial growth  of energy.\n",
    "* Implicit (backward) Euler introduces artificial damping of energy.\n",
    "* Symplectic integrators (e.g., Leapfrog, see below) preserve the\n",
    "  energy structure and produce qualitatively correct long-term\n",
    "  behavior.\n",
    "\n",
    "This example connects stability analysis directly to physics:\n",
    "the choice of integrator is not just about error size, but about\n",
    "preserving the qualitative features of the dynamics."
   ]
  },
  {
   "cell_type": "markdown",
   "id": "28",
   "metadata": {},
   "source": [
    "### Stability Regions for RK2 and RK4\n",
    "\n",
    "So far we have analyzed the forward Euler method, which is simple but\n",
    "has a very restrictive stability region.\n",
    "In practice, physicists often use higher-order explicit Runge-Kutta\n",
    "(RK) methods, such as RK2 and RK4.\n",
    "These methods improve accuracy while also enlarging the stability\n",
    "region, allowing for larger time steps in many problems."
   ]
  },
  {
   "cell_type": "markdown",
   "id": "29",
   "metadata": {},
   "source": [
    "To analyze stability, we again apply the methods to the linear test equation:\n",
    "\\begin{align}\n",
    "  \\frac{dx}{dt} = \\lambda x, \\quad z = \\lambda \\Delta t.\n",
    "\\end{align}\n",
    "Each Runge-Kutta scheme can be written in the form:\n",
    "\\begin{align}\n",
    "  x_{n+1} = R(z) x_n,\n",
    "\\end{align}\n",
    "where $R(z)$ is the stability function of the method.\n",
    "Stability requires $|R(z)| \\leq 1$.\n",
    "* Forward Euler (for comparison):\n",
    "  \\begin{align}\n",
    "    R_{\\text{fE}}(z) = 1 + z\n",
    "  \\end{align}\n",
    "* RK2 (Heun's method):\n",
    "  \\begin{align}\n",
    "    R_{\\text{RK2}}(z) = 1 + z + \\tfrac{1}{2} z^2\n",
    "  \\end{align}\n",
    "* RK4 (classical Runge–Kutta):\n",
    "  \\begin{align}\n",
    "    R_{\\text{RK4}}(z) = 1 + z + \\tfrac{1}{2} z^2 + \\tfrac{1}{6} z^3 + \\tfrac{1}{24} z^4\n",
    "  \\end{align}\n",
    "\n",
    "Notice:\n",
    "$R_{\\text{RK4}}(z)$ is simply the first four terms of the Taylor\n",
    "expansion of $e^z$, which explains why RK4 is accurate to fourth\n",
    "order."
   ]
  },
  {
   "cell_type": "code",
   "execution_count": null,
   "id": "30",
   "metadata": {},
   "outputs": [],
   "source": [
    "# Stability functions\n",
    "R_fE  = lambda z: abs(1 + z)  # the same as before, for comparison only\n",
    "R_RK2 = lambda z: abs(1 + z + 0.5 * z**2)\n",
    "R_RK4 = lambda z: abs(1 + z + 0.5 * z**2 + (1/6) * z**3 + (1/24) * z**4)\n",
    "\n",
    "# Plot regions\n",
    "methods = {\n",
    "    'Forward Euler': (R_fE,  'C0'),\n",
    "    'RK2':           (R_RK2, 'C1'),\n",
    "    'RK4':           (R_RK4, 'C2'),\n",
    "}"
   ]
  },
  {
   "cell_type": "code",
   "execution_count": null,
   "id": "31",
   "metadata": {},
   "outputs": [],
   "source": [
    "def stable_regions(methods):\n",
    "    for name, (R, color) in methods.items():\n",
    "        plt.contour (Re, Im, R(Z), levels=[1],   colors=[color])\n",
    "        plt.contourf(Re, Im, R(Z), levels=[0,1], colors=[color], alpha=0.1)\n",
    "\n",
    "    plt.legend(handles=[\n",
    "        mpatches.Patch(color=color, label=name) for name, (_,color) in methods.items()\n",
    "    ])\n",
    "\n",
    "    plt.xlabel(r\"Re($z$) = Re($\\lambda\\Delta t$)\")\n",
    "    plt.ylabel(r\"Im($z$) = Im($\\lambda\\Delta t$)\")\n",
    "    plt.gca().set_aspect('equal')"
   ]
  },
  {
   "cell_type": "code",
   "execution_count": null,
   "id": "32",
   "metadata": {},
   "outputs": [],
   "source": [
    "stable_regions(methods)"
   ]
  },
  {
   "cell_type": "markdown",
   "id": "33",
   "metadata": {},
   "source": [
    "Some observations from the above plot:\n",
    "* Forward Euler:\n",
    "  * Stability region:\n",
    "    disk of radius 1 centered at $(-1,0)$.\n",
    "  * Very restrictive:\n",
    "    only stable for very small $\\Delta t$ when $\\lambda$ has a\n",
    "    negative real part.\n",
    "* RK2\n",
    "  * Stability region:\n",
    "    significantly larger, extending farther left into the negative\n",
    "    real axis.\n",
    "  * Stable for $\\text{Re}(z) \\gtrsim -2$.\n",
    "  * This allows larger time steps for decaying problems, while still\n",
    "    being conditionally stable.\n",
    "* RK4\n",
    "  * Stability region:\n",
    "    even larger, extending roughly to $\\text{Re}(z) \\approx -2.8$ on\n",
    "    the real axis.\n",
    "  * Includes a more extensive area in the complex plane, meaning\n",
    "    oscillatory systems can tolerate larger $\\Delta t$ before\n",
    "    instability.\n",
    "  * Most widely used in physics and engineering because of its balance\n",
    "    between accuracy and stability."
   ]
  },
  {
   "cell_type": "code",
   "execution_count": null,
   "id": "34",
   "metadata": {},
   "outputs": [],
   "source": [
    "def RK2(f, x, t, dt, n):\n",
    "    X = [np.array(x)]\n",
    "    T = [np.array(t)]\n",
    "    for _ in range(n):\n",
    "        k1 = f(X[-1])\n",
    "        k2 = f(X[-1] + 0.5 * dt * k1)\n",
    "        X.append(X[-1] + dt * k2)\n",
    "        T.append(T[-1] + dt)\n",
    "    return np.array(X), np.array(T)"
   ]
  },
  {
   "cell_type": "code",
   "execution_count": null,
   "id": "35",
   "metadata": {},
   "outputs": [],
   "source": [
    "def RK4(f, x, t, dt, n):\n",
    "    X = [np.array(x)]\n",
    "    T = [np.array(t)]\n",
    "    for _ in range(n):\n",
    "        k1 = f(X[-1]                )\n",
    "        k2 = f(X[-1] + 0.5 * dt * k1)\n",
    "        k3 = f(X[-1] + 0.5 * dt * k2)\n",
    "        k4 = f(X[-1] +       dt * k3)\n",
    "        X.append(X[-1] + dt * (k1/6 + k2/3 + k3/3 + k4/6))\n",
    "        T.append(T[-1] + dt)\n",
    "    return np.array(X), np.array(T)"
   ]
  },
  {
   "cell_type": "code",
   "execution_count": null,
   "id": "36",
   "metadata": {},
   "outputs": [],
   "source": [
    "t = 16\n",
    "T = np.linspace(0, t, t*100+1)\n",
    "X = np.exp(-T)\n",
    "\n",
    "n = 9\n",
    "X11, T11 = Euler(f, x=1, t=0, dt=t/n, n=n)\n",
    "X21, T21 = RK2  (f, x=1, t=0, dt=t/n, n=n)\n",
    "X41, T41 = RK4  (f, x=1, t=0, dt=t/n, n=n)\n",
    "\n",
    "n = 8\n",
    "X12, T12 = Euler(f, x=1, t=0, dt=t/n, n=n)\n",
    "X22, T22 = RK2  (f, x=1, t=0, dt=t/n, n=n)\n",
    "X42, T42 = RK4  (f, x=1, t=0, dt=t/n, n=n)\n",
    "\n",
    "n = 6\n",
    "X13, T13 = Euler(f, x=1, t=0, dt=t/n, n=n)\n",
    "X23, T23 = RK2  (f, x=1, t=0, dt=t/n, n=n)\n",
    "X43, T43 = RK4  (f, x=1, t=0, dt=t/n, n=n)\n",
    "\n",
    "n = 5\n",
    "X14, T14 = Euler(f, x=1, t=0, dt=t/n, n=n)\n",
    "X24, T24 = RK2  (f, x=1, t=0, dt=t/n, n=n)\n",
    "X44, T44 = RK4  (f, x=1, t=0, dt=t/n, n=n)"
   ]
  },
  {
   "cell_type": "code",
   "execution_count": null,
   "id": "37",
   "metadata": {},
   "outputs": [],
   "source": [
    "plt.plot(T,   X,   'k',    label=r\"$\\exp(t)$\")\n",
    "\n",
    "#plt.plot(T11, X11, \"C0o-\", label=f\"Forward Euler with dt={t/9:.3f} (stable)\")\n",
    "plt.plot(T12, X12, \"C1o-\", label=f\"Forward Euler with dt={t/8:.3f} (critical stability)\")\n",
    "#plt.plot(T13, X13, \"C2o-\", label=f\"Forward Euler with dt={t/6:.3f} (unstable)\")\n",
    "#plt.plot(T14, X14, \"C3o-\", label=f\"Forward Euler with dt={t/5:.3f} (unstable)\")\n",
    "\n",
    "#plt.plot(T21, X21, \"C0^--\", label=f\"RK2 with dt={t/9:.3f} (stable)\")\n",
    "plt.plot(T22, X22, \"C1^--\", label=f\"RK2 with dt={t/8:.3f} (critical stability)\")\n",
    "#plt.plot(T23, X23, \"C2^--\", label=f\"RK2 with dt={t/6:.3f} (unstable)\")\n",
    "#plt.plot(T24, X24, \"C3^--\", label=f\"RK2 with dt={t/5:.3f} (unstable)\")\n",
    "\n",
    "#plt.plot(T41, X41, \"C0s:\", label=f\"RK4 with dt={t/9:.3f} (stable)\")\n",
    "plt.plot(T42, X42, \"C1s:\", label=f\"RK4 with dt={t/8:.3f} (stable)\")\n",
    "#plt.plot(T43, X43, \"C2s:\", label=f\"RK4 with dt={t/6:.3f} (stable)\")\n",
    "#plt.plot(T44, X44, \"C3s:\", label=f\"RK4 with dt={t/5:.3f} (unstable)\")\n",
    "\n",
    "plt.xlabel(r\"$t$\")\n",
    "plt.ylabel(r\"$x(t)$\")\n",
    "plt.ylim(-10, 10)\n",
    "plt.legend()"
   ]
  },
  {
   "cell_type": "code",
   "execution_count": null,
   "id": "38",
   "metadata": {},
   "outputs": [],
   "source": [
    "# HANDSON: comment and uncomment different curves to study them.\n"
   ]
  },
  {
   "cell_type": "markdown",
   "id": "39",
   "metadata": {},
   "source": [
    "In general,\n",
    "* Order vs. Stability:\n",
    "  Higher-order RK methods expand the stability region, allowing larger\n",
    "  $\\Delta t$ while maintaining stability.\n",
    "* Still Conditionally Stable:\n",
    "  Neither RK2 nor RK4 are\n",
    "  [A-stable](https://en.wikipedia.org/wiki/Stiff_equation#A-stability).\n",
    "  They cannot remain stable for arbitrarily stiff problems (where\n",
    "  $\\lambda$ is very negative).\n",
    "* Physics Implication:\n",
    "  * For non-stiff problems (e.g. orbital dynamics, wave propagation),\n",
    "    RK4 is an excellent choice.\n",
    "  * For stiff problems (e.g. radiative cooling, chemical networks),\n",
    "    even RK4 will fail unless $\\Delta t$ is extremely small.\n",
    "    These problems require implicit methods."
   ]
  },
  {
   "cell_type": "markdown",
   "id": "40",
   "metadata": {},
   "source": [
    "## Implicit Methods\n",
    "\n",
    "So far we have focused on explicit methods such as forward Euler, RK2,\n",
    "and RK4.\n",
    "They are simple, intuitive, and accurate for many problems.\n",
    "However, we also discovered:\n",
    "* Forward Euler fails on oscillatory systems like the harmonic\n",
    "  oscillator (unconditionally unstable).\n",
    "* Explicit RK methods extend the stability region, but they are still\n",
    "  conditionally stable.\n",
    "  They cannot handle arbitrarily stiff problems.\n",
    "\n",
    "This raises a natural question:\n",
    "\n",
    "> Can we design methods that remain stable even when\n",
    "  $\\lambda \\Delta t$\n",
    "  is very large and negative?\n",
    "\n",
    "This leads us to implicit methods.\n"
   ]
  },
  {
   "cell_type": "markdown",
   "id": "41",
   "metadata": {},
   "source": [
    "In explicit methods, the new state is computed directly from known\n",
    "information,\n",
    "\\begin{align}\n",
    "  x_{n+1} = \\Phi(x_n, t_n, \\Delta t).\n",
    "\\end{align}\n",
    "Example includes forward Euler $x_{n+1} = x_n + \\Delta t f(x_n, t_n)$.\n",
    "This makes them cheap and easy per step, but with limited stability.\n",
    "\n",
    "In implicit methods, the new state appears on both sides of the\n",
    "equation\n",
    "\\begin{align}\n",
    "  x_{n+1} = \\Psi(x_n, x_{n+1}, t_n, t_{n+1}, \\Delta t)\n",
    "\\end{align}\n",
    "Hence, root finders are required at each step.\n",
    "Example includes backward Euler $x_{n+1} = x_n + \\Delta t f(x_{n+1},\n",
    "t_{n+1})$.\n",
    "This makes them expensive per step but has much larger stability\n",
    "regions.\n",
    "They are ideal for stiff systems."
   ]
  },
  {
   "cell_type": "markdown",
   "id": "42",
   "metadata": {},
   "source": [
    "### Backward Euler Method\n",
    "\n",
    "The simplest implicit scheme is backward Euler, the implicit\n",
    "counterpart to Forward Euler.\n",
    "\\begin{align}\n",
    "  x_{n+1} = x_n + \\Delta t \\, f(x_{n+1}, t_{n+1}).\n",
    "\\end{align}\n",
    "\n",
    "This requires solving an equation for $x_{n+1}$ at every step."
   ]
  },
  {
   "cell_type": "markdown",
   "id": "43",
   "metadata": {},
   "source": [
    "For its stability analysis with the linear test equation, we apply\n",
    "backward Euler to $\\frac{dx}{dt} = \\lambda x$ and define $z = \\lambda\n",
    "\\Delta t$.\n",
    "Given the update rule,\n",
    "\\begin{align}\n",
    "  x_{n+1} = x_n + \\Delta t \\lambda x_{n+1}.\n",
    "\\end{align}\n",
    "\n",
    "Rearrange:\n",
    "\\begin{align}\n",
    "  x_{n+1} = \\frac{1}{1 - z} x_n,\n",
    "\\end{align}\n",
    "the amplification factor is:\n",
    "\\begin{align}\n",
    "  R(z) = \\frac{1}{1 - z}.\n",
    "\\end{align}"
   ]
  },
  {
   "cell_type": "markdown",
   "id": "44",
   "metadata": {},
   "source": [
    "The stability condition requires\n",
    "\\begin{align}\n",
    "  |R(z)| = \\left|\\frac{1}{1-z}\\right| \\leq 1.\n",
    "\\end{align}\n",
    "\n",
    "* If $\\text{Re}(z) \\leq 0$ (stable in the continuous system), this\n",
    "  inequality always holds.\n",
    "* Therefore, backward Euler is\n",
    "  [A-stable](https://en.wikipedia.org/wiki/Stiff_equation#A-stability):\n",
    "  stable for the entire left half-plane.\n",
    "\n",
    "This is in stark contrast with Forward Euler and explicit RK methods.\n"
   ]
  },
  {
   "cell_type": "code",
   "execution_count": null,
   "id": "45",
   "metadata": {},
   "outputs": [],
   "source": [
    "# Stability functions\n",
    "R_bE = lambda z: abs(1 / (abs(1-z) + 1e-308))  # trick to avoid divide by zero\n",
    "\n",
    "# Add plot regions\n",
    "methods['Backward Euler'] = (R_bE,  'C3')"
   ]
  },
  {
   "cell_type": "code",
   "execution_count": null,
   "id": "46",
   "metadata": {},
   "outputs": [],
   "source": [
    "stable_regions(methods)"
   ]
  }
 ],
 "metadata": {
  "kernelspec": {
   "display_name": "Python 3 (ipykernel)",
   "language": "python",
   "name": "python3"
  },
  "language_info": {
   "codemirror_mode": {
    "name": "ipython",
    "version": 3
   },
   "file_extension": ".py",
   "mimetype": "text/x-python",
   "name": "python",
   "nbconvert_exporter": "python",
   "pygments_lexer": "ipython3",
   "version": "3.13.7"
  }
 },
 "nbformat": 4,
 "nbformat_minor": 5
}
