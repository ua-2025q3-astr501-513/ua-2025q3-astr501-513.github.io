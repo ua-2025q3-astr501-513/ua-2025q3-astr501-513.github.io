{
 "cells": [
  {
   "cell_type": "markdown",
   "id": "0",
   "metadata": {},
   "source": [
    "# ODE Integrators II: Implicit and Symplectic Methods"
   ]
  },
  {
   "cell_type": "markdown",
   "id": "1",
   "metadata": {},
   "source": [
    "## Convergence of Integrators\n",
    "\n",
    "When solving ordinary differential equations (ODEs) numerically,\n",
    "errors inevitably enter through truncation (e.g., approximating\n",
    "derivatives with finite differences) and round-off (finite precision\n",
    "arithmetic).\n",
    "If these errors grow uncontrollably, the computed solution may diverge\n",
    "from the true behavior, even if the method is very accurate for short\n",
    "times."
   ]
  },
  {
   "cell_type": "markdown",
   "id": "2",
   "metadata": {},
   "source": [
    "It is useful to distinguish between several related ideas:\n",
    "* Accuracy:\n",
    "  How close the numerical solution is to the exact solution at a given\n",
    "  time step.\n",
    "* Consistency:\n",
    "  The numerical method reproduces the original ODE as\n",
    "  $\\Delta t \\to 0$.\n",
    "  Formally, the local truncation error (the error made in a single\n",
    "  step assuming exact input) should vanish as $\\Delta t \\to 0$.\n",
    "* Stability:\n",
    "  Errors introduced during computation do not grow uncontrollably as\n",
    "  steps are repeated.\n",
    "* Convergence:\n",
    "  The global numerical solution approaches the exact solution as\n",
    "  $\\Delta t \\to 0$."
   ]
  },
  {
   "cell_type": "markdown",
   "id": "3",
   "metadata": {},
   "source": [
    "These concepts are related by a central result of numerical analysis:\n",
    "\\begin{align}\n",
    "  \\text{Consistency + Stability } \\implies \\text{ Convergence.}\n",
    "\\end{align}\n",
    "\n",
    "This is known as the\n",
    "[Lax Equivalence Theorem](https://en.wikipedia.org/wiki/Lax_equivalence_theorem).\n",
    "The theorem is really for linear finite difference methods for partial\n",
    "different equation, but it is still useful to discuss it in ODE\n",
    "integrator.\n",
    "It gives us a practical recipe:\n",
    "* First check that the method is consistent (usually straightforward).\n",
    "* Then analyze stability, we usually use the linear test equation:\n",
    "  \\begin{align}\n",
    "    \\frac{dx}{dt} = \\lambda x, \\quad \\lambda \\in \\mathbb{C}.\n",
    "  \\end{align}\n",
    "  Its exact solution is $x(t) = x_0 e^{\\lambda t}$.\n",
    "  Applying a numerical method produces an update:\n",
    "  \\begin{align}\n",
    "    x_{n+1} = R(z) x_n, \\quad z = \\lambda \\Delta t,\n",
    "  \\end{align}\n",
    "  where $R(z)$ is the amplification factor.\n",
    "  A method is stable if\n",
    "  \\begin{align}\n",
    "    |R(z)| \\leq 1,\n",
    "  \\end{align}\n",
    "  so that errors do not amplify step by step.\n",
    "  The set of $z$ satisfying this condition defines the stability region.\n",
    "* Convergence then follows automatically."
   ]
  },
  {
   "cell_type": "markdown",
   "id": "4",
   "metadata": {},
   "source": [
    "## Forward Euler Consistency\n",
    "\n",
    "The Forward Euler method for $dx/dt = f(x)$ is\n",
    "\\begin{align}\n",
    "  x_{n+1} = x_n + \\Delta t f(x_n).\n",
    "\\end{align}\n",
    "Expanding the true solution with a Taylor series:\n",
    "\\begin{align}\n",
    "  x(t_{n+1}) = x(t_n + \\Delta t) = x(t_n) + \\Delta t f(x_n) + \\frac{1}{2} \\Delta t^2 f'(x_n) + \\mathcal{O}(\\Delta t^3)\n",
    "\\end{align}\n",
    "\n",
    "The difference between the true solution and the Forward Euler step is\n",
    "$\\mathcal{O}(\\Delta t^2)$.\n",
    "Thus, the local truncation error is $\\mathcal{O}(\\Delta t^2)$, meaning\n",
    "the method is first-order consistent."
   ]
  },
  {
   "cell_type": "markdown",
   "id": "5",
   "metadata": {},
   "source": [
    "Applying the test equation to forward Euler method gives:\n",
    "\\begin{align}\n",
    "  x_{n+1} = (1 + \\lambda \\Delta t) x_n,\n",
    "\\end{align}\n",
    "so the amplification factor is\n",
    "\\begin{align}\n",
    "  R(z) = 1 + z, \\quad z = \\lambda \\Delta t.\n",
    "\\end{align}\n",
    "\n",
    "The stability condition requires\n",
    "\\begin{align}\n",
    "  |1 + z| \\leq 1,\n",
    "\\end{align}\n",
    "which is the interior of the circle centered at $(-1,0)$ with radius 1\n",
    "in the complex plane."
   ]
  },
  {
   "cell_type": "code",
   "execution_count": null,
   "id": "6",
   "metadata": {},
   "outputs": [],
   "source": [
    "import numpy as np\n",
    "\n",
    "# Define grid in complex plane\n",
    "Re = np.linspace(-3, 3, 601)\n",
    "Im = np.linspace(-3, 3, 601)\n",
    "\n",
    "Re, Im = np.meshgrid(Re, Im)\n",
    "Z = Re + 1j * Im"
   ]
  },
  {
   "cell_type": "code",
   "execution_count": null,
   "id": "7",
   "metadata": {},
   "outputs": [],
   "source": [
    "# Forward Euler amplification factor\n",
    "\n",
    "R = abs(1 + Z)"
   ]
  },
  {
   "cell_type": "code",
   "execution_count": null,
   "id": "8",
   "metadata": {},
   "outputs": [],
   "source": [
    "import matplotlib.pyplot as plt\n",
    "import matplotlib.patches as mpatches\n",
    "\n",
    "plt.contour (Re, Im, R, levels=[1],   colors=['C0'], linewidths=2)\n",
    "plt.contourf(Re, Im, R, levels=[0,1], colors=['C0'], alpha=0.1)\n",
    "\n",
    "plt.legend(handles=[\n",
    "    mpatches.Patch(color='C0', label=\"Forward Euler Stable Region\"),\n",
    "])\n",
    "\n",
    "plt.title('Stability Region: Forward Euler')\n",
    "plt.xlabel(r'Re($z$) = Re($\\lambda\\Delta t$)')\n",
    "plt.ylabel(r'Re($z$) = Im($\\lambda\\Delta t$)')\n",
    "plt.gca().set_aspect('equal')"
   ]
  },
  {
   "cell_type": "markdown",
   "id": "9",
   "metadata": {},
   "source": [
    "Combined with stability, forward Euler is first-order convergent,\n",
    "i.e., the global error scales as $\\mathcal{O}(\\Delta t)$, within its\n",
    "stable region.\n",
    "Outside the stable region, the method diverges."
   ]
  },
  {
   "cell_type": "markdown",
   "id": "10",
   "metadata": {},
   "source": [
    "### Exponential Decay\n",
    "\n",
    "To illustrate stability and convergence, let's recall the forward\n",
    "Euler scheme we implemented last time,"
   ]
  },
  {
   "cell_type": "code",
   "execution_count": null,
   "id": "11",
   "metadata": {},
   "outputs": [],
   "source": [
    "def Euler(f, x, t, dt, n):\n",
    "    X = [np.array(x)]\n",
    "    T = [np.array(t)]\n",
    "    for _ in range(n):\n",
    "        X.append(X[-1] + dt * f(X[-1]))\n",
    "        T.append(T[-1] + dt)\n",
    "    return np.array(X), np.array(T)"
   ]
  },
  {
   "cell_type": "markdown",
   "id": "12",
   "metadata": {},
   "source": [
    "We apply it to solve the equation $dx/dt = -x$, which has $\\lambda =\n",
    "-1$ and solution $\\exp(-t)$."
   ]
  },
  {
   "cell_type": "code",
   "execution_count": null,
   "id": "13",
   "metadata": {},
   "outputs": [],
   "source": [
    "f = lambda x: -x\n",
    "t = 16\n",
    "T = np.linspace(0, t, 1001)\n",
    "X = np.exp(-T)\n",
    "\n",
    "n = 32; X1, T1 = Euler(f, x=1, t=0, dt=t/n, n=n)\n",
    "n = 16; X2, T2 = Euler(f, x=1, t=0, dt=t/n, n=n)\n",
    "n = 8;  X3, T3 = Euler(f, x=1, t=0, dt=t/n, n=n)\n",
    "n = 4;  X4, T4 = Euler(f, x=1, t=0, dt=t/n, n=n)\n",
    "\n",
    "plt.plot(T,  X,        label=r\"$\\exp(t)$\")\n",
    "plt.plot(T1, X1, \"o-\", label=f\"Forward Euler with dt={t/32}\")\n",
    "plt.plot(T2, X2, \"o-\", label=f\"Forward Euler with dt={t/16}\")\n",
    "plt.plot(T3, X3, \"o-\", label=f\"Forward Euler with dt={t/8} (critical stability)\")\n",
    "plt.plot(T4, X4, \"o-\", label=f\"Forward Euler with dt={t/4}\")\n",
    "plt.xlabel(r\"$t$\")\n",
    "plt.ylabel(r\"$x(t)$\")\n",
    "plt.ylim(-10, 10)\n",
    "plt.legend()"
   ]
  },
  {
   "cell_type": "markdown",
   "id": "14",
   "metadata": {},
   "source": [
    "The error for $\\Delta t = 4$ grows unbounded.\n",
    "Even at the critical stability step size $\\Delta t = 2$, the\n",
    "oscillating behavior is fundamentally wrong.\n",
    "Nevertheless, as $\\Delta t \\rightarrow 0$, especially when\n",
    "$\\Delta t < -2/\\lambda$ the solution does convergence.\n",
    "\n",
    "However, if $\\lambda$ is positive, there is no positive $\\Delta t$\n",
    "that can make forward Euler stable.\n",
    "And we call forward Euler unconditionally unstable."
   ]
  },
  {
   "cell_type": "markdown",
   "id": "15",
   "metadata": {},
   "source": [
    "This suggests that,\n",
    "* Consistency:\n",
    "  Forward Euler has local error $\\mathcal{O}(\\Delta t^2)$.\n",
    "* Stability:\n",
    "  Stable only inside the unit disk centered at $(-1,0)$.\n",
    "* Convergence:\n",
    "  By Lax's theorem, Forward Euler converges with global error\n",
    "  $\\mathcal{O}(\\Delta t)$.\n",
    "\n",
    "Implications:\n",
    "* For $\\lambda < 0$ (decaying solutions), stability requires\n",
    "  $\\Delta t \\leq -2/\\lambda$.\n",
    "* For $\\lambda > 0$ (growing solutions), Forward Euler is\n",
    "  unconditionally unstable: no choice of $\\Delta t$ can control error\n",
    "  growth.\n",
    "* For stiff systems, where $|\\lambda|$ is very large, the step size\n",
    "  restriction is too severe to be practical.\n",
    "\n",
    "This motivates the need for implicit integrators (Backward Euler,\n",
    "trapezoidal rule) and later symplectic integrators for Hamiltonian\n",
    "systems."
   ]
  },
  {
   "cell_type": "markdown",
   "id": "16",
   "metadata": {},
   "source": [
    "### Simple Harmonic Oscillator\n",
    "\n",
    "The exponential test equation matches the linear test equation and is\n",
    "a good illustrative example, but many physical systems of interest are\n",
    "naturally written as systems of coupled ODEs.\n",
    "\n",
    "Recalling again from last lecture, an important example is the simple\n",
    "harmonic oscillator:\n",
    "\\begin{align}\n",
    "  \\frac{d}{dt}\n",
    "  \\begin{bmatrix}\n",
    "    \\theta(t) \\\\\n",
    "    \\Omega(t)\n",
    "  \\end{bmatrix}\n",
    "  =\n",
    "  \\begin{bmatrix}\n",
    "    0    & 1 \\\\\n",
    "    -g/l & 0\n",
    "  \\end{bmatrix}\n",
    "  \\begin{bmatrix}\n",
    "    \\theta(t) \\\\\n",
    "    \\Omega(t)\n",
    "  \\end{bmatrix}.\n",
    "\\end{align}\n",
    "Here $\\theta(t)$ is the angular displacement, $\\Omega(t)$ the angular\n",
    "velocity, and $g/l$ sets the natural frequency $\\omega^2 = g/l$.\n"
   ]
  },
  {
   "cell_type": "markdown",
   "id": "17",
   "metadata": {},
   "source": [
    "Applying the Forward Euler method gives:\n",
    "\\begin{align}\n",
    "  \\begin{bmatrix}\n",
    "    \\theta_{n+1} \\\\\n",
    "    \\Omega_{n+1}\n",
    "  \\end{bmatrix}\n",
    "  =\n",
    "  \\begin{bmatrix}\n",
    "    \\theta_{n} \\\\\n",
    "    \\Omega_{n}\n",
    "  \\end{bmatrix}\n",
    "  +\n",
    "  \\Delta t\n",
    "  \\begin{bmatrix}\n",
    "    0 & 1 \\\\\n",
    "    -g/l & 0\n",
    "  \\end{bmatrix}\n",
    "  \\begin{bmatrix}\n",
    "    \\theta_{n} \\\\\n",
    "    \\Omega_{n}\n",
    "  \\end{bmatrix}.\n",
    "\\end{align}"
   ]
  },
  {
   "cell_type": "markdown",
   "id": "18",
   "metadata": {},
   "source": [
    "This can be written compactly as:\n",
    "\\begin{align}\n",
    "  \\mathbf{x}_{n+1} = A \\mathbf{x}_n, \\quad\n",
    "  A =\n",
    "  \\begin{bmatrix}\n",
    "    1              & \\Delta t \\\\\n",
    "    -(g/l)\\Delta t & 1\n",
    "  \\end{bmatrix}.\n",
    "\\end{align}\n",
    "\n",
    "Here $A$ is the amplification matrix, the multi-dimensional analogue\n",
    "of the scalar amplification factor $R(z)$.\n",
    "Stability requires that the eigenvalues of $A$ satisfy\n",
    "$|\\lambda| \\leq 1$."
   ]
  },
  {
   "cell_type": "markdown",
   "id": "19",
   "metadata": {},
   "source": [
    "Let's compute them.\n",
    "The characteristic polynomial of $A$ is:\n",
    "\\begin{align}\n",
    "  \\det(A - \\lambda I) =\n",
    "  \\begin{vmatrix}\n",
    "  1 - \\lambda    & \\Delta t \\\\\n",
    "  -(g/l)\\Delta t & 1 - \\lambda\n",
    "  \\end{vmatrix}\n",
    "  = (1-\\lambda)^2 + \\frac{g}{l} \\Delta t^2.\n",
    "\\end{align}"
   ]
  },
  {
   "cell_type": "markdown",
   "id": "20",
   "metadata": {},
   "source": [
    "Setting this to zero,  $(1 - \\lambda)^2 = -(g/l)\\Delta t^2$.\n",
    "Thus the eigenvalues are:\n",
    "\\begin{align}\n",
    "  \\lambda_{\\pm} = 1 \\pm i \\sqrt{\\frac{g}{l}} \\Delta t.\n",
    "\\end{align}"
   ]
  },
  {
   "cell_type": "markdown",
   "id": "21",
   "metadata": {},
   "source": [
    "The magnitude of each eigenvalue is:\n",
    "\\begin{align}\n",
    "  |\\lambda_{\\pm}| = \\sqrt{1 + \\frac{g}{l} \\Delta t^2}.\n",
    "\\end{align}\n",
    "This is always larger than 1 for any nonzero time step.\n",
    "Therefore, Forward Euler applied to the harmonic oscillator is\n",
    "unconditionally unstable."
   ]
  }
 ],
 "metadata": {
  "kernelspec": {
   "display_name": "Python 3 (ipykernel)",
   "language": "python",
   "name": "python3"
  },
  "language_info": {
   "codemirror_mode": {
    "name": "ipython",
    "version": 3
   },
   "file_extension": ".py",
   "mimetype": "text/x-python",
   "name": "python",
   "nbconvert_exporter": "python",
   "pygments_lexer": "ipython3",
   "version": "3.13.7"
  }
 },
 "nbformat": 4,
 "nbformat_minor": 5
}
