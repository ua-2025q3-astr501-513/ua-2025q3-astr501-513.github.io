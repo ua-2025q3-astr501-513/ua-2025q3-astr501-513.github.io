{
 "cells": [
  {
   "cell_type": "markdown",
   "id": "0",
   "metadata": {},
   "source": [
    "# Numerical Integration of Functions"
   ]
  },
  {
   "cell_type": "markdown",
   "id": "1",
   "metadata": {},
   "source": [
    "In science and engineering, many important quantities are obtained by\n",
    "integrating functions.\n",
    "Examples include the total energy radiated by a star (integral of\n",
    "brightness over wavelength),\n",
    "the probability of finding a quantum particle in a region (integral of\n",
    "probability density), or\n",
    "the synchrotron emissivity function (integral over electron\n",
    "distribution function).\n",
    "\n",
    "Analytical solutions are rare because real functions often come from\n",
    "measurements, simulations, or complicated models.\n",
    "In such cases, we rely on **numerical integration** (or *quadrature*)\n",
    "to approximate\n",
    "\\begin{align}\n",
    "  I = \\int_a^b f(x)\\,dx,\n",
    "\\end{align}\n",
    "using only a finite number of function evaluations.\n",
    "\n",
    "Numerical integration provides a controlled setting to study how\n",
    "approximations are constructed, how accuracy depends on step size, and\n",
    "how errors accumulate.\n",
    "These lessons generalize directly to solving differential equations\n",
    "and more complex simulations, making integration an essential starting\n",
    "point for good numerical practice."
   ]
  },
  {
   "cell_type": "markdown",
   "id": "2",
   "metadata": {},
   "source": [
    "To study numerical integration systematically, it helps to begin with\n",
    "a function whose integral we know exactly.\n",
    "Consider $f(x) = e^x$.\n",
    "Its definite integral from $a$ to $b$ is\n",
    "\\begin{align}\n",
    "  I = \\int_a^b e^x \\, dx = e^b - e^a.\n",
    "\\end{align}\n",
    "On the interval $[0,1]$, the exact value is $I = e - 1$.\n",
    "This known result will allow us to check the accuracy of numerical\n",
    "approximations as we vary step size and method.\n",
    "\n",
    "Below is a simple plot of $f(x)=e^x$ on $[0,1]$ for visual reference."
   ]
  },
  {
   "cell_type": "code",
   "execution_count": null,
   "id": "3",
   "metadata": {},
   "outputs": [],
   "source": [
    "import numpy as np\n",
    "import matplotlib.pyplot as plt\n",
    "\n",
    "def f(x):\n",
    "    return np.exp(x)\n",
    "\n",
    "# Define a fine grid for plotting\n",
    "X = np.linspace(0, 1, 1025)\n",
    "Y = f(X)\n",
    "\n",
    "# Plot the function and shade the area under the curve\n",
    "plt.plot(X, Y, label=r\"$f(x) = e^x$\")\n",
    "plt.fill_between(X, Y, alpha=1/3, label=r'$I = \\int_a^b f(x) dx$')\n",
    "plt.title(r'Function $f(x) = e^x$ on $[0,1]$')\n",
    "plt.xlabel('x')\n",
    "plt.ylabel('f(x)')\n",
    "plt.legend()"
   ]
  },
  {
   "cell_type": "markdown",
   "id": "4",
   "metadata": {},
   "source": [
    "## Riemann Sums\n",
    "\n",
    "In undergraduate calculus, we learn the integral as the limit of\n",
    "Riemann sums:\n",
    "\\begin{align}\n",
    "  \\int_a^b f(x) dx\n",
    "  \\equiv \\lim_{n \\to \\infty} \\sum_{i=1}^n f(x_i) \\Delta x,\n",
    "\\end{align}\n",
    "where $\\Delta x \\equiv (b-a)/n$.\n",
    "\n",
    "In **numerical analysis**, however, we do **not** take the limit.\n",
    "Instead, we keep the division of $[a, b]$ into $n$ subintervals and\n",
    "use\n",
    "\\begin{align}\n",
    "  I \\approx \\sum_{i=1}^n f(x_i)\\,\\Delta x,\n",
    "\\end{align}\n",
    "as a practical approximation.\n",
    "The choice of sampling point $x_i$ determines the accuracy."
   ]
  },
  {
   "cell_type": "markdown",
   "id": "5",
   "metadata": {},
   "source": [
    "Common choices for $x_i$ give us three variants:\n",
    "* Left Riemann Sum: $x_i$ is the left endpoint.\n",
    "* Right Riemann Sum: $x_i$ is the right endpoint.\n",
    "* Midpoint (or middle) Riemann Sum: $x_i$ is the midpoint.\n",
    "\n",
    "```{note} Analogy with Finite Differences\n",
    "\n",
    "Just as we approximated derivatives using forward, backward, and\n",
    "central differences,\n",
    "\n",
    "Riemann sums mirror this structure:\n",
    "* Left Riemann $\\leftrightarrow$ forward difference\n",
    "* Right Riemann $\\leftrightarrow$ backward difference\n",
    "* Midpoint Riemann $\\leftrightarrow$ central difference\n",
    "\n",
    "In derivatives, these approximations predict slopes.\n",
    "In integrals, they approximate accumulated areas.\n",
    "```"
   ]
  },
  {
   "cell_type": "code",
   "execution_count": null,
   "id": "6",
   "metadata": {},
   "outputs": [],
   "source": [
    "n  = 8  # number of intervals\n",
    "XR = np.linspace(0, 1, n+1)  # include endpoints\n",
    "YR = f(XR)\n",
    "\n",
    "# Plot Left Riemann rectangles\n",
    "fig, axes = plt.subplots(1,3, figsize=(12,4), sharey=True)\n",
    "\n",
    "for ax, step, label in zip(axes, ['post', 'pre', 'mid'], ['Left', 'Right', 'Middle']):\n",
    "    ax.plot(X, Y)\n",
    "    ax.fill_between(XR, YR, step=step, color='C1', alpha=1/3)\n",
    "    ax.set_xlabel('x')\n",
    "    ax.set_title(label+' Reimann Sum')\n",
    "\n",
    "axes[0].scatter(XR[:-1], YR[:-1], color='C1', zorder=10)\n",
    "axes[1].scatter(XR[+1:], YR[+1:], color='C1', zorder=10)\n",
    "axes[2].scatter(XR,      YR,      color='C1', zorder=10)\n",
    "axes[0].set_ylabel('f(x)')"
   ]
  }
 ],
 "metadata": {
  "kernelspec": {
   "display_name": "Python 3 (ipykernel)",
   "language": "python",
   "name": "python3"
  },
  "language_info": {
   "codemirror_mode": {
    "name": "ipython",
    "version": 3
   },
   "file_extension": ".py",
   "mimetype": "text/x-python",
   "name": "python",
   "nbconvert_exporter": "python",
   "pygments_lexer": "ipython3",
   "version": "3.13.7"
  }
 },
 "nbformat": 4,
 "nbformat_minor": 5
}
