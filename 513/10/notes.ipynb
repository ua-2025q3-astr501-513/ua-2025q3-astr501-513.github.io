{
 "cells": [
  {
   "cell_type": "markdown",
   "id": "0",
   "metadata": {},
   "source": [
    "# Numerical PDE I: Finite Difference"
   ]
  },
  {
   "cell_type": "markdown",
   "id": "1",
   "metadata": {},
   "source": [
    "## Introduction\n",
    "\n",
    "Partial Differential Equations (PDEs) are fundamental tools in the\n",
    "mathematical modeling of various physical phenomena.\n",
    "Unlike Ordinary Differential Equations (ODEs), which involve functions\n",
    "of a single variable and their derivatives, PDEs involve functions of\n",
    "multiple variables and their partial derivatives.\n",
    "This distinction makes PDEs particularly powerful in describing\n",
    "systems where changes occur in more than one dimension, such as in\n",
    "space and time."
   ]
  },
  {
   "cell_type": "markdown",
   "id": "2",
   "metadata": {},
   "source": [
    "### What are PDEs?\n",
    "\n",
    "A PDE is an equation that relates the partial derivatives of a\n",
    "multivariable function.\n",
    "In general form, a PDE can be written as:\n",
    "\\begin{align}\n",
    "  F\\left(x_1, x_2, \\ldots, x_n,\n",
    "         u,\n",
    "\t \\frac{\\partial   u}{\\partial x_1}, \\frac{\\partial u}{\\partial x_2}, \\ldots,\n",
    "\t \\frac{\\partial^k u}{\\partial x_1^{k_1}\\partial x_2^{k_2} \\ldots \\partial x_n^{k_n}}\\right) = 0\n",
    "\\end{align}\n",
    "where $u = u(x_1, x_2, \\ldots, x_n)$ is the unknown function, and\n",
    "$\\partial u/\\partial x_i$ denotes the partial derivatives of $u$ with\n",
    "respect to the variables $x_i$.\n",
    "\n",
    "PDEs are essential in modeling continuous systems where the state of\n",
    "the system depends on multiple variables.\n",
    "They appear in various fields such as physics, engineering, finance,\n",
    "and biology, describing phenomena like heat conduction, wave\n",
    "propagation, fluid dynamics, and quantum mechanics."
   ]
  },
  {
   "cell_type": "markdown",
   "id": "3",
   "metadata": {},
   "source": [
    "### Definition and Significance in Modeling Continuous Systems\n",
    "\n",
    "PDEs provide a framework for formulating problems involving functions\n",
    "of several variables and their rates of change.\n",
    "They are indispensable in describing the behavior of physical systems\n",
    "where spatial and temporal variations are intrinsic.\n",
    "Examples include:\n",
    "* Advection Equation:\n",
    "  Models a quantity, e.g., density, moves with velocity $c$:\n",
    "  \\begin{align}\n",
    "    \\frac{\\partial u}{\\partial t} + c \\nabla u = 0.\n",
    "  \\end{align}\n",
    "* Heat Equation:\n",
    "  Models the distribution of heat (or temperature) in a given region\n",
    "  over time.\n",
    "  \\begin{align}\n",
    "    \\frac{\\partial u}{\\partial t} = \\alpha \\nabla^2 u.\n",
    "  \\end{align}\n",
    "* Wave Equation:\n",
    "  Describes the propagation of waves, such as sound or electromagnetic\n",
    "  waves, through a medium.\n",
    "  \\begin{align}\n",
    "  \\frac{\\partial^2 u}{\\partial t^2} = c^2 \\nabla^2 u\n",
    "  \\end{align}\n",
    "* Laplace's Equation:\n",
    "  Represents steady-state solutions where the system does not change\n",
    "  over time, such as electric potential in a region devoid of charge.\n",
    "  \\begin{align}\n",
    "  \\nabla^2 u = 0\n",
    "  \\end{align}\n",
    "\n",
    "The ability to model such diverse phenomena underscores the\n",
    "versatility and importance of PDEs in scientific and engineering\n",
    "disciplines."
   ]
  },
  {
   "cell_type": "markdown",
   "id": "4",
   "metadata": {},
   "source": [
    "## Finite Difference Methods (FDM)\n",
    "\n",
    "Solving Partial Differential Equations (PDEs) numerically is essential\n",
    "for modeling complex physical systems that lack closed-form analytical\n",
    "solutions.\n",
    "Among the various numerical methods available, Finite Difference\n",
    "Methods (FDM) are particularly popular due to their simplicity and\n",
    "ease of implementation.\n",
    "They approximate the derivatives in PDEs by using difference on a\n",
    "discretized grid.\n",
    "This approach transforms continuous PDEs into discrete algebraic\n",
    "equations that can be solved iteratively.\n",
    "FDM is widely used in engineering and scientific computations due to\n",
    "its straightforward application to regular grids and its compatibility\n",
    "with existing numerical solvers."
   ]
  },
  {
   "cell_type": "markdown",
   "id": "5",
   "metadata": {},
   "source": [
    "### Forward Time Centered Space\n",
    "\n",
    "The Forward Time Centered Space (FTCS) scheme is one of the simplest\n",
    "explicit finite difference methods used to solve time-dependent PDEs.\n",
    "It approximates the time derivative using a forward difference and the\n",
    "spatial derivatives using centered differences.\n",
    "\n",
    "Consider the linear advection equation that models the transport of a\n",
    "quantity $u$ with constant speed $c$:\n",
    "\\begin{align}\n",
    "  \\frac{\\partial u}{\\partial t} + c \\frac{\\partial u}{\\partial x} = 0\n",
    "\\end{align}\n",
    "\n",
    "Let $u_i^n$ denote the numerical approximation of $u$ at spatial index\n",
    "$i$ and time level $n$.\n",
    "The FTCS scheme discretizes the advection equation as follows:\n",
    "\\begin{align}\n",
    "  \\frac{u_i^{n+1} - u_i^n}{\\Delta t} + c \\frac{u_{i+1}^n - u_{i-1}^n}{2 \\Delta x} = 0\n",
    "\\end{align}\n",
    "\n",
    "Solving for $u_i^{n+1}$:\n",
    "\\begin{align}\n",
    "  u_i^{n+1} = u_i^n - \\frac{c \\Delta t}{2 \\Delta x} \\left( u_{i+1}^n - u_{i-1}^n \\right)\n",
    "\\end{align}\n",
    "\n",
    "This explicit update rule allows the computation of the solution at\n",
    "the next time step based on the current and neighboring spatial\n",
    "points.\n"
   ]
  },
  {
   "cell_type": "markdown",
   "id": "6",
   "metadata": {},
   "source": [
    "Here is a simple python implementation:"
   ]
  },
  {
   "cell_type": "code",
   "execution_count": null,
   "id": "7",
   "metadata": {},
   "outputs": [],
   "source": [
    "# Parameters\n",
    "\n",
    "c  = 1.0    # advection speed\n",
    "l  = 1.0    # domain size\n",
    "dt = 0.001  # time step\n",
    "\n",
    "nx = 101    # number of spatial points\n",
    "nt = 1000   # number of time steps"
   ]
  },
  {
   "cell_type": "code",
   "execution_count": null,
   "id": "8",
   "metadata": {},
   "outputs": [],
   "source": [
    "import numpy as np\n",
    "\n",
    "X, dx = np.linspace(0, l, nx, retstep=True)  # spatial grid\n",
    "U0    = np.sin(2*np.pi * X)                  # initial condition: sinusoidal wave"
   ]
  },
  {
   "cell_type": "code",
   "execution_count": null,
   "id": "9",
   "metadata": {},
   "outputs": [],
   "source": [
    "# Forward Time Centered Space (FTCS) scheme\n",
    "\n",
    "def FTCS(c, U0, dx, dt, n):\n",
    "    U = [U0]\n",
    "    for _ in range(n):\n",
    "        U0 = U[-1]\n",
    "        U1 = U0 - (c*dt) / (2*dx) * (np.roll(U0,-1) - np.roll(U0,1))\n",
    "        U.append(U1)\n",
    "    return np.array(U)"
   ]
  },
  {
   "cell_type": "code",
   "execution_count": null,
   "id": "10",
   "metadata": {},
   "outputs": [],
   "source": [
    "U     = np.sin(2*np.pi * (X - c*dt*nt)) # analytical solution\n",
    "UFTCS = FTCS(c, U0, dx, dt, nt)         # numerical solution"
   ]
  },
  {
   "cell_type": "markdown",
   "id": "11",
   "metadata": {},
   "source": [
    "Let's now plot the result!\n",
    "After $t = dt n_t = 1$, the solution should match the initial\n",
    "condition exactly."
   ]
  },
  {
   "cell_type": "code",
   "execution_count": null,
   "id": "12",
   "metadata": {},
   "outputs": [],
   "source": [
    "from matplotlib import pyplot as plt\n",
    "\n",
    "plt.plot(X, U0,              label='Initial Condition')\n",
    "plt.plot(X, U, ':',          label='Exact Solution')\n",
    "plt.plot(X, UFTCS[-1], '.-', label='FTCS Scheme')\n",
    "plt.xlabel('x')\n",
    "plt.ylabel('u')\n",
    "plt.legend()"
   ]
  },
  {
   "cell_type": "markdown",
   "id": "13",
   "metadata": {},
   "source": [
    "However, the numerical solution is oscillating.\n",
    "This looks like a numerical artifact.\n",
    "Let's inspect it with a movie."
   ]
  },
  {
   "cell_type": "code",
   "execution_count": null,
   "id": "14",
   "metadata": {},
   "outputs": [],
   "source": [
    "from matplotlib.animation import ArtistAnimation\n",
    "from IPython.display import HTML\n",
    "from tqdm import tqdm\n",
    "\n",
    "def animate(X, U):\n",
    "    fig, ax = plt.subplots(1,1)\n",
    "    ax.set_xlabel('x')\n",
    "    ax.set_ylabel('y')\n",
    "\n",
    "    frames = []\n",
    "    for n in tqdm(range(len(U))):\n",
    "        f = ax.plot(X, U[n], 'C0.-', animated=True)\n",
    "        frames.append(f)\n",
    "        plt.close()\n",
    "    \n",
    "    return ArtistAnimation(fig, frames, interval=50)"
   ]
  },
  {
   "cell_type": "code",
   "execution_count": null,
   "id": "15",
   "metadata": {},
   "outputs": [],
   "source": [
    "anim = animate(X, UFTCS)\n",
    "\n",
    "HTML(anim.to_html5_video())  # display animation\n",
    "# anim.save('FTCS.mp4')        # save animation"
   ]
  },
  {
   "cell_type": "markdown",
   "id": "16",
   "metadata": {},
   "source": [
    "The oscillation grows slowly as the solution evolve.\n",
    "This looks like numerical instability that we discussed in ODE\n",
    "integrator."
   ]
  },
  {
   "cell_type": "code",
   "execution_count": null,
   "id": "17",
   "metadata": {},
   "outputs": [],
   "source": [
    "# HANDSON: change `c`, `dt`, `dx`, or other parameters to observe how\n",
    "#          the numerical solution changes.\n"
   ]
  },
  {
   "cell_type": "code",
   "execution_count": null,
   "id": "18",
   "metadata": {},
   "outputs": [],
   "source": [
    "# HANDSON: change the initial condition to, e.g., a boxcar function,\n",
    "#          and observe how the numerical solution changes\n"
   ]
  },
  {
   "cell_type": "markdown",
   "id": "19",
   "metadata": {},
   "source": [
    "To understand the oscillation, we will perform a stability analysis."
   ]
  },
  {
   "cell_type": "markdown",
   "id": "20",
   "metadata": {},
   "source": [
    "### Von Neumann Stability Analysis\n",
    "\n",
    "Von Neumann stability analysis is a mathematical technique used to\n",
    "assess the stability of finite difference schemes applied to (linear)\n",
    "PDEs.\n",
    "This method involves decomposing the numerical solution into Fourier\n",
    "modes and analyzing the growth or decay of these modes over time.\n",
    "If all Fourier modes remain bounded, the numerical scheme is\n",
    "considered stable.\n",
    "Otherwise, the scheme is unstable and may produce erroneous results.\n",
    "\n",
    "To perform von Neumann stability analysis, we assume a solution of the\n",
    "form:\n",
    "\\begin{align}\n",
    "  u_i^n = G^n e^{ikx_i}\n",
    "\\end{align}\n",
    "where:\n",
    "* $u_i^n$ is the numerical approximation of $u$ at spatial index $i$\n",
    "  and time level $n$.\n",
    "* $G$ is the amplification factor (recall our ODE stability analysis).\n",
    "* $k$ is the wave number.\n",
    "* $x_i = i \\Delta x$ is the spatial position of the $i$-th grid point.\n",
    "\n",
    "The goal is to determine whether the magnitude of the amplification\n",
    "factor $|G|$ remains less than or equal to 1 for all possible wave\n",
    "numbers $k$.\n",
    "If $|G| \\leq 1$ for all $k$, the numerical scheme is stable."
   ]
  },
  {
   "cell_type": "markdown",
   "id": "21",
   "metadata": {},
   "source": [
    "Now, consider the FTCS scheme applied to the linear advection\n",
    "equation\n",
    "\\begin{align}\n",
    "  \\frac{\\partial u}{\\partial t} + c \\frac{\\partial u}{\\partial x} = 0,\n",
    "\\end{align}\n",
    "where the FTCS update rule reads\n",
    "\\begin{align}\n",
    "  u_i^{n+1} = u_i^n - \\frac{c\\Delta t}{2\\Delta x} \\left(u_{i+1}^n - u_{i-1}^n\\right).\n",
    "\\end{align}"
   ]
  },
  {
   "cell_type": "markdown",
   "id": "22",
   "metadata": {},
   "source": [
    "Assumed a single Fourier mode solution,\n",
    "\\begin{align}\n",
    "  u_i^n = G^n e^{ikx_i}.\n",
    "\\end{align}\n",
    "Substituting it into the FTCS update rule,\n",
    "\\begin{align}\n",
    "  G e^{ikx_i}\n",
    "  = e^{ikx_i} - \\frac{c\\Delta t}{2\\Delta x} \\left(e^{ikx_{i+1}} - e^{ikx_{i-1}}\\right).\n",
    "\\end{align}\n",
    "Simplify using $x_{i \\pm 1} = x_i \\pm \\Delta x$, we have\n",
    "\\begin{align}\n",
    "  G = 1 - \\frac{c \\Delta t}{2\\Delta x} \\left(e^{ik\\Delta x} - e^{-ik\\Delta x}\\right).\n",
    "\\end{align}"
   ]
  },
  {
   "cell_type": "markdown",
   "id": "23",
   "metadata": {},
   "source": [
    "Using Euler's formula $e^{i\\theta} - e^{-i\\theta} = 2i \\sin\\theta$:\n",
    "\\begin{align}\n",
    "  G = 1 - i \\frac{c \\Delta t}{\\Delta x} \\sin(k \\Delta x)\n",
    "    = 1 - i \\sigma \\sin(k \\Delta x)\n",
    "\\end{align}\n",
    "where $\\sigma \\equiv c \\Delta t/\\Delta x$ is the Courant number.\n",
    "\n",
    "Calculating the magnitude of $G$, we obtain:\n",
    "\\begin{align}\n",
    "  |G|^2 = 1 + \\sigma^2 \\sin^2(k \\Delta x) > 1\n",
    "\\end{align}\n",
    "Since $|G| > 1$ for any $\\sigma$, the FTCS scheme is unconditionally\n",
    "unstable for the linear advection equation."
   ]
  },
  {
   "cell_type": "markdown",
   "id": "24",
   "metadata": {},
   "source": [
    "To overcome this limitation, we will introduce two more robust finite\n",
    "difference methods: the Upwind Scheme and the Lax-Wendroff Scheme.\n",
    "These methods enhance stability and accuracy, making them more\n",
    "suitable for solving advection-dominated problems."
   ]
  },
  {
   "cell_type": "markdown",
   "id": "25",
   "metadata": {},
   "source": [
    "## Upwind Scheme\n",
    "\n",
    "The Upwind Scheme is a finite difference method specifically designed\n",
    "to handle advection-dominated problems more effectively than symmetric\n",
    "schemes like FTCS.\n",
    "By incorporating the direction of wave propagation into the\n",
    "discretization of spatial derivatives, the upwind method enhances\n",
    "numerical stability and reduces non-physical oscillations."
   ]
  },
  {
   "cell_type": "markdown",
   "id": "26",
   "metadata": {},
   "source": [
    "In advection processes, information propagates in a specific direction\n",
    "determined by the flow velocity $c$.\n",
    "The upwind scheme leverages this directional information to bias the\n",
    "spatial derivative approximation, ensuring that the numerical flux\n",
    "aligns with the physical transport direction.\n",
    "This directional bias significantly improves the stability of the\n",
    "numerical solution, especially when dealing with sharp gradients or\n",
    "discontinuities."
   ]
  },
  {
   "cell_type": "markdown",
   "id": "27",
   "metadata": {},
   "source": [
    "The upwind scheme discretizes the spatial derivative based on the sign\n",
    "of the advection speed $c$:\n",
    "* For $c > 0$ (flow to the right):\n",
    "  \\begin{align}\n",
    "    \\frac{\\partial u}{\\partial x} \\approx \\frac{u_i^n - u_{i-1}^n}{\\Delta x}\n",
    "  \\end{align}\n",
    "* For $c < 0$ (flow to the left):\n",
    "  \\begin{align}\n",
    "    \\frac{\\partial u}{\\partial x} \\approx \\frac{u_{i+1}^n - u_i^n}{\\Delta x}\n",
    "  \\end{align}"
   ]
  },
  {
   "cell_type": "markdown",
   "id": "28",
   "metadata": {},
   "source": [
    "Assuming $c > 0$ for this implementation, the upwind scheme update\n",
    "rule becomes:\n",
    "\\begin{align}\n",
    "  u_i^{n+1} = u_i^n - \\frac{c \\Delta t}{\\Delta x} \\left( u_i^n - u_{i-1}^n \\right)\n",
    "\\end{align}\n",
    "where:\n",
    "* $u_i^n$ is the numerical approximation of $u$ at spatial index $i$\n",
    "  and time level $n$,\n",
    "* $\\Delta t$ and $\\Delta x$ are the time and spatial step sizes,\n",
    "  respectively."
   ]
  },
  {
   "cell_type": "markdown",
   "id": "29",
   "metadata": {},
   "source": [
    "The upwind scheme is actually simplier than the FTCS scheme.\n",
    "The following Python code implements it to solve the linear advection\n",
    "equation."
   ]
  },
  {
   "cell_type": "code",
   "execution_count": null,
   "id": "30",
   "metadata": {},
   "outputs": [],
   "source": [
    "# Parameters\n",
    "\n",
    "c  = 1.0    # advection speed\n",
    "l  = 1.0    # domain size\n",
    "dt = 0.001  # time step\n",
    "\n",
    "nx = 101    # number of spatial points\n",
    "nt = 1000   # number of time steps"
   ]
  },
  {
   "cell_type": "code",
   "execution_count": null,
   "id": "31",
   "metadata": {},
   "outputs": [],
   "source": [
    "X, dx = np.linspace(0, l, nx, retstep=True)  # spatial grid\n",
    "U0    = np.sin(2*np.pi * X)                  # initial condition: sinusoidal wave"
   ]
  },
  {
   "cell_type": "code",
   "execution_count": null,
   "id": "32",
   "metadata": {},
   "outputs": [],
   "source": [
    "# Upwind scheme\n",
    "\n",
    "def upwind(c, U0, dx, dt, n):\n",
    "    U = [U0]\n",
    "    for _ in range(n):\n",
    "        U0 = U[-1]\n",
    "        U1 = U0 - (c*dt/dx) * (U0 - np.roll(U0,1))\n",
    "        U.append(U1)\n",
    "    return np.array(U)"
   ]
  },
  {
   "cell_type": "code",
   "execution_count": null,
   "id": "33",
   "metadata": {},
   "outputs": [],
   "source": [
    "U       = np.sin(2*np.pi * (X - c*dt*nt)) # analytical solution\n",
    "Uupwind = upwind(c, U0, dx, dt, nt)         # numerical solution"
   ]
  },
  {
   "cell_type": "code",
   "execution_count": null,
   "id": "34",
   "metadata": {},
   "outputs": [],
   "source": [
    "plt.plot(X, U0,                label='Initial Condition')\n",
    "plt.plot(X, U, ':',            label='Exact Solution')\n",
    "plt.plot(X, Uupwind[-1], '.-', label='Upwind Scheme')\n",
    "plt.xlabel('x')\n",
    "plt.ylabel('u')\n",
    "plt.legend()"
   ]
  },
  {
   "cell_type": "code",
   "execution_count": null,
   "id": "35",
   "metadata": {},
   "outputs": [],
   "source": [
    "anim = animate(X, Uupwind)\n",
    "\n",
    "HTML(anim.to_html5_video())  # display animation\n",
    "# anim.save('FTCS.mp4')        # save animation"
   ]
  },
  {
   "cell_type": "markdown",
   "id": "36",
   "metadata": {},
   "source": [
    "Although the amplitude $u$ decrease as time evolve, the upwind scheme\n",
    "is at least stable!"
   ]
  },
  {
   "cell_type": "code",
   "execution_count": null,
   "id": "37",
   "metadata": {},
   "outputs": [],
   "source": [
    "# HANDSON: change `c`, `dt`, `dx`, or other parameters to observe how\n",
    "#          the numerical solution changes.\n"
   ]
  },
  {
   "cell_type": "code",
   "execution_count": null,
   "id": "38",
   "metadata": {},
   "outputs": [],
   "source": [
    "# HANDSON: change the initial condition to, e.g., a boxcar function,\n",
    "#          and observe how the numerical solution changes\n"
   ]
  },
  {
   "cell_type": "markdown",
   "id": "39",
   "metadata": {},
   "source": [
    "### Von Neumann Stability Analysis\n",
    "\n",
    "Assuming again the numerical solution can be expressed as $u_i^n = G^n\n",
    "e^{ikx_i}$, the upwind update equation becomes\n",
    "\\begin{align}\n",
    "  G^{n+1} e^{ikx_i}\n",
    "  = G^n e^{ikx_i} - \\sigma \\left( G^n e^{ikx_i} - G^n e^{ikx_{i-1}} \\right)\n",
    "\\end{align}\n",
    "where $\\sigma \\equiv c \\Delta t/\\Delta x$ is again the Courant number.\n",
    "\n",
    "Divide both sides by $G^n e^{ikx_i}$,\n",
    "\\begin{align}\n",
    "  G = 1 - \\sigma \\left( 1 - e^{-ik\\Delta x} \\right).\n",
    "\\end{align}\n",
    "Using Euler's formula and separate the real and imaginary parts\n",
    "\\begin{align}\n",
    "  G = [1 - \\sigma + \\sigma \\cos(k\\Delta x)] - i \\sigma \\sin(k\\Delta x).\n",
    "\\end{align}\n"
   ]
  },
  {
   "cell_type": "markdown",
   "id": "40",
   "metadata": {},
   "source": [
    "Calculate $|G|^2$,\n",
    "\\begin{align}\n",
    "  |G|^2\n",
    "  &= [1 - \\sigma + \\sigma \\cos(k\\Delta x)]^2 + [\\sigma \\sin(k\\Delta x)]^2 \\\\\n",
    "  &= (1 - \\sigma)^2 + 2(1 - \\sigma)\\sigma\\cos(k\\Delta x) + \\sigma^2\\cos^2(k\\Delta x) + \\sigma^2 \\sin^2(k\\Delta x)\n",
    "\\end{align}\n",
    "Using $\\cos^2\\theta + \\sin^2\\theta = 1$,\n",
    "\\begin{align}\n",
    "  |G|^2 = 1 - 2\\sigma + 2\\sigma^2 + 2(1 - \\sigma)\\sigma\\cos(k\\Delta x).\n",
    "\\end{align}\n",
    "We can easily plot it:"
   ]
  },
  {
   "cell_type": "code",
   "execution_count": null,
   "id": "41",
   "metadata": {},
   "outputs": [],
   "source": [
    "Kdx = np.linspace(-np.pi, np.pi, 65)\n",
    "\n",
    "def absG(sigma):\n",
    "    return np.sqrt(1 - 2 * sigma + 2 * sigma*sigma + 2*(1-sigma)*sigma*np.cos(Kdx))\n",
    "\n",
    "for sigma in [0.5, 1, 1.5]:\n",
    "    plt.plot(Kdx, absG(sigma), label=r\"$\\sigma={}$\".format(sigma))\n",
    "\n",
    "plt.xlabel(r\"$k\\Delta x$\")\n",
    "plt.ylabel(r\"|G|\")\n",
    "plt.legend()"
   ]
  },
  {
   "cell_type": "markdown",
   "id": "42",
   "metadata": {},
   "source": [
    "Clearly, the maximum of $|G|$ depends on $\\sigma$.\n",
    "\n",
    "For $\\sigma <= 1$, consider $\\cos(k\\Delta x) = 1$ so that\n",
    "\\begin{align}\n",
    "  |G|^2_{\\text{max}} = 1.\n",
    "\\end{align}\n",
    "For $\\sigma > 1$, consider $\\cos(k\\Delta x) = -1$ so that\n",
    "\\begin{align}\n",
    "  |G|^2_{\\text{max}} = |1 - 2\\sigma|^2 > 1.\n",
    "\\end{align}"
   ]
  },
  {
   "cell_type": "markdown",
   "id": "43",
   "metadata": {},
   "source": [
    "Therefore, the upwind scheme is stable as provided that the Courant\n",
    "number satisfies:\n",
    "\\begin{align}\n",
    "  \\sigma = \\frac{c \\Delta t}{\\Delta x} \\leq 1.\n",
    "\\end{align}"
   ]
  },
  {
   "cell_type": "code",
   "execution_count": null,
   "id": "44",
   "metadata": {},
   "outputs": [],
   "source": [
    "# HANDSON: given what we know about stability now, change `c`, `dt`,\n",
    "#          `dx`, or other parameters to observe how the numerical\n",
    "#          solution changes.\n"
   ]
  },
  {
   "cell_type": "markdown",
   "id": "45",
   "metadata": {},
   "source": [
    "## Modified Equation Method\n",
    "\n",
    "We observed the amplitude of the wave decreases when using the upwind\n",
    "scheme.\n",
    "This decay in amplitude is resemble of viscosity: in physical systems,\n",
    "viscosity acts to dissipate energy and smooth out oscillations.\n",
    "Similarly, many stable numerical schemes effectively remove \"energy\"\n",
    "from the discrete system in order to maintain stability.\n",
    "This is not surprising that the upwind method damps out $u(x,t)$.\n",
    "\n",
    "But how exactly does this damping arise from the discretization?\n",
    "To answer this, we turn to another powerful tool called the Modified\n",
    "Equation Method."
   ]
  },
  {
   "cell_type": "markdown",
   "id": "46",
   "metadata": {},
   "source": [
    "Whereas von Neumann stability analysis focuses on whether solutions\n",
    "grow or decay in time, modified equation analysis asks a different\n",
    "question:\n",
    "\n",
    "> What continuous differential equation is the numerical method really\n",
    "  solving, up to leading-order truncation error?\n",
    "\n",
    "By expanding the discrete update scheme in a Taylor series, we can\n",
    "write down an equivalent modified PDE.\n",
    "This PDE makes the numerical errors explicit, showing whether the\n",
    "scheme introduces artificial diffusion (numerical viscosity) or\n",
    "artificial dispersion (phase errors)."
   ]
  },
  {
   "cell_type": "markdown",
   "id": "47",
   "metadata": {},
   "source": [
    "### Modified Equation of Upwind Advection"
   ]
  },
  {
   "cell_type": "markdown",
   "id": "48",
   "metadata": {},
   "source": [
    "1. **Express the Upwind Scheme Using Taylor Series Expansions**\n",
    "\n",
    "   Start with the upwind update equation:\n",
    "   \\begin{align}\n",
    "     u_i^{n+1} = u_i^n - \\sigma \\left( u_i^n - u_{i-1}^n \\right),\n",
    "   \\end{align}\n",
    "   in addition to the grid point that we want to update, $u_i^n$,\n",
    "   there are two additional grid points.\n",
    "   They are $u_i^{n+1}$ and $u_{i-1}^n$.\n",
    "\n",
    "   Expand $u_i^{n+1}$ and $u_{i-1}^n$ around the point $(x_i, t^n)$ using Taylor series:\n",
    "   \\begin{align}\n",
    "     u_i^{n+1} &= u(x_i, t^n) + \\Delta t \\left.\\frac{\\partial u}{\\partial t}\\right|_{x=x_i,t=t_n} + \\frac{\\Delta t^2}{2} \\left.\\frac{\\partial^2 u}{\\partial t^2}\\right|_{x=x_i,t=t_n} + \\mathcal{O}(\\Delta t^3) \\\\\n",
    "     u_{i-1}^n &= u(x_i, t^n) - \\Delta x \\left.\\frac{\\partial u}{\\partial x}\\right|_{x=x_i,t=t_n} + \\frac{\\Delta x^2}{2} \\left.\\frac{\\partial^2 u}{\\partial x^2}\\right|_{x=x_i,t=t_n} + \\mathcal{O}(\\Delta x^3)\n",
    "   \\end{align}\n",
    "\n",
    "   Using the shorthands $\\dot{u} \\equiv \\partial u/\\partial t$ and $u'\n",
    "   \\equiv \\partial u/\\partial x$, the above series can be written as\n",
    "   \\begin{align}\n",
    "     u_i^{n+1} &= u_i^n + \\Delta t\\,\\dot{u}_i^n + \\frac{\\Delta t^2}{2}\\,\\ddot{u}_i^n + \\mathcal{O}(\\Delta t^3) \\\\\n",
    "     u_{i-1}^n &= u_i^n - \\Delta x\\,{u'   }_i^n + \\frac{\\Delta x^2}{2}\\,{u''   }_i^n + \\mathcal{O}(\\Delta x^3)\n",
    "   \\end{align}"
   ]
  },
  {
   "cell_type": "markdown",
   "id": "49",
   "metadata": {},
   "source": [
    "2. **Substitute the Taylor Expansions into the Upwind Scheme**\n",
    "\n",
    "   Substitute the expansions into the upwind update equation:\n",
    "   \\begin{align}\n",
    "     u_i^n + \\Delta t\\,\\dot{u}_i^n + \\frac{\\Delta t^2}{2}\\,\\ddot{u}_i^n\n",
    "     \\approx u_i^n - \\sigma \\left[ u_i^n - \\left( u_i^n - \\Delta x\\,{u'}_i^n + \\frac{\\Delta x^2}{2}\\,{u''}_i^n \\right) \\right]\n",
    "   \\end{align}\n",
    "\n",
    "   Because the derivatives are exact (instead of numerical), we can\n",
    "   drop the functions' evaluations at the dicrete points $x_i$ and\n",
    "   $t^n$.\n",
    "   Simplify the equation, we have:\n",
    "   \\begin{align}\n",
    "     \\Delta t \\frac{\\partial u}{\\partial t} + \\frac{\\Delta t^2}{2} \\frac{\\partial^2 u}{\\partial t^2}\n",
    "     \\approx -\\sigma \\left( \\Delta x \\frac{\\partial u}{\\partial x} - \\frac{\\Delta x^2}{2} \\frac{\\partial^2 u}{\\partial x^2} \\right)\n",
    "   \\end{align}"
   ]
  },
  {
   "cell_type": "markdown",
   "id": "50",
   "metadata": {},
   "source": [
    "3. **Rearrange and Substitute the Original PDE**\n",
    "\n",
    "   Taking the spatial and temporal derivatives of the original\n",
    "   advection equation $\\partial u/\\partial t = -c \\partial u/\\partial\n",
    "   x$, we have\n",
    "   \\begin{align}\n",
    "     \\frac{\\partial^2 u}{\\partial t^2} = -c \\frac{\\partial^2 u}{\\partial x\\partial t}, \\quad\n",
    "     \\frac{\\partial^2 u}{\\partial t\\partial x} = -c \\frac{\\partial^2 u}{\\partial x^2}\n",
    "   \\end{align}\n",
    "   Combine, we obtain the two-way wave equation:\n",
    "   \\begin{align}\n",
    "     \\frac{\\partial^2 u}{\\partial t^2} = c^2 \\frac{\\partial^2 u}{\\partial x^2}.\n",
    "   \\end{align}\n",
    "\n",
    "   Substituting the wave equation into the modified equation, we obtain:\n",
    "   \\begin{align}\n",
    "     \\Delta t \\frac{\\partial u}{\\partial t} + \\frac{c^2\\Delta t^2}{2} \\frac{\\partial^2 u}{\\partial x^2}\n",
    "     \\approx -\\sigma \\left( \\Delta x \\frac{\\partial u}{\\partial x} - \\frac{\\Delta x^2}{2} \\frac{\\partial^2 u}{\\partial x^2} \\right).\n",
    "   \\end{align}"
   ]
  },
  {
   "cell_type": "markdown",
   "id": "51",
   "metadata": {},
   "source": [
    "4. **Combine Like Terms**\n",
    "\n",
    "   Put back the definition of $\\sigma$ and rearrange,\n",
    "   \\begin{align}\n",
    "     \\frac{\\partial u}{\\partial t} + \\frac{c^2\\Delta t}{2} \\frac{\\partial^2 u}{\\partial x^2}\n",
    "     &\\approx -c \\left( \\frac{\\partial u}{\\partial x} - \\frac{\\Delta x}{2} \\frac{\\partial^2 u}{\\partial x^2} \\right) \\\\\n",
    "     \\frac{\\partial u}{\\partial t} +c \\frac{\\partial u}{\\partial x}\n",
    "     &\\approx \\frac{c}{2} (\\Delta x - c\\Delta t) \\frac{\\partial^2 u}{\\partial x^2}\n",
    "   \\end{align}\n",
    "\n",
    "   Define\n",
    "   \\begin{align}\n",
    "     \\nu_\\text{upwind} \\equiv c(\\Delta x - c\\Delta t) / 2\n",
    "   \\end{align}\n",
    "   be the numerical diffusion coefficient, the above equation reduces to\n",
    "   \\begin{align}\n",
    "     \\frac{\\partial u}{\\partial t} +c \\frac{\\partial u}{\\partial x} \\approx \\nu_\\text{upwind} \\frac{\\partial^2 u}{\\partial x^2}.\n",
    "   \\end{align}"
   ]
  },
  {
   "cell_type": "markdown",
   "id": "52",
   "metadata": {},
   "source": [
    "From the modified equation analysis, we found that the Upwind scheme\n",
    "introduces an additional term of the form\n",
    "\\begin{align}\n",
    "  \\nu_{\\text{upwind}} u_{xx},\n",
    "\\end{align}\n",
    "where $\\nu_{\\text{upwind}} \\propto (\\Delta x - c \\Delta t)$ depends on\n",
    "both the grid spacing and the chosen time step.\n",
    "\n",
    "This term looks exactly like a viscous diffusion term, even though the\n",
    "original advection equation contains no viscosity at all.\n",
    "Hence the interpretation: the upwind scheme introduces \"numerical\n",
    "viscosity/diffusion\" to suppress instabilities."
   ]
  },
  {
   "cell_type": "markdown",
   "id": "53",
   "metadata": {},
   "source": [
    "Why numerical viscosity/diffusion matters?\n",
    "* Stabilizing Effect:\n",
    "  Artificial viscosity is not necessarily a flaw.\n",
    "  It is precisely what makes the Upwind Scheme stable, by damping out\n",
    "  non-physical oscillations that can arise from discretization errors.\n",
    "* Trade-off with Accuracy:\n",
    "  The downside is that this numerical viscosity smears out sharp\n",
    "  features, such as wavefronts, contact discontinuities, or shocks.\n",
    "  While this can improve stability, it comes at the cost of accuracy,\n",
    "  especially in problems where sharp interfaces are physically\n",
    "  meaningful.\n",
    "* Quantification via Modified Equation Analysis:\n",
    "  The modified equation allows us to measure how much numerical\n",
    "  diffusion is introduced and compare across schemes."
   ]
  },
  {
   "cell_type": "markdown",
   "id": "54",
   "metadata": {},
   "source": [
    "Thus, modified equation analysis connects stability theory (von\n",
    "Neumann analysis) and physical interpretation, showing how schemes\n",
    "balance between damping (diffusion) and oscillations (dispersion).\n",
    "\n",
    "The artificial viscosity term also highlights the importance of the CFL condition:\n",
    "\\begin{align}\n",
    "  \\sigma = \\frac{a \\Delta t}{\\Delta x} \\leq 1.\n",
    "\\end{align}\n",
    "* When $\\sigma \\leq 1$, the artificial viscosity remains positive,\n",
    "  ensuring stability.\n",
    "* When $\\sigma > 1$, the coefficient becomes negative, meaning the\n",
    "  scheme adds anti-diffusion rather than diffusion, which destabilize\n",
    "  the solution.\n",
    "\n",
    "Therefore, the CFL condition directly controls the magnitude and sign\n",
    "of the artificial viscosity introduced by the scheme."
   ]
  },
  {
   "cell_type": "markdown",
   "id": "55",
   "metadata": {},
   "source": [
    "### Modified Equation of FTCS Advection\n",
    "\n",
    "To determine how the FTCS scheme modifies the original linear\n",
    "advection equation by introducing additional terms that represent\n",
    "numerical errors, specifically focusing on artificial diffusion or\n",
    "dispersion."
   ]
  },
  {
   "cell_type": "markdown",
   "id": "56",
   "metadata": {},
   "source": [
    "1. **Start with the FTCS Update Equation**\n",
    "\n",
    "   Recalling the FTCS scheme for the linear advection equation is\n",
    "   given by:\n",
    "   \\begin{align}\n",
    "     u_i^{n+1} = u_i^n - \\frac{c \\Delta t}{2 \\Delta x} \\left( u_{i+1}^n - u_{i-1}^n \\right)\n",
    "   \\end{align}\n",
    "   where:\n",
    "   * $u_i^n$ is the numerical approximation of $u$ at spatial index\n",
    "     $i$ and time level $n$,\n",
    "   * $c$ is the constant advection speed,\n",
    "   * $\\Delta t$ and $\\Delta x$ are the time and spatial step sizes,\n",
    "     respectively,\n",
    "   * $\\sigma = c \\Delta t/\\Delta x$ is the **Courant number**.\n"
   ]
  },
  {
   "cell_type": "markdown",
   "id": "57",
   "metadata": {},
   "source": [
    "2. **Expand the Temporal and Spatial Terms Using Taylor Series**\n",
    "\n",
    "   Expand $u_i^{n+1}$ around $(x_i, t^n)$:\n",
    "   \\begin{align}\n",
    "     u_i^{n+1} = u_i^n + \\Delta t \\dot{u}_i^n\n",
    "     + \\frac{\\Delta t^2}{2} \\ddot{u}_i^n + \\frac{\\Delta t^3}{6} {\\dddot{u}\\,}_i^n + \\mathcal{O}(\\Delta t^3)\n",
    "   \\end{align}\n",
    "\n",
    "   Expand $u_{i+1}^n$ and $u_{i-1}^n$ around $(x_i, t^n)$:\n",
    "   \\begin{align}\n",
    "     u_{i\\pm1}^n &= u_i^n \\pm \\Delta x {u'}_i^n\n",
    "     + \\frac{\\Delta x^2}{2} {u''}_i^n \\pm \\frac{\\Delta x^3}{6} {u'''}_i^n + \\mathcal{O}(\\Delta x^4)\n",
    "   \\end{align}"
   ]
  },
  {
   "cell_type": "markdown",
   "id": "58",
   "metadata": {},
   "source": [
    "3. **Substitute the Taylor Expansions into the FTCS Scheme**\n",
    "\n",
    "   Substitute the expansions into the FTCS update equation:\n",
    "   \\begin{align}\n",
    "     u_i^n &+ \\Delta t \\dot{u}_i^n + \\frac{\\Delta t^2}{2} \\ddot{u}_i^n + \\frac{\\Delta t^3}{6} {\\dddot{u}\\,}_i^n \\\\\n",
    "     &= u_i^n - \\frac{c \\Delta t}{2 \\Delta x} \\left[\n",
    "       \\left( u_i^n + \\Delta x {u'}_i^n + \\frac{\\Delta x^2}{2} {u''}_i^n + \\frac{\\Delta x^3}{6} {u'''}_i^n \\right) -\n",
    "       \\left( u_i^n - \\Delta x {u'}_i^n + \\frac{\\Delta x^2}{2} {u''}_i^n - \\frac{\\Delta x^3}{6} {u'''}_i^n \\right)\n",
    "   \\right]\n",
    "   \\end{align}\n",
    "   Simplify,\n",
    "   \\begin{align}\n",
    "     \\dot{u}_i^n + \\frac{\\Delta t}{2}\\ddot{u}_i^n + \\frac{\\Delta t^2}{6} {\\dddot{u}\\,}_i^n\n",
    "     &= - c\\left[ {u'}_i^n + \\frac{\\Delta x^2}{6} {u'''}_i^n \\right]\n",
    "   \\end{align}"
   ]
  },
  {
   "cell_type": "markdown",
   "id": "59",
   "metadata": {},
   "source": [
    "4. **Substitute and Rearrange**\n",
    "\n",
    "   Similar to the upwind screen, we recall that the advection equation\n",
    "   implies the wave equation $\\partial^2 u/\\partial t^2 = c^2\n",
    "   \\partial^2 u/\\partial x^2$.\n",
    "   \n",
    "   Taking an additional time derivative, we obtain:\n",
    "   \\begin{align}\n",
    "     \\frac{\\partial^3 u}{\\partial t^3} = c^2 \\frac{\\partial^3 u}{\\partial x^2 \\partial t} = - c^3\\frac{\\partial^3 u}{\\partial x^3}.\n",
    "   \\end{align}\n",
    "   Substitute this into the modified equation, we obtain\n",
    "   \\begin{align}\n",
    "     \\dot{u}_i^n + c^2 \\frac{\\Delta t}{2} {u''}_i^n - c^3 \\frac{\\Delta t^2}{6} {u'''}_i^n\n",
    "     &= - c\\left[ {u'}_i^n + \\frac{\\Delta x^2}{6} {u'''}_i^n \\right].\n",
    "   \\end{align}\n",
    "   Rearrange and drop the indices $i$ and $n$, the final modified\n",
    "   equation is:\n",
    "   \\begin{align}\n",
    "     \\frac{\\partial u}{\\partial t} + c \\frac{\\partial u}{\\partial x}\n",
    "     &= -\\frac{c}{2} (c\\Delta t) {u''} + \\frac{c}{6} (c^2 \\Delta t^2 - \\Delta x^2) {u'''}\n",
    "   \\end{align}"
   ]
  },
  {
   "cell_type": "markdown",
   "id": "60",
   "metadata": {},
   "source": [
    "The modified equation of the FTCS advection scheme has a second-order\n",
    "\"anti-diffusion\" term and a third-order \"dispersive\" term.\n",
    "These terms affect the numerical solution in several ways:\n",
    "\n",
    "1. Numerical Instability:\n",
    "   Unlike the Upwind Scheme, which introduces artificial diffusion to\n",
    "   enhance stability, the FTCS scheme has an anti-diffusion term that\n",
    "   is unstable.\n",
    "\n",
    "2. Introduction of Dispersive Errors:\n",
    "   The (higher order) term $\\partial^3 u/\\partial x^3$ represents a\n",
    "   dispersive error that causes different wave components to travel at\n",
    "   slightly different speeds.\n",
    "   This leads to phase errors where waveforms become distorted over\n",
    "   time, deviating from the exact solution.\n",
    "\n",
    "3. Impact on Solution Accuracy:\n",
    "   The introduced dispersive term does not counteract the\n",
    "   amplification of numerical errors.\n",
    "   Instead, it modifies the original equation in a way that can\n",
    "   exacerbate inaccuracies, especially for higher-frequency components\n",
    "   of the solution.\n",
    "   Over time, these errors accumulate, leading to significant\n",
    "   deviations from the true solution, as evidenced by the von Neumann\n",
    "   stability analysis.\n",
    "\n",
    "4. Reinforcement of Von Neumann Stability Findings:\n",
    "   The modified equation analysis complements the von Neumann\n",
    "   stability analysis by providing a physical interpretation of why\n",
    "   the FTCS scheme is unstable.\n",
    "   The introduced dispersive errors contribute to the amplification of\n",
    "   numerical oscillations, aligning with the conclusion that $|G| > 1$\n",
    "   for any $\\sigma > 0$.\n",
    "\n",
    "5. Practical Considerations:\n",
    "   Practitioners must recognize that the FTCS scheme not only fails to\n",
    "   maintain stability but also introduces errors that distort the\n",
    "   solution without providing any compensatory benefits.\n",
    "\n",
    "Consequently, the FTCS scheme is unsuitable for solving\n",
    "advection-dominated PDEs where both stability and accuracy in\n",
    "capturing wave propagation are essential.\n"
   ]
  },
  {
   "cell_type": "markdown",
   "id": "61",
   "metadata": {},
   "source": [
    "## Lax-Wendroff Scheme\n",
    "\n",
    "First-order schemes like the upwind method are simple to implement but\n",
    "often introduce significant numerical diffusion, which can blur\n",
    "important features of the solution.\n",
    "To address these limitations, higher-order schemes have been developed\n",
    "to provide more accurate and reliable results.\n",
    "\n",
    "The Lax-Wendroff Scheme is a second-order accurate finite difference\n",
    "method designed to solve hyperbolic PDEs, such as the linear advection\n",
    "equation.\n",
    "Unlike first-order methods, the Lax-Wendroff scheme incorporates both\n",
    "temporal and spatial derivatives up to the second order.\n",
    "This allows it to capture wave propagation more accurately while\n",
    "minimizing numerical diffusion and dispersion.\n",
    "\n",
    "The main advantage of the Lax-Wendroff Scheme is its ability to\n",
    "maintain higher accuracy without compromising stability.\n",
    "By extending the Taylor series expansion to include second-order\n",
    "terms, the scheme reduces the smearing effect seen in first-order\n",
    "methods.\n",
    "Additionally, it better preserves the shape and speed of waves, making\n",
    "it suitable for problems where precise wave behavior is crucial."
   ]
  },
  {
   "cell_type": "markdown",
   "id": "62",
   "metadata": {},
   "source": [
    "We begin by expanding $u(x, t + \\Delta t)$ in time around $t$ using a\n",
    "Taylor series up to second order:\n",
    "\\begin{align}\n",
    "  u(x, t + \\Delta t) = u(x, t) + \\Delta t \\frac{\\partial u}{\\partial t}\n",
    "  + \\frac{(\\Delta t)^2}{2} \\frac{\\partial^2 u}{\\partial t^2} + \\mathcal{O}(\\Delta t^3)\n",
    "\\end{align}\n",
    "\n",
    "Substitute the advection equation and the wave equation into the\n",
    "Taylor series expansion:\n",
    "\\begin{align}\n",
    "  u(x, t + \\Delta t) = u(x, t) - c \\Delta t \\frac{\\partial u}{\\partial x}\n",
    "  + \\frac{c^2 (\\Delta t)^2}{2} \\frac{\\partial^2 u}{\\partial x^2} + \\mathcal{O}((\\Delta t)^3)\n",
    "\\end{align}\n",
    "and approximate the spatial derivatives using centered finite\n",
    "differences:\n",
    "\\begin{align}\n",
    "  \\frac{\\partial u}{\\partial x} &\\approx \\frac{u_{i+1}^n - u_{i-1}^n}{2 \\Delta x} \\\\\n",
    "  \\frac{\\partial^2 u}{\\partial x^2} &\\approx \\frac{u_{i+1}^n - 2u_i^n + u_{i-1}^n}{(\\Delta x)^2},\n",
    "\\end{align}\n",
    "we obtain:\n",
    "\\begin{align}\n",
    "  u_i^{n+1} = u_i^n - c \\Delta t \\left(\\frac{u_{i+1}^n - u_{i-1}^n}{2 \\Delta x}\\right)\n",
    "  + \\frac{c^2 \\Delta t^2}{2} \\left(\\frac{u_{i+1}^n - 2u_i^n + u_{i-1}^n}{\\Delta x^2}\\right) + \\mathcal{O}(\\Delta t^3)\n",
    "\\end{align}\n",
    "\n",
    "Simplify the equation to isolate $u_i^{n+1}$, we obtain the\n",
    "Lax-Wendroff scheme for the linear advection equation\n",
    "\\begin{align}\n",
    "  u_i^{n+1} = u_i^n - \\frac{c \\Delta t}{2 \\Delta x} (u_{i+1}^n - u_{i-1}^n)\n",
    "  + \\frac{c^2 \\Delta t^2}{2 \\Delta x^2} (u_{i+1}^n - 2u_i^n + u_{i-1}^n)\n",
    "\\end{align}"
   ]
  },
  {
   "cell_type": "code",
   "execution_count": null,
   "id": "63",
   "metadata": {},
   "outputs": [],
   "source": [
    "# Parameters\n",
    "\n",
    "c  = 1.0    # advection speed\n",
    "l  = 1.0    # domain size\n",
    "dt = 0.001  # time step\n",
    "\n",
    "nx = 101    # number of spatial points\n",
    "nt = 1000   # number of time steps"
   ]
  },
  {
   "cell_type": "code",
   "execution_count": null,
   "id": "64",
   "metadata": {},
   "outputs": [],
   "source": [
    "X, dx = np.linspace(0, l, nx, retstep=True)  # spatial grid\n",
    "U0    = np.sin(2*np.pi * X)                  # initial condition: sinusoidal wave"
   ]
  },
  {
   "cell_type": "code",
   "execution_count": null,
   "id": "65",
   "metadata": {},
   "outputs": [],
   "source": [
    "# Upwind scheme\n",
    "\n",
    "sigma = c * dt / dx\n",
    "\n",
    "def LW(c, U0, dx, dt, n):\n",
    "    U = [U0]\n",
    "    for _ in range(n):\n",
    "        U0 = U[-1]\n",
    "        U1 = U0 - sigma       * (np.roll(U0,-1)        - np.roll(U0,1)) / 2 \\\n",
    "                + sigma*sigma * (np.roll(U0,-1) - 2*U0 + np.roll(U0,1)) / 2\n",
    "        U.append(U1)\n",
    "    return np.array(U)"
   ]
  },
  {
   "cell_type": "code",
   "execution_count": null,
   "id": "66",
   "metadata": {},
   "outputs": [],
   "source": [
    "U   = np.sin(2*np.pi * (X - c*dt*nt)) # analytical solution\n",
    "ULW = LW(c, U0, dx, dt, nt)         # numerical solution"
   ]
  },
  {
   "cell_type": "code",
   "execution_count": null,
   "id": "67",
   "metadata": {},
   "outputs": [],
   "source": [
    "plt.plot(X, U0,            label='Initial Condition')\n",
    "plt.plot(X, U,       ':',  label='Exact Solution')\n",
    "plt.plot(X, ULW[-1], '.-', label='Lax-Wendroff')\n",
    "plt.xlabel('x')\n",
    "plt.ylabel('u')\n",
    "plt.legend()"
   ]
  },
  {
   "cell_type": "code",
   "execution_count": null,
   "id": "68",
   "metadata": {},
   "outputs": [],
   "source": [
    "anim = animate(X, ULW)\n",
    "\n",
    "HTML(anim.to_html5_video())  # display animation\n",
    "# anim.save('FTCS.mp4')        # save animation"
   ]
  }
 ],
 "metadata": {
  "kernelspec": {
   "display_name": "Python 3 (ipykernel)",
   "language": "python",
   "name": "python3"
  },
  "language_info": {
   "codemirror_mode": {
    "name": "ipython",
    "version": 3
   },
   "file_extension": ".py",
   "mimetype": "text/x-python",
   "name": "python",
   "nbconvert_exporter": "python",
   "pygments_lexer": "ipython3",
   "version": "3.13.7"
  }
 },
 "nbformat": 4,
 "nbformat_minor": 5
}
