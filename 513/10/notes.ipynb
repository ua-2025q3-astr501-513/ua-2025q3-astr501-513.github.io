{
 "cells": [
  {
   "cell_type": "markdown",
   "id": "0",
   "metadata": {},
   "source": [
    "# Numerical PDE I: Finite Difference"
   ]
  },
  {
   "cell_type": "markdown",
   "id": "1",
   "metadata": {},
   "source": [
    "## Introduction\n",
    "\n",
    "Partial Differential Equations (PDEs) are fundamental tools in the\n",
    "mathematical modeling of various physical phenomena.\n",
    "Unlike Ordinary Differential Equations (ODEs), which involve functions\n",
    "of a single variable and their derivatives, PDEs involve functions of\n",
    "multiple variables and their partial derivatives.\n",
    "This distinction makes PDEs particularly powerful in describing\n",
    "systems where changes occur in more than one dimension, such as in\n",
    "space and time."
   ]
  },
  {
   "cell_type": "markdown",
   "id": "2",
   "metadata": {},
   "source": [
    "### What are PDEs?\n",
    "\n",
    "A PDE is an equation that relates the partial derivatives of a\n",
    "multivariable function.\n",
    "In general form, a PDE can be written as:\n",
    "\\begin{align}\n",
    "  F\\left(x_1, x_2, \\ldots, x_n,\n",
    "         u,\n",
    "\t \\frac{\\partial   u}{\\partial x_1}, \\frac{\\partial u}{\\partial x_2}, \\ldots,\n",
    "\t \\frac{\\partial^k u}{\\partial x_1^{k_1}\\partial x_2^{k_2} \\ldots \\partial x_n^{k_n}}\\right) = 0\n",
    "\\end{align}\n",
    "where $u = u(x_1, x_2, \\ldots, x_n)$ is the unknown function, and\n",
    "$\\partial u/\\partial x_i$ denotes the partial derivatives of $u$ with\n",
    "respect to the variables $x_i$.\n",
    "\n",
    "PDEs are essential in modeling continuous systems where the state of\n",
    "the system depends on multiple variables.\n",
    "They appear in various fields such as physics, engineering, finance,\n",
    "and biology, describing phenomena like heat conduction, wave\n",
    "propagation, fluid dynamics, and quantum mechanics."
   ]
  },
  {
   "cell_type": "markdown",
   "id": "3",
   "metadata": {},
   "source": [
    "### Definition and Significance in Modeling Continuous Systems\n",
    "\n",
    "PDEs provide a framework for formulating problems involving functions\n",
    "of several variables and their rates of change.\n",
    "They are indispensable in describing the behavior of physical systems\n",
    "where spatial and temporal variations are intrinsic.\n",
    "Examples include:\n",
    "* Advection Equation:\n",
    "  Models a quantity, e.g., density, moves with velocity $c$:\n",
    "  \\begin{align}\n",
    "    \\frac{\\partial u}{\\partial t} + c \\nabla u = 0.\n",
    "  \\end{align}\n",
    "* Heat Equation:\n",
    "  Models the distribution of heat (or temperature) in a given region\n",
    "  over time.\n",
    "  \\begin{align}\n",
    "    \\frac{\\partial u}{\\partial t} = \\alpha \\nabla^2 u.\n",
    "  \\end{align}\n",
    "* Wave Equation:\n",
    "  Describes the propagation of waves, such as sound or electromagnetic\n",
    "  waves, through a medium.\n",
    "  \\begin{align}\n",
    "  \\frac{\\partial^2 u}{\\partial t^2} = c^2 \\nabla^2 u\n",
    "  \\end{align}\n",
    "* Laplace's Equation:\n",
    "  Represents steady-state solutions where the system does not change\n",
    "  over time, such as electric potential in a region devoid of charge.\n",
    "  \\begin{align}\n",
    "  \\nabla^2 u = 0\n",
    "  \\end{align}\n",
    "\n",
    "The ability to model such diverse phenomena underscores the\n",
    "versatility and importance of PDEs in scientific and engineering\n",
    "disciplines."
   ]
  }
 ],
 "metadata": {
  "kernelspec": {
   "display_name": "Python 3 (ipykernel)",
   "language": "python",
   "name": "python3"
  },
  "language_info": {
   "codemirror_mode": {
    "name": "ipython",
    "version": 3
   },
   "file_extension": ".py",
   "mimetype": "text/x-python",
   "name": "python",
   "nbconvert_exporter": "python",
   "pygments_lexer": "ipython3",
   "version": "3.13.7"
  }
 },
 "nbformat": 4,
 "nbformat_minor": 5
}
