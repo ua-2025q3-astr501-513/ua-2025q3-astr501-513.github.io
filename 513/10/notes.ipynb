{
 "cells": [
  {
   "cell_type": "markdown",
   "id": "0",
   "metadata": {},
   "source": [
    "# Numerical PDE I: Finite Difference"
   ]
  },
  {
   "cell_type": "markdown",
   "id": "1",
   "metadata": {},
   "source": [
    "## Introduction\n",
    "\n",
    "Partial Differential Equations (PDEs) are fundamental tools in the\n",
    "mathematical modeling of various physical phenomena.\n",
    "Unlike Ordinary Differential Equations (ODEs), which involve functions\n",
    "of a single variable and their derivatives, PDEs involve functions of\n",
    "multiple variables and their partial derivatives.\n",
    "This distinction makes PDEs particularly powerful in describing\n",
    "systems where changes occur in more than one dimension, such as in\n",
    "space and time."
   ]
  },
  {
   "cell_type": "markdown",
   "id": "2",
   "metadata": {},
   "source": [
    "### What are PDEs?\n",
    "\n",
    "A PDE is an equation that relates the partial derivatives of a\n",
    "multivariable function.\n",
    "In general form, a PDE can be written as:\n",
    "\\begin{align}\n",
    "  F\\left(x_1, x_2, \\ldots, x_n,\n",
    "         u,\n",
    "\t \\frac{\\partial   u}{\\partial x_1}, \\frac{\\partial u}{\\partial x_2}, \\ldots,\n",
    "\t \\frac{\\partial^k u}{\\partial x_1^{k_1}\\partial x_2^{k_2} \\ldots \\partial x_n^{k_n}}\\right) = 0\n",
    "\\end{align}\n",
    "where $u = u(x_1, x_2, \\ldots, x_n)$ is the unknown function, and\n",
    "$\\partial u/\\partial x_i$ denotes the partial derivatives of $u$ with\n",
    "respect to the variables $x_i$.\n",
    "\n",
    "PDEs are essential in modeling continuous systems where the state of\n",
    "the system depends on multiple variables.\n",
    "They appear in various fields such as physics, engineering, finance,\n",
    "and biology, describing phenomena like heat conduction, wave\n",
    "propagation, fluid dynamics, and quantum mechanics."
   ]
  },
  {
   "cell_type": "markdown",
   "id": "3",
   "metadata": {},
   "source": [
    "### Definition and Significance in Modeling Continuous Systems\n",
    "\n",
    "PDEs provide a framework for formulating problems involving functions\n",
    "of several variables and their rates of change.\n",
    "They are indispensable in describing the behavior of physical systems\n",
    "where spatial and temporal variations are intrinsic.\n",
    "Examples include:\n",
    "* Advection Equation:\n",
    "  Models a quantity, e.g., density, moves with velocity $c$:\n",
    "  \\begin{align}\n",
    "    \\frac{\\partial u}{\\partial t} + c \\nabla u = 0.\n",
    "  \\end{align}\n",
    "* Heat Equation:\n",
    "  Models the distribution of heat (or temperature) in a given region\n",
    "  over time.\n",
    "  \\begin{align}\n",
    "    \\frac{\\partial u}{\\partial t} = \\alpha \\nabla^2 u.\n",
    "  \\end{align}\n",
    "* Wave Equation:\n",
    "  Describes the propagation of waves, such as sound or electromagnetic\n",
    "  waves, through a medium.\n",
    "  \\begin{align}\n",
    "  \\frac{\\partial^2 u}{\\partial t^2} = c^2 \\nabla^2 u\n",
    "  \\end{align}\n",
    "* Laplace's Equation:\n",
    "  Represents steady-state solutions where the system does not change\n",
    "  over time, such as electric potential in a region devoid of charge.\n",
    "  \\begin{align}\n",
    "  \\nabla^2 u = 0\n",
    "  \\end{align}\n",
    "\n",
    "The ability to model such diverse phenomena underscores the\n",
    "versatility and importance of PDEs in scientific and engineering\n",
    "disciplines."
   ]
  },
  {
   "cell_type": "markdown",
   "id": "4",
   "metadata": {},
   "source": [
    "## Finite Difference Methods (FDM)\n",
    "\n",
    "Solving Partial Differential Equations (PDEs) numerically is essential\n",
    "for modeling complex physical systems that lack closed-form analytical\n",
    "solutions.\n",
    "Among the various numerical methods available, Finite Difference\n",
    "Methods (FDM) are particularly popular due to their simplicity and\n",
    "ease of implementation.\n",
    "They approximate the derivatives in PDEs by using difference on a\n",
    "discretized grid.\n",
    "This approach transforms continuous PDEs into discrete algebraic\n",
    "equations that can be solved iteratively.\n",
    "FDM is widely used in engineering and scientific computations due to\n",
    "its straightforward application to regular grids and its compatibility\n",
    "with existing numerical solvers."
   ]
  },
  {
   "cell_type": "markdown",
   "id": "5",
   "metadata": {},
   "source": [
    "### Forward Time Centered Space\n",
    "\n",
    "The Forward Time Centered Space (FTCS) scheme is one of the simplest\n",
    "explicit finite difference methods used to solve time-dependent PDEs.\n",
    "It approximates the time derivative using a forward difference and the\n",
    "spatial derivatives using centered differences.\n",
    "\n",
    "Consider the linear advection equation that models the transport of a\n",
    "quantity $u$ with constant speed $c$:\n",
    "\\begin{align}\n",
    "  \\frac{\\partial u}{\\partial t} + c \\frac{\\partial u}{\\partial x} = 0\n",
    "\\end{align}\n",
    "\n",
    "Let $u_i^n$ denote the numerical approximation of $u$ at spatial index\n",
    "$i$ and time level $n$.\n",
    "The FTCS scheme discretizes the advection equation as follows:\n",
    "\\begin{align}\n",
    "  \\frac{u_i^{n+1} - u_i^n}{\\Delta t} + c \\frac{u_{i+1}^n - u_{i-1}^n}{2 \\Delta x} = 0\n",
    "\\end{align}\n",
    "\n",
    "Solving for $u_i^{n+1}$:\n",
    "\\begin{align}\n",
    "  u_i^{n+1} = u_i^n - \\frac{c \\Delta t}{2 \\Delta x} \\left( u_{i+1}^n - u_{i-1}^n \\right)\n",
    "\\end{align}\n",
    "\n",
    "This explicit update rule allows the computation of the solution at\n",
    "the next time step based on the current and neighboring spatial\n",
    "points.\n"
   ]
  },
  {
   "cell_type": "markdown",
   "id": "6",
   "metadata": {},
   "source": [
    "Here is a simple python implementation:"
   ]
  },
  {
   "cell_type": "code",
   "execution_count": null,
   "id": "7",
   "metadata": {},
   "outputs": [],
   "source": [
    "# Parameters\n",
    "\n",
    "c  = 1.0    # advection speed\n",
    "l  = 1.0    # domain size\n",
    "dt = 0.001  # time step\n",
    "\n",
    "nx = 101    # number of spatial points\n",
    "nt = 1000   # number of time steps"
   ]
  },
  {
   "cell_type": "code",
   "execution_count": null,
   "id": "8",
   "metadata": {},
   "outputs": [],
   "source": [
    "import numpy as np\n",
    "\n",
    "X, dx = np.linspace(0, l, nx, retstep=True)  # spatial grid\n",
    "U0    = np.sin(2*np.pi * X)                  # initial condition: sinusoidal wave"
   ]
  },
  {
   "cell_type": "code",
   "execution_count": null,
   "id": "9",
   "metadata": {},
   "outputs": [],
   "source": [
    "# Forward Time Centered Space (FTCS) scheme\n",
    "\n",
    "def FTCS(c, U0, dx, dt, n):\n",
    "    U = [U0]\n",
    "    for _ in range(n):\n",
    "        U0 = U[-1]\n",
    "        U1 = U0 - (c*dt) / (2*dx) * (np.roll(U0,-1) - np.roll(U0,1))\n",
    "        U.append(U1)\n",
    "    return np.array(U)"
   ]
  },
  {
   "cell_type": "code",
   "execution_count": null,
   "id": "10",
   "metadata": {},
   "outputs": [],
   "source": [
    "U     = np.sin(2*np.pi * (X - c*dt*nt)) # analytical solution\n",
    "UFTCS = FTCS(c, U0, dx, dt, nt)         # numerical solution"
   ]
  },
  {
   "cell_type": "markdown",
   "id": "11",
   "metadata": {},
   "source": [
    "Let's now plot the result!\n",
    "After $t = dt n_t = 1$, the solution should match the initial\n",
    "condition exactly."
   ]
  },
  {
   "cell_type": "code",
   "execution_count": null,
   "id": "12",
   "metadata": {},
   "outputs": [],
   "source": [
    "from matplotlib import pyplot as plt\n",
    "\n",
    "plt.plot(X, U0,              label='Initial Condition')\n",
    "plt.plot(X, U, ':',          label='Exact Solution')\n",
    "plt.plot(X, UFTCS[-1], '.-', label='FTCS Scheme')\n",
    "plt.xlabel('x')\n",
    "plt.ylabel('u')\n",
    "plt.legend()"
   ]
  },
  {
   "cell_type": "markdown",
   "id": "13",
   "metadata": {},
   "source": [
    "However, the numerical solution is oscillating.\n",
    "This looks like a numerical artifact.\n",
    "Let's inspect it with a movie."
   ]
  },
  {
   "cell_type": "code",
   "execution_count": null,
   "id": "14",
   "metadata": {},
   "outputs": [],
   "source": [
    "from matplotlib.animation import ArtistAnimation\n",
    "from IPython.display import HTML\n",
    "from tqdm import tqdm\n",
    "\n",
    "def animate(X, U):\n",
    "    fig, ax = plt.subplots(1,1)\n",
    "    ax.set_xlabel('x')\n",
    "    ax.set_ylabel('y')\n",
    "\n",
    "    frames = []\n",
    "    for n in tqdm(range(len(U))):\n",
    "        f = ax.plot(X, U[n], 'C0.-', animated=True)\n",
    "        frames.append(f)\n",
    "        plt.close()\n",
    "    \n",
    "    return ArtistAnimation(fig, frames, interval=50)"
   ]
  },
  {
   "cell_type": "code",
   "execution_count": null,
   "id": "15",
   "metadata": {},
   "outputs": [],
   "source": [
    "anim = animate(X, UFTCS)\n",
    "\n",
    "HTML(anim.to_html5_video())  # display animation\n",
    "# anim.save('FTCS.mp4')        # save animation"
   ]
  },
  {
   "cell_type": "markdown",
   "id": "16",
   "metadata": {},
   "source": [
    "The oscillation grows slowly as the solution evolve.\n",
    "This looks like numerical instability that we discussed in ODE\n",
    "integrator.\n",
    "To understand it, we will perform a stability analysis."
   ]
  },
  {
   "cell_type": "markdown",
   "id": "17",
   "metadata": {},
   "source": [
    "### Von Neumann Stability Analysis\n",
    "\n",
    "Von Neumann stability analysis is a mathematical technique used to\n",
    "assess the stability of finite difference schemes applied to (linear)\n",
    "PDEs.\n",
    "This method involves decomposing the numerical solution into Fourier\n",
    "modes and analyzing the growth or decay of these modes over time.\n",
    "If all Fourier modes remain bounded, the numerical scheme is\n",
    "considered stable.\n",
    "Otherwise, the scheme is unstable and may produce erroneous results.\n",
    "\n",
    "To perform von Neumann stability analysis, we assume a solution of the\n",
    "form:\n",
    "\\begin{align}\n",
    "  u_i^n = G^n e^{ikx_i}\n",
    "\\end{align}\n",
    "where:\n",
    "* $u_i^n$ is the numerical approximation of $u$ at spatial index $i$\n",
    "  and time level $n$.\n",
    "* $G$ is the amplification factor (recall our ODE stability analysis).\n",
    "* $k$ is the wave number.\n",
    "* $x_i = i \\Delta x$ is the spatial position of the $i$-th grid point.\n",
    "\n",
    "The goal is to determine whether the magnitude of the amplification\n",
    "factor $|G|$ remains less than or equal to 1 for all possible wave\n",
    "numbers $k$.\n",
    "If $|G| \\leq 1$ for all $k$, the numerical scheme is stable."
   ]
  },
  {
   "cell_type": "markdown",
   "id": "18",
   "metadata": {},
   "source": [
    "Now, consider the FTCS scheme applied to the linear advection\n",
    "equation\n",
    "\\begin{align}\n",
    "  \\frac{\\partial u}{\\partial t} + c \\frac{\\partial u}{\\partial x} = 0,\n",
    "\\end{align}\n",
    "where the FTCS update rule reads\n",
    "\\begin{align}\n",
    "  u_i^{n+1} = u_i^n - \\frac{c\\Delta t}{2\\Delta x} \\left(u_{i+1}^n - u_{i-1}^n\\right).\n",
    "\\end{align}"
   ]
  },
  {
   "cell_type": "markdown",
   "id": "19",
   "metadata": {},
   "source": [
    "Assumed a single Fourier mode solution,\n",
    "\\begin{align}\n",
    "  u_i^n = G^n e^{ikx_i}.\n",
    "\\end{align}\n",
    "Substituting it into the FTCS update rule,\n",
    "\\begin{align}\n",
    "  G e^{ikx_i}\n",
    "  = e^{ikx_i} - \\frac{c\\Delta t}{2\\Delta x} \\left(e^{ikx_{i+1}} - e^{ikx_{i-1}}\\right).\n",
    "\\end{align}\n",
    "Simplify using $x_{i \\pm 1} = x_i \\pm \\Delta x$, we have\n",
    "\\begin{align}\n",
    "  G = 1 - \\frac{c \\Delta t}{2\\Delta x} \\left(e^{ik\\Delta x} - e^{-ik\\Delta x}\\right).\n",
    "\\end{align}"
   ]
  },
  {
   "cell_type": "markdown",
   "id": "20",
   "metadata": {},
   "source": [
    "Using Euler's formula $e^{i\\theta} - e^{-i\\theta} = 2i \\sin\\theta$:\n",
    "\\begin{align}\n",
    "  G = 1 - i \\frac{c \\Delta t}{\\Delta x} \\sin(k \\Delta x)\n",
    "    = 1 - i \\sigma \\sin(k \\Delta x)\n",
    "\\end{align}\n",
    "where $\\sigma \\equiv c \\Delta t/\\Delta x$ is the Courant number.\n",
    "\n",
    "Calculating the magnitude of $G$, we obtain:\n",
    "\\begin{align}\n",
    "  |G|^2 = 1 + \\sigma^2 \\sin^2(k \\Delta x) > 1\n",
    "\\end{align}\n",
    "Since $|G| > 1$ for any $\\sigma$, the FTCS scheme is unconditionally\n",
    "unstable for the linear advection equation."
   ]
  }
 ],
 "metadata": {
  "kernelspec": {
   "display_name": "Python 3 (ipykernel)",
   "language": "python",
   "name": "python3"
  },
  "language_info": {
   "codemirror_mode": {
    "name": "ipython",
    "version": 3
   },
   "file_extension": ".py",
   "mimetype": "text/x-python",
   "name": "python",
   "nbconvert_exporter": "python",
   "pygments_lexer": "ipython3",
   "version": "3.13.7"
  }
 },
 "nbformat": 4,
 "nbformat_minor": 5
}
