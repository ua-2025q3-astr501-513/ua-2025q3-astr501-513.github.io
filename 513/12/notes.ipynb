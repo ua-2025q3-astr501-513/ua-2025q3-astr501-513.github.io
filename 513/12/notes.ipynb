{
 "cells": [
  {
   "cell_type": "markdown",
   "id": "0",
   "metadata": {},
   "source": [
    "# Numerical PDE III: Spectral-Galerkin Method\n",
    "\n",
    "In fluid dynamics, spectral-Galerkin methods are commonly used to\n",
    "solve the incompressible Navier-Stokes equations.\n",
    "By transforming the equations into spectral space, the nonlinear terms\n",
    "can be computed efficiently while maintaining conservation properties;\n",
    "and the viscous term can be easily solve implicitly.\n",
    "For incompressible flows, the vorticity-streamfunction formulation is\n",
    "particularly usable, as it eliminates the pressure term and reduces\n",
    "the computational complexity.\n",
    "\n",
    "In this lecture, we will focus on applying spectral methods to solve\n",
    "the 2D incompressible hydrodynamics equations.\n",
    "Specifically, we will:\n",
    "1. Derive the governing equations in spectral space.\n",
    "2. Discuss the vorticity-streamfunction formulation and its\n",
    "   advantages.\n",
    "3. Implement a spectral solver to simulate the evolution of vorticity\n",
    "   in a 2D periodic domain.\n",
    "\n",
    "This introduction sets the stage for understanding how spectral\n",
    "methods leverage mathematical elegance and computational efficiency to\n",
    "solve complex PDEs with remarkable accuracy."
   ]
  }
 ],
 "metadata": {
  "kernelspec": {
   "display_name": "Python 3 (ipykernel)",
   "language": "python",
   "name": "python3"
  },
  "language_info": {
   "codemirror_mode": {
    "name": "ipython",
    "version": 3
   },
   "file_extension": ".py",
   "mimetype": "text/x-python",
   "name": "python",
   "nbconvert_exporter": "python",
   "pygments_lexer": "ipython3",
   "version": "3.13.7"
  }
 },
 "nbformat": 4,
 "nbformat_minor": 5
}
