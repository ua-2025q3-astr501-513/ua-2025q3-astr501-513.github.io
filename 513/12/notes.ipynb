{
 "cells": [
  {
   "cell_type": "markdown",
   "id": "0",
   "metadata": {},
   "source": [
    "# Numerical PDE III: Spectral-Galerkin Method\n",
    "\n",
    "In fluid dynamics, spectral-Galerkin methods are commonly used to\n",
    "solve the incompressible Navier-Stokes equations.\n",
    "By transforming the equations into spectral space, the nonlinear terms\n",
    "can be computed efficiently while maintaining conservation properties;\n",
    "and the viscous term can be easily solve implicitly.\n",
    "For incompressible flows, the vorticity-streamfunction formulation is\n",
    "particularly usable, as it eliminates the pressure term and reduces\n",
    "the computational complexity.\n",
    "\n",
    "In this lecture, we will focus on applying spectral methods to solve\n",
    "the 2D incompressible hydrodynamics equations.\n",
    "Specifically, we will:\n",
    "1. Derive the governing equations in spectral space.\n",
    "2. Discuss the vorticity-streamfunction formulation and its\n",
    "   advantages.\n",
    "3. Implement a spectral solver to simulate the evolution of vorticity\n",
    "   in a 2D periodic domain.\n",
    "\n",
    "This introduction sets the stage for understanding how spectral\n",
    "methods leverage mathematical elegance and computational efficiency to\n",
    "solve complex PDEs with remarkable accuracy."
   ]
  },
  {
   "cell_type": "markdown",
   "id": "1",
   "metadata": {},
   "source": [
    "## 2D Incompressible Hydrodynamics"
   ]
  },
  {
   "cell_type": "markdown",
   "id": "2",
   "metadata": {},
   "source": [
    "### Conservation Laws\n",
    "\n",
    "The hydrodynamic equations govern the conservation of mass and\n",
    "momentum in a fluid.\n",
    "\n",
    "In their compressible form (that we derived in previous lectures),\n",
    "they are written as:\n",
    "\\begin{align}\n",
    "  \\frac{\\partial \\rho}{\\partial t} + \\nabla \\cdot (\\rho \\mathbf{u})\n",
    "  &= 0,\n",
    "  \\quad \\text{(Continuity Equation)} \\\\\n",
    "  \\frac{\\partial (\\rho \\mathbf{u})}{\\partial t} + \\nabla \\cdot (\\rho \\mathbf{u} \\mathbf{u})\n",
    "  &= -\\nabla P + \\mu \\nabla^2 \\mathbf{u} + \\mathbf{F},\n",
    "  \\quad \\text{(Momentum Equation)}\n",
    "\\end{align}\n",
    "where:\n",
    "* $\\rho$ is the density,\n",
    "* $\\mathbf{u}$ is the velocity field,\n",
    "* $P$ is the pressure,\n",
    "* $\\mu$ is the dynamic viscosity, and\n",
    "* $\\mathbf{F}$ is an external force."
   ]
  },
  {
   "cell_type": "markdown",
   "id": "3",
   "metadata": {},
   "source": [
    "### Incompressible Limit\n",
    "\n",
    "In the incompressible limit, the sound speed approaches infinite $c\n",
    "\\rightarrow \\infty$.\n",
    "For simplicity, the density $\\rho$ can be assumed constant, and the\n",
    "continuity equation reduces to the incompressibility condition:\n",
    "\\begin{align}\n",
    "  \\nabla \\cdot \\mathbf{u} = 0.\n",
    "\\end{align}\n",
    "\n",
    "Substituting this condition into the momentum equation simplifies the\n",
    "Navier-Stokes equations to:\n",
    "\\begin{align}\n",
    "  \\frac{\\partial \\mathbf{u}}{\\partial t} + (\\mathbf{u} \\cdot \\nabla) \\mathbf{u}\n",
    "  &= -\\nabla p + \\nu \\nabla^2 \\mathbf{u} + \\mathbf{f},\n",
    "\\end{align}\n",
    "where $\\nu \\equiv \\mu / \\rho$ is the kinematic viscosity and\n",
    "$\\mathbf{f} \\equiv \\mathbf{F} / \\rho$ is usually still called external\n",
    "\"force\".\n",
    "These equations describe the flow of incompressible fluids.\n",
    "They are widely used in modeling low Mach number fluid from\n",
    "small-scale laboratory experiments to large-scale geophysical flows."
   ]
  }
 ],
 "metadata": {
  "kernelspec": {
   "display_name": "Python 3 (ipykernel)",
   "language": "python",
   "name": "python3"
  },
  "language_info": {
   "codemirror_mode": {
    "name": "ipython",
    "version": 3
   },
   "file_extension": ".py",
   "mimetype": "text/x-python",
   "name": "python",
   "nbconvert_exporter": "python",
   "pygments_lexer": "ipython3",
   "version": "3.13.7"
  }
 },
 "nbformat": 4,
 "nbformat_minor": 5
}
