{
 "cells": [
  {
   "cell_type": "markdown",
   "id": "0",
   "metadata": {},
   "source": [
    "# Fourier Transform and Spectral Analyses"
   ]
  },
  {
   "cell_type": "markdown",
   "id": "1",
   "metadata": {},
   "source": [
    "[![The Most Important Algorithm Of All Time](fig/FT.png)<br/>\n",
    "The Most Important Algorithm Of All Time](https://youtu.be/nmgFG7PUHfo)"
   ]
  },
  {
   "cell_type": "markdown",
   "id": "2",
   "metadata": {},
   "source": [
    "## Introduction\n",
    "\n",
    "The Fourier Transform is a widely used method in many areas of science\n",
    "and engineering.\n",
    "It decomposes signals into sinusoidal components, providing direct\n",
    "access to their frequency content.\n",
    "It is essential for studying phenomena ranging from the distribution\n",
    "of matter in the universe to signals from distant astronomical\n",
    "sources."
   ]
  },
  {
   "cell_type": "markdown",
   "id": "3",
   "metadata": {},
   "source": [
    "The development of the Fast Fourier Transform (FFT) in the 20th\n",
    "century transformed computational methods.\n",
    "By reducing the cost of Fourier Transforms from $\\mathcal{O}(N^2)$ to\n",
    "$\\mathcal{O}(N \\log N)$, the FFT made it possible to analyze the large\n",
    "datasets common in astronomy and many other fields.\n",
    "Applications include:\n",
    "\n",
    "* Communication systems\n",
    "  * Signal processing:\n",
    "    Encoding and decoding digital signals for efficient transmission\n",
    "    across frequencies.\n",
    "  * Compression:\n",
    "    File formats such as MP3 (audio) and JPEG (image) exploit Fourier\n",
    "    methods to represent signals in frequency space and discard less\n",
    "    important components.\n",
    "* Radar and sonar\n",
    "  * Object detection:\n",
    "    Interpreting reflected waves to measure distance, speed, and\n",
    "    object properties.\n",
    "  * Doppler shifts:\n",
    "    Using frequency shifts in returns to determine velocities.\n",
    "* Astronomy\n",
    "  * Spectroscopy:\n",
    "    Extracting composition, temperature, and motion from light\n",
    "    spectra.\n",
    "  * Imaging:\n",
    "    Reconstructing high-resolution images from interferometric data.\n",
    "  * Very Long Baseline Interferometry (VLBI):\n",
    "    Combines telescopes across Earth to achieve extremely high\n",
    "    resolution.\n",
    "    It turns out that the cross-correlation of radio signals from each\n",
    "    telescope pair corresponds to a Fourier coefficient of the sky\n",
    "    brightness distribution."
   ]
  },
  {
   "cell_type": "markdown",
   "id": "4",
   "metadata": {},
   "source": [
    "### Historical Context and the Heat Equation\n",
    "\n",
    "![Jean-Baptiste Joseph Fourier](fig/Fourier.png)\n",
    "\n",
    "The origins of Fourier analysis trace back to the early 19th century\n",
    "with the work of\n",
    "[Jean-Baptiste Joseph Fourier (1768–1830)](https://en.wikipedia.org/wiki/Joseph_Fourier),\n",
    "a French mathematician and physicist.\n",
    "While studying heat flow, Fourier introduced the idea that any\n",
    "periodic function could be expressed as an infinite sum of sine and\n",
    "cosine functions.\n",
    "Today this is known as the Fourier Series."
   ]
  },
  {
   "cell_type": "markdown",
   "id": "5",
   "metadata": {},
   "source": [
    "The one-dimensional heat equation is:\n",
    "\\begin{align}\n",
    "  \\frac{\\partial u(x,t)}{\\partial t}\n",
    "  = \\alpha \\frac{\\partial^2 u(x,t)}{\\partial x^2},\n",
    "\\end{align}\n",
    "where $u(x,t)$ is the temperature distribution along a rod at position\n",
    "$x$ and time $t$, and $\\alpha$ is the thermal diffusivity constant of\n",
    "the material."
   ]
  },
  {
   "cell_type": "markdown",
   "id": "6",
   "metadata": {},
   "source": [
    "### Solution Using Separation of Variables\n",
    "\n",
    "We use the method of separation of variables to solve the heat\n",
    "equation.\n",
    "It involves assuming the solution can be written as a product of\n",
    "functions, each depending only on a single variable:\n",
    "\\begin{align}\n",
    "  u(x,t) = X(x) T(t).\n",
    "\\end{align}"
   ]
  },
  {
   "cell_type": "markdown",
   "id": "7",
   "metadata": {},
   "source": [
    "Substituting into the heat equation:\n",
    "\\begin{align}\n",
    "  X(x) \\frac{dT(t)}{dt}\n",
    "  = \\alpha T(t) \\frac{d^2 X(x)}{dx^2}.\n",
    "\\end{align}\n",
    "and dividing both sides by $X(x) T(t)$,\n",
    "\\begin{align}\n",
    "  \\frac{1}{T(t)} \\frac{dT(t)}{dt}\n",
    "  = \\alpha \\frac{1}{X(x)} \\frac{d^2 X(x)}{dx^2}.\n",
    "\\end{align}"
   ]
  },
  {
   "cell_type": "markdown",
   "id": "8",
   "metadata": {},
   "source": [
    "Since the left side depends only on $t$ and the right side only on\n",
    "$x$, both sides must equal a constant $-\\lambda$:\n",
    "\\begin{align}\n",
    "  \\frac{1}{T(t)} \\frac{dT(t)}{dt}\n",
    "  = -\\lambda = \\alpha \\frac{1}{X(x)} \\frac{d^2 X(x)}{dx^2}.\n",
    "\\end{align}\n",
    "This yields two ordinary differential equations (ODEs):\n",
    "1. Temporal Equation: $\\frac{dT(t)}{dt} + \\lambda T(t) = 0$.\n",
    "2. Spatial  Equation: $\\frac{d^2 X(x)}{dx^2} + \\frac{\\lambda}{\\alpha}\n",
    "   X(x) = 0$."
   ]
  },
  {
   "cell_type": "markdown",
   "id": "9",
   "metadata": {},
   "source": [
    "The general solution to the spatial equation is:\n",
    "\\begin{align}\n",
    "  X(x) = A \\sin(kx) + B \\cos(kx),\n",
    "\\end{align}\n",
    "where $k^2 = \\lambda/\\alpha$.\n",
    "This form of solution originates from the second-order derivative."
   ]
  },
  {
   "cell_type": "markdown",
   "id": "10",
   "metadata": {},
   "source": [
    "Assuming Dirichlet boundary conditions for a rod of length $L$:\n",
    "\\begin{align}\n",
    "  u(0,t) = u(L,t) = 0,\n",
    "\\end{align}\n",
    "we find:\n",
    "* At $x = 0$, $X(0) = 0 \\implies B = 0$.\n",
    "* At $x = L$, non-trivial solutions ($A \\neq 0$) require:\n",
    "  \\begin{align}\n",
    "    \\sin(kL) = 0 \\implies kL = n\\pi, \\quad n = 1,2,3,\\dots\n",
    "  \\end{align}"
   ]
  },
  {
   "cell_type": "markdown",
   "id": "11",
   "metadata": {},
   "source": [
    "Thus, the \"eigenvalues\" are:\n",
    "\\begin{align}\n",
    "  k_n = \\frac{n\\pi}{L},\n",
    "\\end{align}\n",
    "and the eigenfunctions are:\n",
    "\\begin{align}\n",
    "  X_n(x) = \\sin\\left(\\frac{n\\pi x}{L}\\right).\n",
    "\\end{align}"
   ]
  },
  {
   "cell_type": "markdown",
   "id": "12",
   "metadata": {},
   "source": [
    "With $\\lambda_n = \\alpha k_n^2$, the temporal ODE becomes:\n",
    "\\begin{align}\n",
    "  \\frac{dT_n(t)}{dt}\n",
    "  + \\alpha \\left(\\frac{n\\pi}{L}\\right)^2 T_n(t) = 0.\n",
    "\\end{align}\n",
    "The solution is\n",
    "\\begin{align}\n",
    "  T_n(t)\n",
    "  = C_n \\exp\\left[-\\alpha \\left(\\frac{n\\pi}{L}\\right)^2 t\\right].\n",
    "\\end{align}"
   ]
  },
  {
   "cell_type": "markdown",
   "id": "13",
   "metadata": {},
   "source": [
    "Combining spatial and temporal parts and realizing the heat equation\n",
    "is linear, the general solution is the sum of all solutions:\n",
    "\\begin{align}\n",
    "  u(x,t) = \\sum_{n=1}^\\infty C_n \\sin\\left(\\frac{n\\pi x}{L}\\right)\n",
    "  \\exp\\left[-\\alpha \\left( \\frac{n\\pi}{L} \\right)^2 t\\right],\n",
    "\\end{align}\n",
    "and the coefficients $C_n$ are determined from the initial condition\n",
    "$u(x,0) = f(x)$:\n",
    "\\begin{align}\n",
    "  C_n = \\frac{2}{L} \\int_0^L f(x) \\sin\\left(\\frac{n\\pi x}{L}\\right) dx.\n",
    "\\end{align}\n",
    "This represents the Fourier sine series expansion of $f(x)$."
   ]
  },
  {
   "cell_type": "markdown",
   "id": "14",
   "metadata": {},
   "source": [
    "### Inner Products and Hilbert Spaces\n",
    "\n",
    "An inner product in a function space is a generalization of the dot\n",
    "product from finite-dimensional vector spaces to infinite-dimensional\n",
    "spaces of functions.\n",
    "For functions $f(x)$ and $g(x)$ defined over an interval $[a, b]$, the\n",
    "inner product is:\n",
    "\\begin{align}\n",
    "  \\langle f, g \\rangle = \\int_a^b f(x) g^*(x) \\, dx,\n",
    "\\end{align}\n",
    "where $g^*(x)$ denotes the complex conjugate of $g(x)$.\n",
    "\n",
    "The sine and cosine functions used in the Fourier Series form an\n",
    "orthogonal (and can be normalized to be orthonormal) set with respect\n",
    "to this inner product:\n",
    "\\begin{align}\n",
    "  \\left\\langle\\cos\\left(\\frac{2n\\pi x}{L}\\right),\n",
    "              \\cos\\left(\\frac{2m\\pi x}{L}\\right)\\right\\rangle =\n",
    "  \\begin{cases}\n",
    "    0,   & n \\ne m, \\\\\n",
    "    L/2, & n = m,\n",
    "  \\end{cases}\n",
    "\\end{align}\n",
    "and similarly for the sine functions."
   ]
  },
  {
   "cell_type": "markdown",
   "id": "15",
   "metadata": {},
   "source": [
    "A Hilbert space is a complete vector space equipped with an inner\n",
    "product.\n",
    "Functions that are square=integrable over a given interval form a\n",
    "Hilbert space, denoted as $L^2([a, b])$.\n",
    "The Fourier Series represents functions in $L^2$ as infinite linear\n",
    "combinations of orthonormal basis functions.\n",
    "\n",
    "By projecting a function onto the orthonormal basis of sines and\n",
    "cosines, we obtain the Fourier coefficients, which serve as the\n",
    "\"coordinates\" of the function in this function space.\n",
    "Thus, the Fourier Series can be viewed as a coordinate transformation\n",
    "from the \"time\" or \"spatial\" domain to the \"frequency\" or \"wavenumber\"\n",
    "domain.\n",
    "This transformation is analogous to expressing a vector in terms of\n",
    "its components along orthogonal axes in finite-dimensional space."
   ]
  },
  {
   "cell_type": "markdown",
   "id": "16",
   "metadata": {},
   "source": [
    "### An Example\n",
    "\n",
    "Consider a square wave function defined over the interval\n",
    "$[-L/2, L/2)$:\n",
    "\\begin{align}\n",
    "  g(x) =\n",
    "  \\begin{cases}\n",
    "     1, & 0 < x < L/2, \\\\\n",
    "    -1, & -L/2 < x < 0.\n",
    "  \\end{cases}\n",
    "\\end{align}\n",
    "\n",
    "The Fourier coefficients for this function can be computed using the\n",
    "integrals above.\n",
    "Due to the function's odd symmetry, only sine terms are present (i.e.,\n",
    "$A_n = 0$).\n",
    "The Fourier coefficients $B_n$ are:\n",
    "\\begin{align}\n",
    "  B_n = \\frac{4}{n\\pi}\n",
    "  \\begin{cases}\n",
    "    0, & \\text{even } n, \\\\\n",
    "    1, & \\text{odd } n.\n",
    "  \\end{cases}\n",
    "\\end{align}\n",
    "This series expansion demonstrates how complex functions can be\n",
    "represented as infinite sums of simple orthogonal functions.\n",
    "\n",
    "We can implement the Fourier Series representation of functions using\n",
    "Python.\n",
    "We compute the Fourier coefficients numerically and reconstruct the\n",
    "original function from these coefficients.\n"
   ]
  },
  {
   "cell_type": "code",
   "execution_count": null,
   "id": "17",
   "metadata": {},
   "outputs": [],
   "source": [
    "import numpy as np\n",
    "\n",
    "def g(x, L):\n",
    "    return np.where((x % L) < L/2, 1, -1)\n",
    "\n",
    "def g_approx(x, L, N):\n",
    "    s = np.zeros_like(x)\n",
    "    for n in range(1, N + 1, 2):  # sum over odd n\n",
    "        B  = 4 / (n * np.pi)\n",
    "        s += B * np.sin(2 * n * np.pi * x / L)\n",
    "    return s"
   ]
  },
  {
   "cell_type": "code",
   "execution_count": null,
   "id": "18",
   "metadata": {},
   "outputs": [],
   "source": [
    "import matplotlib.pyplot as plt\n",
    "\n",
    "L = 2 * np.pi  # period is 2 pi\n",
    "X = np.linspace(-L/2, L/2, 1001)\n",
    "\n",
    "# Original function\n",
    "G = g(X, L)\n",
    "plt.plot(X, G, label='Square Wave', color='k')\n",
    "\n",
    "# Fourier series approximation\n",
    "for n in [2,4,8,16,32,64]:\n",
    "    G_n = g_approx(X, L, n)\n",
    "    plt.plot(X, G_n,\n",
    "             label=f'Fourier approximation with n={n} coefficients')\n",
    "\n",
    "plt.xlabel('x')\n",
    "plt.ylabel('g(x)')\n",
    "plt.legend()"
   ]
  },
  {
   "cell_type": "code",
   "execution_count": null,
   "id": "19",
   "metadata": {},
   "outputs": [],
   "source": [
    "# HANDSON: change the nubmer of coefficients above and\n",
    "#          observe how the Fourier approximations change\n"
   ]
  },
  {
   "cell_type": "markdown",
   "id": "20",
   "metadata": {},
   "source": [
    "Near points of discontinuity in the function (e.g., the jumps in a\n",
    "square wave), the Fourier series overshoots the function's value.\n",
    "This overshoot does not diminish when more terms are added;\n",
    "instead, the maximum overshoot approaches a finite limit ($\\sim 9\\%$\n",
    "of the jump's magnitude).\n",
    "This is known as the\n",
    "[Gibbs Phenomenon](https://en.wikipedia.org/wiki/Gibbs_phenomenon)."
   ]
  },
  {
   "cell_type": "markdown",
   "id": "21",
   "metadata": {},
   "source": [
    "## Implementing Fourier Series in Python\n",
    "\n",
    "We will implement the Fourier Series representation of functions using\n",
    "Python.\n",
    "We will compute the Fourier coefficients numerically and reconstruct\n",
    "the original function from these coefficients."
   ]
  },
  {
   "cell_type": "code",
   "execution_count": null,
   "id": "22",
   "metadata": {},
   "outputs": [],
   "source": [
    "def An(g, x, L, n):\n",
    "    I = g(x) * np.cos(2 * n * np.pi * x / L)\n",
    "    return (2 / L) * np.trapezoid(I, x)\n",
    "\n",
    "def Bn(g, x, L, n):\n",
    "    I = g(x) * np.sin(2 * n * np.pi * x / L)\n",
    "    return (2 / L) * np.trapezoid(I, x)"
   ]
  },
  {
   "cell_type": "code",
   "execution_count": null,
   "id": "23",
   "metadata": {},
   "outputs": [],
   "source": [
    "def Fourier_coefficients(g, x, L, N):\n",
    "    A = [An(g, x, L, n) for n in range(0, N)]\n",
    "    B = [Bn(g, x, L, n) for n in range(0, N)]\n",
    "    return A, B"
   ]
  },
  {
   "cell_type": "code",
   "execution_count": null,
   "id": "24",
   "metadata": {},
   "outputs": [],
   "source": [
    "def Fourier_series(A, B, L, x):\n",
    "    s = (A[0]/2) * np.ones_like(x)\n",
    "    for n, An in enumerate(A[1:],1):\n",
    "        s += An * np.cos(2 * n * np.pi * x / L)\n",
    "    for n, Bn in enumerate(B[1:],1):\n",
    "        s += Bn * np.sin(2 * n * np.pi * x / L)\n",
    "    return s"
   ]
  },
  {
   "cell_type": "markdown",
   "id": "25",
   "metadata": {},
   "source": [
    "Now, we can obtain Fourier series numerically using arbitrary\n",
    "functions."
   ]
  },
  {
   "cell_type": "code",
   "execution_count": null,
   "id": "26",
   "metadata": {},
   "outputs": [],
   "source": [
    "def g(x, L=L):\n",
    "    a = -L/2\n",
    "    b =  L/2\n",
    "    x = (x - a) % (b - a) + a\n",
    "    return np.exp(-x*x*32)\n",
    "\n",
    "X    = np.linspace(-L/2, L/2, 10_001)\n",
    "A, B = Fourier_coefficients(g, X, L, 101)"
   ]
  },
  {
   "cell_type": "code",
   "execution_count": null,
   "id": "27",
   "metadata": {},
   "outputs": [],
   "source": [
    "# Original function\n",
    "X = np.linspace(-L, L, 20_001)  # note that we double the domain size for plotting\n",
    "G = g(X)\n",
    "plt.plot(X, G, color='k', label='Original function')\n",
    "\n",
    "# Fourier series approximation\n",
    "N   = list(range(5,100,5))\n",
    "G_N = [Fourier_series(A[:n], B[:n], L, X) for n in N]\n",
    "for n, G_n in list(zip(N, G_N))[:5]:\n",
    "    plt.plot(X, G_n,\n",
    "             label=f'Fourier approximation with n={n} coefficients')\n",
    "\n",
    "plt.xlabel('x')\n",
    "plt.ylabel('g(x)')\n",
    "plt.legend()"
   ]
  },
  {
   "cell_type": "code",
   "execution_count": null,
   "id": "28",
   "metadata": {},
   "outputs": [],
   "source": [
    "# HANDSON: change the nubmer of coefficients above and\n",
    "#          observe how the Fourier approximations change\n"
   ]
  },
  {
   "cell_type": "markdown",
   "id": "29",
   "metadata": {},
   "source": [
    "### Error Analysis\n",
    "\n",
    "We can quantify how the approximation improves with $N$ by calculating\n",
    "the Mean Squared Error (MSE) between the original function and its\n",
    "Fourier series approximation."
   ]
  },
  {
   "cell_type": "code",
   "execution_count": null,
   "id": "30",
   "metadata": {},
   "outputs": [],
   "source": [
    "def mse(G, G_n):\n",
    "    dG = (G - G_n)\n",
    "    return np.mean(dG * dG)\n",
    "\n",
    "Errs = [mse(G, G_n) for G_n in G_N]\n",
    "\n",
    "plt.loglog(N, Errs,               label='Error')\n",
    "plt.loglog(N, np.array(N)**(-2.), label=r'$N^{-2}$')\n",
    "\n",
    "plt.xlabel('n')\n",
    "plt.ylabel('MSE(n)')\n",
    "plt.legend()"
   ]
  },
  {
   "cell_type": "code",
   "execution_count": null,
   "id": "31",
   "metadata": {},
   "outputs": [],
   "source": [
    "# HANDSON: Try using different functions and observe how the errors behave.\n"
   ]
  },
  {
   "cell_type": "markdown",
   "id": "32",
   "metadata": {},
   "source": [
    "## Complex Fourier Series\n",
    "\n",
    "It is often convenient to combine the sines and cosines in a Fourier\n",
    "series into a single exponential term using Euler's formula:\n",
    "\\begin{align}\n",
    "  e^{i\\theta} = \\cos(\\theta) + i\\sin(\\theta).\n",
    "\\end{align}\n",
    "Therefore,\n",
    "\\begin{align}\n",
    "  \\cos(\\theta) &= \\frac{e^{i\\theta} + e^{-i\\theta}}{2}, \\\\\n",
    "  \\sin(\\theta) &= \\frac{e^{i\\theta} - e^{-i\\theta}}{2i}.\n",
    "\\end{align}\n",
    "\n",
    "Substituting these into the definition of the Fourier series, we\n",
    "obtain the Complex Fourier Series:\n",
    "\\begin{align}\n",
    "  g(x) = \\sum_{n=-\\infty}^{\\infty} C_n e^{i n \\omega_1 x},\n",
    "\\end{align}\n",
    "where $\\omega_1 = 2\\pi/L$ is the fundamental angular frequency.\n",
    "\n",
    "The complex coefficients $C_n$ are given by:\n",
    "\\begin{align}\n",
    "  C_n = \\frac{1}{L} \\int_{-L/2}^{L/2} g(x) e^{-i n \\omega_1 x} dx.\n",
    "\\end{align}"
   ]
  },
  {
   "cell_type": "markdown",
   "id": "33",
   "metadata": {},
   "source": [
    "```{admonition} Exercises\n",
    "\n",
    "What are the relationship between the complex Fourier coefficients\n",
    "$C_n$ and the Fourier series coefficients $A_n$ and $B_n$?\n",
    "```"
   ]
  },
  {
   "cell_type": "markdown",
   "id": "34",
   "metadata": {},
   "source": [
    "If $g(x)$ is purely real, then the complex Fourier coefficients\n",
    "satisfy the conjugate symmetry:\n",
    "\\begin{align}\n",
    "  C_{-n} = C_n^*,\n",
    "\\end{align}\n",
    "where $C_n^*$ denotes the complex conjugate of $C_n$.\n",
    "This property, sometimes referred as Hermitian, Hermit symmetry, or\n",
    "conjugate symmetry, ensures that the Fourier series representation\n",
    "remains real-valued."
   ]
  },
  {
   "cell_type": "markdown",
   "id": "35",
   "metadata": {},
   "source": [
    "```{admonition} Exercises\n",
    "\n",
    "Demonstrate the Hermit symmetry using the relationship between the\n",
    "complex Fourier coefficients $C_n$ and the Fourier series coefficients\n",
    "$A_n$ and $B_n$ derived above.\n",
    "```"
   ]
  },
  {
   "cell_type": "markdown",
   "id": "36",
   "metadata": {},
   "source": [
    "In the context of complex Fourier series, the functions $\\exp(i n\n",
    "\\omega_1 x)$ form an orthonormal set under the inner product:\n",
    "\\begin{align}\n",
    "  \\langle e^{i n \\omega_1 x}, e^{i m \\omega_1 x}\\rangle\n",
    "  = \\int_{-L/2}^{L/2} e^{i n \\omega_1 x} e^{-i m \\omega_1 x} dx = L \\delta_{n m},\n",
    "\\end{align}\n",
    "where $\\delta_{n m}$ is the Kronecker delta function.\n",
    "\n",
    "The Fourier coefficients $C_n$ are obtained by projecting $g(x)$ onto\n",
    "these orthonormal basis functions, analogous to finding the components\n",
    "of a vector along orthogonal axes.\n",
    "Thus, the Fourier series expansion is a coordinate transformation from\n",
    "the function space to the space spanned by the basis functions $\\exp(i\n",
    "n \\omega_1 x)$."
   ]
  },
  {
   "cell_type": "code",
   "execution_count": null,
   "id": "37",
   "metadata": {},
   "outputs": [],
   "source": [
    "# HANDSON: Implement functions for complex Fourier series using the\n",
    "#          above functions.\n",
    "#          Demostrate that complex Fourier series can recover complex\n",
    "#          functions with exponential convergence.\n"
   ]
  },
  {
   "cell_type": "code",
   "execution_count": null,
   "id": "38",
   "metadata": {},
   "outputs": [],
   "source": [
    "# HANDSON: use Hermitian symmetry to implement a complex Fourier\n",
    "#          series reconstruction function that requires only half of\n",
    "#          the Fourier coefficients in order to construct a\n",
    "#          real-valued function.\n"
   ]
  },
  {
   "cell_type": "markdown",
   "id": "39",
   "metadata": {},
   "source": [
    "## Transition to Fourier Transform\n",
    "\n",
    "In the previous sections, we shown how periodic functions can be\n",
    "represented as sums of sines and cosines using Fourier Series.\n",
    "However, many functions of interest in physics and engineering are not\n",
    "periodic or are defined over an infinite domain.\n",
    "To analyze such functions, we need to extend the concept of a Fourier\n",
    "Series to Fourier Transform."
   ]
  },
  {
   "cell_type": "markdown",
   "id": "40",
   "metadata": {},
   "source": [
    "### From Discrete to Continuous Spectrum\n",
    "\n",
    "For a function $g(x)$ with period $L$, the Fourier Series has discrete\n",
    "(spatial) frequencies $\\omega_n = 2n\\pi/L \\equiv n \\omega_1$.\n",
    "\n",
    "As the period $L$ becomes infinitely large ($L \\rightarrow \\infty$),\n",
    "the spacing between the frequencies in the Fourier Series becomes\n",
    "infinitesimally small, turning the sum into an integral:\n",
    "\\begin{align}\n",
    "  \\sum_{n=-\\infty}^{\\infty} \\rightarrow\n",
    "  \\int_{-\\infty}^{\\infty} \\frac{d\\omega}{\\omega_1}.\n",
    "\\end{align}\n",
    "The discrete set of frequencies $\\omega_n$ becomes a continuous\n",
    "variable $\\omega$.\n",
    "This limit leads us to the Fourier Transform, which represents\n",
    "non-periodic functions defined over the entire real line."
   ]
  },
  {
   "cell_type": "markdown",
   "id": "41",
   "metadata": {},
   "source": [
    "### Complex Fourier Transform Definitions\n",
    "\n",
    "The Fourier Transform $G(\\omega)$ of a function $g(x)$ is defined as:\n",
    "\\begin{align}\n",
    "  G(\\omega) = \\int_{-\\infty}^{\\infty} g(x) e^{-i \\omega x} dx.\n",
    "\\end{align}\n",
    "The Inverse Fourier Transform is:\n",
    "\\begin{align}\n",
    "  g(x) = \\frac{1}{2\\pi}\n",
    "  \\int_{-\\infty}^{\\infty} G(\\omega) e^{i \\omega x} d\\omega.\n",
    "\\end{align}\n",
    "These equations allow us to transform a time-domain function $g(x)$\n",
    "into its frequency-domain representation $G(\\omega)$, and vice versa."
   ]
  },
  {
   "cell_type": "markdown",
   "id": "42",
   "metadata": {},
   "source": [
    "If $g(x)$ is real-valued, then $G(-\\omega) = G^*(\\omega)$ similar to\n",
    "the Fourier series case.\n",
    "This property ensures that the inverse transform remains a real\n",
    "function.\n",
    "\n",
    "In the context of the Fourier Transform, the inner product between two\n",
    "functions $f(x)$ and $g(x)$ over the entire real line is:\n",
    "\\begin{align}\n",
    "  \\langle f, g\\rangle = \\int_{-\\infty}^{\\infty} f(x) g^*(x) dx.\n",
    "\\end{align}\n",
    "The functions $e^{i \\omega x}$ form an orthogonal set with respect to\n",
    "this inner product.\n",
    "As a result, similar to the Fourier series, the Fourier transform can\n",
    "be seen as projecting $g(x)$ onto the basis of complex exponentials\n",
    "$e^{i \\omega x}$, except that these basis functions now form an\n",
    "infinite-dimensional linear space.\n",
    "The transform coefficients $G_\\omega \\equiv G(\\omega)$ represent the\n",
    "\"coordinates\" of $g(x)$ in the frequency domain."
   ]
  },
  {
   "cell_type": "markdown",
   "id": "43",
   "metadata": {},
   "source": [
    "## Sampling Theory and the Discrete Fourier Transform (DFT)\n",
    "\n",
    "Here, we study what happens when continuous signals are sampled.\n",
    "We will introduce the Nyquist Sampling Theorem, explain aliasing, and\n",
    "show how the Discrete Fourier Transform (DFT) lets us analyze sampled\n",
    "data.\n",
    "To emphasize the time-dependent nature of (astronomical) signals, we\n",
    "use the notation $g(t)$ instead of $g(x)$."
   ]
  },
  {
   "cell_type": "markdown",
   "id": "44",
   "metadata": {},
   "source": [
    "### Sampling Continuous Signals\n",
    "\n",
    "When working with real-world signals, we often need to convert\n",
    "continuous signals into discrete values for digital processing.\n",
    "\n",
    "This conversion is achieved through sampling, where a continuous\n",
    "signal $g(t)$ is measured (may be integrated) at discrete intervals.\n",
    "\n",
    "The distinction between continuous and discrete signals are:\n",
    "* Continuous Signal:\n",
    "  a function $g(t)$ defined for all real values of $t$.\n",
    "* Discrete Signal:\n",
    "  A sequence of values $g_n = g(n T_s)$, where $T_s$ is the sampling\n",
    "  interval (the time between samples) and $n$ is an integer index.\n",
    "\n",
    "The sampling frequency $f_s$ is $f_s = \\frac{1}{T_s}$, and the\n",
    "sampling angular frequency is $\\omega_s = 2\\pi f_s$.\n",
    "\n",
    "Understanding how to sample a continuous signal without losing\n",
    "essential information is important.\n",
    "Intuitively, if the sampling rate is too low, important details in the\n",
    "signal may be missed, leading to errors in analysis."
   ]
  },
  {
   "cell_type": "markdown",
   "id": "45",
   "metadata": {},
   "source": [
    "### The Nyquist Sampling Theorem\n",
    "\n",
    "The Nyquist Sampling Theorem sets the minimum sampling rate needed to\n",
    "capture a continuous, band-limited signal without losing information.\n",
    "\n",
    "```{theorem}\n",
    "\n",
    "A signal with maximum frequency $g_{\\max}$ can be perfectly\n",
    "reconstructed if the sampling frequency satisfies\n",
    "\\begin{align}\n",
    "  f_s > 2 f_{\\max}.\n",
    "\\end{align}\n",
    "```\n",
    "\n",
    "Here,\n",
    "* The minimum required sampling rate, $f_\\text{Nyquist} = 2 f_{\\max}$,\n",
    "  is called the Nyquist rate.\n",
    "* And the highest frequency that can be correctly represented at\n",
    "  sampling rate $f_s$, $f_{\\text{Nyquist}} = \\tfrac{f_s}{2}$, is the\n",
    "  Nyquist Frequency.\n",
    "\n",
    "Sampling above the Nyquist rate prevents **aliasing** (overlap of\n",
    "high-frequency components).\n",
    "It is required to ensure accurate reconstruction of the original\n",
    "signal."
   ]
  },
  {
   "cell_type": "markdown",
   "id": "46",
   "metadata": {},
   "source": [
    "### Aliasing Effect in Time (or Sptial) Domain\n",
    "\n",
    "Aliasing happens when we sample a signal too slowly (below the Nyquist\n",
    "rate).\n",
    "In this case, high-frequency components cannot be distinguished and\n",
    "instead appear as lower-frequency components in the sampled data."
   ]
  },
  {
   "cell_type": "code",
   "execution_count": null,
   "id": "47",
   "metadata": {},
   "outputs": [],
   "source": [
    "# Parameters\n",
    "f  = 3  # frequency of the original signal in Hz\n",
    "fs = 4  # sampling frequency in Hz (below Nyquist rate)\n",
    "fa = 1  # aliased frequency in Hz (due to undersampling)\n",
    "t1 = 2  # duration in seconds\n",
    "\n",
    "# Time arrays\n",
    "T  = np.linspace(0, t1, 1001)   # \"continuous\" time\n",
    "Ts = np.arange  (0, t1, 1/fs)  # discrete sampling times\n",
    "\n",
    "# Signals\n",
    "G   =  np.sin(2 * np.pi * f  * T)   # original continuous signal\n",
    "Gs  =  np.sin(2 * np.pi * f  * Ts)  # sampled signal\n",
    "Ga  = -np.sin(2 * np.pi * fa * T)   # aliased signal for comparison\n",
    "\n",
    "# Plotting\n",
    "plt.plot   (T,  G,  label=f'Original signal at {f} Hz', color='C0')\n",
    "plt.scatter(Ts, Gs, label=f'Sampled points at {fs} Hz', color='C1')\n",
    "plt.plot   (T,  Ga, label=f'Aliased signal at {fa} Hz', color='C1')\n",
    "\n",
    "plt.xlabel('Time [s]')\n",
    "plt.ylabel('Amplitude')\n",
    "plt.legend(loc='upper right')"
   ]
  },
  {
   "cell_type": "markdown",
   "id": "48",
   "metadata": {},
   "source": [
    "In this example, the original signal at 3 Hz is sampled at 4 Hz, which\n",
    "is below the Nyquist rate of 6 Hz (twice the signal frequency).\n",
    "The sampled points misrepresent the original signal, making it appear\n",
    "as if it has a frequency of 1 Hz.\n",
    "This misrepresentation is the reason of aliasing."
   ]
  },
  {
   "cell_type": "code",
   "execution_count": null,
   "id": "49",
   "metadata": {},
   "outputs": [],
   "source": [
    "# HANDSON: try out different combination of different `f` and `fs`.\n",
    "#          Are you able to predict `fa` without looking at the plot?b\n"
   ]
  },
  {
   "cell_type": "markdown",
   "id": "50",
   "metadata": {},
   "source": [
    "Another way to visualize aliasing is in images.\n",
    "Specially, let's create a wave pattern as the following:"
   ]
  },
  {
   "cell_type": "code",
   "execution_count": null,
   "id": "51",
   "metadata": {},
   "outputs": [],
   "source": [
    "X    = np.linspace(-np.pi, np.pi, 1024, endpoint=False)\n",
    "X, Y = np.meshgrid(X, X)\n",
    "G    = np.sin(32 * (X + 3 * Y))\n",
    "\n",
    "plt.imshow(G)"
   ]
  },
  {
   "cell_type": "markdown",
   "id": "52",
   "metadata": {},
   "source": [
    "We may down sample this \"groundtruth\" image skipping multiple grid\n",
    "points.\n",
    "After doing so, the direction of the pattern completely change, as the\n",
    "high (spatial) frequency mode \"fold\" back to the low frequency mode\n",
    "that is captured by the low resolution sampling."
   ]
  },
  {
   "cell_type": "code",
   "execution_count": null,
   "id": "53",
   "metadata": {},
   "outputs": [],
   "source": [
    "plt.imshow(G[::24,::24])"
   ]
  },
  {
   "cell_type": "markdown",
   "id": "54",
   "metadata": {},
   "source": [
    "Aliasing can cause numerical problems in real world applications.\n",
    "We will learn ways to mitigate it below after seeing DFT and FFT."
   ]
  },
  {
   "cell_type": "markdown",
   "id": "55",
   "metadata": {},
   "source": [
    "### Discrete Fourier Transform (DFT)\n",
    "\n",
    "The Discrete Fourier Transform (DFT) analyzes the frequency content of\n",
    "discrete signals.\n",
    "It converts a finite set of equally spaced samples into complex\n",
    "numbers that represent the signal's frequency spectrum."
   ]
  },
  {
   "cell_type": "markdown",
   "id": "56",
   "metadata": {},
   "source": [
    "Given a sequence of $N$ complex numbers $g_n$, where $n = 0, 1, 2,\n",
    "\\dots, N-1$, the Discrete Fourier Transform $G_k$ is defined as:\n",
    "\\begin{align}\n",
    "  G_k = \\sum_{n=0}^{N-1} g_n e^{-i 2\\pi k n / N},\n",
    "  \\quad \\text{for } k = 0, 1, 2, \\dots, N-1.\n",
    "\\end{align}\n",
    "\n",
    "Here, $G_k$ represents the amplitude and phase of the $k$-th frequency\n",
    "component of the signal.\n",
    "The inverse DFT, which allows us to reconstruct the original signal\n",
    "from its frequency components, is given by:\n",
    "\\begin{align}\n",
    "  g_n = \\frac{1}{N} \\sum_{k=0}^{N-1} G_k e^{i 2\\pi k n / N},\n",
    "  \\quad \\text{for } n = 0, 1, 2, \\dots, N-1.\n",
    "\\end{align}"
   ]
  },
  {
   "cell_type": "markdown",
   "id": "57",
   "metadata": {},
   "source": [
    "Understanding the properties of the DFT helps effectively apply it to\n",
    "signal analysis:\n",
    "* Periodicity:\n",
    "  Both the input sequence $g_n$ and the output sequence $G_k$ are\n",
    "  periodic with period $N$.\n",
    "  This means that $g_{n+N} = g_n$ and $G_{k+N} = G_k$ for all integers\n",
    "  $n$ and $k$.\n",
    "  The periodicity arises from the finite length of the sequences and\n",
    "  the assumption that they represent one period of a periodic signal.\n",
    "* Orthogonality:\n",
    "  The set of complex exponentials $e^{-i 2\\pi k n / N}$ used in the\n",
    "  DFT are orthogonal over the interval $n = 0, 1, \\dots, N-1$.\n",
    "  This orthogonality allows the DFT to decompose the signal into\n",
    "  independent frequency components, analogous to how the Fourier\n",
    "  Series decomposes continuous periodic functions.\n",
    "* Linearity:\n",
    "  The DFT is a linear transformation.\n",
    "  If $f_n$ and $g_n$ are sequences and $a$ and $b$ are scalars, then\n",
    "  the DFT of $a f_n + b g_n$ is $a F_k + b G_k$, where $F_k$ and $G_k$\n",
    "  are the DFTs of $f_n$ and $g_n$, respectively.\n",
    "* Energy Conservation (Parseval's Theorem, see below):\n",
    "  The total energy of the signal is preserved between the time domain\n",
    "  and the frequency domain.\n",
    "  Specifically, the sum of the squares of the magnitudes of the\n",
    "  time-domain samples equals $1/N$ times the sum of the squares of the\n",
    "  magnitudes of the frequency-domain coefficients."
   ]
  },
  {
   "cell_type": "markdown",
   "id": "58",
   "metadata": {},
   "source": [
    "To see how the DFT works, we can implement it directly in Python.\n",
    "Although in practice we use the Fast Fourier Transform (FFT, see\n",
    "below), writing the DFT from scratch reveals the core computation."
   ]
  },
  {
   "cell_type": "code",
   "execution_count": null,
   "id": "59",
   "metadata": {},
   "outputs": [],
   "source": [
    "def DFT(g):\n",
    "    N = len(g)\n",
    "    G = np.zeros(N, dtype=complex)\n",
    "    for k in range(N):\n",
    "        for n in range(N):\n",
    "            G[k] += g[n] * np.exp(-2j * np.pi * k * n / N)\n",
    "    return G"
   ]
  },
  {
   "cell_type": "markdown",
   "id": "60",
   "metadata": {},
   "source": [
    "In this function, we compute each frequency component $F_k$ by summing\n",
    "over all time-domain samples $f_n$, weighted by the complex\n",
    "exponential basis functions.\n",
    "The nested loops result in a computational complexity of\n",
    "$\\mathcal{O}(N^2)$, which is acceptable for small $N$ but inefficient\n",
    "for large datasets.\n",
    "\n",
    "Let's apply the DFT to analyze a discrete signal composed of a single\n",
    "sine wave:"
   ]
  },
  {
   "cell_type": "code",
   "execution_count": null,
   "id": "61",
   "metadata": {},
   "outputs": [],
   "source": [
    "# Signal parameters\n",
    "f  = 5    # frequency in Hz\n",
    "fs = 50   # sampling frequency in Hz\n",
    "N  = 100  # number of samples\n",
    "\n",
    "Ts   = np.arange(N) / fs  # discrete sampling times without endpoint\n",
    "G    = np.sin(2 * np.pi * f * Ts)  # signal generation\n",
    "Ghat = DFT(G)  # compute the DFT\n",
    "freq = np.fft.fftfreq(N, d=1/fs) # Frequency vector\n",
    "\n",
    "# Plotting\n",
    "plt.stem(freq[:N//2], np.abs(Ghat[:N//2]) * (2/N), basefmt=\" \")\n",
    "plt.xlabel('Frequency [Hz]')\n",
    "plt.ylabel('Amplitude')"
   ]
  },
  {
   "cell_type": "markdown",
   "id": "62",
   "metadata": {},
   "source": [
    "The magnitude spectrum shows a peak at 5 Hz, matching the sine wave's\n",
    "frequency and confirming that the DFT identifies the dominant\n",
    "component.\n",
    "\n",
    "*Note:* The factor $2/N$ normalizes the amplitude and ensures correct\n",
    "scaling when plotting only positive frequencies."
   ]
  },
  {
   "cell_type": "markdown",
   "id": "63",
   "metadata": {},
   "source": [
    "### The DFT as a Linear Transformation\n",
    "\n",
    "The DFT can also be expressed in matrix form.\n",
    "This shows its linear (transformation) nature from the time domain to\n",
    "the frequency domain.\n",
    "\n",
    "In matrix notation:\n",
    "\\begin{align}\n",
    "  \\mathbf{G} = \\mathbf{W} \\mathbf{g},\n",
    "\\end{align}\n",
    "where\n",
    "$\\mathbf{g}$ is the column vector of input samples $g_n$,\n",
    "$\\mathbf{G}$ is the column vector of DFT coefficients $G_k$, and\n",
    "$\\mathbf{W}$ is the DFT matrix, whose elements are\n",
    "$W_{k n} = e^{-2\\pi i k n / N}$.\n",
    "\n",
    "Implementing the DFT using matrix multiplication in Python:"
   ]
  },
  {
   "cell_type": "code",
   "execution_count": null,
   "id": "64",
   "metadata": {},
   "outputs": [],
   "source": [
    "def DFT_matrix(N):\n",
    "    n = np.arange(N)\n",
    "    k = n.reshape((N, 1))\n",
    "    W = np.exp(-2j * np.pi * k * n / N)\n",
    "    return W\n",
    "\n",
    "# Compute DFT using matrix multiplication\n",
    "W = DFT_matrix(N)"
   ]
  },
  {
   "cell_type": "code",
   "execution_count": null,
   "id": "65",
   "metadata": {},
   "outputs": [],
   "source": [
    "Gmatrix = W @ G\n",
    "\n",
    "# Plotting\n",
    "plt.stem(freq[:N//2], np.abs(Gmatrix[:N//2]) * (2/N), basefmt=\" \")\n",
    "plt.xlabel('Frequency [Hz]')\n",
    "plt.ylabel('Amplitude')"
   ]
  },
  {
   "cell_type": "markdown",
   "id": "66",
   "metadata": {},
   "source": [
    "This method produces the same result as the direct computation but is\n",
    "also computationally intensive with $\\mathcal{O}(N^2)$ complexity.\n",
    "The matrix representation is useful for theoretical analysis and\n",
    "understanding properties of the DFT, such as its eigenvalues and\n",
    "eigenvectors."
   ]
  },
  {
   "cell_type": "markdown",
   "id": "67",
   "metadata": {},
   "source": [
    "## Fast Fourier Transform (FFT) and Computational Efficiency\n",
    "\n",
    "We have seen the importance of the DFT for analyzing discrete signals\n",
    "in the frequency domain.\n",
    "However, computing it directly is computationally intensive, with\n",
    "complexity $\\mathcal{O}(N^2)$, where $N$ is the number of data points.\n",
    "This scaling quickly becomes impractical for large datasets, such as\n",
    "those in signal processing and time-domain astronomy.\n",
    "To address this, the Fast Fourier Transform (FFT) was developed.\n",
    "\n",
    "The [Veritasium video](https://youtu.be/nmgFG7PUHfo) introduced\n",
    "earlier provides an excellent story about the FFT.\n",
    "To summarize: the FFT is **not** an approximation of the DFT.\n",
    "Instead, it exploits symmetries in the DFT matrix to reduce the\n",
    "computational cost from $\\mathcal{O}(N^2)$ to $\\mathcal{O}(N \\log N)$.\n",
    "It in fact is a numerically more stable method to compute the DFT!\n",
    "This dramatic improvement makes the FFT efficient enough for large\n",
    "datasets, earning it the title **the most important algorithms of all\n",
    "time**."
   ]
  },
  {
   "cell_type": "markdown",
   "id": "68",
   "metadata": {},
   "source": [
    "### Historical Remark of the FFT\n",
    "\n",
    "Although the FFT algorithm gained widespread recognition after the\n",
    "publication by James Cooley and John Tukey in 1965, the fundamental\n",
    "ideas behind it date back much further.\n",
    "Remarkably, Carl Friedrich Gauss discovered a version of the FFT as\n",
    "early as 1805.\n",
    "He developed efficient methods for interpolating asteroid orbits,\n",
    "which involved computations similar to the FFT, although his work in\n",
    "this context remained unpublished until much later.\n",
    "\n",
    "Over the years, several mathematicians and engineers independently\n",
    "discovered and rediscovered the FFT.\n",
    "It was not until Cooley and Tukey's seminal paper that the algorithm\n",
    "became widely known and appreciated for its computational advantages.\n",
    "Their work sparked a revolution in digital signal processing and had a\n",
    "profound impact on many fields, including communications, image\n",
    "processing, and astrophysics."
   ]
  },
  {
   "cell_type": "markdown",
   "id": "69",
   "metadata": {},
   "source": [
    "### Understanding the FFT Algorithm\n",
    "\n",
    "The key idea behind the FFT is to exploit symmetries and redundancies\n",
    "in the DFT calculations to reduce the number of computations required.\n",
    "Specifically, the FFT algorithm employs a divide and conquer strategy.\n",
    "It recursively breaks down a DFT of size $N$ into smaller DFTs,\n",
    "thereby minimizing redundant calculations."
   ]
  },
  {
   "cell_type": "markdown",
   "id": "70",
   "metadata": {},
   "source": [
    "Consider the DFT of a sequence $f_n$ of length $N$:\n",
    "\\begin{align}\n",
    "  F_k = \\sum_{n=0}^{N-1} f_n e^{-i 2\\pi k n / N}, \\quad k = 0, 1, \\dots, N-1.\n",
    "\\end{align}\n",
    "\n",
    "If $N$ is even, we can separate the sum into even and odd indexed terms:\n",
    "\\begin{align}\n",
    "  F_k            &= \\sum_{n=0}^{N/2 -1} f_{2n}   e^{-i 2\\pi k (2n)   / N}\n",
    "                  + \\sum_{n=0}^{N/2 -1} f_{2n+1} e^{-i 2\\pi k (2n+1) / N} \\\\\n",
    "                 &= \\sum_{n=0}^{N/2 -1} f_{2n}   e^{-i 2\\pi k   n    / (N/2)}\n",
    "+ e^{-i 2\\pi k / N} \\sum_{n=0}^{N/2 -1} f_{2n+1} e^{-i 2\\pi k   n    / (N/2)}.\n",
    "\\end{align}"
   ]
  },
  {
   "cell_type": "markdown",
   "id": "71",
   "metadata": {},
   "source": [
    "This decomposition reveals that the DFT of size $N$ can be expressed\n",
    "in terms of two DFTs of size $N/2$, one for the even-indexed samples\n",
    "$f_{2n}$ and one for the odd-indexed samples $f_{2n+1}$.\n",
    "This approach can be applied repeatedly/recusively until the DFTs are\n",
    "reduced to size 1, at which point the computation is trivial."
   ]
  },
  {
   "cell_type": "markdown",
   "id": "72",
   "metadata": {},
   "source": [
    "By reusing the results of smaller DFTs and exploiting the periodicity\n",
    "and symmetry properties of the complex exponential functions, the FFT\n",
    "algorithm significantly reduces the total number of computations from\n",
    "$\\mathcal{O}(N^2)$ to $\\mathcal{O}(N \\log_2 N)$."
   ]
  },
  {
   "cell_type": "markdown",
   "id": "73",
   "metadata": {},
   "source": [
    "The computational savings provided by the FFT are substantial,\n",
    "especially for large $N$.\n",
    "For example, if $N = 1,000,000$:\n",
    "* Direct DFT: Approximately $10^{12}$ operations.\n",
    "* FFT: Approximately $20,000,000$ operations.\n",
    "This reduction makes the FFT practical for large datasets and enables\n",
    "real-time signal processing and efficient analysis of astronomical\n",
    "data."
   ]
  },
  {
   "cell_type": "markdown",
   "id": "74",
   "metadata": {},
   "source": [
    "### Performance of DFT vs. FFT\n",
    "\n",
    "Modern programming languages and scientific computing libraries\n",
    "provide optimized implementations of the FFT algorithm.\n",
    "In Python, the `numpy` library includes an `fft` module (based on a\n",
    "`C` port of the `FFTPACK` Fortrean package), which offers fast and\n",
    "reliable FFT computations.\n",
    "\n",
    "Let's compare the performance of our naive DFT implementation with the\n",
    "optimized FFT provided by `numpy`:"
   ]
  },
  {
   "cell_type": "code",
   "execution_count": null,
   "id": "75",
   "metadata": {},
   "outputs": [],
   "source": [
    "from numpy.fft import fft, ifft\n",
    "from time import time\n",
    "\n",
    "N = 2**np.arange(5,30)\n",
    "\n",
    "T_dft = []\n",
    "T_fft = []\n",
    "\n",
    "for n in N:\n",
    "    g = np.random.random(n)\n",
    "\n",
    "    # Time DFT, only perform if it is small enough\n",
    "    if n < 1_000:\n",
    "        t0 = time()\n",
    "        G  = DFT(g)\n",
    "        T_dft.append(time() - t0)\n",
    "\n",
    "    # Time FFT\n",
    "    if n < 10_000_000:\n",
    "        t0 = time()\n",
    "        G  = fft(g)\n",
    "        T_fft.append(time() - t0)"
   ]
  },
  {
   "cell_type": "code",
   "execution_count": null,
   "id": "76",
   "metadata": {},
   "outputs": [],
   "source": [
    "# Plotting the results\n",
    "plt.loglog(N, 1e-6 * N*N,         ':', label=r'$N^2$')\n",
    "plt.loglog(N, 5e-9 * N*np.log(N), ':', label=r'$N^2$')\n",
    "plt.loglog(N[:len(T_dft)], T_dft, 'o', label='DFT Times')\n",
    "plt.loglog(N[:len(T_fft)], T_fft, 'o', label='FFT Times')\n",
    "\n",
    "plt.xlabel('Signal length $n$')\n",
    "plt.ylabel('Time [seconds]')\n",
    "plt.legend()"
   ]
  },
  {
   "cell_type": "code",
   "execution_count": null,
   "id": "77",
   "metadata": {},
   "outputs": [],
   "source": [
    "# HANDSON: try to compare DFT and FFT for even more number of sampling\n",
    "#          points.\n",
    "#          Does it still follow the expected scaling law?\n",
    "#          With the same computing time, how many more sampling points\n",
    "#          are we able to process with FFT?\n"
   ]
  },
  {
   "cell_type": "markdown",
   "id": "78",
   "metadata": {},
   "source": [
    "### Variations and Generalizations of the FFT\n",
    "\n",
    "So far, we have focused on the radix-2 FFT, which requires the input\n",
    "length $N$ to be a power of two.\n",
    "In practice, many other FFT algorithms extend its applicability to\n",
    "arbitrary sequence lengths:\n",
    "* Mixed-Radix FFT:\n",
    "  Works when $N$ is a composite number.\n",
    "  By factoring $N$ into smaller integers (radices such as 2, 3, 5,\n",
    "  etc.), the DFT is computed recursively on each factor.\n",
    "  This generalizes radix-2 to arbitrary composite sizes and is used in\n",
    "  standard FFT packages such as [FFTW](https://fftw.org/).\n",
    "* Integer FFT:\n",
    "  A variant of the FFT designed for exact integer arithmetic.\n",
    "  Instead of floating-point operations, it uses modular arithmetic\n",
    "  (often with the Number Theoretic Transform, NTT).\n",
    "  This allows error-free computations and makes it particularly useful\n",
    "  in cryptography and computer algebra systems.\n",
    "* Prime Factor FFT (Good-Thomas Algorithm):\n",
    "  Used when $N$ can be factored into pairwise coprime integers.\n",
    "  It reorganizes the DFT into multidimensional smaller transforms,\n",
    "  avoiding twiddle factors in certain cases.\n",
    "* Bluestein's Algorithm (Chirp Z-Transform):\n",
    "  Computes the DFT for any $N$ by reformulating it as a convolution,\n",
    "  which is then evaluated efficiently using an FFT of a larger\n",
    "  size.\n",
    "  This is especially useful for prime $N$.\n"
   ]
  },
  {
   "cell_type": "markdown",
   "id": "79",
   "metadata": {},
   "source": [
    "## Applications"
   ]
  },
  {
   "cell_type": "markdown",
   "id": "80",
   "metadata": {},
   "source": [
    "### Spectral Filtering\n",
    "\n",
    "Spectral filtering involves transforming a signal into the frequency\n",
    "domain, modifying specific frequency components (e.g., removing\n",
    "noise), and transforming it back to the time domain.\n",
    "\n",
    "In this section, we will implement a low-pass filter.\n",
    "The setup includes:\n",
    "1. Generate a noisy sinusoidal signal.\n",
    "2. Transform the signal into the frequency domain using the Fast\n",
    "   Fourier Transform (FFT).\n",
    "3. Apply a low-pass filter to remove high-frequency noise.\n",
    "4. Transform the filtered signal back to the time domain."
   ]
  },
  {
   "cell_type": "code",
   "execution_count": null,
   "id": "81",
   "metadata": {},
   "outputs": [],
   "source": [
    "T = np.linspace(0, 10, num=2_000, endpoint=False)  # use high sampling rate to approximate the analytic function\n",
    "S = np.cos(2 * np.pi * T)                          # periodic is 1\n",
    "\n",
    "# Add noise\n",
    "Noisy = S + np.random.normal(size=T.shape)\n",
    "\n",
    "# Visualize the signal with noise\n",
    "plt.plot(T, Noisy)\n",
    "plt.xlabel('Time (s)')\n",
    "plt.ylabel('Amplitude')"
   ]
  },
  {
   "cell_type": "code",
   "execution_count": null,
   "id": "82",
   "metadata": {},
   "outputs": [],
   "source": [
    "# Fourier Transform\n",
    "F     = np.fft.fftfreq(len(T), d=T[1])\n",
    "NOISY = np.fft.fft(Noisy)\n",
    "Power = abs(NOISY[:len(T)//2])**2\n",
    "\n",
    "plt.loglog(F[:len(T)//2], Power)\n",
    "plt.xlabel('Frequency (Hz)')\n",
    "plt.ylabel('Power')"
   ]
  },
  {
   "cell_type": "code",
   "execution_count": null,
   "id": "83",
   "metadata": {},
   "outputs": [],
   "source": [
    "# HANDSON: implement a low pass filter\n"
   ]
  },
  {
   "cell_type": "code",
   "execution_count": null,
   "id": "84",
   "metadata": {},
   "outputs": [],
   "source": [
    "# ... and plot the power spectrum again\n",
    "Power = abs(NOISY[:len(T)//2])**2\n",
    "\n",
    "plt.loglog(F[:len(T)//2], Power)\n",
    "plt.xlabel('Frequency (Hz)')\n",
    "plt.ylabel('Power')"
   ]
  },
  {
   "cell_type": "code",
   "execution_count": null,
   "id": "85",
   "metadata": {},
   "outputs": [],
   "source": [
    "# Inverse Fourier transform and plot the result\n",
    "Filtered = np.real(np.fft.ifft(NOISY))\n",
    "\n",
    "plt.plot(T, Noisy,    label='Noisy signal',    alpha=0.7)\n",
    "plt.plot(T, Filtered, label='Filtered signal', linewidth=2)\n",
    "plt.xlabel('Time (s)')\n",
    "plt.ylabel('Amplitude')\n",
    "plt.legend()"
   ]
  },
  {
   "cell_type": "markdown",
   "id": "86",
   "metadata": {},
   "source": [
    "## Aliasing in the DFT and FFT\n",
    "\n",
    "When applying the DFT and FFT, aliasing is a key concern.\n",
    "Because the sampling rate is finite, the FT treats the sampled signal\n",
    "as periodic with period $N T_s$.\n",
    "If the original signal contains frequencies above the Nyquist limit\n",
    "($f_{\\text{Nyquist}} = f_s/2$), these are \"folded\" back into lower\n",
    "frequencies, creating false components in the spectrum.\n",
    "This is aliasing as described above.\n",
    "\n",
    "Aliasing can be misleading, as high-frequency content appears as\n",
    "spurious low-frequency signals.\n",
    "To avoid this, the input must be band-limited before sampling.\n",
    "The most common solution is an anti-aliasing filter, i.e., a low-pass\n",
    "filter that removes frequencies above the Nyquist limit.\n",
    "In practice, analog filters are applied before digitization to\n",
    "condition the signal.\n",
    "\n",
    "Another strategy is oversampling, where the sampling rate is chosen\n",
    "well above the Nyquist rate.\n",
    "Oversampling raises the Nyquist frequency, leaving more margin against\n",
    "aliasing.\n",
    "More advanced methods include adaptive sampling, which varies the\n",
    "sampling rate depending on the signal's frequency content at the time.\n"
   ]
  },
  {
   "cell_type": "markdown",
   "id": "87",
   "metadata": {},
   "source": [
    "## Other Interesting Toipics:\n",
    "\n",
    "* Time-frequency analysis\n",
    "* Power spectrum estimation using the FFT (See\n",
    "  [Numerical Recipes](https://numerical.recipes/book.html)\n",
    "  Section 13.4.)\n",
    "* Denoising and signal processing applications\n",
    "* Astrophysical applications and\n",
    "  [VLBI](https://focisrc.github.io/eht-databook/intro/correlation.html)\n",
    "* Calibration algorithm for ADC interleaving\n",
    "* Spectral derivatives and spectral methods (for solving PDEs,\n",
    "  including the heat equation).\n"
   ]
  }
 ],
 "metadata": {
  "kernelspec": {
   "display_name": "Python 3 (ipykernel)",
   "language": "python",
   "name": "python3"
  },
  "language_info": {
   "codemirror_mode": {
    "name": "ipython",
    "version": 3
   },
   "file_extension": ".py",
   "mimetype": "text/x-python",
   "name": "python",
   "nbconvert_exporter": "python",
   "pygments_lexer": "ipython3",
   "version": "3.13.7"
  }
 },
 "nbformat": 4,
 "nbformat_minor": 5
}
