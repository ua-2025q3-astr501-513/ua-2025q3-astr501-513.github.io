{
 "cells": [
  {
   "cell_type": "markdown",
   "id": "0",
   "metadata": {},
   "source": [
    "# Fourier Transform and Spectral Analyses"
   ]
  },
  {
   "cell_type": "markdown",
   "id": "1",
   "metadata": {},
   "source": [
    "[![The Most Important Algorithm Of All Time](fig/FT.png)<br/>\n",
    "The Most Important Algorithm Of All Time](https://youtu.be/nmgFG7PUHfo)\n",
    "\n"
   ]
  },
  {
   "cell_type": "markdown",
   "id": "2",
   "metadata": {},
   "source": [
    "## Introduction\n",
    "\n",
    "The Fourier Transform is a widely used method in many areas of science\n",
    "and engineering.\n",
    "It decomposes signals into sinusoidal components, providing direct\n",
    "access to their frequency content.\n",
    "It is essential for studying phenomena ranging from the distribution\n",
    "of matter in the universe to signals from distant astronomical\n",
    "sources."
   ]
  },
  {
   "cell_type": "markdown",
   "id": "3",
   "metadata": {},
   "source": [
    "The development of the Fast Fourier Transform (FFT) in the 20th\n",
    "century transformed computational methods.\n",
    "By reducing the cost of Fourier Transforms from $\\mathcal{O}(N^2)$ to\n",
    "$\\mathcal{O}(N \\log N)$, the FFT made it possible to analyze the large\n",
    "datasets common in astronomy and many other fields.\n",
    "Applications include:\n",
    "\n",
    "* Communication systems\n",
    "  * Signal processing:\n",
    "    Encoding and decoding digital signals for efficient transmission\n",
    "    across frequencies.\n",
    "  * Compression:\n",
    "    File formats such as MP3 (audio) and JPEG (image) exploit Fourier\n",
    "    methods to represent signals in frequency space and discard less\n",
    "    important components.\n",
    "* Radar and sonar\n",
    "  * Object detection:\n",
    "    Interpreting reflected waves to measure distance, speed, and\n",
    "    object properties.\n",
    "  * Doppler shifts:\n",
    "    Using frequency shifts in returns to determine velocities.\n",
    "* Astronomy\n",
    "  * Spectroscopy:\n",
    "    Extracting composition, temperature, and motion from light\n",
    "    spectra.\n",
    "  * Imaging:\n",
    "    Reconstructing high-resolution images from interferometric data.\n",
    "  * Very Long Baseline Interferometry (VLBI):\n",
    "    Combines telescopes across Earth to achieve extremely high\n",
    "    resolution.\n",
    "    It turns out that the cross-correlation of radio signals from each\n",
    "    telescope pair corresponds to a Fourier coefficient of the sky\n",
    "    brightness distribution."
   ]
  }
 ],
 "metadata": {
  "kernelspec": {
   "display_name": "Python 3 (ipykernel)",
   "language": "python",
   "name": "python3"
  },
  "language_info": {
   "codemirror_mode": {
    "name": "ipython",
    "version": 3
   },
   "file_extension": ".py",
   "mimetype": "text/x-python",
   "name": "python",
   "nbconvert_exporter": "python",
   "pygments_lexer": "ipython3",
   "version": "3.13.7"
  }
 },
 "nbformat": 4,
 "nbformat_minor": 5
}
