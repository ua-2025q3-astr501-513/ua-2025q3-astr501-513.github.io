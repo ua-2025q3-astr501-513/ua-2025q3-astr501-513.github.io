{
 "cells": [
  {
   "cell_type": "markdown",
   "id": "0",
   "metadata": {},
   "source": [
    "# Fourier Transform and Spectral Analyses"
   ]
  },
  {
   "cell_type": "markdown",
   "id": "1",
   "metadata": {},
   "source": [
    "[![The Most Important Algorithm Of All Time](fig/FT.png)<br/>\n",
    "The Most Important Algorithm Of All Time](https://youtu.be/nmgFG7PUHfo)\n",
    "\n"
   ]
  },
  {
   "cell_type": "markdown",
   "id": "2",
   "metadata": {},
   "source": [
    "## Introduction\n",
    "\n",
    "The Fourier Transform is a widely used method in many areas of science\n",
    "and engineering.\n",
    "It decomposes signals into sinusoidal components, providing direct\n",
    "access to their frequency content.\n",
    "It is essential for studying phenomena ranging from the distribution\n",
    "of matter in the universe to signals from distant astronomical\n",
    "sources."
   ]
  },
  {
   "cell_type": "markdown",
   "id": "3",
   "metadata": {},
   "source": [
    "The development of the Fast Fourier Transform (FFT) in the 20th\n",
    "century transformed computational methods.\n",
    "By reducing the cost of Fourier Transforms from $\\mathcal{O}(N^2)$ to\n",
    "$\\mathcal{O}(N \\log N)$, the FFT made it possible to analyze the large\n",
    "datasets common in astronomy and many other fields.\n",
    "Applications include:\n",
    "\n",
    "* Communication systems\n",
    "  * Signal processing:\n",
    "    Encoding and decoding digital signals for efficient transmission\n",
    "    across frequencies.\n",
    "  * Compression:\n",
    "    File formats such as MP3 (audio) and JPEG (image) exploit Fourier\n",
    "    methods to represent signals in frequency space and discard less\n",
    "    important components.\n",
    "* Radar and sonar\n",
    "  * Object detection:\n",
    "    Interpreting reflected waves to measure distance, speed, and\n",
    "    object properties.\n",
    "  * Doppler shifts:\n",
    "    Using frequency shifts in returns to determine velocities.\n",
    "* Astronomy\n",
    "  * Spectroscopy:\n",
    "    Extracting composition, temperature, and motion from light\n",
    "    spectra.\n",
    "  * Imaging:\n",
    "    Reconstructing high-resolution images from interferometric data.\n",
    "  * Very Long Baseline Interferometry (VLBI):\n",
    "    Combines telescopes across Earth to achieve extremely high\n",
    "    resolution.\n",
    "    It turns out that the cross-correlation of radio signals from each\n",
    "    telescope pair corresponds to a Fourier coefficient of the sky\n",
    "    brightness distribution."
   ]
  },
  {
   "cell_type": "markdown",
   "id": "4",
   "metadata": {},
   "source": [
    "### Historical Context and the Heat Equation\n",
    "\n",
    "![Jean-Baptiste Joseph Fourier](fig/Fourier.png)\n",
    "\n",
    "The origins of Fourier analysis trace back to the early 19th century\n",
    "with the work of\n",
    "[Jean-Baptiste Joseph Fourier (1768–1830)](https://en.wikipedia.org/wiki/Joseph_Fourier),\n",
    "a French mathematician and physicist.\n",
    "While studying heat flow, Fourier introduced the idea that any\n",
    "periodic function could be expressed as an infinite sum of sine and\n",
    "cosine functions.\n",
    "Today this is known as the Fourier Series."
   ]
  },
  {
   "cell_type": "markdown",
   "id": "5",
   "metadata": {},
   "source": [
    "The one-dimensional heat equation is:\n",
    "\\begin{align}\n",
    "  \\frac{\\partial u(x,t)}{\\partial t}\n",
    "  = \\alpha \\frac{\\partial^2 u(x,t)}{\\partial x^2},\n",
    "\\end{align}\n",
    "where $u(x,t)$ is the temperature distribution along a rod at position\n",
    "$x$ and time $t$, and $\\alpha$ is the thermal diffusivity constant of\n",
    "the material."
   ]
  },
  {
   "cell_type": "markdown",
   "id": "6",
   "metadata": {},
   "source": [
    "### Solution Using Separation of Variables\n",
    "\n",
    "We use the method of separation of variables to solve the heat\n",
    "equation.\n",
    "It involves assuming the solution can be written as a product of\n",
    "functions, each depending only on a single variable:\n",
    "\\begin{align}\n",
    "  u(x,t) = X(x) T(t).\n",
    "\\end{align}"
   ]
  },
  {
   "cell_type": "markdown",
   "id": "7",
   "metadata": {},
   "source": [
    "Substituting into the heat equation:\n",
    "\\begin{align}\n",
    "  X(x) \\frac{dT(t)}{dt}\n",
    "  = \\alpha T(t) \\frac{d^2 X(x)}{dx^2}.\n",
    "\\end{align}\n",
    "and dividing both sides by $X(x) T(t)$,\n",
    "\\begin{align}\n",
    "  \\frac{1}{T(t)} \\frac{dT(t)}{dt}\n",
    "  = \\alpha \\frac{1}{X(x)} \\frac{d^2 X(x)}{dx^2}.\n",
    "\\end{align}"
   ]
  },
  {
   "cell_type": "markdown",
   "id": "8",
   "metadata": {},
   "source": [
    "Since the left side depends only on $t$ and the right side only on\n",
    "$x$, both sides must equal a constant $-\\lambda$:\n",
    "\\begin{align}\n",
    "  \\frac{1}{T(t)} \\frac{dT(t)}{dt}\n",
    "  = -\\lambda = \\alpha \\frac{1}{X(x)} \\frac{d^2 X(x)}{dx^2}.\n",
    "\\end{align}\n",
    "This yields two ordinary differential equations (ODEs):\n",
    "1. Temporal Equation: $\\frac{dT(t)}{dt} + \\lambda T(t) = 0$.\n",
    "2. Spatial  Equation: $\\frac{d^2 X(x)}{dx^2} + \\frac{\\lambda}{\\alpha}\n",
    "   X(x) = 0$."
   ]
  },
  {
   "cell_type": "markdown",
   "id": "9",
   "metadata": {},
   "source": [
    "The general solution to the spatial equation is:\n",
    "\\begin{align}\n",
    "  X(x) = A \\sin(kx) + B \\cos(kx),\n",
    "\\end{align}\n",
    "where $k^2 = \\lambda/\\alpha$.\n",
    "This form of solution originates from the second-order derivative."
   ]
  },
  {
   "cell_type": "markdown",
   "id": "10",
   "metadata": {},
   "source": [
    "Assuming Dirichlet boundary conditions for a rod of length $L$:\n",
    "\\begin{align}\n",
    "  u(0,t) = u(L,t) = 0,\n",
    "\\end{align}\n",
    "we find:\n",
    "* At $x = 0$, $X(0) = 0 \\implies B = 0$.\n",
    "* At $x = L$, non-trivial solutions ($A \\neq 0$) require:\n",
    "  \\begin{align}\n",
    "    \\sin(kL) = 0 \\implies kL = n\\pi, \\quad n = 1,2,3,\\dots\n",
    "  \\end{align}"
   ]
  },
  {
   "cell_type": "markdown",
   "id": "11",
   "metadata": {},
   "source": [
    "Thus, the \"eigenvalues\" are:\n",
    "\\begin{align}\n",
    "  k_n = \\frac{n\\pi}{L},\n",
    "\\end{align}\n",
    "and the eigenfunctions are:\n",
    "\\begin{align}\n",
    "  X_n(x) = \\sin\\left(\\frac{n\\pi x}{L}\\right).\n",
    "\\end{align}"
   ]
  },
  {
   "cell_type": "markdown",
   "id": "12",
   "metadata": {},
   "source": [
    "With $\\lambda_n = \\alpha k_n^2$, the temporal ODE becomes:\n",
    "\\begin{align}\n",
    "  \\frac{dT_n(t)}{dt}\n",
    "  + \\alpha \\left(\\frac{n\\pi}{L}\\right)^2 T_n(t) = 0.\n",
    "\\end{align}\n",
    "The solution is\n",
    "\\begin{align}\n",
    "  T_n(t)\n",
    "  = C_n \\exp\\left[-\\alpha \\left(\\frac{n\\pi}{L}\\right)^2 t\\right].\n",
    "\\end{align}"
   ]
  },
  {
   "cell_type": "markdown",
   "id": "13",
   "metadata": {},
   "source": [
    "Combining spatial and temporal parts and realizing the heat equation\n",
    "is linear, the general solution is the sum of all solutions:\n",
    "\\begin{align}\n",
    "  u(x,t) = \\sum_{n=1}^\\infty C_n \\sin\\left(\\frac{n\\pi x}{L}\\right)\n",
    "  \\exp\\left[-\\alpha \\left( \\frac{n\\pi}{L} \\right)^2 t\\right],\n",
    "\\end{align}\n",
    "and the coefficients $C_n$ are determined from the initial condition\n",
    "$u(x,0) = f(x)$:\n",
    "\\begin{align}\n",
    "  C_n = \\frac{2}{L} \\int_0^L f(x) \\sin\\left(\\frac{n\\pi x}{L}\\right) dx.\n",
    "\\end{align}\n",
    "This represents the Fourier sine series expansion of $f(x)$."
   ]
  },
  {
   "cell_type": "markdown",
   "id": "14",
   "metadata": {},
   "source": [
    "### Inner Products and Hilbert Spaces\n",
    "\n",
    "An inner product in a function space is a generalization of the dot\n",
    "product from finite-dimensional vector spaces to infinite-dimensional\n",
    "spaces of functions.\n",
    "For functions $f(x)$ and $g(x)$ defined over an interval $[a, b]$, the\n",
    "inner product is:\n",
    "\\begin{align}\n",
    "  \\langle f, g \\rangle = \\int_a^b f(x) g^*(x) \\, dx,\n",
    "\\end{align}\n",
    "where $g^*(x)$ denotes the complex conjugate of $g(x)$.\n",
    "\n",
    "The sine and cosine functions used in the Fourier Series form an\n",
    "orthogonal (and can be normalized to be orthonormal) set with respect\n",
    "to this inner product:\n",
    "\\begin{align}\n",
    "  \\left\\langle\\cos\\left(\\frac{2n\\pi x}{L}\\right),\n",
    "              \\cos\\left(\\frac{2m\\pi x}{L}\\right)\\right\\rangle =\n",
    "  \\begin{cases}\n",
    "    0,   & n \\ne m, \\\\\n",
    "    L/2, & n = m,\n",
    "  \\end{cases}\n",
    "\\end{align}\n",
    "and similarly for the sine functions."
   ]
  },
  {
   "cell_type": "markdown",
   "id": "15",
   "metadata": {},
   "source": [
    "A Hilbert space is a complete vector space equipped with an inner\n",
    "product.\n",
    "Functions that are square=integrable over a given interval form a\n",
    "Hilbert space, denoted as $L^2([a, b])$.\n",
    "The Fourier Series represents functions in $L^2$ as infinite linear\n",
    "combinations of orthonormal basis functions.\n",
    "\n",
    "By projecting a function onto the orthonormal basis of sines and\n",
    "cosines, we obtain the Fourier coefficients, which serve as the\n",
    "\"coordinates\" of the function in this function space.\n",
    "Thus, the Fourier Series can be viewed as a coordinate transformation\n",
    "from the \"time\" or \"spatial\" domain to the \"frequency\" or \"wavenumber\"\n",
    "domain.\n",
    "This transformation is analogous to expressing a vector in terms of\n",
    "its components along orthogonal axes in finite-dimensional space."
   ]
  },
  {
   "cell_type": "markdown",
   "id": "16",
   "metadata": {},
   "source": [
    "### An Example\n",
    "\n",
    "Consider a square wave function defined over the interval\n",
    "$[-L/2, L/2)$:\n",
    "\\begin{align}\n",
    "  f(x) =\n",
    "  \\begin{cases}\n",
    "     1, & 0 < x < L/2, \\\\\n",
    "    -1, & -L/2 < x < 0.\n",
    "  \\end{cases}\n",
    "\\end{align}\n",
    "\n",
    "The Fourier coefficients for this function can be computed using the\n",
    "integrals above.\n",
    "Due to the function's odd symmetry, only sine terms are present (i.e.,\n",
    "$A_n = 0$).\n",
    "The Fourier coefficients $B_n$ are:\n",
    "\\begin{align}\n",
    "  B_n = \\frac{4}{n\\pi}\n",
    "  \\begin{cases}\n",
    "    0, & \\text{even } n, \\\\\n",
    "    1, & \\text{odd } n.\n",
    "  \\end{cases}\n",
    "\\end{align}\n",
    "This series expansion demonstrates how complex functions can be\n",
    "represented as infinite sums of simple orthogonal functions.\n",
    "\n",
    "We can implement the Fourier Series representation of functions using\n",
    "Python.\n",
    "We compute the Fourier coefficients numerically and reconstruct the\n",
    "original function from these coefficients.\n"
   ]
  },
  {
   "cell_type": "code",
   "execution_count": null,
   "id": "17",
   "metadata": {},
   "outputs": [],
   "source": [
    "import numpy as np\n",
    "\n",
    "def f(x, L):\n",
    "    return np.where((x % L) < L/2, 1, -1)\n",
    "\n",
    "def f_approx(x, L, N):\n",
    "    s = np.zeros_like(x)\n",
    "    for n in range(1, N + 1, 2):  # sum over odd n\n",
    "        B  = 4 / (n * np.pi)\n",
    "        s += B * np.sin(2 * n * np.pi * x / L)\n",
    "    return s"
   ]
  },
  {
   "cell_type": "code",
   "execution_count": null,
   "id": "18",
   "metadata": {},
   "outputs": [],
   "source": [
    "import matplotlib.pyplot as plt\n",
    "\n",
    "L = 2 * np.pi  # period is 2 pi\n",
    "X = np.linspace(-L/2, L/2, 1001)\n",
    "\n",
    "# Plotting\n",
    "plt.figure(figsize=(10, 6))\n",
    "\n",
    "# Original function\n",
    "F = f(X, L)\n",
    "plt.plot(X, F, label='Square Wave', color='k')\n",
    "\n",
    "# Fourier series approximation\n",
    "for n in [2,4,8,16,32,64]:\n",
    "    F_n = f_approx(X, L, n)\n",
    "    plt.plot(X, F_n,\n",
    "             label=f'Fourier approximation with n={n} coefficients')\n",
    "\n",
    "plt.xlabel('x')\n",
    "plt.ylabel('f(x)')\n",
    "plt.legend()"
   ]
  },
  {
   "cell_type": "code",
   "execution_count": null,
   "id": "19",
   "metadata": {},
   "outputs": [],
   "source": [
    "# HANDSON: change the nubmer of coefficients above and\n",
    "#          observe how the Fourier approximations change\n"
   ]
  },
  {
   "cell_type": "markdown",
   "id": "20",
   "metadata": {},
   "source": [
    "Near points of discontinuity in the function (e.g., the jumps in a\n",
    "square wave), the Fourier series overshoots the function's value.\n",
    "This overshoot does not diminish when more terms are added;\n",
    "instead, the maximum overshoot approaches a finite limit ($\\sim 9\\%$\n",
    "of the jump's magnitude).\n",
    "This is known as the\n",
    "[Gibbs Phenomenon](https://en.wikipedia.org/wiki/Gibbs_phenomenon)."
   ]
  },
  {
   "cell_type": "markdown",
   "id": "21",
   "metadata": {},
   "source": [
    "## Implementing Fourier Series in Python\n",
    "\n",
    "We will implement the Fourier Series representation of functions using\n",
    "Python.\n",
    "We will compute the Fourier coefficients numerically and reconstruct\n",
    "the original function from these coefficients."
   ]
  },
  {
   "cell_type": "code",
   "execution_count": null,
   "id": "22",
   "metadata": {},
   "outputs": [],
   "source": [
    "def An(f, x, L, n):\n",
    "    I = f(x) * np.cos(2 * n * np.pi * x / L)\n",
    "    return (2 / L) * np.trapezoid(I, x)\n",
    "\n",
    "def Bn(f, x, L, n):\n",
    "    I = f(x) * np.sin(2 * n * np.pi * x / L)\n",
    "    return (2 / L) * np.trapezoid(I, x)"
   ]
  },
  {
   "cell_type": "code",
   "execution_count": null,
   "id": "23",
   "metadata": {},
   "outputs": [],
   "source": [
    "def Fourier_coefficients(f, x, L, N):\n",
    "    A = [An(f, x, L, n) for n in range(0, N)]\n",
    "    B = [Bn(f, x, L, n) for n in range(0, N)]\n",
    "    return A, B"
   ]
  },
  {
   "cell_type": "code",
   "execution_count": null,
   "id": "24",
   "metadata": {},
   "outputs": [],
   "source": [
    "def Fourier_series(A, B, L, x):\n",
    "    s = (A[0]/2) * np.ones_like(x)\n",
    "    for n, An in enumerate(A[1:],1):\n",
    "        s += An * np.cos(2 * n * np.pi * x / L)\n",
    "    for n, Bn in enumerate(B[1:],1):\n",
    "        s += Bn * np.sin(2 * n * np.pi * x / L)\n",
    "    return s"
   ]
  },
  {
   "cell_type": "markdown",
   "id": "25",
   "metadata": {},
   "source": [
    "Now, we can obtain Fourier series numerically using arbitrary\n",
    "functions."
   ]
  },
  {
   "cell_type": "code",
   "execution_count": null,
   "id": "26",
   "metadata": {},
   "outputs": [],
   "source": [
    "def f(x, L=L):\n",
    "    a = -L/2\n",
    "    b =  L/2\n",
    "    x = (x - a) % (b - a) + a\n",
    "    return np.exp(-x*x*32)\n",
    "\n",
    "X    = np.linspace(-L/2, L/2, 10_001)\n",
    "A, B = Fourier_coefficients(f, X, L, 101)"
   ]
  },
  {
   "cell_type": "code",
   "execution_count": null,
   "id": "27",
   "metadata": {},
   "outputs": [],
   "source": [
    "plt.figure(figsize=(10, 6))\n",
    "\n",
    "# Original function\n",
    "X = np.linspace(-L, L, 20_001)  # note that we double the domain size for plotting\n",
    "F = f(X)\n",
    "plt.plot(X, F, color='k', label='Original function')\n",
    "\n",
    "# Fourier series approximation\n",
    "N   = list(range(5,100,5))\n",
    "F_N = [Fourier_series(A[:n], B[:n], L, X) for n in N]\n",
    "for n, F_n in list(zip(N, F_N))[:5]:\n",
    "    plt.plot(X, F_n,\n",
    "             label=f'Fourier approximation with n={n} coefficients')\n",
    "\n",
    "plt.xlabel('x')\n",
    "plt.ylabel('f(x)')\n",
    "plt.legend()"
   ]
  },
  {
   "cell_type": "code",
   "execution_count": null,
   "id": "28",
   "metadata": {},
   "outputs": [],
   "source": [
    "# HANDSON: change the nubmer of coefficients above and\n",
    "#          observe how the Fourier approximations change\n"
   ]
  },
  {
   "cell_type": "markdown",
   "id": "29",
   "metadata": {},
   "source": [
    "### Error Analysis\n",
    "\n",
    "We can quantify how the approximation improves with $N$ by calculating\n",
    "the Mean Squared Error (MSE) between the original function and its\n",
    "Fourier series approximation."
   ]
  },
  {
   "cell_type": "code",
   "execution_count": null,
   "id": "30",
   "metadata": {},
   "outputs": [],
   "source": [
    "def mse(F, F_n):\n",
    "    dF = (F - F_n)\n",
    "    return np.mean(dF * dF)\n",
    "\n",
    "Errs = [mse(F, F_n) for F_n in F_N]\n",
    "\n",
    "plt.loglog(N, Errs,               label='Error')\n",
    "plt.loglog(N, np.array(N)**(-2.), label=r'$N^{-2}$')\n",
    "\n",
    "plt.xlabel('n')\n",
    "plt.ylabel('MSE(n)')\n",
    "plt.legend()"
   ]
  },
  {
   "cell_type": "code",
   "execution_count": null,
   "id": "31",
   "metadata": {},
   "outputs": [],
   "source": [
    "# HANDSON: Try using different functions and observe how the errors behave.\n"
   ]
  },
  {
   "cell_type": "markdown",
   "id": "32",
   "metadata": {},
   "source": [
    "## Complex Fourier Series\n",
    "\n",
    "It is often convenient to combine the sines and cosines in a Fourier\n",
    "series into a single exponential term using Euler's formula:\n",
    "\\begin{align}\n",
    "  e^{i\\theta} = \\cos(\\theta) + i\\sin(\\theta).\n",
    "\\end{align}\n",
    "Therefore,\n",
    "\\begin{align}\n",
    "  \\cos(\\theta) &= \\frac{e^{i\\theta} + e^{-i\\theta}}{2}, \\\\\n",
    "  \\sin(\\theta) &= \\frac{e^{i\\theta} - e^{-i\\theta}}{2i}.\n",
    "\\end{align}\n",
    "\n",
    "Substituting these into the definition of the Fourier series, we\n",
    "obtain the Complex Fourier Series:\n",
    "\\begin{align}\n",
    "  f(x) = \\sum_{n=-\\infty}^{\\infty} C_n e^{i n \\omega_1 x},\n",
    "\\end{align}\n",
    "where $\\omega_1 = 2\\pi/L$ is the fundamental angular frequency.\n",
    "\n",
    "The complex coefficients $C_n$ are given by:\n",
    "\\begin{align}\n",
    "  C_n = \\frac{1}{L} \\int_{-L/2}^{L/2} f(x) e^{-i n \\omega_1 x} dx.\n",
    "\\end{align}"
   ]
  },
  {
   "cell_type": "markdown",
   "id": "33",
   "metadata": {},
   "source": [
    "```{admonition} Exercises\n",
    "\n",
    "What are the relationship between the complex Fourier coefficients\n",
    "$C_n$ and the Fourier series coefficients $A_n$ and $B_n$?\n",
    "```"
   ]
  },
  {
   "cell_type": "markdown",
   "id": "34",
   "metadata": {},
   "source": [
    "If $f(x)$ is purely real, then the complex Fourier coefficients\n",
    "satisfy the conjugate symmetry:\n",
    "\\begin{align}\n",
    "  C_{-n} = C_n^*,\n",
    "\\end{align}\n",
    "where $C_n^*$ denotes the complex conjugate of $C_n$.\n",
    "This property, sometimes referred as Hermitian, Hermit symmetry, or\n",
    "conjugate symmetry, ensures that the Fourier series representation\n",
    "remains real-valued."
   ]
  },
  {
   "cell_type": "markdown",
   "id": "35",
   "metadata": {},
   "source": [
    "```{admonition} Exercises\n",
    "\n",
    "Demonstrate the Hermit symmetry using the relationship between the\n",
    "complex Fourier coefficients $C_n$ and the Fourier series coefficients\n",
    "$A_n$ and $B_n$ derived above.\n",
    "```"
   ]
  },
  {
   "cell_type": "markdown",
   "id": "36",
   "metadata": {},
   "source": [
    "In the context of complex Fourier series, the functions $\\exp(i n\n",
    "\\omega_1 x)$ form an orthonormal set under the inner product:\n",
    "\\begin{align}\n",
    "  \\langle e^{i n \\omega_1 x}, e^{i m \\omega_1 x}\\rangle\n",
    "  = \\int_{-L/2}^{L/2} e^{i n \\omega_1 x} e^{-i m \\omega_1 x} dx = L \\delta_{n m},\n",
    "\\end{align}\n",
    "where $\\delta_{n m}$ is the Kronecker delta function.\n",
    "\n",
    "The Fourier coefficients $C_n$ are obtained by projecting $f(x)$ onto\n",
    "these orthonormal basis functions, analogous to finding the components\n",
    "of a vector along orthogonal axes.\n",
    "Thus, the Fourier series expansion is a coordinate transformation from\n",
    "the function space to the space spanned by the basis functions $\\exp(i\n",
    "n \\omega_1 x)$."
   ]
  },
  {
   "cell_type": "code",
   "execution_count": null,
   "id": "37",
   "metadata": {},
   "outputs": [],
   "source": [
    "# HANDSON: Implement functions for complex Fourier series using the\n",
    "#          above functions.\n",
    "#          Demostrate that complex Fourier series can recover complex\n",
    "#          functions with exponential convergence.\n"
   ]
  },
  {
   "cell_type": "code",
   "execution_count": null,
   "id": "38",
   "metadata": {},
   "outputs": [],
   "source": [
    "# HANDSON: use Hermitian symmetry to implement a complex Fourier\n",
    "#          series reconstruction function that requires only half of\n",
    "#          the Fourier coefficients in order to construct a\n",
    "#          real-valued function.\n"
   ]
  },
  {
   "cell_type": "markdown",
   "id": "39",
   "metadata": {},
   "source": [
    "## Transition to Fourier Transform\n",
    "\n",
    "In the previous sections, we shown how periodic functions can be\n",
    "represented as sums of sines and cosines using Fourier Series.\n",
    "However, many functions of interest in physics and engineering are not\n",
    "periodic or are defined over an infinite domain.\n",
    "To analyze such functions, we need to extend the concept of a Fourier\n",
    "Series to Fourier Transform."
   ]
  },
  {
   "cell_type": "markdown",
   "id": "40",
   "metadata": {},
   "source": [
    "### From Discrete to Continuous Spectrum\n",
    "\n",
    "For a function $f(x)$ with period $L$, the Fourier Series has discrete\n",
    "frequencies $\\omega_n = 2n\\pi/L \\equiv n \\omega_1$.\n",
    "\n",
    "As the period $L$ becomes infinitely large ($L \\rightarrow \\infty$),\n",
    "the spacing between the frequencies in the Fourier Series becomes\n",
    "infinitesimally small, turning the sum into an integral:\n",
    "\\begin{align}\n",
    "  \\sum_{n=-\\infty}^{\\infty} \\rightarrow\n",
    "  \\int_{-\\infty}^{\\infty} \\frac{d\\omega}{\\omega_1}.\n",
    "\\end{align}\n",
    "The discrete set of frequencies $\\omega_n$ becomes a continuous\n",
    "variable $\\omega$.\n",
    "This limit leads us to the Fourier Transform, which represents\n",
    "non-periodic functions defined over the entire real line."
   ]
  },
  {
   "cell_type": "markdown",
   "id": "41",
   "metadata": {},
   "source": [
    "### Complex Fourier Transform Definitions\n",
    "\n",
    "The Fourier Transform $F(\\omega)$ of a function $f(x)$ is defined as:\n",
    "\\begin{align}\n",
    "  F(\\omega) = \\int_{-\\infty}^{\\infty} f(x) e^{-i \\omega x} dx.\n",
    "\\end{align}\n",
    "The Inverse Fourier Transform is:\n",
    "\\begin{align}\n",
    "  f(x) = \\frac{1}{2\\pi}\n",
    "  \\int_{-\\infty}^{\\infty} F(\\omega) e^{i \\omega x} d\\omega.\n",
    "\\end{align}\n",
    "These equations allow us to transform a time-domain function $f(x)$\n",
    "into its frequency-domain representation $F(\\omega)$, and vice versa."
   ]
  },
  {
   "cell_type": "markdown",
   "id": "42",
   "metadata": {},
   "source": [
    "If $f(x)$ is real-valued, then $F(-\\omega) = F^*(\\omega)$ similar to\n",
    "the Fourier series case.\n",
    "This property ensures that the inverse transform remains a real\n",
    "function.\n",
    "\n",
    "In the context of the Fourier Transform, the inner product between two\n",
    "functions $f(x)$ and $g(x)$ over the entire real line is:\n",
    "\\begin{align}\n",
    "  \\langle f, g\\rangle = \\int_{-\\infty}^{\\infty} f(x) g^*(x) dx.\n",
    "\\end{align}\n",
    "The functions $e^{i \\omega x}$ form an orthogonal set with respect to\n",
    "this inner product.\n",
    "As a result, similar to the Fourier series, the Fourier transform can\n",
    "be seen as projecting $f(x)$ onto the basis of complex exponentials\n",
    "$e^{i \\omega x}$, except that these basis functions now form an\n",
    "infinite-dimensional linear space.\n",
    "The transform coefficients $F_\\omega \\equiv F(\\omega)$ represent the\n",
    "\"coordinates\" of $f(x)$ in the frequency domain.\n"
   ]
  },
  {
   "cell_type": "markdown",
   "id": "43",
   "metadata": {},
   "source": [
    "## Sampling Theory and the Discrete Fourier Transform (DFT)\n",
    "\n",
    "Here, we study what happens when continuous signals are sampled.\n",
    "We will introduce the Nyquist Sampling Theorem, explain aliasing, and\n",
    "show how the Discrete Fourier Transform (DFT) lets us analyze sampled\n",
    "data.\n",
    "To emphasize the time-dependent nature of (astronomical) signals, we\n",
    "use the notation $f(t)$ instead of $f(x)$."
   ]
  },
  {
   "cell_type": "markdown",
   "id": "44",
   "metadata": {},
   "source": [
    "### Sampling Continuous Signals\n",
    "\n",
    "When working with real-world signals, we often need to convert\n",
    "continuous signals into discrete values for digital processing.\n",
    "\n",
    "This conversion is achieved through sampling, where a continuous\n",
    "signal $f(t)$ is measured (may be integrated) at discrete intervals.\n",
    "\n",
    "The distinction between continuous and discrete signals are:\n",
    "* Continuous Signal:\n",
    "  a function $f(t)$ defined for all real values of $t$.\n",
    "* Discrete Signal:\n",
    "  A sequence of values $f_n = f(n T_s)$, where $T_s$ is the sampling\n",
    "  interval (the time between samples) and $n$ is an integer index.\n",
    "\n",
    "The sampling frequency $f_s$ is $f_s = \\frac{1}{T_s}$, and the\n",
    "sampling angular frequency is $\\omega_s = 2\\pi f_s$.\n",
    "\n",
    "Understanding how to sample a continuous signal without losing\n",
    "essential information is important.\n",
    "Intuitively, if the sampling rate is too low, important details in the\n",
    "signal may be missed, leading to errors in analysis."
   ]
  },
  {
   "cell_type": "markdown",
   "id": "45",
   "metadata": {},
   "source": [
    "### The Nyquist Sampling Theorem\n",
    "\n",
    "The Nyquist Sampling Theorem sets the minimum sampling rate needed to\n",
    "capture a continuous, band-limited signal without losing information.\n",
    "\n",
    "```{theorem}\n",
    "\n",
    "A signal with maximum frequency $f_{\\max}$ can be perfectly\n",
    "reconstructed if the sampling frequency satisfies\n",
    "\\begin{align}\n",
    "  f_s > 2 f_{\\max}.\n",
    "\\end{align}\n",
    "```\n",
    "\n",
    "Here,\n",
    "* The minimum required sampling rate, $f_\\text{Nyquist} = 2 f_{\\max}$,\n",
    "  is called the Nyquist rate.\n",
    "* And the highest frequency that can be correctly represented at\n",
    "  sampling rate $f_s$, $f_{\\text{Nyquist}} = \\tfrac{f_s}{2}$, is the\n",
    "  Nyquist Frequency.\n",
    "\n",
    "Sampling above the Nyquist rate prevents **aliasing** (overlap of\n",
    "high-frequency components).\n",
    "It is required to ensure accurate reconstruction of the original\n",
    "signal."
   ]
  },
  {
   "cell_type": "markdown",
   "id": "46",
   "metadata": {},
   "source": [
    "### Aliasing Errors\n",
    "\n",
    "Aliasing happens when we sample a signal too slowly (below the Nyquist\n",
    "rate).\n",
    "In this case, high-frequency components cannot be distinguished and\n",
    "instead appear as lower-frequency components in the sampled data."
   ]
  },
  {
   "cell_type": "code",
   "execution_count": null,
   "id": "47",
   "metadata": {},
   "outputs": [],
   "source": [
    "# Parameters\n",
    "f  = 3  # frequency of the original signal in Hz\n",
    "fs = 4  # sampling frequency in Hz (below Nyquist rate)\n",
    "fa = 1  # aliased frequency in Hz (due to undersampling)\n",
    "t1 = 2  # duration in seconds\n",
    "\n",
    "# Time arrays\n",
    "T  = np.linspace(0, t1, 1001)   # \"continuous\" time\n",
    "Ts = np.arange  (0, t1, 1/fs)  # discrete sampling times\n",
    "\n",
    "# Signals\n",
    "X   =  np.sin(2 * np.pi * f  * T)   # original continuous signal\n",
    "Xs  =  np.sin(2 * np.pi * f  * Ts)  # sampled signal\n",
    "Xa  = -np.sin(2 * np.pi * fa * T)   # aliased signal for comparison\n",
    "\n",
    "# Plotting\n",
    "plt.figure(figsize=(12, 6))\n",
    "plt.plot   (T, X,   label=f'Original signal at {f} Hz', color='C0')\n",
    "plt.scatter(Ts, Xs, label=f'Sampled points at {fs} Hz', color='C1')\n",
    "plt.plot   (T, Xa,  label=f'Aliased signal at {fa} Hz', color='C1')\n",
    "\n",
    "plt.xlabel('Time [s]')\n",
    "plt.ylabel('Amplitude')\n",
    "plt.legend()"
   ]
  },
  {
   "cell_type": "markdown",
   "id": "48",
   "metadata": {},
   "source": [
    "In this example, the original signal at 3 Hz is sampled at 4 Hz, which\n",
    "is below the Nyquist rate of 6 Hz (twice the signal frequency).\n",
    "The sampled points misrepresent the original signal, making it appear\n",
    "as if it has a frequency of 1 Hz.\n",
    "This misrepresentation is the reason of aliasing."
   ]
  },
  {
   "cell_type": "code",
   "execution_count": null,
   "id": "49",
   "metadata": {},
   "outputs": [],
   "source": [
    "# HANDSON: try out different combination of different `f` and `fs`.\n",
    "#          Are you able to predict `fa` without looking at the plot?\n"
   ]
  }
 ],
 "metadata": {
  "kernelspec": {
   "display_name": "Python 3 (ipykernel)",
   "language": "python",
   "name": "python3"
  },
  "language_info": {
   "codemirror_mode": {
    "name": "ipython",
    "version": 3
   },
   "file_extension": ".py",
   "mimetype": "text/x-python",
   "name": "python",
   "nbconvert_exporter": "python",
   "pygments_lexer": "ipython3",
   "version": "3.13.7"
  }
 },
 "nbformat": 4,
 "nbformat_minor": 5
}
