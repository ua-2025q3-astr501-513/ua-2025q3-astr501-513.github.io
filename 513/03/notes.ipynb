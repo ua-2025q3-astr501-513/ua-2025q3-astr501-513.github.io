{
 "cells": [
  {
   "cell_type": "markdown",
   "id": "0",
   "metadata": {},
   "source": [
    "# Fourier Transform and Spectral Analyses"
   ]
  },
  {
   "cell_type": "markdown",
   "id": "1",
   "metadata": {},
   "source": [
    "[![The Most Important Algorithm Of All Time](fig/FT.png)<br/>\n",
    "The Most Important Algorithm Of All Time](https://youtu.be/nmgFG7PUHfo)\n",
    "\n"
   ]
  },
  {
   "cell_type": "markdown",
   "id": "2",
   "metadata": {},
   "source": [
    "## Introduction\n",
    "\n",
    "The Fourier Transform is a widely used method in many areas of science\n",
    "and engineering.\n",
    "It decomposes signals into sinusoidal components, providing direct\n",
    "access to their frequency content.\n",
    "It is essential for studying phenomena ranging from the distribution\n",
    "of matter in the universe to signals from distant astronomical\n",
    "sources."
   ]
  },
  {
   "cell_type": "markdown",
   "id": "3",
   "metadata": {},
   "source": [
    "The development of the Fast Fourier Transform (FFT) in the 20th\n",
    "century transformed computational methods.\n",
    "By reducing the cost of Fourier Transforms from $\\mathcal{O}(N^2)$ to\n",
    "$\\mathcal{O}(N \\log N)$, the FFT made it possible to analyze the large\n",
    "datasets common in astronomy and many other fields.\n",
    "Applications include:\n",
    "\n",
    "* Communication systems\n",
    "  * Signal processing:\n",
    "    Encoding and decoding digital signals for efficient transmission\n",
    "    across frequencies.\n",
    "  * Compression:\n",
    "    File formats such as MP3 (audio) and JPEG (image) exploit Fourier\n",
    "    methods to represent signals in frequency space and discard less\n",
    "    important components.\n",
    "* Radar and sonar\n",
    "  * Object detection:\n",
    "    Interpreting reflected waves to measure distance, speed, and\n",
    "    object properties.\n",
    "  * Doppler shifts:\n",
    "    Using frequency shifts in returns to determine velocities.\n",
    "* Astronomy\n",
    "  * Spectroscopy:\n",
    "    Extracting composition, temperature, and motion from light\n",
    "    spectra.\n",
    "  * Imaging:\n",
    "    Reconstructing high-resolution images from interferometric data.\n",
    "  * Very Long Baseline Interferometry (VLBI):\n",
    "    Combines telescopes across Earth to achieve extremely high\n",
    "    resolution.\n",
    "    It turns out that the cross-correlation of radio signals from each\n",
    "    telescope pair corresponds to a Fourier coefficient of the sky\n",
    "    brightness distribution."
   ]
  },
  {
   "cell_type": "markdown",
   "id": "4",
   "metadata": {},
   "source": [
    "### Historical Context and the Heat Equation\n",
    "\n",
    "![Jean-Baptiste Joseph Fourier](fig/Fourier.png)\n",
    "\n",
    "The origins of Fourier analysis trace back to the early 19th century\n",
    "with the work of\n",
    "[Jean-Baptiste Joseph Fourier (1768–1830)](https://en.wikipedia.org/wiki/Joseph_Fourier),\n",
    "a French mathematician and physicist.\n",
    "While studying heat flow, Fourier introduced the idea that any\n",
    "periodic function could be expressed as an infinite sum of sine and\n",
    "cosine functions.\n",
    "Today this is known as the Fourier Series."
   ]
  },
  {
   "cell_type": "markdown",
   "id": "5",
   "metadata": {},
   "source": [
    "The one-dimensional heat equation is:\n",
    "\\begin{align}\n",
    "  \\frac{\\partial u(x,t)}{\\partial t}\n",
    "  = \\alpha \\frac{\\partial^2 u(x,t)}{\\partial x^2},\n",
    "\\end{align}\n",
    "where $u(x,t)$ is the temperature distribution along a rod at position\n",
    "$x$ and time $t$, and $\\alpha$ is the thermal diffusivity constant of\n",
    "the material."
   ]
  },
  {
   "cell_type": "markdown",
   "id": "6",
   "metadata": {},
   "source": [
    "### Solution Using Separation of Variables\n",
    "\n",
    "We use the method of separation of variables to solve the heat\n",
    "equation.\n",
    "It involves assuming the solution can be written as a product of\n",
    "functions, each depending only on a single variable:\n",
    "\\begin{align}\n",
    "  u(x,t) = X(x) T(t).\n",
    "\\end{align}"
   ]
  },
  {
   "cell_type": "markdown",
   "id": "7",
   "metadata": {},
   "source": [
    "Substituting into the heat equation:\n",
    "\\begin{align}\n",
    "  X(x) \\frac{dT(t)}{dt}\n",
    "  = \\alpha T(t) \\frac{d^2 X(x)}{dx^2}.\n",
    "\\end{align}\n",
    "and dividing both sides by $X(x) T(t)$,\n",
    "\\begin{align}\n",
    "  \\frac{1}{T(t)} \\frac{dT(t)}{dt}\n",
    "  = \\alpha \\frac{1}{X(x)} \\frac{d^2 X(x)}{dx^2}.\n",
    "\\end{align}"
   ]
  },
  {
   "cell_type": "markdown",
   "id": "8",
   "metadata": {},
   "source": [
    "Since the left side depends only on $t$ and the right side only on\n",
    "$x$, both sides must equal a constant $-\\lambda$:\n",
    "\\begin{align}\n",
    "  \\frac{1}{T(t)} \\frac{dT(t)}{dt}\n",
    "  = -\\lambda = \\alpha \\frac{1}{X(x)} \\frac{d^2 X(x)}{dx^2}.\n",
    "\\end{align}\n",
    "This yields two ordinary differential equations (ODEs):\n",
    "1. Temporal Equation: $\\frac{dT(t)}{dt} + \\lambda T(t) = 0$.\n",
    "2. Spatial  Equation: $\\frac{d^2 X(x)}{dx^2} + \\frac{\\lambda}{\\alpha}\n",
    "   X(x) = 0$."
   ]
  },
  {
   "cell_type": "markdown",
   "id": "9",
   "metadata": {},
   "source": [
    "The general solution to the spatial equation is:\n",
    "\\begin{align}\n",
    "  X(x) = A \\sin(kx) + B \\cos(kx),\n",
    "\\end{align}\n",
    "where $k^2 = \\lambda/\\alpha$.\n",
    "This form of solution originates from the second-order derivative."
   ]
  },
  {
   "cell_type": "markdown",
   "id": "10",
   "metadata": {},
   "source": [
    "Assuming Dirichlet boundary conditions for a rod of length $L$:\n",
    "\\begin{align}\n",
    "  u(0,t) = u(L,t) = 0,\n",
    "\\end{align}\n",
    "we find:\n",
    "* At $x = 0$, $X(0) = 0 \\implies B = 0$.\n",
    "* At $x = L$, non-trivial solutions ($A \\neq 0$) require:\n",
    "  \\begin{align}\n",
    "    \\sin(kL) = 0 \\implies kL = n\\pi, \\quad n = 1,2,3,\\dots\n",
    "  \\end{align}"
   ]
  },
  {
   "cell_type": "markdown",
   "id": "11",
   "metadata": {},
   "source": [
    "Thus, the \"eigenvalues\" are:\n",
    "\\begin{align}\n",
    "  k_n = \\frac{n\\pi}{L},\n",
    "\\end{align}\n",
    "and the eigenfunctions are:\n",
    "\\begin{align}\n",
    "  X_n(x) = \\sin\\left(\\frac{n\\pi x}{L}\\right).\n",
    "\\end{align}"
   ]
  },
  {
   "cell_type": "markdown",
   "id": "12",
   "metadata": {},
   "source": [
    "With $\\lambda_n = \\alpha k_n^2$, the temporal ODE becomes:\n",
    "\\begin{align}\n",
    "  \\frac{dT_n(t)}{dt}\n",
    "  + \\alpha \\left(\\frac{n\\pi}{L}\\right)^2 T_n(t) = 0.\n",
    "\\end{align}\n",
    "The solution is\n",
    "\\begin{align}\n",
    "  T_n(t)\n",
    "  = C_n \\exp\\left[-\\alpha \\left(\\frac{n\\pi}{L}\\right)^2 t\\right].\n",
    "\\end{align}"
   ]
  },
  {
   "cell_type": "markdown",
   "id": "13",
   "metadata": {},
   "source": [
    "Combining spatial and temporal parts and realizing the heat equation\n",
    "is linear, the general solution is the sum of all solutions:\n",
    "\\begin{align}\n",
    "  u(x,t) = \\sum_{n=1}^\\infty C_n \\sin\\left(\\frac{n\\pi x}{L}\\right)\n",
    "  \\exp\\left[-\\alpha \\left( \\frac{n\\pi}{L} \\right)^2 t\\right],\n",
    "\\end{align}\n",
    "and the coefficients $C_n$ are determined from the initial condition\n",
    "$u(x,0) = f(x)$:\n",
    "\\begin{align}\n",
    "  C_n = \\frac{2}{L} \\int_0^L f(x) \\sin\\left(\\frac{n\\pi x}{L}\\right) dx.\n",
    "\\end{align}\n",
    "This represents the Fourier sine series expansion of $f(x)$."
   ]
  },
  {
   "cell_type": "markdown",
   "id": "14",
   "metadata": {},
   "source": [
    "### Inner Products and Hilbert Spaces\n",
    "\n",
    "An inner product in a function space is a generalization of the dot\n",
    "product from finite-dimensional vector spaces to infinite-dimensional\n",
    "spaces of functions.\n",
    "For functions $f(x)$ and $g(x)$ defined over an interval $[a, b]$, the\n",
    "inner product is:\n",
    "\\begin{align}\n",
    "  \\langle f, g \\rangle = \\int_a^b f(x) g^*(x) \\, dx,\n",
    "\\end{align}\n",
    "where $g^*(x)$ denotes the complex conjugate of $g(x)$.\n",
    "\n",
    "The sine and cosine functions used in the Fourier Series form an\n",
    "orthogonal (and can be normalized to be orthonormal) set with respect\n",
    "to this inner product:\n",
    "\\begin{align}\n",
    "  \\left\\langle\\cos\\left(\\frac{2n\\pi x}{L}\\right),\n",
    "              \\cos\\left(\\frac{2m\\pi x}{L}\\right)\\right\\rangle =\n",
    "  \\begin{cases}\n",
    "    0,   & n \\ne m, \\\\\n",
    "    L/2, & n = m,\n",
    "  \\end{cases}\n",
    "\\end{align}\n",
    "and similarly for the sine functions."
   ]
  },
  {
   "cell_type": "markdown",
   "id": "15",
   "metadata": {},
   "source": [
    "A Hilbert space is a complete vector space equipped with an inner\n",
    "product.\n",
    "Functions that are square=integrable over a given interval form a\n",
    "Hilbert space, denoted as $L^2([a, b])$.\n",
    "The Fourier Series represents functions in $L^2$ as infinite linear\n",
    "combinations of orthonormal basis functions.\n",
    "\n",
    "By projecting a function onto the orthonormal basis of sines and\n",
    "cosines, we obtain the Fourier coefficients, which serve as the\n",
    "\"coordinates\" of the function in this function space.\n",
    "Thus, the Fourier Series can be viewed as a coordinate transformation\n",
    "from the \"time\" or \"spatial\" domain to the \"frequency\" or \"wavenumber\"\n",
    "domain.\n",
    "This transformation is analogous to expressing a vector in terms of\n",
    "its components along orthogonal axes in finite-dimensional space."
   ]
  }
 ],
 "metadata": {
  "kernelspec": {
   "display_name": "Python 3 (ipykernel)",
   "language": "python",
   "name": "python3"
  },
  "language_info": {
   "codemirror_mode": {
    "name": "ipython",
    "version": 3
   },
   "file_extension": ".py",
   "mimetype": "text/x-python",
   "name": "python",
   "nbconvert_exporter": "python",
   "pygments_lexer": "ipython3",
   "version": "3.13.7"
  }
 },
 "nbformat": 4,
 "nbformat_minor": 5
}
