{
 "cells": [
  {
   "cell_type": "markdown",
   "id": "0",
   "metadata": {},
   "source": [
    "# ODE Integrators I: Explicit Methods"
   ]
  },
  {
   "cell_type": "markdown",
   "id": "1",
   "metadata": {},
   "source": [
    "Ordinary differential equations form the mathematical foundation of\n",
    "physics.\n",
    "They describe how systems evolve in time, e.g., Newton's second law of\n",
    "motion is\n",
    "\\begin{align}\n",
    "  f = m a = m \\frac{d^2x}{dt^2},\n",
    "\\end{align}\n",
    "which is a second-order ODE relating force to acceleration.\n",
    "More generally, an ODE relates a function of time to its time\n",
    "derivatives.\n",
    "\n",
    "While ODEs capture the essence of dynamics, analytic solutions are\n",
    "possible only in special cases.\n",
    "Most real systems involve nonlinear forces, damping, or external\n",
    "driving terms that make exact solutions impossible.\n",
    "Numerical integration allows us to approximate trajectories step by\n",
    "step and study systems far beyond what can be solved by hand."
   ]
  },
  {
   "cell_type": "markdown",
   "id": "2",
   "metadata": {},
   "source": [
    "## Problem Definition and Types of ODEs\n",
    "\n",
    "Consider two forms of first-order ODEs:\n",
    "\n",
    "1. Time-dependent forcing only:\n",
    "   \\begin{align}\n",
    "     \\frac{dx}{dt} = f(t).\n",
    "   \\end{align}\n",
    "   Here, the derivative depends only on time.\n",
    "   Solutions are obtained by direct integration:\n",
    "   \\begin{align}\n",
    "     x(t) = x(t_0) + \\int_{t_0}^{t} f(t') \\, dt'.\n",
    "   \\end{align}\n",
    "\n",
    "2. State- and time-dependent dynamics:\n",
    "   \\begin{align}\n",
    "     \\frac{dx}{dt} = f(x, t).\n",
    "   \\end{align}\n",
    "   Now, the derivative depends on the state $x$ itself.\n",
    "   The function we want to solve for also appears inside the RHS,\n",
    "   making direct integration impossible.\n",
    "   We cannot evaluate the integral without already knowing $x(t)$ at\n",
    "   intermediate points.\n",
    "\n",
    "The first type reduces to standard numerical quadrature (trapezoidal\n",
    "rule, Simpson's rule, etc.), which we studied earlier.\n",
    "The second case, nonlinear dependence on both $x$ and $t$, is the\n",
    "typical situation in physics.\n",
    "Examples include planetary orbits, nonlinear oscillators, chaotic\n",
    "systems, and interacting biological populations.\n",
    "In such cases:\n",
    "* Direct integration is often not feasible, the problem must be solved\n",
    "  as an initial value problem.\n",
    "* Analytic solutions are often unknown or intractable.\n",
    "* Numerical methods approximate the solution incrementally, using\n",
    "  small time steps to trace the system's evolution.\n",
    "\n",
    "By discretizing time and advancing step-by-step, we can model the\n",
    "behavior of even the most complex systems.\n",
    "This is the core idea behind numerical ODE integrators."
   ]
  }
 ],
 "metadata": {
  "kernelspec": {
   "display_name": "Python 3 (ipykernel)",
   "language": "python",
   "name": "python3"
  },
  "language_info": {
   "codemirror_mode": {
    "name": "ipython",
    "version": 3
   },
   "file_extension": ".py",
   "mimetype": "text/x-python",
   "name": "python",
   "nbconvert_exporter": "python",
   "pygments_lexer": "ipython3",
   "version": "3.13.7"
  }
 },
 "nbformat": 4,
 "nbformat_minor": 5
}
