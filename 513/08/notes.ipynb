{
 "cells": [
  {
   "cell_type": "markdown",
   "id": "0",
   "metadata": {},
   "source": [
    "# ODE Integrators I: Explicit Methods"
   ]
  },
  {
   "cell_type": "markdown",
   "id": "1",
   "metadata": {},
   "source": [
    "Ordinary differential equations form the mathematical foundation of\n",
    "physics.\n",
    "They describe how systems evolve in time, e.g., Newton's second law of\n",
    "motion is\n",
    "\\begin{align}\n",
    "  f = m a = m \\frac{d^2x}{dt^2},\n",
    "\\end{align}\n",
    "which is a second-order ODE relating force to acceleration.\n",
    "More generally, an ODE relates a function of time to its time\n",
    "derivatives.\n",
    "\n",
    "While ODEs capture the essence of dynamics, analytic solutions are\n",
    "possible only in special cases.\n",
    "Most real systems involve nonlinear forces, damping, or external\n",
    "driving terms that make exact solutions impossible.\n",
    "Numerical integration allows us to approximate trajectories step by\n",
    "step and study systems far beyond what can be solved by hand."
   ]
  },
  {
   "cell_type": "markdown",
   "id": "2",
   "metadata": {},
   "source": [
    "## Problem Definition and Types of ODEs\n",
    "\n",
    "Consider two forms of first-order ODEs:\n",
    "\n",
    "1. Time-dependent forcing only:\n",
    "   \\begin{align}\n",
    "     \\frac{dx}{dt} = f(t).\n",
    "   \\end{align}\n",
    "   Here, the derivative depends only on time.\n",
    "   Solutions are obtained by direct integration:\n",
    "   \\begin{align}\n",
    "     x(t) = x(t_0) + \\int_{t_0}^{t} f(t') \\, dt'.\n",
    "   \\end{align}\n",
    "\n",
    "2. State- and time-dependent dynamics:\n",
    "   \\begin{align}\n",
    "     \\frac{dx}{dt} = f(x, t).\n",
    "   \\end{align}\n",
    "   Now, the derivative depends on the state $x$ itself.\n",
    "   The function we want to solve for also appears inside the RHS,\n",
    "   making direct integration impossible.\n",
    "   We cannot evaluate the integral without already knowing $x(t)$ at\n",
    "   intermediate points.\n",
    "\n",
    "The first type reduces to standard numerical quadrature (trapezoidal\n",
    "rule, Simpson's rule, etc.), which we studied earlier.\n",
    "The second case, nonlinear dependence on both $x$ and $t$, is the\n",
    "typical situation in physics.\n",
    "Examples include planetary orbits, nonlinear oscillators, chaotic\n",
    "systems, and interacting biological populations.\n",
    "In such cases:\n",
    "* Direct integration is often not feasible, the problem must be solved\n",
    "  as an initial value problem (IVP).\n",
    "* Analytic solutions are often unknown or intractable.\n",
    "* Numerical methods approximate the solution incrementally, using\n",
    "  small time steps to trace the system's evolution.\n",
    "\n",
    "By discretizing time and advancing step-by-step, we can model the\n",
    "behavior of even the most complex systems.\n",
    "This is the core idea behind numerical ODE integrators."
   ]
  },
  {
   "cell_type": "markdown",
   "id": "3",
   "metadata": {},
   "source": [
    "## Euler's Method\n",
    "\n",
    "Euler's method is the simplest techniques for numerically solving\n",
    "ordinary differential equations.\n",
    "This method provides an easy way to approximate the solution of an IVP\n",
    "by advancing one small step at a time.\n",
    "\n",
    "We can apply Euler's method to an ODE of the form:\n",
    "\\begin{align}\n",
    "  \\frac{dx}{dt} = f(x, t), \\quad x(t_0) = x_0\n",
    "\\end{align}\n",
    "where $x_0$ is the initial value of $x$ at time $t = t_0$.\n",
    "However, as we will see below, it is usually not recommanded in\n",
    "pratical calculations because of its stability properties."
   ]
  },
  {
   "cell_type": "markdown",
   "id": "4",
   "metadata": {},
   "source": [
    "### Forward (Explicit) Euler Method\n",
    "\n",
    "There are three simple ways to derive Euler's method.\n",
    "The easiest way is simply hold $x$ fixed in $f(x, t)$ and apply the\n",
    "left Reimann sum.\n",
    "The left Reimann sum is first order in step size by approximating\n",
    "$f(x, t)$ as a constant.\n",
    "In this sense, holding $x$ is somewhat \"self-consistent\" in terms of\n",
    "approximation order."
   ]
  },
  {
   "cell_type": "markdown",
   "id": "5",
   "metadata": {},
   "source": [
    "We then recall the definition of a deriviative:\n",
    "\\begin{align}\n",
    "  f(x, t) = \\frac{dx}{dt} = \\lim_{\\Delta t\\rightarrow 0}\\frac{x(t + \\Delta t) - x(t)}{\\Delta t}.\n",
    "\\end{align}\n",
    "If we simply remove the limit and keep the \"finite difference\" part,\n",
    "then it is trivial to show\n",
    "\\begin{align}\n",
    "  x(t + \\Delta t) &\\approx x(t) + f(x(t), t)\\Delta t.\n",
    "\\end{align}\n",
    "Which is nothing but again the forward Euler method.\n",
    "While very intuitive, the above two derivations do not formally show\n",
    "the order of the Euler method."
   ]
  },
  {
   "cell_type": "markdown",
   "id": "6",
   "metadata": {},
   "source": [
    "We may also consider a numerical approximation to the solution of an\n",
    "ODE.\n",
    "We approximate the solution at time $t_{n+1} = t_n + \\Delta t$ by\n",
    "using the Taylor expansion:\n",
    "\\begin{align}\n",
    "  x(t_{n+1}) = x(t_n) + f(x(t_n), t_n) \\Delta t + \\mathcal{O}(\\Delta t^2)\n",
    "\\end{align}\n",
    "Neglecting the higher-order terms in the expansion, we obtain once\n",
    "again the Forward Euler Method:\n",
    "\\begin{align}\n",
    "  x_{n+1} = x_n + f(x_n, t_n) \\Delta t\n",
    "\\end{align}\n",
    "It is thus a step-by-step approach that proceeds by evaluating $f(x,\n",
    "t)$ at each time point and then advancing to the next point.\n",
    "It is an explicit method in 1st order."
   ]
  },
  {
   "cell_type": "markdown",
   "id": "7",
   "metadata": {},
   "source": [
    "Let's solve the simple differential equation:\n",
    "\\begin{align}\n",
    "  \\frac{dx}{dt} = \\lambda x(t)\n",
    "\\end{align}\n",
    "\n",
    "This equation has solution\n",
    "\\begin{align}\n",
    "  x(t) = \\exp[\\lambda(t-t_0)]\n",
    "\\end{align}\n",
    "\n",
    "If we choose $\\lambda = 1$ and $x(0) = 1$, the solutoin reduces to\n",
    "$x(t) = \\exp(t)$."
   ]
  },
  {
   "cell_type": "code",
   "execution_count": null,
   "id": "8",
   "metadata": {},
   "outputs": [],
   "source": [
    "# Let's visualize the solution:\n",
    "\n",
    "import numpy as np\n",
    "from matplotlib import pyplot as plt\n",
    "\n",
    "T = np.linspace(0, 2, 201)\n",
    "X = np.exp(T)\n",
    "\n",
    "plt.plot(T, X)"
   ]
  },
  {
   "cell_type": "code",
   "execution_count": null,
   "id": "9",
   "metadata": {},
   "outputs": [],
   "source": [
    "# Let's implement Euler's method, with history\n",
    "\n",
    "def forwardEuler(f, x, t, dt, n):\n",
    "    T = [t]\n",
    "    X = [x]\n",
    "    for i in range(n):\n",
    "        t += dt\n",
    "        x += f(x) * dt\n",
    "        T.append(t)\n",
    "        X.append(x)\n",
    "    return T, X"
   ]
  },
  {
   "cell_type": "code",
   "execution_count": null,
   "id": "10",
   "metadata": {},
   "outputs": [],
   "source": [
    "# Let's test Euler's method\n",
    "\n",
    "f = lambda x: x\n",
    "\n",
    "Tf, Xf = forwardEuler(f, 1, 0, 0.1, 20)\n",
    "\n",
    "plt.plot(T, X)\n",
    "plt.plot(Tf, Xf, 'o-')\n",
    "plt.xlabel('t')\n",
    "plt.ylabel('x')"
   ]
  },
  {
   "cell_type": "code",
   "execution_count": null,
   "id": "11",
   "metadata": {},
   "outputs": [],
   "source": [
    "# As always, we can study the convergence of the numerical method\n",
    "\n",
    "def errorf(N=200):\n",
    "    Tf, Xf = forwardEuler(f, 1, 0, 2/N, N)\n",
    "    X = np.exp(Tf)\n",
    "    return np.max(abs(Xf - X))\n",
    "\n",
    "N  = np.array([64, 128, 256, 512, 1024])\n",
    "Ef = np.array([errorf(n) for n in N])\n",
    "\n",
    "plt.loglog(N, 16/N, label='1/N')\n",
    "plt.loglog(N, Ef, 'o:', label='Forward Euler')\n",
    "plt.xlabel('N')\n",
    "plt.ylabel(r'$\\text{err} = \\max|x_\\text{numeric} - x|$')\n",
    "plt.legend()"
   ]
  }
 ],
 "metadata": {
  "kernelspec": {
   "display_name": "Python 3 (ipykernel)",
   "language": "python",
   "name": "python3"
  },
  "language_info": {
   "codemirror_mode": {
    "name": "ipython",
    "version": 3
   },
   "file_extension": ".py",
   "mimetype": "text/x-python",
   "name": "python",
   "nbconvert_exporter": "python",
   "pygments_lexer": "ipython3",
   "version": "3.13.7"
  }
 },
 "nbformat": 4,
 "nbformat_minor": 5
}
