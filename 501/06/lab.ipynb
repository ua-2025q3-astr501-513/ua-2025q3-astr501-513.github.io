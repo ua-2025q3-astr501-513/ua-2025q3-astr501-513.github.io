{
 "cells": [
  {
   "cell_type": "markdown",
   "id": "0",
   "metadata": {},
   "source": [
    "# Introduction to C/C++  [![Open In Colab](https://colab.research.google.com/assets/colab-badge.svg)](https://colab.research.google.com/github/ua-2025q3-astr501-513/ua-2025q3-astr501-513.github.io/blob/main/501/06/lab.ipynb)"
   ]
  },
  {
   "cell_type": "markdown",
   "id": "1",
   "metadata": {},
   "source": [
    "## Logistics\n",
    "\n",
    "Before we start, make sure you can compile and run a C program.\n",
    "On Linux or Mac, open a terminal; on Windows, open a Ubuntu Windows\n",
    "Subsystem for Linux (WSL) terminal.\n",
    "Then type:\n",
    "```bash\n",
    "gcc --version\n",
    "g++ --version\n",
    "```\n",
    "If you see version information, your compiler is ready.\n",
    "Otherwise, you may need to install your compiler tool chain.\n",
    "On Linux and WSL, type\n",
    "```bash\n",
    "sudo apt update\n",
    "sudo apt install gcc g++\n",
    "```\n",
    "After installation, you should be able to see version information of\n",
    "`gcc` and `g++`."
   ]
  },
  {
   "cell_type": "markdown",
   "id": "2",
   "metadata": {},
   "source": [
    "## The C Programming Language\n",
    "\n",
    "Modern computational physics often combines two needs:\n",
    "we want to write code quickly and test ideas fast;\n",
    "we also want our code to run efficiently on very large problems.\n",
    "Python is excellent for the first task, but it can be slow when\n",
    "computations involve many loops or very large arrays.\n",
    "C and C++ remain the standard tools when speed is critical.\n",
    "In fact, on the [TIOBE Index](https://www.tiobe.com/tiobe-index), C\n",
    "and C++ remains 2nd and 3rd places, after python."
   ]
  },
  {
   "cell_type": "markdown",
   "id": "3",
   "metadata": {
    "jp-MarkdownHeadingCollapsed": true
   },
   "source": [
    "![Ken Thompson and Dennis Ritchie](fig/ken+dmr.png)\n",
    "\n",
    "C was created in the early 1970s by Dennis Ritchie at Bell Labs.\n",
    "It was used to write the Unix operating system.\n",
    "Almost every modern language, including Python, is built on top of\n",
    "ideas from C.\n",
    "Many scientific codes that you will encounter in research—such as\n",
    "Gadget for cosmology or AthenaK for astrophysical fluid dynamics—are\n",
    "written in C or C++.\n",
    "Knowing C will let you read and even modify these codes."
   ]
  },
  {
   "cell_type": "markdown",
   "id": "4",
   "metadata": {},
   "source": [
    "The main reason C is powerful in computational physics is performance.\n",
    "C is compiled into machine code, so it runs very fast.\n",
    "It gives you direct control of memory, which is essential in large\n",
    "simulations.\n",
    "With this control comes responsibility: you must allocate and free\n",
    "memory yourself.\n",
    "This may seem inconvenient at first, but it teaches you how computers\n",
    "actually store and move data."
   ]
  },
  {
   "cell_type": "markdown",
   "id": "5",
   "metadata": {},
   "source": [
    "Python and C are not competitors, instead, they complement each other.\n",
    "You can use Python for prototyping, testing, and visualization.\n",
    "Once the core of your code is correct, you can rewrite the most\n",
    "expensive routines in C and call them from Python.\n",
    "This hybrid approach is common in modern computational physics.\n",
    "\n",
    "Today's lab will show you how to get started.\n",
    "We will begin with a very simple numerical method in C/C++.\n",
    "Then we will step up to a small gravitational simulation.\n",
    "The goal is not to master every detail of C/C++ in one day, but to\n",
    "understand why it is useful and to gain the confidence to write simple\n",
    "programs."
   ]
  },
  {
   "cell_type": "markdown",
   "id": "6",
   "metadata": {},
   "source": [
    "The best places to learn C are:\n",
    "\n",
    "* [**The C Programming Language**](https://www.amazon.com/Programming-Language-2nd-Brian-Kernighan/dp/0131103628) by Brian W. Kernighan and Dennis M. Ritchie\n",
    "* The [c-faq](https://c-faq.com)\n",
    "* And high quanlity open source software including the [GNU Scientific Library](https://savannah.gnu.org/git/?group=gsl), [FFTW](https://github.com/FFTW/fftw3), and [Linux Kernel](https://github.com/torvalds/linux).\n",
    "\n",
    "Many \"modern C\" books are full of errors, especially memory management.\n",
    "Avoid them.\n",
    "\n",
    "![C Book](fig/C-book.jpg)"
   ]
  },
  {
   "cell_type": "markdown",
   "id": "7",
   "metadata": {},
   "source": [
    "## Essential C Concepts for Python Programmers\n",
    "\n",
    "If you already know Python, C will feel both familiar and different.\n",
    "The basic ideas are the same: variables, loops, functions.\n",
    "But the details are stricter.\n",
    "C is a compiled, statically typed language.\n",
    "This means you must tell the computer exactly what kind of data each\n",
    "variable holds, and the compiler will translate your code into machine\n",
    "instructions before it runs."
   ]
  },
  {
   "cell_type": "markdown",
   "id": "8",
   "metadata": {},
   "source": [
    "For example, in Python you can write\n",
    "```python\n",
    "x = 3\n",
    "y = 3.5\n",
    "```\n",
    "and the interpreter adjusts the type automatically.\n",
    "In C, you must decide at the start:\n",
    "```c\n",
    "int x = 3;\n",
    "double y = 3.5; \n",
    "```\n",
    "An `int` stores integers, and a `double` stores floating-point\n",
    "numbers.\n",
    "You cannot freely switch between them."
   ]
  },
  {
   "cell_type": "markdown",
   "id": "9",
   "metadata": {},
   "source": [
    "Pointers are another new concept.\n",
    "A pointer is simply the memory address of a variable.\n",
    "If you declare\n",
    "```c\n",
    "double x = 2.0;\n",
    "double *p = &x;\n",
    "```\n",
    "then `p` stores the address of `x`.\n",
    "You can access the value with `*p`.\n",
    "Pointers are powerful because they let you share data across functions\n",
    "without copying."
   ]
  },
  {
   "cell_type": "markdown",
   "id": "10",
   "metadata": {},
   "source": [
    "Functions also look different.\n",
    "In Python you write\n",
    "```python\n",
    "def f(x):\n",
    "    return x * x\n",
    "```\n",
    "\n",
    "In C you must declare the type of the argument and the return value:\n",
    "```c\n",
    "double f(double x)\n",
    "{\n",
    "    return x * x;\n",
    "}\n",
    "```\n",
    "Every statement ends with a semicolon.\n",
    "Blocks are enclosed in braces `{ ... }`.\n",
    "\n",
    "Although C does not really support functional programming,\n",
    "you can mimic function programming by passing \"function pointers\".\n",
    "`f` from the above code is a point to the function `f()`."
   ]
  },
  {
   "cell_type": "markdown",
   "id": "11",
   "metadata": {},
   "source": [
    "C has no built-in lists like Python.\n",
    "The closest structure is the array.\n",
    "Arrays have fixed size and do not grow automatically.\n",
    "For example:\n",
    "```c\n",
    "double a[10]; \n",
    "```\n",
    "creates space for 10 floating-point numbers.\n",
    "You access them by\n",
    "```c\n",
    "double x = a[0]; \n",
    "```\n",
    "where the number in the square bracket is the \"offset\".\n",
    "\n",
    "Pointers and array names seem the same thing.\n",
    "However, they are different.\n",
    "See [c-faq](https://c-faq.com/aryptr/aryptr2.html) for details."
   ]
  },
  {
   "cell_type": "markdown",
   "id": "12",
   "metadata": {},
   "source": [
    "If you need a flexible array at runtime, you must allocate it\n",
    "explicitly with malloc.\n",
    "For instance:\n",
    "```c\n",
    "#include <stdlib.h>\n",
    "...\n",
    "double *a = (double *)malloc(n * sizeof(double)); \n",
    "```\n",
    "This gives you space for `n` numbers.\n",
    "When you are done, you must free the memory:\n",
    "```c\n",
    "free(a); \n",
    "```\n",
    "This brings us to one of the most important differences.\n",
    "Python handles memory automatically, while in C you are responsible\n",
    "for allocating and freeing.\n",
    "If you forget to free memory, your program will leak memory.\n",
    "If you access memory after it is freed, your program may crash.\n",
    "This sounds dangerous, but it also gives you much more control, which\n",
    "is valuable in performance-critical simulations."
   ]
  },
  {
   "cell_type": "markdown",
   "id": "13",
   "metadata": {},
   "source": [
    "Finally, note that every C program begins execution from a function\n",
    "called main.\n",
    "Even if you define many helper functions, the program always starts at\n",
    "```c\n",
    "int main(int argc, char *argv[])\n",
    "{\n",
    "    ...\n",
    "    return 0;\n",
    "}\n",
    "```\n",
    "This is the entry point of your program."
   ]
  },
  {
   "cell_type": "markdown",
   "id": "14",
   "metadata": {},
   "source": [
    "With these basic concepts: types, functions, arrays, memory, pointers,\n",
    "and main, you can already write useful numerical programs."
   ]
  },
  {
   "cell_type": "markdown",
   "id": "15",
   "metadata": {},
   "source": [
    "## Example: Forward Euler\n",
    "\n",
    "We begin with the forward Euler method.\n",
    "In Python we wrote a simple function that stepped forward in time by\n",
    "repeatedly updating the value of `x`."
   ]
  },
  {
   "cell_type": "code",
   "execution_count": null,
   "id": "16",
   "metadata": {},
   "outputs": [],
   "source": [
    "# https://ua-2025q3-astr501-513.github.io/notes-8/\n",
    "\n",
    "import numpy as np\n",
    "\n",
    "def Euler(f, x, t, dt, n):\n",
    "    X = [np.array(x)]\n",
    "    T = [np.array(t)]\n",
    "    for _ in range(n):\n",
    "        X.append(X[-1] + dt * f(X[-1]))\n",
    "        T.append(T[-1] + dt)\n",
    "    return np.array(X), np.array(T)\n",
    "\n",
    "def f(x):\n",
    "    return x\n",
    "\n",
    "n  = 20\n",
    "dt = 2.0 / n\n",
    "\n",
    "x0 = 1.0\n",
    "t0 = 0.0\n",
    "\n",
    "Xpy, Tpy = Euler(f, x0, t0, dt, n)"
   ]
  },
  {
   "cell_type": "code",
   "execution_count": null,
   "id": "17",
   "metadata": {},
   "outputs": [],
   "source": [
    "print(Xpy)\n",
    "print(Tpy)"
   ]
  },
  {
   "cell_type": "code",
   "execution_count": null,
   "id": "18",
   "metadata": {},
   "outputs": [],
   "source": [
    "from matplotlib import pyplot as plt\n",
    "\n",
    "plt.plot(Tpy, Xpy, 'o-')\n",
    "plt.xlabel('t')\n",
    "plt.ylabel('x')"
   ]
  },
  {
   "cell_type": "markdown",
   "id": "19",
   "metadata": {},
   "source": [
    "Translating the same idea into C requires a bit more work."
   ]
  },
  {
   "cell_type": "markdown",
   "id": "20",
   "metadata": {},
   "source": [
    "```c\n",
    "/*\n",
    " * Paste the following code into \"Euler.c\".\n",
    " * Compile it with `gcc Euler.c -o Euler` or `make Eule`.\n",
    " * Run with `./Euler` or `./Euler > output.txt`.\n",
    " */\n",
    "#include <stdlib.h>\n",
    "#include <stdio.h>\n",
    "\n",
    "struct solution {\n",
    "\tdouble *X;\n",
    "\tdouble *T;\n",
    "};\n",
    "\n",
    "struct solution\n",
    "Euler(double (*f)(double), double x, double t, double dt, size_t n)\n",
    "{\n",
    "\tstruct solution s = {\n",
    "\t\t(double *)malloc((n+1) * sizeof(double)),\n",
    "\t\t(double *)malloc((n+1) * sizeof(double))\n",
    "\t};\n",
    "\n",
    "\ts.X[0] = x;\n",
    "\ts.T[0] = t;\n",
    "\n",
    "\tfor (size_t i = 1; i <= n; ++i) {\n",
    "\t\ts.X[i] = s.X[i-1] + dt * f(s.X[i-1]);\n",
    "\t\ts.T[i] = s.T[i-1] + dt;\n",
    "\t}\n",
    "\n",
    "\treturn s;\n",
    "}\n",
    "\n",
    "void\n",
    "free_solution(struct solution s)\n",
    "{\n",
    "\tfree(s.X);\n",
    "\tfree(s.T);\n",
    "}\n",
    "\n",
    "double\n",
    "f(double x)\n",
    "{\n",
    "\treturn x;\n",
    "}\n",
    "\n",
    "int\n",
    "main(int argc, char *argv[])\n",
    "{\n",
    "\tsize_t n  = 20;\n",
    "\tdouble dt = 2.0 / n;\n",
    "\n",
    "\tdouble x0 = 1.0;\n",
    "\tdouble t0 = 0.0;\n",
    "\n",
    "\tstruct solution s = Euler(f, x0, t0, dt, n);\n",
    "\n",
    "\tfor (size_t i = 0; i <= n; ++i)\n",
    "\t\tprintf(\"%.9g \", s.X[i]);\n",
    "\tputchar('\\n');\n",
    "\n",
    "\tfor (size_t i = 0; i <= n; ++i)\n",
    "\t\tprintf(\"%.9g \", s.T[i]);\n",
    "\tputchar('\\n');\n",
    "\n",
    "\tfree_solution(s);\n",
    "\n",
    "\treturn 0;\n",
    "}\n",
    "```"
   ]
  },
  {
   "cell_type": "markdown",
   "id": "21",
   "metadata": {},
   "source": [
    "Note: you may use heredoc:\n",
    "```bash\n",
    "cat << 'EOF' > Euler.c\n",
    "...\n",
    "EOF\n",
    "```\n",
    "to redirect the above code block to a file."
   ]
  },
  {
   "cell_type": "markdown",
   "id": "22",
   "metadata": {},
   "source": [
    "This is not very elegant...\n",
    "But before we dive into the details of the code, let's try to run it.\n",
    "\n",
    "* Copy and paste the above code block into a file called \"Euler.c\".\n",
    "* Run `gcc Euler.c -o Euler` or `make Euler` in your terminal.\n",
    "  You should see a new file \"Euler\".\n",
    "* Run the code by `./Euler`.\n",
    "  It does not create any plot!\n",
    "  nstead, just a few numbers.\n",
    "  The numbers do match our python output.\n",
    "* We may use python to create a plot.\n",
    "  But this requires first saving the output to a file.\n",
    "  Run `./Euler > data.txt`.\n",
    "  Here, `>` is the bash redirection operator as we learned before.\n",
    "  It redirects the standard output of a program to a file.\n",
    "\n",
    "Once \"data.txt\" is created, run the following python cells:"
   ]
  },
  {
   "cell_type": "code",
   "execution_count": null,
   "id": "23",
   "metadata": {},
   "outputs": [],
   "source": [
    "from numpy import genfromtxt\n",
    "\n",
    "Xc, Tc = genfromtxt('data.txt')"
   ]
  },
  {
   "cell_type": "code",
   "execution_count": null,
   "id": "24",
   "metadata": {},
   "outputs": [],
   "source": [
    "print(np.max(abs(Xc - Xpy)))\n",
    "print(np.max(abs(Tc - Tpy)))"
   ]
  },
  {
   "cell_type": "code",
   "execution_count": null,
   "id": "25",
   "metadata": {},
   "outputs": [],
   "source": [
    "plt.plot(Tpy, Xpy, 'o-')\n",
    "plt.plot(Tc,  Xc,  '.-')\n",
    "plt.xlabel('t')\n",
    "plt.ylabel('x')"
   ]
  },
  {
   "cell_type": "code",
   "execution_count": null,
   "id": "26",
   "metadata": {},
   "outputs": [],
   "source": [
    "# HANDSON: Use `argc` and `argv` to get parameters at run time.\n",
    "# HINTS:   The `atof()` and `atoi()` C functions convert strings to\n",
    "#          doubles and integers.\n"
   ]
  },
  {
   "cell_type": "markdown",
   "id": "27",
   "metadata": {},
   "source": [
    "### Useful Compiler Flags\n",
    "\n",
    "When you compile with `gcc`, you can pass extra flags that control how\n",
    "the compiler behaves.\n",
    "These flags are important for developing scientific codes, where you\n",
    "care about correctness, performance, and debugging."
   ]
  },
  {
   "cell_type": "markdown",
   "id": "28",
   "metadata": {},
   "source": [
    "The most common flags are:\n",
    "```bash\n",
    "gcc Euler.c -o Euler -Wall -O2 -g\n",
    "```\n",
    "Here is what each flag means:\n",
    "\n",
    "* `-Wall` enables most warnings.\n",
    "  Warnings catch many common mistakes.\n",
    "  For example, using an uninitialized variable or forgetting a return\n",
    "  statement.\n",
    "  You should always use this flag.\n",
    "* `-Wextra` enables even more warnings.\n",
    "* `-Werror` turns warnings into errors.\n",
    "  This forces you to fix problems before running.\n",
    "* `-O0`, `-O1`, `-O2`, `-O3`, `-Ofast` control optimization.\n",
    "  `-O0` means no optimization and is easiest for debugging.\n",
    "  `-O2` is a good default for normal use.\n",
    "  `-O3` and `-Ofast` may make code faster but harder to debug.\n",
    "* `-g` adds debugging information.\n",
    "  Without it, tools like `gdb` cannot show you which line of code\n",
    "  crashed.\n",
    "* `-lm` links against the math library (needed for functions like\n",
    "  `sin`, `cos`, `pow`).\n",
    "* `-Lpath` tells the compiler where to look for libraries.\n",
    "* `-lname` tells it to link with a library called `libname.a` or\n",
    "  `libname.so`.\n",
    "\n",
    "A typical workflow is to compile with `-Wall -Wextra -O2 -g` during\n",
    "development.\n",
    "For production runs, you may add `-O3` if you need maximum speed."
   ]
  },
  {
   "cell_type": "code",
   "execution_count": null,
   "id": "29",
   "metadata": {},
   "outputs": [],
   "source": [
    "# HANDSON: try different combintation of compiling flags.\n",
    "#          Inspect the size and properties \n"
   ]
  },
  {
   "cell_type": "markdown",
   "id": "30",
   "metadata": {},
   "source": [
    "## The Compilation Pipeline\n",
    "\n",
    "Every C program passes through several stages before it becomes an\n",
    "executable.\n",
    "Understanding these stages helps you debug, optimize, and eventually\n",
    "build larger projects.\n",
    "\n",
    "First, the preprocessor runs.\n",
    "It handles all lines that begin with `#`, such as\n",
    "`#include <stdio.h>`.\n",
    "Header files are inserted, and macros are expanded.\n",
    "The output is a translation unit, which is still text but with all\n",
    "includes resolved.\n",
    "\n",
    "Second, the compiler translates this into assembly.\n",
    "Here your C code becomes instructions for the CPU, but still in\n",
    "human-readable form.\n",
    "\n",
    "Third, the assembler converts the assembly into machine code stored in\n",
    "an object file (with `.o` extension).\n",
    "This file contains binary instructions but is not yet a runnable\n",
    "program.\n",
    "\n",
    "Finally, the linker combines object files and external libraries into\n",
    "a single executable.\n",
    "This is the file you can actually run from the terminal."
   ]
  },
  {
   "cell_type": "markdown",
   "id": "31",
   "metadata": {},
   "source": [
    "The flow looks like this:\n",
    "```\n",
    "Euler.c\n",
    "  |\n",
    "  |  Preprocessor (gcc -E)\n",
    "  v\n",
    "Euler.i\n",
    "  |\n",
    "  |  Compiler (gcc -S)\n",
    "  v\n",
    "Euler.s\n",
    "  |\n",
    "  |  Assembler (gcc -c)\n",
    "  v\n",
    "Euler.o\n",
    "  |\n",
    "  |  Linker (gcc -o)\n",
    "  v\n",
    "Euler\n",
    "```"
   ]
  },
  {
   "cell_type": "markdown",
   "id": "32",
   "metadata": {},
   "source": [
    "You can step through these stages explicitly:\n",
    "```bash\n",
    "gcc Euler.c -E  > Euler.i\n",
    "gcc Euler.i -S -o Euler.s\n",
    "gcc Euler.s -c -o Euler.o\n",
    "gcc Euler.o -o    Euler\n",
    "```"
   ]
  },
  {
   "cell_type": "code",
   "execution_count": null,
   "id": "33",
   "metadata": {},
   "outputs": [],
   "source": [
    "# HANDSON: Inspect each of the intermeida files.\n",
    "# HINTS:   Use `objdump` to view object files and `nm` to view\n",
    "#          symbols in binaries.\n"
   ]
  },
  {
   "cell_type": "markdown",
   "id": "34",
   "metadata": {},
   "source": [
    "Although most of the time, just like above, we just type one line:\n",
    "```bash\n",
    "gcc Euler.c -o Euler -Wall -Wextra -O2 -g\n",
    "```"
   ]
  },
  {
   "cell_type": "markdown",
   "id": "35",
   "metadata": {},
   "source": [
    "### Multi-Object Build\n",
    "\n",
    "Suppose we split the Euler solver into three files.\n",
    "The first file, \"Euler.c\", contains only the solver:"
   ]
  },
  {
   "cell_type": "markdown",
   "id": "36",
   "metadata": {},
   "source": [
    "```c\n",
    "#include <stdlib.h>\n",
    "#include \"Euler.h\"\n",
    "\n",
    "struct solution\n",
    "Euler(double (*f)(double), double x, double t, double dt, size_t n)\n",
    "{\n",
    "\tstruct solution s = {\n",
    "\t\t(double *)malloc((n+1) * sizeof(double)),\n",
    "\t\t(double *)malloc((n+1) * sizeof(double))\n",
    "\t};\n",
    "\n",
    "\ts.X[0] = x;\n",
    "\ts.T[0] = t;\n",
    "\n",
    "\tfor (size_t i = 1; i <= n; ++i) {\n",
    "\t\ts.X[i] = s.X[i-1] + dt * f(s.X[i-1]);\n",
    "\t\ts.T[i] = s.T[i-1] + dt;\n",
    "\t}\n",
    "\n",
    "\treturn s;\n",
    "}\n",
    "\n",
    "void\n",
    "free_solution(struct solution s)\n",
    "{\n",
    "\tfree(s.X);\n",
    "\tfree(s.T);\n",
    "}\n",
    "```"
   ]
  },
  {
   "cell_type": "markdown",
   "id": "37",
   "metadata": {},
   "source": [
    "The header file, \"Euler.h\", declares the interface:"
   ]
  },
  {
   "cell_type": "markdown",
   "id": "38",
   "metadata": {},
   "source": [
    "```c\n",
    "#ifndef EULER_H\n",
    "#define EULER_H\n",
    "\n",
    "struct solution {\n",
    "\tdouble *T;\n",
    "\tdouble *X;\n",
    "};\n",
    "\n",
    "struct solution Euler(double (*)(double), double, double, double, size_t);\n",
    "void free_solution(struct solution);\n",
    "\n",
    "#endif /* EULER_H */\n",
    "```"
   ]
  },
  {
   "cell_type": "markdown",
   "id": "39",
   "metadata": {},
   "source": [
    "So the main program, \"main.c\", now looks much simpler:"
   ]
  },
  {
   "cell_type": "markdown",
   "id": "40",
   "metadata": {},
   "source": [
    "```c\n",
    "#include <stdio.h>\n",
    "#include \"Euler.h\"\n",
    "\n",
    "double\n",
    "f(double x)\n",
    "{\n",
    "\treturn x;\n",
    "}\n",
    "\n",
    "int\n",
    "main(int argc, char *argv[])\n",
    "{\n",
    "\tsize_t n  = 20;\n",
    "\tdouble dt = 2.0 / n;\n",
    "\n",
    "\tdouble x0 = 1.0;\n",
    "\tdouble t0 = 0.0;\n",
    "\n",
    "\tstruct solution s = Euler(f, x0, t0, dt, n);\n",
    "\n",
    "\tfor (size_t i = 0; i <= n; ++i)\n",
    "\t\tprintf(\"%.9g \", s.X[i]);\n",
    "\tputchar('\\n');\n",
    "\tfor (size_t i = 0; i <= n; ++i)\n",
    "\t\tprintf(\"%.9g \", s.T[i]);\n",
    "\tputchar('\\n');\n",
    "\n",
    "\tfree_solution(s);\n",
    "\n",
    "\treturn 0;\n",
    "}\n",
    "```"
   ]
  },
  {
   "cell_type": "markdown",
   "id": "41",
   "metadata": {},
   "source": [
    "Even before creating library, we can also make compilation more\n",
    "efficient by compiling the different files separately.\n",
    "```bash\n",
    "gcc -c Euler.c -o Euler.o -Wall -Wextra\n",
    "gcc -c main.c  -o main.o  -Wall -Wextra\n",
    "gcc main.o Euler.o -o Euler -O2 -g\n",
    "```\n",
    "This multi-stage compilation allows us to compile only the changed\n",
    "files.\n",
    "For large project, this can significantly save your compilation time."
   ]
  },
  {
   "cell_type": "code",
   "execution_count": null,
   "id": "42",
   "metadata": {},
   "outputs": [],
   "source": [
    "# HANDSON: Create a `Makefile` to track the dependence of the above\n",
    "#          multi-stage compilation.\n"
   ]
  },
  {
   "cell_type": "markdown",
   "id": "43",
   "metadata": {},
   "source": [
    "### Linking with Static Libraries\n",
    "\n",
    "When we linked `main.o` with `euler.o`, we directly included one\n",
    "object file.\n",
    "For larger projects, it is better to package many object files into a\n",
    "library.\n",
    "There are two common types: static libraries and shared libraries."
   ]
  },
  {
   "cell_type": "markdown",
   "id": "44",
   "metadata": {},
   "source": [
    "A static library is an archive of object files.\n",
    "It has the extension .a on Unix systems.\n",
    "When you link against a static library, the linker copies the needed\n",
    "object code into your executable.\n",
    "The final executable contains everything it needs.\n",
    "\n",
    "Let's build a static library for our Euler solver.\n",
    "We already have an object file `Euler.o`.\n",
    "We then use the `ar` tool (archiver) to create a library:\n",
    "```bash\n",
    "ar rcs libEuler.a Euler.o\n",
    "```"
   ]
  },
  {
   "cell_type": "markdown",
   "id": "45",
   "metadata": {},
   "source": [
    "Now you have a static library called `libEuler.a`.\n",
    "To link it with your program:\n",
    "```bash\n",
    "gcc main.c -L. -lEuler -o Euler\n",
    "```\n",
    "\n",
    "The flag `-L.` tells the linker to look in the current directory.\n",
    "The flag `-lEuler` tells it to link against `libEuler.a`.\n",
    "You do not type the `lib` prefix or `.a` suffix.\n",
    "\n",
    "When you run `./Euler`, it behaves the same as before.\n",
    "The difference is that the Euler solver code has been copied into the\n",
    "executable."
   ]
  },
  {
   "cell_type": "markdown",
   "id": "46",
   "metadata": {},
   "source": [
    "### Linking with Dynamic Libraries\n",
    "\n",
    "A shared library is different.\n",
    "Instead of copying code into the executable, the linker records that\n",
    "the code lives in a separate `.so` file (shared object).\n",
    "The executable will load the library at runtime.\n",
    "Shared libraries save disk space, reduce memory usage when multiple\n",
    "programs share the same code, and make it possible to update the\n",
    "library without recompiling the whole program.\n"
   ]
  },
  {
   "cell_type": "markdown",
   "id": "47",
   "metadata": {},
   "source": [
    "Let's build a shared library for Euler.\n",
    "\n",
    "Compile with the `-fPIC` flag (position-independent code):\n",
    "```bash\n",
    "gcc -fPIC -c Euler.c -o Euler.o\n",
    "```\n",
    "\n",
    "Then create the shared library:\n",
    "```bash\n",
    "gcc -shared Euler.o -o libEuler.so\n",
    "```"
   ]
  },
  {
   "cell_type": "markdown",
   "id": "48",
   "metadata": {},
   "source": [
    "Now compile the main program and link against it:\n",
    "```bash\n",
    "gcc main.c -L. -lEuler -o Euler\n",
    "```\n",
    "\n",
    "When you run `./Euler`, the system will try to load `libEuler.so`.\n",
    "If it is in the current directory, you may need to update the library\n",
    "path:\n",
    "```bash\n",
    "export LD_LIBRARY_PATH=.\n",
    "./Euler\n",
    "```\n",
    "\n",
    "Now the executable is much smaller.\n",
    "The code for Euler lives in `libEuler.so`, and the program loads it\n",
    "dynamically when it runs."
   ]
  },
  {
   "cell_type": "markdown",
   "id": "49",
   "metadata": {},
   "source": [
    "The main difference between static and shared libraries is in\n",
    "flexibility and distribution.\n",
    "Static libraries make executables larger but self-contained.\n",
    "Shared libraries keep executables smaller and easier to update, but\n",
    "require the `.so` file to be available on the system.\n",
    "\n",
    "In scientific computing, both are used.\n",
    "Many system libraries, such as `libm.so` (math functions), are shared.\n",
    "Some performance-critical libraries, such as BLAS, are often linked\n",
    "statically for speed and reproducibility."
   ]
  },
  {
   "cell_type": "markdown",
   "id": "50",
   "metadata": {},
   "source": [
    "## From C to C++\n",
    "\n",
    "C is powerful, but it can feel low-level.\n",
    "You must handle memory yourself and use structs when you want to group\n",
    "data.\n",
    "C++ extends C with features that make programs easier to organize and\n",
    "safer to use.\n",
    "Most large scientific codes today use C++, often mixed with C."
   ]
  },
  {
   "cell_type": "markdown",
   "id": "51",
   "metadata": {},
   "source": [
    "![Bjarne Stroustrup](fig/bs.png)\n",
    "\n",
    "C++ was created in the early 1980s by Bjarne Stroustrup at Bell Labs.\n",
    "Stroustrup wanted the efficiency and low-level control of C, but with\n",
    "features that made it easier to manage large programs.\n",
    "He called his early work \"C with Classes\".\n",
    "Over time, this grew into C++, which added object-oriented\n",
    "programming, stronger type checking, and later modern features such as\n",
    "templates and the standard library."
   ]
  },
  {
   "cell_type": "markdown",
   "id": "52",
   "metadata": {},
   "source": [
    "One key addition in C++ is class.\n",
    "A class is like a struct, but it can also contain functions.\n",
    "This lets you group data and the functions that act on it together.\n",
    "In our Euler example, we had a struct with arrays `T` and `X`, plus\n",
    "separate functions to free the memory.\n",
    "In C++ we can wrap this into a class."
   ]
  },
  {
   "cell_type": "markdown",
   "id": "53",
   "metadata": {},
   "source": [
    "Here is a minimal version of the same Euler solver written in C++:"
   ]
  },
  {
   "cell_type": "markdown",
   "id": "54",
   "metadata": {},
   "source": [
    "```c\n",
    "// Paste the following code into \"Euler++.cxx\".\n",
    "// Compile it with `g++ Euler++.cxx -o Euler++`.\n",
    "// Run with `./Euler++` or `./Euler++ > output.txt`.\n",
    "\n",
    "#include <vector>\n",
    "#include <iostream>\n",
    "\n",
    "using namespace std;\n",
    "\n",
    "class Euler\n",
    "{\n",
    "public:\n",
    "\tvector<double> T;\n",
    "\tvector<double> X;\n",
    "\n",
    "\tEuler(double (*f)(double), double x, double t, double dt, size_t n)\n",
    "\t{\n",
    "\t\tX.resize(n+1);\n",
    "\t\tT.resize(n+1);\n",
    "\n",
    "\t\tX[0] = x;\n",
    "\t\tT[0] = t;\n",
    "\n",
    "\t\tfor (size_t i = 1; i <= n; ++i) {\n",
    "\t\t\tX[i] = X[i-1] + dt * f(X[i-1]);\n",
    "\t\t\tT[i] = T[i-1] + dt;\n",
    "\t\t}\n",
    "\t}\n",
    "};\n",
    "\n",
    "double\n",
    "f(double x)\n",
    "{\n",
    "\treturn x;\n",
    "}\n",
    "\n",
    "int\n",
    "main(int argc, char *argv[])\n",
    "{\n",
    "\tsize_t n  = 20;\n",
    "\tdouble dt = 2.0 / n;\n",
    "\n",
    "\tdouble x0 = 1.0;\n",
    "\tdouble t0 = 0.0;\n",
    "\n",
    "\tEuler s(f, x0, t0, dt, n);\n",
    "\n",
    "\tfor (int i = 0; i <= n; ++i)\n",
    "\t\tcout << s.X[i] << \" \";\n",
    "\tcout << endl;\n",
    "\n",
    "\tfor (int i = 0; i <= n; ++i)\n",
    "\t\tcout << s.T[i] << \" \";\n",
    "\tcout << endl;\n",
    "\n",
    "\treturn 0;\n",
    "}\n",
    "```"
   ]
  },
  {
   "cell_type": "markdown",
   "id": "55",
   "metadata": {},
   "source": [
    "There are several important differences.\n",
    "Instead of raw arrays with malloc and free, we use `std::vector`.\n",
    "Vectors manage memory automatically, so we do not need to call free.\n",
    "We also use `std::cout` for printing, which is the C++ alternative to\n",
    "`printf()`.\n",
    "\n",
    "The constructor of the class Solution builds the arrays and fills them\n",
    "with values.\n",
    "This makes the code shorter and less error-prone.\n",
    "In C++ we can rely on the language to clean up memory when objects go\n",
    "out of scope.\n",
    "\n",
    "This example shows the main advantage of C++ for scientific computing:\n",
    "you can keep the performance of C but write code that is more\n",
    "structured and easier to maintain."
   ]
  },
  {
   "cell_type": "markdown",
   "id": "56",
   "metadata": {},
   "source": [
    "* Copy and paste the above code block into a file called\n",
    "  \"Euler++.cxx\".\n",
    "* Run `g++ Euler++.cxx -o Euler++` in your terminal.\n",
    "  You should see a new file \"Euler++\".\n",
    "* Run `./Euler++ > data++.txt`.\n",
    "\n",
    "Once \"data++.txt\" is created, run the following python cells:"
   ]
  },
  {
   "cell_type": "code",
   "execution_count": null,
   "id": "57",
   "metadata": {},
   "outputs": [],
   "source": [
    "Xcxx, Tcxx = genfromtxt('data++.txt')"
   ]
  },
  {
   "cell_type": "code",
   "execution_count": null,
   "id": "58",
   "metadata": {},
   "outputs": [],
   "source": [
    "print(np.max(abs(Xcxx - Xpy)))\n",
    "print(np.max(abs(Tcxx - Tpy)))"
   ]
  },
  {
   "cell_type": "code",
   "execution_count": null,
   "id": "59",
   "metadata": {},
   "outputs": [],
   "source": [
    "plt.plot(Tpy,  Xpy,  'o-')\n",
    "plt.plot(Tc,   Xc,   '.-')\n",
    "plt.plot(Tcxx, Xcxx, '--')\n",
    "plt.xlabel('t')\n",
    "plt.ylabel('x')"
   ]
  },
  {
   "cell_type": "code",
   "execution_count": null,
   "id": "60",
   "metadata": {},
   "outputs": [],
   "source": [
    "# HANDSON: Use `argc` and `argv` to get parameters at run time.\n",
    "# HINTS:   The `atof()` and `atoi()` C functions convert strings to\n",
    "#          doubles and integers.\n"
   ]
  },
  {
   "cell_type": "markdown",
   "id": "61",
   "metadata": {},
   "source": [
    "## $n$-body Simulation in C\n",
    "\n",
    "We now return to C and build something more interesting: an $n$-body\n",
    "solver.\n",
    "We want to model a system of particles interacting through Newton's\n",
    "law of gravitation.\n",
    "Each particle feels a force from every other particle, and its\n",
    "position and velocity evolve in time.\n",
    "\n",
    "We have already written and optimized a Python version of this code.\n",
    "Our goal now is to translate that logic into C.\n",
    "The main difference is that in C we must manage arrays and memory\n",
    "directly, and we must write explicit loops to compute forces.\n",
    "This may feel more verbose than Python, but it will also run much\n",
    "faster (other than the JAX accelerated versions), especially when the\n",
    "number of particles becomes large."
   ]
  },
  {
   "cell_type": "markdown",
   "id": "62",
   "metadata": {},
   "source": [
    "### Header File\n",
    "\n",
    "Seeing our previous multi-object build, let's follow that pratice to\n",
    "write our $n$-body code in multiple source files.\n",
    "In order for the different files to understand the data structure and\n",
    "function prototype, let's first create a header file \"nbody.h\"."
   ]
  },
  {
   "cell_type": "markdown",
   "id": "63",
   "metadata": {},
   "source": [
    "```c\n",
    "#ifndef NBODY_H\n",
    "#define NBODY_H\n",
    "\n",
    "#include <stddef.h> /* for size_t */\n",
    "\n",
    "typedef double scalar;\n",
    "\n",
    "typedef struct {\n",
    "\tscalar x, y, z;\n",
    "} vector;\n",
    "\n",
    "void acc     (scalar *, vector *,           vector *, size_t);\n",
    "void leapfrog(scalar *, vector *, vector *, vector *, size_t, scalar);\n",
    "\n",
    "#endif /* NBODY_H */\n",
    "```"
   ]
  },
  {
   "cell_type": "markdown",
   "id": "64",
   "metadata": {},
   "source": [
    "We defined a type alias `scalar` for `double`.\n",
    "I.e., `typedef double scalar;`.\n",
    "We defined a vector structure to represent a 3D vector with components\n",
    "`x`, `y`, and `z` of type `scalar`.\n",
    "We also declared the following function prototypes:\n",
    "* `void acc     (scalar *m, vector *r,            vector *a, size_t n);`\n",
    "* `void leapfrog(scalar *m, vector *r, vector *v, vector *a, size_t n, scalar dt);`\n",
    "\n",
    "Note that variable names in function prototypes are optional."
   ]
  },
  {
   "cell_type": "markdown",
   "id": "65",
   "metadata": {},
   "source": [
    "### Gravitational Acceleration\n",
    "\n",
    "Next, we more-or-less translate `acc8()` into C.\n",
    "Recall from our last lab:\n",
    "\n",
    "```python\n",
    "# O3. Use fast operations\n",
    "\n",
    "def acc7(m, r): # this is a modification of acc4()\n",
    "    \n",
    "    n = len(m)\n",
    "    a = []\n",
    "    for i in range(n):\n",
    "        axi, ayi, azi = 0, 0, 0\n",
    "        for j in range(n):\n",
    "            if j != i:\n",
    "                xi, yi, zi = r[i]\n",
    "                xj, yj, zj = r[j]\n",
    "\n",
    "                dx = xi - xj\n",
    "                dy = yi - yj\n",
    "                dz = zi - zj\n",
    "\n",
    "                rrr = (dx*dx + dy*dy + dz*dz)**(3/2)\n",
    "                f   = - m[j] / rrr\n",
    "\n",
    "                axi += f * dx\n",
    "                ayi += f * dy\n",
    "                azi += f * dz\n",
    "\n",
    "        a.append((axi, ayi, azi))\n",
    "\n",
    "    return a\n",
    "```"
   ]
  },
  {
   "cell_type": "markdown",
   "id": "66",
   "metadata": {},
   "source": [
    "The accelerate function calculates the gravitational acceleration\n",
    "on each body in an $n$-body system.\n",
    "The acceleration on the $i$-th body is computed by summing the\n",
    "contributions from all other bodies $j$ (with $j \\neq i$) according to\n",
    "\\begin{align}\n",
    "  \\mathbf{a}_i = \\sum_{j=1}^n m_j \\frac{\\mathbf{r}_i - \\mathbf{r}_j}{|\\mathbf{r}_i - \\mathbf{r}_j|^3}.\n",
    "\\end{align}\n",
    "Let's rewrite this in C and put it in \"acc.c\"."
   ]
  },
  {
   "cell_type": "markdown",
   "id": "67",
   "metadata": {},
   "source": [
    "```c\n",
    "#include \"nbody.h\"\n",
    "#include <math.h>\n",
    "\n",
    "void\n",
    "acc(scalar *m, vector *r, vector *a, size_t n)\n",
    "{\n",
    "\tfor(size_t i = 0; i < n; ++i) {\n",
    "\t\ta[i].x = 0;\n",
    "\t\ta[i].y = 0;\n",
    "\t\ta[i].z = 0;\n",
    "\n",
    "\t\tfor(int j = 0; j < n; ++j) {\n",
    "\n",
    "\t\t\tif(j == i)\n",
    "\t\t\t\tcontinue;\n",
    "\n",
    "\t\t\tvector dr = {\n",
    "\t\t\t\tr[i].x - r[j].x,\n",
    "\t\t\t\tr[i].y - r[j].y,\n",
    "\t\t\t\tr[i].z - r[j].z\n",
    "\t\t\t};\n",
    "\n",
    "\t\t\tscalar rr = dr.x * dr.x + dr.y * dr.y + dr.z * dr.z;\n",
    "\t\t\tscalar f  = - m[j] / (rr * sqrt(rr));\n",
    "\n",
    "\t\t\ta[i].x += f * dr.x;\n",
    "\t\t\ta[i].y += f * dr.y;\n",
    "\t\t\ta[i].z += f * dr.z;\n",
    "\t\t}\n",
    "\t}\n",
    "}\n"
   ]
  },
  {
   "cell_type": "markdown",
   "id": "68",
   "metadata": {},
   "source": [
    "### Leapfrog Integrator\n",
    "\n",
    "The next function to look into is `leapfrog4()`.\n",
    "Recall from our last lab:\n",
    "```python\n",
    "# O4. Use NumPy\n",
    "\n",
    "def leapfrog4(m, r0, v0, a0, dt, acc=acc6):\n",
    "\n",
    "    # TODO: rewrite the following code using numpy\n",
    "    \n",
    "    n  = len(m)\n",
    "\n",
    "    # vh = v0 + 0.5 * dt * a0\n",
    "    vh = [[v0xi + 0.5 * dt * a0xi\n",
    "               for v0xi, a0xi in zip(v0i, a0i)]\n",
    "               for v0i,  a0i  in zip(v0,  a0 )]\n",
    "\n",
    "    # r1 = r0 + dt * vh\n",
    "    r1 = [[x0i + dt * vhxi\n",
    "               for x0i, vhxi in zip(r0i, vhi)]\n",
    "               for r0i, vhi  in zip(r0,  vh )]\n",
    "\n",
    "    # v1 = vh + 0.5 * dt * a1\n",
    "    a1 = acc(m, r1)\n",
    "    v1 = [[vhxi + 0.5 * dt * a1xi\n",
    "               for vhxi, a1xi in zip(vhi, a1i)]\n",
    "               for vhi,  a1i, in zip(vh,  a1 )]\n",
    "\n",
    "    return r1, v1, a1\n",
    "```\n",
    "which implements the kick-drift-kick leapfrog algorithm discussed in\n",
    "lecture ODE II."
   ]
  },
  {
   "cell_type": "markdown",
   "id": "69",
   "metadata": {},
   "source": [
    "The C code we can put in \"leapfrog.c\" is:"
   ]
  },
  {
   "cell_type": "markdown",
   "id": "70",
   "metadata": {},
   "source": [
    "```c\n",
    "#include \"nbody.h\"\n",
    "\n",
    "void\n",
    "leapfrog(scalar *m, vector *r, vector *v, vector *a, size_t n, scalar dt)\n",
    "{\n",
    "\tscalar ht = 0.5 * dt;\n",
    "\n",
    "\tfor(size_t i = 0; i < n; ++i) {\n",
    "\t\tv[i].x += ht * a[i].x;\n",
    "\t\tv[i].y += ht * a[i].y;\n",
    "\t\tv[i].z += ht * a[i].z;\n",
    "\t}\n",
    "\n",
    "\tfor(size_t i = 0; i < n; ++i) {\n",
    "\t\tr[i].x += dt * v[i].x;\n",
    "\t\tr[i].y += dt * v[i].y;\n",
    "\t\tr[i].z += dt * v[i].z;\n",
    "\t}\n",
    "\n",
    "\tacc(m, r, a, n);\n",
    "\n",
    "\tfor(size_t i = 0; i < n; ++i) {\n",
    "\t\tv[i].x += ht * a[i].x;\n",
    "\t\tv[i].y += ht * a[i].y;\n",
    "\t\tv[i].z += ht * a[i].z;\n",
    "\t}\n",
    "}\n"
   ]
  },
  {
   "cell_type": "markdown",
   "id": "71",
   "metadata": {},
   "source": [
    "### Print and Main Functions\n",
    "\n",
    "Finally, we have to write print and main functions.\n",
    "To keep things simple, let's avoid the input part (for now) and put\n",
    "things in \"main.c\"."
   ]
  },
  {
   "cell_type": "markdown",
   "id": "72",
   "metadata": {},
   "source": [
    "```c\n",
    "#include \"nbody.h\"\n",
    "#include <stdlib.h>\n",
    "#include <stdio.h>\n",
    "#include <math.h>\n",
    "\n",
    "void\n",
    "printvs(vector *v, size_t n)\n",
    "{\n",
    "\tfor(size_t i = 0; i < n; ++i)\n",
    "\t\tprintf(\"%f %f %f\\t\", v[i].x, v[i].y, v[i].z);\n",
    "\tprintf(\"\\n\");\n",
    "}\n",
    "\n",
    "int\n",
    "main(int argc, char *argv[])\n",
    "{\n",
    "\tsize_t n  = 3;\n",
    "\tsize_t nt = 1000;\n",
    "\tscalar dt = 2 * M_PI / 3 / nt;\n",
    "\n",
    "\tscalar m[] = {1, 1, 1};\n",
    "\tvector r[] = {{+0.9700436,   -0.24308753, 0},\n",
    "\t              {-0.9700436,   +0.24308753, 0},\n",
    "\t              {0, 0, 0}};\n",
    "\tvector v[] = {{+0.466203685, +0.43236573, 0},\n",
    "\t              {+0.466203685, +0.43236573, 0},\n",
    "\t              {-0.93240737,  -0.86473146, 0}};\n",
    "\tvector a[n];\n",
    "\n",
    "\tacc(m, r, a, n);\n",
    "\n",
    "\tfor(size_t i = 0; i < nt; ++i) {\n",
    "\t\tleapfrog(m, r, v, a, n, dt);\n",
    "\t\tprintvs(r, n);\n",
    "\t}\n",
    "\n",
    "\treturn 0;\n",
    "}\n",
    "```"
   ]
  },
  {
   "cell_type": "markdown",
   "id": "73",
   "metadata": {},
   "source": [
    "### Building the Code\n",
    "\n",
    "To build the program, let's create a \"Makefile\""
   ]
  },
  {
   "cell_type": "markdown",
   "id": "74",
   "metadata": {
    "jp-MarkdownHeadingCollapsed": true
   },
   "source": [
    "```\n",
    "SRC := acc.c leapfrog.c main.c\n",
    "OBJ := $(SRC:.c=.o)\n",
    "\n",
    "nbody: $(OBJ)\n",
    "\tgcc -lm $^ -o $@\n",
    "\n",
    "%.o: %.c nbody.h\n",
    "\tgcc -std=c11 -Wall -Wextra -O2 -g -c $< -o $@\n",
    "```"
   ]
  },
  {
   "cell_type": "markdown",
   "id": "75",
   "metadata": {},
   "source": [
    "We can then compile the code with `make` and run the code with\n",
    "`./nbody > data.txt`."
   ]
  },
  {
   "cell_type": "markdown",
   "id": "76",
   "metadata": {},
   "source": [
    "### Visualization\n",
    "\n",
    "Let's now load the output and plot them."
   ]
  },
  {
   "cell_type": "code",
   "execution_count": null,
   "id": "77",
   "metadata": {},
   "outputs": [],
   "source": [
    "data = genfromtxt('data.txt')"
   ]
  },
  {
   "cell_type": "code",
   "execution_count": null,
   "id": "78",
   "metadata": {},
   "outputs": [],
   "source": [
    "X1 = data[:,0]\n",
    "Y1 = data[:,1]\n",
    "X2 = data[:,3]\n",
    "Y2 = data[:,4]\n",
    "X3 = data[:,6]\n",
    "Y3 = data[:,7]"
   ]
  },
  {
   "cell_type": "code",
   "execution_count": null,
   "id": "79",
   "metadata": {},
   "outputs": [],
   "source": [
    "plt.plot(X1, Y1)\n",
    "plt.plot(X2, Y2)\n",
    "plt.plot(X3, Y3)"
   ]
  },
  {
   "cell_type": "code",
   "execution_count": null,
   "id": "80",
   "metadata": {},
   "outputs": [],
   "source": [
    "# HANDSON: Adjust the initial conditions.\n"
   ]
  },
  {
   "cell_type": "code",
   "execution_count": null,
   "id": "81",
   "metadata": {},
   "outputs": [],
   "source": [
    "# HANDSON: Use `argc` and `argv` to configure the nbody program.\n"
   ]
  },
  {
   "cell_type": "code",
   "execution_count": null,
   "id": "82",
   "metadata": {},
   "outputs": [],
   "source": [
    "# HANDSON: Use `stdin` to read in the initial conditions.\n"
   ]
  },
  {
   "cell_type": "markdown",
   "id": "83",
   "metadata": {},
   "source": [
    "The $n$-body problem is a classic problem in computational physics.\n",
    "Writing this code in C forces us to think carefully about data layout,\n",
    "memory management, and performance.\n",
    "Unlike Python, where arrays and memory are handled automatically, in C\n",
    "every allocation and loop matters.\n",
    "Optimizing array access, minimizing function calls inside loops, and\n",
    "compiling with the right flags (`-O2` or `-O3`) can lead to\n",
    "significant speed-ups."
   ]
  }
 ],
 "metadata": {
  "kernelspec": {
   "display_name": "Python 3 (ipykernel)",
   "language": "python",
   "name": "python3"
  },
  "language_info": {
   "codemirror_mode": {
    "name": "ipython",
    "version": 3
   },
   "file_extension": ".py",
   "mimetype": "text/x-python",
   "name": "python",
   "nbconvert_exporter": "python",
   "pygments_lexer": "ipython3",
   "version": "3.13.7"
  }
 },
 "nbformat": 4,
 "nbformat_minor": 5
}
