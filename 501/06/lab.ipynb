{
 "cells": [
  {
   "cell_type": "markdown",
   "id": "0",
   "metadata": {},
   "source": [
    "# Introduction to C/C++"
   ]
  },
  {
   "cell_type": "markdown",
   "id": "1",
   "metadata": {},
   "source": [
    "## Logistics\n",
    "\n",
    "Before we start, make sure you can compile and run a C program.\n",
    "On Linux or Mac, open a terminal; on Windows, open a Ubuntu Windows\n",
    "Subsystem for Linux (WSL) terminal.\n",
    "Then type:\n",
    "```bash\n",
    "gcc --version\n",
    "g++ --version\n",
    "```\n",
    "If you see version information, your compiler is ready.\n",
    "Otherwise, you may need to install your compiler tool chain.\n",
    "On Linux and WSL, type\n",
    "```bash\n",
    "sudo apt update\n",
    "sudo apt install gcc g++\n",
    "```\n",
    "After installation, you should be able to see version information of\n",
    "`gcc` and `g++`."
   ]
  },
  {
   "cell_type": "markdown",
   "id": "2",
   "metadata": {},
   "source": [
    "## Introduction and Motivation\n",
    "\n",
    "Modern computational physics often combines two needs:\n",
    "we want to write code quickly and test ideas fast;\n",
    "we also want our code to run efficiently on very large problems.\n",
    "Python is excellent for the first task, but it can be slow when\n",
    "computations involve many loops or very large arrays.\n",
    "C and C++ remain the standard tools when speed is critical.\n",
    "In fact, on the [TIOBE Index](https://www.tiobe.com/tiobe-index), C\n",
    "and C++ remains 2nd and 3rd places, after python."
   ]
  },
  {
   "cell_type": "markdown",
   "id": "3",
   "metadata": {
    "jp-MarkdownHeadingCollapsed": true
   },
   "source": [
    "![Ken Thompson and Dennis Ritchie](fig/ken+dmr.png)\n",
    "\n",
    "C was created in the early 1970s by Dennis Ritchie at Bell Labs.\n",
    "It was used to write the Unix operating system.\n",
    "Almost every modern language, including Python, is built on top of\n",
    "ideas from C.\n",
    "Many scientific codes that you will encounter in research—such as\n",
    "Gadget for cosmology or AthenaK for astrophysical fluid dynamics—are\n",
    "written in C or C++.\n",
    "Knowing C will let you read and even modify these codes."
   ]
  },
  {
   "cell_type": "markdown",
   "id": "4",
   "metadata": {},
   "source": [
    "The main reason C is powerful in computational physics is performance.\n",
    "C is compiled into machine code, so it runs very fast.\n",
    "It gives you direct control of memory, which is essential in large\n",
    "simulations.\n",
    "With this control comes responsibility: you must allocate and free\n",
    "memory yourself.\n",
    "This may seem inconvenient at first, but it teaches you how computers\n",
    "actually store and move data."
   ]
  },
  {
   "cell_type": "markdown",
   "id": "5",
   "metadata": {},
   "source": [
    "Python and C are not competitors, instead, they complement each other.\n",
    "You can use Python for prototyping, testing, and visualization.\n",
    "Once the core of your code is correct, you can rewrite the most\n",
    "expensive routines in C and call them from Python.\n",
    "This hybrid approach is common in modern computational physics.\n",
    "\n",
    "Today's lab will show you how to get started.\n",
    "We will begin with a very simple numerical method in C/C++.\n",
    "Then we will step up to a small gravitational simulation.\n",
    "The goal is not to master every detail of C/C++ in one day, but to\n",
    "understand why it is useful and to gain the confidence to write simple\n",
    "programs."
   ]
  },
  {
   "cell_type": "markdown",
   "id": "6",
   "metadata": {},
   "source": [
    "## Essential C Concepts for Python Programmers\n",
    "\n",
    "If you already know Python, C will feel both familiar and different.\n",
    "The basic ideas are the same: variables, loops, functions.\n",
    "But the details are stricter.\n",
    "C is a compiled, statically typed language.\n",
    "This means you must tell the computer exactly what kind of data each\n",
    "variable holds, and the compiler will translate your code into machine\n",
    "instructions before it runs."
   ]
  },
  {
   "cell_type": "markdown",
   "id": "7",
   "metadata": {},
   "source": [
    "For example, in Python you can write\n",
    "```python\n",
    "x = 3\n",
    "y = 3.5\n",
    "```\n",
    "and the interpreter adjusts the type automatically.\n",
    "In C, you must decide at the start:\n",
    "```c\n",
    "int x = 3;\n",
    "double y = 3.5; \n",
    "```\n",
    "An `int` stores integers, and a `double` stores floating-point\n",
    "numbers.\n",
    "You cannot freely switch between them."
   ]
  },
  {
   "cell_type": "markdown",
   "id": "8",
   "metadata": {},
   "source": [
    "Pointers are another new concept.\n",
    "A pointer is simply the memory address of a variable.\n",
    "If you declare\n",
    "```c\n",
    "double x = 2.0;\n",
    "double *p = &x;\n",
    "```\n",
    "then `p` stores the address of `x`.\n",
    "You can access the value with `*p`.\n",
    "Pointers are powerful because they let you share data across functions\n",
    "without copying."
   ]
  },
  {
   "cell_type": "markdown",
   "id": "9",
   "metadata": {},
   "source": [
    "Functions also look different.\n",
    "In Python you write\n",
    "```python\n",
    "def f(x):\n",
    "    return x * x\n",
    "```\n",
    "\n",
    "In C you must declare the type of the argument and the return value:\n",
    "```c\n",
    "double f(double x)\n",
    "{\n",
    "    return x * x;\n",
    "}\n",
    "```\n",
    "Every statement ends with a semicolon.\n",
    "Blocks are enclosed in braces `{ ... }`.\n",
    "\n",
    "Although C does not really support functional programming,\n",
    "you can mimic function programming by passing \"function pointers\".\n",
    "`f` from the above code is a point to the function `f()`."
   ]
  },
  {
   "cell_type": "markdown",
   "id": "10",
   "metadata": {},
   "source": [
    "C has no built-in lists like Python.\n",
    "The closest structure is the array.\n",
    "Arrays have fixed size and do not grow automatically.\n",
    "For example:\n",
    "```c\n",
    "double a[10]; \n",
    "```\n",
    "creates space for 10 floating-point numbers.\n",
    "You access them by\n",
    "```c\n",
    "double x = a[0];\n",
    "```\n",
    "where the number in the square bracket is the \"offset\".\n",
    "\n",
    "Pointers and array names seem the same thing.\n",
    "However, they are different.\n",
    "See [c-faq](https://c-faq.com/aryptr/aryptr2.html) for details."
   ]
  },
  {
   "cell_type": "markdown",
   "id": "11",
   "metadata": {},
   "source": [
    "If you need a flexible array at runtime, you must allocate it\n",
    "explicitly with malloc.\n",
    "For instance:\n",
    "```c\n",
    "#include <stdlib.h>\n",
    "...\n",
    "double *a = (double *)malloc(n * sizeof(double)); \n",
    "```\n",
    "This gives you space for `n` numbers.\n",
    "When you are done, you must free the memory:\n",
    "```c\n",
    "free(a); \n",
    "```\n",
    "This brings us to one of the most important differences.\n",
    "Python handles memory automatically, while in C you are responsible\n",
    "for allocating and freeing.\n",
    "If you forget to free memory, your program will leak memory.\n",
    "If you access memory after it is freed, your program may crash.\n",
    "This sounds dangerous, but it also gives you much more control, which\n",
    "is valuable in performance-critical simulations."
   ]
  },
  {
   "cell_type": "markdown",
   "id": "12",
   "metadata": {},
   "source": [
    "Finally, note that every C program begins execution from a function\n",
    "called main.\n",
    "Even if you define many helper functions, the program always starts at\n",
    "```c\n",
    "int main(int argc, char *argv[])\n",
    "{\n",
    "    ...\n",
    "    return 0;\n",
    "}\n",
    "```\n",
    "This is the entry point of your program."
   ]
  },
  {
   "cell_type": "markdown",
   "id": "13",
   "metadata": {},
   "source": [
    "With these basic concepts: types, functions, arrays, memory, pointers,\n",
    "and main, you can already write useful numerical programs."
   ]
  }
 ],
 "metadata": {
  "kernelspec": {
   "display_name": "Python 3 (ipykernel)",
   "language": "python",
   "name": "python3"
  },
  "language_info": {
   "codemirror_mode": {
    "name": "ipython",
    "version": 3
   },
   "file_extension": ".py",
   "mimetype": "text/x-python",
   "name": "python",
   "nbconvert_exporter": "python",
   "pygments_lexer": "ipython3",
   "version": "3.13.7"
  }
 },
 "nbformat": 4,
 "nbformat_minor": 5
}
