{
 "cells": [
  {
   "cell_type": "markdown",
   "id": "0",
   "metadata": {},
   "source": [
    "# Introduction to C/C++"
   ]
  },
  {
   "cell_type": "markdown",
   "id": "1",
   "metadata": {},
   "source": [
    "## Logistics\n",
    "\n",
    "Before we start, make sure you can compile and run a C program.\n",
    "On Linux or Mac, open a terminal; on Windows, open a Ubuntu Windows\n",
    "Subsystem for Linux (WSL) terminal.\n",
    "Then type:\n",
    "```bash\n",
    "gcc --version\n",
    "g++ --version\n",
    "```\n",
    "If you see version information, your compiler is ready.\n",
    "Otherwise, you may need to install your compiler tool chain.\n",
    "On Linux and WSL, type\n",
    "```bash\n",
    "sudo apt update\n",
    "sudo apt install gcc g++\n",
    "```\n",
    "After installation, you should be able to see version information of\n",
    "`gcc` and `g++`."
   ]
  },
  {
   "cell_type": "markdown",
   "id": "2",
   "metadata": {},
   "source": [
    "## The C Programming Language\n",
    "\n",
    "Modern computational physics often combines two needs:\n",
    "we want to write code quickly and test ideas fast;\n",
    "we also want our code to run efficiently on very large problems.\n",
    "Python is excellent for the first task, but it can be slow when\n",
    "computations involve many loops or very large arrays.\n",
    "C and C++ remain the standard tools when speed is critical.\n",
    "In fact, on the [TIOBE Index](https://www.tiobe.com/tiobe-index), C\n",
    "and C++ remains 2nd and 3rd places, after python."
   ]
  },
  {
   "cell_type": "markdown",
   "id": "3",
   "metadata": {
    "jp-MarkdownHeadingCollapsed": true
   },
   "source": [
    "![Ken Thompson and Dennis Ritchie](fig/ken+dmr.png)\n",
    "\n",
    "C was created in the early 1970s by Dennis Ritchie at Bell Labs.\n",
    "It was used to write the Unix operating system.\n",
    "Almost every modern language, including Python, is built on top of\n",
    "ideas from C.\n",
    "Many scientific codes that you will encounter in research—such as\n",
    "Gadget for cosmology or AthenaK for astrophysical fluid dynamics—are\n",
    "written in C or C++.\n",
    "Knowing C will let you read and even modify these codes."
   ]
  },
  {
   "cell_type": "markdown",
   "id": "4",
   "metadata": {},
   "source": [
    "The main reason C is powerful in computational physics is performance.\n",
    "C is compiled into machine code, so it runs very fast.\n",
    "It gives you direct control of memory, which is essential in large\n",
    "simulations.\n",
    "With this control comes responsibility: you must allocate and free\n",
    "memory yourself.\n",
    "This may seem inconvenient at first, but it teaches you how computers\n",
    "actually store and move data."
   ]
  },
  {
   "cell_type": "markdown",
   "id": "5",
   "metadata": {},
   "source": [
    "Python and C are not competitors, instead, they complement each other.\n",
    "You can use Python for prototyping, testing, and visualization.\n",
    "Once the core of your code is correct, you can rewrite the most\n",
    "expensive routines in C and call them from Python.\n",
    "This hybrid approach is common in modern computational physics.\n",
    "\n",
    "Today's lab will show you how to get started.\n",
    "We will begin with a very simple numerical method in C/C++.\n",
    "Then we will step up to a small gravitational simulation.\n",
    "The goal is not to master every detail of C/C++ in one day, but to\n",
    "understand why it is useful and to gain the confidence to write simple\n",
    "programs."
   ]
  },
  {
   "cell_type": "markdown",
   "id": "6",
   "metadata": {},
   "source": [
    "The best places to learn C are:\n",
    "\n",
    "* [**The C Programming Language**](https://www.amazon.com/Programming-Language-2nd-Brian-Kernighan/dp/0131103628) by Brian W. Kernighan and Dennis M. Ritchie\n",
    "* The [c-faq](https://c-faq.com)\n",
    "* And high quanlity open source software including the [GNU Scientific Library](https://savannah.gnu.org/git/?group=gsl), [FFTW](https://github.com/FFTW/fftw3), and [Linux Kernel](https://github.com/torvalds/linux).\n",
    "\n",
    "Many \"modern C\" books are full of errors, especially memory management.\n",
    "Avoid them.\n",
    "\n",
    "![C Book](fig/C-book.jpg)"
   ]
  },
  {
   "cell_type": "markdown",
   "id": "7",
   "metadata": {},
   "source": [
    "## Essential C Concepts for Python Programmers\n",
    "\n",
    "If you already know Python, C will feel both familiar and different.\n",
    "The basic ideas are the same: variables, loops, functions.\n",
    "But the details are stricter.\n",
    "C is a compiled, statically typed language.\n",
    "This means you must tell the computer exactly what kind of data each\n",
    "variable holds, and the compiler will translate your code into machine\n",
    "instructions before it runs."
   ]
  },
  {
   "cell_type": "markdown",
   "id": "8",
   "metadata": {},
   "source": [
    "For example, in Python you can write\n",
    "```python\n",
    "x = 3\n",
    "y = 3.5\n",
    "```\n",
    "and the interpreter adjusts the type automatically.\n",
    "In C, you must decide at the start:\n",
    "```c\n",
    "int x = 3;\n",
    "double y = 3.5; \n",
    "```\n",
    "An `int` stores integers, and a `double` stores floating-point\n",
    "numbers.\n",
    "You cannot freely switch between them."
   ]
  },
  {
   "cell_type": "markdown",
   "id": "9",
   "metadata": {},
   "source": [
    "Pointers are another new concept.\n",
    "A pointer is simply the memory address of a variable.\n",
    "If you declare\n",
    "```c\n",
    "double x = 2.0;\n",
    "double *p = &x;\n",
    "```\n",
    "then `p` stores the address of `x`.\n",
    "You can access the value with `*p`.\n",
    "Pointers are powerful because they let you share data across functions\n",
    "without copying."
   ]
  },
  {
   "cell_type": "markdown",
   "id": "10",
   "metadata": {},
   "source": [
    "Functions also look different.\n",
    "In Python you write\n",
    "```python\n",
    "def f(x):\n",
    "    return x * x\n",
    "```\n",
    "\n",
    "In C you must declare the type of the argument and the return value:\n",
    "```c\n",
    "double f(double x)\n",
    "{\n",
    "    return x * x;\n",
    "}\n",
    "```\n",
    "Every statement ends with a semicolon.\n",
    "Blocks are enclosed in braces `{ ... }`.\n",
    "\n",
    "Although C does not really support functional programming,\n",
    "you can mimic function programming by passing \"function pointers\".\n",
    "`f` from the above code is a point to the function `f()`."
   ]
  },
  {
   "cell_type": "markdown",
   "id": "11",
   "metadata": {},
   "source": [
    "C has no built-in lists like Python.\n",
    "The closest structure is the array.\n",
    "Arrays have fixed size and do not grow automatically.\n",
    "For example:\n",
    "```c\n",
    "double a[10]; \n",
    "```\n",
    "creates space for 10 floating-point numbers.\n",
    "You access them by\n",
    "```c\n",
    "double x = a[0];\n",
    "```\n",
    "where the number in the square bracket is the \"offset\".\n",
    "\n",
    "Pointers and array names seem the same thing.\n",
    "However, they are different.\n",
    "See [c-faq](https://c-faq.com/aryptr/aryptr2.html) for details."
   ]
  },
  {
   "cell_type": "markdown",
   "id": "12",
   "metadata": {},
   "source": [
    "If you need a flexible array at runtime, you must allocate it\n",
    "explicitly with malloc.\n",
    "For instance:\n",
    "```c\n",
    "#include <stdlib.h>\n",
    "...\n",
    "double *a = (double *)malloc(n * sizeof(double)); \n",
    "```\n",
    "This gives you space for `n` numbers.\n",
    "When you are done, you must free the memory:\n",
    "```c\n",
    "free(a); \n",
    "```\n",
    "This brings us to one of the most important differences.\n",
    "Python handles memory automatically, while in C you are responsible\n",
    "for allocating and freeing.\n",
    "If you forget to free memory, your program will leak memory.\n",
    "If you access memory after it is freed, your program may crash.\n",
    "This sounds dangerous, but it also gives you much more control, which\n",
    "is valuable in performance-critical simulations."
   ]
  },
  {
   "cell_type": "markdown",
   "id": "13",
   "metadata": {},
   "source": [
    "Finally, note that every C program begins execution from a function\n",
    "called main.\n",
    "Even if you define many helper functions, the program always starts at\n",
    "```c\n",
    "int main(int argc, char *argv[])\n",
    "{\n",
    "    ...\n",
    "    return 0;\n",
    "}\n",
    "```\n",
    "This is the entry point of your program."
   ]
  },
  {
   "cell_type": "markdown",
   "id": "14",
   "metadata": {},
   "source": [
    "With these basic concepts: types, functions, arrays, memory, pointers,\n",
    "and main, you can already write useful numerical programs."
   ]
  },
  {
   "cell_type": "markdown",
   "id": "15",
   "metadata": {},
   "source": [
    "## Example: Forward Euler\n",
    "\n",
    "We begin with the forward Euler method.\n",
    "In Python we wrote a simple function that stepped forward in time by\n",
    "repeatedly updating the value of `x`."
   ]
  },
  {
   "cell_type": "code",
   "execution_count": null,
   "id": "16",
   "metadata": {},
   "outputs": [],
   "source": [
    "# https://ua-2025q3-astr501-513.github.io/notes-8/\n",
    "\n",
    "import numpy as np\n",
    "\n",
    "def Euler(f, x, t, dt, n):\n",
    "    X = [np.array(x)]\n",
    "    T = [np.array(t)]\n",
    "    for _ in range(n):\n",
    "        X.append(X[-1] + dt * f(X[-1]))\n",
    "        T.append(T[-1] + dt)\n",
    "    return np.array(X), np.array(T)\n",
    "\n",
    "def f(x):\n",
    "    return x\n",
    "\n",
    "n  = 20\n",
    "dt = 2.0 / n\n",
    "\n",
    "x0 = 1.0\n",
    "t0 = 0.0\n",
    "\n",
    "Xpy, Tpy = Euler(f, x0, t0, dt, n)"
   ]
  },
  {
   "cell_type": "code",
   "execution_count": null,
   "id": "17",
   "metadata": {},
   "outputs": [],
   "source": [
    "print(Xpy)\n",
    "print(Tpy)"
   ]
  },
  {
   "cell_type": "code",
   "execution_count": null,
   "id": "18",
   "metadata": {},
   "outputs": [],
   "source": [
    "from matplotlib import pyplot as plt\n",
    "\n",
    "plt.plot(Tpy, Xpy, 'o-')\n",
    "plt.xlabel('t')\n",
    "plt.ylabel('x')"
   ]
  },
  {
   "cell_type": "markdown",
   "id": "19",
   "metadata": {},
   "source": [
    "Translating the same idea into C requires a bit more work.\n",
    "```c\n",
    "/*\n",
    " * Paste the following code into \"Euler.c\".\n",
    " * Compile it with `gcc Euler.c -o Euler` or `make Eule`.\n",
    " * Run with `./Euler` or `./Euler > output.txt`.\n",
    " */\n",
    "#include <stdlib.h>\n",
    "#include <stdio.h>\n",
    "\n",
    "struct solution {\n",
    "\tdouble *X;\n",
    "\tdouble *T;\n",
    "};\n",
    "\n",
    "struct solution\n",
    "Euler(double (*f)(double), double x, double t, double dt, size_t n)\n",
    "{\n",
    "\tstruct solution s = {\n",
    "\t\t(double *)malloc((n+1) * sizeof(double)),\n",
    "\t\t(double *)malloc((n+1) * sizeof(double))\n",
    "\t};\n",
    "\n",
    "\ts.X[0] = x;\n",
    "\ts.T[0] = t;\n",
    "\n",
    "\tfor (size_t i = 1; i <= n; ++i) {\n",
    "\t\ts.X[i] = s.X[i-1] + dt * f(s.X[i-1]);\n",
    "\t\ts.T[i] = s.T[i-1] + dt;\n",
    "\t}\n",
    "\n",
    "\treturn s;\n",
    "}\n",
    "\n",
    "void\n",
    "free_solution(struct solution s)\n",
    "{\n",
    "\tfree(s.X);\n",
    "\tfree(s.T);\n",
    "}\n",
    "\n",
    "double\n",
    "f(double x)\n",
    "{\n",
    "\treturn x;\n",
    "}\n",
    "\n",
    "int\n",
    "main(int argc, char *argv[])\n",
    "{\n",
    "\tsize_t n  = 20;\n",
    "\tdouble dt = 2.0 / n;\n",
    "\n",
    "\tdouble x0 = 1.0;\n",
    "\tdouble t0 = 0.0;\n",
    "\n",
    "\tstruct solution s = Euler(f, x0, t0, dt, n);\n",
    "\n",
    "\tfor (size_t i = 0; i <= n; ++i)\n",
    "\t\tprintf(\"%.9g \", s.X[i]);\n",
    "\tputchar('\\n');\n",
    "\n",
    "\tfor (size_t i = 0; i <= n; ++i)\n",
    "\t\tprintf(\"%.9g \", s.T[i]);\n",
    "\tputchar('\\n');\n",
    "\n",
    "\tfree_solution(s);\n",
    "\n",
    "\treturn 0;\n",
    "}\n",
    "```"
   ]
  },
  {
   "cell_type": "markdown",
   "id": "20",
   "metadata": {},
   "source": [
    "This is not very elegant...\n",
    "But before we dive into the details of the code, let's try to run it.\n",
    "\n",
    "* Copy and paste the above code block into a file called \"Euler.c\".\n",
    "* Run `gcc Euler.c -o Euler` or `make Euler` in your terminal.\n",
    "  You should see a new file \"Euler\".\n",
    "* Run the code by `./Euler`.\n",
    "  It does not create any plot!\n",
    "  nstead, just a few numbers.\n",
    "  The numbers do match our python output.\n",
    "* We may use python to create a plot.\n",
    "  But this requires first saving the output to a file.\n",
    "  Run `./Euler > data.txt`.\n",
    "  Here, `>` is the bash redirection operator as we learned before.\n",
    "  It redirects the standard output of a program to a file.\n",
    "\n",
    "Once \"data.txt\" is created, run the following python cells:"
   ]
  },
  {
   "cell_type": "code",
   "execution_count": null,
   "id": "21",
   "metadata": {},
   "outputs": [],
   "source": [
    "from numpy import genfromtxt\n",
    "\n",
    "Xc, Tc = genfromtxt('data.txt')"
   ]
  },
  {
   "cell_type": "code",
   "execution_count": null,
   "id": "22",
   "metadata": {},
   "outputs": [],
   "source": [
    "print(np.max(abs(Xc - Xpy)))\n",
    "print(np.max(abs(Tc - Tpy)))"
   ]
  },
  {
   "cell_type": "code",
   "execution_count": null,
   "id": "23",
   "metadata": {},
   "outputs": [],
   "source": [
    "plt.plot(Tpy, Xpy, 'o-')\n",
    "plt.plot(Tc,  Xc,  '.-')\n",
    "plt.xlabel('t')\n",
    "plt.ylabel('x')"
   ]
  },
  {
   "cell_type": "markdown",
   "id": "24",
   "metadata": {},
   "source": [
    "## The Compilation Pipeline\n",
    "\n",
    "Every C program passes through several stages before it becomes an\n",
    "executable.\n",
    "Understanding these stages helps you debug, optimize, and eventually\n",
    "build larger projects.\n",
    "\n",
    "First, the preprocessor runs.\n",
    "It handles all lines that begin with `#`, such as\n",
    "`#include <stdio.h>`.\n",
    "Header files are inserted, and macros are expanded.\n",
    "The output is a translation unit, which is still text but with all\n",
    "includes resolved.\n",
    "\n",
    "Second, the compiler translates this into assembly.\n",
    "Here your C code becomes instructions for the CPU, but still in\n",
    "human-readable form.\n",
    "\n",
    "Third, the assembler converts the assembly into machine code stored in\n",
    "an object file (with `.o` extension).\n",
    "This file contains binary instructions but is not yet a runnable\n",
    "program.\n",
    "\n",
    "Finally, the linker combines object files and external libraries into\n",
    "a single executable.\n",
    "This is the file you can actually run from the terminal."
   ]
  },
  {
   "cell_type": "markdown",
   "id": "25",
   "metadata": {},
   "source": [
    "The flow looks like this:\n",
    "```\n",
    "Euler.c\n",
    "  |\n",
    "  |  Preprocessor (gcc -E)\n",
    "  v\n",
    "Euler.i\n",
    "  |\n",
    "  |  Compiler (gcc -S)\n",
    "  v\n",
    "Euler.s\n",
    "  |\n",
    "  |  Assembler (gcc -c)\n",
    "  v\n",
    "Euler.o\n",
    "  |\n",
    "  |  Linker (gcc -o)\n",
    "  v\n",
    "Euler\n",
    "```"
   ]
  },
  {
   "cell_type": "markdown",
   "id": "26",
   "metadata": {},
   "source": [
    "You can step through these stages explicitly:\n",
    "```bash\n",
    "gcc Euler.c -E  > Euler.i\n",
    "gcc Euler.i -S -o Euler.s\n",
    "gcc Euler.s -c -o Euler.o\n",
    "gcc Euler.o -o    Euler\n",
    "```"
   ]
  },
  {
   "cell_type": "markdown",
   "id": "27",
   "metadata": {},
   "source": [
    "Although most of the time, just like above, we just type one line:\n",
    "```bash\n",
    "gcc Euler.c -o Euler -Wall -Wextra -O2 -g\n",
    "```"
   ]
  },
  {
   "cell_type": "markdown",
   "id": "28",
   "metadata": {},
   "source": [
    "### Multi-Stage Build\n",
    "\n",
    "Suppose we split the Euler solver into three files.\n",
    "The first file, \"Euler.c\", contains only the solver:"
   ]
  },
  {
   "cell_type": "markdown",
   "id": "29",
   "metadata": {},
   "source": [
    "```c\n",
    "#include <stdlib.h>\n",
    "#include \"Euler.h\"\n",
    "\n",
    "struct solution\n",
    "Euler(double (*f)(double), double x, double t, double dt, size_t n)\n",
    "{\n",
    "\tstruct solution s = {\n",
    "\t\t(double *)malloc((n+1) * sizeof(double)),\n",
    "\t\t(double *)malloc((n+1) * sizeof(double))\n",
    "\t};\n",
    "\n",
    "\ts.X[0] = x;\n",
    "\ts.T[0] = t;\n",
    "\n",
    "\tfor (size_t i = 1; i <= n; ++i) {\n",
    "\t\ts.X[i] = s.X[i-1] + dt * f(s.X[i-1]);\n",
    "\t\ts.T[i] = s.T[i-1] + dt;\n",
    "\t}\n",
    "\n",
    "\treturn s;\n",
    "}\n",
    "\n",
    "void\n",
    "free_solution(struct solution s)\n",
    "{\n",
    "\tfree(s.X);\n",
    "\tfree(s.T);\n",
    "}\n",
    "```"
   ]
  },
  {
   "cell_type": "markdown",
   "id": "30",
   "metadata": {},
   "source": [
    "The header file, \"Euler.h\", declares the interface:"
   ]
  },
  {
   "cell_type": "markdown",
   "id": "31",
   "metadata": {},
   "source": [
    "```c\n",
    "#ifndef EULER_H\n",
    "#define EULER_H\n",
    "\n",
    "struct solution {\n",
    "\tdouble *T;\n",
    "\tdouble *X;\n",
    "};\n",
    "\n",
    "struct solution Euler(double (*)(double), double, double, double, size_t);\n",
    "void free_solution(struct solution);\n",
    "\n",
    "#endif /* EULER_H */\n",
    "```"
   ]
  },
  {
   "cell_type": "markdown",
   "id": "32",
   "metadata": {},
   "source": [
    "So the main program, \"main.c\", now looks much simpler:"
   ]
  },
  {
   "cell_type": "markdown",
   "id": "33",
   "metadata": {},
   "source": [
    "```c\n",
    "double\n",
    "f(double x)\n",
    "{\n",
    "\treturn x;\n",
    "}\n",
    "\n",
    "int\n",
    "main(int argc, char *argv[])\n",
    "{\n",
    "\tsize_t n  = 20;\n",
    "\tdouble dt = 2.0 / n;\n",
    "\n",
    "\tdouble x0 = 1.0;\n",
    "\tdouble t0 = 0.0;\n",
    "\n",
    "\tstruct solution s = Euler(f, x0, t0, dt, n);\n",
    "\n",
    "\tfor (size_t i = 0; i <= n; ++i)\n",
    "\t\tprintf(\"%.9g \", s.X[i]);\n",
    "\tputchar('\\n');\n",
    "\tfor (size_t i = 0; i <= n; ++i)\n",
    "\t\tprintf(\"%.9g \", s.T[i]);\n",
    "\tputchar('\\n');\n",
    "\n",
    "\tfree_solution(s);\n",
    "\n",
    "\treturn 0;\n",
    "}\n",
    "```"
   ]
  },
  {
   "cell_type": "markdown",
   "id": "34",
   "metadata": {},
   "source": [
    "Even before creating library, we can also make compilation more\n",
    "efficient by compiling the different files separately.\n",
    "```bash\n",
    "gcc -c Euler.c -o Euler.o -Wall -Wextra\n",
    "gcc -c main.c  -o main.o  -Wall -Wextra\n",
    "gcc main.o Euler.o -o Euler -O2 -g\n",
    "```\n",
    "This multi-stage compilation allows us to compile only the changed\n",
    "files.\n",
    "For large project, this can significantly save your compilation time."
   ]
  },
  {
   "cell_type": "code",
   "execution_count": null,
   "id": "35",
   "metadata": {},
   "outputs": [],
   "source": [
    "# HANDSON: Create a `Makefile` to track the dependence of the above\n",
    "#          multi-stage compilation.\n"
   ]
  },
  {
   "cell_type": "markdown",
   "id": "36",
   "metadata": {},
   "source": [
    "### Linking Libraries\n",
    "\n",
    "When we linked `main.o` with `euler.o`, we directly included one\n",
    "object file.\n",
    "For larger projects, it is better to package many object files into a\n",
    "library.\n",
    "There are two common types: static libraries and shared libraries."
   ]
  },
  {
   "cell_type": "markdown",
   "id": "37",
   "metadata": {},
   "source": [
    "A static library is an archive of object files.\n",
    "It has the extension .a on Unix systems.\n",
    "When you link against a static library, the linker copies the needed\n",
    "object code into your executable.\n",
    "The final executable contains everything it needs.\n",
    "\n",
    "Let's build a static library for our Euler solver.\n",
    "We already have an object file `Euler.o`.\n",
    "We then use the `ar` tool (archiver) to create a library:\n",
    "```bash\n",
    "ar rcs libEuler.a Euler.o\n",
    "```"
   ]
  },
  {
   "cell_type": "markdown",
   "id": "38",
   "metadata": {},
   "source": [
    "Now you have a static library called `libEuler.a`.\n",
    "To link it with your program:\n",
    "```bash\n",
    "gcc main.c -L. -lEuler -o Euler\n",
    "```\n",
    "\n",
    "The flag `-L.` tells the linker to look in the current directory.\n",
    "The flag `-lEuler` tells it to link against `libEuler.a`.\n",
    "You do not type the `lib` prefix or `.a` suffix.\n",
    "\n",
    "When you run `./Euler`, it behaves the same as before.\n",
    "The difference is that the Euler solver code has been copied into the\n",
    "executable."
   ]
  },
  {
   "cell_type": "markdown",
   "id": "39",
   "metadata": {},
   "source": [
    "## From C to C++\n",
    "\n",
    "C is powerful, but it can feel low-level.\n",
    "You must handle memory yourself and use structs when you want to group\n",
    "data.\n",
    "C++ extends C with features that make programs easier to organize and\n",
    "safer to use.\n",
    "Most large scientific codes today use C++, often mixed with C.\n",
    "\n",
    "One key addition in C++ is class.\n",
    "A class is like a struct, but it can also contain functions.\n",
    "This lets you group data and the functions that act on it together.\n",
    "In our Euler example, we had a struct with arrays `T` and `X`, plus\n",
    "separate functions to free the memory.\n",
    "In C++ we can wrap this into a class."
   ]
  },
  {
   "cell_type": "markdown",
   "id": "40",
   "metadata": {},
   "source": [
    "Here is a minimal version of the same Euler solver written in C++:"
   ]
  },
  {
   "cell_type": "markdown",
   "id": "41",
   "metadata": {},
   "source": [
    "```c++\n",
    "// Paste the following code into \"Euler++.cxx\".\n",
    "// Compile it with `g++ Euler++.cxx -o Euler++`.\n",
    "// Run with `./Euler++` or `./Euler++ > output.txt`.\n",
    "\n",
    "#include <vector>\n",
    "#include <iostream>\n",
    "\n",
    "using namespace std;\n",
    "\n",
    "class Euler\n",
    "{\n",
    "public:\n",
    "\tvector<double> T;\n",
    "\tvector<double> X;\n",
    "\n",
    "\tEuler(double (*f)(double), double x, double t, double dt, size_t n)\n",
    "\t{\n",
    "\t\tX.resize(n+1);\n",
    "\t\tT.resize(n+1);\n",
    "\n",
    "\t\tX[0] = x;\n",
    "\t\tT[0] = t;\n",
    "\n",
    "\t\tfor (size_t i = 1; i <= n; ++i) {\n",
    "\t\t\tX[i] = X[i-1] + dt * f(X[i-1]);\n",
    "\t\t\tT[i] = T[i-1] + dt;\n",
    "\t\t}\n",
    "\t}\n",
    "};\n",
    "\n",
    "double\n",
    "f(double x)\n",
    "{\n",
    "\treturn x;\n",
    "}\n",
    "\n",
    "int\n",
    "main(int argc, char *argv[])\n",
    "{\n",
    "\tsize_t n  = 20;\n",
    "\tdouble dt = 2.0 / n;\n",
    "\n",
    "\tdouble x0 = 1.0;\n",
    "\tdouble t0 = 0.0;\n",
    "\n",
    "\tEuler s(f, x0, t0, dt, n);\n",
    "\n",
    "\tfor (int i = 0; i <= n; ++i)\n",
    "\t\tcout << s.X[i] << \" \";\n",
    "\tcout << endl;\n",
    "\n",
    "\tfor (int i = 0; i <= n; ++i)\n",
    "\t\tcout << s.T[i] << \" \";\n",
    "\tcout << endl;\n",
    "\n",
    "\treturn 0;\n",
    "}\n",
    "```"
   ]
  },
  {
   "cell_type": "markdown",
   "id": "42",
   "metadata": {},
   "source": [
    "There are several important differences.\n",
    "Instead of raw arrays with malloc and free, we use `std::vector`.\n",
    "Vectors manage memory automatically, so we do not need to call free.\n",
    "We also use `std::cout` for printing, which is the C++ alternative to\n",
    "`printf()`.\n",
    "\n",
    "The constructor of the class Solution builds the arrays and fills them\n",
    "with values.\n",
    "This makes the code shorter and less error-prone.\n",
    "In C++ we can rely on the language to clean up memory when objects go\n",
    "out of scope.\n",
    "\n",
    "This example shows the main advantage of C++ for scientific computing:\n",
    "you can keep the performance of C but write code that is more\n",
    "structured and easier to maintain."
   ]
  },
  {
   "cell_type": "markdown",
   "id": "43",
   "metadata": {},
   "source": [
    "* Copy and paste the above code block into a file called\n",
    "  \"Euler++.cxx\".\n",
    "* Run `g++ Euler++.cxx -o Euler++` in your terminal.\n",
    "  You should see a new file \"Euler++\".\n",
    "* Run `./Euler++ > data++.txt`.\n",
    "\n",
    "Once \"data++.txt\" is created, run the following python cells:"
   ]
  },
  {
   "cell_type": "code",
   "execution_count": null,
   "id": "44",
   "metadata": {},
   "outputs": [],
   "source": [
    "Xcxx, Tcxx = genfromtxt('data++.txt')"
   ]
  },
  {
   "cell_type": "code",
   "execution_count": null,
   "id": "45",
   "metadata": {},
   "outputs": [],
   "source": [
    "print(np.max(abs(Xcxx - Xpy)))\n",
    "print(np.max(abs(Tcxx - Tpy)))"
   ]
  },
  {
   "cell_type": "code",
   "execution_count": null,
   "id": "46",
   "metadata": {},
   "outputs": [],
   "source": [
    "plt.plot(Tpy,  Xpy,  'o-')\n",
    "plt.plot(Tc,   Xc,   '.-')\n",
    "plt.plot(Tcxx, Xcxx, '--')\n",
    "plt.xlabel('t')\n",
    "plt.ylabel('x')"
   ]
  }
 ],
 "metadata": {
  "kernelspec": {
   "display_name": "Python 3 (ipykernel)",
   "language": "python",
   "name": "python3"
  },
  "language_info": {
   "codemirror_mode": {
    "name": "ipython",
    "version": 3
   },
   "file_extension": ".py",
   "mimetype": "text/x-python",
   "name": "python",
   "nbconvert_exporter": "python",
   "pygments_lexer": "ipython3",
   "version": "3.13.7"
  }
 },
 "nbformat": 4,
 "nbformat_minor": 5
}
