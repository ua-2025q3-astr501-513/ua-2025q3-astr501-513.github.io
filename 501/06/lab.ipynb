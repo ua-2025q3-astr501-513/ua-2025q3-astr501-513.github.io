{
 "cells": [
  {
   "cell_type": "markdown",
   "id": "0",
   "metadata": {},
   "source": [
    "# Introduction to C/C++"
   ]
  },
  {
   "cell_type": "markdown",
   "id": "1",
   "metadata": {},
   "source": [
    "## Logistics\n",
    "\n",
    "Before we start, make sure you can compile and run a C program.\n",
    "On Linux or Mac, open a terminal; on Windows, open a Ubuntu Windows\n",
    "Subsystem for Linux (WSL) terminal.\n",
    "Then type:\n",
    "```bash\n",
    "gcc --version\n",
    "g++ --version\n",
    "```\n",
    "If you see version information, your compiler is ready.\n",
    "Otherwise, you may need to install your compiler tool chain.\n",
    "On Linux and WSL, type\n",
    "```bash\n",
    "sudo apt update\n",
    "sudo apt install gcc g++\n",
    "```\n",
    "After installation, you should be able to see version information of\n",
    "`gcc` and `g++`."
   ]
  }
 ],
 "metadata": {
  "kernelspec": {
   "display_name": "Python 3 (ipykernel)",
   "language": "python",
   "name": "python3"
  },
  "language_info": {
   "codemirror_mode": {
    "name": "ipython",
    "version": 3
   },
   "file_extension": ".py",
   "mimetype": "text/x-python",
   "name": "python",
   "nbconvert_exporter": "python",
   "pygments_lexer": "ipython3",
   "version": "3.13.7"
  }
 },
 "nbformat": 4,
 "nbformat_minor": 5
}
