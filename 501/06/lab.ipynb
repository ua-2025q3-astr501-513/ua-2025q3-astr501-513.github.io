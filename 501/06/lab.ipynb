{
 "cells": [
  {
   "cell_type": "markdown",
   "id": "0",
   "metadata": {},
   "source": [
    "# Introduction to C/C++"
   ]
  },
  {
   "cell_type": "markdown",
   "id": "1",
   "metadata": {},
   "source": [
    "## Logistics\n",
    "\n",
    "Before we start, make sure you can compile and run a C program.\n",
    "On Linux or Mac, open a terminal; on Windows, open a Ubuntu Windows\n",
    "Subsystem for Linux (WSL) terminal.\n",
    "Then type:\n",
    "```bash\n",
    "gcc --version\n",
    "g++ --version\n",
    "```\n",
    "If you see version information, your compiler is ready.\n",
    "Otherwise, you may need to install your compiler tool chain.\n",
    "On Linux and WSL, type\n",
    "```bash\n",
    "sudo apt update\n",
    "sudo apt install gcc g++\n",
    "```\n",
    "After installation, you should be able to see version information of\n",
    "`gcc` and `g++`."
   ]
  },
  {
   "cell_type": "markdown",
   "id": "2",
   "metadata": {},
   "source": [
    "## Introduction and Motivation\n",
    "\n",
    "Modern computational physics often combines two needs:\n",
    "we want to write code quickly and test ideas fast;\n",
    "we also want our code to run efficiently on very large problems.\n",
    "Python is excellent for the first task, but it can be slow when\n",
    "computations involve many loops or very large arrays.\n",
    "C and C++ remain the standard tools when speed is critical.\n",
    "In fact, on the [TIOBE Index](https://www.tiobe.com/tiobe-index), C\n",
    "and C++ remains 2nd and 3rd places, after python."
   ]
  },
  {
   "cell_type": "markdown",
   "id": "3",
   "metadata": {
    "jp-MarkdownHeadingCollapsed": true
   },
   "source": [
    "![Ken Thompson and Dennis Ritchie](fig/ken+dmr.png)\n",
    "\n",
    "C was created in the early 1970s by Dennis Ritchie at Bell Labs.\n",
    "It was used to write the Unix operating system.\n",
    "Almost every modern language, including Python, is built on top of\n",
    "ideas from C.\n",
    "Many scientific codes that you will encounter in research—such as\n",
    "Gadget for cosmology or AthenaK for astrophysical fluid dynamics—are\n",
    "written in C or C++.\n",
    "Knowing C will let you read and even modify these codes."
   ]
  },
  {
   "cell_type": "markdown",
   "id": "4",
   "metadata": {},
   "source": [
    "The main reason C is powerful in computational physics is performance.\n",
    "C is compiled into machine code, so it runs very fast.\n",
    "It gives you direct control of memory, which is essential in large\n",
    "simulations.\n",
    "With this control comes responsibility: you must allocate and free\n",
    "memory yourself.\n",
    "This may seem inconvenient at first, but it teaches you how computers\n",
    "actually store and move data."
   ]
  },
  {
   "cell_type": "markdown",
   "id": "5",
   "metadata": {},
   "source": [
    "Python and C are not competitors, instead, they complement each other.\n",
    "You can use Python for prototyping, testing, and visualization.\n",
    "Once the core of your code is correct, you can rewrite the most\n",
    "expensive routines in C and call them from Python.\n",
    "This hybrid approach is common in modern computational physics.\n",
    "\n",
    "Today's lab will show you how to get started.\n",
    "We will begin with a very simple numerical method in C/C++.\n",
    "Then we will step up to a small gravitational simulation.\n",
    "The goal is not to master every detail of C/C++ in one day, but to\n",
    "understand why it is useful and to gain the confidence to write simple\n",
    "programs."
   ]
  }
 ],
 "metadata": {
  "kernelspec": {
   "display_name": "Python 3 (ipykernel)",
   "language": "python",
   "name": "python3"
  },
  "language_info": {
   "codemirror_mode": {
    "name": "ipython",
    "version": 3
   },
   "file_extension": ".py",
   "mimetype": "text/x-python",
   "name": "python",
   "nbconvert_exporter": "python",
   "pygments_lexer": "ipython3",
   "version": "3.13.7"
  }
 },
 "nbformat": 4,
 "nbformat_minor": 5
}
