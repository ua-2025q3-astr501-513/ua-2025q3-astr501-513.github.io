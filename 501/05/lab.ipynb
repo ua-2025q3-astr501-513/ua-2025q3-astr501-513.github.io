{
 "cells": [
  {
   "cell_type": "markdown",
   "id": "0",
   "metadata": {},
   "source": [
    "# Code Optimization [![Open In Colab](https://colab.research.google.com/assets/colab-badge.svg)](https://colab.research.google.com/github/ua-2025q3-astr501-513/ua-2025q3-astr501-513.github.io/blob/main/501/05/lab.ipynb)\n",
    "\n",
    "**Speeding Up Your Python Codes 1000x!!!**"
   ]
  },
  {
   "cell_type": "markdown",
   "id": "1",
   "metadata": {},
   "source": [
    "## Introduction\n",
    "\n",
    "Welcome to \"Code Optimization: Speeding Up Your Python Codes 1000x\"!\n",
    "\n",
    "In the next hours, we will learn tricks to unlock python performance\n",
    "and increase a sample code's speed by a factor of 1000x!\n",
    "This lab is based on a Hack Arizona tutorial CK gave in 2024.\n",
    "The [original lab](https://github.com/rndsrc/orbits-py) can be found\n",
    "here."
   ]
  },
  {
   "cell_type": "markdown",
   "id": "2",
   "metadata": {},
   "source": [
    "Here is our plan:\n",
    "* Understand the problem:\n",
    "  we will start by outlining the $n$-body problem and how to use the\n",
    "  leapfrog algorithm to solve it numerically.\n",
    "* Benchmark and profile:\n",
    "  we will learn how to measure performance and identify bottlenecks\n",
    "  using tools like timeit and cProfile.\n",
    "* Optimize the code:\n",
    "  step through a series of optimizations:\n",
    "  * Use list comprehensions and reduce operation counts.\n",
    "  * Replace slow operations with faster ones.\n",
    "  * Use high-performance libraries such as NumPy.\n",
    "  * Explore lower precision where applicable.\n",
    "  * Use Google JAX for just-in-time compilation and GPU acceleration.\n",
    "* Apply the integrator:\n",
    "  finally, we will use our optimized code to simulate the mesmerizing\n",
    "  figure-8 self-gravitating orbit."
   ]
  },
  {
   "cell_type": "markdown",
   "id": "3",
   "metadata": {},
   "source": [
    "By the end of this lab, you will see that Python isn't just great for\n",
    "rapid prototyping.\n",
    "It can also deliver serious performance when optimized right.\n",
    "Let's dive in!"
   ]
  },
  {
   "cell_type": "markdown",
   "id": "4",
   "metadata": {},
   "source": [
    "## The $n$-body Problem and the Leapfrog Algorithm\n",
    "\n",
    "The $n$-body problem involves simulating the motion of many bodies\n",
    "interacting with each other through (usually) gravitational forces.\n",
    "\n",
    "This problem is physically interesting, as it models the\n",
    "[solar system](https://rebound.readthedocs.io/en/latest/),\n",
    "[galaxy dynamics, or even the whole cosmic structure\n",
    "formation](https://wwwmpa.mpa-garching.mpg.de/gadget/)!\n",
    "\n",
    "This problem is also computational interesting.\n",
    "Each body experiences a force from every other body, making the\n",
    "simulation computationally intensive.\n",
    "It is ideal for exploring optimization techniques.\n",
    "\n",
    "The leapfrog algorithm is a simple, robust numerical integrator that\n",
    "alternates between updating velocities (\"kicks\") and positions\n",
    "(\"drifts\").\n",
    "It is popular because it conserves energy and momentum well over long\n",
    "simulation periods."
   ]
  },
  {
   "cell_type": "markdown",
   "id": "5",
   "metadata": {},
   "source": [
    "We need to solve Newton's second law of motion for a collection of $n$\n",
    "bodies.\n",
    "The body forces are solved by using Newton's Law of Universal\n",
    "Gravitation."
   ]
  },
  {
   "cell_type": "markdown",
   "id": "6",
   "metadata": {},
   "source": [
    "### Gravitational Force/Acceleration Equation\n",
    "\n",
    "For any two bodies labeled by $i$ and $j$, the direct gravitational\n",
    "force exerted on body $i$ by body $j$ is given by:\n",
    "\\begin{align}\n",
    "  \\mathbf{f}_{ij} = -G m_i m_j\\frac{\\mathbf{r}_i - \\mathbf{r}_j\\ \\ \\ }{|\\mathbf{r}_i - \\mathbf{r}_j|^{3/2}},\n",
    "\\end{align}\n",
    "where:\n",
    "* $G$ is the gravitational constant.\n",
    "* $m_i$ and $m_j$ are the masses of the bodies.\n",
    "* $\\mathbf{r}_i$ and $\\mathbf{r}_j$ are their position vectors."
   ]
  },
  {
   "cell_type": "markdown",
   "id": "7",
   "metadata": {},
   "source": [
    "Summing the contributions from all other bodies gives the net force\n",
    "(and thus the acceleration) on body $i$:\n",
    "\\begin{align}\n",
    "  \\mathbf{f}_i\n",
    "  = \\sum_{j\\ne i} \\mathbf{f}_{ij}\n",
    "  = -G m_i \\sum_{j\\ne i} m_j \\frac{\\mathbf{r}_i - \\mathbf{r}_j\\ \\ \\ }{|\\mathbf{r}_i - \\mathbf{r}_j|^3},\n",
    "\\end{align}"
   ]
  },
  {
   "cell_type": "markdown",
   "id": "8",
   "metadata": {},
   "source": [
    "Given Newton's law $\\mathbf{f} = m\\mathbf{a}$, the \"acceleration\"\n",
    "applied on body $i$ caused by all other bodies is:\n",
    "\\begin{align}\n",
    "  \\mathbf{a}_i\n",
    "  = \\sum_{j\\ne i} \\mathbf{a}_{ij}\n",
    "  = -G \\sum_{j\\ne i} m_j \\frac{\\mathbf{r}_i - \\mathbf{r}_j\\ \\ \\ }{|\\mathbf{r}_i - \\mathbf{r}_j|^3}.\n",
    "\\end{align}\n",
    "Choosing the right units so $G = 1$."
   ]
  },
  {
   "cell_type": "markdown",
   "id": "9",
   "metadata": {},
   "source": [
    "Here is a pure Python implementation of the gravitational\n",
    "acceleration:"
   ]
  },
  {
   "cell_type": "code",
   "execution_count": null,
   "id": "10",
   "metadata": {},
   "outputs": [],
   "source": [
    "def acc1(m, r):\n",
    "    \n",
    "    n = len(m)\n",
    "    a = []\n",
    "    for i in range(n):\n",
    "        axi, ayi, azi = 0, 0, 0\n",
    "        for j in range(n):\n",
    "            if j != i:\n",
    "                xi, yi, zi = r[i]\n",
    "                xj, yj, zj = r[j]\n",
    "\n",
    "                axij = - m[j] * (xi - xj) / ((xi - xj)**2 + (yi - yj)**2 + (zi - zj)**2)**(3/2)\n",
    "                ayij = - m[j] * (yi - yj) / ((xi - xj)**2 + (yi - yj)**2 + (zi - zj)**2)**(3/2)\n",
    "                azij = - m[j] * (zi - zj) / ((xi - xj)**2 + (yi - yj)**2 + (zi - zj)**2)**(3/2)\n",
    "\n",
    "                axi += axij\n",
    "                ayi += ayij\n",
    "                azi += azij\n",
    "\n",
    "        a.append((axi, ayi, azi))\n",
    "\n",
    "    return a"
   ]
  },
  {
   "cell_type": "markdown",
   "id": "11",
   "metadata": {},
   "source": [
    "We may try using this function to evaluate the gravitational force\n",
    "between two particles, with with mass $m = 1$, at a distance of $2$.\n",
    "We expect the \"acceleration\" be $-1/4$ in the direction of their\n",
    "seperation."
   ]
  },
  {
   "cell_type": "code",
   "execution_count": null,
   "id": "12",
   "metadata": {},
   "outputs": [],
   "source": [
    "m  = [1.0, 1.0]\n",
    "r0 = [\n",
    "    (+1.0, 0.0, 0.0),\n",
    "    (-1.0, 0.0, 0.0),\n",
    "]\n",
    "a0ref = [\n",
    "    (-0.25, 0.0, 0.0),\n",
    "    (+0.25, 0.0, 0.0),\n",
    "]"
   ]
  },
  {
   "cell_type": "code",
   "execution_count": null,
   "id": "13",
   "metadata": {},
   "outputs": [],
   "source": [
    "a0 = acc1(m, r0)"
   ]
  },
  {
   "cell_type": "code",
   "execution_count": null,
   "id": "14",
   "metadata": {},
   "outputs": [],
   "source": [
    "a0"
   ]
  },
  {
   "cell_type": "code",
   "execution_count": null,
   "id": "15",
   "metadata": {},
   "outputs": [],
   "source": [
    "assert a0 == a0ref"
   ]
  },
  {
   "cell_type": "markdown",
   "id": "16",
   "metadata": {},
   "source": [
    "### Leapfrog Integrator\n",
    "\n",
    "Our simulation solves Newton's second law of motion, $\\mathbf{f} = m\n",
    "\\mathbf{a}$, numerically.\n",
    "The equation tells us that the acceleration of a body is determined by\n",
    "the net force acting on it.\n",
    "In a system where forces are conservative, this law guarantees the\n",
    "conservation of energy and momentum.\n",
    "These are critical properties when simulating long-term dynamics."
   ]
  },
  {
   "cell_type": "markdown",
   "id": "17",
   "metadata": {},
   "source": [
    "However, many standard integration methods tend to drift over time,\n",
    "gradually losing these conservation properties.\n",
    "The leapfrog algorithm is a symplectic integrator designed to address\n",
    "this issue.\n",
    "Its staggered (or \"leapfrogging\") updates of velocity and position\n",
    "help preserve energy and momentum much more effectively over extended\n",
    "simulations."
   ]
  },
  {
   "cell_type": "markdown",
   "id": "18",
   "metadata": {},
   "source": [
    "1. Half-step velocity update (Kick):\n",
    "   start by updating the velocity by half a time step using the\n",
    "   current acceleration $a(t)$:\n",
    "   \\begin{align}\n",
    "     v\\left(t+\\frac{1}{2}\\Delta t\\right) = v(t) + \\frac{1}{2}\\Delta t\\, a(t).\n",
    "   \\end{align}\n",
    "\n",
    "2. Full-step position update (Drift):\n",
    "   update the position for a full time step using the half-stepped\n",
    "   velocity:\n",
    "   \\begin{align}\n",
    "     x(t+\\Delta t) = x(t) + \\Delta t\\, v\\left(t+\\frac{1}{2}\\Delta t\\right).\n",
    "   \\end{align}\n",
    "\n",
    "3. Half-step velocity update (Kick):\n",
    "   finally, update the velocity by another half time step using the\n",
    "   new acceleration $a(t+\\Delta t)$ computed from the updated\n",
    "   positions:\n",
    "   \\begin{align}\n",
    "     v(t+\\Delta t) = v\\left(t+\\frac{1}{2}\\Delta t\\right) + \\frac{1}{2}\\Delta t\\, a(t+\\Delta t).\n",
    "   \\end{align}"
   ]
  },
  {
   "cell_type": "markdown",
   "id": "19",
   "metadata": {},
   "source": [
    "Here is a pure Python implementation of the gravitational\n",
    "acceleration:"
   ]
  },
  {
   "cell_type": "code",
   "execution_count": null,
   "id": "20",
   "metadata": {},
   "outputs": [],
   "source": [
    "def leapfrog1(m, r0, v0, dt, acc=acc1):\n",
    "\n",
    "    n  = len(m)\n",
    "\n",
    "    # vh = v0 + 0.5 * dt * a0\n",
    "    a0 = acc(m, r0)\n",
    "    vh = []\n",
    "    for i in range(n):\n",
    "        a0xi, a0yi, a0zi = a0[i]\n",
    "        v0xi, v0yi, v0zi = v0[i]\n",
    "        vhxi = v0xi + 0.5 * dt * a0xi\n",
    "        vhyi = v0yi + 0.5 * dt * a0yi\n",
    "        vhzi = v0zi + 0.5 * dt * a0zi\n",
    "        vh.append((vhxi, vhyi, vhzi))\n",
    "\n",
    "    # r1 = r0 + dt * vh\n",
    "    r1 = []\n",
    "    for i in range(n):\n",
    "        vhxi, vhyi, vhzi = vh[i]\n",
    "        x0i,  y0i,  z0i  = r0[i]\n",
    "        x1i = x0i + dt * vhxi\n",
    "        y1i = y0i + dt * vhyi\n",
    "        z1i = z0i + dt * vhzi\n",
    "        r1.append((x1i, y1i, z1i))\n",
    "\n",
    "    # v1 = vh + 0.5 * dt * a1\n",
    "    a1 = acc(m, r1)\n",
    "    v1 = []\n",
    "    for i in range(n):\n",
    "        a1xi, a1yi, a1zi = a1[i]\n",
    "        vhxi, vhyi, vhzi = vh[i]\n",
    "        v1xi = vhxi + 0.5 * dt * a1xi\n",
    "        v1yi = vhyi + 0.5 * dt * a1yi\n",
    "        v1zi = vhzi + 0.5 * dt * a1zi\n",
    "        v1.append((v1xi, v1yi, v1zi))\n",
    "\n",
    "    return r1, v1"
   ]
  },
  {
   "cell_type": "markdown",
   "id": "21",
   "metadata": {},
   "source": [
    "We may try using this function to evolve the two particles under\n",
    "gravitational force, with some initial velocities."
   ]
  },
  {
   "cell_type": "code",
   "execution_count": null,
   "id": "22",
   "metadata": {},
   "outputs": [],
   "source": [
    "v0 = [\n",
    "    (0.0, +0.5, 0.0),\n",
    "    (0.0, -0.5, 0.0),\n",
    "]\n",
    "v1ref = [\n",
    "    (-0.024984345739803245, +0.4993750014648409, 0.0),\n",
    "    (+0.024984345739803245, -0.4993750014648409, 0.0),\n",
    "]"
   ]
  },
  {
   "cell_type": "code",
   "execution_count": null,
   "id": "23",
   "metadata": {},
   "outputs": [],
   "source": [
    "r1, v1 = leapfrog1(m, r0, v0, 0.1)"
   ]
  },
  {
   "cell_type": "code",
   "execution_count": null,
   "id": "24",
   "metadata": {},
   "outputs": [],
   "source": [
    "v1"
   ]
  },
  {
   "cell_type": "code",
   "execution_count": null,
   "id": "25",
   "metadata": {},
   "outputs": [],
   "source": [
    "assert v1 == v1ref"
   ]
  },
  {
   "cell_type": "markdown",
   "id": "26",
   "metadata": {},
   "source": [
    "### Test the Integrator\n",
    "\n",
    "We test the integrator by evolving the two particle by a time $T =\n",
    "2\\pi$ using $N = 64$ steps."
   ]
  },
  {
   "cell_type": "code",
   "execution_count": null,
   "id": "27",
   "metadata": {},
   "outputs": [],
   "source": [
    "from math import pi\n",
    "\n",
    "N = 64\n",
    "T = 2 * pi"
   ]
  },
  {
   "cell_type": "code",
   "execution_count": null,
   "id": "28",
   "metadata": {},
   "outputs": [],
   "source": [
    "dt = T / N\n",
    "R  = [r0]\n",
    "V  = [v0]\n",
    "for _ in range(N):\n",
    "    r, v = leapfrog1(m, R[-1], V[-1], dt)\n",
    "    R.append(r)\n",
    "    V.append(v)"
   ]
  },
  {
   "cell_type": "markdown",
   "id": "29",
   "metadata": {},
   "source": [
    "Although our numerical scheme is implemented in pure python, it is\n",
    "still handy to use `numpy` to slice through the data ..."
   ]
  },
  {
   "cell_type": "code",
   "execution_count": null,
   "id": "30",
   "metadata": {},
   "outputs": [],
   "source": [
    "import numpy as np\n",
    "\n",
    "R = np.array(R)\n",
    "X = R[:,:,0]\n",
    "Y = R[:,:,1]"
   ]
  },
  {
   "cell_type": "markdown",
   "id": "31",
   "metadata": {},
   "source": [
    "and plot the result..."
   ]
  },
  {
   "cell_type": "code",
   "execution_count": null,
   "id": "32",
   "metadata": {},
   "outputs": [],
   "source": [
    "from matplotlib import pyplot as plt\n",
    "\n",
    "plt.plot(X, Y, '.-')\n",
    "plt.gca().set_aspect('equal')"
   ]
  },
  {
   "cell_type": "markdown",
   "id": "33",
   "metadata": {},
   "source": [
    "In addition, we may create animation."
   ]
  },
  {
   "cell_type": "code",
   "execution_count": null,
   "id": "34",
   "metadata": {},
   "outputs": [],
   "source": [
    "from matplotlib.animation import ArtistAnimation\n",
    "from IPython.display import HTML\n",
    "from tqdm import tqdm\n",
    "\n",
    "def animate(X, Y, ntail=10):\n",
    "    fig, ax = plt.subplots(1, 1, figsize=(5,5))\n",
    "    ax.set_xlabel('x')\n",
    "    ax.set_ylabel('y')\n",
    "\n",
    "    frames = []\n",
    "    for i in tqdm(range(len(X))):\n",
    "        b,e = max(0, i-ntail), i+1\n",
    "        ax.set_prop_cycle(None)\n",
    "        f = ax.plot(X[b:e,:], Y[b:e,:], '.-', animated=True)\n",
    "        frames.append(f)\n",
    "\n",
    "    anim = ArtistAnimation(fig, frames, interval=50)\n",
    "    plt.close()\n",
    "    \n",
    "    return anim"
   ]
  },
  {
   "cell_type": "code",
   "execution_count": null,
   "id": "35",
   "metadata": {},
   "outputs": [],
   "source": [
    "anim = animate(X, Y)\n",
    "\n",
    "HTML(anim.to_html5_video())  # display animation\n",
    "# anim.save('orbitss.mp4')  # save animation"
   ]
  },
  {
   "cell_type": "markdown",
   "id": "36",
   "metadata": {},
   "source": [
    "## Benchmarking and Profiling Your Code\n",
    "\n",
    "Before diving into optimizations, it is essential to understand where\n",
    "our code spends most of its time.\n",
    "By benchmarking and profiling, we can pinpoint performance bottlenecks\n",
    "and measure improvements after optimization."
   ]
  },
  {
   "cell_type": "markdown",
   "id": "37",
   "metadata": {},
   "source": [
    "### Benchmarking vs. Profiling\n",
    "\n",
    "* Benchmarking:\n",
    "  Measures the overall runtime of your code.\n",
    "  Tools like Python's `timeit` module run your code multiple times to\n",
    "  provide an accurate average runtime.\n",
    "  This helps in comparing the performance before and after\n",
    "  optimizations.\n",
    "\n",
    "* Profiling:\n",
    "  Provides detailed insights into which parts of your code are\n",
    "  consuming the most time.\n",
    "  For example, `cProfile` generates reports showing function call\n",
    "  times and frequencies.\n",
    "  Note that `cProfile` typically runs the code once, so its focus is\n",
    "  on identifying hotspots rather than providing averaged timings."
   ]
  },
  {
   "cell_type": "markdown",
   "id": "38",
   "metadata": {},
   "source": [
    "### Quick Benchmark Example\n",
    "\n",
    "`timeit` is a module designed for benchmarking by executing code\n",
    "multiple times.\n",
    "It is excellent for obtaining reliable runtime measurements."
   ]
  },
  {
   "cell_type": "code",
   "execution_count": null,
   "id": "39",
   "metadata": {},
   "outputs": [],
   "source": [
    "n  = 1000\n",
    "m  = np.random.lognormal(size=n).tolist()\n",
    "r0 = np.random.normal(size=(n, 3)).tolist()\n",
    "v0 = np.random.normal(size=(n, 3)).tolist()"
   ]
  },
  {
   "cell_type": "code",
   "execution_count": null,
   "id": "40",
   "metadata": {},
   "outputs": [],
   "source": [
    "%timeit r1, v1 = leapfrog1(m, r0, v0, dt)"
   ]
  },
  {
   "cell_type": "markdown",
   "id": "41",
   "metadata": {},
   "source": [
    "It takes about 1.31 second on my laptop to run a single step of\n",
    "leapfrog for $n = 1000$ bodies.\n",
    "Your mileage may vary.\n",
    "But this is pretty slow in today's standard."
   ]
  },
  {
   "cell_type": "markdown",
   "id": "42",
   "metadata": {},
   "source": [
    "### Quick Profiling Example\n",
    "\n",
    "Here is a snippet using cProfile to profile our leapfrog stepper:"
   ]
  },
  {
   "cell_type": "code",
   "execution_count": null,
   "id": "43",
   "metadata": {},
   "outputs": [],
   "source": [
    "import cProfile\n",
    "\n",
    "cProfile.run(\"r1, v1 = leapfrog1(m, r0, v0, dt)\")"
   ]
  },
  {
   "cell_type": "markdown",
   "id": "44",
   "metadata": {},
   "source": [
    "From cProfile's result, the most used function is `method 'append' of\n",
    "'list' objects`.\n",
    "This is not surprising given we've been using for-loop and append,\n",
    "e.g.,\n",
    "```python\n",
    "    v1 = []\n",
    "    for i in range(n):\n",
    "        ...\n",
    "        v1.append(...)\n",
    "```\n",
    "in both `acc1()` and `leapfrog1()`.\n",
    "This is neither pythonic nor efficient.\n"
   ]
  },
  {
   "cell_type": "markdown",
   "id": "45",
   "metadata": {},
   "source": [
    "## Optimization 1: Use List Comprehension Over For Loop\n",
    "\n",
    "Python's list comprehensions is a concise way to create lists by\n",
    "iterating over an iterable and applying an expression---all in a\n",
    "single, compact line.\n",
    "Internally, they are optimized in `C`, making them generally faster\n",
    "than a standard python for-loop."
   ]
  },
  {
   "cell_type": "code",
   "execution_count": null,
   "id": "46",
   "metadata": {},
   "outputs": [],
   "source": [
    "iterable = range(10)\n",
    "\n",
    "# Standard python for-loop\n",
    "l1 = []\n",
    "for x in iterable:\n",
    "    l1.append(x * 2)\n",
    "\n",
    "# Using a list comprehension\n",
    "l2 = [x * 2 for x in iterable]\n",
    "\n",
    "# Compare results\n",
    "print(l1)\n",
    "print(l2)"
   ]
  },
  {
   "cell_type": "markdown",
   "id": "47",
   "metadata": {},
   "source": [
    "We may use list comprehension to rewrite our leapfrog algorithm:"
   ]
  },
  {
   "cell_type": "code",
   "execution_count": null,
   "id": "48",
   "metadata": {},
   "outputs": [],
   "source": [
    "# O1. Use List Comprehension Over For Loop\n",
    "\n",
    "def leapfrog2(m, r0, v0, dt, acc=acc1):\n",
    "\n",
    "    n  = len(m)\n",
    "\n",
    "    # vh = v0 + 0.5 * dt * a0\n",
    "    a0 = acc(m, r0)\n",
    "    vh = [[v0[i][k] + 0.5 * dt * a0[i][k]\n",
    "               for k in range(3)]\n",
    "               for i in range(n)]\n",
    "\n",
    "    # r1 = r0 + dt * vh\n",
    "    # TODO: use list comprehension to rewrite the remaining of our leapfrog algorithm\n",
    "\n",
    "    # v1 = vh + 0.5 * dt * a1\n",
    "    # TODO: use list comprehension to rewrite the remaining of our leapfrog algorithm\n",
    "\n",
    "    # TODO: return ..."
   ]
  },
  {
   "cell_type": "markdown",
   "id": "49",
   "metadata": {
    "jp-MarkdownHeadingCollapsed": true
   },
   "source": [
    "##### Begin of reference code"
   ]
  },
  {
   "cell_type": "markdown",
   "id": "50",
   "metadata": {},
   "source": [
    "```python\n",
    "# O1. Use List Comprehension Over For Loop\n",
    "\n",
    "def leapfrog2(m, r0, v0, dt, acc=acc1):\n",
    "\n",
    "    n  = len(m)\n",
    "\n",
    "    # vh = v0 + 0.5 * dt * a0\n",
    "    a0 = acc(m, r0)\n",
    "    vh = [[v0xi + 0.5 * dt * a0xi\n",
    "               for v0xi, a0xi in zip(v0i, a0i)]\n",
    "               for v0i,  a0i  in zip(v0,  a0 )]\n",
    "\n",
    "    # r1 = r0 + dt * vh\n",
    "    r1 = [[x0i + dt * vhxi\n",
    "               for x0i, vhxi in zip(r0i, vhi)]\n",
    "               for r0i, vhi  in zip(r0,  vh )]\n",
    "\n",
    "    # v1 = vh + 0.5 * dt * a1\n",
    "    a1 = acc(m, r1)\n",
    "    v1 = [[vhxi + 0.5 * dt * a1xi\n",
    "               for vhxi, a1xi in zip(vhi, a1i)]\n",
    "               for vhi,  a1i, in zip(vh,  a1 )]\n",
    "\n",
    "    return r1, v1\n",
    "```"
   ]
  },
  {
   "cell_type": "markdown",
   "id": "51",
   "metadata": {},
   "source": [
    "##### End of reference code"
   ]
  },
  {
   "cell_type": "code",
   "execution_count": null,
   "id": "52",
   "metadata": {},
   "outputs": [],
   "source": [
    "%timeit r1, v1 = leapfrog2(m, r0, v0, dt)"
   ]
  },
  {
   "cell_type": "code",
   "execution_count": null,
   "id": "53",
   "metadata": {},
   "outputs": [],
   "source": [
    "cProfile.run(\"r1, v1 = leapfrog2(m, r0, v0, dt)\")"
   ]
  },
  {
   "cell_type": "markdown",
   "id": "54",
   "metadata": {},
   "source": [
    "Depending on your python version, you may see slight performance\n",
    "increase from `timeit` and number of call decreased for `append`.\n",
    "It takes about 1.29 second on my laptop to run a single step of\n",
    "leapfrog for $n = 1000$ bodies."
   ]
  },
  {
   "cell_type": "markdown",
   "id": "55",
   "metadata": {},
   "source": [
    "## Optimization 2: Reduce Operation Count\n",
    "\n",
    "Reducing the operation count means cutting down on unnecessary\n",
    "calculations and redundant function calls.\n",
    "When operations are executed millions of times---as in inner loops or\n",
    "simulations---even small optimizations can yield significant speed\n",
    "improvements.\n",
    "\n",
    "For example, precomputing constant values or combining multiple\n",
    "arithmetic steps into one reduces repetitive work.\n",
    "In the context of the $n$-body problem, calculate invariant quantities\n",
    "once outside of critical loops instead of recalculating them every\n",
    "time.\n",
    "This streamlined approach not only speeds up your code but also help\n",
    "further optimizations like vectorization and JIT compilation."
   ]
  },
  {
   "cell_type": "markdown",
   "id": "56",
   "metadata": {},
   "source": [
    "Recall the benchmark using `leapfrog2()` with `acc1()`."
   ]
  },
  {
   "cell_type": "code",
   "execution_count": null,
   "id": "57",
   "metadata": {},
   "outputs": [],
   "source": [
    "%timeit r1, v1 = leapfrog2(m, r0, v0, dt, acc=acc1)"
   ]
  },
  {
   "cell_type": "markdown",
   "id": "58",
   "metadata": {},
   "source": [
    "We noticed that the computation of $\\mathbf{r}_{ij}^3 = |\\mathbf{r}_i\n",
    "- \\mathbf{r}_j|^3$ is used in all components of $\\mathbf{x}_{ij}$.\n",
    "Instead of recomputing it, we can simply cache it in a variable `rrr`."
   ]
  },
  {
   "cell_type": "code",
   "execution_count": null,
   "id": "59",
   "metadata": {},
   "outputs": [],
   "source": [
    "# O2a. \"Cache\" r^3\n",
    "\n",
    "def acc2(m, r):\n",
    "    \n",
    "    n = len(m)\n",
    "    a = []\n",
    "    for i in range(n):\n",
    "        axi, ayi, azi = 0, 0, 0\n",
    "        for j in range(n):\n",
    "            if j != i:\n",
    "                xi, yi, zi = r[i]\n",
    "                xj, yj, zj = r[j]\n",
    "\n",
    "                # TODO: \"Cache\" r^3 below\n",
    "                axij = - m[j] * (xi - xj) / ((xi - xj)**2 + (yi - yj)**2 + (zi - zj)**2)**(3/2)\n",
    "                ayij = - m[j] * (yi - yj) / ((xi - xj)**2 + (yi - yj)**2 + (zi - zj)**2)**(3/2)\n",
    "                azij = - m[j] * (zi - zj) / ((xi - xj)**2 + (yi - yj)**2 + (zi - zj)**2)**(3/2)\n",
    "                \n",
    "                axi += axij\n",
    "                ayi += ayij\n",
    "                azi += azij\n",
    "\n",
    "        a.append((axi, ayi, azi))\n",
    "\n",
    "    return a"
   ]
  },
  {
   "cell_type": "markdown",
   "id": "60",
   "metadata": {
    "jp-MarkdownHeadingCollapsed": true
   },
   "source": [
    "##### Begin of reference code"
   ]
  },
  {
   "cell_type": "markdown",
   "id": "61",
   "metadata": {},
   "source": [
    "```python\n",
    "# O2a. \"Cache\" r^3\n",
    "\n",
    "def acc2(m, r):\n",
    "    \n",
    "    n = len(m)\n",
    "    a = []\n",
    "    for i in range(n):\n",
    "        axi, ayi, azi = 0, 0, 0\n",
    "        for j in range(n):\n",
    "            if j != i:\n",
    "                xi, yi, zi = r[i]\n",
    "                xj, yj, zj = r[j]\n",
    "\n",
    "                # \"Cache\" r^3\n",
    "                rrr = ((xi - xj)**2 + (yi - yj)**2 + (zi - zj)**2)**(3/2)\n",
    "                \n",
    "                axij = - m[j] * (xi - xj) / rrr\n",
    "                ayij = - m[j] * (yi - yj) / rrr\n",
    "                azij = - m[j] * (zi - zj) / rrr\n",
    "\n",
    "                axi += axij\n",
    "                ayi += ayij\n",
    "                azi += azij\n",
    "\n",
    "        a.append((axi, ayi, azi))\n",
    "\n",
    "    return a\n",
    "```"
   ]
  },
  {
   "cell_type": "markdown",
   "id": "62",
   "metadata": {},
   "source": [
    "##### End of reference code"
   ]
  },
  {
   "cell_type": "code",
   "execution_count": null,
   "id": "63",
   "metadata": {},
   "outputs": [],
   "source": [
    "%timeit r1, v1 = leapfrog2(m, r0, v0, dt, acc=acc2)"
   ]
  },
  {
   "cell_type": "markdown",
   "id": "64",
   "metadata": {},
   "source": [
    "This reduce the benchmark time by about 45% already!"
   ]
  },
  {
   "cell_type": "markdown",
   "id": "65",
   "metadata": {},
   "source": [
    "But we don't have to stop from this.\n",
    "The different components of $\\mathbf{r}_{ij} = \\mathbf{r}_i -\n",
    "\\mathbf{r}_j$ can be cached as `dx`, `dy`, `dz`, too."
   ]
  },
  {
   "cell_type": "code",
   "execution_count": null,
   "id": "66",
   "metadata": {},
   "outputs": [],
   "source": [
    "# O2b. \"Cache\" the components of dr = r_ij = ri - rj\n",
    "\n",
    "def acc3(m, r):\n",
    "    \n",
    "    n = len(m)\n",
    "    a = []\n",
    "    for i in range(n):\n",
    "        axi, ayi, azi = 0, 0, 0\n",
    "        for j in range(n):\n",
    "            if j != i:\n",
    "                xi, yi, zi = r[i]\n",
    "                xj, yj, zj = r[j]\n",
    "\n",
    "                # TODO: \"Cache\" the components of dr = r_ij = ri - rj\n",
    "                rrr = ((xi - xj)**2 + (yi - yj)**2 + (zi - zj)**2)**(3/2)\n",
    "                \n",
    "                axij = - m[j] * (xi - xj) / rrr\n",
    "                ayij = - m[j] * (yi - yj) / rrr\n",
    "                azij = - m[j] * (zi - zj) / rrr\n",
    "\n",
    "                axi += axij\n",
    "                ayi += ayij\n",
    "                azi += azij\n",
    "\n",
    "        a.append((axi, ayi, azi))\n",
    "\n",
    "    return a"
   ]
  },
  {
   "cell_type": "markdown",
   "id": "67",
   "metadata": {
    "jp-MarkdownHeadingCollapsed": true
   },
   "source": [
    "##### Begin of reference code"
   ]
  },
  {
   "cell_type": "markdown",
   "id": "68",
   "metadata": {},
   "source": [
    "```python\n",
    "# O2b. \"Cache\" the components of dr = r_ij = ri - rj\n",
    "\n",
    "def acc3(m, r):\n",
    "    \n",
    "    n = len(m)\n",
    "    a = []\n",
    "    for i in range(n):\n",
    "        axi, ayi, azi = 0, 0, 0\n",
    "        for j in range(n):\n",
    "            if j != i:\n",
    "                xi, yi, zi = r[i]\n",
    "                xj, yj, zj = r[j]\n",
    "\n",
    "                # \"Cache\" the components of dr = r_ij = ri - rj\n",
    "                dx = xi - xj\n",
    "                dy = yi - yj\n",
    "                dz = zi - zj\n",
    "\n",
    "                rrr = (dx**2 + dy**2 + dz**2)**(3/2)\n",
    "                \n",
    "                axij = - m[j] * dx / rrr\n",
    "                ayij = - m[j] * dy / rrr\n",
    "                azij = - m[j] * dz / rrr\n",
    "\n",
    "                axi += axij\n",
    "                ayi += ayij\n",
    "                azi += azij\n",
    "\n",
    "        a.append((axi, ayi, azi))\n",
    "\n",
    "    return a\n",
    "```"
   ]
  },
  {
   "cell_type": "markdown",
   "id": "69",
   "metadata": {},
   "source": [
    "##### End of reference code"
   ]
  },
  {
   "cell_type": "code",
   "execution_count": null,
   "id": "70",
   "metadata": {},
   "outputs": [],
   "source": [
    "%timeit r1, v1 = leapfrog2(m, r0, v0, dt, acc=acc3)"
   ]
  },
  {
   "cell_type": "markdown",
   "id": "71",
   "metadata": {},
   "source": [
    "Similarly, we can cache $-m_j / |\\mathbf{r}_{ij}|^3$."
   ]
  },
  {
   "cell_type": "code",
   "execution_count": null,
   "id": "72",
   "metadata": {},
   "outputs": [],
   "source": [
    "# O2c. \"cache\" -m_j / r_{ij}^3\n",
    "\n",
    "def acc4(m, r):\n",
    "    \n",
    "    n = len(m)\n",
    "    a = []\n",
    "    for i in range(n):\n",
    "        axi, ayi, azi = 0, 0, 0\n",
    "        for j in range(n):\n",
    "            if j != i:\n",
    "                xi, yi, zi = r[i]\n",
    "                xj, yj, zj = r[j]\n",
    "\n",
    "                dx = xi - xj\n",
    "                dy = yi - yj\n",
    "                dz = zi - zj\n",
    "\n",
    "                rrr = (dx**2 + dy**2 + dz**2)**(3/2)\n",
    "\n",
    "                # TODO: \"cache\" -m_j / r_{ij}^3\n",
    "                axij = - m[j] * dx / rrr\n",
    "                ayij = - m[j] * dy / rrr\n",
    "                azij = - m[j] * dz / rrr\n",
    "\n",
    "                axi += axij\n",
    "                ayi += ayij\n",
    "                azi += azij\n",
    "\n",
    "        a.append((axi, ayi, azi))\n",
    "\n",
    "    return a"
   ]
  },
  {
   "cell_type": "markdown",
   "id": "73",
   "metadata": {
    "jp-MarkdownHeadingCollapsed": true
   },
   "source": [
    "##### Begin of reference code"
   ]
  },
  {
   "cell_type": "markdown",
   "id": "74",
   "metadata": {},
   "source": [
    "```python\n",
    "# O2c. \"cache\" -m_j / r_{ij}^3\n",
    "\n",
    "def acc4(m, r):\n",
    "    \n",
    "    n = len(m)\n",
    "    a = []\n",
    "    for i in range(n):\n",
    "        axi, ayi, azi = 0, 0, 0\n",
    "        for j in range(n):\n",
    "            if j != i:\n",
    "                xi, yi, zi = r[i]\n",
    "                xj, yj, zj = r[j]\n",
    "\n",
    "                dx = xi - xj\n",
    "                dy = yi - yj\n",
    "                dz = zi - zj\n",
    "\n",
    "                rrr = (dx**2 + dy**2 + dz**2)**(3/2)\n",
    "                f   = - m[j] / rrr # \"cache\" -m_j / r_{ij}^3\n",
    "\n",
    "                axi += f * dx\n",
    "                ayi += f * dy\n",
    "                azi += f * dz\n",
    "\n",
    "        a.append((axi, ayi, azi))\n",
    "\n",
    "    return a\n",
    "```"
   ]
  },
  {
   "cell_type": "markdown",
   "id": "75",
   "metadata": {},
   "source": [
    "##### End of reference code"
   ]
  },
  {
   "cell_type": "code",
   "execution_count": null,
   "id": "76",
   "metadata": {},
   "outputs": [],
   "source": [
    "%timeit r1, v1 = leapfrog2(m, r0, v0, dt, acc=acc4)"
   ]
  },
  {
   "cell_type": "markdown",
   "id": "77",
   "metadata": {},
   "source": [
    "Finally, we notice the symmetry that $\\mathbf{a}_{ij} = \\mathbf{a}_{ji}$.\n",
    "In principle, we only need to compute $\\mathbf{a}_{ij}$ for $j < i$.\n",
    "However, this requires we pre-allocate a list-of-list.\n",
    "Just creating list-of-list and use them to keep track of the\n",
    "acceleration actually increase benchmark time."
   ]
  },
  {
   "cell_type": "code",
   "execution_count": null,
   "id": "78",
   "metadata": {},
   "outputs": [],
   "source": [
    "# O2d. Use list-of-list to keep track of the acceleration\n",
    "\n",
    "def acc5(m, r):\n",
    "    \n",
    "    n = len(m)\n",
    "    a = [] # TODO: create a list-of-list\n",
    "    for i in range(n):\n",
    "        axi, ayi, azi = 0, 0, 0\n",
    "        for j in range(n):\n",
    "            if j != i:\n",
    "                xi, yi, zi = r[i]\n",
    "                xj, yj, zj = r[j]\n",
    "\n",
    "                dx = xi - xj\n",
    "                dy = yi - yj\n",
    "                dz = zi - zj\n",
    "\n",
    "                rrr = (dx**2 + dy**2 + dz**2)**(3/2)\n",
    "                f   = - m[j] / rrr\n",
    "\n",
    "                # TODO: Use the list-of-list to keep track of the acceleration\n",
    "                axi += f * dx\n",
    "                ayi += f * dy\n",
    "                azi += f * dz\n",
    "\n",
    "        a.append((axi, ayi, azi))\n",
    "\n",
    "    return a"
   ]
  },
  {
   "cell_type": "markdown",
   "id": "79",
   "metadata": {
    "jp-MarkdownHeadingCollapsed": true
   },
   "source": [
    "##### Begin of reference code"
   ]
  },
  {
   "cell_type": "markdown",
   "id": "80",
   "metadata": {},
   "source": [
    "```python\n",
    "# O2d. Use list-of-list to keep track of the acceleration\n",
    "\n",
    "def acc5(m, r):\n",
    "    \n",
    "    n = len(m)\n",
    "    a = [[0]*3]*n # create a list-of-list\n",
    "    for i in range(n):\n",
    "        for j in range(n):\n",
    "            if j != i:\n",
    "                xi, yi, zi = r[i]\n",
    "                xj, yj, zj = r[j]\n",
    "\n",
    "                dx = xi - xj\n",
    "                dy = yi - yj\n",
    "                dz = zi - zj\n",
    "\n",
    "                rrr = (dx**2 + dy**2 + dz**2)**(3/2)\n",
    "                f   = - m[j] / rrr\n",
    "\n",
    "                # Use the list-of-list to keep track of the acceleration\n",
    "                a[i][0] += f * dx\n",
    "                a[i][1] += f * dy\n",
    "                a[i][2] += f * dz\n",
    "\n",
    "    return a\n",
    "```"
   ]
  },
  {
   "cell_type": "markdown",
   "id": "81",
   "metadata": {},
   "source": [
    "##### End of reference code"
   ]
  },
  {
   "cell_type": "code",
   "execution_count": null,
   "id": "82",
   "metadata": {},
   "outputs": [],
   "source": [
    "%timeit r1, v1 = leapfrog2(m, r0, v0, dt, acc=acc5)"
   ]
  },
  {
   "cell_type": "markdown",
   "id": "83",
   "metadata": {},
   "source": [
    "But once we have the list-of-list, we may change the upper bound of\n",
    "the inner loop to cut the computation to almost half.\n",
    "This is the fastest code so far."
   ]
  },
  {
   "cell_type": "code",
   "execution_count": null,
   "id": "84",
   "metadata": {},
   "outputs": [],
   "source": [
    "# O2e. Take advantage of the symmetry of a_ij\n",
    "\n",
    "def acc6(m, r):\n",
    "    \n",
    "    n = len(m)\n",
    "    a = [[0]*3]*n\n",
    "    for i in range(n):\n",
    "        for j in range(n): # TODO: adjust the upper bound of the inner loop\n",
    "            if j != i:\n",
    "                xi, yi, zi = r[i]\n",
    "                xj, yj, zj = r[j]\n",
    "\n",
    "                dx = xi - xj\n",
    "                dy = yi - yj\n",
    "                dz = zi - zj\n",
    "\n",
    "                rrr = (dx**2 + dy**2 + dz**2)**(3/2)\n",
    "                f   = - m[j] / rrr\n",
    "\n",
    "                a[i][0] += f * dx\n",
    "                a[i][1] += f * dy\n",
    "                a[i][2] += f * dz\n",
    "\n",
    "                # TODO: Account the acceleration to the j-th body.\n",
    "\n",
    "    return a"
   ]
  },
  {
   "cell_type": "markdown",
   "id": "85",
   "metadata": {
    "jp-MarkdownHeadingCollapsed": true
   },
   "source": [
    "##### Begin of reference code"
   ]
  },
  {
   "cell_type": "markdown",
   "id": "86",
   "metadata": {},
   "source": [
    "```python\n",
    "# O2e. Take advantage of the symmetry of a_ij\n",
    "\n",
    "def acc6(m, r):\n",
    "    \n",
    "    n = len(m)\n",
    "    a = [[0]*3]*n\n",
    "    for i in range(n):\n",
    "        for j in range(i): # adjust the upper bound of the inner loop\n",
    "            xi, yi, zi = r[i]\n",
    "            xj, yj, zj = r[j]\n",
    "\n",
    "            dx = xi - xj\n",
    "            dy = yi - yj\n",
    "            dz = zi - zj\n",
    "\n",
    "            rrr = (dx**2 + dy**2 + dz**2)**(3/2)\n",
    "            fi  =   m[i] / rrr\n",
    "            fj  = - m[j] / rrr\n",
    "            \n",
    "            a[i][0] += fj * dx\n",
    "            a[i][1] += fj * dy\n",
    "            a[i][2] += fj * dz\n",
    "\n",
    "            # Account the acceleration to the j-th body.\n",
    "            a[j][0] += fi * dx\n",
    "            a[j][1] += fi * dy\n",
    "            a[j][2] += fi * dz\n",
    "\n",
    "    return a\n",
    "```"
   ]
  },
  {
   "cell_type": "markdown",
   "id": "87",
   "metadata": {},
   "source": [
    "##### End of reference code"
   ]
  },
  {
   "cell_type": "code",
   "execution_count": null,
   "id": "88",
   "metadata": {},
   "outputs": [],
   "source": [
    "%timeit r1, v1 = leapfrog2(m, r0, v0, dt, acc=acc6)"
   ]
  },
  {
   "cell_type": "markdown",
   "id": "89",
   "metadata": {},
   "source": [
    "However, `acc?()` is not the only function we can optimize to reduce\n",
    "operation count.\n",
    "If we study `leapfrog?()` carefully, the acceleration `a` in the\n",
    "second \"kick\" calculation can actually be reused by the first \"kick\"\n",
    "of the next step.\n",
    "This requires modifying the function prototype a bit."
   ]
  },
  {
   "cell_type": "code",
   "execution_count": null,
   "id": "90",
   "metadata": {},
   "outputs": [],
   "source": [
    "# O2f. Reuse computation\n",
    "\n",
    "def leapfrog3(m, r0, v0, a0, dt, acc=acc6):\n",
    "\n",
    "    n  = len(m)\n",
    "\n",
    "    # vh = v0 + 0.5 * dt * a0\n",
    "    a0 = acc(m, r0) # TODO: we comment this out, and reuse the acceleration computed in the second \"kick\" of the previous step\n",
    "    vh = [[v0xi + 0.5 * dt * a0xi\n",
    "               for v0xi, a0xi in zip(v0i, a0i)]\n",
    "               for v0i,  a0i  in zip(v0,  a0 )]\n",
    "\n",
    "    # r1 = r0 + dt * vh\n",
    "    r1 = [[x0i + dt * vhxi\n",
    "               for x0i, vhxi in zip(r0i, vhi)]\n",
    "               for r0i, vhi  in zip(r0,  vh )]\n",
    "\n",
    "    # v1 = vh + 0.5 * dt * a1\n",
    "    a1 = acc(m, r1)\n",
    "    v1 = [[vhxi + 0.5 * dt * a1xi\n",
    "               for vhxi, a1xi in zip(vhi, a1i)]\n",
    "               for vhi,  a1i, in zip(vh,  a1 )]\n",
    "\n",
    "    return r1, v1 # TODO: to reuse the acceleration computed in the second \"kick\", let's return it."
   ]
  },
  {
   "cell_type": "markdown",
   "id": "91",
   "metadata": {
    "jp-MarkdownHeadingCollapsed": true
   },
   "source": [
    "##### Begin of reference code"
   ]
  },
  {
   "cell_type": "markdown",
   "id": "92",
   "metadata": {},
   "source": [
    "```python\n",
    "# O2f. Reuse computation\n",
    "\n",
    "def leapfrog3(m, r0, v0, a0, dt, acc=acc6):\n",
    "\n",
    "    n  = len(m)\n",
    "\n",
    "    # vh = v0 + 0.5 * dt * a0\n",
    "    # a0 = acc(m, r0) <--- we comment this out, and reuse the acceleration computed in the second \"kick\" of the previous step\n",
    "    vh = [[v0xi + 0.5 * dt * a0xi\n",
    "               for v0xi, a0xi in zip(v0i, a0i)]\n",
    "               for v0i,  a0i  in zip(v0,  a0 )]\n",
    "\n",
    "    # r1 = r0 + dt * vh\n",
    "    r1 = [[x0i + dt * vhxi\n",
    "               for x0i, vhxi in zip(r0i, vhi)]\n",
    "               for r0i, vhi  in zip(r0,  vh )]\n",
    "\n",
    "    # v1 = vh + 0.5 * dt * a1\n",
    "    a1 = acc(m, r1)\n",
    "    v1 = [[vhxi + 0.5 * dt * a1xi\n",
    "               for vhxi, a1xi in zip(vhi, a1i)]\n",
    "               for vhi,  a1i, in zip(vh,  a1 )]\n",
    "\n",
    "    return r1, v1, a1 # <--- to reuse the acceleration computed in the second \"kick\", let's return it.\n",
    "```"
   ]
  },
  {
   "cell_type": "markdown",
   "id": "93",
   "metadata": {},
   "source": [
    "##### End of reference code"
   ]
  },
  {
   "cell_type": "code",
   "execution_count": null,
   "id": "94",
   "metadata": {},
   "outputs": [],
   "source": [
    "# Precompute `a0` so we can pass it to `leapfrog3()`\n",
    "a0 = acc4(m, r0)"
   ]
  },
  {
   "cell_type": "code",
   "execution_count": null,
   "id": "95",
   "metadata": {},
   "outputs": [],
   "source": [
    "%timeit r1, v1, a1 = leapfrog3(m, r0, v0, a0, dt, acc=acc4)"
   ]
  },
  {
   "cell_type": "code",
   "execution_count": null,
   "id": "96",
   "metadata": {},
   "outputs": [],
   "source": [
    "%timeit r1, v1, a1 = leapfrog3(m, r0, v0, a0, dt, acc=acc6)"
   ]
  },
  {
   "cell_type": "markdown",
   "id": "97",
   "metadata": {},
   "source": [
    "Remarkable, it takes about 241ms on my laptop to run a single step of\n",
    "leapfrog for $n = 1000$ bodies.\n",
    "This is almost a 92% reduction in benchmark time!!!"
   ]
  },
  {
   "cell_type": "markdown",
   "id": "98",
   "metadata": {},
   "source": [
    "## Optimizing 3: Use Fast Operations\n",
    "\n",
    "Certain operations in Python can be surprisingly slow.\n",
    "For example, the power operator (`**`) often calls C's pow() function,\n",
    "which for non-integer or variable exponents is typically implemented\n",
    "as:\n",
    "\\begin{align}\n",
    "  x^y = \\exp[y \\cdot \\ln(x)]\n",
    "\\end{align}\n",
    "This method involves calculating a logarithm, a multiplication, and an\n",
    "exponential---operations that are much slower than simple\n",
    "multiplication."
   ]
  },
  {
   "cell_type": "markdown",
   "id": "99",
   "metadata": {},
   "source": [
    "For instance, if you need to square a number, it's much faster to\n",
    "write `x*x` rather than `x**2`.\n",
    "When the exponent is a known small integer, manually multiplying the\n",
    "base is usually the quickest route.\n",
    "\n",
    "By choosing fast operations over more generic ones, you can shave off\n",
    "microseconds in code that runs millions of times, ultimately\n",
    "contributing to some performance boost."
   ]
  },
  {
   "cell_type": "code",
   "execution_count": null,
   "id": "100",
   "metadata": {},
   "outputs": [],
   "source": [
    "# O3. Use fast operations\n",
    "\n",
    "def acc7(m, r): # this is the same as acc4()\n",
    "    \n",
    "    n = len(m)\n",
    "    a = []\n",
    "    for i in range(n):\n",
    "        axi, ayi, azi = 0, 0, 0\n",
    "        for j in range(n):\n",
    "            if j != i:\n",
    "                xi, yi, zi = r[i]\n",
    "                xj, yj, zj = r[j]\n",
    "\n",
    "                dx = xi - xj\n",
    "                dy = yi - yj\n",
    "                dz = zi - zj\n",
    "\n",
    "                rrr = (dx**2 + dy**2 + dz**2)**(3/2) # TODO: replace dx**2 by dx*dx etc\n",
    "                f   = - m[j] / rrr\n",
    "\n",
    "                axi += f * dx\n",
    "                ayi += f * dy\n",
    "                azi += f * dz\n",
    "\n",
    "        a.append((axi, ayi, azi))\n",
    "\n",
    "    return a"
   ]
  },
  {
   "cell_type": "markdown",
   "id": "101",
   "metadata": {
    "jp-MarkdownHeadingCollapsed": true
   },
   "source": [
    "##### Begin of reference code"
   ]
  },
  {
   "cell_type": "markdown",
   "id": "102",
   "metadata": {},
   "source": [
    "```python\n",
    "# O3. Use fast operations\n",
    "\n",
    "def acc7(m, r): # this is a modification of acc4()\n",
    "    \n",
    "    n = len(m)\n",
    "    a = []\n",
    "    for i in range(n):\n",
    "        axi, ayi, azi = 0, 0, 0\n",
    "        for j in range(n):\n",
    "            if j != i:\n",
    "                xi, yi, zi = r[i]\n",
    "                xj, yj, zj = r[j]\n",
    "\n",
    "                dx = xi - xj\n",
    "                dy = yi - yj\n",
    "                dz = zi - zj\n",
    "\n",
    "                rrr = (dx*dx + dy*dy + dz*dz)**(3/2) # replace dx**2 by dx*dx etc\n",
    "                f   = - m[j] / rrr\n",
    "\n",
    "                axi += f * dx\n",
    "                ayi += f * dy\n",
    "                azi += f * dz\n",
    "\n",
    "        a.append((axi, ayi, azi))\n",
    "\n",
    "    return a\n",
    "```"
   ]
  },
  {
   "cell_type": "markdown",
   "id": "103",
   "metadata": {},
   "source": [
    "##### End of reference code"
   ]
  },
  {
   "cell_type": "code",
   "execution_count": null,
   "id": "104",
   "metadata": {},
   "outputs": [],
   "source": [
    "%timeit r1, v1, a1 = leapfrog3(m, r0, v0, a0, dt, acc=acc7)"
   ]
  },
  {
   "cell_type": "code",
   "execution_count": null,
   "id": "105",
   "metadata": {},
   "outputs": [],
   "source": [
    "# O3. Use fast operations\n",
    "\n",
    "def acc8(m, r): # this is the same as acc6()\n",
    "    \n",
    "    n = len(m)\n",
    "    a = [[0]*3]*n\n",
    "    for i in range(n):\n",
    "        for j in range(i):\n",
    "            xi, yi, zi = r[i]\n",
    "            xj, yj, zj = r[j]\n",
    "\n",
    "            dx = xi - xj\n",
    "            dy = yi - yj\n",
    "            dz = zi - zj\n",
    "\n",
    "            rrr = (dx**2 + dy**2 + dz**2)**(3/2) # TODO: replace dx**2 by dx*dx etc\n",
    "            fi  =   m[i] / rrr\n",
    "            fj  = - m[j] / rrr\n",
    "            \n",
    "            a[i][0] += fj * dx\n",
    "            a[i][1] += fj * dy\n",
    "            a[i][2] += fj * dz\n",
    "\n",
    "            a[j][0] += fi * dx\n",
    "            a[j][1] += fi * dy\n",
    "            a[j][2] += fi * dz\n",
    "\n",
    "    return a"
   ]
  },
  {
   "cell_type": "markdown",
   "id": "106",
   "metadata": {
    "jp-MarkdownHeadingCollapsed": true
   },
   "source": [
    "##### Begin of reference code"
   ]
  },
  {
   "cell_type": "markdown",
   "id": "107",
   "metadata": {},
   "source": [
    "```python\n",
    "# O3. Use fast operations\n",
    "\n",
    "def acc8(m, r): # this is a modification of acc6()\n",
    "    \n",
    "    n = len(m)\n",
    "    a = [[0]*3]*n\n",
    "    for i in range(n):\n",
    "        for j in range(i):\n",
    "            xi, yi, zi = r[i]\n",
    "            xj, yj, zj = r[j]\n",
    "\n",
    "            dx = xi - xj\n",
    "            dy = yi - yj\n",
    "            dz = zi - zj\n",
    "\n",
    "            rrr = (dx*dx + dy*dy + dz*dz)**(3/2) # replace dx**2 by dx*dx etc\n",
    "            fi  =   m[i] / rrr\n",
    "            fj  = - m[j] / rrr\n",
    "            \n",
    "            a[i][0] += fj * dx\n",
    "            a[i][1] += fj * dy\n",
    "            a[i][2] += fj * dz\n",
    "\n",
    "            a[j][0] += fi * dx\n",
    "            a[j][1] += fi * dy\n",
    "            a[j][2] += fi * dz\n",
    "\n",
    "    return a\n",
    "```"
   ]
  },
  {
   "cell_type": "markdown",
   "id": "108",
   "metadata": {},
   "source": [
    "##### End of reference code"
   ]
  },
  {
   "cell_type": "code",
   "execution_count": null,
   "id": "109",
   "metadata": {},
   "outputs": [],
   "source": [
    "%timeit r1, v1, a1 = leapfrog3(m, r0, v0, a0, dt, acc=acc8)"
   ]
  },
  {
   "cell_type": "markdown",
   "id": "110",
   "metadata": {},
   "source": [
    "Surprisingly, although `acc7()` does not take advantage of the\n",
    "symmetry of $\\mathbf{a}_{ij}$, it is now faster than `acc6()`.\n",
    "On the other hand, `acc8()` is still slightly faster than `acc7()`."
   ]
  },
  {
   "cell_type": "markdown",
   "id": "111",
   "metadata": {},
   "source": [
    "Without external libraries, we've cut benchmark time by nearly 93%---a\n",
    "14x speedup over our original $n$-body implementation.\n",
    "While impressive even compared to compiled languages, this is just the\n",
    "beginning.\n",
    "By leveraging high-performance libraries, we can overcome Python's\n",
    "inherent slowness and move closer to our goal of a 1000x speedup."
   ]
  },
  {
   "cell_type": "markdown",
   "id": "112",
   "metadata": {},
   "source": [
    "## Optimization 4: Use High Performance Libraries\n",
    "\n",
    "Leveraging high-performance libraries like NumPy is key to\n",
    "accelerating Python code.\n",
    "NumPy's vectorized operations, implemented in C, allow you to perform\n",
    "complex computations on large arrays far more efficiently than native\n",
    "Python loops.\n",
    "This means you can offload heavy calculations to optimized, low-level\n",
    "routines and achieve significant speedups."
   ]
  },
  {
   "cell_type": "code",
   "execution_count": null,
   "id": "113",
   "metadata": {},
   "outputs": [],
   "source": [
    "# O4. Use NumPy\n",
    "\n",
    "def acc9(m, r): # this is the same as acc7()\n",
    "    \n",
    "    n = len(m)\n",
    "    \n",
    "    # TODO: rewrite the following code using numpy\n",
    "    a = []\n",
    "    for i in range(n):\n",
    "        axi, ayi, azi = 0, 0, 0\n",
    "        for j in range(n):\n",
    "            if j != i:\n",
    "                xi, yi, zi = r[i]\n",
    "                xj, yj, zj = r[j]\n",
    "\n",
    "                dx = xi - xj\n",
    "                dy = yi - yj\n",
    "                dz = zi - zj\n",
    "\n",
    "                rrr = (dx*dx + dy*dy + dz*dz)**(3/2)\n",
    "                f   = - m[j] / rrr\n",
    "\n",
    "                axi += f * dx\n",
    "                ayi += f * dy\n",
    "                azi += f * dz\n",
    "\n",
    "        a.append((axi, ayi, azi))\n",
    "\n",
    "    return a"
   ]
  },
  {
   "cell_type": "markdown",
   "id": "114",
   "metadata": {
    "jp-MarkdownHeadingCollapsed": true
   },
   "source": [
    "##### Begin of reference code"
   ]
  },
  {
   "cell_type": "markdown",
   "id": "115",
   "metadata": {},
   "source": [
    "```python\n",
    "# O4. Use NumPy\n",
    "\n",
    "def acc9(m, r): # this is a modification of acc7(); acc8() is difficult to take advantage of numpy\n",
    "\n",
    "    # idx:  i j           i    j\n",
    "    #       v v           v    v\n",
    "    dr  = r[:,None,:] - r[None,:,:]\n",
    "    rr  = np.sum(dr * dr, axis=-1) # sum over vector components\n",
    "\n",
    "    # Ensure rr is non-zero\n",
    "    rr  = np.maximum(rr, 1e-24)\n",
    "\n",
    "    # idx:   i    j\n",
    "    #        v    v\n",
    "    f   = -m[None,:] / rr**(3/2)\n",
    "    a   = np.sum(f[:,:,None] * dr, axis=1) # sum over j\n",
    "    \n",
    "    return a\n",
    "```"
   ]
  },
  {
   "cell_type": "markdown",
   "id": "116",
   "metadata": {},
   "source": [
    "##### End of reference code"
   ]
  },
  {
   "cell_type": "markdown",
   "id": "117",
   "metadata": {},
   "source": [
    "We may do the same for leapfrog:"
   ]
  },
  {
   "cell_type": "code",
   "execution_count": null,
   "id": "118",
   "metadata": {},
   "outputs": [],
   "source": [
    "# O4. Use NumPy\n",
    "\n",
    "def leapfrog4(m, r0, v0, a0, dt, acc=acc6):\n",
    "\n",
    "    # TODO: rewrite the following code using numpy\n",
    "    \n",
    "    n  = len(m)\n",
    "\n",
    "    # vh = v0 + 0.5 * dt * a0\n",
    "    vh = [[v0xi + 0.5 * dt * a0xi\n",
    "               for v0xi, a0xi in zip(v0i, a0i)]\n",
    "               for v0i,  a0i  in zip(v0,  a0 )]\n",
    "\n",
    "    # r1 = r0 + dt * vh\n",
    "    r1 = [[x0i + dt * vhxi\n",
    "               for x0i, vhxi in zip(r0i, vhi)]\n",
    "               for r0i, vhi  in zip(r0,  vh )]\n",
    "\n",
    "    # v1 = vh + 0.5 * dt * a1\n",
    "    a1 = acc(m, r1)\n",
    "    v1 = [[vhxi + 0.5 * dt * a1xi\n",
    "               for vhxi, a1xi in zip(vhi, a1i)]\n",
    "               for vhi,  a1i, in zip(vh,  a1 )]\n",
    "\n",
    "    return r1, v1, a1"
   ]
  },
  {
   "cell_type": "markdown",
   "id": "119",
   "metadata": {
    "jp-MarkdownHeadingCollapsed": true
   },
   "source": [
    "##### Begin of reference code"
   ]
  },
  {
   "cell_type": "markdown",
   "id": "120",
   "metadata": {},
   "source": [
    "```python\n",
    "# O4. Use NumPy\n",
    "\n",
    "def leapfrog4(m, r0, v0, a0, dt, acc=acc9):\n",
    "    ht = 0.5 * dt\n",
    "\n",
    "    vh = v0 + ht * a0\n",
    "    r1 = r0 + dt * vh\n",
    "    \n",
    "    a1 = acc(m, r1)\n",
    "    v1 = vh + ht * a1\n",
    "\n",
    "    return r1, v1, a1\n",
    "```"
   ]
  },
  {
   "cell_type": "markdown",
   "id": "121",
   "metadata": {},
   "source": [
    "##### End of reference code"
   ]
  },
  {
   "cell_type": "code",
   "execution_count": null,
   "id": "122",
   "metadata": {},
   "outputs": [],
   "source": [
    "m  = np.array(m)\n",
    "r0 = np.array(r0)\n",
    "v0 = np.array(v0)\n",
    "a0 = np.array(a0)"
   ]
  },
  {
   "cell_type": "code",
   "execution_count": null,
   "id": "123",
   "metadata": {},
   "outputs": [],
   "source": [
    "%timeit r1, v1, a1 = leapfrog4(m, r0, v0, a0, dt, acc=acc9)"
   ]
  },
  {
   "cell_type": "code",
   "execution_count": null,
   "id": "124",
   "metadata": {},
   "outputs": [],
   "source": [
    "cProfile.run(\"r1, v1, a1 = leapfrog4(m, r0, v0, a0, dt, acc=acc9)\")"
   ]
  },
  {
   "cell_type": "markdown",
   "id": "125",
   "metadata": {},
   "source": [
    "This runs at 38.3ms on my laptop.\n",
    "This cuts the benchmark time by 99% (which is no longer good\n",
    "indicator) and reaches a 82x speedup!"
   ]
  },
  {
   "cell_type": "markdown",
   "id": "126",
   "metadata": {},
   "source": [
    "## Optimization 5: Use Lower Precision\n",
    "\n",
    "Using lower precision arithmetic can reduce memory usage and\n",
    "potentially speed up calculations.\n",
    "However, the benefits depend heavily on your hardware.\n",
    "For instance, on Intel x86 platforms, single precision may actually be\n",
    "slower than double precision due to conversion overhead and how the\n",
    "hardware is optimized.\n",
    "Always test and profile on your target system before switching to\n",
    "lower precision."
   ]
  },
  {
   "cell_type": "code",
   "execution_count": null,
   "id": "127",
   "metadata": {},
   "outputs": [],
   "source": [
    "# 04. Use Lower Precision\n",
    "\n",
    "# TODO: case the arrays `m`, `r0`, `v0`, and `a0` to single precision."
   ]
  },
  {
   "cell_type": "markdown",
   "id": "128",
   "metadata": {
    "jp-MarkdownHeadingCollapsed": true
   },
   "source": [
    "##### Begin of reference code"
   ]
  },
  {
   "cell_type": "markdown",
   "id": "129",
   "metadata": {},
   "source": [
    "```python\n",
    "m  = np.array(m,  dtype=np.single)\n",
    "r0 = np.array(r0, dtype=np.single)\n",
    "v0 = np.array(v0, dtype=np.single)\n",
    "a0 = np.array(a0, dtype=np.single)\n",
    "```"
   ]
  },
  {
   "cell_type": "markdown",
   "id": "130",
   "metadata": {},
   "source": [
    "##### End of reference code"
   ]
  },
  {
   "cell_type": "code",
   "execution_count": null,
   "id": "131",
   "metadata": {},
   "outputs": [],
   "source": [
    "%timeit r1, v1, a1 = leapfrog4(m, r0, v0, a0, dt, acc=acc9)"
   ]
  },
  {
   "cell_type": "markdown",
   "id": "132",
   "metadata": {},
   "source": [
    "## Optimization 6: Google `JAX`\n",
    "\n",
    "Google `JAX` is a high-performance library that extends NumPy with\n",
    "automatic differentiation and just-in-time (JIT) compilation.\n",
    "It transforms Python functions into highly optimized machine code\n",
    "using XLA, which can dramatically accelerate numerical computations.\n",
    "\n",
    "One of `JAX`'s standout features is its seamless support for GPUs.\n",
    "Depending on your hardware, running your code on a GPU with `JAX` can\n",
    "lead to even greater speedups compared to CPU execution.\n",
    "Additionally, `JAX`'s vectorization tools, like `vmap`, let you apply\n",
    "functions over arrays efficiently without explicit Python loops.\n",
    "\n",
    "By replace NumPy by `JAX`, we can harness the power of hardware\n",
    "acceleration, and achieve the ambitious 1000x speedup!"
   ]
  },
  {
   "cell_type": "code",
   "execution_count": null,
   "id": "133",
   "metadata": {},
   "outputs": [],
   "source": [
    "from jax import numpy as jnp"
   ]
  },
  {
   "cell_type": "code",
   "execution_count": null,
   "id": "134",
   "metadata": {},
   "outputs": [],
   "source": [
    "# O5. Use JAX\n",
    "\n",
    "m  = np.array(m)\n",
    "r0 = np.array(r0)\n",
    "v0 = np.array(v0)\n",
    "a0 = np.array(a0)\n",
    "\n",
    "def acc9(m, r):\n",
    "    # TODO: replace `np` by `jnp`.\n",
    "    dr  = r[:,None,:] - r[None,:,:]\n",
    "    rr  = np.sum(dr * dr, axis=-1)\n",
    "    rr  = np.maximum(rr, 1e-24)\n",
    "    f   = -m[None,:] / rr**(3/2)\n",
    "    a   = np.sum(f[:,:,None] * dr, axis=1)\n",
    "    return a"
   ]
  },
  {
   "cell_type": "markdown",
   "id": "135",
   "metadata": {
    "jp-MarkdownHeadingCollapsed": true
   },
   "source": [
    "##### Begin of reference code"
   ]
  },
  {
   "cell_type": "markdown",
   "id": "136",
   "metadata": {},
   "source": [
    "```python\n",
    "# O5. Use JAX\n",
    "\n",
    "m  = jnp.array(m)\n",
    "r0 = jnp.array(r0)\n",
    "v0 = jnp.array(v0)\n",
    "a0 = jnp.array(a0)\n",
    "\n",
    "def acc10(m, r):\n",
    "    dr  = r[:,None,:] - r[None,:,:]\n",
    "    rr  = jnp.sum(dr * dr, axis=-1)\n",
    "    rr  = jnp.maximum(rr, 1e-24)\n",
    "    f   = -m[None,:] / rr**(3/2)\n",
    "    a   = jnp.sum(f[:,:,None] * dr, axis=1)\n",
    "    return a\n",
    "```"
   ]
  },
  {
   "cell_type": "markdown",
   "id": "137",
   "metadata": {},
   "source": [
    "##### End of reference code"
   ]
  },
  {
   "cell_type": "code",
   "execution_count": null,
   "id": "138",
   "metadata": {},
   "outputs": [],
   "source": [
    "%timeit r1, v1, a1 = leapfrog4(m, r0, v0, a0, dt, acc=acc10)"
   ]
  },
  {
   "cell_type": "code",
   "execution_count": null,
   "id": "139",
   "metadata": {},
   "outputs": [],
   "source": [
    "cProfile.run(\"r1, v1, a1 = leapfrog4(m, r0, v0, a0, dt, acc=acc10)\")"
   ]
  },
  {
   "cell_type": "markdown",
   "id": "140",
   "metadata": {},
   "source": [
    "The timeit results on my laptop show that the slowest run took ~ 11\n",
    "times longer than the fastest, with an average execution time of 3ms.\n",
    "This variability is likely due to the initialization of the JAX\n",
    "library and potential data transfer overhead.\n",
    "Nevertheless, these results are astonishing---achieving a 1023x\n",
    "speedup over our original implementation!"
   ]
  },
  {
   "cell_type": "markdown",
   "id": "141",
   "metadata": {},
   "source": [
    "## Optimization 7: Just-in-Time Compilation\n",
    "\n",
    "Just-in-Time (JIT) compilation converts Python code into optimized\n",
    "machine code at runtime.\n",
    "This means that hot functions can be compiled on the fly, eliminating\n",
    "Python's overhead and allowing them to run at speeds much closer to\n",
    "those of native C code.\n",
    "\n",
    "`JAX` offers powerful JIT capabilities through its `jax.jit`\n",
    "decorator.\n",
    "When applied, it compiles your numerical functions into efficient,\n",
    "low-level code, which can be further accelerated on GPUs.\n",
    "This results in dramatic performance improvements, exeeding our quest\n",
    "for that 1000x speedup."
   ]
  },
  {
   "cell_type": "code",
   "execution_count": null,
   "id": "142",
   "metadata": {},
   "outputs": [],
   "source": [
    "from jax import jit"
   ]
  },
  {
   "cell_type": "code",
   "execution_count": null,
   "id": "143",
   "metadata": {},
   "outputs": [],
   "source": [
    "# O6. JIT the leapfrog stepper\n",
    "\n",
    "# TODO: Use the `@jit` decorator to compiler your code"
   ]
  },
  {
   "cell_type": "markdown",
   "id": "144",
   "metadata": {
    "jp-MarkdownHeadingCollapsed": true
   },
   "source": [
    "##### Begin of reference code"
   ]
  },
  {
   "cell_type": "markdown",
   "id": "145",
   "metadata": {},
   "source": [
    "```python\n",
    "# O6. JIT the leapfrog stepper\n",
    "\n",
    "@jit\n",
    "def leapfrog5(m, r0, v0, a0, dt):\n",
    "    return leapfrog4(m, r0, v0, a0, dt, acc=acc10)\n",
    "```"
   ]
  },
  {
   "cell_type": "markdown",
   "id": "146",
   "metadata": {},
   "source": [
    "##### End of reference code"
   ]
  },
  {
   "cell_type": "code",
   "execution_count": null,
   "id": "147",
   "metadata": {},
   "outputs": [],
   "source": [
    "%timeit r1, v1, a1 = leapfrog5(m, r0, v0, a0, dt)"
   ]
  },
  {
   "cell_type": "code",
   "execution_count": null,
   "id": "148",
   "metadata": {},
   "outputs": [],
   "source": [
    "cProfile.run(\"r1, v1, a1 = leapfrog5(m, r0, v0, a0, dt)\")"
   ]
  },
  {
   "cell_type": "markdown",
   "id": "149",
   "metadata": {},
   "source": [
    "Our final results are truly remarkable.\n",
    "By applying `JAX`'s JIT compilation, we compiled away all overhead\n",
    "(see the output of `cProfile`) and achieved a 1710x speedup over the\n",
    "original implementation.\n",
    "This demostrate how powerful the optimization techniques we have\n",
    "introduced to improve Python's performance."
   ]
  },
  {
   "cell_type": "markdown",
   "id": "150",
   "metadata": {},
   "source": [
    "## Applying the $n$-Body Integrator\n",
    "\n",
    "With our optimized $n$-body integrator in hand, we can now explore its\n",
    "applications.\n",
    "This efficient python code lets us simulate various dynamical\n",
    "systems---from celestial mechanics to particle interactions---with\n",
    "different initial conditions.\n",
    "By reading in data files that specify masses, positions, velocities,\n",
    "we can easily tailor simulations to real-world scenarios."
   ]
  },
  {
   "cell_type": "code",
   "execution_count": null,
   "id": "151",
   "metadata": {},
   "outputs": [],
   "source": [
    "def integrate(fname, T, N):\n",
    "\n",
    "    # Load data\n",
    "    ic = np.genfromtxt(fname)\n",
    "\n",
    "    # Setup initial conditions\n",
    "    m =  jnp.array(ic[:,0])\n",
    "    R = [jnp.array(ic[:,1:4])]\n",
    "    V = [jnp.array(ic[:,4:7])]\n",
    "    A = [acc10(m, R[-1])]\n",
    "\n",
    "    # Main loop\n",
    "    T, dt = jnp.linspace(0, T, N+1, retstep=True)\n",
    "    for _ in tqdm(range(N)):\n",
    "        r, v, a = leapfrog4(m, R[-1], V[-1], A[-1], dt, acc=acc10)\n",
    "        R.append(r)\n",
    "        V.append(v)\n",
    "        A.append(a)\n",
    "\n",
    "    # Return results\n",
    "    return T, jnp.array(R), jnp.array(V), jnp.array(A)"
   ]
  },
  {
   "cell_type": "markdown",
   "id": "152",
   "metadata": {},
   "source": [
    "The figure-8 orbit is a fascinating solution to the three-body problem\n",
    "where three equal-mass bodies follow a single, intertwined figure-8\n",
    "path.\n",
    "Each body moves along the same curve, perfectly choreographed so that\n",
    "they never collide, yet their gravitational interactions keep them in\n",
    "a stable, periodic dance."
   ]
  },
  {
   "cell_type": "markdown",
   "id": "153",
   "metadata": {},
   "source": [
    "We first download the initial condition from GitHub if the file\n",
    "doesn't exist:"
   ]
  },
  {
   "cell_type": "code",
   "execution_count": null,
   "id": "154",
   "metadata": {},
   "outputs": [],
   "source": [
    "! [ -f ic/figure-8.tsv ] || wget -P ic https://raw.githubusercontent.com/ua-2025q3-astr501-513/ua-2025q3-astr501-513.github.io/refs/heads/main/501/05/ic/figure-8.tsv"
   ]
  },
  {
   "cell_type": "code",
   "execution_count": null,
   "id": "155",
   "metadata": {},
   "outputs": [],
   "source": [
    "# We then run the integrate() code\n",
    "\n",
    "T, R, V, A = integrate(\"ic/figure-8.tsv\", 2.5, 250)"
   ]
  },
  {
   "cell_type": "code",
   "execution_count": null,
   "id": "156",
   "metadata": {},
   "outputs": [],
   "source": [
    "X = R[:,:,0]\n",
    "Y = R[:,:,1]\n",
    "\n",
    "plt.plot(X, Y, '-')"
   ]
  },
  {
   "cell_type": "code",
   "execution_count": null,
   "id": "157",
   "metadata": {},
   "outputs": [],
   "source": [
    "anim = animate(X, Y)\n",
    "\n",
    "HTML(anim.to_html5_video())  # display animation\n",
    "# anim.save('orbitss.mp4')    # save animation"
   ]
  },
  {
   "cell_type": "code",
   "execution_count": null,
   "id": "158",
   "metadata": {},
   "outputs": [],
   "source": [
    "# HANDSON: Try out different initial conditions!\n"
   ]
  },
  {
   "cell_type": "markdown",
   "id": "159",
   "metadata": {},
   "source": [
    "## Conclusion and Discussion\n",
    "\n",
    "In this workshop, we've journeyed from a straightforward, pure Python\n",
    "implementation of the $n$-body simulation to a highly optimized\n",
    "version that achieves a 1710x speedup.\n",
    "We started by cleaning up our code with list comprehensions and\n",
    "cutting out unnecessary operations, then moved on to swapping slow\n",
    "functions for faster ones and leveraging high-performance libraries\n",
    "like NumPy.\n",
    "\n",
    "The real game-changer came with Google `JAX`.\n",
    "Its just-in-time compilation and GPU support pushed our code another\n",
    "order of magnitude in performance.\n",
    "These optimizations show that Python, when used right, isn't just for\n",
    "quick-and-dirty prototypes.\n",
    "It can also deliver serious speed and efficiency.\n",
    "\n",
    "This is especially important in hackathons and rapid prototyping\n",
    "environments.\n",
    "You can quickly iterate on your ideas and still end up with code\n",
    "that's robust enough for real-world applications.\n",
    "Python truly bridges the gap between ease of development and high\n",
    "performance, letting you have your cake and eat it too."
   ]
  }
 ],
 "metadata": {
  "kernelspec": {
   "display_name": "Python 3 (ipykernel)",
   "language": "python",
   "name": "python3"
  },
  "language_info": {
   "codemirror_mode": {
    "name": "ipython",
    "version": 3
   },
   "file_extension": ".py",
   "mimetype": "text/x-python",
   "name": "python",
   "nbconvert_exporter": "python",
   "pygments_lexer": "ipython3",
   "version": "3.13.7"
  }
 },
 "nbformat": 4,
 "nbformat_minor": 5
}
