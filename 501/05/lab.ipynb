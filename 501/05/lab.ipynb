{
 "cells": [
  {
   "cell_type": "markdown",
   "id": "0",
   "metadata": {},
   "source": [
    "# Code Optimization [![Open In Colab](https://colab.research.google.com/assets/colab-badge.svg)](https://colab.research.google.com/github/ua-2025q3-astr501-513/ua-2025q3-astr501-513.github.io/blob/main/501/05/lab.ipynb)\n",
    "\n",
    "Speeding Up Your Python Codes 1000x!!!"
   ]
  },
  {
   "cell_type": "markdown",
   "id": "1",
   "metadata": {},
   "source": [
    "## Introduction\n",
    "\n",
    "Welcome to \"Code Optimization: Speeding Up Your Python Codes 1000x\"!\n",
    "\n",
    "In the next hours, we will learn tricks to unlock python performance\n",
    "and increase a sample code's speed by a factor of 1000x!\n",
    "This lab is based on a Hack Arizona tutorial CK gave in 2024.\n",
    "The [original lab](https://github.com/rndsrc/orbits-py) can be found\n",
    "here."
   ]
  },
  {
   "cell_type": "markdown",
   "id": "2",
   "metadata": {},
   "source": [
    "Here is our plan:\n",
    "* Understand the problem:\n",
    "  we will start by outlining the $n$-body problem and how to use the\n",
    "  leapfrog algorithm to solve it numerically.\n",
    "* Benchmark and profile:\n",
    "  we will learn how to measure performance and identify bottlenecks\n",
    "  using tools like timeit and cProfile.\n",
    "* Optimize the code:\n",
    "  step through a series of optimizations:\n",
    "  * Use list comprehensions and reduce operation counts.\n",
    "  * Replace slow operations with faster ones.\n",
    "  * Use high-performance libraries such as NumPy.\n",
    "  * Explore lower precision where applicable.\n",
    "  * Use Google JAX for just-in-time compilation and GPU acceleration.\n",
    "* Apply the integrator:\n",
    "  finally, we will use our optimized code to simulate the mesmerizing\n",
    "  figure-8 self-gravitating orbit."
   ]
  },
  {
   "cell_type": "markdown",
   "id": "3",
   "metadata": {},
   "source": [
    "By the end of this lab, you will see that Python isn't just great for\n",
    "rapid prototyping.\n",
    "It can also deliver serious performance when optimized right.\n",
    "Let's dive in!"
   ]
  },
  {
   "cell_type": "markdown",
   "id": "4",
   "metadata": {},
   "source": [
    "## The $n$-body Problem and the Leapfrog Algorithm\n",
    "\n",
    "The $n$-body problem involves simulating the motion of many bodies\n",
    "interacting with each other through (usually) gravitational forces.\n",
    "\n",
    "This problem is physically interesting, as it models the\n",
    "[solar system](https://rebound.readthedocs.io/en/latest/),\n",
    "[galaxy dynamics, or even the whole cosmic structure\n",
    "formation](https://wwwmpa.mpa-garching.mpg.de/gadget/)!\n",
    "\n",
    "This problem is also computational interesting.\n",
    "Each body experiences a force from every other body, making the\n",
    "simulation computationally intensive.\n",
    "It is ideal for exploring optimization techniques.\n",
    "\n",
    "The leapfrog algorithm is a simple, robust numerical integrator that\n",
    "alternates between updating velocities (\"kicks\") and positions\n",
    "(\"drifts\").\n",
    "It is popular because it conserves energy and momentum well over long\n",
    "simulation periods."
   ]
  },
  {
   "cell_type": "markdown",
   "id": "5",
   "metadata": {},
   "source": [
    "We need to solve Newton's second law of motion for a collection of $n$\n",
    "bodies.\n",
    "The body forces are solved by using Newton's Law of Universal\n",
    "Gravitation."
   ]
  },
  {
   "cell_type": "markdown",
   "id": "6",
   "metadata": {},
   "source": [
    "### Gravitational Force/Acceleration Equation\n",
    "\n",
    "For any two bodies labeled by $i$ and $j$, the direct gravitational\n",
    "force exerted on body $i$ by body $j$ is given by:\n",
    "\\begin{align}\n",
    "  \\mathbf{f}_{ij} = -G m_i m_j\\frac{\\mathbf{r}_i - \\mathbf{r}_j\\ \\ \\ }{|\\mathbf{r}_i - \\mathbf{r}_j|^{3/2}},\n",
    "\\end{align}\n",
    "where:\n",
    "* $G$ is the gravitational constant.\n",
    "* $m_i$ and $m_j$ are the masses of the bodies.\n",
    "* $\\mathbf{r}_i$ and $\\mathbf{r}_j$ are their position vectors."
   ]
  },
  {
   "cell_type": "markdown",
   "id": "7",
   "metadata": {},
   "source": [
    "Summing the contributions from all other bodies gives the net force\n",
    "(and thus the acceleration) on body $i$:\n",
    "\\begin{align}\n",
    "  \\mathbf{f}_i\n",
    "  = \\sum_{j\\ne i} \\mathbf{f}_{ij}\n",
    "  = -G m_i \\sum_{j\\ne i} m_j \\frac{\\mathbf{r}_i - \\mathbf{r}_j\\ \\ \\ }{|\\mathbf{r}_i - \\mathbf{r}_j|^3},\n",
    "\\end{align}"
   ]
  },
  {
   "cell_type": "markdown",
   "id": "8",
   "metadata": {},
   "source": [
    "Given Newton's law $\\mathbf{f} = m\\mathbf{a}$, the \"acceleration\"\n",
    "applied on body $i$ caused by all other bodies is:\n",
    "\\begin{align}\n",
    "  \\mathbf{a}_i\n",
    "  = \\sum_{j\\ne i} \\mathbf{a}_{ij}\n",
    "  = -G \\sum_{j\\ne i} m_j \\frac{\\mathbf{r}_i - \\mathbf{r}_j\\ \\ \\ }{|\\mathbf{r}_i - \\mathbf{r}_j|^3}.\n",
    "\\end{align}\n",
    "Choosing the right units so $G = 1$."
   ]
  },
  {
   "cell_type": "markdown",
   "id": "9",
   "metadata": {},
   "source": [
    "Here is a pure Python implementation of the gravitational\n",
    "acceleration:"
   ]
  },
  {
   "cell_type": "code",
   "execution_count": null,
   "id": "10",
   "metadata": {},
   "outputs": [],
   "source": [
    "def acc1(m, r):\n",
    "    \n",
    "    n = len(m)\n",
    "    a = []\n",
    "    for i in range(n):\n",
    "        axi, ayi, azi = 0, 0, 0\n",
    "        for j in range(n):\n",
    "            if j != i:\n",
    "                xi, yi, zi = r[i]\n",
    "                xj, yj, zj = r[j]\n",
    "\n",
    "                axij = - m[j] * (xi - xj) / ((xi - xj)**2 + (yi - yj)**2 + (zi - zj)**2)**(3/2)\n",
    "                ayij = - m[j] * (yi - yj) / ((xi - xj)**2 + (yi - yj)**2 + (zi - zj)**2)**(3/2)\n",
    "                azij = - m[j] * (zi - zj) / ((xi - xj)**2 + (yi - yj)**2 + (zi - zj)**2)**(3/2)\n",
    "\n",
    "                axi += axij\n",
    "                ayi += ayij\n",
    "                azi += azij\n",
    "\n",
    "        a.append((axi, ayi, azi))\n",
    "\n",
    "    return a"
   ]
  },
  {
   "cell_type": "markdown",
   "id": "11",
   "metadata": {},
   "source": [
    "We may try using this function to evaluate the gravitational force\n",
    "between two particles, with with mass $m = 1$, at a distance of $2$.\n",
    "We expect the \"acceleration\" be $-1/4$ in the direction of their\n",
    "seperation."
   ]
  },
  {
   "cell_type": "code",
   "execution_count": null,
   "id": "12",
   "metadata": {},
   "outputs": [],
   "source": [
    "m  = [1.0, 1.0]\n",
    "r0 = [\n",
    "    (+1.0, 0.0, 0.0),\n",
    "    (-1.0, 0.0, 0.0),\n",
    "]\n",
    "a0ref = [\n",
    "    (-0.25, 0.0, 0.0),\n",
    "    (+0.25, 0.0, 0.0),\n",
    "]"
   ]
  },
  {
   "cell_type": "code",
   "execution_count": null,
   "id": "13",
   "metadata": {},
   "outputs": [],
   "source": [
    "a0 = acc1(m, r0)"
   ]
  },
  {
   "cell_type": "code",
   "execution_count": null,
   "id": "14",
   "metadata": {},
   "outputs": [],
   "source": [
    "a0"
   ]
  },
  {
   "cell_type": "code",
   "execution_count": null,
   "id": "15",
   "metadata": {},
   "outputs": [],
   "source": [
    "assert a0 == a0ref"
   ]
  },
  {
   "cell_type": "markdown",
   "id": "16",
   "metadata": {},
   "source": [
    "### Leapfrog Integrator\n",
    "\n",
    "Our simulation solves Newton's second law of motion, $\\mathbf{f} = m\n",
    "\\mathbf{a}$, numerically.\n",
    "The equation tells us that the acceleration of a body is determined by\n",
    "the net force acting on it.\n",
    "In a system where forces are conservative, this law guarantees the\n",
    "conservation of energy and momentum.\n",
    "These are critical properties when simulating long-term dynamics."
   ]
  },
  {
   "cell_type": "markdown",
   "id": "17",
   "metadata": {},
   "source": [
    "However, many standard integration methods tend to drift over time,\n",
    "gradually losing these conservation properties.\n",
    "The leapfrog algorithm is a symplectic integrator designed to address\n",
    "this issue.\n",
    "Its staggered (or \"leapfrogging\") updates of velocity and position\n",
    "help preserve energy and momentum much more effectively over extended\n",
    "simulations."
   ]
  },
  {
   "cell_type": "markdown",
   "id": "18",
   "metadata": {},
   "source": [
    "1. Half-step velocity update (Kick):\n",
    "   start by updating the velocity by half a time step using the\n",
    "   current acceleration $a(t)$:\n",
    "   \\begin{align}\n",
    "     v\\left(t+\\frac{1}{2}\\Delta t\\right) = v(t) + \\frac{1}{2}\\Delta t\\, a(t).\n",
    "   \\end{align}\n",
    "\n",
    "2. Full-step position update (Drift):\n",
    "   update the position for a full time step using the half-stepped\n",
    "   velocity:\n",
    "   \\begin{align}\n",
    "     x(t+\\Delta t) = x(t) + \\Delta t\\, v\\left(t+\\frac{1}{2}\\Delta t\\right).\n",
    "   \\end{align}\n",
    "\n",
    "3. Half-step velocity update (Kick):\n",
    "   finally, update the velocity by another half time step using the\n",
    "   new acceleration $a(t+\\Delta t)$ computed from the updated\n",
    "   positions:\n",
    "   \\begin{align}\n",
    "     v(t+\\Delta t) = v\\left(t+\\frac{1}{2}\\Delta t\\right) + \\frac{1}{2}\\Delta t\\, a(t+\\Delta t).\n",
    "   \\end{align}"
   ]
  },
  {
   "cell_type": "markdown",
   "id": "19",
   "metadata": {},
   "source": [
    "Here is a pure Python implementation of the gravitational\n",
    "acceleration:"
   ]
  },
  {
   "cell_type": "code",
   "execution_count": null,
   "id": "20",
   "metadata": {},
   "outputs": [],
   "source": [
    "def leapfrog1(m, r0, v0, dt, acc=acc1):\n",
    "\n",
    "    n  = len(m)\n",
    "\n",
    "    # vh = v0 + 0.5 * dt * a0\n",
    "    a0 = acc(m, r0)\n",
    "    vh = []\n",
    "    for i in range(n):\n",
    "        a0xi, a0yi, a0zi = a0[i]\n",
    "        v0xi, v0yi, v0zi = v0[i]\n",
    "        vhxi = v0xi + 0.5 * dt * a0xi\n",
    "        vhyi = v0yi + 0.5 * dt * a0yi\n",
    "        vhzi = v0zi + 0.5 * dt * a0zi\n",
    "        vh.append((vhxi, vhyi, vhzi))\n",
    "\n",
    "    # r1 = r0 + dt * vh\n",
    "    r1 = []\n",
    "    for i in range(n):\n",
    "        vhxi, vhyi, vhzi = vh[i]\n",
    "        x0i,  y0i,  z0i  = r0[i]\n",
    "        x1i = x0i + dt * vhxi\n",
    "        y1i = y0i + dt * vhyi\n",
    "        z1i = z0i + dt * vhzi\n",
    "        r1.append((x1i, y1i, z1i))\n",
    "\n",
    "    # v1 = vh + 0.5 * dt * a1\n",
    "    a1 = acc(m, r1)\n",
    "    v1 = []\n",
    "    for i in range(n):\n",
    "        a1xi, a1yi, a1zi = a1[i]\n",
    "        vhxi, vhyi, vhzi = vh[i]\n",
    "        v1xi = vhxi + 0.5 * dt * a1xi\n",
    "        v1yi = vhyi + 0.5 * dt * a1yi\n",
    "        v1zi = vhzi + 0.5 * dt * a1zi\n",
    "        v1.append((v1xi, v1yi, v1zi))\n",
    "\n",
    "    return r1, v1"
   ]
  },
  {
   "cell_type": "markdown",
   "id": "21",
   "metadata": {},
   "source": [
    "We may try using this function to evolve the two particles under\n",
    "gravitational force, with some initial velocities."
   ]
  },
  {
   "cell_type": "code",
   "execution_count": null,
   "id": "22",
   "metadata": {},
   "outputs": [],
   "source": [
    "v0 = [\n",
    "    (0.0, +0.5, 0.0),\n",
    "    (0.0, -0.5, 0.0),\n",
    "]\n",
    "v1ref = [\n",
    "    (-0.024984345739803245, +0.4993750014648409, 0.0),\n",
    "    (+0.024984345739803245, -0.4993750014648409, 0.0),\n",
    "]"
   ]
  },
  {
   "cell_type": "code",
   "execution_count": null,
   "id": "23",
   "metadata": {},
   "outputs": [],
   "source": [
    "r1, v1 = leapfrog1(m, r0, v0, 0.1)"
   ]
  },
  {
   "cell_type": "code",
   "execution_count": null,
   "id": "24",
   "metadata": {},
   "outputs": [],
   "source": [
    "v1"
   ]
  },
  {
   "cell_type": "code",
   "execution_count": null,
   "id": "25",
   "metadata": {},
   "outputs": [],
   "source": [
    "assert v1 == v1ref"
   ]
  }
 ],
 "metadata": {
  "kernelspec": {
   "display_name": "Python 3 (ipykernel)",
   "language": "python",
   "name": "python3"
  },
  "language_info": {
   "codemirror_mode": {
    "name": "ipython",
    "version": 3
   },
   "file_extension": ".py",
   "mimetype": "text/x-python",
   "name": "python",
   "nbconvert_exporter": "python",
   "pygments_lexer": "ipython3",
   "version": "3.13.7"
  }
 },
 "nbformat": 4,
 "nbformat_minor": 5
}
