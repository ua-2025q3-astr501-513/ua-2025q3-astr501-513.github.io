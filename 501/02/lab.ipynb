{
 "cells": [
  {
   "cell_type": "markdown",
   "id": "0",
   "metadata": {},
   "source": [
    "# Software Environment and Cloud Computing"
   ]
  },
  {
   "cell_type": "markdown",
   "id": "1",
   "metadata": {},
   "source": [
    "[![Dependency](fig/dependency.png)](https://xkcd.com/2347/)"
   ]
  },
  {
   "cell_type": "markdown",
   "id": "2",
   "metadata": {},
   "source": [
    "In modern computational science, running code is only half the\n",
    "challenge.\n",
    "The other half is managing the software environment it depends on.\n",
    "Different projects may require different compilers, libraries, or\n",
    "Python packages, and the ability to reproduce results across HPC\n",
    "systems, laptops, and cloud platforms is important.\n",
    "\n",
    "This week, we will learn practical tools for creating and managing\n",
    "software environments:\n",
    "* Package managers (e.g., `apt-get`) for installing software at the\n",
    "  system level\n",
    "* Building from source when precompiled packages are unavailable or\n",
    "  when you do not have root access to the system.\n",
    "* HPC `module` for loading different versions of software on a shared\n",
    "  system.\n",
    "* Python virtual environments for dependency isolation\n",
    "* Containers (i.e., Docker) for reproducibility and portability"
   ]
  },
  {
   "cell_type": "markdown",
   "id": "3",
   "metadata": {},
   "source": [
    "## Software Management Basics\n",
    "\n",
    "On Unix/Linux systems, most software is installed through package\n",
    "managers, which automatically handle downloading, installing, and\n",
    "configuring programs and their dependencies.\n",
    "\n",
    "Common package managers include:\n",
    "* Debian/Ubuntu: [`apt`](https://wiki.debian.org/Apt) (or the older `apt-get`)\n",
    "* Red Hat/Fedora/CentOS: [`yum`](https://fedoraproject.org/wiki/Yum) or [`dnf`](https://docs.fedoraproject.org/en-US/quick-docs/dnf/)\n",
    "* Arch Linux: [`pacman`](https://wiki.archlinux.org/title/Pacman)\n",
    "* macOS: [`brew`](https://brew.sh/) (Homebrew) and [`port`](https://www.macports.org/) (MacPorts)"
   ]
  },
  {
   "cell_type": "markdown",
   "id": "4",
   "metadata": {},
   "source": [
    "[![sudo](fig/sandwich.png)](https://xkcd.com/149/)\n",
    "\n",
    "By default, package managers install software system-wide, which\n",
    "requires root (administrator) privileges.\n",
    "On personal machines, this is often done by prefixing commands with\n",
    "`sudo` (i.e., \"superuser do\")."
   ]
  },
  {
   "cell_type": "markdown",
   "id": "5",
   "metadata": {},
   "source": [
    "On shared systems such as HPC clusters, users typically do not have\n",
    "root access, so alternative approaches are used (modules, virtual\n",
    "environments, containers).\n",
    "\n",
    "1. Here, we use Docker to create a sandbox environment where you can\n",
    "   safely practice system-level package management commands.\n",
    "   We will cover Docker in more detail later, but for now, assuming\n",
    "   Docker is installed, you can start a sandbox with:\n",
    "   ```bash\n",
    "   docker run -it --rm debian:forky-slim\n",
    "   ```\n",
    "\n",
    "2. Inside your Docker container, update the package list (always do\n",
    "   this first):\n",
    "   ```bash\n",
    "   apt update\n",
    "   ```"
   ]
  },
  {
   "cell_type": "markdown",
   "id": "6",
   "metadata": {},
   "source": [
    "3. Install a simple system utility (e.g., `htop`) and a scientific\n",
    "   library (e.g., GNU Scientific Library `gsl`):\n",
    "   ```bash\n",
    "   apt install -y htop\n",
    "   apt install -y libgsl-dev\n",
    "   ```\n",
    "\n",
    "4. You may now verify the installation:\n",
    "   ```bash\n",
    "   htop                 # should start the process viewer\n",
    "   dpkg -l | grep gsl   # list installed gsl package\n",
    "   ```"
   ]
  },
  {
   "cell_type": "markdown",
   "id": "7",
   "metadata": {},
   "source": [
    "## Building from Source\n",
    "\n",
    "Not all software is available in package repositories or is prepared\n",
    "in a way that you want it.\n",
    "Sometimes the version provided by the package manager is outdated, or\n",
    "the software is not packaged at all.\n",
    "Sometimes you may want to enable some special settings or install a\n",
    "package in non-standard locations.\n",
    "In these cases, you can download the source code and compile it\n",
    "yourself."
   ]
  },
  {
   "cell_type": "markdown",
   "id": "8",
   "metadata": {},
   "source": [
    "[![Virus on Linux](fig/virus.png)](https://www.gnu.org/fun/jokes/evilmalware.en.html)"
   ]
  },
  {
   "cell_type": "markdown",
   "id": "9",
   "metadata": {},
   "source": [
    "This process usually follows steps:\n",
    "1. **Configure** the build system (check dependencies, set options).\n",
    "2. **Compile** the source code.\n",
    "3. **Check** the resulting binaries.\n",
    "4. **Install** the resulting binaries to `prefix`\n",
    "\n",
    "We will try it out in a Docker sandbox."
   ]
  },
  {
   "cell_type": "markdown",
   "id": "10",
   "metadata": {},
   "source": [
    "1. Start a sandbox in a `gcc` Docker container; then download GSL\n",
    "   ```bash\n",
    "   docker run -it --rm gcc\n",
    "   mkdir /src && cd /src\n",
    "   wget https://ftp.wayne.edu/gnu/gsl/gsl-2.8.tar.gz\n",
    "   tar -xvzf gsl-2.8.tar.gz && cd gsl-2.8\n",
    "   ```\n",
    "\n",
    "2. Configure, build, check, and install:\n",
    "   ```bash\n",
    "   ./configure\n",
    "   make\n",
    "   make check\n",
    "   make install\n",
    "   ```"
   ]
  },
  {
   "cell_type": "markdown",
   "id": "11",
   "metadata": {},
   "source": [
    "3. Optionally, you may test it by compiling a small program:\n",
    "   ```c\n",
    "   /* Save as \"test.c\" and then compile by `gcc test.c -o test -lgsl` */\n",
    "   #include <stdio.h>\n",
    "   #include <gsl/gsl_sf_bessel.h>\n",
    "   \n",
    "   int main() {\n",
    "       double x = 2.4048; /* first root of J0 */\n",
    "       double y = gsl_sf_bessel_J0(x);\n",
    "       printf(\"J0(%g) = %.18e\\n\", x, y);\n",
    "       return 0;\n",
    "   }\n",
    "   ```"
   ]
  },
  {
   "cell_type": "code",
   "execution_count": null,
   "id": "12",
   "metadata": {},
   "outputs": [],
   "source": [
    "# HANDSON: how do you get the above source code in a Docker container?\n"
   ]
  },
  {
   "cell_type": "code",
   "execution_count": null,
   "id": "13",
   "metadata": {},
   "outputs": [],
   "source": [
    "# HANDSON: suppose that you don't have root access to a machine.\n",
    "#          Let's install GSL to \"/home/me/.local/\" instead of the\n",
    "#          standard location \"/usr/local/\".\n",
    "#          How do you do it?\n",
    "#          Hint: run `/configure --help` to see all the different\n",
    "#          options.\n"
   ]
  },
  {
   "cell_type": "markdown",
   "id": "14",
   "metadata": {},
   "source": [
    "## HPC Software Modules\n",
    "\n",
    "On shared HPC systems, users do not have root access, so they cannot\n",
    "install software with package managers like `apt`.\n",
    "Instead, HPC centers provide software through the\n",
    "[environment modules system](https://modules.readthedocs.io/en/latest/).\n",
    "Modules let you load and switch between different software versions by\n",
    "adjusting your environment variables (e.g., `PATH`,\n",
    "`LD_LIBRARY_PATH`).\n",
    "This avoids conflicts and allows multiple versions of compilers,\n",
    "libraries, and applications to coexist."
   ]
  },
  {
   "cell_type": "markdown",
   "id": "15",
   "metadata": {},
   "source": [
    "Notes for UA HPC:\n",
    "* Education (class) accounts are only available on `ocelote`.\n",
    "* You must run the command `interactive` to request an interactive\n",
    "  compute node before using `module` or compiling software.\n",
    "\n",
    "1. Log in to ocelote and switch to ocelote:\n",
    "   ```bash\n",
    "   ssh NETID@hpc.arizona.edu\n",
    "   shell\n",
    "   ocelote\n",
    "   ```\n",
    "\n",
    "2. Request an interactive node (wait for the prompt to change):\n",
    "   ```bash\n",
    "   interactive\n",
    "   ```"
   ]
  },
  {
   "cell_type": "markdown",
   "id": "16",
   "metadata": {
    "jp-MarkdownHeadingCollapsed": true
   },
   "source": [
    "3. List all available modules:\n",
    "   ```bash\n",
    "   module avail\n",
    "   ```\n",
    "   You should see a long list of compilers, MPI libraries, Python\n",
    "   versions, and scientific software.\n",
    "\n",
    "4. List currently loaded modules:\n",
    "   ```bash\n",
    "   module list\n",
    "   ```\n",
    "\n",
    "5. Load a specific GSL module:\n",
    "   ```bash\n",
    "   module load gsl\n",
    "   ```\n",
    "\n",
    "6. Compile the above test program."
   ]
  },
  {
   "cell_type": "code",
   "execution_count": null,
   "id": "17",
   "metadata": {},
   "outputs": [],
   "source": [
    "# Hands-On: Explore the available modules (`module avail`) and pick\n",
    "#           one piece of scientific software that looks interesting to\n",
    "#           you (e.g., `gcc`, `openmpi`, `gsl`).\n",
    "#           Load it with `module load NAME/VERSION` and try a simple\n",
    "#           test (e.g., check the compiler version with `gcc\n",
    "#           --version`, or run `mpirun --version`).\n",
    "#           Compare the output to what you get without loading the\n",
    "#           module.\n"
   ]
  },
  {
   "cell_type": "markdown",
   "id": "18",
   "metadata": {},
   "source": [
    "## Python Virtual Environments\n",
    "\n",
    "In scientific computing, different projects often need different\n",
    "Python packages, or even different versions of the same package.\n",
    "Installing everything system-wide can quickly lead to dependency\n",
    "conflicts, a.k.a. \"package hell\".\n",
    "\n",
    "A virtual environment solves this problem by creating an isolated\n",
    "Python workspace where you control exactly which packages are\n",
    "installed, independent of the system or other projects.\n",
    "This is similar to HPC modules, but focused on Python."
   ]
  },
  {
   "cell_type": "markdown",
   "id": "19",
   "metadata": {},
   "source": [
    "[![Python Environment](fig/python_environment.png)](https://xkcd.com/1987/)"
   ]
  },
  {
   "cell_type": "markdown",
   "id": "20",
   "metadata": {},
   "source": [
    "1. On your system or HPC node, check the default Python version.\n",
    "   Then use `venv` to create a directory to store all information in a\n",
    "   virtual environment.\n",
    "\n",
    "   ```bash\n",
    "   python3 --version\n",
    "   python3 -m venv ~/.venv/astr501\n",
    "   ```\n",
    "\n",
    "2. Activate the virtual environment by sourcing the \"activate\" file.\n",
    "   ```bash\n",
    "   . ~/.venv/astr501/bin/activate\n",
    "   ```"
   ]
  },
  {
   "cell_type": "markdown",
   "id": "21",
   "metadata": {},
   "source": [
    "3. Use `pip` to install packages with specific versions, e.g.,\n",
    "   ```bash\n",
    "   pip install numpy=2.0.0\n",
    "   ```\n",
    "\n",
    "4. Check your virtual environment does contain the specific package\n",
    "   version:\n",
    "   ```bash\n",
    "   pip freeze | grep numpy\n",
    "   ```"
   ]
  },
  {
   "cell_type": "markdown",
   "id": "22",
   "metadata": {},
   "source": [
    "5. Exit the virtual environment and check that your system packages\n",
    "   are not affected.\n",
    "   ```bash\n",
    "   deactivate\n",
    "   pip freeze | grep numpy  # this is the system pip\n",
    "   ```"
   ]
  },
  {
   "cell_type": "code",
   "execution_count": null,
   "id": "23",
   "metadata": {},
   "outputs": [],
   "source": [
    "# HANDSON: create a new virtual environment for your research\n",
    "#          project, e.g., `galaxy-env` or `blackhole-env`.\n",
    "#          Install astronomy package that is not in the system Python\n",
    "#          (e.g., `yt`, `plasmapy`)\n",
    "#          Write a short Python script that uses your chosen package\n",
    "#          and run it inside the environment.\n",
    "#          Verify that this package is not available in the system\n",
    "#          Python after deactivation.\n"
   ]
  },
  {
   "cell_type": "markdown",
   "id": "24",
   "metadata": {},
   "source": [
    "## Containers for Reproducibility\n",
    "\n",
    "So far we have seen:\n",
    "* Package managers install software at the system level.\n",
    "* Building from source gives flexibility when no package exists or\n",
    "  customization is needed.\n",
    "* Modules solve the resolve software versions and \"no root access\"\n",
    "  problem on HPC and shared workstations.\n",
    "* Virtual environments isolate Python packages.\n",
    "\n",
    "A container (e.g., Docker) can bundle all of these layers, from\n",
    "operating system, compilers, libraries, and Python packages, into a\n",
    "single portable image.\n",
    "This ensures that your code will run the same way on your laptop, an\n",
    "HPC cluster, or the cloud."
   ]
  },
  {
   "cell_type": "markdown",
   "id": "25",
   "metadata": {},
   "source": [
    "We already used Docker to create sandbox above.\n",
    "Let's now dive deeper on what it actually did.\n",
    "There are many training materials about Docker online, including this\n",
    "[CyVerse workshop](https://cyverse-astrocontainers-workshop-2018.readthedocs-hosted.com/en/latest/docker/dockerintro.html).\n",
    "Depending on the time, we may go through the workshop or run the\n",
    "following simple example."
   ]
  }
 ],
 "metadata": {
  "kernelspec": {
   "display_name": "Python 3 (ipykernel)",
   "language": "python",
   "name": "python3"
  },
  "language_info": {
   "codemirror_mode": {
    "name": "ipython",
    "version": 3
   },
   "file_extension": ".py",
   "mimetype": "text/x-python",
   "name": "python",
   "nbconvert_exporter": "python",
   "pygments_lexer": "ipython3",
   "version": "3.13.7"
  }
 },
 "nbformat": 4,
 "nbformat_minor": 5
}
