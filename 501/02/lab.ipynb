{
 "cells": [
  {
   "cell_type": "markdown",
   "id": "0",
   "metadata": {},
   "source": [
    "# Software Environment and Cloud Computing"
   ]
  },
  {
   "cell_type": "markdown",
   "id": "1",
   "metadata": {},
   "source": [
    "[![Virus on Linux](fig/virus.png)](https://www.gnu.org/fun/jokes/evilmalware.en.html)"
   ]
  },
  {
   "cell_type": "markdown",
   "id": "2",
   "metadata": {},
   "source": [
    "In modern computational science, running code is only half the\n",
    "challenge.\n",
    "The other half is managing the software environment it depends on.\n",
    "Different projects may require different compilers, libraries, or\n",
    "Python packages, and the ability to reproduce results across HPC\n",
    "systems, laptops, and cloud platforms is important.\n",
    "\n",
    "This week, we will learn practical tools for creating and managing\n",
    "software environments:\n",
    "* Package managers (e.g., `apt-get`) for installing software at the\n",
    "  system level\n",
    "* Building from source when precompiled packages are unavailable or\n",
    "  when you do not have root access to the system.\n",
    "* HPC `module` for loading different versions of software on a shared\n",
    "  system.\n",
    "* Python virtual environments for dependency isolation\n",
    "* Containers (i.e., Docker) for reproducibility and portability"
   ]
  },
  {
   "cell_type": "markdown",
   "id": "3",
   "metadata": {},
   "source": [
    "[![Dependency](fig/dependency.png)](https://xkcd.com/2347/)"
   ]
  },
  {
   "cell_type": "markdown",
   "id": "4",
   "metadata": {},
   "source": [
    "[![sudo](fig/sandwich.png)](https://xkcd.com/149/)"
   ]
  },
  {
   "cell_type": "markdown",
   "id": "5",
   "metadata": {},
   "source": [
    "[![Python Environment](fig/python_environment.png)](https://xkcd.com/1987/)"
   ]
  }
 ],
 "metadata": {
  "kernelspec": {
   "display_name": "Python 3 (ipykernel)",
   "language": "python",
   "name": "python3"
  },
  "language_info": {
   "codemirror_mode": {
    "name": "ipython",
    "version": 3
   },
   "file_extension": ".py",
   "mimetype": "text/x-python",
   "name": "python",
   "nbconvert_exporter": "python",
   "pygments_lexer": "ipython3",
   "version": "3.13.7"
  }
 },
 "nbformat": 4,
 "nbformat_minor": 5
}
