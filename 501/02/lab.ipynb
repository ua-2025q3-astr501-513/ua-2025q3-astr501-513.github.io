{
 "cells": [
  {
   "cell_type": "markdown",
   "id": "0",
   "metadata": {},
   "source": [
    "# Software Environment and Cloud Computing"
   ]
  },
  {
   "cell_type": "markdown",
   "id": "1",
   "metadata": {},
   "source": [
    "[![Dependency](fig/dependency.png)](https://xkcd.com/2347/)"
   ]
  },
  {
   "cell_type": "markdown",
   "id": "2",
   "metadata": {},
   "source": [
    "In modern computational science, running code is only half the\n",
    "challenge.\n",
    "The other half is managing the software environment it depends on.\n",
    "Different projects may require different compilers, libraries, or\n",
    "Python packages, and the ability to reproduce results across HPC\n",
    "systems, laptops, and cloud platforms is important.\n",
    "\n",
    "This week, we will learn practical tools for creating and managing\n",
    "software environments:\n",
    "* Package managers (e.g., `apt-get`) for installing software at the\n",
    "  system level\n",
    "* Building from source when precompiled packages are unavailable or\n",
    "  when you do not have root access to the system.\n",
    "* HPC `module` for loading different versions of software on a shared\n",
    "  system.\n",
    "* Python virtual environments for dependency isolation\n",
    "* Containers (i.e., Docker) for reproducibility and portability"
   ]
  },
  {
   "cell_type": "markdown",
   "id": "3",
   "metadata": {},
   "source": [
    "## Software Management Basics\n",
    "\n",
    "On Unix/Linux systems, most software is installed through package\n",
    "managers, which automatically handle downloading, installing, and\n",
    "configuring programs and their dependencies.\n",
    "\n",
    "Common package managers include:\n",
    "* Debian/Ubuntu: [`apt`](https://wiki.debian.org/Apt) (or the older `apt-get`)\n",
    "* Red Hat/Fedora/CentOS: [`yum`](https://fedoraproject.org/wiki/Yum) or [`dnf`](https://docs.fedoraproject.org/en-US/quick-docs/dnf/)\n",
    "* Arch Linux: [`pacman`](https://wiki.archlinux.org/title/Pacman)\n",
    "* macOS: [`brew`](https://brew.sh/) (Homebrew) and [`port`](https://www.macports.org/) (MacPorts)"
   ]
  },
  {
   "cell_type": "markdown",
   "id": "4",
   "metadata": {},
   "source": [
    "[![sudo](fig/sandwich.png)](https://xkcd.com/149/)\n",
    "\n",
    "By default, package managers install software system-wide, which\n",
    "requires root (administrator) privileges.\n",
    "On personal machines, this is often done by prefixing commands with\n",
    "`sudo` (i.e., \"superuser do\")."
   ]
  },
  {
   "cell_type": "markdown",
   "id": "5",
   "metadata": {},
   "source": [
    "On shared systems such as HPC clusters, users typically do not have\n",
    "root access, so alternative approaches are used (modules, virtual\n",
    "environments, containers).\n",
    "\n",
    "Here, we use Docker to create a sandbox environment where you can\n",
    "safely practice system-level package management commands.\n",
    "We will cover Docker in more detail later, but for now, assuming\n",
    "Docker is installed, you can start a sandbox with:\n",
    "```bash\n",
    "docker run -it debian:forky-slim\n",
    "```\n",
    "\n",
    "Inside your Docker container, update the package list (always do\n",
    "this first):\n",
    "```bash\n",
    "apt update\n",
    "```"
   ]
  },
  {
   "cell_type": "markdown",
   "id": "6",
   "metadata": {},
   "source": [
    "Install a simple system utility (e.g., `htop`):\n",
    "```bash\n",
    "apt instsall -y htop\n",
    "```\n",
    "\n",
    "Install a scientific library (e.g., GNU Scientific Library `gsl`):\n",
    "```bash\n",
    "apt install -y libgsl\n",
    "```\n",
    "\n",
    "You may now verify the installation:\n",
    "```bash\n",
    "htop                 # should start the process viewer\n",
    "dpkg -l | grep gsl   # list installed gsl package\n",
    "```"
   ]
  },
  {
   "cell_type": "markdown",
   "id": "7",
   "metadata": {},
   "source": [
    "## Building from Source\n",
    "\n",
    "[![Virus on Linux](fig/virus.png)](https://www.gnu.org/fun/jokes/evilmalware.en.html)"
   ]
  },
  {
   "cell_type": "markdown",
   "id": "8",
   "metadata": {},
   "source": [
    "[![Python Environment](fig/python_environment.png)](https://xkcd.com/1987/)"
   ]
  }
 ],
 "metadata": {
  "kernelspec": {
   "display_name": "Python 3 (ipykernel)",
   "language": "python",
   "name": "python3"
  },
  "language_info": {
   "codemirror_mode": {
    "name": "ipython",
    "version": 3
   },
   "file_extension": ".py",
   "mimetype": "text/x-python",
   "name": "python",
   "nbconvert_exporter": "python",
   "pygments_lexer": "ipython3",
   "version": "3.13.7"
  }
 },
 "nbformat": 4,
 "nbformat_minor": 5
}
