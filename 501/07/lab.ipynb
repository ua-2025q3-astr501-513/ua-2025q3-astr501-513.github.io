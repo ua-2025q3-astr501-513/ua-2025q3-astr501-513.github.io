{
 "cells": [
  {
   "cell_type": "markdown",
   "id": "0",
   "metadata": {},
   "source": [
    "# Parallel Computing, HPC, and Slurm [![Open In Colab](https://colab.research.google.com/assets/colab-badge.svg)](https://colab.research.google.com/github/ua-2025q3-astr501-513/ua-2025q3-astr501-513.github.io/blob/main/501/07/lab.ipynb)"
   ]
  },
  {
   "cell_type": "markdown",
   "id": "1",
   "metadata": {},
   "source": [
    "Modern scientific research, from simulating black holes to modeling\n",
    "climate systems, requires computational resources that far exceed what\n",
    "a single processor can provide.\n",
    "Problems involving massive datasets or computationally expensive\n",
    "algorithms (e.g., Monte Carlo simulations, numerical PDE solvers,\n",
    "machine learning training) demand performance beyond sequential\n",
    "execution.\n",
    "\n",
    "Parallel computing addresses this by breaking a problem into smaller\n",
    "tasks that can be solved simultaneously on multiple processing\n",
    "elements.\n",
    "With the rise of multicore CPUs, distributed systems, GPUs, and\n",
    "specialized accelerators, parallel computing has become central to\n",
    "high-performance computing (HPC).\n",
    "This lab will introduce you to the theory, programming models, and\n",
    "practical execution of parallel codes, with examples in Python, C, and\n",
    "MPI.\n",
    "You will also gain experience running jobs on a modern HPC cluster\n",
    "with a workload manager like Slurm."
   ]
  },
  {
   "cell_type": "code",
   "execution_count": null,
   "id": "2",
   "metadata": {},
   "outputs": [],
   "source": []
  }
 ],
 "metadata": {
  "kernelspec": {
   "display_name": "Python 3 (ipykernel)",
   "language": "python",
   "name": "python3"
  },
  "language_info": {
   "codemirror_mode": {
    "name": "ipython",
    "version": 3
   },
   "file_extension": ".py",
   "mimetype": "text/x-python",
   "name": "python",
   "nbconvert_exporter": "python",
   "pygments_lexer": "ipython3",
   "version": "3.13.7"
  }
 },
 "nbformat": 4,
 "nbformat_minor": 5
}
