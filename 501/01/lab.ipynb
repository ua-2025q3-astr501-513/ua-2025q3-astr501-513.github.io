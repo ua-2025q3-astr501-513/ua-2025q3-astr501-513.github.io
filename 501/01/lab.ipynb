{
 "cells": [
  {
   "cell_type": "markdown",
   "id": "0",
   "metadata": {},
   "source": [
    "# Unix/Linux, Shell, and Git"
   ]
  },
  {
   "cell_type": "markdown",
   "id": "1",
   "metadata": {},
   "source": [
    "![tar](fig/tar.png)"
   ]
  },
  {
   "cell_type": "markdown",
   "id": "2",
   "metadata": {},
   "source": [
    "## Introduction to Operating Systems\n",
    "\n",
    "An operating system (OS) is the software layer that connects the\n",
    "computer hardware to users and applications (and AI agents now).\n",
    "Instead of writing instructions that directly manipulate processors,\n",
    "memory chips, or disk drives, we interact with the OS, which manages\n",
    "these resources for us."
   ]
  },
  {
   "cell_type": "markdown",
   "id": "3",
   "metadata": {},
   "source": [
    "### The Structure of an Operating System\n",
    "\n",
    "![Kernel, Shell, and Applications](fig/Unix.png)\n",
    "\n",
    "An OS typically consists of three main parts:\n",
    "\n",
    "* Kernel:\n",
    "  the core component.\n",
    "  It directly manages hardware (CPU, memory, devices) and enforces\n",
    "  rules for resource sharing.\n",
    "* System Programs and Applications:\n",
    "  provide services built on top of the kernel, such as file utilities,\n",
    "  compilers, or networking tools.\n",
    "* Shell and User Interface:\n",
    "  the layer through which users interact with the OS.\n",
    "  This can be:\n",
    "  * Command-line shells (e.g., `bash`, `zsh`), where users type commands, or\n",
    "  * Graphical interfaces (e.g., desktops, windows, icons).\n",
    "\n",
    "In this lab, we will focus on the shell, because computational\n",
    "astrophysicists often work on large remote systems (HPC clusters and\n",
    "Cloud) where the command line is the most efficient and sometimes the\n",
    "only available interface."
   ]
  },
  {
   "cell_type": "markdown",
   "id": "4",
   "metadata": {},
   "source": [
    "### Common Features of Operating Systems\n",
    "\n",
    "Despite differences, most operating systems share these\n",
    "responsibilities:\n",
    "* Process Management:\n",
    "  starting, stopping, and scheduling programs.\n",
    "* Memory Management:\n",
    "  allocating, tracking, and protecting system memory.\n",
    "* File Systems:\n",
    "  organizing data into files and directories.\n",
    "* Device Management:\n",
    "  controlling access to hardware like disks and network cards.\n",
    "* Security and Access Control:\n",
    "  permissions, authentication, and isolation.\n",
    "* User Interfaces:\n",
    "  shells or graphical environments for interaction."
   ]
  },
  {
   "cell_type": "markdown",
   "id": "5",
   "metadata": {},
   "source": [
    "### Unix\n",
    "\n",
    "![Ken Thompson and Dennis Ritchie](fig/ken+dmr.png)\n",
    "\n",
    "Unix, developed at Bell Labs in the 1960s-70s by\n",
    "[Ken Thompson](https://en.wikipedia.org/wiki/Ken_Thompson) and\n",
    "[Dennis Ritchie](https://en.wikipedia.org/wiki/Dennis_Ritchie),\n",
    "set the standard for many OS design principles:\n",
    "* A multi-user, multi-tasking architecture.\n",
    "* A hierarchical file system.\n",
    "* \"Everything is a file\" (even devices).\n",
    "* Small, composable programs connected via pipes."
   ]
  },
  {
   "cell_type": "markdown",
   "id": "6",
   "metadata": {},
   "source": [
    "### Linux\n",
    "\n",
    "![Linus Torvalds](fig/Torvalds.png)\n",
    "\n",
    "Linux is a Unix-like operating system (technically only the\n",
    "[kernel](https://github.com/torvalds/linux)) created by\n",
    "[Linus Torvalds](https://en.wikipedia.org/wiki/Linus_Torvalds)\n",
    "in 1991.\n",
    "Unlike traditional Unix systems, it was built independently.\n",
    "Its open-source license\n",
    "([GPLv2](https://www.gnu.org/licenses/old-licenses/gpl-2.0.en.html))\n",
    "lets anyone to study, modify, and redistribute the code.\n",
    "\n",
    "Here is the original humble email that changed the world:\n",
    "```\n",
    "Hello everybody out there using minix -\n",
    "\n",
    "I'm doing a (free) operating system (just a hobby, won't be big and\n",
    "professional like gnu) for 386(486) AT clones.  This has been brewing\n",
    "since april, and is starting to get ready.  I'd like any feedback on\n",
    "things people like/dislike in minix, as my OS resembles it somewhat\n",
    "(same physical layout of the file-system (due to practical reasons)\n",
    "among other things).\n",
    "\n",
    "I've currently ported bash(1.08) and gcc(1.40), and things seem to work.\n",
    "This implies that I'll get something practical within a few months, and\n",
    "I'd like to know what features most people would want.  Any suggestions\n",
    "are welcome, but I won't promise I'll implement them :-)\n",
    "\n",
    "              Linus (torvalds@kruuna.helsinki.fi)\n",
    "\n",
    "PS.  Yes - it's free of any minix code, and it has a multi-threaded fs.\n",
    "It is NOT protable (uses 386 task switching etc), and it probably never\n",
    "will support anything other than AT-harddisks, as that's all I have :-(.\n",
    "```"
   ]
  },
  {
   "cell_type": "markdown",
   "id": "7",
   "metadata": {},
   "source": [
    "### Unix Philosophy\n",
    "\n",
    "![The Art of Unix Programming](fig/taoup.png)\n",
    "\n",
    "The power of Unix and Linux comes not just from its technical\n",
    "features, but from a\n",
    "[design philosophy](http://www.catb.org/~esr/writings/taoup/html/).\n",
    "Some of the guiding principles are:\n",
    "* Do one thing well.\n",
    "  Each program should have a single, focused purpose.\n",
    "  To solve a new problem, build a new tool rather than\n",
    "  overcomplicating an old one.\n",
    "* Build programs to work together.\n",
    "  The output of one program should serve as the input to another.\n",
    "  This encourages simple text-based interfaces and avoids unnecessary\n",
    "  formatting.\n",
    "* Prototype early and refine.\n",
    "  Software should be tested quickly, with the freedom to discard\n",
    "  clumsy parts and rebuild better versions.\n",
    "* Rely on tools, not manual effort.\n",
    "  Create reusable tools to simplify tasks, even if they are only\n",
    "  needed temporarily.\n",
    "\n",
    "Another core idea is that \"everything is a file\".\n",
    "As a result, devices, processes, and data can all be accessed through\n",
    "a unified file interface."
   ]
  },
  {
   "cell_type": "markdown",
   "id": "8",
   "metadata": {},
   "source": [
    "Because of these simple yet powerful design choices, Unix and Linux\n",
    "are extremely flexible and extensible.\n",
    "\n",
    "Unix evolved into a broad family of operating systems, including the\n",
    "[BSDs](https://en.wikipedia.org/wiki/Berkeley_Software_Distribution)\n",
    "(FreeBSD, OpenBSD, NetBSD), Solaris, and eventually\n",
    "[NeXTSTEP](https://en.wikipedia.org/wiki/NeXTSTEP),\n",
    "which became macOS (Mac OS X).\n",
    "Linux, meanwhile, has grown into an ecosystem with countless\n",
    "[distributions](https://en.wikipedia.org/wiki/List_of_Linux_distributions).\n",
    "\n",
    "Today, Linux has surpassed both traditional Unix and Windows in many\n",
    "domains and become the #1 OS for the internet and scientific\n",
    "computing:\n",
    "* Runs directly on bare-metal servers in data centers and on virtual\n",
    "  machines in the cloud.\n",
    "* Powers the [fastest supercomputers](https://top500.org/) in the\n",
    "  world.\n",
    "* Serves as the backbone of scientific computing, HPC, machine\n",
    "  learning, and AI.\n",
    "* Provides the kernel for Android smartphones, used by billions of\n",
    "  people worldwide.\n",
    "\n",
    "![Unix Family Tree](fig/Unix_history-simple.svg)"
   ]
  },
  {
   "cell_type": "markdown",
   "id": "9",
   "metadata": {},
   "source": [
    "### Shells and Terminals\n",
    "\n",
    "The terms \"shell\" and \"terminal\" are often used interchangeably today,\n",
    "but they actually refer to different parts of the system:\n",
    "* Terminal (or terminal emulator): A text-based interface that lets\n",
    "  you interact with the operating system.\n",
    "  On modern computers this is usually a software application (e.g.,\n",
    "  Terminal on macOS, GNOME Terminal on Linux).\n",
    "* Shell: A program that runs inside the terminal.\n",
    "  It interprets the commands you type, sends them to the operating\n",
    "  system, and prints the results back.\n",
    "  Examples include `sh`, `bash`, and `zsh`."
   ]
  },
  {
   "cell_type": "code",
   "execution_count": null,
   "id": "10",
   "metadata": {},
   "outputs": [],
   "source": [
    "# HANDSON: find out what OS you are running.\n",
    "#\n",
    "# Method 1: on Mac or Linux, open a terminal, type `uname -a`.\n",
    "#\n",
    "# Method 2: on Windows, make sure that Windows Subsystem for Linux\n",
    "#           (WSL) is enabled, run the \"Linux GUI apps\", then type\n",
    "#           `uname -a`.\n",
    "#\n",
    "# Method 3: \"shell out\" in Jupyter notebook by adding a \"!\" before\n",
    "#           your command in a Jupyter cell, i.e.,\n",
    "\n",
    "! uname -a"
   ]
  },
  {
   "cell_type": "markdown",
   "id": "11",
   "metadata": {},
   "source": [
    "Here are some commands every Unix/Linux user should know:\n",
    "\n",
    "* Shells:\n",
    "  * `sh`, `bash`, or `zsh`: start a new shell session."
   ]
  },
  {
   "cell_type": "markdown",
   "id": "12",
   "metadata": {},
   "source": [
    "* Navigation:\n",
    "  * `pwd`: Print the current working directory.\n",
    "  * `ls`: List directory contents.\n",
    "    * `ls -l` long format (permissions, owner, size, date).\n",
    "    * `ls -a` show hidden files (those starting with `.`).\n",
    "  * `cd ~`: change into the specified directory."
   ]
  },
  {
   "cell_type": "markdown",
   "id": "13",
   "metadata": {},
   "source": [
    "* File Management:\n",
    "  * `touch newfile.txt`: create an empty file or update its timestamp.\n",
    "  * `mv newfile.txt newname.txt`: move or rename files.\n",
    "  * `cp newname.txt newname2.txt`: copy files.\n",
    "  * `rm newname.txt newname2.txt`: remove (delete) files."
   ]
  },
  {
   "cell_type": "markdown",
   "id": "14",
   "metadata": {},
   "source": [
    "* Printing output\n",
    "  * `echo hello world`: echo message on the screen.\n",
    "  * `printf \"hello world x %d\\n\" 3`: formatted print using `C` format strings."
   ]
  },
  {
   "cell_type": "markdown",
   "id": "15",
   "metadata": {},
   "source": [
    "* Viewing Files:\n",
    "  * `cat file.txt`: print the file contents to the screen.\n",
    "  * `head file.txt`: show the first 10 lines of a file.\n",
    "  * `tail file.txt`: show the last 10 lines of a file."
   ]
  },
  {
   "cell_type": "markdown",
   "id": "16",
   "metadata": {},
   "source": [
    "Many of these commands deal with the file system, which is\n",
    "intentional: in Unix/Linux, \"everything is a file\".\n",
    "Hence, regular files, directories, devices, and even some processes\n",
    "are all accessed using the same interface."
   ]
  },
  {
   "cell_type": "code",
   "execution_count": null,
   "id": "17",
   "metadata": {},
   "outputs": [],
   "source": [
    "# HANDSON: try out some of the above commands; specifically, try out\n",
    "#          both `touch` and `ls -l` to verify that `touch` does update\n",
    "#          timestamp of a file.\n"
   ]
  },
  {
   "cell_type": "code",
   "execution_count": null,
   "id": "18",
   "metadata": {},
   "outputs": [],
   "source": [
    "# HANDSON: on Linux, what \"files\" are available inside `/proc`?\n",
    "#          What do you get if you `cat` these files?\n"
   ]
  },
  {
   "cell_type": "markdown",
   "id": "19",
   "metadata": {},
   "source": [
    "Unix programs are designed to work together.\n",
    "The shell provides simple mechanisms to connect these small tools into\n",
    "powerful workflows.\n",
    "\n",
    "* Redirection and piping operators:\n",
    "  * Redirect output `>`: send the output of a program into a file\n",
    "                         (overwrites the file if it exists).\n",
    "  * Append output `>>`: just like `>`, but adds to the end of the file\n",
    "                        instead of overwriting.\n",
    "  * Pipes `|`: connect programs directly, using the output of one as the\n",
    "               input to another.\n",
    "               This idea was invented by\n",
    "               [Doug McIlroy](https://en.wikipedia.org/wiki/Douglas_McIlroy)\n",
    "               at Bell Labs in 1972, and it became one of the defining\n",
    "\t       features of Unix.\n",
    "  * Command substitution (``` `cmd` ``` or `$(cmd)`): use the output\n",
    "                                                      of one command\n",
    "                                                      as part of\n",
    "                                                      another command."
   ]
  },
  {
   "cell_type": "code",
   "execution_count": null,
   "id": "20",
   "metadata": {},
   "outputs": [],
   "source": [
    "# HANDSON: try the commands\n",
    "#          `ls / > ~/list`\n",
    "#          `cat /proc/cpuinfo | grep ^processor`\n",
    "#          `echo \"Today is $(date)\"`\n"
   ]
  }
 ],
 "metadata": {
  "kernelspec": {
   "display_name": "Python 3 (ipykernel)",
   "language": "python",
   "name": "python3"
  },
  "language_info": {
   "codemirror_mode": {
    "name": "ipython",
    "version": 3
   },
   "file_extension": ".py",
   "mimetype": "text/x-python",
   "name": "python",
   "nbconvert_exporter": "python",
   "pygments_lexer": "ipython3",
   "version": "3.13.7"
  }
 },
 "nbformat": 4,
 "nbformat_minor": 5
}
