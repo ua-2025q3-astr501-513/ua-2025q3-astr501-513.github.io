{
 "cells": [
  {
   "cell_type": "markdown",
   "id": "0",
   "metadata": {},
   "source": [
    "# Unix/Linux, Shell, and Git"
   ]
  },
  {
   "cell_type": "markdown",
   "id": "1",
   "metadata": {},
   "source": [
    "![tar](fig/tar.png)"
   ]
  },
  {
   "cell_type": "markdown",
   "id": "2",
   "metadata": {},
   "source": [
    "## Introduction to Operating Systems\n",
    "\n",
    "An operating system (OS) is the software layer that connects the\n",
    "computer hardware to users and applications (and AI agents now).\n",
    "Instead of writing instructions that directly manipulate processors,\n",
    "memory chips, or disk drives, we interact with the OS, which manages\n",
    "these resources for us."
   ]
  },
  {
   "cell_type": "markdown",
   "id": "3",
   "metadata": {},
   "source": [
    "### The Structure of an Operating System\n",
    "\n",
    "An OS typically consists of three main parts:\n",
    "\n",
    "* Kernel:\n",
    "  the core component.\n",
    "  It directly manages hardware (CPU, memory, devices) and enforces\n",
    "  rules for resource sharing.\n",
    "* System Programs and Applications:\n",
    "  provide services built on top of the kernel, such as file utilities,\n",
    "  compilers, or networking tools.\n",
    "* Shell and User Interface:\n",
    "  the layer through which users interact with the OS.\n",
    "  This can be:\n",
    "  * Command-line shells (e.g., `bash`, `zsh`), where users type commands, or\n",
    "  * Graphical interfaces (e.g., desktops, windows, icons).\n",
    "\n",
    "In this lab, we will focus on the shell, because computational\n",
    "astrophysicists often work on large remote systems (HPC clusters and\n",
    "Cloud) where the command line is the most efficient and sometimes the\n",
    "only available interface."
   ]
  },
  {
   "cell_type": "markdown",
   "id": "4",
   "metadata": {},
   "source": [
    "### Common Features of Operating Systems\n",
    "\n",
    "Despite differences, most operating systems share these\n",
    "responsibilities:\n",
    "* Process Management:\n",
    "  starting, stopping, and scheduling programs.\n",
    "* Memory Management:\n",
    "  allocating, tracking, and protecting system memory.\n",
    "* File Systems:\n",
    "  organizing data into files and directories.\n",
    "* Device Management:\n",
    "  controlling access to hardware like disks and network cards.\n",
    "* Security and Access Control:\n",
    "  permissions, authentication, and isolation.\n",
    "* User Interfaces:\n",
    "  shells or graphical environments for interaction."
   ]
  },
  {
   "cell_type": "markdown",
   "id": "5",
   "metadata": {},
   "source": [
    "### Unix\n",
    "\n",
    "![Ken Thompson and Dennis Ritchie](fig/ken+dmr.png)\n",
    "\n",
    "Unix, developed at Bell Labs in the 1960s-70s by\n",
    "[Ken Thompson](https://en.wikipedia.org/wiki/Ken_Thompson) and\n",
    "[Dennis Ritchie](https://en.wikipedia.org/wiki/Dennis_Ritchie),\n",
    "set the standard for many OS design principles:\n",
    "* A multi-user, multi-tasking architecture.\n",
    "* A hierarchical file system.\n",
    "* \"Everything is a file\" (even devices).\n",
    "* Small, composable programs connected via pipes."
   ]
  },
  {
   "cell_type": "markdown",
   "id": "6",
   "metadata": {},
   "source": [
    "### Linux\n",
    "\n",
    "![Linus Torvalds](fig/Torvalds.png)\n",
    "\n",
    "Linux is a Unix-like operating system (technically only the\n",
    "[kernel](https://github.com/torvalds/linux)) created by\n",
    "[Linus Torvalds](https://en.wikipedia.org/wiki/Linus_Torvalds)\n",
    "in 1991.\n",
    "Unlike traditional Unix systems, it was built independently.\n",
    "Its open-source license\n",
    "([GPLv2](https://www.gnu.org/licenses/old-licenses/gpl-2.0.en.html))\n",
    "lets anyone to study, modify, and redistribute the code.\n",
    "\n",
    "Here is the original humble email that changed the world:\n",
    "```\n",
    "Hello everybody out there using minix -\n",
    "\n",
    "I'm doing a (free) operating system (just a hobby, won't be big and\n",
    "professional like gnu) for 386(486) AT clones.  This has been brewing\n",
    "since april, and is starting to get ready.  I'd like any feedback on\n",
    "things people like/dislike in minix, as my OS resembles it somewhat\n",
    "(same physical layout of the file-system (due to practical reasons)\n",
    "among other things).\n",
    "\n",
    "I've currently ported bash(1.08) and gcc(1.40), and things seem to work.\n",
    "This implies that I'll get something practical within a few months, and\n",
    "I'd like to know what features most people would want.  Any suggestions\n",
    "are welcome, but I won't promise I'll implement them :-)\n",
    "\n",
    "              Linus (torvalds@kruuna.helsinki.fi)\n",
    "\n",
    "PS.  Yes - it's free of any minix code, and it has a multi-threaded fs.\n",
    "It is NOT protable (uses 386 task switching etc), and it probably never\n",
    "will support anything other than AT-harddisks, as that's all I have :-(.\n",
    "```"
   ]
  },
  {
   "cell_type": "markdown",
   "id": "7",
   "metadata": {},
   "source": [
    "### Unix Philosophy\n",
    "\n",
    "![The Art of Unix Programming](fig/taoup.png)\n",
    "\n",
    "The power of Unix and Linux comes not just from its technical\n",
    "features, but from a\n",
    "[design philosophy](http://www.catb.org/~esr/writings/taoup/html/).\n",
    "Some of the guiding principles are:\n",
    "* Do one thing well.\n",
    "  Each program should have a single, focused purpose.\n",
    "  To solve a new problem, build a new tool rather than\n",
    "  overcomplicating an old one.\n",
    "* Build programs to work together.\n",
    "  The output of one program should serve as the input to another.\n",
    "  This encourages simple text-based interfaces and avoids unnecessary\n",
    "  formatting.\n",
    "* Prototype early and refine.\n",
    "  Software should be tested quickly, with the freedom to discard\n",
    "  clumsy parts and rebuild better versions.\n",
    "* Rely on tools, not manual effort.\n",
    "  Create reusable tools to simplify tasks, even if they are only\n",
    "  needed temporarily.\n",
    "\n",
    "Another core idea is that \"everything is a file\".\n",
    "As a result, devices, processes, and data can all be accessed through\n",
    "a unified file interface."
   ]
  },
  {
   "cell_type": "markdown",
   "id": "8",
   "metadata": {},
   "source": [
    "Because of these simple yet powerful design choices, Unix and Linux\n",
    "systems are extremely flexible and extensible.\n",
    "Unix grew into a family tree of operating systems including BSD\n",
    "(FreeBSD, OpenBSD, NetBSD), Solaris, and later macOS (Mac OS X).\n",
    "\n",
    "And today, Linux is everywhere:\n",
    "* Powering servers, clusters, supercomputers, and the cloud.\n",
    "* Essential in scientific computing and HPC, as well as machine\n",
    "  learning and AI.\n",
    "* The foundation for\n",
    "  [distributions](https://en.wikipedia.org/wiki/List_of_Linux_distributions)\n",
    "  like Ubuntu, Fedora, and Debian.\n",
    "* The kernel for Android smartphones.\n",
    "\n",
    "![Unix Family Tree](fig/Unix_history-simple.svg)"
   ]
  }
 ],
 "metadata": {
  "kernelspec": {
   "display_name": "Python 3 (ipykernel)",
   "language": "python",
   "name": "python3"
  },
  "language_info": {
   "codemirror_mode": {
    "name": "ipython",
    "version": 3
   },
   "file_extension": ".py",
   "mimetype": "text/x-python",
   "name": "python",
   "nbconvert_exporter": "python",
   "pygments_lexer": "ipython3",
   "version": "3.13.7"
  }
 },
 "nbformat": 4,
 "nbformat_minor": 5
}
