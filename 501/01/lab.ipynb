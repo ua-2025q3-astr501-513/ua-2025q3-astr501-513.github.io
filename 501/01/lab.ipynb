{
 "cells": [
  {
   "cell_type": "markdown",
   "id": "0",
   "metadata": {},
   "source": [
    "# Jupyter Notebook and Python [![Open In Colab](https://colab.research.google.com/assets/colab-badge.svg)](https://colab.research.google.com/github/ua-2025q3-astr501-513/ua-2025q3-astr501-513.github.io/blob/main/01t/lab.ipynb)"
   ]
  },
  {
   "cell_type": "markdown",
   "id": "1",
   "metadata": {},
   "source": [
    "<img src=\"fig/jupytermeme.png\" alt=\"Jupyter Meme\" style=\"width:486px;\"/>"
   ]
  },
  {
   "cell_type": "markdown",
   "id": "2",
   "metadata": {},
   "source": [
    "## Welcome to ASTR 501!\n",
    "\n",
    "This course is an introduction to computing for incoming astronomy\n",
    "and astrophysics graduate students.\n",
    "Course will cover basics of programming in Python and C/C++, including\n",
    "commonly-used libraries for astronomical research, an introduction to\n",
    "computer hardware including coprocessors such as GPUs, and some\n",
    "introductory concepts from computer science."
   ]
  },
  {
   "cell_type": "markdown",
   "id": "3",
   "metadata": {},
   "source": [
    "The course website is: https://ua-2025q3-astr501-513.github.io.\n",
    "All lecture notes and links to homework will be posted here."
   ]
  },
  {
   "cell_type": "markdown",
   "id": "4",
   "metadata": {},
   "source": [
    "This course is recommended in conjunction with [ASTR 513 Statistical\n",
    "and Computational Methods in\n",
    "Astrophysics](https://catalog.arizona.edu/courses/0404141), which\n",
    "meets every Monday and Wednesday 11am-12:15pm.\n",
    "\n",
    "Also, every Thursday 2-3:30pm, we will have the weekly\n",
    "[TAP](https://tap.arizona.edu/) [Computation & Data\n",
    "Initiative](https://tap.arizona.edu/initiatives/computation-data-initiative)\n",
    "meeting in SO N305.\n",
    "Please feel free to stop by as well."
   ]
  },
  {
   "cell_type": "markdown",
   "id": "5",
   "metadata": {},
   "source": [
    "### Instructor and Contact Information\n",
    "\n",
    "**Instructor:** Chi-kwan Chan  \n",
    "**Email:** [chanc@arizona.edu](mailto:chanc@arizona.edu?subject=ASTR%20513) (please include \"ASTR 513\" in subjects of emails)  \n",
    "**Office:** Steward Observatory N332  \n",
    "**Office Hours:** TBD\n",
    "\n",
    "**Instructor:** Shuo Kong  \n",
    "**Email:** [shuokong@arizona.edu](mailto:shuokong@arizona.edu?subject=ASTR%20513) (please include \"ASTR 513\" in subjects of emails)  \n",
    "**Office:** Steward Observatory N328  \n",
    "**Office Hours:** TBD"
   ]
  },
  {
   "cell_type": "markdown",
   "id": "6",
   "metadata": {},
   "source": [
    "### Scheduled Topics/Activities\n",
    "\n",
    "| #  | Week | Tuesday\n",
    "--- | --- | ---\n",
    "1  | Aug 24-Aug 30 | Jupyter Notebook and Python\n",
    "2  | Aug 31-Sep  6 | Unix/Linux, Shell, and Git\n",
    "3  | Sep  7-Sep 13 | Software Environment and Cloud Computing\n",
    "4  | Sep 14-Sep 20 | Make, Workflow, and GitHub Action\n",
    "5  | Sep 21-Sep 27 | C/C++\n",
    "6  | Sep 28-Oct  4 | Code optimization\n",
    "7  | Oct  5-Oct 11 | Parallel Computing\n",
    "8  | Oct 12-Oct 18 | HPC and Slurm\n",
    "9  | Oct 19-Oct 25 | Hydrodynamic Simulation 1\n",
    "10 | Oct 26-Nov  1 | Hydrodynamic Simulation 2\n",
    "11 | Nov  2-Nov  8 | Hydrodynamic Simulation 3\n",
    "12 | Nov  9-Nov 15 | No class (Veterans Day)\n",
    "13 | Nov 16-Nov 22 | Hydrodynamic Simulation 4\n",
    "14 | Nov 23-Nov 29 | Presentation 1\n",
    "15 | Nov 30-Dec  6 | Presentation 2\n",
    "16 | Dec  7-Dec 13 | Visit UA HPC"
   ]
  },
  {
   "cell_type": "markdown",
   "id": "7",
   "metadata": {},
   "source": [
    "### Grading Scale and Policies\n",
    "\n",
    "This course provides pass/fail grades.\n",
    "Students who finish majority of hands-on labs and create reasonable\n",
    "projects would receive passing grades."
   ]
  },
  {
   "cell_type": "markdown",
   "id": "8",
   "metadata": {},
   "source": [
    "### Usage of Generative AI\n",
    "\n",
    "Homework, projects, and exams in this course are designed to help\n",
    "students apply class concepts, test their understanding, and develop\n",
    "skills in software development and scientific communication.\n",
    "Generative AI tools such as ChatGPT, Google Gemini, and GitHub Copilot\n",
    "can be valuable for brainstorming, exploring alternative approaches,\n",
    "clarifying confusing concepts, and debugging code.\n",
    "Students may also use these tools to clarify difficult concepts and to\n",
    "generate examples that aid their learning.\n",
    "\n",
    "However, students must write their own code, take full responsibility\n",
    "for their work, and demonstrate a clear understanding of the\n",
    "underlying concepts.\n",
    "While AI tools can support learning, they may produce inaccurate,\n",
    "incomplete, or biased results.\n",
    "Students are responsible for verifying facts, testing code, and\n",
    "critically assessing all submitted material.\n",
    "\n",
    "Any use of generative AI must be acknowledged or cited (see guidelines\n",
    "from UA library).\n",
    "Failure to disclose such use, or submitting work that is not original,\n",
    "will be considered a violation of academic integrity.\n",
    "\n",
    "For questions, contact your instructor."
   ]
  },
  {
   "cell_type": "markdown",
   "id": "9",
   "metadata": {},
   "source": [
    "## Introduction to Jupyter\n",
    "\n",
    "The [Jupyter Project](https://jupyter.org/) provides tools, including\n",
    "[Jupyter Notebook](https://jupyter-notebook.readthedocs.io/) and\n",
    "[JupyterLab](https://jupyterlab.readthedocs.io/), for interactive\n",
    "computing.\n",
    "\n",
    "A Jupyter notebook is a single document that can mix together:\n",
    "* Code that you can run\n",
    "* Text explanations\n",
    "* Math equations\n",
    "* Data and plots\n",
    "* Images and interactive widgets\n",
    "\n",
    "Think of it as a lab notebook that can **explain an idea, run the\n",
    "code, and show the results all in one place.**\n",
    "This form of programming is actually called [\"literate\n",
    "programming\"](https://en.wikipedia.org/wiki/Literate_programming),\n",
    "first introduced by in 1984 by [Donald\n",
    "Knuth](https://en.wikipedia.org/wiki/Donald_Knuth), the creator of\n",
    "[`TeX`](https://www.tug.org/).\n",
    "\n",
    "Proprietary programs like Mathematica and MATLAB have had similar\n",
    "notebook features for years.\n",
    "The difference is that Jupyter is open-source, built in Python,\n",
    "and freely available.\n",
    "This makes it one of the most popular tools in data science,\n",
    "astrophysics, and beyond."
   ]
  },
  {
   "cell_type": "markdown",
   "id": "10",
   "metadata": {},
   "source": [
    "### How to Run This Notebook\n",
    "\n",
    "These course materials (ASTR 501+513) are built using [Jupyter\n",
    "Book](https://next.jupyterbook.org/), which combines Markdown files\n",
    "and Jupyter notebooks to provide lecture notes and hands-on labs.\n",
    "Because of this, each page can also be opened directly as a Jupyter\n",
    "notebook.\n",
    "\n",
    "Jupyter notebooks can be used in many editors, including: [VS\n",
    "Code](https://code.visualstudio.com/) (with Jupyter extensions) and\n",
    "[Google Colab](https://colab.research.google.com/) (runs in the cloud\n",
    "with no setup required).\n",
    "\n",
    "To keep this first lab simple, we will use Google Colab.\n",
    "\n",
    "Steps to open the notebook in Colab:\n",
    "1. At the top right of this page, click the **\"Edit\" pencil icon**.\n",
    "   This will open the notebook's source page on GitHub.\n",
    "2. On the GitHub page, find the **\"Open in Colab\" badge** near the\n",
    "   top.  Clicking this badge will open the notebook in Google Colab.\n",
    "3. In Colab, run any code cell by either:\n",
    "   * pressing \"Shift + Enter\", or\n",
    "   * clicking the **▶ Run** button on the left of the cell.\n",
    "\n",
    "With these steps, you can run Python code directly in your browser,\n",
    "without needing to install anything locally."
   ]
  },
  {
   "cell_type": "markdown",
   "id": "11",
   "metadata": {},
   "source": [
    "### Markdown\n",
    "\n",
    "In a Jupyter notebook (and hance Google Colab), there are mainly two\n",
    "types of cells.\n",
    "* By default, cells contain executable \"Code\".\n",
    "  Pressing \"Shift + Enter\" would run the code.\n",
    "* The cells that display documentation, such as this one, are\n",
    "  \"Markdown\" cells.\n",
    "  Pressing \"Shift + Enter\" would render the documentation.\n",
    "\n",
    "Depending on which the Jupyter Lab Plugins you have, you may use\n",
    "[basic markdown](https://docs.github.com/en/get-started/writing-on-github/getting-started-with-writing-and-formatting-on-github/basic-writing-and-formatting-syntax)\n",
    "to write basic documentations or\n",
    "[MyST](https://myst-parser.readthedocs.io/en/v0.13.3/using/syntax.html)\n",
    "to create fancy scientific paper.\n",
    "\n",
    "Basic markdown syntax includes:\n",
    "```\n",
    "# A first-level heading\n",
    "## A second-level heading\n",
    "### A third-level heading\n",
    "\n",
    "**bold text** or __bold text__\n",
    "*italic* or _italic_\n",
    "\n",
    "> Text that is a quote\n",
    "\n",
    "[A link](URL)\n",
    "![An image](URL)\n",
    "```"
   ]
  },
  {
   "cell_type": "code",
   "execution_count": null,
   "id": "12",
   "metadata": {},
   "outputs": [],
   "source": [
    "HANDSON:\n",
    "Turn this cell into a markdown cell.\n",
    "Write a short introduction about yourself and your research interest.\n",
    "Try different formatting methods.\n",
    "* Can you display equations?\n",
    "* Can you use non-ASCII characters, e.g., emoji?\n",
    "* Why does CK always add a newline after a period?\n",
    "* Why does CK always break a long sentence?"
   ]
  },
  {
   "cell_type": "markdown",
   "id": "13",
   "metadata": {},
   "source": [
    "## An Introduction to Python\n",
    "\n",
    "Python is a high-level programming language created in the late 1980s\n",
    "by Guido van Rossum.\n",
    "It was first released in 1991 with the goal of being both powerful and\n",
    "easy to read.\n",
    "Its name comes from\n",
    "[*Monty Python's Flying Circus*](https://en.wikipedia.org/wiki/Monty_Python%27s_Flying_Circus)\n",
    "(not from the snake)."
   ]
  },
  {
   "cell_type": "markdown",
   "id": "14",
   "metadata": {},
   "source": [
    "Today, Python is one of the most widely used programming languages in\n",
    "the world.\n",
    "It is especially popular in data science, artificial intelligence, and\n",
    "scientific computing, largely because:\n",
    "* The syntax is simple and readable, making it beginner-friendly.\n",
    "* It has a vast ecosystem of libraries (e.g.,\n",
    "  [NumPy](https://numpy.org/), [SciPy](https://scipy.org/),\n",
    "  [pandas](https://pandas.pydata.org/),\n",
    "  [matplotlib](https://matplotlib.org/),\n",
    "  [scikit-learn](https://scikit-learn.org/),\n",
    "  [TensorFlow](https://www.tensorflow.org/),\n",
    "  [PyTorch](https://pytorch.org/)).\n",
    "* It supports both quick prototyping and large-scale applications.\n",
    "* It is open-source and has a strong worldwide community.\n",
    "\n",
    "<img src=\"fig/python_is_easy.jpg\" alt=\"Python is easy\" style=\"width:350px;\"/>"
   ]
  },
  {
   "cell_type": "markdown",
   "id": "15",
   "metadata": {},
   "source": [
    "In astrophysics and many other sciences, Python has become the\n",
    "standard language for data analysis, modeling, and visualization."
   ]
  },
  {
   "cell_type": "markdown",
   "id": "16",
   "metadata": {},
   "source": [
    "Python code can be written and executed interactively in Jupyter\n",
    "notebooks.\n",
    "In fact, the name \"Jupyter\" comes from the three programming langauge\n",
    "[Julia](https://julialang.org/), [Python](https://www.python.org/),\n",
    "and [R](https://www.r-project.org/).\n",
    "Let's begin with the basics.\n",
    "\n",
    "You may skip this if you already know Python."
   ]
  },
  {
   "cell_type": "markdown",
   "id": "17",
   "metadata": {},
   "source": [
    "### 1. Printing\n",
    "\n",
    "Use the `print()` function to display output."
   ]
  },
  {
   "cell_type": "code",
   "execution_count": null,
   "id": "18",
   "metadata": {},
   "outputs": [],
   "source": [
    "# Example: Print a message\n",
    "\n",
    "print(\"Hello, world!  Welcome to ASTR 501!\")"
   ]
  },
  {
   "cell_type": "code",
   "execution_count": null,
   "id": "19",
   "metadata": {},
   "outputs": [],
   "source": [
    "# HANDSON: Change the message\n",
    "\n",
    "print(\"Your custom message here\")"
   ]
  },
  {
   "cell_type": "code",
   "execution_count": null,
   "id": "20",
   "metadata": {},
   "outputs": [],
   "source": [
    "# HANDSON: What happen if you just type a message without print?\n"
   ]
  },
  {
   "cell_type": "code",
   "execution_count": null,
   "id": "21",
   "metadata": {},
   "outputs": [],
   "source": [
    "# HANDSON: Instead of print(), try to use display().\n",
    "#          Do you know what is the difference?\n"
   ]
  },
  {
   "cell_type": "markdown",
   "id": "22",
   "metadata": {},
   "source": [
    "### 2. Variables and Data Types\n",
    "\n",
    "Python supports various data types such as integers, floats, strings, and booleans."
   ]
  },
  {
   "cell_type": "code",
   "execution_count": null,
   "id": "23",
   "metadata": {},
   "outputs": [],
   "source": [
    "# Example: variable assignment with different types\n",
    "\n",
    "i       = 1           # Integer\n",
    "j       = 2**345      # Integers have arbitrary precision\n",
    "x       = 3.14        # Float\n",
    "y       = 4e6         # Float in scientific notation\n",
    "z       = 5 + 6j      # Complex number\n",
    "astr    = \"Astronomy\" # String\n",
    "is_cool = True        # Boolean\n",
    "\n",
    "print(\"i =\", i)\n",
    "print(\"j =\", j)\n",
    "print(\"x =\", x)\n",
    "print(\"y =\", y)\n",
    "print(\"z =\", z)\n",
    "print(\"astr =\", astr)\n",
    "print(\"is_cool =\", is_cool)"
   ]
  },
  {
   "cell_type": "code",
   "execution_count": null,
   "id": "24",
   "metadata": {},
   "outputs": [],
   "source": [
    "# HANDSON: Define and print variables\n",
    "\n",
    "year       = ...\n",
    "height     = ...\n",
    "name       = ...\n",
    "is_student = ...\n",
    "\n",
    "print(\"Year:\", year)\n",
    "print(\"Height:\", height)\n",
    "print(\"Name:\", name)\n",
    "print(\"Is student:\", is_student)"
   ]
  },
  {
   "cell_type": "markdown",
   "id": "25",
   "metadata": {},
   "source": [
    "### 3. Basic Arithmetic\n",
    "\n",
    "Python can handle basic mathematical operations."
   ]
  },
  {
   "cell_type": "code",
   "execution_count": null,
   "id": "26",
   "metadata": {},
   "outputs": [],
   "source": [
    "# Examples of arithmetic\n",
    "\n",
    "addition       = 1 + 1\n",
    "subtraction    = 2 - 1\n",
    "multiplication = 3 * 4\n",
    "division       = 5 / 2 # this is called \"truediv\"\n",
    "division2      = 5 //2 # this is called \"floordiv\"\n",
    "remainder      = 5 % 2 # this is called \"mod\"\n",
    "power          = 5 **2\n",
    "\n",
    "print(\"Addition:\",       addition)\n",
    "print(\"Subtraction:\",    subtraction)\n",
    "print(\"Multiplication:\", multiplication)\n",
    "print(\"Division:\",       division)\n",
    "print(\"Division2:\",      division2)\n",
    "print(\"Remainder:\",      remainder)\n",
    "print(\"Power:\",          power)"
   ]
  },
  {
   "cell_type": "code",
   "execution_count": null,
   "id": "27",
   "metadata": {},
   "outputs": [],
   "source": [
    "# HANDSON: test out true division `/`, floor division `//`, and \"mod\"\n",
    "#          `%` with different combinations of integers and floating\n",
    "#          point numbers.\n",
    "#          Do the results make sense?\n",
    "#          Can you provide an equation that summarizes the logic of\n",
    "#          these operators?\n"
   ]
  },
  {
   "cell_type": "markdown",
   "id": "28",
   "metadata": {},
   "source": [
    "### 4. Lists\n",
    "\n",
    "Lists are ordered collections of items."
   ]
  },
  {
   "cell_type": "code",
   "execution_count": null,
   "id": "29",
   "metadata": {},
   "outputs": [],
   "source": [
    "# Example: Creating a list\n",
    "numbers = [1, 2, 3, 4, 5]\n",
    "print(\"Original list:\", numbers)\n",
    "\n",
    "# Accessing elements\n",
    "print(\"First element:\", numbers[0])\n",
    "print(\"Last element:\", numbers[-1])\n",
    "\n",
    "# Adding elements\n",
    "numbers.append(6)\n",
    "print(\"List after appending:\", numbers)\n",
    "\n",
    "# Removing last elements\n",
    "numbers.pop()\n",
    "print(\"List after removing last element:\", numbers)\n",
    "\n",
    "# Removing specific elements\n",
    "numbers.remove(i) # note that `i` was defined above\n",
    "print(\"List after removing\", i, \":\", numbers)"
   ]
  },
  {
   "cell_type": "code",
   "execution_count": null,
   "id": "30",
   "metadata": {},
   "outputs": [],
   "source": [
    "# HANDSON: create your own list and manipulate it.\n",
    "\n",
    "# Create a list\n",
    "fruits = ...\n",
    "print(\"Fruits:\", fruits)\n",
    "\n",
    "# Add an element to the list\n",
    "...\n",
    "print(\"Fruits:\", fruits)\n",
    "\n",
    "# Remove an item\n",
    "...\n",
    "print(\"Fruits:\", fruits)"
   ]
  },
  {
   "cell_type": "code",
   "execution_count": null,
   "id": "31",
   "metadata": {},
   "outputs": [],
   "source": [
    "# HANDSON: lists also support operators.\n",
    "#          Try using `+` and `*` on lists.\n",
    "#          What do you get?\n"
   ]
  },
  {
   "cell_type": "code",
   "execution_count": null,
   "id": "32",
   "metadata": {},
   "outputs": [],
   "source": [
    "# HANDSON: Python has a data structure very similar to list\n",
    "#          called `tuple`.\n",
    "#          The syntax to create it is `t = (1, 2, 3, ...)`.\n",
    "#          Create a tuple and compare it with a list.\n",
    "#          What's the difference?\n"
   ]
  },
  {
   "cell_type": "markdown",
   "id": "33",
   "metadata": {},
   "source": [
    "### 5. For Loops\n",
    "\n",
    "Loops allow you to iterate over a sequence of items."
   ]
  },
  {
   "cell_type": "code",
   "execution_count": null,
   "id": "34",
   "metadata": {},
   "outputs": [],
   "source": [
    "# Example: Loop through a list\n",
    "\n",
    "for number in numbers:\n",
    "    print(\"Number:\", number)"
   ]
  },
  {
   "cell_type": "code",
   "execution_count": null,
   "id": "35",
   "metadata": {},
   "outputs": [],
   "source": [
    "# Example: Use an iterable instead of a list\n",
    "\n",
    "for number in range(10):\n",
    "    print(\"Number:\", number)"
   ]
  },
  {
   "cell_type": "code",
   "execution_count": null,
   "id": "36",
   "metadata": {},
   "outputs": [],
   "source": [
    "# HANDSON: Write a loop to print squares of numbers.\n",
    "#          Note that we use something called a \"formatted string\",\n",
    "#          or \"f-strings\", here.\n",
    "\n",
    "...\n",
    "    print(f\"Square of {i} is {i ** 2}\")"
   ]
  },
  {
   "cell_type": "markdown",
   "id": "37",
   "metadata": {},
   "source": [
    "### 6. Functions\n",
    "\n",
    "Functions allow you to reuse code."
   ]
  },
  {
   "cell_type": "code",
   "execution_count": null,
   "id": "38",
   "metadata": {},
   "outputs": [],
   "source": [
    "# Example: Define a function\n",
    "def greet(name):\n",
    "    return f\"Hello, {name}!  Welcome to ASTR 501!\"\n",
    "\n",
    "# Call the function\n",
    "message = greet(name)\n",
    "print(message)"
   ]
  },
  {
   "cell_type": "code",
   "execution_count": null,
   "id": "39",
   "metadata": {},
   "outputs": [],
   "source": [
    "# HANDSON: Function to calculate circle area\n",
    "\n",
    "def circle_area(radius):\n",
    "    ...\n",
    "\n",
    "# Test the function\n",
    "area = circle_area(5)\n",
    "print(\"Area of circle with radius 5:\", area)"
   ]
  },
  {
   "cell_type": "markdown",
   "id": "40",
   "metadata": {},
   "source": [
    "### 7. NumPy: Numerical Computing\n",
    "\n",
    "Python's power comes from its libraries.\n",
    "For scientific computing, `numpy` and `matplotlib` are probably the\n",
    "two most important libraries.\n",
    "Let's explore their capabilities.\n",
    "\n",
    "NumPy provides support for large multi-dimensional arrays and\n",
    "matrices, along with mathematical functions to operate on them."
   ]
  },
  {
   "cell_type": "code",
   "execution_count": null,
   "id": "41",
   "metadata": {},
   "outputs": [],
   "source": [
    "# Example: Using NumPy\n",
    "import numpy as np\n",
    "\n",
    "# Create an array\n",
    "array = np.array([1, 2, 3, 4, 5])\n",
    "print(\"Array:\", array)\n",
    "\n",
    "# Perform operations\n",
    "squared = array ** 2\n",
    "print(\"Squared Array:\", squared)\n",
    "\n",
    "# Generate a range of numbers\n",
    "linspace = np.linspace(0, 10, 11)\n",
    "print(\"Linspace:\", linspace)"
   ]
  },
  {
   "cell_type": "markdown",
   "id": "42",
   "metadata": {},
   "source": [
    "NumPy's core functions are written in C (see, e.g.,\n",
    "[here](https://github.com/numpy/numpy/tree/main/numpy/_core/src)).\n",
    "Using NumPy for large arrays is much faster than for loop in python."
   ]
  },
  {
   "cell_type": "code",
   "execution_count": null,
   "id": "43",
   "metadata": {},
   "outputs": [],
   "source": [
    "array = range(10_000)  # you may add underscore to integers to improve readibility."
   ]
  },
  {
   "cell_type": "code",
   "execution_count": null,
   "id": "44",
   "metadata": {},
   "outputs": [],
   "source": [
    "%%time\n",
    "# `%%time` is a \"magic command\" of IPython.\n",
    "# it prints the wall time for the entire cell.\n",
    "\n",
    "squared = []\n",
    "for a in array:\n",
    "    squared.append(a*a)"
   ]
  },
  {
   "cell_type": "code",
   "execution_count": null,
   "id": "45",
   "metadata": {},
   "outputs": [],
   "source": [
    "array = np.arange(10_000)"
   ]
  },
  {
   "cell_type": "code",
   "execution_count": null,
   "id": "46",
   "metadata": {},
   "outputs": [],
   "source": [
    "%%time\n",
    "\n",
    "squared = array * array"
   ]
  },
  {
   "cell_type": "code",
   "execution_count": null,
   "id": "47",
   "metadata": {},
   "outputs": [],
   "source": [
    "# HANDSON: NumPy calculations\n",
    "\n",
    "# Create an array of numbers from 1 to 10\n",
    "numbers = ...\n",
    "\n",
    "# Calculate their squares and square roots\n",
    "squares = ...\n",
    "roots   = ...\n",
    "\n",
    "print(\"Numbers:\", numbers)\n",
    "print(\"Squares:\", squares)\n",
    "print(\"Square Roots:\", roots)"
   ]
  },
  {
   "cell_type": "markdown",
   "id": "48",
   "metadata": {},
   "source": [
    "### 8. Matplotlib: Data Visualization\n",
    "\n",
    "Matplotlib is a plotting library for creating static, animated, and\n",
    "interactive visualizations."
   ]
  },
  {
   "cell_type": "code",
   "execution_count": null,
   "id": "49",
   "metadata": {},
   "outputs": [],
   "source": [
    "# Example: Plotting with Matplotlib\n",
    "import matplotlib.pyplot as plt\n",
    "\n",
    "# Create data with NumPy\n",
    "x = np.linspace(0, 10, 100)\n",
    "y = np.sin(x)\n",
    "\n",
    "# Create a plot with Matplotlib\n",
    "plt.plot(x, y, '-o', label='sin(x)')\n",
    "plt.title(\"Sine Wave\")\n",
    "plt.xlabel(\"x\")\n",
    "plt.ylabel(\"sin(x)\")\n",
    "plt.legend()\n",
    "plt.grid()\n",
    "\n",
    "# Show and save figure\n",
    "plt.show()  # optional in jupyter notebook\n",
    "plt.savefig('sin.pdf')"
   ]
  },
  {
   "cell_type": "code",
   "execution_count": null,
   "id": "50",
   "metadata": {},
   "outputs": [],
   "source": [
    "# HANDSON: Create a plot\n",
    "\n",
    "# Let's try to plot two curves in a single plot\n",
    "x  = np.linspace(0, 2 * np.pi, 100)\n",
    "y1 = np.sin(x)\n",
    "y2 = np.cos(x)\n",
    "\n",
    "# Plot both sine and cosine\n",
    "...\n",
    "...\n",
    "\n",
    "# Customize the plot\n",
    "...\n",
    "\n",
    "# Show and save figure\n",
    "..."
   ]
  },
  {
   "cell_type": "markdown",
   "id": "51",
   "metadata": {},
   "source": [
    "Clearly this does not cover all important python topics.\n",
    "Specifically, we left out dictionary, set, condition statements\n",
    "such as `if-elif-else`, etc.\n",
    "But hopefully these are enough for you to get started in ASTR 501+513.\n",
    "As the semester goes, we will pick up more python."
   ]
  },
  {
   "cell_type": "markdown",
   "id": "52",
   "metadata": {},
   "source": [
    "## Slightly More Advanced Python\n",
    "\n",
    "If you already know the basics of Python, instead of getting bored,\n",
    "let's get into slightly more advanced topics.\n",
    "Specifically, let's explore NumPy, one of the most important libraries\n",
    "for scientific computing.\n",
    "NumPy provides:\n",
    "\n",
    "* High-performance multi-dimensional arrays (the `ndarray`)\n",
    "* Concise syntax for numerical operations\n",
    "* Speed-ups over pure Python, since many operations run in optimized C\n",
    "  code\n",
    "\n",
    "In astrophysics and data science, NumPy is a foundation for almost\n",
    "every other scientific library (such as \n",
    "[SciPy](https://scipy.org/) and \n",
    "[AstroPy](https://www.astropy.org/))."
   ]
  },
  {
   "cell_type": "markdown",
   "id": "53",
   "metadata": {},
   "source": [
    "### Array Creation and Slicing\n",
    "\n",
    "NumPy arrays look similar to Python lists, but are much faster and more\n",
    "powerful."
   ]
  },
  {
   "cell_type": "code",
   "execution_count": null,
   "id": "54",
   "metadata": {},
   "outputs": [],
   "source": [
    "import numpy as np\n",
    "\n",
    "a = np.arange(10)   # array with values 0 to 9\n",
    "print(a)\n",
    "\n",
    "# Slicing: extract parts of the array\n",
    "print(a[2:7])       # elements 2 through 6\n",
    "print(a[:5])        # first 5 elements\n",
    "print(a[::2])       # every other element"
   ]
  },
  {
   "cell_type": "code",
   "execution_count": null,
   "id": "55",
   "metadata": {},
   "outputs": [],
   "source": [
    "a = np.random.normal(size=(5,4))  # 5x4 random array\n",
    "print(a)\n",
    "\n",
    "# Slicing: selecting rows\n",
    "print(a[1:3])       # rows 1 through 3\n",
    "print(a[:2])        # first 2 rows\n",
    "print(a[::2])       # every other row\n",
    "\n",
    "# Slicing: selecting columns\n",
    "print(a[:,1:3])       # columns 1 through 3\n",
    "print(a[:,:2])        # first 2 columns\n",
    "print(a[:,::2])       # every other columns"
   ]
  },
  {
   "cell_type": "code",
   "execution_count": null,
   "id": "56",
   "metadata": {},
   "outputs": [],
   "source": [
    "# HANDSON: In python, negative indices are valid.\n",
    "#          Try to use negative indices to access and slice\n",
    "#          numpy arrays.\n",
    "#          Does the result match your expectation?\n"
   ]
  },
  {
   "cell_type": "markdown",
   "id": "57",
   "metadata": {},
   "source": [
    "### Broadcasting\n",
    "\n",
    "Broadcasting allows NumPy to apply operations on arrays of different\n",
    "shapes without writing explicit loops."
   ]
  },
  {
   "cell_type": "code",
   "execution_count": null,
   "id": "58",
   "metadata": {},
   "outputs": [],
   "source": [
    "# EXAMPLE: adding vector and scalar\n",
    "\n",
    "X = np.array([1, 2, 3])\n",
    "Y = np.array([10])\n",
    "\n",
    "print(X + Y)   # Y is automatically \"broadcast\" to match X"
   ]
  },
  {
   "cell_type": "code",
   "execution_count": null,
   "id": "59",
   "metadata": {},
   "outputs": [],
   "source": [
    "# EXAMPLE: adding column and row vectors, i.e., \"outer sum\"\n",
    "\n",
    "X = np.arange(3).reshape(3,1)  # column vector\n",
    "Y = np.arange(3)               # row vector\n",
    "\n",
    "print(\"X =\\n\", X)\n",
    "print(\"Y =\",   Y)\n",
    "print(\"X + Y =\\n\", X + Y)      # produces a 3x3 matrix"
   ]
  },
  {
   "cell_type": "code",
   "execution_count": null,
   "id": "60",
   "metadata": {},
   "outputs": [],
   "source": [
    "# EXAMPLE: use `np.newaxis` for \"outer sum\"\n",
    "\n",
    "X = np.arange(3)  # row vector\n",
    "Y = np.arange(3)  # row vector\n",
    "\n",
    "print(\"X =\\n\", X)\n",
    "print(\"Y =\",   Y)\n",
    "print(\"X + Y =\\n\", X[:,np.newaxis] + Y)  # produces a 3x3 matrix"
   ]
  },
  {
   "cell_type": "code",
   "execution_count": null,
   "id": "61",
   "metadata": {},
   "outputs": [],
   "source": [
    "# EXAMPLE: scaling columns of a matrix\n",
    "\n",
    "M = np.arange(12).reshape(3, 4)\n",
    "V = np.array([1, 10, 100, 1000])   # 1D array with 4 elements\n",
    "\n",
    "print(\"M =\\n\", M)\n",
    "print(\"M * V =\\n\", M * V)  # V is broadcast across rows"
   ]
  },
  {
   "cell_type": "code",
   "execution_count": null,
   "id": "62",
   "metadata": {},
   "outputs": [],
   "source": [
    "# EXAMPLE: pairwise distances (without loops)\n",
    "\n",
    "P = np.array([[0, 0], [1, 0], [0, 1]])\n",
    "\n",
    "# Broadcasting to compute squared distances\n",
    "D = P[:, np.newaxis, :] - P[np.newaxis, :, :]\n",
    "DD = np.sum(D**2, axis=-1)\n",
    "\n",
    "print(DD)"
   ]
  },
  {
   "cell_type": "code",
   "execution_count": null,
   "id": "63",
   "metadata": {},
   "outputs": [],
   "source": [
    "# EXAMPLE: normalizing vectors\n",
    "\n",
    "V = np.array([[3, 4], [1, 1], [0, 5]])\n",
    "\n",
    "L = np.sqrt(np.sum(V**2, axis=1))   # shape (3,)\n",
    "N = V / L[:, np.newaxis]       # broadcast to (3,2)\n",
    "\n",
    "print(N)"
   ]
  },
  {
   "cell_type": "code",
   "execution_count": null,
   "id": "64",
   "metadata": {},
   "outputs": [],
   "source": [
    "# HANDSON: try to use both reshape() and newaxis to\n",
    "#          implement outer product of two vectors.\n"
   ]
  },
  {
   "cell_type": "markdown",
   "id": "65",
   "metadata": {},
   "source": [
    "### Einstein Summation (`einsum`)\n",
    "\n",
    "The `einsum()` function gives a compact way to express many linear algebra\n",
    "operations using Einstein summation notation."
   ]
  },
  {
   "cell_type": "code",
   "execution_count": null,
   "id": "66",
   "metadata": {},
   "outputs": [],
   "source": [
    "# Dot product of two vectors\n",
    "X = np.array([1, 2, 3])\n",
    "Y = np.array([4, 5, 6])\n",
    "print(np.einsum('i,i->', X, Y))\n",
    "\n",
    "# Matrix multiplication\n",
    "A = np.arange(9).reshape(3, 3)\n",
    "B = np.arange(9, 18).reshape(3, 3)\n",
    "print(np.einsum('ik,kj->ij', A, B))\n",
    "\n",
    "# Summing over axes\n",
    "print(np.einsum('ij->i', A))  # row sums\n",
    "print(np.einsum('ij->j', A))  # column sums"
   ]
  },
  {
   "cell_type": "code",
   "execution_count": null,
   "id": "67",
   "metadata": {},
   "outputs": [],
   "source": [
    "# HANDSON: try to use einsum() to\n",
    "#          implement outer product of two vectors.\n"
   ]
  },
  {
   "cell_type": "markdown",
   "id": "68",
   "metadata": {},
   "source": [
    "### Meshgrid and Vector Fields\n",
    "\n",
    "We can use `np.meshgrid()` to build 2D grids.\n",
    "It is useful for plotting vector fields."
   ]
  },
  {
   "cell_type": "code",
   "execution_count": null,
   "id": "69",
   "metadata": {},
   "outputs": [],
   "source": [
    "import matplotlib.pyplot as plt\n",
    "\n",
    "x = np.linspace(-2, 2, 20)\n",
    "y = np.linspace(-2, 2, 20)\n",
    "X, Y = np.meshgrid(x, y)\n",
    "\n",
    "U = -Y   # vector field component in x\n",
    "V =  X   # vector field component in y\n",
    "\n",
    "plt.figure(figsize=(5,5))\n",
    "plt.quiver(X, Y, U, V)\n",
    "plt.xlabel(\"x\")\n",
    "plt.ylabel(\"y\")\n",
    "plt.title(\"Vector Field: Rotation Around Origin\")\n",
    "plt.axis(\"equal\")\n",
    "plt.show()  # optional"
   ]
  },
  {
   "cell_type": "code",
   "execution_count": null,
   "id": "70",
   "metadata": {},
   "outputs": [],
   "source": [
    "# HANDSON: try to use einsum() to compute the norm of the vector field\n",
    "#          and over (under?) plot it as a \"heatmap\" with the vector field.\n",
    "#          What is the advantage (or disadvantage) to use einsum() compared\n",
    "#          to simple numpy operations?\n"
   ]
  },
  {
   "cell_type": "markdown",
   "id": "71",
   "metadata": {},
   "source": [
    "## Summary\n",
    "\n",
    "In this lab, you learned:\n",
    "\n",
    "* The basic of Jupyter Notebook\n",
    "* The basic of Python:\n",
    "  * How to print output\n",
    "  * Variables and data types\n",
    "  * Basic arithmetic operations\n",
    "  * Working with lists\n",
    "  * Using loops\n",
    "  * Writing functions\n",
    "  * Introduction to NumPy for numerical computations\n",
    "  * Introduction to Matplotlib for data visualization\n",
    "* Slightly more advanced Python:\n",
    "  * Array Creation and Slicing\n",
    "  * Broadcasting\n",
    "  * Einstein Summation\n",
    "  * Meshgrid"
   ]
  }
 ],
 "metadata": {
  "kernelspec": {
   "display_name": "Python 3 (ipykernel)",
   "language": "python",
   "name": "python3"
  },
  "language_info": {
   "codemirror_mode": {
    "name": "ipython",
    "version": 3
   },
   "file_extension": ".py",
   "mimetype": "text/x-python",
   "name": "python",
   "nbconvert_exporter": "python",
   "pygments_lexer": "ipython3",
   "version": "3.13.7"
  }
 },
 "nbformat": 4,
 "nbformat_minor": 5
}
