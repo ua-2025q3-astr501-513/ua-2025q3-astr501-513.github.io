{
 "cells": [
  {
   "cell_type": "markdown",
   "id": "0",
   "metadata": {},
   "source": [
    "# Unix/Linux, Shell, and Git"
   ]
  },
  {
   "cell_type": "markdown",
   "id": "1",
   "metadata": {},
   "source": [
    "![tar](fig/tar.png)"
   ]
  },
  {
   "cell_type": "markdown",
   "id": "2",
   "metadata": {},
   "source": [
    "## Introduction to Operating Systems\n",
    "\n",
    "An operating system (OS) is the software layer that connects the\n",
    "computer hardware to users and applications (and AI agents now).\n",
    "Instead of writing instructions that directly manipulate processors,\n",
    "memory chips, or disk drives, we interact with the OS, which manages\n",
    "these resources for us."
   ]
  },
  {
   "cell_type": "markdown",
   "id": "3",
   "metadata": {},
   "source": [
    "### The Structure of an Operating System\n",
    "\n",
    "An OS typically consists of three main parts:\n",
    "\n",
    "* Kernel:\n",
    "  the core component.\n",
    "  It directly manages hardware (CPU, memory, devices) and enforces\n",
    "  rules for resource sharing.\n",
    "* System Programs and Applications:\n",
    "  provide services built on top of the kernel, such as file utilities,\n",
    "  compilers, or networking tools.\n",
    "* Shell and User Interface:\n",
    "  the layer through which users interact with the OS.\n",
    "  This can be:\n",
    "  * Command-line shells (e.g., bash, zsh), where users type commands, or\n",
    "  * Graphical interfaces (e.g., desktops, windows, icons).\n",
    "\n",
    "In this lab, we will focus on the shell, because computational\n",
    "astrophysicists often work on large remote systems (HPC clusters and\n",
    "Cloud) where the command line is the most efficient and sometimes the\n",
    "only available interface."
   ]
  },
  {
   "cell_type": "markdown",
   "id": "4",
   "metadata": {},
   "source": [
    "### Common Features of Operating Systems\n",
    "\n",
    "Despite differences, most operating systems share these\n",
    "responsibilities:\n",
    "* Process Management:\n",
    "  starting, stopping, and scheduling programs.\n",
    "* Memory Management:\n",
    "  allocating, tracking, and protecting system memory.\n",
    "* File Systems:\n",
    "  organizing data into files and directories.\n",
    "* Device Management:\n",
    "  controlling access to hardware like disks and network cards.\n",
    "* Security and Access Control:\n",
    "  permissions, authentication, and isolation.\n",
    "* User Interfaces:\n",
    "  shells or graphical environments for interaction."
   ]
  }
 ],
 "metadata": {
  "kernelspec": {
   "display_name": "Python 3 (ipykernel)",
   "language": "python",
   "name": "python3"
  },
  "language_info": {
   "codemirror_mode": {
    "name": "ipython",
    "version": 3
   },
   "file_extension": ".py",
   "mimetype": "text/x-python",
   "name": "python",
   "nbconvert_exporter": "python",
   "pygments_lexer": "ipython3",
   "version": "3.13.7"
  }
 },
 "nbformat": 4,
 "nbformat_minor": 5
}
