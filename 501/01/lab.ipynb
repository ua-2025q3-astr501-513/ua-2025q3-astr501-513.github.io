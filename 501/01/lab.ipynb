{
 "cells": [
  {
   "cell_type": "markdown",
   "id": "0",
   "metadata": {},
   "source": [
    "# Unix/Linux, Shell, and Git [![Open In Colab](https://colab.research.google.com/assets/colab-badge.svg)](https://colab.research.google.com/github/ua-2025q3-astr501-513/ua-2025q3-astr501-513.github.io/blob/main/501/01/lab.ipynb)"
   ]
  },
  {
   "cell_type": "markdown",
   "id": "1",
   "metadata": {},
   "source": [
    "![tar](fig/tar.png)"
   ]
  },
  {
   "cell_type": "markdown",
   "id": "2",
   "metadata": {},
   "source": [
    "```{note} TAP Computation and Data Intuitive Meeting\n",
    "\n",
    "Date: Every Thursday  \n",
    "Time: 2-3pm  \n",
    "Room: SO N305  \n",
    "Zoom: [one-click](https://arizona.zoom.us/j/88694275321?pwd=XiFa1kbUVl90MYtoAa47W6FCcuRowU.1), id: 886 9427 5321, password: tapcdi  \n",
    "Schedule: [Google Sheet](https://docs.google.com/spreadsheets/d/1VQkQGZYwSEJ_N6UIHJQ-Tjvn02k9rClImgCCYo4ucrg/edit?usp=sharing)\n",
    "\n",
    "Upcoming topic: \"Book keeping of your simulations (or large data sets)\"\n",
    "```"
   ]
  },
  {
   "cell_type": "markdown",
   "id": "3",
   "metadata": {},
   "source": [
    "```{note} HPC Workshop\n",
    "\n",
    "UA HPC provides HPC workshop during this Fall:\n",
    "\n",
    "| Date | Time | Session\n",
    "--- | --- | ---\n",
    "Friday Sep 12th | 10am-3pm | Introduction to HPC\n",
    "Friday Sep 19th | 10am-3pm | Software on HPC\n",
    "Friday Sep 26th | 10am-3pm | Machine Learning and GPUs\n",
    "\n",
    "Register with this\n",
    "[Google Form](https://docs.google.com/forms/d/e/1FAIpQLSfjRhn1xF7wcd6G_wyVKtdYqosxxPaM_2V-nfTJZa8BXEe5lA/viewform).\n",
    "```"
   ]
  },
  {
   "cell_type": "markdown",
   "id": "4",
   "metadata": {},
   "source": [
    "## Introduction to Operating Systems\n",
    "\n",
    "An operating system (OS) is the software layer that connects the\n",
    "computer hardware to users and applications (and AI agents now).\n",
    "Instead of writing instructions that directly manipulate processors,\n",
    "memory chips, or disk drives, we interact with the OS, which manages\n",
    "these resources for us."
   ]
  },
  {
   "cell_type": "markdown",
   "id": "5",
   "metadata": {},
   "source": [
    "### The Structure of an Operating System\n",
    "\n",
    "![Kernel, Shell, and Applications](fig/Unix.png)\n",
    "\n",
    "An OS typically consists of three main parts:\n",
    "\n",
    "* Kernel:\n",
    "  the core component.\n",
    "  It directly manages hardware (CPU, memory, devices) and enforces\n",
    "  rules for resource sharing.\n",
    "* System Programs and Applications:\n",
    "  provide services built on top of the kernel, such as file utilities,\n",
    "  compilers, or networking tools.\n",
    "* Shell and User Interface:\n",
    "  the layer through which users interact with the OS.\n",
    "  This can be:\n",
    "  * Command-line shells (e.g., `bash`, `zsh`), where users type commands, or\n",
    "  * Graphical interfaces (e.g., desktops, windows, icons).\n",
    "\n",
    "In this lab, we will focus on the shell, because computational\n",
    "astrophysicists often work on large remote systems (HPC clusters and\n",
    "Cloud) where the command line is the most efficient and sometimes the\n",
    "only available interface."
   ]
  },
  {
   "cell_type": "markdown",
   "id": "6",
   "metadata": {},
   "source": [
    "### Common Features of Operating Systems\n",
    "\n",
    "Despite differences, most operating systems share these\n",
    "responsibilities:\n",
    "* Process Management:\n",
    "  starting, stopping, and scheduling programs.\n",
    "* Memory Management:\n",
    "  allocating, tracking, and protecting system memory.\n",
    "* File Systems:\n",
    "  organizing data into files and directories.\n",
    "* Device Management:\n",
    "  controlling access to hardware like disks and network cards.\n",
    "* Security and Access Control:\n",
    "  permissions, authentication, and isolation.\n",
    "* User Interfaces:\n",
    "  shells or graphical environments for interaction."
   ]
  },
  {
   "cell_type": "markdown",
   "id": "7",
   "metadata": {},
   "source": [
    "### Unix\n",
    "\n",
    "![Ken Thompson and Dennis Ritchie](fig/ken+dmr.png)\n",
    "\n",
    "Unix, developed at Bell Labs in the 1960s-70s by\n",
    "[Ken Thompson](https://en.wikipedia.org/wiki/Ken_Thompson) and\n",
    "[Dennis Ritchie](https://en.wikipedia.org/wiki/Dennis_Ritchie),\n",
    "set the standard for many OS design principles:\n",
    "* A multi-user, multi-tasking architecture.\n",
    "* A hierarchical file system.\n",
    "* \"Everything is a file\" (even devices).\n",
    "* Small, composable programs connected via pipes."
   ]
  },
  {
   "cell_type": "markdown",
   "id": "8",
   "metadata": {},
   "source": [
    "### Linux\n",
    "\n",
    "![Linus Torvalds](fig/Torvalds.png)\n",
    "\n",
    "Linux is a Unix-like operating system (technically only the\n",
    "[kernel](https://github.com/torvalds/linux)) created by\n",
    "[Linus Torvalds](https://en.wikipedia.org/wiki/Linus_Torvalds)\n",
    "in 1991.\n",
    "Unlike traditional Unix systems, it was built independently.\n",
    "Its open-source license\n",
    "([GPLv2](https://www.gnu.org/licenses/old-licenses/gpl-2.0.en.html))\n",
    "lets anyone to study, modify, and redistribute the code.\n",
    "\n",
    "Here is the original humble email that changed the world:\n",
    "```\n",
    "Hello everybody out there using minix -\n",
    "\n",
    "I'm doing a (free) operating system (just a hobby, won't be big and\n",
    "professional like gnu) for 386(486) AT clones.  This has been brewing\n",
    "since april, and is starting to get ready.  I'd like any feedback on\n",
    "things people like/dislike in minix, as my OS resembles it somewhat\n",
    "(same physical layout of the file-system (due to practical reasons)\n",
    "among other things).\n",
    "\n",
    "I've currently ported bash(1.08) and gcc(1.40), and things seem to work.\n",
    "This implies that I'll get something practical within a few months, and\n",
    "I'd like to know what features most people would want.  Any suggestions\n",
    "are welcome, but I won't promise I'll implement them :-)\n",
    "\n",
    "              Linus (torvalds@kruuna.helsinki.fi)\n",
    "\n",
    "PS.  Yes - it's free of any minix code, and it has a multi-threaded fs.\n",
    "It is NOT protable (uses 386 task switching etc), and it probably never\n",
    "will support anything other than AT-harddisks, as that's all I have :-(.\n",
    "```"
   ]
  },
  {
   "cell_type": "markdown",
   "id": "9",
   "metadata": {},
   "source": [
    "### Unix Philosophy\n",
    "\n",
    "![The Art of Unix Programming](fig/taoup.png)\n",
    "\n",
    "The power of Unix and Linux comes not just from its technical\n",
    "features, but from a\n",
    "[design philosophy](http://www.catb.org/~esr/writings/taoup/html/).\n",
    "Some of the guiding principles are:\n",
    "* Do one thing well.\n",
    "  Each program should have a single, focused purpose.\n",
    "  To solve a new problem, build a new tool rather than\n",
    "  overcomplicating an old one.\n",
    "* Build programs to work together.\n",
    "  The output of one program should serve as the input to another.\n",
    "  This encourages simple text-based interfaces and avoids unnecessary\n",
    "  formatting.\n",
    "* Prototype early and refine.\n",
    "  Software should be tested quickly, with the freedom to discard\n",
    "  clumsy parts and rebuild better versions.\n",
    "* Rely on tools, not manual effort.\n",
    "  Create reusable tools to simplify tasks, even if they are only\n",
    "  needed temporarily.\n",
    "\n",
    "Another core idea is that \"everything is a file\".\n",
    "As a result, devices, processes, and data can all be accessed through\n",
    "a unified file interface."
   ]
  },
  {
   "cell_type": "markdown",
   "id": "10",
   "metadata": {},
   "source": [
    "Because of these simple yet powerful design choices, Unix and Linux\n",
    "are extremely flexible and extensible.\n",
    "\n",
    "Unix evolved into a broad family of operating systems, including the\n",
    "[BSDs](https://en.wikipedia.org/wiki/Berkeley_Software_Distribution)\n",
    "(FreeBSD, OpenBSD, NetBSD), Solaris, and eventually\n",
    "[NeXTSTEP](https://en.wikipedia.org/wiki/NeXTSTEP),\n",
    "which became macOS (Mac OS X).\n",
    "Linux, meanwhile, has grown into an ecosystem with countless\n",
    "[distributions](https://en.wikipedia.org/wiki/List_of_Linux_distributions).\n",
    "\n",
    "Today, Linux has surpassed both traditional Unix and Windows in many\n",
    "domains and become the #1 OS for the internet and scientific\n",
    "computing:\n",
    "* Runs directly on bare-metal servers in data centers and on virtual\n",
    "  machines in the cloud.\n",
    "* Powers the [fastest supercomputers](https://top500.org/) in the\n",
    "  world.\n",
    "* Serves as the backbone of scientific computing, HPC, machine\n",
    "  learning, and AI.\n",
    "* Provides the kernel for Android smartphones, used by billions of\n",
    "  people worldwide.\n",
    "\n",
    "![Unix Family Tree](fig/Unix_history-simple.svg)"
   ]
  },
  {
   "cell_type": "markdown",
   "id": "11",
   "metadata": {},
   "source": [
    "## Shells\n",
    "\n",
    "The terms \"shell\" and \"terminal\" are often used interchangeably today,\n",
    "but they actually refer to different parts of the system:\n",
    "* Terminal (or terminal emulator): A text-based interface that lets\n",
    "  you interact with the operating system.\n",
    "  On modern computers this is usually a software application (e.g.,\n",
    "  Terminal on macOS, GNOME Terminal on Linux).\n",
    "* Shell: A program that runs inside the terminal.\n",
    "  It interprets the commands you type, sends them to the operating\n",
    "  system, and prints the results back.\n",
    "  Examples include `sh`, `bash`, and `zsh`."
   ]
  },
  {
   "cell_type": "code",
   "execution_count": null,
   "id": "12",
   "metadata": {},
   "outputs": [],
   "source": [
    "# HANDSON: find out what OS you are running.\n",
    "#\n",
    "# Method 1: on Mac or Linux, open a terminal, type `uname -a`.\n",
    "#\n",
    "# Method 2: on Windows, make sure that Windows Subsystem for Linux\n",
    "#           (WSL) is enabled, run the \"Linux GUI apps\", then type\n",
    "#           `uname -a`.\n",
    "#\n",
    "# Method 3: \"shell out\" a single line in Jupyter notebook by adding a\n",
    "#           \"!\" before your command in a Jupyter cell, i.e.,\n",
    "\n",
    "! uname -a"
   ]
  },
  {
   "cell_type": "code",
   "execution_count": null,
   "id": "13",
   "metadata": {},
   "outputs": [],
   "source": [
    "# Method 4: \"shell out\" a whole cell in Jupyter notebook by adding\n",
    "#           `%%bash` at the beginning of a Jupyter cell, i.e.,"
   ]
  },
  {
   "cell_type": "code",
   "execution_count": null,
   "id": "14",
   "metadata": {},
   "outputs": [],
   "source": [
    "%%bash\n",
    "\n",
    "uname -a"
   ]
  },
  {
   "cell_type": "markdown",
   "id": "15",
   "metadata": {},
   "source": [
    "### Basic Unix/Linux Commands\n",
    "\n",
    "Here are some commands every Unix/Linux user should know."
   ]
  },
  {
   "cell_type": "markdown",
   "id": "16",
   "metadata": {},
   "source": [
    "#### Navigation\n",
    "\n",
    "| Command | Usage | Example\n",
    "--- | --- | ---\n",
    "`whoami`/`id` | print effective userid (and group IDs)  | `id USER` print information for each specified USER\n",
    "`pwd`         | print name of current/working directory |\n",
    "`hostname`    | show or set the system's host name      |\n",
    "`ls`          | list directory contents                 | `ls -l` long format; `ls -a` show hidden files\n",
    "`cd`          | change the working directory            | `cd` to home; `cd /usr/bin` to `/usr/bin`"
   ]
  },
  {
   "cell_type": "markdown",
   "id": "17",
   "metadata": {},
   "source": [
    "#### Basic File Management\n",
    "\n",
    "| Command | Usage | Example\n",
    "--- | --- | ---\n",
    "`touch` | (create an empty file and) change file timestamps | `touch FILE`\n",
    "`mkdir` | make directories                                  | `mkdir DIR`\n",
    "`mv`    | move (rename) files                               | `mv FILE  FILE1`; `mv    DIR  DIR1`\n",
    "`cp`    | copy files and directories                        | `cp FILE1 FILE2`; `cp -r DIR1 DIR2`\n",
    "`rm`    | remove files or directories                       | `rm FILE1 FILE2`; `rm -r DIR1 DIR2`"
   ]
  },
  {
   "cell_type": "markdown",
   "id": "18",
   "metadata": {},
   "source": [
    "#### Viewing Files\n",
    "\n",
    "| Command | Usage | Example\n",
    "--- | --- | ---\n",
    "`cat`         | concatenate files and print on the standard output | `cat  FILE`\n",
    "`head`/`tail` | output the first/last part of files                | `head FILE`; `tail FILE`\n",
    "`more`/`less` | display the contents of a file in a terminal       | `more FILE`; `less FILE`"
   ]
  },
  {
   "cell_type": "markdown",
   "id": "19",
   "metadata": {},
   "source": [
    "#### Wildcards, Globbing, and Brace Expansion\n",
    "\n",
    "The shell can automatically expand patterns into lists of files or\n",
    "strings, saving you from typing them out manually.\n",
    "\n",
    "| Command | Usage | Example\n",
    "--- | --- | ---\n",
    "`*`   | pattern matching zero or more characters in filenames | `FILE.* -> FILE.txt FILE.out FILE.err`\n",
    "`?`   | pattern matching exactly one character in filenames   | `FILE.??t -> FILE.txt FILE.out`\n",
    "`[ ]` | matches any single character within the set or range  | `FILE.[oe]* -> FILE.out FILE.err`\n",
    "`{ }` | expand a sequence or set of strings                   | `OUT{0..9}.txt -> OUT0.txt OUT1.txt ... OUT9.txt`"
   ]
  },
  {
   "cell_type": "markdown",
   "id": "20",
   "metadata": {},
   "source": [
    "Many of these commands deal with the file system, which makes the\n",
    "point that in Unix/Linux, \"everything is a file\".\n",
    "Hence, regular files, directories, devices, and even some processes\n",
    "are all accessed using the same interface."
   ]
  },
  {
   "cell_type": "code",
   "execution_count": null,
   "id": "21",
   "metadata": {},
   "outputs": [],
   "source": [
    "%%bash\n",
    "\n",
    "# HANDSON: try out some of the above commands\n",
    "#\n",
    "# Specifically, try out both `touch` and `ls -l` to verify that\n",
    "# `touch` does update timestamp of a file.\n"
   ]
  },
  {
   "cell_type": "code",
   "execution_count": null,
   "id": "22",
   "metadata": {},
   "outputs": [],
   "source": [
    "%%bash\n",
    "\n",
    "# HANDSON: on Linux, what \"files\" are available inside `/proc`?\n",
    "# What do you get if you `cat` these files?\n"
   ]
  },
  {
   "cell_type": "code",
   "execution_count": null,
   "id": "23",
   "metadata": {},
   "outputs": [],
   "source": [
    "%%bash\n",
    "\n",
    "# HANDSON: on Linux, what \"files\" are available inside `/dev`?\n",
    "# What are these files used for?\n",
    "#\n",
    "# E.g., try `ls > /dev/null`\n"
   ]
  },
  {
   "cell_type": "markdown",
   "id": "24",
   "metadata": {},
   "source": [
    "### Combining Programs\n",
    "\n",
    "Unix programs are designed to work together.\n",
    "The shell provides simple mechanisms to connect these small tools into\n",
    "powerful workflows."
   ]
  },
  {
   "cell_type": "markdown",
   "id": "25",
   "metadata": {},
   "source": [
    "#### Redirection and Piping Operators\n",
    "\n",
    "| Command | Usage | Example\n",
    "--- | --- | ---\n",
    "`\\|` or `\\|&`             | pipeline: standing `stdout` of a command to the `stdin` of another command | `ls \\| sort -r`\n",
    "`>` or `>>`               | redirecting output to file; `>` overwrites the file, `>>` append           | `ls > LIST`; `ls >> LIST`\n",
    "`<`                       | redirecting input                                                          | `cat < file`; more useful when combined with loops, etc\n",
    "``` `cmd` ``` or `$(cmd)` | command substitution                                                       | `ls -l $(cat LIST \\| sort \\| uniq \\| head)`"
   ]
  },
  {
   "cell_type": "markdown",
   "id": "26",
   "metadata": {},
   "source": [
    "#### Filters\n",
    "\n",
    "Some of the most useful programs to use with pipe are \"filters\".\n",
    "They take input from `stdin`, transform them according to some rules,\n",
    "and then output the results to `stdout`.\n",
    "Here are some filters that I use frequently.\n",
    "\n",
    "| Command | Usage | Example\n",
    "--- | --- | ---\n",
    "`grep` | print lines matching a pattern                    | `grep 'PATTERN' FILE`\n",
    "`sed`  | stream editor for filtering and transforming text | `sed 's/OLD/NEW/g' FILE`\n",
    "`awk`  | pattern scanning and processing language          | `awk '{print $1}'  FILE`\n",
    "`sort` | sort lines of text files                          |\n",
    "`uniq` | report or omit repeated lines                     |"
   ]
  },
  {
   "cell_type": "code",
   "execution_count": null,
   "id": "27",
   "metadata": {},
   "outputs": [],
   "source": [
    "%%bash\n",
    "\n",
    "# HANDSON: try out at least the following\n",
    "#\n",
    "# touch FILE{1..10}.{dat,txt} # create empty files\n",
    "# ls *.txt                    # List all files ending in .txt\n",
    "# ls FILE?.dat                # Matches FILE1.dat, FILE2.dat ... but not FILE10.dat\n",
    "# ls FILE[1-3].txt            # Matches FILE1.txt, FILE2.txt, FILE3.txt\n"
   ]
  },
  {
   "cell_type": "code",
   "execution_count": null,
   "id": "28",
   "metadata": {},
   "outputs": [],
   "source": [
    "%%bash\n",
    "\n",
    "# HANDSON: try out at least the following\n",
    "#\n",
    "# ls / > ~/list\n",
    "# cat ~/list\n",
    "# rm  ~/list\n",
    "# \n",
    "# cat /proc/cpuinfo | grep ^processor\n",
    "#\n",
    "# echo \"Today is $(date)\"\n"
   ]
  },
  {
   "cell_type": "markdown",
   "id": "29",
   "metadata": {},
   "source": [
    "### Shell Scripting\n",
    "\n",
    "Shells allow you to automate repetitive tasks by writing scripts.\n",
    "A shell script is simply a text file containing a series of commands.\n",
    "Here is an example of a simple Bash script:\n",
    "```\n",
    "#!/bin/bash\n",
    "echo \"Hello, World!\"\n",
    "```\n",
    "To run the script, save it to a file (e.g., `hello.sh`), make it\n",
    "executable (`chmod a+x hello.sh`), and then execute it (`./hello.sh`).\n",
    "\n",
    "For almost all Unix/Linux systems, `bash` are installed by default,\n",
    "and `sh` is just a symbolic link to `bash`.\n",
    "On Mac, because of license comptability, the default shell is `zsh`;\n",
    "and `sh` is a minimal \"POSIX-compliant command interpreter\"."
   ]
  },
  {
   "cell_type": "markdown",
   "id": "30",
   "metadata": {},
   "source": [
    "#### Variables and String Manipulation\n",
    "\n",
    "| Command | Usage | Example\n",
    "--- | --- | ---\n",
    "`X=...`               | assigning variables                                                      | `NAME=\"Alice\"; echo $NAME`\n",
    "`X=$(...)`            | command substitution inside variables                                    | `DATE=$(date); echo \"Today is $DATE\"`\n",
    "`$HOME`, `$PATH`, etc | environment variables: special variables used by the system and programs | `echo $HOME $PATH`\n",
    "`%` and `%%`          | shortest and longest suffix removal                                      | `FILE=astr501.txt; echo ${FILE%.txt}   # prints astr501  (remove suffix)`\n",
    "`#` and `##`          | shortest and longest prefix removal                                      | `FILE=astr501.txt; echo ${FILE#astr}   # prints 501.txt  (remove prefix)`"
   ]
  },
  {
   "cell_type": "markdown",
   "id": "31",
   "metadata": {},
   "source": [
    "#### Control structures\n",
    "\n",
    "The shell is not only an interface for running commands, but also a\n",
    "scripting language.\n",
    "The most common control structures are for conditions and loops.\n",
    "\n",
    "| Command | Usage | Example\n",
    "--- | --- | ---\n",
    "`if ...; then ...; elif ...; then ...; else ...; fi` | conditional statement | `x=15; if [ $x -lt 10 ]; then echo \"x is less than 10\"; else echo \"x is 10 or more\"; fi`\n",
    "`for ...; do ..; done`                               | for loop              | `for i in {1..5}; do echo \"Run $i\"; done`"
   ]
  },
  {
   "cell_type": "code",
   "execution_count": null,
   "id": "32",
   "metadata": {},
   "outputs": [],
   "source": [
    "%%bash\n",
    "\n",
    "# HANDSON: Using the commands we just learn, do the following:\n",
    "#\n",
    "# 1. Create files 1.txt, 2.txt, ..., 100.txt.\n",
    "#\n",
    "# 2. Rename them to 001.txt, 002.txt, ..., 100.txt.\n",
    "#    Hint: `printf '%03d' 1` uses C format string to print \"001\"\n",
    "#\n",
    "# 3. Rename them to SIM001.txt, SIM002.txt, ..., SIM100.txt.\n"
   ]
  },
  {
   "cell_type": "code",
   "execution_count": null,
   "id": "33",
   "metadata": {},
   "outputs": [],
   "source": [
    "%%bash\n",
    "\n",
    "# HANDS-ON: Compare Files in Two Directories with a Shell Script\n",
    "#\n",
    "# Let's write a shell script that compares the contents of two\n",
    "# directories.\n",
    "# Start simple, then improve your script step by step.\n",
    "#\n",
    "# Step 1: compare file names only\n",
    "#   * Ignore file contents and subdirectories.\n",
    "#   * Use `ls DIR1/` and `ls DIR2/` to get the list of files.\n",
    "#   * Output a list of files that exist only in one directory\n",
    "#     but not the other.\n",
    "#\n",
    "# Step 2: compare file contents\n",
    "#   * Improve your script so that files with the same name are\n",
    "#     considered different if their contents differ.\n",
    "#   Hint: the commands `md5sum` (Linux) or `md5` (macOS) can generate\n",
    "#     checksums to compare file contents.\n",
    "#\n",
    "# Step 3: include subdirectories\n",
    "#   * Extend your script to work on the entire directory tree, not\n",
    "#     just the top level.\n",
    "#   Hint: the `find` command can list files recursively.\n"
   ]
  },
  {
   "cell_type": "markdown",
   "id": "34",
   "metadata": {},
   "source": [
    "### Shortcuts for Interactive Terminal\n",
    "\n",
    "Here are some tips and tricks to enhance your terminal usage:\n",
    "* Use `Tab` for auto-completion of commands and filenames.\n",
    "* Use `Ctrl+R` to search through your command history.\n",
    "* Use `Ctrl+C` to cancel the current command.\n",
    "* Use `Ctrl+L` to clear the terminal screen.\n",
    "* Use `!!` to repeat the last command.\n",
    "* Use `!<command>` to repeat the last occurrence of a specific command.\n",
    "  Example: `!ls` repeats the last ls command."
   ]
  },
  {
   "cell_type": "markdown",
   "id": "35",
   "metadata": {},
   "source": [
    "### File Permissions and Ownership\n",
    "\n",
    "![sudo](fig/sandwich.png)\n",
    "\n",
    "Managing file permissions and ownership is crucial for system security\n",
    "and proper access control on Unix/Linux.\n",
    "Here are some commands related to file permissions and ownership:\n",
    "* `chmod`:\n",
    "  Change file permissions.\n",
    "  E.g., `chmod 755 FILE` sets the file permissions to read, write,\n",
    "  and execute for the owner, and read and execute for others.\n",
    "* `chown`:\n",
    "  Change file ownership.\n",
    "  E.g., `chown USER:GROUP FILE` changes the owner and group of the\n",
    "  file."
   ]
  },
  {
   "cell_type": "code",
   "execution_count": null,
   "id": "36",
   "metadata": {},
   "outputs": [],
   "source": [
    "%%bash\n",
    "\n",
    "# HANDSON: use `ls -l` to check permissions for some files on your\n",
    "# computer; modify the permission and find out what would happen.\n",
    "# Try out different syntax for modifying the permissions.\n"
   ]
  },
  {
   "cell_type": "markdown",
   "id": "37",
   "metadata": {},
   "source": [
    "### Viewing Running Processes\n",
    "\n",
    "You can view and manage running processes using the following\n",
    "commands:\n",
    "\n",
    "| Command | Usage | Example\n",
    "--- | --- | ---\n",
    "`ps`  | report a snapshot of the current processes | `ps aux` shows detailed information about all running processes\n",
    "`top` | display Linux processes                    |"
   ]
  },
  {
   "cell_type": "markdown",
   "id": "38",
   "metadata": {},
   "source": [
    "### Getting Help in Bash\n",
    "\n",
    "When working in the shell, you often want to learn more about a\n",
    "command or explore advanced features.\n",
    "Common ways to get help include:\n",
    "\n",
    "| Command | Usage | Example\n",
    "--- | --- | ---\n",
    "`man`                    | an interface to the on-line reference manuals | `man ls`\n",
    "`CMD --help` or `CMD -h` | built-in help messages                        | `tar -h`\n",
    "\n",
    "Further resources:\n",
    "* [Bash Official Documentation](https://www.gnu.org/software/bash/manual/)\n",
    "* [Bash Source Code](https://git.savannah.gnu.org/cgit/bash.git)\n",
    "* [Advanced Bash Scripting Guide](https://tldp.org/LDP/abs/html/)"
   ]
  },
  {
   "cell_type": "code",
   "execution_count": null,
   "id": "39",
   "metadata": {},
   "outputs": [],
   "source": [
    "%%bash\n",
    "\n",
    "# HANDSON: back to the first xkcd comic... so what is `tar` and what\n",
    "# is a valid tar command?\n"
   ]
  },
  {
   "cell_type": "markdown",
   "id": "40",
   "metadata": {},
   "source": [
    "### Text Editors\n",
    "\n",
    "![Editors](fig/real_programmers.png)\n",
    "\n",
    "To work effectively on Unix/Linux systems, you need a text editor to\n",
    "create and modify files such as code, configuration files, or\n",
    "scripts within a terminal.\n",
    "Three most common editors you will encounter are `nano`, `vim`, and\n",
    "`emacs`.\n",
    "* `nano`: Simple and Beginner-Friendly\n",
    "  * Command: `nano FILE`\n",
    "  * Easy to learn: commands are listed at the bottom of the screen.\n",
    "  * Use `Ctrl+O` to save, `Ctrl+X` to exit.\n",
    "  * Great for quick edits or when you are just starting out.\n",
    "* `vim`: powerful but Minimal\n",
    "  * Command: `vim FILE`\n",
    "  * Modal editor:\n",
    "    * Normal mode: default, used for navigation, editing commands.\n",
    "    * Insert mode: typing text, entered by pressing `i`.\n",
    "    * Visual Mode: allows for selecting blocks of text, lines, or rectangular blocks, enter by `v`, `V`, or `Ctrl-v`.\n",
    "    * Command mode: colon commands, e.g., `:w` to save, `:q` to quit.\n",
    "  * Famous learning curve ![Exit `vim`](fig/exit_vim.png)\n",
    "  * Almost always comes with Linux\n",
    "* `emacs`: Extensible and Feature-Rich\n",
    "  * Command: `emacs -nw FILE`\n",
    "  * Full-featured editor that is also an environment.\n",
    "  * Key commands: `Ctrl+X Ctrl+S` to save, `Ctrl+X Ctrl+C` to quit.\n",
    "  * Highly customizable with its own programming language (Emacs Lisp)."
   ]
  },
  {
   "cell_type": "markdown",
   "id": "41",
   "metadata": {},
   "source": [
    "Which one should you use?\n",
    "* Start with `nano` if you are brand new.\n",
    "* Learn enough `vim` basics to be productive, since it is installed\n",
    "  almost everywhere (including supercomputers).\n",
    "* Explore `emacs` if you like a fully integrated, extensible\n",
    "  environment."
   ]
  },
  {
   "cell_type": "markdown",
   "id": "42",
   "metadata": {},
   "source": [
    "### Remote Login and `ssh`\n",
    "\n",
    "You may wonder why we spend so much time on the command line when\n",
    "laptops and desktops offer shiny graphical interfaces.\n",
    "\n",
    "The reason is that a large fraction of the world's computing power,\n",
    "especially in scientific computing, supercomputing, and cloud\n",
    "services, is still accessed primarily through the command line.\n",
    "\n",
    "Many of these machines don't even have a screen or keyboard connected\n",
    "to them!\n",
    "Instead, they are designed to be managed and used remotely.\n",
    "To interact with them, you must log in to the computer from another\n",
    "machine, usually over the network using command-line tools.\n",
    "\n",
    "This is the standard way scientists, engineers, and developers work\n",
    "with shared computing resources such as high-performance computing\n",
    "(HPC) clusters, university research servers, and cloud-based systems.\n",
    "\n",
    "| Command | Usage | Example\n",
    "--- | --- | ---\n",
    "`ssh`         | ssh remote login client                                            | `ssh USER@REMOTE`\n",
    "`scp`         | secure file copy                                                   | `scp -r SRC USER@REMOTE:DST`\n",
    "`ssh-keygen`  | authentication key utility                                         | \n",
    "`ssh-copy-id` | use locally available keys to authorise logins on a remote machine | `ssh-copy-id USER@REMOTE`"
   ]
  },
  {
   "cell_type": "code",
   "execution_count": null,
   "id": "43",
   "metadata": {},
   "outputs": [],
   "source": [
    "%%bash\n",
    "\n",
    "# HANDSON: Logging in to UA HPC\n",
    "#\n",
    "# At the University of Arizona, research computing is supported by HPC\n",
    "# clusters such as `Puma`, `Ocelote`, and `ElGato`.\n",
    "# To use these systems, you log in remotely from your laptop or desktop\n",
    "# using `ssh` (Secure Shell).\n",
    "# You can find useful documentations\n",
    "# [here](https://hpcdocs.hpc.arizona.edu/).\n",
    "#\n",
    "# Step 1: Open a Terminal\n",
    "# * On macOS/Linux:\n",
    "#   open the Terminal app.\n",
    "# * On Windows:\n",
    "#   If you have Windows Subsystem for Linux (WSL) enabled, open a WSL\n",
    "#   terminal.\n",
    "#   Or use Windows Terminal / PowerShell (which supports `ssh`\n",
    "#   directly).\n",
    "#\n",
    "# Step 2: Use SSH to Connect\n",
    "# The basic command is: `ssh <netid>@hpc.arizona.edu`.\n",
    "# Replace <netid> with your UA NetID.\n",
    "#\n",
    "# Step 3: Authenticate\n",
    "# The first time you connect, you may be asked to confirm the system's\n",
    "# fingerprint.\n",
    "# Type `yes`.\n",
    "# Enter your UA NetID password when prompted.\n",
    "# If you have NetID+ (two-factor authentication), follow the\n",
    "# instructions (Duo push, passcode, etc.).\n",
    "#\n",
    "# Step 4: Explore!\n",
    "# Once logged in, you will see a shell prompt on the HPC system.\n",
    "# Try a few basic commands:\n",
    "# ```\n",
    "# hostname       # Show which machine you are on\n",
    "# pwd            # Print working directory\n",
    "# ls             # List files\n",
    "# ```\n"
   ]
  },
  {
   "cell_type": "markdown",
   "id": "44",
   "metadata": {},
   "source": [
    "## Version Control and Git\n",
    "\n",
    "As projects grow, keeping track of changes becomes difficult:\n",
    "* Which version of the code worked last week?\n",
    "* What exactly changed between two drafts of a paper?\n",
    "* How do we collaborate without overwriting each other's work?"
   ]
  },
  {
   "cell_type": "markdown",
   "id": "45",
   "metadata": {},
   "source": [
    "Version control systems (VCS) solve these problems by recording\n",
    "changes to files over time.\n",
    "They allow you to:\n",
    "* Roll back to previous versions.\n",
    "* Compare changes between versions.\n",
    "* Work in parallel with others without losing work."
   ]
  },
  {
   "cell_type": "markdown",
   "id": "46",
   "metadata": {},
   "source": [
    "[Git](https://git-scm.com/) is the most widely used version control\n",
    "system today.\n",
    "It was created also by Linus Torvalds and has become the backbone of\n",
    "modern software and research collaboration.\n",
    "\n",
    "We will use these\n",
    "[slides](https://docs.google.com/presentation/d/1r-vGoxMzzggAQ9c76I60wxRHHXBa-oy579AsQX637jU/edit?usp=sharing)\n",
    "to learn the basic of Git."
   ]
  },
  {
   "cell_type": "code",
   "execution_count": null,
   "id": "47",
   "metadata": {},
   "outputs": [],
   "source": [
    "%%bash\n",
    "\n",
    "# HANDSON:\n",
    "#\n",
    "# 1. Clone the class repository\n",
    "#    https://github.com/ua-2025q3-astr501-513/ua-2025q3-astr501-513.github.io\n",
    "#    to your laptop.\n",
    "#\n",
    "# 2. Accept 513 HW1, merge/sync upstream updates; clone the repository\n",
    "#    to your laptop.\n"
   ]
  }
 ],
 "metadata": {
  "kernelspec": {
   "display_name": "Python 3 (ipykernel)",
   "language": "python",
   "name": "python3"
  },
  "language_info": {
   "codemirror_mode": {
    "name": "ipython",
    "version": 3
   },
   "file_extension": ".py",
   "mimetype": "text/x-python",
   "name": "python",
   "nbconvert_exporter": "python",
   "pygments_lexer": "ipython3",
   "version": "3.13.7"
  }
 },
 "nbformat": 4,
 "nbformat_minor": 5
}
