{
 "cells": [
  {
   "cell_type": "markdown",
   "id": "0",
   "metadata": {},
   "source": [
    "# Make, Workflow, and GitHub Action"
   ]
  },
  {
   "cell_type": "markdown",
   "id": "1",
   "metadata": {},
   "source": [
    "## Introduction\n",
    "\n",
    "Modern computational astrophysics is no longer just about interacting\n",
    "with the terminal or writing one-off scripts that generate plots or\n",
    "results.\n",
    "Research projects involve complex pipelines:\n",
    "*i*) generating synthetic data,\n",
    "*ii*) calibrating instruments,\n",
    "*iii*) analyzing observations,\n",
    "*iv*) running simulations, and\n",
    "*v*) producing figures and papers.\n",
    "Each step depends on the outputs of earlier steps.\n",
    "And the whole chain may need to be repeated when code changes, new\n",
    "data arrive, or collaborators join the project.\n",
    "Without systematic management, such workflows quickly become fragile,\n",
    "error-prone, and difficult to reproduce."
   ]
  },
  {
   "cell_type": "markdown",
   "id": "2",
   "metadata": {},
   "source": [
    "Workflow management and automation tools address these challenges.\n",
    "They allow us to:\n",
    "* Capture dependencies:\n",
    "  make sure each step runs only when its inputs are ready.\n",
    "* Avoid redundant work:\n",
    "  rebuild only the outputs affected by changes.\n",
    "* Scale up easily:\n",
    "  run dozens or thousands of jobs in parallel on HPC or the cloud.\n",
    "* Enable reproducibility:\n",
    "  capture all the steps needed to regenerate results."
   ]
  },
  {
   "cell_type": "markdown",
   "id": "3",
   "metadata": {},
   "source": [
    "In practice, we often combine several layers of automation:\n",
    "\n",
    "* `make`:\n",
    "  lightweight automation for compiling code, running tests, build\n",
    "  documentations, and chaining a few steps together.\n",
    "  `Make` has been around for decades and remains a powerful tool for\n",
    "  small pipelines.\n",
    "* Workflow engines (such as `Snakemake`):\n",
    "  generalizations of `make` that make it easy to run large-scale\n",
    "  scientific workflows in parallel, track provenance, and use portable\n",
    "  environments.\n",
    "* Continuous Integration / Continuous Deployment (CI/CD):\n",
    "  services such as *GitHub Actions* that automatically run tests,\n",
    "  build documentation, and execute reproducible mini-workflows every\n",
    "  time code is shared or updated.\n",
    "  This ensures that the project stays healthy, reproducible, and\n",
    "  transparent."
   ]
  },
  {
   "cell_type": "markdown",
   "id": "4",
   "metadata": {},
   "source": [
    "## What You Will Learn\n",
    "\n",
    "In this lab, we will build a **minimal CCD image calibration package**\n",
    "and then apply workflow automation to it at multiple levels:\n",
    "1. Package & Testing:\n",
    "   Write simple calibration functions in a Python package and test\n",
    "   them with `pytest`.\n",
    "2. `make`:\n",
    "   Automate local development tasks such as testing, linting, and\n",
    "   running a small pipeline.\n",
    "3. `Snakemake`:\n",
    "   Scale up the calibration pipeline to handle many images in parallel.\n",
    "4. CI/CD with GitHub Actions:\n",
    "   Automate testing and documentation generation whenever code is\n",
    "   pushed to GitHub.\n",
    "\n",
    "By the end of this lab, you will see how automation tools turn\n",
    "individual scripts into a reproducible scientific workflow that is\n",
    "easier to run, easier to share, and easier to trust."
   ]
  }
 ],
 "metadata": {
  "kernelspec": {
   "display_name": "Python 3 (ipykernel)",
   "language": "python",
   "name": "python3"
  },
  "language_info": {
   "codemirror_mode": {
    "name": "ipython",
    "version": 3
   },
   "file_extension": ".py",
   "mimetype": "text/x-python",
   "name": "python",
   "nbconvert_exporter": "python",
   "pygments_lexer": "ipython3",
   "version": "3.13.7"
  }
 },
 "nbformat": 4,
 "nbformat_minor": 5
}
