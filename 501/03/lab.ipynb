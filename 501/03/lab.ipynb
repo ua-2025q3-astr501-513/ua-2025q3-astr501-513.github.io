{
 "cells": [
  {
   "cell_type": "markdown",
   "id": "0",
   "metadata": {},
   "source": [
    "# Make, Workflow, and GitHub Action"
   ]
  },
  {
   "cell_type": "markdown",
   "id": "1",
   "metadata": {},
   "source": [
    "## Introduction\n",
    "\n",
    "Modern computational astrophysics is no longer just about interacting\n",
    "with the terminal or writing one-off scripts that generate plots or\n",
    "results.\n",
    "Research projects involve complex pipelines:\n",
    "*i*) generating synthetic data,\n",
    "*ii*) calibrating instruments,\n",
    "*iii*) analyzing observations,\n",
    "*iv*) running simulations, and\n",
    "*v*) producing figures and papers.\n",
    "Each step depends on the outputs of earlier steps.\n",
    "And the whole chain may need to be repeated when code changes, new\n",
    "data arrive, or collaborators join the project.\n",
    "Without systematic management, such workflows quickly become fragile,\n",
    "error-prone, and difficult to reproduce."
   ]
  },
  {
   "cell_type": "markdown",
   "id": "2",
   "metadata": {},
   "source": [
    "Workflow management and automation tools address these challenges.\n",
    "They allow us to:\n",
    "* Capture dependencies:\n",
    "  make sure each step runs only when its inputs are ready.\n",
    "* Avoid redundant work:\n",
    "  rebuild only the outputs affected by changes.\n",
    "* Scale up easily:\n",
    "  run dozens or thousands of jobs in parallel on HPC or the cloud.\n",
    "* Enable reproducibility:\n",
    "  capture all the steps needed to regenerate results."
   ]
  },
  {
   "cell_type": "markdown",
   "id": "3",
   "metadata": {},
   "source": [
    "In practice, we often combine several layers of automation:\n",
    "\n",
    "* `make`:\n",
    "  lightweight automation for compiling code, running tests, build\n",
    "  documentations, and chaining a few steps together.\n",
    "  `Make` has been around for decades and remains a powerful tool for\n",
    "  small pipelines.\n",
    "* Workflow engines (such as `Snakemake`):\n",
    "  generalizations of `make` that make it easy to run large-scale\n",
    "  scientific workflows in parallel, track provenance, and use portable\n",
    "  environments.\n",
    "* Continuous Integration / Continuous Deployment (CI/CD):\n",
    "  services such as *GitHub Actions* that automatically run tests,\n",
    "  build documentation, and execute reproducible mini-workflows every\n",
    "  time code is shared or updated.\n",
    "  This ensures that the project stays healthy, reproducible, and\n",
    "  transparent."
   ]
  },
  {
   "cell_type": "markdown",
   "id": "4",
   "metadata": {},
   "source": [
    "## What You Will Learn\n",
    "\n",
    "In this lab, we will build a **minimal CCD image calibration package**\n",
    "and then apply workflow automation to it at multiple levels:\n",
    "1. Package & Testing:\n",
    "   Write simple calibration functions in a Python package and test\n",
    "   them with `pytest`.\n",
    "2. `make`:\n",
    "   Automate local development tasks such as testing, linting, and\n",
    "   running a small pipeline.\n",
    "3. `Snakemake`:\n",
    "   Scale up the calibration pipeline to handle many images in parallel.\n",
    "4. CI/CD with GitHub Actions:\n",
    "   Automate testing and documentation generation whenever code is\n",
    "   pushed to GitHub.\n",
    "\n",
    "By the end of this lab, you will see how automation tools turn\n",
    "individual scripts into a reproducible scientific workflow that is\n",
    "easier to run, easier to share, and easier to trust."
   ]
  },
  {
   "cell_type": "markdown",
   "id": "5",
   "metadata": {},
   "source": [
    "## Part 1: Set up a Python Package with Tests\n",
    "\n",
    "In real research, we rarely write a single script that does\n",
    "everything.\n",
    "Instead, we build up small, reusable functions, things like \"combine\n",
    "all bias frames\" or \"subtract dark current\".\n",
    "Over time, these functions naturally belong in a package: a collection\n",
    "of modules that can be imported, tested, and reused across multiple\n",
    "projects."
   ]
  },
  {
   "cell_type": "markdown",
   "id": "6",
   "metadata": {},
   "source": [
    "For this lab, let's create a toy package called `ccdmini`.\n",
    "Its job is to provide the most basic CCD calibration primitives:\n",
    "* `median_stack`:\n",
    "  combine multiple images (e.g., biases, darks, flats) into a single\n",
    "  master calibration frame by taking the median pixel-by-pixel.\n",
    "* `make_master_bias`, `make_master_dark`, `make_master_flat`:\n",
    "  convenience functions that wrap around `median_stack` and perform\n",
    "  normalizations where needed.\n",
    "* `apply_calibration`: apply the standard CCD calibration formula:\n",
    "  \\begin{align}\n",
    "    \\text{Calibrated Image} =\n",
    "    \\frac{(\\text{Raw Image} - \\text{Master Bias} - \\text{Master Dark})}{\\text{Master Flat}}\n",
    "  \\end{align}\n",
    "\n",
    "This is the exact same operation astronomers run on real raw CCD frames.\n",
    "In our case, we will use tiny synthetic arrays to keep things simple\n",
    "and fast."
   ]
  },
  {
   "cell_type": "markdown",
   "id": "7",
   "metadata": {},
   "source": [
    "### Why packaging?\n",
    "\n",
    "Even though this is just a mock example, packaging matters because:\n",
    "\n",
    "* Reusability:\n",
    "  you can use the same functions in multiple projects or scripts.\n",
    "* Testability:\n",
    "  you can isolate and test each function with `pytest`.\n",
    "* Shareability:\n",
    "  once it's a package, you could publish it to PyPI, or share it\n",
    "  within a collaboration with version control."
   ]
  }
 ],
 "metadata": {
  "kernelspec": {
   "display_name": "Python 3 (ipykernel)",
   "language": "python",
   "name": "python3"
  },
  "language_info": {
   "codemirror_mode": {
    "name": "ipython",
    "version": 3
   },
   "file_extension": ".py",
   "mimetype": "text/x-python",
   "name": "python",
   "nbconvert_exporter": "python",
   "pygments_lexer": "ipython3",
   "version": "3.13.7"
  }
 },
 "nbformat": 4,
 "nbformat_minor": 5
}
