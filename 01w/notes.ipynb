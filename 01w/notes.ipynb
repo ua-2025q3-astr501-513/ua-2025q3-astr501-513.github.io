{
 "cells": [
  {
   "cell_type": "markdown",
   "id": "0",
   "metadata": {},
   "source": [
    "# Data Representation and Round-Off Errors"
   ]
  },
  {
   "cell_type": "markdown",
   "id": "1",
   "metadata": {},
   "source": [
    ":::{note} Riddle\n",
    "You have 1000 bottles of wine for a birthday party.\n",
    "1 hours before the party, the winery indicates that 1 bottle is filled\n",
    "with poison, but they don't know which one.\n",
    "You have 10 lab mice to test this.\n",
    "The poison is so strong that it will kill any mouse that drinks it\n",
    "within 15 minutes.\n",
    "Is there a way to find the poisoned bottle using the 10 mice before\n",
    "the party?\n",
    ":::"
   ]
  },
  {
   "cell_type": "markdown",
   "id": "2",
   "metadata": {},
   "source": [
    "## Representing Numbers\n",
    "\n",
    "Efficient number representation, as illustrated in the riddle, enables\n",
    "us to solve seemingly impossible problems.\n",
    "The evolution of numeral systems reflects humanity's progress toward\n",
    "clarity and efficiency in expressing information.\n",
    "\n",
    "* [**Unary System**](https://en.wikipedia.org/wiki/Unary_numeral_system):\n",
    "  The simplest system, where each number is represented by identical\n",
    "  marks.\n",
    "  For example, 5 is written as\n",
    "  [\"|||||\"](https://en.wikipedia.org/wiki/Tally_marks).\n",
    "  While easy to understand and requiring no skill for addition, unary\n",
    "  becomes impractical for large values: representing 888 requires 888\n",
    "  marks.\n",
    "\n",
    "* [**Roman Numerals**](https://en.wikipedia.org/wiki/Roman_numerals):\n",
    "  An improvement over unary, Roman numerals use symbols such as I (1),\n",
    "  V (5), X (10), L (50), C (100), D (500), and M (1000) to group large\n",
    "  values.\n",
    "  However, representing numbers like 888 (DCCCLXXXVIII) still requires\n",
    "  12 symbols, which is somewhat cumbersome.\n",
    "\n",
    "* [**Arabic Numerals**](https://en.wikipedia.org/wiki/Arabic_numerals):\n",
    "  We may take it for granted and not appreciate it, but Arabic numeral\n",
    "  system is a revolutionary advancement.\n",
    "  It uses positional notation to represent numbers compactly and\n",
    "  efficiently.\n",
    "  For instance, 888 requires only three digits."
   ]
  },
  {
   "cell_type": "markdown",
   "id": "3",
   "metadata": {},
   "source": [
    "### Positional Notation Systems\n",
    "\n",
    "The Arabic numeral system is an example of a\n",
    "[**positional notation system**](https://en.wikipedia.org/wiki/Positional_notation),\n",
    "where the value of a digit is determined by both the digit itself and\n",
    "its position within the number.\n",
    "This contrasts with systems like unary numbers or Roman numerals,\n",
    "where the position of a symbol does not affect its value.\n",
    "In positional notation, each digit's place corresponds to a specific\n",
    "power of the system's base.\n",
    "\n",
    "In a positional system, representing a number involves the following\n",
    "steps:\n",
    "1. Decide on the base (or radix) $b$.\n",
    "2. Define the notation for the digits.\n",
    "3. Write the number as:\n",
    "   \\begin{align}\n",
    "   \\pm (\\dots d_3 d_2 d_1 d_0 . d_{-1} d_{-2} d_{-3} \\dots),\n",
    "   \\end{align}\n",
    "   which represents:\n",
    "   \\begin{align}\n",
    "   \\pm (\\dots + d_3 b^3 + d_2 b^2 + d_1 b^1 + d_0 b^0 + d_{-1} b^{-1} + d_{-2} b^{-2} + d_{-3} b^{-3} + \\dots).\n",
    "   \\end{align}\n",
    "\n",
    "To convert a number from base $b$ to decimal, we apply this definition\n",
    "directly.\n",
    "For example:\n",
    "\\begin{align}\n",
    "(256.4)_8 = 2\\times8^2 + 5\\times8^1 + 6\\times8^0 + 4\\times8^{-1} = (174.5)_{10}.\n",
    "\\end{align}\n",
    "\n",
    "The most popular bases used in computer are:"
   ]
  },
  {
   "cell_type": "markdown",
   "id": "4",
   "metadata": {},
   "source": [
    "### Binary Numbers\n",
    "\n",
    "* Base: $b = 2$\n",
    "* Digits: 0, 1"
   ]
  },
  {
   "cell_type": "markdown",
   "id": "5",
   "metadata": {},
   "source": [
    "```{figure} fig/measure.png\n",
    "Binary system was invented by merchants in medieval England.\n",
    "```\n",
    "\n",
    "The binary system has been used in various forms long before the age\n",
    "of computers.\n",
    "Invented by merchants in medieval England, the units of liquid measure\n",
    "were based on the binary system. For example:\n",
    "* 1 gallon = 2 pottles;\n",
    "* 1 pottle = 2 quarts;\n",
    "* 1 quart = 2 pints;\n",
    "* 1 pint = 2 cups; etc.\n",
    "\n",
    "Similarly, the binary system is used in music to define note\n",
    "durations, i.e., whole note, half note, quarter note, eighth note,\n",
    "sixteenth note, etc.\n",
    "These everyday examples show the fundamental nature of the binary\n",
    "system underpining modern computing."
   ]
  },
  {
   "cell_type": "markdown",
   "id": "6",
   "metadata": {},
   "source": [
    "```{figure} fig/binary-shirt.png\n",
    "There are `10` types of people in the world...\n",
    "```"
   ]
  },
  {
   "cell_type": "markdown",
   "id": "7",
   "metadata": {},
   "source": [
    "In the binary system, only two digits are used: 0 and 1.\n",
    "The position of each digit in a binary number corresponds to a power\n",
    "of 2, just as the position of a digit in the decimal system\n",
    "corresponds to a power of 10.\n",
    "For example, the binary number $1011_2$ represents:\n",
    "$1 \\times 2^3 + 0 \\times 2^2 + 1 \\times 2^1 + 1 \\times 2^0$.\n",
    "This gives the decimal value:\n",
    "$1 \\times 8 + 0 \\times 4 + 1 \\times 2 + 1 \\times 1 = 11$."
   ]
  },
  {
   "cell_type": "markdown",
   "id": "8",
   "metadata": {},
   "source": [
    "In Python, you can use the `bin()` function to convert an integer to\n",
    "its binary string representation, and the `int()` function to convert\n",
    "a binary string back to an integer.\n",
    "This is particularly useful when working with binary numbers in\n",
    "computations."
   ]
  },
  {
   "cell_type": "code",
   "execution_count": null,
   "id": "9",
   "metadata": {},
   "outputs": [],
   "source": [
    "# Convert an integer to a binary string\n",
    "number = 10\n",
    "binary = bin(number)\n",
    "\n",
    "print(f\"Binary representation of {number}: {binary}\")"
   ]
  },
  {
   "cell_type": "code",
   "execution_count": null,
   "id": "10",
   "metadata": {},
   "outputs": [],
   "source": [
    "# Convert a binary string back to an integer\n",
    "binary = \"0b1010\" # the leading \"0b\" is optional\n",
    "number = int(binary, 2)\n",
    "\n",
    "print(f\"Integer value of {binary}: {number}\")"
   ]
  },
  {
   "cell_type": "markdown",
   "id": "11",
   "metadata": {},
   "source": [
    "Note that the above examples use **formatted string literals**,\n",
    "commonly known as \"f-strings.\"\n",
    "F-strings provide a concise and readable way to embed expressions\n",
    "inside string literals by prefixing the string with an `f` or `F`\n",
    "character."
   ]
  },
  {
   "cell_type": "markdown",
   "id": "12",
   "metadata": {},
   "source": [
    "Python supports representing binary numbers directly using the `0b`\n",
    "prefix for literals.\n",
    "This allows you to define binary numbers without converting from a\n",
    "string format."
   ]
  },
  {
   "cell_type": "code",
   "execution_count": null,
   "id": "13",
   "metadata": {},
   "outputs": [],
   "source": [
    "binary = 0b1010  # 10 in decimal\n",
    "\n",
    "print(f\"Binary number: {binary}\")"
   ]
  },
  {
   "cell_type": "markdown",
   "id": "14",
   "metadata": {},
   "source": [
    "### The Hexadecimal System\n",
    "\n",
    "* Base: $b = 16$\n",
    "* Digits: 0, 1, 2, 3, 4, 5, 6, 7, 8, 9, A, B, C, D, E, F"
   ]
  },
  {
   "cell_type": "markdown",
   "id": "15",
   "metadata": {
    "jp-MarkdownHeadingCollapsed": true
   },
   "source": [
    "The hexadecimal system allows for writing a binary number in a very\n",
    "compact notation.\n",
    "It allows one to directly ready the binary content of a file, e.g.,\n",
    "```\n",
    "% hexdump -C /bin/sh | head\n",
    "00000000  ca fe ba be 00 00 00 02  01 00 00 07 00 00 00 03  |................|\n",
    "00000010  00 00 40 00 00 00 6a b0  00 00 00 0e 01 00 00 0c  |..@...j.........|\n",
    "00000020  80 00 00 02 00 00 c0 00  00 00 cb 70 00 00 00 0e  |...........p....|\n",
    "00000030  00 00 00 00 00 00 00 00  00 00 00 00 00 00 00 00  |................|\n",
    "*\n",
    "00004000  cf fa ed fe 07 00 00 01  03 00 00 00 02 00 00 00  |................|\n",
    "00004010  11 00 00 00 c0 04 00 00  85 00 20 00 00 00 00 00  |.......... .....|\n",
    "00004020  19 00 00 00 48 00 00 00  5f 5f 50 41 47 45 5a 45  |....H...__PAGEZE|\n",
    "00004030  52 4f 00 00 00 00 00 00  00 00 00 00 00 00 00 00  |RO..............|\n",
    "00004040  00 00 00 00 01 00 00 00  00 00 00 00 00 00 00 00  |................|\n",
    "```\n",
    "or directly select a color\n",
    "```{figure} fig/color.png\n",
    "Hex numbers are used to select colors.\n",
    "```"
   ]
  },
  {
   "cell_type": "markdown",
   "id": "16",
   "metadata": {},
   "source": [
    "Python also supports working with hexadecimal numbers, which are\n",
    "represented using the `0x` prefix.\n",
    "Below are examples demonstrating how to handle hexadecimal numbers in\n",
    "Python."
   ]
  },
  {
   "cell_type": "code",
   "execution_count": null,
   "id": "17",
   "metadata": {},
   "outputs": [],
   "source": [
    "number = 255\n",
    "hexrep = hex(number)\n",
    "\n",
    "print(f\"Hexadecimal representation of {number}: {hexrep}\")"
   ]
  },
  {
   "cell_type": "code",
   "execution_count": null,
   "id": "18",
   "metadata": {},
   "outputs": [],
   "source": [
    "hexrep = \"0xff\"\n",
    "number = int(hexrep, 16)\n",
    "\n",
    "print(f\"Integer value of {hexrep}: {number}\")"
   ]
  },
  {
   "cell_type": "code",
   "execution_count": null,
   "id": "19",
   "metadata": {},
   "outputs": [],
   "source": [
    "hexrep = 0xff  # 10 in decimal\n",
    "\n",
    "print(f\"Hexadecimal number: {hexrep}\")"
   ]
  },
  {
   "cell_type": "markdown",
   "id": "20",
   "metadata": {},
   "source": [
    "```{note} Quantum Computing: A New Type of Number Representation\n",
    "\n",
    "Quantum computing takes number representation to a whole new level.\n",
    "In quantum mechanics, data is represented using quantum bits, or\n",
    "qubits.\n",
    "Unlike classical bits, a single qubit can exist in a superposition of\n",
    "two states, $|0\\rangle$ and $|1\\rangle$, simultaneously.\n",
    "This means that (ignoring normalization for now) one qubit can\n",
    "represent two numbers $C_0$ and $C_1$ as in $C_0 |0\\rangle + C_1\n",
    "|1\\rangle$.\n",
    "\n",
    "With two qubits, the system can represent four possible states:\n",
    "$|00\\rangle$, $|01\\rangle$, $|10\\rangle$, and $|11\\rangle$, again, in\n",
    "superposition.\n",
    "The number of possible states grows exponentially as more qubits are\n",
    "added:\n",
    "* Three qubits can represent eight states: $|000\\rangle$,\n",
    "  $|001\\rangle$, $|010\\rangle$, ..., $|111\\rangle$.\n",
    "* Four qubits represent 16 states, and so on.\n",
    "\n",
    "In general, $n$ qubits can represent $2^n$ states at once.\n",
    "This exponential scaling is what gives quantum computers their\n",
    "enormous potential to perform certain types of calculations far more\n",
    "efficiently than classical computers.\n",
    "\n",
    "For example, IBM's 53-qubit quantum computer can represent $2^{53}$\n",
    "states simultaneously.\n",
    "In terms of classical information, this is equivalent to storing\n",
    "approximately 1 petabyte (PB) of data, which is comparable to the\n",
    "amount of memory available in some of the world's largest\n",
    "supercomputers today.\n",
    "```\n"
   ]
  },
  {
   "cell_type": "markdown",
   "id": "21",
   "metadata": {},
   "source": [
    "```{note} Superposition Hypothesis in Large Language Models\n",
    "\n",
    "The [Superposition\n",
    "Hypothesis](https://transformer-circuits.pub/2022/toy_model/index.html)\n",
    "in large language models (LLMs) proposes that individual neurons or\n",
    "parameters can encode multiple overlapping features, depending on\n",
    "context.\n",
    "This is analogous to quantum superposition, where qubits represent\n",
    "multiple states simultaneously.\n",
    "\n",
    "For example, a single neuron in an LLM might activate for both \"dog\"\n",
    "and \"pet,\" enabling efficient reuse of parameters.\n",
    "\n",
    "This ability is further supported by high-dimensional embeddings,\n",
    "where concepts are represented as nearly orthogonal vectors.\n",
    "This allows the LLM to store and distinguish vast amounts of\n",
    "information with minimal interference.\n",
    "The\n",
    "[Johnson-Lindenstrauss Lemma](https://en.wikipedia.org/wiki/Johnson%E2%80%93Lindenstrauss_lemma)\n",
    "explains how high-dimensional spaces accommodate such efficient\n",
    "representations.\n",
    "\n",
    "While the Superposition Hypothesis provides a promising explanation\n",
    "for the efficiency of LLMs, it remains an area of active research to\n",
    "fully understand the mechanisms underlying their success.\n",
    "```"
   ]
  },
  {
   "cell_type": "markdown",
   "id": "22",
   "metadata": {},
   "source": [
    "## Hardware Implementations"
   ]
  },
  {
   "cell_type": "markdown",
   "id": "23",
   "metadata": {},
   "source": [
    "```{epigraph}\n",
    "The decimal system has been established, somewhat foolishly to be\n",
    "sure, according to man's custom, not from a natural necessity as most\n",
    "people think.\n",
    "\n",
    "-- Blaise Pascal (1623--1662)\n",
    "```"
   ]
  },
  {
   "cell_type": "markdown",
   "id": "24",
   "metadata": {},
   "source": [
    "Binary operators are the foundation of computation in digital\n",
    "hardware."
   ]
  },
  {
   "cell_type": "markdown",
   "id": "25",
   "metadata": {},
   "source": [
    "### Basic Binary Operators"
   ]
  },
  {
   "cell_type": "markdown",
   "id": "26",
   "metadata": {},
   "source": [
    "1. AND Operator (`&`)\n",
    "   ```{code}\n",
    "   | A | B | A & B |\n",
    "   |---|---|-------|\n",
    "   | 0 | 0 |   0   |\n",
    "   | 0 | 1 |   0   |\n",
    "   | 1 | 0 |   0   |\n",
    "   | 1 | 1 |   1   |\n",
    "   ```"
   ]
  },
  {
   "cell_type": "markdown",
   "id": "27",
   "metadata": {},
   "source": [
    "2. OR Operator (`|`)\n",
    "   ```{code}\n",
    "   | A | B | A | B |\n",
    "   |---|---|-------|\n",
    "   | 0 | 0 |   0   |\n",
    "   | 0 | 1 |   1   |\n",
    "   | 1 | 0 |   1   |\n",
    "   | 1 | 1 |   1   |\n",
    "   ```"
   ]
  },
  {
   "cell_type": "markdown",
   "id": "28",
   "metadata": {},
   "source": [
    "3. XOR Operator (`^`)\n",
    "   ```{code}\n",
    "   | A | B | A ^ B |\n",
    "   |---|---|-------|\n",
    "   | 0 | 0 |   0   |\n",
    "   | 0 | 1 |   1   |\n",
    "   | 1 | 0 |   1   |\n",
    "   | 1 | 1 |   0   |\n",
    "   ```"
   ]
  },
  {
   "cell_type": "markdown",
   "id": "29",
   "metadata": {},
   "source": [
    "4. NOT Operator (`~`)\n",
    "   ```{code}\n",
    "   | A | ~A |\n",
    "   |---|----|\n",
    "   | 0 |  1 |\n",
    "   | 1 |  0 |\n",
    "   ```"
   ]
  },
  {
   "cell_type": "markdown",
   "id": "30",
   "metadata": {},
   "source": [
    "5. NAND and NOR Operators\n",
    "   * **NAND (NOT AND):** Outputs `0` only when both inputs are `1`.\n",
    "   * **NOR  (NOT OR):**  Outputs `1` only when both inputs are `0`."
   ]
  },
  {
   "cell_type": "markdown",
   "id": "31",
   "metadata": {},
   "source": [
    "### CMOS Implementation\n",
    "\n",
    "Logic gates are built using\n",
    "[CMOS (Complementary Metal-Oxide-Semiconductor)](https://en.wikipedia.org/wiki/CMOS)\n",
    "technology, which utilizes:\n",
    "* **PMOS Transistors:** Conduct when the input is low (logic `0`).\n",
    "* **NMOS Transistors:** Conduct when the input is high (logic `1`)."
   ]
  },
  {
   "cell_type": "markdown",
   "id": "32",
   "metadata": {},
   "source": [
    "```{figure} fig/cmos.png\n",
    "Cross section of two transistors in a CMOS gate, in an N-well CMOS\n",
    "process.\n",
    "```"
   ]
  },
  {
   "cell_type": "markdown",
   "id": "33",
   "metadata": {},
   "source": [
    "In the above figure, the terminals of the transistors are labeled as\n",
    "follows:\n",
    "\n",
    "* **Source (S):**\n",
    "  The terminal where carriers (electrons or holes) enter the\n",
    "  transistor.\n",
    "  For NMOS transistors, the source is typically connected to a lower\n",
    "  potential (e.g., ground), while for PMOS transistors, it is\n",
    "  connected to a higher potential (e.g., Vdd).\n",
    "\n",
    "* **Gate (G):**\n",
    "  The terminal that controls the flow of carriers between the source\n",
    "  and drain.\n",
    "  Applying a voltage to the gate creates an electric field that either\n",
    "  allows or prevents current flow, effectively acting as a switch.\n",
    "\n",
    "* **Drain (D):**\n",
    "  The terminal through which carriers exit the transistor.\n",
    "  For NMOS transistors, the drain is usually connected to a higher\n",
    "  potential, while for PMOS transistors, it is connected to a lower\n",
    "  potential.\n",
    "\n",
    "* **Body (B):**\n",
    "  Also known as the bulk or substrate, this terminal is typically\n",
    "  connected to a fixed reference potential.\n",
    "  For NMOS transistors, the body is often connected to ground, and for\n",
    "  PMOS transistors, it is connected to Vdd.\n",
    "  The body helps control leakage currents and influences the\n",
    "  transistor's threshold voltage."
   ]
  },
  {
   "cell_type": "markdown",
   "id": "34",
   "metadata": {},
   "source": [
    "By manipulating the voltage at the gate terminal, transistors act as\n",
    "switches.\n",
    "They then enable or disable the flow of current between the source\n",
    "and drain.\n",
    "This non-linear switching behavior supports the operation of all logic\n",
    "gates and digital circuits."
   ]
  },
  {
   "cell_type": "markdown",
   "id": "35",
   "metadata": {},
   "source": [
    "Here are some CMOS Gate Examples\n",
    "1. **NOT Gate:**\n",
    "   * **PMOS:** Connects the output to `Vdd` (high) when the input is\n",
    "     low.\n",
    "   * **NMOS:** Connects the output to ground (low) when the input is\n",
    "     high.\n",
    "2. **NAND Gate:**\n",
    "   * **PMOS:** Two transistors in parallel connect to `Vdd` if either\n",
    "     input is low.\n",
    "   * **NMOS:** Two transistors in series connect to ground only if\n",
    "     both inputs are high.\n",
    "3. **NOR Gate:**\n",
    "   * **PMOS:** Two transistors in series connect to `Vdd` only if both\n",
    "     inputs are low.\n",
    "   * **NMOS:** Two transistors in parallel connect to ground if either\n",
    "     input is high."
   ]
  },
  {
   "cell_type": "markdown",
   "id": "36",
   "metadata": {},
   "source": [
    "```{note}\n",
    "Although for LED, this\n",
    "[Veritasium Video](https://youtu.be/AF8d72mA41M?si=Tq26bYZhn6kFAVC6)\n",
    "explains semiconductor technology extremely well.\n",
    "```"
   ]
  },
  {
   "cell_type": "markdown",
   "id": "37",
   "metadata": {},
   "source": [
    "### Universal Gates\n",
    "\n",
    "**NAND** and **NOR** gates are also called **universal gates** because\n",
    "any other logic gate can be constructed using just these gates.\n",
    "Universal gates are fundamental in hardware design, as they simplify\n",
    "manufacturing by reducing the variety of components needed."
   ]
  },
  {
   "cell_type": "markdown",
   "id": "38",
   "metadata": {},
   "source": [
    "In practice, the NAND gate is widely used in the industry due to\n",
    "several advantages:\n",
    "* Less delay\n",
    "* Smaller silicon area\n",
    "* Uniform transistor sizes"
   ]
  },
  {
   "cell_type": "markdown",
   "id": "39",
   "metadata": {},
   "source": [
    "An NAND gate's truth table looks like this:\n",
    "```{code}\n",
    "| A | B | NAND(A, B) |\n",
    "|---|---|------------|\n",
    "| 0 | 0 | 1          |\n",
    "| 0 | 1 | 1          |\n",
    "| 1 | 0 | 1          |\n",
    "| 1 | 1 | 0          |\n",
    "```\n",
    "Here is a simple Python function for the NAND gate:"
   ]
  },
  {
   "cell_type": "code",
   "execution_count": null,
   "id": "40",
   "metadata": {},
   "outputs": [],
   "source": [
    "def NAND(a, b):\n",
    "    return 1 - (a & b)  # NOT (a AND b)"
   ]
  },
  {
   "cell_type": "markdown",
   "id": "41",
   "metadata": {},
   "source": [
    "We can now construct basic gates using only NAND:"
   ]
  },
  {
   "cell_type": "code",
   "execution_count": null,
   "id": "42",
   "metadata": {},
   "outputs": [],
   "source": [
    "# A NOT gate can be built by connecting both inputs of a NAND gate to the same value.\n",
    "\n",
    "def NOT(a):\n",
    "    return NAND(a, a)\n",
    "\n",
    "# Test\n",
    "print(NOT(0)) # Output: 1\n",
    "print(NOT(1)) # Output: 0"
   ]
  },
  {
   "cell_type": "code",
   "execution_count": null,
   "id": "43",
   "metadata": {},
   "outputs": [],
   "source": [
    "# An AND gate can be built by negating the output of a NAND gate.\n",
    "\n",
    "def AND(a, b):\n",
    "    return NOT(NAND(a, b))\n",
    "\n",
    "# Test\n",
    "print(AND(0, 0))  # Output: 0\n",
    "print(AND(0, 1))  # Output: 0\n",
    "print(AND(1, 0))  # Output: 0\n",
    "print(AND(1, 1))  # Output: 1"
   ]
  },
  {
   "cell_type": "code",
   "execution_count": null,
   "id": "44",
   "metadata": {},
   "outputs": [],
   "source": [
    "# HANDSON: implement an OR gate using only NAND.\n",
    "#\n",
    "# HINT: Using De Morgan's law: A | B = ~(~A & ~B).\n",
    "\n",
    "def OR(a, b):\n",
    "    ...\n",
    "\n",
    "# Test\n",
    "print(OR(0, 0))  # Output: 0\n",
    "print(OR(0, 1))  # Output: 1\n",
    "print(OR(1, 0))  # Output: 1\n",
    "print(OR(1, 1))  # Output: 1"
   ]
  },
  {
   "cell_type": "code",
   "execution_count": null,
   "id": "45",
   "metadata": {},
   "outputs": [],
   "source": [
    "# HANDSON: implement an XOR gate using only NAND.\n",
    "\n",
    "def XOR(a, b):\n",
    "    ...\n",
    "\n",
    "# Test\n",
    "print(XOR(0, 0))  # Output: 0\n",
    "print(XOR(0, 1))  # Output: 1\n",
    "print(XOR(1, 0))  # Output: 1\n",
    "print(XOR(1, 1))  # Output: 0"
   ]
  },
  {
   "cell_type": "markdown",
   "id": "46",
   "metadata": {},
   "source": [
    "## Addition in the Binary System\n",
    "\n",
    "In the binary system, addition follows similar rules to decimal\n",
    "addition, but with only two digits: 0 and 1.\n",
    "The key rules are:\n",
    "```{code}\n",
    "0 + 0 = 0\n",
    "0 + 1 = 1\n",
    "1 + 0 = 1\n",
    "1 + 1 = 0, 1 carryover\n",
    "```"
   ]
  },
  {
   "cell_type": "markdown",
   "id": "47",
   "metadata": {},
   "source": [
    "We start from the rightmost bit, adding the bits with carry when\n",
    "needed:\n",
    "```{code}\n",
    "    C = 111\n",
    "    A = 0101 (  A = 5)\n",
    "    B = 0011 (  B = 3)\n",
    "-------------\n",
    "A + B = 1000 (A+B = 8)\n",
    "```"
   ]
  },
  {
   "cell_type": "markdown",
   "id": "48",
   "metadata": {},
   "source": [
    "### Half Adder: Building Blocks for Addition\n",
    "\n",
    "A **half adder** is a fundamental circuit used to add two single-bit\n",
    "binary numbers.\n",
    "It produces two outputs:\n",
    "* **Sum**: The result of the XOR operation between the two inputs.\n",
    "* **Carry**: The result of the AND operation between the two inputs,\n",
    "  representing an overflow to the next bit."
   ]
  },
  {
   "cell_type": "markdown",
   "id": "49",
   "metadata": {},
   "source": [
    "```{figure} fig/half.png\n",
    "\"Half\" adder.\n",
    "```"
   ]
  },
  {
   "cell_type": "markdown",
   "id": "50",
   "metadata": {},
   "source": [
    "However, the half adder is limited because it does not account for a\n",
    "carry input from a previous addition.\n",
    "This is why it is called a \"half\" adder---it handles only the addition\n",
    "of two bits without any carry forwarding."
   ]
  },
  {
   "cell_type": "markdown",
   "id": "51",
   "metadata": {},
   "source": [
    "The logic for a half adder can be represented as:\n",
    "```{code}\n",
    "A + B = S , C\n",
    "-------------\n",
    "0 + 0 = 0 , 0\n",
    "0 + 1 = 1 , 0\n",
    "1 + 0 = 1 , 0\n",
    "1 + 1 = 0 , 1\n",
    "```"
   ]
  },
  {
   "cell_type": "markdown",
   "id": "52",
   "metadata": {},
   "source": [
    "This simplicity makes the half adder a foundational component for\n",
    "building more complex adders, like the full adder."
   ]
  },
  {
   "cell_type": "code",
   "execution_count": null,
   "id": "53",
   "metadata": {},
   "outputs": [],
   "source": [
    "def half_adder(A, B):\n",
    "    S = XOR(A, B)  # Sum using XOR\n",
    "    C = AND(A, B)  # Carry using AND\n",
    "    return S, C\n",
    "\n",
    "# Test\n",
    "print(half_adder(0, 0))\n",
    "print(half_adder(0, 1))\n",
    "print(half_adder(1, 0))\n",
    "print(half_adder(1, 1))"
   ]
  },
  {
   "cell_type": "code",
   "execution_count": null,
   "id": "54",
   "metadata": {},
   "outputs": [],
   "source": []
  }
 ],
 "metadata": {
  "kernelspec": {
   "display_name": "Python 3 (ipykernel)",
   "language": "python",
   "name": "python3"
  },
  "language_info": {
   "codemirror_mode": {
    "name": "ipython",
    "version": 3
   },
   "file_extension": ".py",
   "mimetype": "text/x-python",
   "name": "python",
   "nbconvert_exporter": "python",
   "pygments_lexer": "ipython3",
   "version": "3.13.7"
  }
 },
 "nbformat": 4,
 "nbformat_minor": 5
}
