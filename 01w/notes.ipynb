{
 "cells": [
  {
   "cell_type": "markdown",
   "id": "0",
   "metadata": {},
   "source": [
    "# Data Representation and Round-Off Errors"
   ]
  },
  {
   "cell_type": "markdown",
   "id": "1",
   "metadata": {},
   "source": [
    ":::{exercise} Riddle\n",
    "You have 1000 bottles of wine for a birthday party.\n",
    "1 hours before the party, the winery indicates that 1 bottle is filled\n",
    "with poison, but they don't know which one.\n",
    "You have 10 lab mice to test this.\n",
    "The poison is so strong that it will kill any mouse that drinks it\n",
    "within 15 minutes.\n",
    "Is there a way to find the poisoned bottle using the 10 mice before\n",
    "the party?\n",
    ":::"
   ]
  },
  {
   "cell_type": "markdown",
   "id": "2",
   "metadata": {},
   "source": [
    "## Representing Numbers\n",
    "\n",
    "Efficient number representation, as illustrated in the riddle, enables\n",
    "us to solve seemingly impossible problems.\n",
    "The evolution of numeral systems reflects humanity's progress toward\n",
    "clarity and efficiency in expressing information.\n",
    "\n",
    "* [**Unary System**](https://en.wikipedia.org/wiki/Unary_numeral_system):\n",
    "  The simplest system, where each number is represented by identical\n",
    "  marks.\n",
    "  For example, 5 is written as\n",
    "  [\"|||||\"](https://en.wikipedia.org/wiki/Tally_marks).\n",
    "  While easy to understand and requiring no skill for addition, unary\n",
    "  becomes impractical for large values: representing 888 requires 888\n",
    "  marks.\n",
    "\n",
    "* [**Roman Numerals**](https://en.wikipedia.org/wiki/Roman_numerals):\n",
    "  An improvement over unary, Roman numerals use symbols such as I (1),\n",
    "  V (5), X (10), L (50), C (100), D (500), and M (1000) to group large\n",
    "  values.\n",
    "  However, representing numbers like 888 (DCCCLXXXVIII) still requires\n",
    "  12 symbols, which is somewhat cumbersome.\n",
    "\n",
    "* [**Arabic Numerals**](https://en.wikipedia.org/wiki/Arabic_numerals):\n",
    "  We may take it for granted and not appreciate it, but Arabic numeral\n",
    "  system is a revolutionary advancement.\n",
    "  It uses positional notation to represent numbers compactly and\n",
    "  efficiently.\n",
    "  For instance, 888 requires only three digits."
   ]
  },
  {
   "cell_type": "markdown",
   "id": "3",
   "metadata": {},
   "source": [
    "### Positional Notation Systems\n",
    "\n",
    "The Arabic numeral system is an example of a\n",
    "[**positional notation system**](https://en.wikipedia.org/wiki/Positional_notation),\n",
    "where the value of a digit is determined by both the digit itself and\n",
    "its position within the number.\n",
    "This contrasts with systems like unary numbers or Roman numerals,\n",
    "where the position of a symbol does not affect its value.\n",
    "In positional notation, each digit's place corresponds to a specific\n",
    "power of the system's base.\n",
    "\n",
    "In a positional system, representing a number involves the following\n",
    "steps:\n",
    "1. Decide on the base (or radix) $b$.\n",
    "2. Define the notation for the digits.\n",
    "3. Write the number as:\n",
    "   \\begin{align}\n",
    "   \\pm (\\dots d_3 d_2 d_1 d_0 . d_{-1} d_{-2} d_{-3} \\dots),\n",
    "   \\end{align}\n",
    "   which represents:\n",
    "   \\begin{align}\n",
    "   \\pm (\\dots + d_3 b^3 + d_2 b^2 + d_1 b^1 + d_0 b^0 + d_{-1} b^{-1} + d_{-2} b^{-2} + d_{-3} b^{-3} + \\dots).\n",
    "   \\end{align}\n",
    "\n",
    "To convert a number from base $b$ to decimal, we apply this definition\n",
    "directly.\n",
    "For example:\n",
    "\\begin{align}\n",
    "(256.4)_8 = 2\\times8^2 + 5\\times8^1 + 6\\times8^0 + 4\\times8^{-1} = (174.5)_{10}.\n",
    "\\end{align}"
   ]
  }
 ],
 "metadata": {
  "kernelspec": {
   "display_name": "Python 3 (ipykernel)",
   "language": "python",
   "name": "python3"
  },
  "language_info": {
   "codemirror_mode": {
    "name": "ipython",
    "version": 3
   },
   "file_extension": ".py",
   "mimetype": "text/x-python",
   "name": "python",
   "nbconvert_exporter": "python",
   "pygments_lexer": "ipython3",
   "version": "3.13.7"
  }
 },
 "nbformat": 4,
 "nbformat_minor": 5
}
