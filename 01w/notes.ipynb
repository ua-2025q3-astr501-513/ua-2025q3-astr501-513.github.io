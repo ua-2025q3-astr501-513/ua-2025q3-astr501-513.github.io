{
 "cells": [
  {
   "cell_type": "markdown",
   "id": "0",
   "metadata": {},
   "source": [
    "# Data Representation and Round-Off Errors"
   ]
  },
  {
   "cell_type": "markdown",
   "id": "1",
   "metadata": {},
   "source": [
    ":::{exercise} Riddle\n",
    "You have 1000 bottles of wine for a birthday party.\n",
    "1 hours before the party, the winery indicates that 1 bottle is filled\n",
    "with poison, but they don't know which one.\n",
    "You have 10 lab mice to test this.\n",
    "The poison is so strong that it will kill any mouse that drinks it\n",
    "within 15 minutes.\n",
    "Is there a way to find the poisoned bottle using the 10 mice before\n",
    "the party?\n",
    ":::"
   ]
  },
  {
   "cell_type": "markdown",
   "id": "2",
   "metadata": {},
   "source": [
    "## Representing Numbers\n",
    "\n",
    "Efficient number representation, as illustrated in the riddle, enables\n",
    "us to solve seemingly impossible problems.\n",
    "The evolution of numeral systems reflects humanity's progress toward\n",
    "clarity and efficiency in expressing information.\n",
    "\n",
    "* [**Unary System**](https://en.wikipedia.org/wiki/Unary_numeral_system):\n",
    "  The simplest system, where each number is represented by identical\n",
    "  marks.\n",
    "  For example, 5 is written as\n",
    "  [\"|||||\"](https://en.wikipedia.org/wiki/Tally_marks).\n",
    "  While easy to understand and requiring no skill for addition, unary\n",
    "  becomes impractical for large values: representing 888 requires 888\n",
    "  marks.\n",
    "\n",
    "* [**Roman Numerals**](https://en.wikipedia.org/wiki/Roman_numerals):\n",
    "  An improvement over unary, Roman numerals use symbols such as I (1),\n",
    "  V (5), X (10), L (50), C (100), D (500), and M (1000) to group large\n",
    "  values.\n",
    "  However, representing numbers like 888 (DCCCLXXXVIII) still requires\n",
    "  12 symbols, which is somewhat cumbersome.\n",
    "\n",
    "* [**Arabic Numerals**](https://en.wikipedia.org/wiki/Arabic_numerals):\n",
    "  We may take it for granted and not appreciate it, but Arabic numeral\n",
    "  system is a revolutionary advancement.\n",
    "  It uses positional notation to represent numbers compactly and\n",
    "  efficiently.\n",
    "  For instance, 888 requires only three digits."
   ]
  },
  {
   "cell_type": "markdown",
   "id": "3",
   "metadata": {},
   "source": [
    "### Positional Notation Systems\n",
    "\n",
    "The Arabic numeral system is an example of a\n",
    "[**positional notation system**](https://en.wikipedia.org/wiki/Positional_notation),\n",
    "where the value of a digit is determined by both the digit itself and\n",
    "its position within the number.\n",
    "This contrasts with systems like unary numbers or Roman numerals,\n",
    "where the position of a symbol does not affect its value.\n",
    "In positional notation, each digit's place corresponds to a specific\n",
    "power of the system's base.\n",
    "\n",
    "In a positional system, representing a number involves the following\n",
    "steps:\n",
    "1. Decide on the base (or radix) $b$.\n",
    "2. Define the notation for the digits.\n",
    "3. Write the number as:\n",
    "   \\begin{align}\n",
    "   \\pm (\\dots d_3 d_2 d_1 d_0 . d_{-1} d_{-2} d_{-3} \\dots),\n",
    "   \\end{align}\n",
    "   which represents:\n",
    "   \\begin{align}\n",
    "   \\pm (\\dots + d_3 b^3 + d_2 b^2 + d_1 b^1 + d_0 b^0 + d_{-1} b^{-1} + d_{-2} b^{-2} + d_{-3} b^{-3} + \\dots).\n",
    "   \\end{align}\n",
    "\n",
    "To convert a number from base $b$ to decimal, we apply this definition\n",
    "directly.\n",
    "For example:\n",
    "\\begin{align}\n",
    "(256.4)_8 = 2\\times8^2 + 5\\times8^1 + 6\\times8^0 + 4\\times8^{-1} = (174.5)_{10}.\n",
    "\\end{align}\n",
    "\n",
    "The most popular bases used in computer are:"
   ]
  },
  {
   "cell_type": "markdown",
   "id": "4",
   "metadata": {},
   "source": [
    "### Binary Numbers\n",
    "\n",
    "* Base: $b = 2$\n",
    "* Digits: 0, 1"
   ]
  },
  {
   "cell_type": "markdown",
   "id": "5",
   "metadata": {},
   "source": [
    "```{figure} fig/measure.png\n",
    "Binary system was invented by merchants in medieval England.\n",
    "```\n",
    "\n",
    "The binary system has been used in various forms long before the age\n",
    "of computers.\n",
    "Invented by merchants in medieval England, the units of liquid measure\n",
    "were based on the binary system. For example:\n",
    "* 1 gallon = 2 pottles;\n",
    "* 1 pottle = 2 quarts;\n",
    "* 1 quart = 2 pints;\n",
    "* 1 pint = 2 cups; etc.\n",
    "\n",
    "Similarly, the binary system is used in music to define note\n",
    "durations, i.e., whole note, half note, quarter note, eighth note,\n",
    "sixteenth note, etc.\n",
    "These everyday examples show the fundamental nature of the binary\n",
    "system underpining modern computing."
   ]
  },
  {
   "cell_type": "markdown",
   "id": "6",
   "metadata": {},
   "source": [
    "```{figure} fig/binary-shirt.png\n",
    "There are `10` types of people in the world...\n",
    "```"
   ]
  },
  {
   "cell_type": "markdown",
   "id": "7",
   "metadata": {},
   "source": [
    "In the binary system, only two digits are used: 0 and 1.\n",
    "The position of each digit in a binary number corresponds to a power\n",
    "of 2, just as the position of a digit in the decimal system\n",
    "corresponds to a power of 10.\n",
    "For example, the binary number $1011_2$ represents:\n",
    "$1 \\times 2^3 + 0 \\times 2^2 + 1 \\times 2^1 + 1 \\times 2^0$.\n",
    "This gives the decimal value:\n",
    "$1 \\times 8 + 0 \\times 4 + 1 \\times 2 + 1 \\times 1 = 11$."
   ]
  },
  {
   "cell_type": "markdown",
   "id": "8",
   "metadata": {},
   "source": [
    "In Python, you can use the `bin()` function to convert an integer to\n",
    "its binary string representation, and the `int()` function to convert\n",
    "a binary string back to an integer.\n",
    "This is particularly useful when working with binary numbers in\n",
    "computations."
   ]
  },
  {
   "cell_type": "code",
   "execution_count": null,
   "id": "9",
   "metadata": {},
   "outputs": [],
   "source": [
    "# Convert an integer to a binary string\n",
    "number = 10\n",
    "binary = bin(number)\n",
    "\n",
    "print(f\"Binary representation of {number}: {binary}\")"
   ]
  },
  {
   "cell_type": "code",
   "execution_count": null,
   "id": "10",
   "metadata": {},
   "outputs": [],
   "source": [
    "# Convert a binary string back to an integer\n",
    "binary = \"0b1010\" # the leading \"0b\" is optional\n",
    "number = int(binary, 2)\n",
    "\n",
    "print(f\"Integer value of {binary}: {number}\")"
   ]
  },
  {
   "cell_type": "markdown",
   "id": "11",
   "metadata": {},
   "source": [
    "Note that the above examples use **formatted string literals**,\n",
    "commonly known as \"f-strings.\"\n",
    "F-strings provide a concise and readable way to embed expressions\n",
    "inside string literals by prefixing the string with an `f` or `F`\n",
    "character."
   ]
  },
  {
   "cell_type": "markdown",
   "id": "12",
   "metadata": {},
   "source": [
    "Python supports representing binary numbers directly using the `0b`\n",
    "prefix for literals.\n",
    "This allows you to define binary numbers without converting from a\n",
    "string format."
   ]
  },
  {
   "cell_type": "code",
   "execution_count": null,
   "id": "13",
   "metadata": {},
   "outputs": [],
   "source": [
    "binary = 0b1010  # 10 in decimal\n",
    "\n",
    "print(f\"Binary number: {binary}\")"
   ]
  }
 ],
 "metadata": {
  "kernelspec": {
   "display_name": "Python 3 (ipykernel)",
   "language": "python",
   "name": "python3"
  },
  "language_info": {
   "codemirror_mode": {
    "name": "ipython",
    "version": 3
   },
   "file_extension": ".py",
   "mimetype": "text/x-python",
   "name": "python",
   "nbconvert_exporter": "python",
   "pygments_lexer": "ipython3",
   "version": "3.13.7"
  }
 },
 "nbformat": 4,
 "nbformat_minor": 5
}
