{
 "cells": [
  {
   "cell_type": "markdown",
   "id": "0",
   "metadata": {},
   "source": [
    "# Jupyter Notebook and Python [![Open In Colab](https://colab.research.google.com/assets/colab-badge.svg)](https://colab.research.google.com/github/ua-2025q3-astr501-513/ua-2025q3-astr501-513.github.io/blob/main/01t/lab.ipynb)"
   ]
  },
  {
   "cell_type": "markdown",
   "id": "1",
   "metadata": {},
   "source": [
    "<img src=\"fig/jupytermeme.png\" alt=\"Jupyter Meme\" style=\"width:486px;\"/>"
   ]
  },
  {
   "cell_type": "markdown",
   "id": "2",
   "metadata": {},
   "source": [
    "## Introduction to Jupyter\n",
    "\n",
    "The [Jupyter Project](https://jupyter.org/) provides tools, including\n",
    "[Jupyter Notebook](https://jupyter-notebook.readthedocs.io/) and\n",
    "[JupyterLab](https://jupyterlab.readthedocs.io/), for interactive\n",
    "computing.\n",
    "\n",
    "A Jupyter notebook is a single document that can mix together:\n",
    "* Code that you can run\n",
    "* Text explanations\n",
    "* Math equations\n",
    "* Data and plots\n",
    "* Images and interactive widgets\n",
    "Think of it as a lab notebook that can **explain an idea, run the\n",
    "code, and show the results all in one place.**\n",
    "\n",
    "Proprietary programs like Mathematica and MATLAB have had similar\n",
    "notebook features for years.\n",
    "The difference is that Jupyter is **open-source**, built in\n",
    "**Python**, and freely available.\n",
    "This makes it one of the most popular tools in data science,\n",
    "astrophysics, and beyond."
   ]
  },
  {
   "cell_type": "markdown",
   "id": "3",
   "metadata": {},
   "source": [
    "### How to Run This Notebook\n",
    "\n",
    "These course materials (ASTR 501+513) are built using [Jupyter\n",
    "Book](https://next.jupyterbook.org/), which combines Markdown files\n",
    "and Jupyter notebooks to provide lecture notes and hands-on labs.\n",
    "Because of this, each page can also be opened directly as a Jupyter\n",
    "notebook.\n",
    "\n",
    "Jupyter notebooks can be used in many editors, including: [VS\n",
    "Code](https://code.visualstudio.com/) (with Jupyter extensions) and\n",
    "[Google Colab](https://colab.research.google.com/) (runs in the cloud\n",
    "with no setup required).\n",
    "\n",
    "To keep this first lab simple, we will use Google Colab.\n",
    "\n",
    "Steps to open the notebook in Colab:\n",
    "1. At the top right of this page, click the **\"Edit\" pencil icon**.\n",
    "   This will open the notebook's source page on GitHub.\n",
    "2. On the GitHub page, find the **\"Open in Colab\" badge** near the\n",
    "   top.  Clicking this badge will open the notebook in Google Colab.\n",
    "3. In Colab, run any code cell by either:\n",
    "   * pressing \"Shift + Enter\", or\n",
    "   * clicking the **▶ Run** button on the left of the cell.\n",
    "\n",
    "With these steps, you can run Python code directly in your browser,\n",
    "without needing to install anything locally."
   ]
  }
 ],
 "metadata": {
  "kernelspec": {
   "display_name": "Python 3 (ipykernel)",
   "language": "python",
   "name": "python3"
  },
  "language_info": {
   "codemirror_mode": {
    "name": "ipython",
    "version": 3
   },
   "file_extension": ".py",
   "mimetype": "text/x-python",
   "name": "python",
   "nbconvert_exporter": "python",
   "pygments_lexer": "ipython3",
   "version": "3.13.7"
  }
 },
 "nbformat": 4,
 "nbformat_minor": 5
}
