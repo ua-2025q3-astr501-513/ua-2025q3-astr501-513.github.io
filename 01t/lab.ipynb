{
 "cells": [
  {
   "cell_type": "markdown",
   "id": "0",
   "metadata": {},
   "source": [
    "# Jupyter Notebook and Python [![Open In Colab](https://colab.research.google.com/assets/colab-badge.svg)](https://colab.research.google.com/github/ua-2025q3-astr501-513/ua-2025q3-astr501-513.github.io/blob/main/01t/lab.ipynb)"
   ]
  },
  {
   "cell_type": "markdown",
   "id": "1",
   "metadata": {},
   "source": [
    "<img src=\"fig/jupytermeme.png\" alt=\"Jupyter Meme\" style=\"width:486px;\"/>"
   ]
  },
  {
   "cell_type": "markdown",
   "id": "2",
   "metadata": {},
   "source": [
    "## Welcome to ASTR 501!\n",
    "\n",
    "This course is an introduction to computing for incoming astronomy\n",
    "and astrophysics graduate students.\n",
    "Course will cover basics of programming in Python and C/C++, including\n",
    "commonly-used libraries for astronomical research, an introduction to\n",
    "computer hardware including coprocessors such as GPUs, and some\n",
    "introductory concepts from computer science."
   ]
  },
  {
   "cell_type": "markdown",
   "id": "3",
   "metadata": {},
   "source": [
    "The course website is: https://ua-2025q3-astr501-513.github.io.\n",
    "All lecture notes and links to homework will be posted here."
   ]
  },
  {
   "cell_type": "markdown",
   "id": "4",
   "metadata": {},
   "source": [
    "This course is recommended in conjunction with [ASTR 513 Statistical\n",
    "and Computational Methods in\n",
    "Astrophysics](https://catalog.arizona.edu/courses/0404141), which\n",
    "meets every Monday and Wednesday 11am-12:15pm.\n",
    "\n",
    "Also, every Thursday 2-3:30pm, we will have the weekly\n",
    "[TAP](https://tap.arizona.edu/) [Computation & Data\n",
    "Initiative](https://tap.arizona.edu/initiatives/computation-data-initiative)\n",
    "meeting in SO N305.\n",
    "Please feel free to stop by as well."
   ]
  },
  {
   "cell_type": "markdown",
   "id": "5",
   "metadata": {},
   "source": [
    "### Instructor and Contact Information\n",
    "\n",
    "**Instructor:** Chi-kwan Chan  \n",
    "**Email:** [chanc@arizona.edu](mailto:chanc@arizona.edu?subject=ASTR%20513) (please include \"ASTR 513\" in subjects of emails)  \n",
    "**Office:** Steward Observatory N332  \n",
    "**Office Hours:** TBD\n",
    "\n",
    "**Instructor:** Shuo Kong  \n",
    "**Email:** [shuokong@arizona.edu](mailto:shuokong@arizona.edu?subject=ASTR%20513) (please include \"ASTR 513\" in subjects of emails)  \n",
    "**Office:** Steward Observatory N328  \n",
    "**Office Hours:** TBD"
   ]
  },
  {
   "cell_type": "markdown",
   "id": "6",
   "metadata": {},
   "source": [
    "### Scheduled Topics/Activities\n",
    "\n",
    "| #  | Week | Tuesday\n",
    "--- | --- | ---\n",
    "1  | Aug 24-Aug 30 | Jupyter Notebook and Python\n",
    "2  | Aug 31-Sep  6 | Unix/Linux, Shell, and Git\n",
    "3  | Sep  7-Sep 13 | Software Environment and Cloud Computing\n",
    "4  | Sep 14-Sep 20 | Make, Workflow, and GitHub Action\n",
    "5  | Sep 21-Sep 27 | C/C++\n",
    "6  | Sep 28-Oct  4 | Code optimization\n",
    "7  | Oct  5-Oct 11 | Parallel Computing\n",
    "8  | Oct 12-Oct 18 | HPC and Slurm\n",
    "9  | Oct 19-Oct 25 | Hydrodynamic Simulation 1\n",
    "10 | Oct 26-Nov  1 | Hydrodynamic Simulation 2\n",
    "11 | Nov  2-Nov  8 | Hydrodynamic Simulation 3\n",
    "12 | Nov  9-Nov 15 | No class (Veterans Day)\n",
    "13 | Nov 16-Nov 22 | Hydrodynamic Simulation 4\n",
    "14 | Nov 23-Nov 29 | Presentation 1\n",
    "15 | Nov 30-Dec  6 | Presentation 2\n",
    "16 | Dec  7-Dec 13 | Visit UA HPC"
   ]
  },
  {
   "cell_type": "markdown",
   "id": "7",
   "metadata": {},
   "source": [
    "### Grading Scale and Policies\n",
    "\n",
    "This course provides pass/fail grades.\n",
    "Students who finish majority of hands-on labs and create reasonable\n",
    "projects would receive passing grades."
   ]
  },
  {
   "cell_type": "markdown",
   "id": "8",
   "metadata": {},
   "source": [
    "### Usage of Generative AI\n",
    "\n",
    "Homework, projects, and exams in this course are designed to help\n",
    "students apply class concepts, test their understanding, and develop\n",
    "skills in software development and scientific communication.\n",
    "Generative AI tools such as ChatGPT, Google Gemini, and GitHub Copilot\n",
    "can be valuable for brainstorming, exploring alternative approaches,\n",
    "clarifying confusing concepts, and debugging code.\n",
    "Students may also use these tools to clarify difficult concepts and to\n",
    "generate examples that aid their learning.\n",
    "\n",
    "However, students must write their own code, take full responsibility\n",
    "for their work, and demonstrate a clear understanding of the\n",
    "underlying concepts.\n",
    "While AI tools can support learning, they may produce inaccurate,\n",
    "incomplete, or biased results.\n",
    "Students are responsible for verifying facts, testing code, and\n",
    "critically assessing all submitted material.\n",
    "\n",
    "Any use of generative AI must be acknowledged or cited (see guidelines\n",
    "from UA library).\n",
    "Failure to disclose such use, or submitting work that is not original,\n",
    "will be considered a violation of academic integrity.\n",
    "\n",
    "For questions, contact your instructor."
   ]
  },
  {
   "cell_type": "markdown",
   "id": "9",
   "metadata": {},
   "source": [
    "## Introduction to Jupyter\n",
    "\n",
    "The [Jupyter Project](https://jupyter.org/) provides tools, including\n",
    "[Jupyter Notebook](https://jupyter-notebook.readthedocs.io/) and\n",
    "[JupyterLab](https://jupyterlab.readthedocs.io/), for interactive\n",
    "computing.\n",
    "\n",
    "A Jupyter notebook is a single document that can mix together:\n",
    "* Code that you can run\n",
    "* Text explanations\n",
    "* Math equations\n",
    "* Data and plots\n",
    "* Images and interactive widgets\n",
    "\n",
    "Think of it as a lab notebook that can **explain an idea, run the\n",
    "code, and show the results all in one place.**\n",
    "This form of programming is actually called [\"literate\n",
    "programming\"](https://en.wikipedia.org/wiki/Literate_programming),\n",
    "first introduced by in 1984 by [Donald\n",
    "Knuth](https://en.wikipedia.org/wiki/Donald_Knuth), the creator of\n",
    "[`TeX`](https://www.tug.org/).\n",
    "\n",
    "Proprietary programs like Mathematica and MATLAB have had similar\n",
    "notebook features for years.\n",
    "The difference is that Jupyter is open-source, built in Python,\n",
    "and freely available.\n",
    "This makes it one of the most popular tools in data science,\n",
    "astrophysics, and beyond."
   ]
  },
  {
   "cell_type": "markdown",
   "id": "10",
   "metadata": {},
   "source": [
    "### How to Run This Notebook\n",
    "\n",
    "These course materials (ASTR 501+513) are built using [Jupyter\n",
    "Book](https://next.jupyterbook.org/), which combines Markdown files\n",
    "and Jupyter notebooks to provide lecture notes and hands-on labs.\n",
    "Because of this, each page can also be opened directly as a Jupyter\n",
    "notebook.\n",
    "\n",
    "Jupyter notebooks can be used in many editors, including: [VS\n",
    "Code](https://code.visualstudio.com/) (with Jupyter extensions) and\n",
    "[Google Colab](https://colab.research.google.com/) (runs in the cloud\n",
    "with no setup required).\n",
    "\n",
    "To keep this first lab simple, we will use Google Colab.\n",
    "\n",
    "Steps to open the notebook in Colab:\n",
    "1. At the top right of this page, click the **\"Edit\" pencil icon**.\n",
    "   This will open the notebook's source page on GitHub.\n",
    "2. On the GitHub page, find the **\"Open in Colab\" badge** near the\n",
    "   top.  Clicking this badge will open the notebook in Google Colab.\n",
    "3. In Colab, run any code cell by either:\n",
    "   * pressing \"Shift + Enter\", or\n",
    "   * clicking the **▶ Run** button on the left of the cell.\n",
    "\n",
    "With these steps, you can run Python code directly in your browser,\n",
    "without needing to install anything locally."
   ]
  },
  {
   "cell_type": "markdown",
   "id": "11",
   "metadata": {},
   "source": [
    "### Markdown\n",
    "\n",
    "In a Jupyter notebook (and hance Google Colab), there are mainly two\n",
    "types of cells.\n",
    "* By default, cells contain executable \"Code\".\n",
    "  Pressing \"Shift + Enter\" would run the code.\n",
    "* The cells that display documentation, such as this one, are\n",
    "  \"Markdown\" cells.\n",
    "  Pressing \"Shift + Enter\" would render the documentation.\n",
    "\n",
    "Depending on which the Jupyter Lab Plugins you have, you may use\n",
    "[basic markdown](https://docs.github.com/en/get-started/writing-on-github/getting-started-with-writing-and-formatting-on-github/basic-writing-and-formatting-syntax)\n",
    "to write basic documentations or\n",
    "[MyST](https://myst-parser.readthedocs.io/en/v0.13.3/using/syntax.html)\n",
    "to create fancy scientific paper.\n",
    "\n",
    "Basic markdown syntax includes:\n",
    "```\n",
    "# A first-level heading\n",
    "## A second-level heading\n",
    "### A third-level heading\n",
    "\n",
    "**bold text** or __bold text__\n",
    "*italic* or _italic_\n",
    "\n",
    "> Text that is a quote\n",
    "\n",
    "[A link](URL)\n",
    "![An image](URL)\n",
    "```"
   ]
  },
  {
   "cell_type": "raw",
   "id": "12",
   "metadata": {},
   "source": [
    "HANDSON:\n",
    "Turn this cell into a markdown cell.\n",
    "Write a short introduction about yourself and your research interest.\n",
    "Try different formatting methods.\n",
    "* Can you display equations?\n",
    "* Can you use non-ASCII characters, e.g., emoji?\n",
    "* Why does CK always add a newline after a period?\n",
    "* Why does CK always break a long sentence?"
   ]
  },
  {
   "cell_type": "markdown",
   "id": "13",
   "metadata": {},
   "source": [
    "## An Introduction to Python\n",
    "\n",
    "Python is a high-level programming language created in the late 1980s\n",
    "by Guido van Rossum.\n",
    "It was first released in 1991 with the goal of being both powerful and\n",
    "easy to read.\n",
    "Its name comes from\n",
    "[*Monty Python's Flying Circus*](https://en.wikipedia.org/wiki/Monty_Python%27s_Flying_Circus)\n",
    "(not from the snake)."
   ]
  },
  {
   "cell_type": "markdown",
   "id": "14",
   "metadata": {},
   "source": [
    "Today, Python is one of the most widely used programming languages in\n",
    "the world.\n",
    "It is especially popular in data science, artificial intelligence, and\n",
    "scientific computing, largely because:\n",
    "* The syntax is simple and readable, making it beginner-friendly.\n",
    "* It has a vast ecosystem of libraries (e.g.,\n",
    "  [NumPy](https://numpy.org/), [SciPy](https://scipy.org/),\n",
    "  [pandas](https://pandas.pydata.org/),\n",
    "  [matplotlib](https://matplotlib.org/),\n",
    "  [scikit-learn](https://scikit-learn.org/),\n",
    "  [TensorFlow](https://www.tensorflow.org/),\n",
    "  [PyTorch](https://pytorch.org/)).\n",
    "* It supports both quick prototyping and large-scale applications.\n",
    "* It is open-source and has a strong worldwide community.\n",
    "\n",
    "<img src=\"fig/python_is_easy.jpg\" alt=\"Python is easy\" style=\"width:350px;\"/>"
   ]
  },
  {
   "cell_type": "markdown",
   "id": "15",
   "metadata": {},
   "source": [
    "In astrophysics and many other sciences, Python has become the\n",
    "standard language for data analysis, modeling, and visualization."
   ]
  },
  {
   "cell_type": "markdown",
   "id": "16",
   "metadata": {},
   "source": [
    "Python code can be written and executed interactively in Jupyter\n",
    "notebooks.\n",
    "In fact, the name \"Jupyter\" comes from the three programming langauge\n",
    "[Julia](https://julialang.org/), [Python](https://www.python.org/),\n",
    "and [R](https://www.r-project.org/).\n",
    "Let's begin with the basics.\n",
    "\n",
    "You may skip this if you already know Python."
   ]
  },
  {
   "cell_type": "markdown",
   "id": "17",
   "metadata": {},
   "source": [
    "### 1. Printing\n",
    "\n",
    "Use the `print()` function to display output."
   ]
  },
  {
   "cell_type": "code",
   "execution_count": 1,
   "id": "18",
   "metadata": {},
   "outputs": [
    {
     "name": "stdout",
     "output_type": "stream",
     "text": [
      "Hello, world!  Welcome to ASTR 501!\n"
     ]
    }
   ],
   "source": [
    "# Example: Print a message\n",
    "\n",
    "print(\"Hello, world!  Welcome to ASTR 501!\")"
   ]
  },
  {
   "cell_type": "code",
   "execution_count": 2,
   "id": "19",
   "metadata": {},
   "outputs": [
    {
     "name": "stdout",
     "output_type": "stream",
     "text": [
      "Your custom message here\n"
     ]
    }
   ],
   "source": [
    "# HANDSON: Change the message\n",
    "\n",
    "print(\"Your custom message here\")"
   ]
  },
  {
   "cell_type": "code",
   "execution_count": 3,
   "id": "20",
   "metadata": {},
   "outputs": [],
   "source": [
    "# HANDSON: What happen if you just type a message without print?\n"
   ]
  },
  {
   "cell_type": "code",
   "execution_count": 4,
   "id": "d3f6734c-2de7-4526-9de9-436b6050e020",
   "metadata": {},
   "outputs": [],
   "source": [
    "# HANDSON: Instead of print(), try to use display().\n",
    "#          Do you know what is the difference?\n"
   ]
  },
  {
   "cell_type": "markdown",
   "id": "21",
   "metadata": {},
   "source": [
    "### 2. Variables and Data Types\n",
    "\n",
    "Python supports various data types such as integers, floats, strings, and booleans."
   ]
  },
  {
   "cell_type": "code",
   "execution_count": 5,
   "id": "22",
   "metadata": {},
   "outputs": [
    {
     "name": "stdout",
     "output_type": "stream",
     "text": [
      "i = 1\n",
      "j = 71671831749689734737838152978190216899892655911508785116799651230841339877765150252188079784691427704832\n",
      "x = 3.14\n",
      "y = 4000000.0\n",
      "z = (5+6j)\n",
      "astr = Astronomy\n",
      "is_cool = True\n"
     ]
    }
   ],
   "source": [
    "# Example: variable assignment with different types\n",
    "\n",
    "i       = 1           # Integer\n",
    "j       = 2**345      # Integers have arbitrary precision\n",
    "x       = 3.14        # Float\n",
    "y       = 4e6         # Float in scientific notation\n",
    "z       = 5 + 6j      # Complex number\n",
    "astr    = \"Astronomy\" # String\n",
    "is_cool = True        # Boolean\n",
    "\n",
    "print(\"i =\", i)\n",
    "print(\"j =\", j)\n",
    "print(\"x =\", x)\n",
    "print(\"y =\", y)\n",
    "print(\"z =\", z)\n",
    "print(\"astr =\", astr)\n",
    "print(\"is_cool =\", is_cool)"
   ]
  },
  {
   "cell_type": "code",
   "execution_count": 6,
   "id": "23",
   "metadata": {},
   "outputs": [
    {
     "name": "stdout",
     "output_type": "stream",
     "text": [
      "Year: Ellipsis\n",
      "Height: Ellipsis\n",
      "Name: Ellipsis\n",
      "Is student: Ellipsis\n"
     ]
    }
   ],
   "source": [
    "# HANDSON: Define and print variables\n",
    "\n",
    "year       = ...\n",
    "height     = ...\n",
    "name       = ...\n",
    "is_student = ...\n",
    "\n",
    "print(\"Year:\", year)\n",
    "print(\"Height:\", height)\n",
    "print(\"Name:\", name)\n",
    "print(\"Is student:\", is_student)"
   ]
  },
  {
   "cell_type": "markdown",
   "id": "24",
   "metadata": {},
   "source": [
    "### 3. Basic Arithmetic\n",
    "\n",
    "Python can handle basic mathematical operations."
   ]
  },
  {
   "cell_type": "code",
   "execution_count": 7,
   "id": "25",
   "metadata": {},
   "outputs": [
    {
     "name": "stdout",
     "output_type": "stream",
     "text": [
      "Addition: 2\n",
      "Subtraction: 1\n",
      "Multiplication: 12\n",
      "Division: 2.5\n",
      "Division2: 2\n",
      "Remainder: 1\n",
      "Power: 25\n"
     ]
    }
   ],
   "source": [
    "# Examples of arithmetic\n",
    "\n",
    "addition       = 1 + 1\n",
    "subtraction    = 2 - 1\n",
    "multiplication = 3 * 4\n",
    "division       = 5 / 2 # this is called \"truediv\"\n",
    "division2      = 5 //2 # this is called \"floordiv\"\n",
    "remainder      = 5 % 2 # this is called \"mod\"\n",
    "power          = 5 **2\n",
    "\n",
    "print(\"Addition:\",       addition)\n",
    "print(\"Subtraction:\",    subtraction)\n",
    "print(\"Multiplication:\", multiplication)\n",
    "print(\"Division:\",       division)\n",
    "print(\"Division2:\",      division2)\n",
    "print(\"Remainder:\",      remainder)\n",
    "print(\"Power:\",          power)"
   ]
  },
  {
   "cell_type": "code",
   "execution_count": 8,
   "id": "26",
   "metadata": {},
   "outputs": [],
   "source": [
    "# HANDSON: test out true division `/`, floor division `//`, and \"mod\"\n",
    "#          `%` with different combinations of integers and floating\n",
    "#          point numbers.\n",
    "#          Do the results make sense?\n",
    "#          Can you provide an equation that summarizes the logic of\n",
    "#          these operators?\n"
   ]
  },
  {
   "cell_type": "markdown",
   "id": "27",
   "metadata": {},
   "source": [
    "### 4. Lists\n",
    "\n",
    "Lists are ordered collections of items."
   ]
  },
  {
   "cell_type": "code",
   "execution_count": 9,
   "id": "28",
   "metadata": {},
   "outputs": [
    {
     "name": "stdout",
     "output_type": "stream",
     "text": [
      "Original list: [1, 2, 3, 4, 5]\n",
      "First element: 1\n",
      "Last element: 5\n",
      "List after appending: [1, 2, 3, 4, 5, 6]\n",
      "List after removing last element: [1, 2, 3, 4, 5]\n",
      "List after removing 1 : [2, 3, 4, 5]\n"
     ]
    }
   ],
   "source": [
    "# Example: Creating a list\n",
    "numbers = [1, 2, 3, 4, 5]\n",
    "print(\"Original list:\", numbers)\n",
    "\n",
    "# Accessing elements\n",
    "print(\"First element:\", numbers[0])\n",
    "print(\"Last element:\", numbers[-1])\n",
    "\n",
    "# Adding elements\n",
    "numbers.append(6)\n",
    "print(\"List after appending:\", numbers)\n",
    "\n",
    "# Removing last elements\n",
    "numbers.pop()\n",
    "print(\"List after removing last element:\", numbers)\n",
    "\n",
    "# Removing specific elements\n",
    "numbers.remove(i) # note that `i` was defined above\n",
    "print(\"List after removing\", i, \":\", numbers)"
   ]
  },
  {
   "cell_type": "code",
   "execution_count": 10,
   "id": "29",
   "metadata": {},
   "outputs": [
    {
     "name": "stdout",
     "output_type": "stream",
     "text": [
      "Fruits: Ellipsis\n",
      "Fruits: Ellipsis\n",
      "Fruits: Ellipsis\n"
     ]
    }
   ],
   "source": [
    "# HANDSON: create your own list and manipulate it.\n",
    "\n",
    "# Create a list\n",
    "fruits = ...\n",
    "print(\"Fruits:\", fruits)\n",
    "\n",
    "# Add an element to the list\n",
    "...\n",
    "print(\"Fruits:\", fruits)\n",
    "\n",
    "# Remove an item\n",
    "...\n",
    "print(\"Fruits:\", fruits)"
   ]
  },
  {
   "cell_type": "code",
   "execution_count": 11,
   "id": "6d52a309-2fa1-4a01-8023-50570b87aab1",
   "metadata": {},
   "outputs": [],
   "source": [
    "# HANDSON: lists also support operators.\n",
    "#          Try using `+` and `*` on lists.\n",
    "#          What do you get?\n"
   ]
  },
  {
   "cell_type": "code",
   "execution_count": 12,
   "id": "8bc769b6-077f-4c3a-b75a-1e791fc157ff",
   "metadata": {},
   "outputs": [],
   "source": [
    "# HANDSON: Python has a data structure very similar to list\n",
    "#          called `tuple`.\n",
    "#          The syntax to create it is `t = (1, 2, 3, ...)`.\n",
    "#          Create a tuple and compare it with a list.\n",
    "#          What's the difference?\n"
   ]
  },
  {
   "cell_type": "markdown",
   "id": "30",
   "metadata": {},
   "source": [
    "### 5. For Loops\n",
    "\n",
    "Loops allow you to iterate over a sequence of items."
   ]
  },
  {
   "cell_type": "code",
   "execution_count": 13,
   "id": "31",
   "metadata": {},
   "outputs": [
    {
     "name": "stdout",
     "output_type": "stream",
     "text": [
      "Number: 2\n",
      "Number: 3\n",
      "Number: 4\n",
      "Number: 5\n"
     ]
    }
   ],
   "source": [
    "# Example: Loop through a list\n",
    "\n",
    "for number in numbers:\n",
    "    print(\"Number:\", number)"
   ]
  },
  {
   "cell_type": "code",
   "execution_count": 14,
   "id": "32",
   "metadata": {},
   "outputs": [
    {
     "name": "stdout",
     "output_type": "stream",
     "text": [
      "Number: 0\n",
      "Number: 1\n",
      "Number: 2\n",
      "Number: 3\n",
      "Number: 4\n",
      "Number: 5\n",
      "Number: 6\n",
      "Number: 7\n",
      "Number: 8\n",
      "Number: 9\n"
     ]
    }
   ],
   "source": [
    "# Example: Use an iterable instead of a list\n",
    "\n",
    "for number in range(10):\n",
    "    print(\"Number:\", number)"
   ]
  },
  {
   "cell_type": "code",
   "execution_count": 15,
   "id": "33",
   "metadata": {},
   "outputs": [
    {
     "ename": "IndentationError",
     "evalue": "unexpected indent (2681016388.py, line 6)",
     "output_type": "error",
     "traceback": [
      "  \u001b[36mCell\u001b[39m\u001b[36m \u001b[39m\u001b[32mIn[15]\u001b[39m\u001b[32m, line 6\u001b[39m\n\u001b[31m    \u001b[39m\u001b[31mprint(f\"Square of {i} is {i ** 2}\")\u001b[39m\n    ^\n\u001b[31mIndentationError\u001b[39m\u001b[31m:\u001b[39m unexpected indent\n"
     ]
    }
   ],
   "source": [
    "# HANDSON: Write a loop to print squares of numbers.\n",
    "#          Note that we use something called a \"formatted string\",\n",
    "#          or \"f-strings\", here.\n",
    "\n",
    "...\n",
    "    print(f\"Square of {i} is {i ** 2}\")"
   ]
  },
  {
   "cell_type": "markdown",
   "id": "34",
   "metadata": {},
   "source": [
    "### 6. Functions\n",
    "\n",
    "Functions allow you to reuse code."
   ]
  },
  {
   "cell_type": "code",
   "execution_count": 16,
   "id": "35",
   "metadata": {},
   "outputs": [
    {
     "name": "stdout",
     "output_type": "stream",
     "text": [
      "Hello, Ellipsis!  Welcome to ASTR 501!\n"
     ]
    }
   ],
   "source": [
    "# Example: Define a function\n",
    "def greet(name):\n",
    "    return f\"Hello, {name}!  Welcome to ASTR 501!\"\n",
    "\n",
    "# Call the function\n",
    "message = greet(name)\n",
    "print(message)"
   ]
  },
  {
   "cell_type": "code",
   "execution_count": 17,
   "id": "36",
   "metadata": {},
   "outputs": [
    {
     "name": "stdout",
     "output_type": "stream",
     "text": [
      "Area of circle with radius 5: None\n"
     ]
    }
   ],
   "source": [
    "# HANDSON: Function to calculate circle area\n",
    "\n",
    "def circle_area(radius):\n",
    "    ...\n",
    "\n",
    "# Test the function\n",
    "area = circle_area(5)\n",
    "print(\"Area of circle with radius 5:\", area)"
   ]
  },
  {
   "cell_type": "markdown",
   "id": "37",
   "metadata": {},
   "source": [
    "### 7. NumPy: Numerical Computing\n",
    "\n",
    "Python's power comes from its libraries.\n",
    "For scientific computing, `numpy` and `matplotlib` are probably the\n",
    "two most important libraries.\n",
    "Let's explore their capabilities.\n",
    "\n",
    "NumPy provides support for large multi-dimensional arrays and\n",
    "matrices, along with mathematical functions to operate on them."
   ]
  },
  {
   "cell_type": "code",
   "execution_count": 18,
   "id": "38",
   "metadata": {},
   "outputs": [
    {
     "name": "stdout",
     "output_type": "stream",
     "text": [
      "Array: [1 2 3 4 5]\n",
      "Squared Array: [ 1  4  9 16 25]\n",
      "Linspace: [ 0.  1.  2.  3.  4.  5.  6.  7.  8.  9. 10.]\n"
     ]
    }
   ],
   "source": [
    "# Example: Using NumPy\n",
    "import numpy as np\n",
    "\n",
    "# Create an array\n",
    "array = np.array([1, 2, 3, 4, 5])\n",
    "print(\"Array:\", array)\n",
    "\n",
    "# Perform operations\n",
    "squared = array ** 2\n",
    "print(\"Squared Array:\", squared)\n",
    "\n",
    "# Generate a range of numbers\n",
    "linspace = np.linspace(0, 10, 11)\n",
    "print(\"Linspace:\", linspace)"
   ]
  },
  {
   "cell_type": "markdown",
   "id": "39",
   "metadata": {},
   "source": [
    "NumPy's core functions are written in C (see, e.g.,\n",
    "[here](https://github.com/numpy/numpy/tree/main/numpy/_core/src)).\n",
    "Using NumPy for large arrays is much faster than for loop in python."
   ]
  },
  {
   "cell_type": "code",
   "execution_count": 19,
   "id": "40",
   "metadata": {},
   "outputs": [],
   "source": [
    "array = range(10_000)  # you may add underscore to integers to improve readibility."
   ]
  },
  {
   "cell_type": "code",
   "execution_count": 23,
   "id": "41",
   "metadata": {},
   "outputs": [
    {
     "name": "stdout",
     "output_type": "stream",
     "text": [
      "CPU times: user 2.1 ms, sys: 124 μs, total: 2.22 ms\n",
      "Wall time: 2.23 ms\n"
     ]
    }
   ],
   "source": [
    "%%time\n",
    "# `%%time` is a \"magic command\" of IPython.\n",
    "# it prints the wall time for the entire cell.\n",
    "\n",
    "squared = []\n",
    "for a in array:\n",
    "    squared.append(a*a)"
   ]
  },
  {
   "cell_type": "code",
   "execution_count": 24,
   "id": "42",
   "metadata": {},
   "outputs": [],
   "source": [
    "array = np.arange(10_000)"
   ]
  },
  {
   "cell_type": "code",
   "execution_count": 25,
   "id": "43",
   "metadata": {},
   "outputs": [
    {
     "name": "stdout",
     "output_type": "stream",
     "text": [
      "CPU times: user 184 μs, sys: 14 μs, total: 198 μs\n",
      "Wall time: 191 μs\n"
     ]
    }
   ],
   "source": [
    "%%time\n",
    "\n",
    "squared = array * array"
   ]
  },
  {
   "cell_type": "code",
   "execution_count": 26,
   "id": "44",
   "metadata": {},
   "outputs": [
    {
     "name": "stdout",
     "output_type": "stream",
     "text": [
      "Numbers: Ellipsis\n",
      "Squares: Ellipsis\n",
      "Square Roots: Ellipsis\n"
     ]
    }
   ],
   "source": [
    "# HANDSON: NumPy calculations\n",
    "\n",
    "# Create an array of numbers from 1 to 10\n",
    "numbers = ...\n",
    "\n",
    "# Calculate their squares and square roots\n",
    "squares = ...\n",
    "roots   = ...\n",
    "\n",
    "print(\"Numbers:\", numbers)\n",
    "print(\"Squares:\", squares)\n",
    "print(\"Square Roots:\", roots)"
   ]
  },
  {
   "cell_type": "markdown",
   "id": "45",
   "metadata": {},
   "source": [
    "### 8. Matplotlib: Data Visualization\n",
    "\n",
    "Matplotlib is a plotting library for creating static, animated, and\n",
    "interactive visualizations."
   ]
  },
  {
   "cell_type": "code",
   "execution_count": 27,
   "id": "46",
   "metadata": {},
   "outputs": [
    {
     "data": {
      "image/png": "[encoded data removed]",
      "text/plain": [
       "<Figure size 640x480 with 1 Axes>"
      ]
     },
     "metadata": {},
     "output_type": "display_data"
    },
    {
     "data": {
      "text/plain": [
       "<Figure size 640x480 with 0 Axes>"
      ]
     },
     "metadata": {},
     "output_type": "display_data"
    }
   ],
   "source": [
    "# Example: Plotting with Matplotlib\n",
    "import matplotlib.pyplot as plt\n",
    "\n",
    "# Create data with NumPy\n",
    "x = np.linspace(0, 10, 100)\n",
    "y = np.sin(x)\n",
    "\n",
    "# Create a plot with Matplotlib\n",
    "plt.plot(x, y, '-o', label='sin(x)')\n",
    "plt.title(\"Sine Wave\")\n",
    "plt.xlabel(\"x\")\n",
    "plt.ylabel(\"sin(x)\")\n",
    "plt.legend()\n",
    "plt.grid()\n",
    "\n",
    "# Show and save figure\n",
    "plt.show()  # optional in jupyter notebook\n",
    "plt.savefig('sin.pdf')"
   ]
  },
  {
   "cell_type": "code",
   "execution_count": 28,
   "id": "47",
   "metadata": {},
   "outputs": [
    {
     "data": {
      "text/plain": [
       "Ellipsis"
      ]
     },
     "execution_count": 28,
     "metadata": {},
     "output_type": "execute_result"
    }
   ],
   "source": [
    "# HANDSON: Create a plot\n",
    "\n",
    "# Let's try to plot two curves in a single plot\n",
    "x  = np.linspace(0, 2 * np.pi, 100)\n",
    "y1 = np.sin(x)\n",
    "y2 = np.cos(x)\n",
    "\n",
    "# Plot both sine and cosine\n",
    "...\n",
    "...\n",
    "\n",
    "# Customize the plot\n",
    "...\n",
    "\n",
    "# Show and save figure\n",
    "..."
   ]
  }
 ],
 "metadata": {
  "kernelspec": {
   "display_name": "Python 3 (ipykernel)",
   "language": "python",
   "name": "python3"
  },
  "language_info": {
   "codemirror_mode": {
    "name": "ipython",
    "version": 3
   },
   "file_extension": ".py",
   "mimetype": "text/x-python",
   "name": "python",
   "nbconvert_exporter": "python",
   "pygments_lexer": "ipython3",
   "version": "3.13.7"
  }
 },
 "nbformat": 4,
 "nbformat_minor": 5
}
