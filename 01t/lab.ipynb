{
 "cells": [
  {
   "cell_type": "markdown",
   "id": "0",
   "metadata": {},
   "source": [
    "# Jupyter Notebook and Python [![Open In Colab](https://colab.research.google.com/assets/colab-badge.svg)](https://colab.research.google.com/github/ua-2025q3-astr501-513/ua-2025q3-astr501-513.github.io/blob/main/01t/lab.ipynb)"
   ]
  },
  {
   "cell_type": "markdown",
   "id": "1",
   "metadata": {},
   "source": [
    "<img src=\"fig/jupytermeme.png\" alt=\"Jupyter Meme\" style=\"width:486px;\"/>"
   ]
  },
  {
   "cell_type": "markdown",
   "id": "2",
   "metadata": {},
   "source": [
    "## Introduction to Jupyter\n",
    "\n",
    "The [Jupyter Project](https://jupyter.org/) provides tools, including\n",
    "[Jupyter Notebook](https://jupyter-notebook.readthedocs.io/) and\n",
    "[JupyterLab](https://jupyterlab.readthedocs.io/), for interactive\n",
    "computing.\n",
    "\n",
    "A Jupyter notebook is a single document that can mix together:\n",
    "* Code that you can run\n",
    "* Text explanations\n",
    "* Math equations\n",
    "* Data and plots\n",
    "* Images and interactive widgets\n",
    "Think of it as a lab notebook that can **explain an idea, run the\n",
    "code, and show the results all in one place.**\n",
    "\n",
    "Proprietary programs like Mathematica and MATLAB have had similar\n",
    "notebook features for years.\n",
    "The difference is that Jupyter is **open-source**, built in\n",
    "**Python**, and freely available.\n",
    "This makes it one of the most popular tools in data science,\n",
    "astrophysics, and beyond."
   ]
  }
 ],
 "metadata": {
  "kernelspec": {
   "display_name": "Python 3 (ipykernel)",
   "language": "python",
   "name": "python3"
  },
  "language_info": {
   "codemirror_mode": {
    "name": "ipython",
    "version": 3
   },
   "file_extension": ".py",
   "mimetype": "text/x-python",
   "name": "python",
   "nbconvert_exporter": "python",
   "pygments_lexer": "ipython3",
   "version": "3.13.7"
  }
 },
 "nbformat": 4,
 "nbformat_minor": 5
}
